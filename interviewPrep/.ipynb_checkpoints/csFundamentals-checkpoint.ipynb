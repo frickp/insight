{
 "cells": [
  {
   "cell_type": "code",
   "execution_count": null,
   "metadata": {
    "collapsed": true
   },
   "outputs": [],
   "source": []
  },
  {
   "cell_type": "code",
   "execution_count": 1,
   "metadata": {
    "collapsed": true
   },
   "outputs": [],
   "source": [
    "import numpy as np"
   ]
  },
  {
   "cell_type": "code",
   "execution_count": null,
   "metadata": {
    "collapsed": false
   },
   "outputs": [],
   "source": [
    "def power(x,y):\n",
    "    \"\"\"Function to return x^y\"\"\"\n",
    "    if y == 1:\n",
    "        return x\n",
    "    else:\n",
    "        temp = power(x,y-1)\n",
    "        return temp * x"
   ]
  },
  {
   "cell_type": "code",
   "execution_count": null,
   "metadata": {
    "collapsed": false
   },
   "outputs": [],
   "source": [
    "power(3,4)"
   ]
  },
  {
   "cell_type": "code",
   "execution_count": null,
   "metadata": {
    "collapsed": false
   },
   "outputs": [],
   "source": [
    "a = [1,2,3,4,6,11]"
   ]
  },
  {
   "cell_type": "code",
   "execution_count": 8,
   "metadata": {
    "collapsed": false
   },
   "outputs": [],
   "source": [
    "def listSum(x):\n",
    "    if len(x) == 1:\n",
    "        return x[0]\n",
    "    else:\n",
    "        return x[0] + listSum(x[1:])"
   ]
  },
  {
   "cell_type": "code",
   "execution_count": 9,
   "metadata": {
    "collapsed": false
   },
   "outputs": [
    {
     "data": {
      "text/plain": [
       "27"
      ]
     },
     "execution_count": 9,
     "metadata": {},
     "output_type": "execute_result"
    }
   ],
   "source": [
    "listSum(a)"
   ]
  },
  {
   "cell_type": "code",
   "execution_count": 10,
   "metadata": {
    "collapsed": false
   },
   "outputs": [
    {
     "data": {
      "text/plain": [
       "5"
      ]
     },
     "execution_count": 10,
     "metadata": {},
     "output_type": "execute_result"
    }
   ],
   "source": [
    "[5][0]"
   ]
  },
  {
   "cell_type": "code",
   "execution_count": 11,
   "metadata": {
    "collapsed": false
   },
   "outputs": [
    {
     "data": {
      "text/plain": [
       "4"
      ]
     },
     "execution_count": 11,
     "metadata": {},
     "output_type": "execute_result"
    }
   ],
   "source": [
    "3+1"
   ]
  },
  {
   "cell_type": "code",
   "execution_count": 172,
   "metadata": {
    "collapsed": false
   },
   "outputs": [],
   "source": [
    "def fib(n):\n",
    "    \"\"\"Calculate Fibonacci value given the element number\"\"\"\n",
    "    if n==0:\n",
    "        return 0\n",
    "    elif n==1:\n",
    "        return 1\n",
    "    else:\n",
    "        return fib(n-1) + fib(n-2)\n",
    "    "
   ]
  },
  {
   "cell_type": "code",
   "execution_count": 174,
   "metadata": {
    "collapsed": false
   },
   "outputs": [
    {
     "name": "stdout",
     "output_type": "stream",
     "text": [
      "0\n",
      "1\n",
      "1\n",
      "2\n",
      "3\n",
      "5\n",
      "8\n",
      "13\n"
     ]
    }
   ],
   "source": [
    "#fib(6)\n",
    "for i in range(8):\n",
    "    print fib(i)"
   ]
  },
  {
   "cell_type": "code",
   "execution_count": 178,
   "metadata": {
    "collapsed": false
   },
   "outputs": [],
   "source": [
    "#def countSteps(n,curr,count):\n",
    "#    if curr < n:\n",
    "#        countSteps(n,curr+1,count)\n",
    "#        countSteps(n,curr+2,count)\n",
    "#        count += 1\n",
    "#    print count\n",
    "        \n",
    "def countSteps(n):\n",
    "    if n==1:\n",
    "        return 1\n",
    "    elif n==2:\n",
    "        return 2\n",
    "    else:\n",
    "        return countSteps(n-1) + countSteps(n-2)\n",
    "#        return countSteps(n-1,count), countSteps(n-2,count)\n",
    "    #return sum(countSteps(n-1,curr-1,count), countSteps(n-2,curr-2,count))"
   ]
  },
  {
   "cell_type": "code",
   "execution_count": 180,
   "metadata": {
    "collapsed": false
   },
   "outputs": [
    {
     "data": {
      "text/plain": [
       "34"
      ]
     },
     "execution_count": 180,
     "metadata": {},
     "output_type": "execute_result"
    }
   ],
   "source": [
    "countSteps(8)"
   ]
  },
  {
   "cell_type": "code",
   "execution_count": 52,
   "metadata": {
    "collapsed": false
   },
   "outputs": [
    {
     "data": {
      "text/plain": [
       "array([1, 9, 6, 3, 2, 7, 8, 0, 5, 4])"
      ]
     },
     "execution_count": 52,
     "metadata": {},
     "output_type": "execute_result"
    }
   ],
   "source": [
    "randNum=np.arange(10)\n",
    "np.random.shuffle(randNum)\n",
    "randNum"
   ]
  },
  {
   "cell_type": "code",
   "execution_count": 95,
   "metadata": {
    "collapsed": false
   },
   "outputs": [
    {
     "name": "stdout",
     "output_type": "stream",
     "text": [
      "[4 3 5 6 8 0 9 2 1 7]\n",
      "[3 4 5 6 0 8 2 1 7 9]\n",
      "[3 4 5 0 6 2 1 7 8 9]\n",
      "[3 4 0 5 2 1 6 7 8 9]\n",
      "[3 0 4 2 1 5 6 7 8 9]\n",
      "[0 3 2 1 4 5 6 7 8 9]\n",
      "[0 2 1 3 4 5 6 7 8 9]\n",
      "[0 1 2 3 4 5 6 7 8 9]\n",
      "[0 1 2 3 4 5 6 7 8 9]\n",
      "[0 1 2 3 4 5 6 7 8 9]\n"
     ]
    },
    {
     "data": {
      "text/plain": [
       "array([0, 1, 2, 3, 4, 5, 6, 7, 8, 9])"
      ]
     },
     "execution_count": 95,
     "metadata": {},
     "output_type": "execute_result"
    }
   ],
   "source": [
    "randNum=np.arange(10)\n",
    "np.random.shuffle(randNum)\n",
    "print randNum\n",
    "\n",
    "origList = randNum\n",
    "for i in range(0,len(randNum)-1):\n",
    "    idx=0\n",
    "    while idx < len(randNum)-1:\n",
    "        if randNum[idx+1] < randNum[idx]:\n",
    "            temp = randNum[idx]\n",
    "            randNum[idx] = randNum[idx+1]\n",
    "            randNum[idx+1]=temp\n",
    "        else:\n",
    "            pass\n",
    "        idx += 1\n",
    "    print randNum\n",
    "randNum\n",
    "\n",
    "# Add condition so that you don't need to check 1) the final few numbers conditions 2) the final few sequences"
   ]
  },
  {
   "cell_type": "code",
   "execution_count": 74,
   "metadata": {
    "collapsed": false
   },
   "outputs": [
    {
     "name": "stdout",
     "output_type": "stream",
     "text": [
      "[9 4 0 2 8 1 3 7 5 6]\n",
      "[4 0 2 8 1 3 7 5 6 9] True\n",
      "[0 2 4 1 3 7 5 6 8 9] True\n",
      "[0 2 1 3 4 5 6 7 8 9] True\n",
      "[0 1 2 3 4 5 6 7 8 9] True\n",
      "[0 1 2 3 4 5 6 7 8 9] False\n"
     ]
    },
    {
     "data": {
      "text/plain": [
       "array([0, 1, 2, 3, 4, 5, 6, 7, 8, 9])"
      ]
     },
     "execution_count": 74,
     "metadata": {},
     "output_type": "execute_result"
    }
   ],
   "source": [
    "\n",
    "\n",
    "randNum=np.arange(10)\n",
    "np.random.shuffle(randNum)\n",
    "print randNum\n",
    "\n",
    "change = True\n",
    "while change == True:\n",
    "    change = False\n",
    "    idx=0\n",
    "    while idx < len(randNum)-1:\n",
    "        if randNum[idx+1] < randNum[idx]:\n",
    "            temp = randNum[idx]\n",
    "            randNum[idx] = randNum[idx+1]\n",
    "            randNum[idx+1]=temp\n",
    "            change = True\n",
    "        else:\n",
    "            pass\n",
    "            #continue\n",
    "        #print idx\n",
    "        idx += 1\n",
    "    print randNum, change\n",
    "randNum\n",
    "\n",
    "# Add condition so that you don't need to check 1) the final few numbers conditions 2) the final few sequences"
   ]
  },
  {
   "cell_type": "code",
   "execution_count": 97,
   "metadata": {
    "collapsed": false
   },
   "outputs": [],
   "source": [
    "def bubbleSorter(randNum):\n",
    "    change = True\n",
    "    while change == True:\n",
    "        change = False\n",
    "        idx=0\n",
    "        while idx < len(randNum)-1:\n",
    "            if randNum[idx+1] < randNum[idx]:\n",
    "                temp = randNum[idx]\n",
    "                randNum[idx] = randNum[idx+1]\n",
    "                randNum[idx+1]=temp\n",
    "                change = True\n",
    "            else:\n",
    "                pass\n",
    "                #continue\n",
    "            #print idx\n",
    "            idx += 1\n",
    "        print randNum, change\n",
    "    randNum"
   ]
  },
  {
   "cell_type": "code",
   "execution_count": 99,
   "metadata": {
    "collapsed": false
   },
   "outputs": [
    {
     "name": "stdout",
     "output_type": "stream",
     "text": [
      "[7 0 4 9 1 3 2 6 8 5]\n",
      "[0 4 7 1 3 2 6 8 5 9] True\n",
      "[0 4 1 3 2 6 7 5 8 9] True\n",
      "[0 1 3 2 4 6 5 7 8 9] True\n",
      "[0 1 2 3 4 5 6 7 8 9] True\n",
      "[0 1 2 3 4 5 6 7 8 9] False\n"
     ]
    }
   ],
   "source": [
    "randNum=np.arange(10)\n",
    "np.random.shuffle(randNum)\n",
    "print randNum\n",
    "bubbleSorter(randNum)"
   ]
  },
  {
   "cell_type": "code",
   "execution_count": 131,
   "metadata": {
    "collapsed": false
   },
   "outputs": [
    {
     "name": "stdout",
     "output_type": "stream",
     "text": [
      "[7 0 4 3 8 6 9 2 1 5]\n",
      "8 5 9 6\n",
      "[7 0 4 3 8 6 5 2 1 9]\n"
     ]
    }
   ],
   "source": [
    "# selection sort working\n",
    "randNum=np.arange(10)\n",
    "np.random.shuffle(randNum)\n",
    "print randNum\n",
    "\n",
    "maxVal = randNum[0]\n",
    "maxIdx = 0\n",
    "myCount = 0\n",
    "for idx, num in enumerate(randNum[1:]):\n",
    "    if num>maxVal:\n",
    "        maxVal=num\n",
    "        maxIdx=idx+1\n",
    "\n",
    "temp = randNum[maxIdx]\n",
    "randNum[maxIdx]=randNum[len(randNum)-1]\n",
    "randNum[len(randNum)-1]=maxVal\n",
    "\n",
    "\n",
    "print idx, num, maxVal, maxIdx\n",
    "print randNum\n",
    "\n"
   ]
  },
  {
   "cell_type": "code",
   "execution_count": 137,
   "metadata": {
    "collapsed": false
   },
   "outputs": [
    {
     "name": "stdout",
     "output_type": "stream",
     "text": [
      "[6 9 0 8 2 5 1 7 3 4]\n"
     ]
    },
    {
     "ename": "KeyboardInterrupt",
     "evalue": "",
     "output_type": "error",
     "traceback": [
      "\u001b[0;31m---------------------------------------------------------------------------\u001b[0m",
      "\u001b[0;31mKeyboardInterrupt\u001b[0m                         Traceback (most recent call last)",
      "\u001b[0;32m<ipython-input-137-2f71698b4fd4>\u001b[0m in \u001b[0;36m<module>\u001b[0;34m()\u001b[0m\n\u001b[1;32m     10\u001b[0m     \u001b[0mmyCount\u001b[0m \u001b[0;34m=\u001b[0m \u001b[0;36m0\u001b[0m\u001b[0;34m\u001b[0m\u001b[0m\n\u001b[1;32m     11\u001b[0m     \u001b[0mchangePos\u001b[0m\u001b[0;34m=\u001b[0m\u001b[0mFalse\u001b[0m\u001b[0;34m\u001b[0m\u001b[0m\n\u001b[0;32m---> 12\u001b[0;31m     \u001b[0;32mfor\u001b[0m \u001b[0midx\u001b[0m\u001b[0;34m,\u001b[0m \u001b[0mnum\u001b[0m \u001b[0;32min\u001b[0m \u001b[0menumerate\u001b[0m\u001b[0;34m(\u001b[0m\u001b[0mrandNum\u001b[0m\u001b[0;34m[\u001b[0m\u001b[0;36m1\u001b[0m\u001b[0;34m:\u001b[0m\u001b[0;34m]\u001b[0m\u001b[0;34m-\u001b[0m\u001b[0mmyCount\u001b[0m\u001b[0;34m)\u001b[0m\u001b[0;34m:\u001b[0m\u001b[0;34m\u001b[0m\u001b[0m\n\u001b[0m\u001b[1;32m     13\u001b[0m         \u001b[0;32mif\u001b[0m \u001b[0mnum\u001b[0m \u001b[0;34m>\u001b[0m \u001b[0mmaxVal\u001b[0m\u001b[0;34m:\u001b[0m\u001b[0;34m\u001b[0m\u001b[0m\n\u001b[1;32m     14\u001b[0m             \u001b[0mmaxVal\u001b[0m\u001b[0;34m=\u001b[0m\u001b[0mnum\u001b[0m\u001b[0;34m\u001b[0m\u001b[0m\n",
      "\u001b[0;31mKeyboardInterrupt\u001b[0m: "
     ]
    }
   ],
   "source": [
    "# selection sort\n",
    "randNum=np.arange(10)\n",
    "np.random.shuffle(randNum)\n",
    "print randNum\n",
    "\n",
    "changePos=True\n",
    "while changePos==True:\n",
    "    maxVal = randNum[0]\n",
    "    maxIdx = 0\n",
    "    myCount = 0\n",
    "    changePos=False\n",
    "    for idx, num in enumerate(randNum[1:]-myCount): #I think what the problem was is that its always looking through the whole list\n",
    "        if num > maxVal:\n",
    "            maxVal=num\n",
    "            maxIdx=idx+1\n",
    "            changePos=True\n",
    "    if changePos==False:\n",
    "        continue\n",
    "    myCount += 1\n",
    "    temp = randNum[maxIdx]\n",
    "    randNum[maxIdx]=randNum[len(randNum)-1]\n",
    "    randNum[len(randNum)-1]=maxVal\n",
    "\n",
    "\n",
    "print idx, num, maxVal, maxIdx\n",
    "print randNum\n",
    "\n",
    "\n"
   ]
  },
  {
   "cell_type": "code",
   "execution_count": 138,
   "metadata": {
    "collapsed": false
   },
   "outputs": [
    {
     "data": {
      "text/plain": [
       "['p', 'e', 'e', 'p']"
      ]
     },
     "execution_count": 138,
     "metadata": {},
     "output_type": "execute_result"
    }
   ],
   "source": [
    "a=['p','e','e','p']\n",
    "\n",
    "a"
   ]
  },
  {
   "cell_type": "code",
   "execution_count": 141,
   "metadata": {
    "collapsed": false
   },
   "outputs": [
    {
     "data": {
      "text/plain": [
       "'e'"
      ]
     },
     "execution_count": 141,
     "metadata": {},
     "output_type": "execute_result"
    }
   ],
   "source": [
    "a[1]"
   ]
  },
  {
   "cell_type": "code",
   "execution_count": 144,
   "metadata": {
    "collapsed": false
   },
   "outputs": [],
   "source": [
    "b='a'"
   ]
  },
  {
   "cell_type": "code",
   "execution_count": 146,
   "metadata": {
    "collapsed": false
   },
   "outputs": [
    {
     "data": {
      "text/plain": [
       "0"
      ]
     },
     "execution_count": 146,
     "metadata": {},
     "output_type": "execute_result"
    }
   ],
   "source": [
    "len([])"
   ]
  },
  {
   "cell_type": "code",
   "execution_count": 416,
   "metadata": {
    "collapsed": false
   },
   "outputs": [
    {
     "name": "stdout",
     "output_type": "stream",
     "text": [
      "[2 6 5 3 1 7 4 9 0 8]\n"
     ]
    }
   ],
   "source": [
    "randNum=np.arange(10)\n",
    "np.random.shuffle(randNum)\n",
    "print randNum"
   ]
  },
  {
   "cell_type": "code",
   "execution_count": 209,
   "metadata": {
    "collapsed": false
   },
   "outputs": [
    {
     "name": "stdout",
     "output_type": "stream",
     "text": [
      "[8 3 4 1 6 7 0 5 9 2]\n",
      "[3 4 1 6 7 0 5 8 2 9]\n",
      "[3 1 4 6 0 5 7 2 8 9]\n",
      "[1 3 4 0 5 6 2 7 8 9]\n",
      "[1 3 0 4 5 2 6 7 8 9]\n",
      "[1 0 3 4 2 5 6 7 8 9]\n",
      "[0 1 3 2 4 5 6 7 8 9]\n",
      "[0 1 2 3 4 5 6 7 8 9]\n"
     ]
    }
   ],
   "source": [
    "# Bubble sorter 2/11\n",
    "\n",
    "randNum=np.arange(10)\n",
    "np.random.shuffle(randNum)\n",
    "print randNum\n",
    "for i in range(len(randNum)-1):\n",
    "    endLen=0\n",
    "    change = False\n",
    "    for i in range(len(randNum)-1-endLen):\n",
    "        if randNum[i] > randNum[i+1]:\n",
    "            temp = randNum[i]\n",
    "            randNum[i] = randNum[i+1]\n",
    "            randNum[i+1] = temp\n",
    "            change = True\n",
    "        endLen +=1\n",
    "    if change == False:\n",
    "        break\n",
    "    print randNum"
   ]
  },
  {
   "cell_type": "code",
   "execution_count": 35,
   "metadata": {
    "collapsed": false
   },
   "outputs": [
    {
     "name": "stdout",
     "output_type": "stream",
     "text": [
      "2 1\n"
     ]
    }
   ],
   "source": [
    "a=1\n",
    "b=2\n",
    "a,b=b,a\n",
    "print a,b"
   ]
  },
  {
   "cell_type": "code",
   "execution_count": 412,
   "metadata": {
    "collapsed": false
   },
   "outputs": [
    {
     "name": "stdout",
     "output_type": "stream",
     "text": [
      "[0, 1, 2, 3, 4]\n",
      "[5, 6, 7, 8, 9, 10]\n"
     ]
    }
   ],
   "source": [
    "#testList = list(randNum)\n",
    "testList = range(11)\n",
    "midPT = len(testList)//2\n",
    "print testList[0:midPT]\n",
    "print testList[(midPT):]"
   ]
  },
  {
   "cell_type": "code",
   "execution_count": 219,
   "metadata": {
    "collapsed": true
   },
   "outputs": [],
   "source": [
    "# Need to make this recursive\n",
    "# 1, end condition\n",
    "# 2, iterate toward end\n",
    "# 3, stop at condition\n",
    "def halver(myList):\n",
    "    if len(myList) > 1:\n",
    "        midPT = len(myList)//2\n",
    "        return [myList[0:midPT], myList[(midPT):]]"
   ]
  },
  {
   "cell_type": "code",
   "execution_count": 395,
   "metadata": {
    "collapsed": false
   },
   "outputs": [],
   "source": [
    "def halver(myList):\n",
    "    if len(myList) > 1:\n",
    "#        print len(myList)\n",
    "        midPT = len(myList)//2\n",
    "        firstHalf = myList[0:midPT]\n",
    "        secondHalf = myList[(midPT):]\n",
    "        print firstHalf, secondHalf\n",
    "    if len(myList) > 1:\n",
    "        return [halver(firstHalf), halver(secondHalf)]\n",
    "    else:\n",
    "        print 'done'\n",
    "        return myList\n",
    "    "
   ]
  },
  {
   "cell_type": "code",
   "execution_count": 28,
   "metadata": {
    "collapsed": false
   },
   "outputs": [
    {
     "name": "stdout",
     "output_type": "stream",
     "text": [
      "['q', 'a']\n",
      "['r', 'y']\n"
     ]
    }
   ],
   "source": [
    "testList=['q','a','r','y']\n",
    "midPT=len(testList)//2\n",
    "print testList[0:midPT]\n",
    "print testList[(midPT):]"
   ]
  },
  {
   "cell_type": "code",
   "execution_count": 29,
   "metadata": {
    "collapsed": false
   },
   "outputs": [],
   "source": [
    "# New try\n",
    "def halver(myList):\n",
    "    if len(myList) > 1:\n",
    "        print(\"Splitting \",myList)\n",
    "        midPT = len(myList)//2\n",
    "        firstHalf = myList[0:midPT]\n",
    "        secondHalf = myList[(midPT):]\n",
    "        halver(firstHalf)\n",
    "        halver(secondHalf)\n",
    "        i=0\n",
    "        j=0\n",
    "        k=0\n",
    "        while i < len(firstHalf) and j < len(secondHalf):\n",
    "            print 'both'\n",
    "            if firstHalf[i] < secondHalf[j]:\n",
    "                print 'first'\n",
    "                myList[k]=firstHalf[i]\n",
    "                print 'i = ' + str(i) + ' j = ' + str(j) + ' k =  ' + str(k) + ' val= ' + str(firstHalf[i])\n",
    "                i+=1\n",
    "            else:\n",
    "                print 'second'\n",
    "                myList[k]=secondHalf[j]\n",
    "                print 'i = ' + str(i) + ' j = ' + str(j) + ' k =  ' + str(k) + ' val= ' + str(secondHalf[j])\n",
    "                j+=1\n",
    "            k=k+1\n",
    "        while i < len(firstHalf):\n",
    "            print 'only first'\n",
    "            myList[k] = firstHalf[i]\n",
    "            print 'i = ' + str(i) + ' j = ' + str(j) + ' k =  ' + str(k) + ' val= ' + str(firstHalf[i])\n",
    "            i+=1\n",
    "            k+=1\n",
    "        while j < len(secondHalf):\n",
    "            print 'only second'\n",
    "            myList[k] = secondHalf[j]\n",
    "            print 'i = ' + str(i) + ' j = ' + str(j) + ' k =  ' + str(k) + ' val= ' + str(secondHalf[j])\n",
    "            j+=1\n",
    "            k+=1\n",
    "    print(\"Merging \",myList)"
   ]
  },
  {
   "cell_type": "code",
   "execution_count": 20,
   "metadata": {
    "collapsed": false
   },
   "outputs": [],
   "source": [
    "def splitList(myList):\n",
    "    return [halver(subList) for subList in myList]"
   ]
  },
  {
   "cell_type": "code",
   "execution_count": 30,
   "metadata": {
    "collapsed": false
   },
   "outputs": [
    {
     "data": {
      "text/plain": [
       "array([5, 7, 2, 9, 4, 0, 1, 8, 3, 6])"
      ]
     },
     "execution_count": 30,
     "metadata": {},
     "output_type": "execute_result"
    }
   ],
   "source": [
    "randNum=np.arange(10)\n",
    "np.random.shuffle(randNum)\n",
    "randNum"
   ]
  },
  {
   "cell_type": "code",
   "execution_count": 31,
   "metadata": {
    "collapsed": false,
    "scrolled": false
   },
   "outputs": [
    {
     "name": "stdout",
     "output_type": "stream",
     "text": [
      "('Splitting ', array([5, 7, 2, 9, 4, 0, 1, 8, 3, 6]))\n",
      "('Splitting ', array([5, 7, 2, 9, 4]))\n",
      "('Splitting ', array([5, 7]))\n",
      "('Merging ', array([5]))\n",
      "('Merging ', array([7]))\n",
      "both\n",
      "first\n",
      "i = 0 j = 0 k =  0 val= 5\n",
      "only second\n",
      "i = 1 j = 0 k =  1 val= 7\n",
      "('Merging ', array([5, 7]))\n",
      "('Splitting ', array([2, 9, 4]))\n",
      "('Merging ', array([2]))\n",
      "('Splitting ', array([9, 4]))\n",
      "('Merging ', array([9]))\n",
      "('Merging ', array([4]))\n",
      "both\n",
      "second\n",
      "i = 0 j = 0 k =  0 val= 4\n",
      "only first\n",
      "i = 0 j = 1 k =  1 val= 4\n",
      "('Merging ', array([4, 4]))\n",
      "both\n",
      "first\n",
      "i = 0 j = 0 k =  0 val= 2\n",
      "only second\n",
      "i = 1 j = 0 k =  1 val= 4\n",
      "only second\n",
      "i = 1 j = 1 k =  2 val= 4\n",
      "('Merging ', array([2, 4, 4]))\n",
      "both\n",
      "second\n",
      "i = 0 j = 0 k =  0 val= 2\n",
      "both\n",
      "first\n",
      "i = 0 j = 1 k =  1 val= 2\n",
      "both\n",
      "first\n",
      "i = 1 j = 1 k =  2 val= 2\n",
      "only second\n",
      "i = 2 j = 1 k =  3 val= 4\n",
      "only second\n",
      "i = 2 j = 2 k =  4 val= 4\n",
      "('Merging ', array([2, 2, 2, 4, 4]))\n",
      "('Splitting ', array([0, 1, 8, 3, 6]))\n",
      "('Splitting ', array([0, 1]))\n",
      "('Merging ', array([0]))\n",
      "('Merging ', array([1]))\n",
      "both\n",
      "first\n",
      "i = 0 j = 0 k =  0 val= 0\n",
      "only second\n",
      "i = 1 j = 0 k =  1 val= 1\n",
      "('Merging ', array([0, 1]))\n",
      "('Splitting ', array([8, 3, 6]))\n",
      "('Merging ', array([8]))\n",
      "('Splitting ', array([3, 6]))\n",
      "('Merging ', array([3]))\n",
      "('Merging ', array([6]))\n",
      "both\n",
      "first\n",
      "i = 0 j = 0 k =  0 val= 3\n",
      "only second\n",
      "i = 1 j = 0 k =  1 val= 6\n",
      "('Merging ', array([3, 6]))\n",
      "both\n",
      "second\n",
      "i = 0 j = 0 k =  0 val= 3\n",
      "both\n",
      "first\n",
      "i = 0 j = 1 k =  1 val= 3\n",
      "only second\n",
      "i = 1 j = 1 k =  2 val= 6\n",
      "('Merging ', array([3, 3, 6]))\n",
      "both\n",
      "first\n",
      "i = 0 j = 0 k =  0 val= 0\n",
      "both\n",
      "first\n",
      "i = 1 j = 0 k =  1 val= 1\n",
      "only second\n",
      "i = 2 j = 0 k =  2 val= 3\n",
      "only second\n",
      "i = 2 j = 1 k =  3 val= 3\n",
      "only second\n",
      "i = 2 j = 2 k =  4 val= 6\n",
      "('Merging ', array([0, 1, 3, 3, 6]))\n",
      "both\n",
      "second\n",
      "i = 0 j = 0 k =  0 val= 0\n",
      "both\n",
      "first\n",
      "i = 0 j = 1 k =  1 val= 0\n",
      "both\n",
      "first\n",
      "i = 1 j = 1 k =  2 val= 0\n",
      "both\n",
      "first\n",
      "i = 2 j = 1 k =  3 val= 0\n",
      "both\n",
      "first\n",
      "i = 3 j = 1 k =  4 val= 0\n",
      "both\n",
      "first\n",
      "i = 4 j = 1 k =  5 val= 0\n",
      "only second\n",
      "i = 5 j = 1 k =  6 val= 1\n",
      "only second\n",
      "i = 5 j = 2 k =  7 val= 3\n",
      "only second\n",
      "i = 5 j = 3 k =  8 val= 3\n",
      "only second\n",
      "i = 5 j = 4 k =  9 val= 6\n",
      "('Merging ', array([0, 0, 0, 0, 0, 0, 1, 3, 3, 6]))\n",
      "[0 0 0 0 0 0 1 3 3 6]\n"
     ]
    }
   ],
   "source": [
    "halver(randNum)\n",
    "print randNum"
   ]
  },
  {
   "cell_type": "code",
   "execution_count": 466,
   "metadata": {
    "collapsed": false
   },
   "outputs": [
    {
     "data": {
      "text/plain": [
       "2"
      ]
     },
     "execution_count": 466,
     "metadata": {},
     "output_type": "execute_result"
    }
   ],
   "source": [
    "a=1\n",
    "a+=1\n",
    "a"
   ]
  },
  {
   "cell_type": "code",
   "execution_count": 362,
   "metadata": {
    "collapsed": false
   },
   "outputs": [
    {
     "data": {
      "text/plain": [
       "False"
      ]
     },
     "execution_count": 362,
     "metadata": {},
     "output_type": "execute_result"
    }
   ],
   "source": [
    "isinstance(l2[0][0][1][0],list)\n",
    "#isinstance([0, 10, 20, 30], list)\n"
   ]
  },
  {
   "cell_type": "code",
   "execution_count": 388,
   "metadata": {
    "collapsed": false
   },
   "outputs": [],
   "source": [
    "def getDepth(myList,depth):\n",
    "    if isinstance(myList, list) == True:\n",
    "        getDepth(myList[0],depth+1)\n",
    "    else:\n",
    "        print myList, depth"
   ]
  },
  {
   "cell_type": "code",
   "execution_count": 390,
   "metadata": {
    "collapsed": false
   },
   "outputs": [
    {
     "name": "stdout",
     "output_type": "stream",
     "text": [
      "[8] 3\n"
     ]
    }
   ],
   "source": [
    "getDepth(l2,0)"
   ]
  },
  {
   "cell_type": "code",
   "execution_count": 375,
   "metadata": {
    "collapsed": false
   },
   "outputs": [
    {
     "ename": "NameError",
     "evalue": "name 'T4' is not defined",
     "output_type": "error",
     "traceback": [
      "\u001b[0;31m---------------------------------------------------------------------------\u001b[0m",
      "\u001b[0;31mNameError\u001b[0m                                 Traceback (most recent call last)",
      "\u001b[0;32m<ipython-input-375-a53e2b073dbb>\u001b[0m in \u001b[0;36m<module>\u001b[0;34m()\u001b[0m\n\u001b[1;32m      2\u001b[0m \u001b[0ml3\u001b[0m\u001b[0;34m=\u001b[0m\u001b[0ml2\u001b[0m\u001b[0;34m\u001b[0m\u001b[0m\n\u001b[1;32m      3\u001b[0m \u001b[0;31m#while isinstance(l3, list) == True:\u001b[0m\u001b[0;34m\u001b[0m\u001b[0;34m\u001b[0m\u001b[0m\n\u001b[0;32m----> 4\u001b[0;31m \u001b[0;32mwhile\u001b[0m \u001b[0misinstance\u001b[0m\u001b[0;34m(\u001b[0m\u001b[0ml3\u001b[0m\u001b[0;34m,\u001b[0m \u001b[0mlist\u001b[0m\u001b[0;34m)\u001b[0m \u001b[0;34m==\u001b[0m \u001b[0mT4\u001b[0m\u001b[0;34m:\u001b[0m\u001b[0;34m\u001b[0m\u001b[0m\n\u001b[0m\u001b[1;32m      5\u001b[0m \u001b[0;34m\u001b[0m\u001b[0m\n\u001b[1;32m      6\u001b[0m \u001b[0;34m\u001b[0m\u001b[0m\n",
      "\u001b[0;31mNameError\u001b[0m: name 'T4' is not defined"
     ]
    }
   ],
   "source": [
    "depthCount = 0\n",
    "l3=l2\n",
    "#while isinstance(l3, list) == True:\n",
    "while isinstance(l3, list) == T4:\n",
    "    l3+='[]'\n",
    "    depthCount+=1\n",
    "    print depthCount\n",
    "l3\n"
   ]
  },
  {
   "cell_type": "code",
   "execution_count": 130,
   "metadata": {
    "collapsed": false
   },
   "outputs": [
    {
     "name": "stdout",
     "output_type": "stream",
     "text": [
      "4\n",
      "[4, 3, 2, 1]\n"
     ]
    }
   ],
   "source": [
    "a=[4,3,2,1]\n",
    "print len(a)\n",
    "a[0:(len(a)-1)]\n",
    "print a[0:4]"
   ]
  },
  {
   "cell_type": "code",
   "execution_count": 141,
   "metadata": {
    "collapsed": false
   },
   "outputs": [
    {
     "name": "stdout",
     "output_type": "stream",
     "text": [
      "[0, 0, 0, 1]\n",
      "[0, 0, 1, 0]\n",
      "[0, 1, 0, 0]\n",
      "[0, 1, 0, 0]\n",
      "[0, 1, 0, 0]\n",
      "[1, 0, 0, 0]\n",
      "[1, 0, 0, 0]\n",
      "[1, 0, 0, 0]\n",
      "[1, 0, 0, 0]\n"
     ]
    }
   ],
   "source": [
    "a=[0,2,1,4,0,5,2,6]\n",
    "b=[0,0,0,1]\n",
    "\n",
    "def moveZeroes(nums):\n",
    "    finalPos=len(nums)-1\n",
    "    for i,j in enumerate(nums):\n",
    "        print nums\n",
    "        if j==0 and i<=finalPos:\n",
    "#            print nums[(i+1):(finalPos+1)], nums[i:(finalPos)],finalPos,i+1\n",
    "            nums[i:(finalPos)]=nums[(i+1):(finalPos+1)]\n",
    "            nums[finalPos]=0\n",
    "            \n",
    "#            print i\n",
    "#            nums[(i+1):finalPos],nums[i] = nums[i],nums[(i+1):finalPos]\n",
    "#            nums[i],nums[finalPos] = nums[finalPos],nums[i]\n",
    "            finalPos -= 1\n",
    "#    if nums[0]==0:\n",
    "#        nums[0:(finalPos)]=nums[(1):(finalPos+1)]\n",
    "#        nums[finalPos]=0\n",
    "    for i,j in enumerate(nums):\n",
    "            print nums\n",
    "            if j==0 and i<=finalPos:\n",
    "    #            print nums[(i+1):(finalPos+1)], nums[i:(finalPos)],finalPos,i+1\n",
    "                nums[i:(finalPos)]=nums[(i+1):(finalPos+1)]\n",
    "                nums[finalPos]=0\n",
    "\n",
    "    #            print i\n",
    "    #            nums[(i+1):finalPos],nums[i] = nums[i],nums[(i+1):finalPos]\n",
    "    #            nums[i],nums[finalPos] = nums[finalPos],nums[i]\n",
    "                finalPos -= 1\n",
    "    print nums\n",
    "\n",
    "moveZeroes(b)\n"
   ]
  },
  {
   "cell_type": "code",
   "execution_count": 67,
   "metadata": {
    "collapsed": false
   },
   "outputs": [],
   "source": [
    "def isP2(num=0):\n",
    "    \"\"\"Function to return True/False if the integer input is a power of 2, i.e., 2^n\"\"\"\n",
    "    try:\n",
    "        int(num)\n",
    "    except:\n",
    "        return False\n",
    "    \n",
    "    while num > 1:\n",
    "        if num%2==0:     \n",
    "            num = num/2\n",
    "        else:\n",
    "            num = 0\n",
    "    if num==1:\n",
    "        return True\n",
    "    else:\n",
    "        return False"
   ]
  },
  {
   "cell_type": "code",
   "execution_count": 68,
   "metadata": {
    "collapsed": false
   },
   "outputs": [
    {
     "data": {
      "text/plain": [
       "False"
      ]
     },
     "execution_count": 68,
     "metadata": {},
     "output_type": "execute_result"
    }
   ],
   "source": [
    "isP2()"
   ]
  },
  {
   "cell_type": "code",
   "execution_count": 364,
   "metadata": {
    "collapsed": false
   },
   "outputs": [
    {
     "data": {
      "text/plain": [
       "[[array([8]), array([9])], [array([1]), [array([2]), array([0])]]]"
      ]
     },
     "execution_count": 364,
     "metadata": {},
     "output_type": "execute_result"
    }
   ],
   "source": [
    "eval('l2[0]')"
   ]
  },
  {
   "cell_type": "code",
   "execution_count": 319,
   "metadata": {
    "collapsed": false
   },
   "outputs": [
    {
     "data": {
      "text/plain": [
       "10"
      ]
     },
     "execution_count": 319,
     "metadata": {},
     "output_type": "execute_result"
    }
   ],
   "source": [
    "l=randNum\n",
    "len(l)"
   ]
  },
  {
   "cell_type": "code",
   "execution_count": 366,
   "metadata": {
    "collapsed": false
   },
   "outputs": [
    {
     "ename": "AttributeError",
     "evalue": "'str' object has no attribute 'append'",
     "output_type": "error",
     "traceback": [
      "\u001b[0;31m---------------------------------------------------------------------------\u001b[0m",
      "\u001b[0;31mAttributeError\u001b[0m                            Traceback (most recent call last)",
      "\u001b[0;32m<ipython-input-366-e44d427422e4>\u001b[0m in \u001b[0;36m<module>\u001b[0;34m()\u001b[0m\n\u001b[1;32m      1\u001b[0m \u001b[0ma\u001b[0m \u001b[0;34m=\u001b[0m\u001b[0;34m'hi'\u001b[0m\u001b[0;34m\u001b[0m\u001b[0m\n\u001b[0;32m----> 2\u001b[0;31m \u001b[0ma\u001b[0m\u001b[0;34m.\u001b[0m\u001b[0mappend\u001b[0m\u001b[0;34m(\u001b[0m\u001b[0;34m'there'\u001b[0m\u001b[0;34m)\u001b[0m\u001b[0;34m\u001b[0m\u001b[0m\n\u001b[0m",
      "\u001b[0;31mAttributeError\u001b[0m: 'str' object has no attribute 'append'"
     ]
    }
   ],
   "source": [
    "a ='hi'\n",
    "a.append('there')"
   ]
  },
  {
   "cell_type": "code",
   "execution_count": 265,
   "metadata": {
    "collapsed": false
   },
   "outputs": [
    {
     "data": {
      "text/plain": [
       "[[[0, 1], [2, 3, 4]], [[5, 6, 7], [8, 9, 10]]]"
      ]
     },
     "execution_count": 265,
     "metadata": {},
     "output_type": "execute_result"
    }
   ],
   "source": [
    "splitList(l)"
   ]
  },
  {
   "cell_type": "code",
   "execution_count": 220,
   "metadata": {
    "collapsed": false
   },
   "outputs": [
    {
     "name": "stdout",
     "output_type": "stream",
     "text": [
      "[[0, 1, 2, 3, 4], [5, 6, 7, 8, 9, 10]]\n"
     ]
    }
   ],
   "source": [
    "testSplit = splitter(range(11))\n",
    "l = []\n",
    "l.append(testSplit[0])\n",
    "l.append(testSplit[1])\n",
    "print l"
   ]
  },
  {
   "cell_type": "code",
   "execution_count": 226,
   "metadata": {
    "collapsed": false
   },
   "outputs": [
    {
     "data": {
      "text/plain": [
       "[[[0, 1], [2, 3, 4]], [[5, 6, 7], [8, 9, 10]]]"
      ]
     },
     "execution_count": 226,
     "metadata": {},
     "output_type": "execute_result"
    }
   ],
   "source": [
    "#[splitter(subList) for subList in l]\n",
    "[splitter(subList) for subList in l]"
   ]
  },
  {
   "cell_type": "code",
   "execution_count": 255,
   "metadata": {
    "collapsed": false
   },
   "outputs": [
    {
     "data": {
      "text/plain": [
       "1"
      ]
     },
     "execution_count": 255,
     "metadata": {},
     "output_type": "execute_result"
    }
   ],
   "source": [
    "len(['a'])"
   ]
  },
  {
   "cell_type": "code",
   "execution_count": 229,
   "metadata": {
    "collapsed": false
   },
   "outputs": [
    {
     "data": {
      "text/plain": [
       "6"
      ]
     },
     "execution_count": 229,
     "metadata": {},
     "output_type": "execute_result"
    }
   ],
   "source": [
    "max(len(subList) for subList in l)"
   ]
  },
  {
   "cell_type": "code",
   "execution_count": 237,
   "metadata": {
    "collapsed": false
   },
   "outputs": [
    {
     "data": {
      "text/plain": [
       "[[], ['2']]"
      ]
     },
     "execution_count": 237,
     "metadata": {},
     "output_type": "execute_result"
    }
   ],
   "source": [
    "splitter(['2'])"
   ]
  },
  {
   "cell_type": "code",
   "execution_count": null,
   "metadata": {
    "collapsed": true
   },
   "outputs": [],
   "source": []
  },
  {
   "cell_type": "code",
   "execution_count": 113,
   "metadata": {
    "collapsed": true
   },
   "outputs": [],
   "source": [
    "a=[5,3,7,1,8,3]\n",
    "#a=[9,8,7,6,5]"
   ]
  },
  {
   "cell_type": "code",
   "execution_count": 114,
   "metadata": {
    "collapsed": false
   },
   "outputs": [],
   "source": [
    "#3/2 bubble sort\n",
    "def bS(myList):\n",
    "    end = 0\n",
    "    for j in range(len(myList)): #iterate through each list item\n",
    "        for j in range(len(myList)-1-end): # compare with each element in list\n",
    "            print myList[j+1], myList[j]\n",
    "            if myList[j+1] < myList[j]:\n",
    "                myList[j], myList[j+1] = myList[j+1], myList[j]\n",
    "                \n",
    "        end+=1\n",
    "        print myList\n",
    "        print\n",
    "            \n",
    "            #print myList[j]\n",
    "    print myList\n",
    "    "
   ]
  },
  {
   "cell_type": "code",
   "execution_count": 115,
   "metadata": {
    "collapsed": false
   },
   "outputs": [
    {
     "name": "stdout",
     "output_type": "stream",
     "text": [
      "[5, 3, 7, 1, 8, 3]\n",
      "\n",
      "3 5\n",
      "7 5\n",
      "1 7\n",
      "8 7\n",
      "3 8\n",
      "[3, 5, 1, 7, 3, 8]\n",
      "\n",
      "5 3\n",
      "1 5\n",
      "7 5\n",
      "3 7\n",
      "[3, 1, 5, 3, 7, 8]\n",
      "\n",
      "1 3\n",
      "5 3\n",
      "3 5\n",
      "[1, 3, 3, 5, 7, 8]\n",
      "\n",
      "3 1\n",
      "3 3\n",
      "[1, 3, 3, 5, 7, 8]\n",
      "\n",
      "3 1\n",
      "[1, 3, 3, 5, 7, 8]\n",
      "\n",
      "[1, 3, 3, 5, 7, 8]\n",
      "\n",
      "[1, 3, 3, 5, 7, 8]\n"
     ]
    }
   ],
   "source": [
    "print a\n",
    "print \n",
    "bS(a)"
   ]
  },
  {
   "cell_type": "code",
   "execution_count": 110,
   "metadata": {
    "collapsed": false
   },
   "outputs": [
    {
     "name": "stdout",
     "output_type": "stream",
     "text": [
      "0 1\n",
      "1 3\n",
      "2 3\n",
      "3 5\n",
      "4 7\n",
      "5 8\n"
     ]
    }
   ],
   "source": [
    "for i, j in enumerate(a):\n",
    "    print i,j"
   ]
  },
  {
   "cell_type": "code",
   "execution_count": null,
   "metadata": {
    "collapsed": true
   },
   "outputs": [],
   "source": []
  }
 ],
 "metadata": {
  "kernelspec": {
   "display_name": "Python 2",
   "language": "python",
   "name": "python2"
  },
  "language_info": {
   "codemirror_mode": {
    "name": "ipython",
    "version": 2
   },
   "file_extension": ".py",
   "mimetype": "text/x-python",
   "name": "python",
   "nbconvert_exporter": "python",
   "pygments_lexer": "ipython2",
   "version": "2.7.11"
  }
 },
 "nbformat": 4,
 "nbformat_minor": 0
}
