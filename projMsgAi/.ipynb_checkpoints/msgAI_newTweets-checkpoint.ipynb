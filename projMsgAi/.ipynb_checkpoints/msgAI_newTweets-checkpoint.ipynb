{
 "cells": [
  {
   "cell_type": "code",
   "execution_count": 1,
   "metadata": {
    "collapsed": true
   },
   "outputs": [],
   "source": [
    "%matplotlib inline\n",
    "\n",
    "import matplotlib.pylab as plt\n",
    "import pandas as pd\n",
    "import numpy as np\n",
    "from collections import Counter\n",
    "import operator\n",
    "from nltk.tokenize import TweetTokenizer\n",
    "from nltk.corpus import stopwords\n",
    "import Pyro4\n",
    "\n",
    "from sqlalchemy import create_engine\n",
    "from sqlalchemy_utils import database_exists, create_database\n",
    "import psycopg2"
   ]
  },
  {
   "cell_type": "markdown",
   "metadata": {},
   "source": [
    "# First store the data in a SQL database"
   ]
  },
  {
   "cell_type": "code",
   "execution_count": 2,
   "metadata": {
    "collapsed": true
   },
   "outputs": [],
   "source": [
    "dbname = 'tweets'\n",
    "username = 'Peter'"
   ]
  },
  {
   "cell_type": "code",
   "execution_count": 3,
   "metadata": {
    "collapsed": false
   },
   "outputs": [
    {
     "name": "stdout",
     "output_type": "stream",
     "text": [
      "postgres://Peter@localhost/tweets\n"
     ]
    }
   ],
   "source": [
    "engine = create_engine('postgres://%s@localhost/%s'%(username,dbname))\n",
    "print engine.url"
   ]
  },
  {
   "cell_type": "code",
   "execution_count": 4,
   "metadata": {
    "collapsed": false
   },
   "outputs": [
    {
     "name": "stdout",
     "output_type": "stream",
     "text": [
      "True\n"
     ]
    }
   ],
   "source": [
    "# Needed to use `createdb Peter` on bash terminal before psql would work\n",
    "\n",
    "if not database_exists(engine.url):\n",
    "    create_database(engine.url)\n",
    "print(database_exists(engine.url))"
   ]
  },
  {
   "cell_type": "code",
   "execution_count": 5,
   "metadata": {
    "collapsed": false
   },
   "outputs": [],
   "source": [
    "tweets = pd.read_csv('Tweets-CustomerSupport.csv', sep=';',index_col='id')\n",
    "#tweets = pd.read_csv('tweets-customer-support2.csv', sep=';',index_col='id')\n",
    "tweets = tweets.drop_duplicates('tweetId')\n",
    "tweets.columns = ['account','from_handler','to_handler','message','time_stamp','tweet_id']"
   ]
  },
  {
   "cell_type": "code",
   "execution_count": 6,
   "metadata": {
    "collapsed": true
   },
   "outputs": [],
   "source": [
    "tweets.to_sql('tweets_table', engine, if_exists='replace')"
   ]
  },
  {
   "cell_type": "code",
   "execution_count": 7,
   "metadata": {
    "collapsed": true
   },
   "outputs": [],
   "source": [
    "# Create connection to database\n",
    "con = psycopg2.connect(database = dbname, user = username)"
   ]
  },
  {
   "cell_type": "code",
   "execution_count": 8,
   "metadata": {
    "collapsed": false
   },
   "outputs": [
    {
     "data": {
      "text/html": [
       "<div>\n",
       "<table border=\"1\" class=\"dataframe\">\n",
       "  <thead>\n",
       "    <tr style=\"text-align: right;\">\n",
       "      <th></th>\n",
       "      <th>id</th>\n",
       "      <th>account</th>\n",
       "      <th>message</th>\n",
       "      <th>tweet_id</th>\n",
       "    </tr>\n",
       "  </thead>\n",
       "  <tbody>\n",
       "    <tr>\n",
       "      <th>0</th>\n",
       "      <td>1</td>\n",
       "      <td>@1ShirtSupport</td>\n",
       "      <td>@PissedOffBiotic You got it! Just email us you...</td>\n",
       "      <td>688951251455754241</td>\n",
       "    </tr>\n",
       "    <tr>\n",
       "      <th>1</th>\n",
       "      <td>2</td>\n",
       "      <td>@1ShirtSupport</td>\n",
       "      <td>@LordEstevez Thanks for the info! Well check o...</td>\n",
       "      <td>688913360679653376</td>\n",
       "    </tr>\n",
       "    <tr>\n",
       "      <th>2</th>\n",
       "      <td>3</td>\n",
       "      <td>@1ShirtSupport</td>\n",
       "      <td>@LordEstevez Just want to make sure we have al...</td>\n",
       "      <td>688907453212184576</td>\n",
       "    </tr>\n",
       "    <tr>\n",
       "      <th>3</th>\n",
       "      <td>4</td>\n",
       "      <td>@1ShirtSupport</td>\n",
       "      <td>@LordEstevez found it! It actually shows up as...</td>\n",
       "      <td>688907258206367744</td>\n",
       "    </tr>\n",
       "    <tr>\n",
       "      <th>4</th>\n",
       "      <td>5</td>\n",
       "      <td>@1ShirtSupport</td>\n",
       "      <td>@LightingAshley It should be just about to be ...</td>\n",
       "      <td>688898486025060352</td>\n",
       "    </tr>\n",
       "  </tbody>\n",
       "</table>\n",
       "</div>"
      ],
      "text/plain": [
       "   id         account                                            message  \\\n",
       "0   1  @1ShirtSupport  @PissedOffBiotic You got it! Just email us you...   \n",
       "1   2  @1ShirtSupport  @LordEstevez Thanks for the info! Well check o...   \n",
       "2   3  @1ShirtSupport  @LordEstevez Just want to make sure we have al...   \n",
       "3   4  @1ShirtSupport  @LordEstevez found it! It actually shows up as...   \n",
       "4   5  @1ShirtSupport  @LightingAshley It should be just about to be ...   \n",
       "\n",
       "             tweet_id  \n",
       "0  688951251455754241  \n",
       "1  688913360679653376  \n",
       "2  688907453212184576  \n",
       "3  688907258206367744  \n",
       "4  688898486025060352  "
      ]
     },
     "execution_count": 8,
     "metadata": {},
     "output_type": "execute_result"
    }
   ],
   "source": [
    "# query:\n",
    "#sql_query = \"\"\"\n",
    "#SELECT * FROM tweets_table;\n",
    "#\"\"\"\n",
    "\n",
    "#select id, account, message from tweets_table limit 20;\n",
    "#select * from tweets_table limit 20; \n",
    "\n",
    "sql_query = \"\"\"\n",
    "select id, account, message, tweet_id from tweets_table limit 5;\n",
    "\"\"\"\n",
    "\n",
    "def sqlPandasQuery(myQuery):\n",
    "    tweets_from_sql = pd.read_sql_query(myQuery,con)\n",
    "    return tweets_from_sql\n",
    "\n",
    "sqlPandasQuery(sql_query)"
   ]
  },
  {
   "cell_type": "code",
   "execution_count": 9,
   "metadata": {
    "collapsed": true
   },
   "outputs": [],
   "source": [
    "### can I do a SQL query to find conversations of given length?"
   ]
  },
  {
   "cell_type": "code",
   "execution_count": 10,
   "metadata": {
    "collapsed": false
   },
   "outputs": [],
   "source": [
    "tweets = pd.read_csv('Tweets-CustomerSupport.csv', sep=';',index_col='id')"
   ]
  },
  {
   "cell_type": "code",
   "execution_count": 11,
   "metadata": {
    "collapsed": false
   },
   "outputs": [
    {
     "data": {
      "text/html": [
       "<div>\n",
       "<table border=\"1\" class=\"dataframe\">\n",
       "  <thead>\n",
       "    <tr style=\"text-align: right;\">\n",
       "      <th></th>\n",
       "      <th>account</th>\n",
       "      <th>fromHandler</th>\n",
       "      <th>toHandler</th>\n",
       "      <th>message</th>\n",
       "      <th>timestamp</th>\n",
       "      <th>tweetId</th>\n",
       "    </tr>\n",
       "    <tr>\n",
       "      <th>id</th>\n",
       "      <th></th>\n",
       "      <th></th>\n",
       "      <th></th>\n",
       "      <th></th>\n",
       "      <th></th>\n",
       "      <th></th>\n",
       "    </tr>\n",
       "  </thead>\n",
       "  <tbody>\n",
       "    <tr>\n",
       "      <th>1</th>\n",
       "      <td>@1ShirtSupport</td>\n",
       "      <td>@1ShirtSupport</td>\n",
       "      <td>@PissedOffBiotic</td>\n",
       "      <td>@PissedOffBiotic You got it! Just email us you...</td>\n",
       "      <td>01/18/2016 05:09:13</td>\n",
       "      <td>688951251455754241</td>\n",
       "    </tr>\n",
       "    <tr>\n",
       "      <th>2</th>\n",
       "      <td>@1ShirtSupport</td>\n",
       "      <td>@1ShirtSupport</td>\n",
       "      <td>@LordEstevez</td>\n",
       "      <td>@LordEstevez Thanks for the info! Well check o...</td>\n",
       "      <td>01/18/2016 02:38:39</td>\n",
       "      <td>688913360679653376</td>\n",
       "    </tr>\n",
       "    <tr>\n",
       "      <th>3</th>\n",
       "      <td>@1ShirtSupport</td>\n",
       "      <td>@1ShirtSupport</td>\n",
       "      <td>@LordEstevez</td>\n",
       "      <td>@LordEstevez Just want to make sure we have al...</td>\n",
       "      <td>01/18/2016 02:15:10</td>\n",
       "      <td>688907453212184576</td>\n",
       "    </tr>\n",
       "    <tr>\n",
       "      <th>4</th>\n",
       "      <td>@1ShirtSupport</td>\n",
       "      <td>@1ShirtSupport</td>\n",
       "      <td>@LordEstevez</td>\n",
       "      <td>@LordEstevez found it! It actually shows up as...</td>\n",
       "      <td>01/18/2016 02:14:24</td>\n",
       "      <td>688907258206367744</td>\n",
       "    </tr>\n",
       "    <tr>\n",
       "      <th>5</th>\n",
       "      <td>@1ShirtSupport</td>\n",
       "      <td>@1ShirtSupport</td>\n",
       "      <td>@LightingAshley</td>\n",
       "      <td>@LightingAshley It should be just about to be ...</td>\n",
       "      <td>01/18/2016 01:39:32</td>\n",
       "      <td>688898486025060352</td>\n",
       "    </tr>\n",
       "  </tbody>\n",
       "</table>\n",
       "</div>"
      ],
      "text/plain": [
       "           account     fromHandler         toHandler  \\\n",
       "id                                                     \n",
       "1   @1ShirtSupport  @1ShirtSupport  @PissedOffBiotic   \n",
       "2   @1ShirtSupport  @1ShirtSupport      @LordEstevez   \n",
       "3   @1ShirtSupport  @1ShirtSupport      @LordEstevez   \n",
       "4   @1ShirtSupport  @1ShirtSupport      @LordEstevez   \n",
       "5   @1ShirtSupport  @1ShirtSupport   @LightingAshley   \n",
       "\n",
       "                                              message            timestamp  \\\n",
       "id                                                                           \n",
       "1   @PissedOffBiotic You got it! Just email us you...  01/18/2016 05:09:13   \n",
       "2   @LordEstevez Thanks for the info! Well check o...  01/18/2016 02:38:39   \n",
       "3   @LordEstevez Just want to make sure we have al...  01/18/2016 02:15:10   \n",
       "4   @LordEstevez found it! It actually shows up as...  01/18/2016 02:14:24   \n",
       "5   @LightingAshley It should be just about to be ...  01/18/2016 01:39:32   \n",
       "\n",
       "               tweetId  \n",
       "id                      \n",
       "1   688951251455754241  \n",
       "2   688913360679653376  \n",
       "3   688907453212184576  \n",
       "4   688907258206367744  \n",
       "5   688898486025060352  "
      ]
     },
     "execution_count": 11,
     "metadata": {},
     "output_type": "execute_result"
    }
   ],
   "source": [
    "#Get rid of duplicate tweets\n",
    "tweets.drop_duplicates('tweetId')\n",
    "tweets.head()"
   ]
  },
  {
   "cell_type": "code",
   "execution_count": 12,
   "metadata": {
    "collapsed": false
   },
   "outputs": [
    {
     "data": {
      "text/plain": [
       "'@1ShirtSupport yeah I know how it says it got delivered on the 24th by  nothing arrived that day'"
      ]
     },
     "execution_count": 12,
     "metadata": {},
     "output_type": "execute_result"
    }
   ],
   "source": [
    "tweets[tweets.fromHandler=='@LordEstevez']['message'].iloc[0]"
   ]
  },
  {
   "cell_type": "code",
   "execution_count": 13,
   "metadata": {
    "collapsed": false
   },
   "outputs": [
    {
     "data": {
      "text/plain": [
       "array(['@1ShirtSupport', '@Airbnb', '@AmazonHelp', '@AskAmex', '@Avis',\n",
       "       '@BCBSIL', '@GoDaddyHelp', '@Hootsuite_Help', '@InstapaperHelp',\n",
       "       '@JetBlue', '@Kohls', '@MasterCard', '@MicrosoftHelps',\n",
       "       '@TmobileHelp', '@americanair', '@fedexhelp', '@nikestore',\n",
       "       '@schuh', '@verizon'], dtype=object)"
      ]
     },
     "execution_count": 13,
     "metadata": {},
     "output_type": "execute_result"
    }
   ],
   "source": [
    "np.unique(tweets.account)"
   ]
  },
  {
   "cell_type": "code",
   "execution_count": 14,
   "metadata": {
    "collapsed": false
   },
   "outputs": [],
   "source": [
    "def getFromTweets(userAccount):\n",
    "    \"\"\"Function to print the number of tweets from a given account\"\"\"\n",
    "    tweetNum = str(np.sum(tweets['toHandler']==userAccount))\n",
    "    print 'Tweets from %s: %s' % (userAccount, tweetNum)"
   ]
  },
  {
   "cell_type": "code",
   "execution_count": 15,
   "metadata": {
    "collapsed": false
   },
   "outputs": [
    {
     "name": "stdout",
     "output_type": "stream",
     "text": [
      "Tweets from @1ShirtSupport: 532\n",
      "Tweets from @Airbnb: 23\n",
      "Tweets from @AmazonHelp: 2991\n",
      "Tweets from @AskAmex: 43\n",
      "Tweets from @Avis: 360\n",
      "Tweets from @BCBSIL: 78\n",
      "Tweets from @GoDaddyHelp: 526\n",
      "Tweets from @Hootsuite_Help: 180\n",
      "Tweets from @InstapaperHelp: 38\n",
      "Tweets from @JetBlue: 75\n",
      "Tweets from @Kohls: 681\n",
      "Tweets from @MasterCard: 38\n",
      "Tweets from @MicrosoftHelps: 653\n",
      "Tweets from @TmobileHelp: 0\n",
      "Tweets from @americanair: 0\n",
      "Tweets from @fedexhelp: 0\n",
      "Tweets from @nikestore: 6295\n",
      "Tweets from @schuh: 495\n",
      "Tweets from @verizon: 71\n"
     ]
    }
   ],
   "source": [
    "for i in list(np.unique(tweets.account)):\n",
    "    getFromTweets(i)"
   ]
  },
  {
   "cell_type": "code",
   "execution_count": 17,
   "metadata": {
    "collapsed": false
   },
   "outputs": [],
   "source": [
    "verTweets = tweets[tweets.toHandler=='@verizon']"
   ]
  },
  {
   "cell_type": "raw",
   "metadata": {
    "collapsed": false
   },
   "source": [
    "tweets = tweets.drop_duplicates('message')"
   ]
  },
  {
   "cell_type": "markdown",
   "metadata": {},
   "source": [
    "# Gensim code"
   ]
  },
  {
   "cell_type": "code",
   "execution_count": 18,
   "metadata": {
    "collapsed": true
   },
   "outputs": [],
   "source": [
    "import logging\n",
    "logging.basicConfig(format='%(asctime)s : %(levelname)s : %(message)s', level=logging.INFO)\n",
    "from gensim import corpora, models\n",
    "#import os\n",
    "#import nltk\n",
    "from nltk.corpus import stopwords\n",
    "from nltk.stem import WordNetLemmatizer\n",
    "import timeit\n",
    "from re import sub\n",
    "import pyLDAvis.gensim"
   ]
  },
  {
   "cell_type": "code",
   "execution_count": 19,
   "metadata": {
    "collapsed": false
   },
   "outputs": [],
   "source": [
    "#tweets.iloc[0]['message']"
   ]
  },
  {
   "cell_type": "code",
   "execution_count": 75,
   "metadata": {
    "collapsed": false
   },
   "outputs": [],
   "source": [
    "#Functions for data cleaning\n",
    "\n",
    "wnl = WordNetLemmatizer()\n",
    "\n",
    "def removePunc(myWord):\n",
    "    \"\"\"Function to remove punctuation from string inputs\"\"\"\n",
    "    if myWord is None:\n",
    "        return myWord\n",
    "    else:\n",
    "        return sub('[.:;()/!&-*@$,?^\\d+]','',myWord)\n",
    "        \n",
    "def removeAscii(myWord):\n",
    "    \"\"\"Function to remove ascii from string input\"\"\"\n",
    "    if myWord is None:\n",
    "        return myWord\n",
    "    else:\n",
    "        return str(sub(r'[^\\x00-\\x7F]+','', myWord.decode('utf-8').strip()))\n",
    "\n",
    "def lemmatize(myWord):\n",
    "    \"\"\"Function to lemmatize words\"\"\"\n",
    "    if myWord is None:\n",
    "        return myWord\n",
    "    else:\n",
    "        return wnl.lemmatize(myWord)\n",
    "\n",
    "def removeStopWords(myWord):\n",
    "    \"\"\"Function to remove stop words\"\"\"\n",
    "    if myWord is None:\n",
    "        return myWord\n",
    "    if myWord not in str(stopwords.words('english')):\n",
    "        return myWord\n",
    "\n",
    "def removeLinkUser(myWord):\n",
    "    \"\"\"Function to remove web addresses and twitter handles\"\"\"\n",
    "    if not myWord.startswith('@') and not myWord.startswith('http'):\n",
    "        return myWord\n",
    "\n",
    "def prepText(myWord):\n",
    "    \"\"\"Final text pre-processing function\"\"\"\n",
    "    return removeStopWords(\n",
    "        lemmatize(\n",
    "            removeAscii(\n",
    "                removePunc(\n",
    "                    removeLinkUser(\n",
    "                        myWord.lower()\n",
    "                    )\n",
    "                )\n",
    "            )\n",
    "        )\n",
    "    )\n"
   ]
  },
  {
   "cell_type": "code",
   "execution_count": 97,
   "metadata": {
    "collapsed": false
   },
   "outputs": [],
   "source": [
    "# Function to clean/filter all tweets\n",
    "\n",
    "def filterTweetList(tweetList):\n",
    "    \"\"\"Remove stop words, lemmatize, and clean all tweets\"\"\"\n",
    "    return [[prepText(word) for word\n",
    "                in tweet.split()\n",
    "                    if prepText(word) is not None]\n",
    "                for tweet in tweetList]\n",
    "cleanTweetList = filterTweetList(tweets['message'])"
   ]
  },
  {
   "cell_type": "code",
   "execution_count": 466,
   "metadata": {
    "collapsed": false
   },
   "outputs": [
    {
     "name": "stdout",
     "output_type": "stream",
     "text": [
      "10 loops, best of 3: 156 ms per loop\n"
     ]
    }
   ],
   "source": [
    "%%timeit\n",
    "# Using iterator:             10 loops, best of 3: 137 ms per loop\n",
    "# Using double list comprhxn: 10 loops, best of 3: 141 ms per loop\n",
    "\n",
    "# Iterator\n",
    "for tweet in (tweet for tweet in verTweets['message']):\n",
    "    [word.lower() for word in tweet.split() if word not in str(stopwords.words('english')) and not word.startswith('@') and not word.startswith('http')]\n",
    "#[[word.lower() for word in tweet.split() if word not in stopwords.words('english') and not word.startswith('@') and not word.startswith('http')] for tweet in verTweets['message']]\n"
   ]
  },
  {
   "cell_type": "markdown",
   "metadata": {},
   "source": [
    "### Using an iterator doesn't speed up the data cleaning"
   ]
  },
  {
   "cell_type": "markdown",
   "metadata": {},
   "source": [
    "## Wanted to check the speed saved by parallelization using `%%timeit`\n",
    "#### Without multicore:  \n",
    "_Code_  \n",
    "`lda = models.LdaMulticore(corpus, id2word=dictionary, num_topics=50, passes=10, iterations=50,alpha=0.001)`  \n",
    "\n",
    "_`Output from %%timeit`_  \n",
    "`1 loops, best of 3: 11min 10s per loop`\n",
    "\n",
    "#### With multicore:  \n",
    "_Code_  \n",
    "`lda = models.ldamodel.LdaModel(corpus, id2word=dictionary, num_topics=50, passes = 10,iterations=50,alpha=0.001)`  \n",
    "_`Output from %%timeit`_  \n",
    "`1 loops, best of 3: 6min 17s per loop`  \n",
    "\n",
    "\n",
    "\n",
    "# Bottom line: _multicore LDA is about twice as fast_\n"
   ]
  },
  {
   "cell_type": "code",
   "execution_count": 96,
   "metadata": {
    "collapsed": false
   },
   "outputs": [],
   "source": [
    "def makeDict(myTweetList):\n",
    "    \"\"\"Create dictionary from list of tokenized documents\"\"\"\n",
    "    return corpora.Dictionary(myTweetList)\n",
    "\n",
    "def makeCorpus(myTweetList):\n",
    "    \"\"\"Create corpus from list of tokenized documents\"\"\"\n",
    "    return [dictionary.doc2bow(tweet) for tweet in myTweetList]\n",
    "\n",
    "def createLDA(myCorpus, myDictionary,myTopics=50,myPasses=10,myIterations=50,myAlpha=0.001):\n",
    "    \"\"\"LDA model call function\"\"\"\n",
    "    models.LdaMulticore(myCorpus, id2word=myDictionary, num_topics=myTopics, passes=myPasses,\n",
    "    iterations=myIterations,alpha=myAlpha)\n",
    "\n",
    "\n",
    "    \n",
    "#lda = models.LdaMulticore(corpus, id2word=dictionary, num_topics=50, passes=10,\n",
    "#    iterations=50,alpha=0.001)\n",
    "\n",
    "#myDict = makeDict(tweetList)\n",
    "#myCorpus = makeCorpus(tweetList)\n",
    "#dictionary = corpora.Dictionary(tweetList)"
   ]
  },
  {
   "cell_type": "code",
   "execution_count": 85,
   "metadata": {
    "collapsed": false
   },
   "outputs": [],
   "source": [
    "myDict = makeDict(tweetList)\n",
    "myCorpus = makeCorpus(tweetList)\n",
    "myLda = createLDA(myCorpus, myDict)"
   ]
  },
  {
   "cell_type": "code",
   "execution_count": 711,
   "metadata": {
    "collapsed": false
   },
   "outputs": [],
   "source": [
    "saveDir = '/Users/Peter/git/insight/projMsgAi/'\n",
    "dictionary.save(saveDir + \"tweet_dict.dict\")"
   ]
  },
  {
   "cell_type": "code",
   "execution_count": 126,
   "metadata": {
    "collapsed": true
   },
   "outputs": [],
   "source": [
    "corpus = [dictionary.doc2bow(tweet) for tweet in tweetList]\n",
    "#tfidfCorpus = models.TfidfModel(corpus)"
   ]
  },
  {
   "cell_type": "code",
   "execution_count": 706,
   "metadata": {
    "collapsed": false
   },
   "outputs": [],
   "source": [
    "#corpora.MmCorpus.serialize(saveDir + \"tweet_corpus.dict\", corpus)\n",
    "#corpora.MmCorpus.serialize(saveDir + \"tfidf_tweet_corpus.dict\", tfidfCorpus)"
   ]
  },
  {
   "cell_type": "code",
   "execution_count": 661,
   "metadata": {
    "collapsed": true
   },
   "outputs": [],
   "source": [
    "# Try tfidf\n",
    "#tfidf = models.TfidfModel(corpus) # step 1 -- initialize a model"
   ]
  },
  {
   "cell_type": "code",
   "execution_count": 476,
   "metadata": {
    "collapsed": false,
    "scrolled": false
   },
   "outputs": [],
   "source": [
    "#corpus_tfidf = tfidf[corpus]"
   ]
  },
  {
   "cell_type": "code",
   "execution_count": 498,
   "metadata": {
    "collapsed": true
   },
   "outputs": [],
   "source": []
  },
  {
   "cell_type": "code",
   "execution_count": 79,
   "metadata": {
    "collapsed": false
   },
   "outputs": [],
   "source": [
    "lda = models.LdaMulticore(corpus, id2word=dictionary, num_topics=50, passes=10,\n",
    "    iterations=50,alpha=0.001)"
   ]
  },
  {
   "cell_type": "code",
   "execution_count": 680,
   "metadata": {
    "collapsed": false
   },
   "outputs": [],
   "source": [
    "topTopics = lda.top_topics(corpus)"
   ]
  },
  {
   "cell_type": "code",
   "execution_count": 80,
   "metadata": {
    "collapsed": false
   },
   "outputs": [
    {
     "data": {
      "text/html": [
       "\n",
       "<link rel=\"stylesheet\" type=\"text/css\" href=\"https://cdn.rawgit.com/bmabey/pyLDAvis/files/ldavis.v1.0.0.css\">\n",
       "\n",
       "\n",
       "<div id=\"ldavis_el75049967227689284675892\"></div>\n",
       "<script type=\"text/javascript\">\n",
       "\n",
       "var ldavis_el75049967227689284675892_data = {\"plot.opts\": {\"xlab\": \"PC1\", \"ylab\": \"PC2\"}, \"topic.order\": [33, 9, 32, 3, 16, 46, 24, 8, 5, 29, 6, 37, 35, 27, 21, 34, 25, 28, 36, 26, 13, 50, 22, 12, 20, 19, 1, 44, 11, 14, 39, 23, 47, 4, 41, 40, 42, 31, 15, 38, 7, 49, 17, 43, 2, 45, 10, 30, 18, 48], \"token.table\": {\"Topic\": [20, 22, 37, 5, 38, 14, 35, 42, 9, 45, 17, 47, 18, 14, 1, 43, 21, 9, 5, 34, 41, 28, 33, 21, 21, 34, 18, 50, 27, 26, 18, 49, 9, 18, 16, 11, 19, 18, 7, 25, 1, 38, 45, 21, 5, 44, 22, 30, 44, 47, 41, 26, 40, 3, 38, 20, 14, 20, 34, 6, 7, 11, 2, 17, 36, 22, 27, 33, 34, 3, 13, 26, 31, 37, 41, 18, 43, 11, 40, 22, 22, 13, 22, 28, 25, 34, 34, 33, 43, 24, 23, 39, 25, 15, 29, 42, 18, 25, 6, 48, 35, 30, 37, 4, 36, 25, 40, 14, 43, 18, 18, 11, 16, 11, 32, 21, 28, 12, 25, 13, 32, 13, 13, 30, 10, 29, 41, 42, 33, 46, 37, 41, 13, 8, 5, 4, 48, 8, 15, 41, 25, 43, 33, 14, 10, 44, 21, 49, 29, 25, 43, 4, 27, 34, 31, 33, 36, 15, 43, 42, 11, 43, 28, 12, 45, 38, 13, 16, 39, 32, 48, 22, 5, 19, 5, 40, 41, 18, 14, 43, 13, 13, 14, 11, 30, 47, 19, 43, 33, 40, 34, 31, 40, 8, 47, 27, 48, 16, 50, 6, 30, 17, 27, 30, 48, 49, 46, 49, 11, 19, 2, 14, 25, 36, 14, 3, 25, 26, 44, 49, 28, 48, 48, 33, 22, 48, 13, 48, 43, 25, 33, 44, 37, 13, 34, 49, 25, 41, 23, 3, 4, 17, 40, 40, 44, 46, 41, 28, 30, 22, 26, 36, 26, 14, 26, 15, 35, 9, 39, 32, 15, 26, 29, 20, 45, 8, 29, 48, 42, 8, 11, 37, 36, 21, 15, 7, 41, 50, 33, 2, 2, 2, 19, 23, 37, 2, 25, 8, 33, 7, 48, 41, 28, 14, 38, 43, 46, 48, 7, 25, 6, 16, 32, 9, 29, 41, 29, 27, 4, 36, 38, 11, 38, 49, 30, 48, 9, 40, 33, 25, 47, 43, 16, 5, 42, 40, 32, 5, 23, 34, 20, 12, 22, 10, 43, 2, 41, 13, 14, 44, 43, 29, 48, 33, 1, 2, 3, 5, 6, 8, 10, 11, 12, 13, 15, 16, 17, 18, 19, 20, 21, 22, 23, 24, 25, 26, 28, 29, 31, 32, 33, 34, 35, 36, 37, 39, 40, 41, 42, 43, 44, 46, 47, 48, 49, 5, 48, 26, 32, 15, 30, 5, 42, 1, 38, 22, 33, 16, 42, 6, 17, 40, 32, 7, 45, 3, 6, 35, 9, 46, 1, 2, 3, 5, 10, 11, 12, 16, 17, 22, 23, 24, 26, 28, 30, 33, 34, 38, 39, 40, 42, 47, 48, 17, 34, 35, 34, 32, 12, 23, 27, 21, 12, 45, 47, 24, 36, 39, 8, 31, 26, 14, 14, 2, 3, 35, 19, 28, 31, 40, 39, 36, 18, 2, 3, 26, 33, 1, 21, 27, 27, 34, 1, 31, 23, 3, 43, 3, 17, 37, 37, 37, 30, 20, 43, 9, 12, 15, 19, 5, 10, 12, 25, 16, 18, 49, 27, 35, 30, 27, 19, 9, 13, 49, 8, 19, 30, 32, 35, 36, 26, 31, 47, 10, 49, 32, 37, 29, 33, 45, 44, 3, 17, 41, 37, 43, 45, 25, 4, 29, 31, 42, 20, 24, 25, 42, 16, 23, 37, 13, 16, 7, 21, 37, 6, 14, 14, 16, 24, 27, 28, 23, 21, 22, 22, 22, 7, 8, 22, 8, 47, 28, 12, 33, 45, 35, 28, 33, 50, 5, 12, 16, 39, 21, 44, 48, 33, 31, 6, 4, 49, 42, 39, 22, 2, 23, 39, 2, 30, 2, 45, 11, 24, 49, 3, 11, 15, 21, 33, 41, 10, 11, 12, 16, 19, 23, 24, 33, 14, 10, 46, 47, 31, 42, 4, 5, 42, 6, 30, 48, 9, 16, 33, 25, 37, 31, 34, 1, 15, 33, 8, 24, 14, 47, 27, 50, 26, 6, 39, 46, 30, 2, 40, 45, 47, 48, 4, 31, 26, 34, 28, 39, 34, 40, 26, 29, 8, 36, 25, 50, 32, 45, 3, 46, 30, 45, 2, 11, 3, 12, 43, 50, 12, 17, 31, 28, 22, 14, 10, 9, 26, 9, 45, 46, 27, 35, 21, 33, 39, 35, 26, 1, 8, 13, 37, 22, 5, 37, 13, 33, 15, 18, 5, 18, 23, 32, 46, 19, 4, 25, 46, 10, 25, 41, 47, 38, 30, 3, 15, 20, 17, 38, 10, 30, 21, 28, 11, 4, 45, 40, 3, 5, 8, 21, 22, 7, 7, 24, 15, 5, 5, 25, 13, 13, 41, 38, 29, 5, 13, 44, 42, 15, 45, 30, 15, 37, 17, 31, 4, 44, 6, 35, 20, 33, 19, 38, 12, 47, 28, 38, 39, 28, 18, 22, 35, 5, 10, 35, 42, 40, 24, 2, 7, 34, 35, 35, 42, 1, 2, 3, 5, 6, 7, 8, 9, 10, 11, 12, 13, 14, 15, 16, 17, 20, 22, 24, 28, 30, 31, 32, 33, 36, 37, 40, 41, 42, 44, 45, 47, 50, 35, 42, 29, 33, 7, 9, 40, 46, 28, 32, 13, 9, 27, 45, 9, 24, 12, 18, 36, 10, 50, 27, 12, 19, 30, 43, 4, 30, 43, 49, 17, 30, 35, 29, 22, 47, 50, 29, 39, 41, 5, 42, 43, 42, 11, 10, 40, 8, 18, 17, 46, 40, 42, 44, 45, 22, 44, 6, 49, 32, 4, 21, 49, 49, 24, 10, 6, 16, 6, 32, 16, 46, 13, 14, 19, 27, 27, 20, 16, 27, 1, 48, 32, 47, 29, 28, 31, 26, 19, 42, 1, 40, 21, 44, 34, 36, 31, 12, 33, 49, 43, 40, 46, 28, 18, 39, 35, 16, 5, 7, 10, 9, 50, 34, 16, 34, 9, 27, 21, 22, 7, 18, 33, 5, 11, 25, 46, 44, 48, 16, 31, 37, 3, 36, 16, 45, 2, 29, 41, 48, 13, 22, 50, 15, 13, 18, 49, 44, 41, 50, 31, 25, 38, 25, 34, 13, 49, 29, 13, 30, 39, 10, 12, 16, 23, 30, 35, 28, 43, 44, 49, 50, 47, 50, 5, 16, 24, 35, 40, 25, 22, 32, 21, 36, 19, 14, 29, 22, 26, 2, 2, 5, 7, 8, 10, 12, 13, 19, 20, 22, 23, 24, 29, 39, 40, 41, 44, 24, 50, 5, 46, 48, 43, 22, 44, 14, 2, 32, 6, 41, 48, 15, 22, 50, 1, 4, 5, 15, 18, 23, 27, 2, 22, 34, 28, 30, 45, 31, 14, 26, 25, 8, 26, 31, 18, 4, 36, 19, 14, 9, 31, 43, 43, 1, 25, 16, 37, 37, 26, 5, 29, 37, 49, 10, 2, 3, 7, 9, 7, 9, 5, 2, 12, 17, 19, 23, 33, 37, 38, 40, 50, 18, 43, 36, 42, 5, 26, 16, 11, 16, 45, 41, 39, 33, 46, 42, 42, 12, 48, 9, 6, 18, 23, 21, 23, 38, 34, 25, 16, 39, 45, 33, 18, 14, 7, 26, 21, 14, 28, 29, 46, 23, 31, 32, 3, 40, 41, 8, 18, 18, 18, 9, 6, 48, 43, 26, 31, 40, 40, 25, 28, 28, 38, 27, 36, 11, 28, 10, 2, 44, 26, 46, 6, 23, 44, 31, 42, 33, 10, 44, 18, 16, 12, 4, 27, 40, 3, 37, 41, 8, 10, 17, 36, 11, 23, 7, 9, 1, 3, 38, 28, 23, 1, 3, 5, 11, 12, 33, 39, 42, 50, 3, 30, 27, 31, 5, 9, 10, 26, 13, 3, 26, 9, 28, 11, 36, 33, 17, 46, 21, 32, 29, 7, 33, 32, 29, 14, 46, 1, 37, 9, 40, 46, 23, 26, 17, 20, 10, 21, 39, 36, 31, 22, 13, 46, 40, 15, 26, 38, 45, 15, 11, 8, 29, 6, 29, 48, 18, 12, 29, 39, 13, 10, 44, 27, 12, 26, 12, 29, 7, 19, 48, 49, 13, 25, 9, 31, 8, 10, 11, 12, 13, 16, 18, 19, 23, 24, 29, 32, 34, 35, 38, 40, 43, 44, 48, 2, 27, 17, 7, 2, 14, 30, 47, 8, 37, 48, 35, 18, 26, 26, 30, 3, 4, 44, 41, 31, 18, 25, 48, 35, 44, 41, 16, 50, 19, 32, 50, 16, 26, 37, 14, 16, 24, 8, 21, 22, 24, 32, 21, 42, 13, 21, 26, 28, 36, 34, 9, 3, 42, 22, 40, 22, 40, 28, 2, 22, 39, 9, 25, 6, 2, 3, 13, 14, 17, 20, 22, 29, 38, 40, 42, 45, 47, 21, 34, 10, 29, 15, 50, 35, 12, 49, 41, 39, 5, 34, 21, 21, 34, 21, 28, 21, 27, 43, 47, 40, 34, 36, 26, 20, 30, 28, 41, 30, 19, 43, 8, 45, 23, 8, 27, 30, 5, 7, 9, 17, 46, 48, 29, 17, 33, 36, 39, 9, 13, 27, 1, 3, 15, 19, 21, 46, 50, 26, 7, 35, 34, 16, 24, 33, 45, 34, 31, 43, 14, 32, 2, 5, 10, 11, 16, 18, 20, 22, 24, 28, 40, 44, 35, 40, 16, 23, 17, 41, 31, 37, 21, 17, 5, 49, 47, 15, 44, 20, 15, 32, 10, 25, 6, 36, 42, 3, 5, 40, 30, 45, 4, 21, 27, 1, 18, 37, 31, 24, 44, 1, 10, 23, 46, 1, 3, 7, 9, 15, 26, 14, 43, 49, 22, 28, 6, 16, 20, 8, 40, 49, 45, 33, 13, 6, 9, 44, 33, 1, 2, 3, 5, 6, 8, 9, 10, 12, 13, 14, 18, 20, 22, 23, 24, 25, 29, 32, 34, 36, 39, 40, 42, 43, 44, 47, 48, 50, 34, 47, 50, 34, 47, 43, 28, 30, 5, 11, 46, 13, 24, 49, 5, 48, 16, 26, 18, 34, 43, 19, 32, 35, 48, 32, 5, 14, 12, 18, 24, 29, 34, 39, 48, 18, 41, 39, 48, 44, 31, 47, 6, 4, 14, 37, 42, 10, 12, 13, 29, 34, 44, 25, 35, 36, 50, 17, 46, 44, 30, 38, 32, 35, 42, 47, 30, 49, 36, 11, 20, 29, 46, 2, 47, 37, 1, 12, 15, 25, 34, 23, 43, 12, 36, 41, 27, 27, 31, 16, 38, 30, 23, 31, 20, 47, 35, 27, 16, 26, 39, 14, 26, 4, 41, 2, 7, 28, 48, 3, 44, 12, 30, 23, 31, 28, 36, 26, 31, 46, 48, 15, 44, 34, 26, 37, 16, 41, 35, 7, 1, 3, 6, 4, 46, 16, 31, 30, 31, 22, 26, 35, 30, 19, 29, 46, 4, 8, 46, 16, 43, 37, 50, 47, 28, 40, 41, 15, 3, 25, 14, 10, 47, 23, 48, 28, 34, 15, 22, 5, 35, 20, 14, 30, 25, 48, 50, 49, 6, 42, 39, 9, 5, 36, 7, 10, 15, 12, 38, 11, 18, 25, 45, 44, 33, 49, 2, 36, 47, 48, 25, 40, 10, 36, 44, 45, 8, 3, 26, 46, 22, 25, 42, 38, 7, 13, 19, 48, 31, 15, 2, 46, 22, 21, 46, 41, 27, 48, 18, 5, 25, 35, 24, 26, 28, 28, 45, 44, 5, 3, 45, 20, 42, 48, 22, 28, 46, 41, 18, 23, 24, 10, 5, 21, 33, 34, 37, 44, 44, 18, 5, 44, 47, 8, 32, 11, 2, 10, 47, 39, 9, 50, 31, 48, 47, 8, 16, 34, 12, 14, 15, 23, 48, 12, 1, 2, 3, 5, 9, 13, 14, 16, 18, 19, 20, 22, 23, 25, 26, 27, 28, 30, 32, 33, 35, 36, 37, 39, 41, 42, 46, 47, 48, 46, 32, 37, 6, 40, 41, 22, 2, 6, 8, 10, 12, 13, 16, 17, 20, 22, 24, 27, 28, 33, 36, 38, 39, 40, 42, 43, 44, 45, 46, 3, 9, 36, 20, 6, 48, 37, 12, 23, 19, 10, 13, 20, 29, 42, 12, 11, 28, 32, 4, 47, 4, 6, 18, 49, 50, 42, 18, 31, 35, 1, 3, 15, 7, 50, 16, 15, 47, 7, 16, 47, 13, 42, 44, 31, 34, 50, 4, 37, 28, 50, 42, 47, 10, 12, 18, 2, 50, 9, 42, 37, 27, 17, 18, 41, 25, 22, 49, 27, 7, 10, 12, 11, 21, 33, 41, 40, 14, 40, 46, 17, 6, 21, 15, 17, 39, 16, 33, 33, 21, 34, 35, 11, 43, 7, 31, 4, 26, 26, 20, 45, 1, 15, 47, 10, 43, 5, 39, 13, 20, 37, 41, 35, 35, 41, 17, 13, 44, 35, 2, 3, 5, 6, 7, 9, 10, 13, 14, 16, 20, 22, 24, 25, 28, 29, 33, 34, 36, 39, 40, 41, 42, 43, 44, 47, 48, 49, 9, 34, 32, 37, 24, 22, 13, 45, 19, 5, 19, 5, 34, 27, 2, 4, 10, 11, 17, 28, 31, 38, 41, 50, 1, 35, 35, 7, 15, 33, 42, 42, 46, 12, 38, 12, 36, 16, 49, 10, 20, 46, 18, 9, 13, 49, 45, 25, 42, 13, 24, 31, 27, 14, 11, 35, 28, 2, 3, 4, 6, 7, 8, 9, 10, 11, 13, 14, 17, 18, 20, 26, 28, 30, 31, 32, 33, 35, 36, 37, 38, 39, 40, 41, 43, 45, 48, 49, 36, 6, 4, 43, 47, 48, 10, 22, 39, 40, 5, 41, 9, 41, 35, 42, 31, 12, 31, 19, 13, 8, 14, 34, 36, 36, 22, 44, 20, 8, 48, 19, 20, 40, 1, 11, 26, 33, 3, 48, 18, 50, 34, 1, 11, 35, 37, 13, 21, 24, 25, 34, 50, 26, 25, 20, 37, 25, 40, 1, 4, 10, 21, 21, 2, 31, 21, 14, 28, 33, 49, 27, 20, 40, 1, 1, 2, 3, 5, 7, 9, 10, 12, 16, 17, 20, 21, 22, 23, 26, 28, 33, 34, 38, 44, 45, 46, 48, 50, 12, 49, 9, 50, 29, 16, 32, 41, 48, 34, 43, 37, 40, 48, 42, 24, 35, 8, 2, 39, 41, 4, 46, 17, 32, 17, 9, 17, 17, 39, 35, 33, 20, 5, 9, 50, 18, 43, 48, 33, 25, 38, 30, 19, 12, 16, 23, 23, 35, 39, 7, 48, 43, 48, 42, 3, 2, 18, 30, 34, 26, 45, 49, 31, 17, 13, 15, 36, 38, 50, 34, 12, 20, 13, 12, 32, 45, 35, 13, 17, 22, 42, 50, 39, 38, 31, 12, 21, 23, 17, 40, 11, 43, 19, 29, 29, 36, 16, 45, 47, 49, 35, 48, 36, 17, 31, 20, 38, 40, 16, 3, 23, 18, 7, 20, 41, 12, 49, 49, 1, 43, 3, 27, 47, 19, 21, 23, 13, 50, 20, 26, 13, 8, 18, 6, 36, 1, 3, 5, 6, 8, 9, 10, 12, 14, 15, 17, 18, 19, 20, 22, 23, 28, 29, 32, 33, 34, 35, 38, 40, 46, 47, 48, 50, 24, 50, 16, 47, 5, 39, 11, 1, 44, 16, 14, 7, 23, 42, 6, 12, 16, 23, 33, 40, 46, 13, 25, 40, 21, 46, 16, 44, 27, 23, 11, 33, 43, 25, 32, 19, 14, 1, 46, 24, 33, 47, 46, 8, 24, 25, 23, 40, 48, 12, 36, 7, 2, 41, 39, 46, 38, 38, 32, 29, 35, 35, 43, 11, 39, 14, 22, 45, 39, 33, 36, 2, 6, 11, 12, 13, 16, 24, 25, 34, 36, 37, 40, 42, 43, 44, 46, 47, 48, 35, 12, 48, 6, 26, 4, 22, 34, 2, 22, 21, 13, 11, 12, 16, 17, 23, 24, 40, 42, 26, 31, 42, 23, 26, 50, 43, 32, 20, 42, 31, 50, 30, 13, 37, 8, 19, 31, 44, 48, 15, 29, 1, 27, 43, 4, 9, 35, 35, 46, 32, 39, 8, 9, 50, 43, 4, 29, 29, 32, 2, 38, 11, 20, 23, 24, 40, 12, 22, 44, 10, 12, 20, 23, 24, 31, 38, 49, 10, 29, 13, 50, 14, 2, 11, 7, 33, 35, 14, 46, 36, 46, 40, 18, 22, 34, 29, 49, 28, 32, 43, 41, 32, 31, 1, 37, 35, 25, 17, 15, 29, 32, 13, 40, 32, 46, 30, 9, 22, 34, 21, 24, 44, 31, 18, 44, 39, 32, 9, 35, 30, 20, 25, 49, 4, 32, 26, 1, 13, 46, 48, 14, 11, 42, 25, 4, 20, 26, 2, 13, 6, 24, 37, 31, 10, 35, 11, 29, 26, 20, 46, 30, 1, 2, 4, 6, 9, 10, 12, 13, 16, 17, 18, 20, 23, 28, 34, 35, 36, 37, 38, 39, 40, 42, 43, 44, 48, 30, 46, 27, 8, 5, 12, 40, 23, 25, 21, 20, 24, 27, 43, 24, 17, 49, 43, 16, 10, 24, 6, 26, 26, 16, 21, 46, 6, 8, 28, 18, 35, 40, 43, 48, 18, 2, 23, 2, 15, 18, 3, 6, 18, 18, 23, 46, 12, 12, 12, 30, 44, 11, 4, 23, 32, 40, 19, 3, 36, 1, 6, 27, 16, 37, 18, 1, 22, 21, 6, 13, 5, 22, 34, 36, 20, 15, 17, 4, 1, 49, 30, 7, 14, 32, 33, 5, 2, 13, 39, 32, 47, 17, 4, 9, 37, 31, 40, 41, 12, 22, 17, 31, 46, 48, 14, 9, 50, 44, 50, 18, 16, 38, 39, 27, 22, 7, 8, 13, 17, 22, 26, 28, 34, 35, 37, 40, 11, 9, 42, 48, 18, 5, 11, 42, 18, 30, 36, 1, 2, 3, 5, 6, 8, 10, 11, 12, 13, 16, 18, 21, 22, 24, 33, 38, 40, 41, 44, 47, 7, 22, 41, 39, 20, 46, 20, 7, 23, 8, 47, 21, 35, 1, 14, 31, 12, 44, 5, 23, 5, 48, 32, 17, 23, 20, 26, 17, 18, 40, 30, 27, 7, 10, 31, 6, 38, 35, 42, 6, 4, 35, 41, 12, 24, 21, 45, 25, 6, 4, 45, 9, 38, 19, 45, 35, 11, 8, 43, 35, 5, 50, 14, 43, 8, 9, 30, 24, 33, 26, 34, 8, 14, 42, 36, 7, 6, 8, 10, 23, 25, 26, 30, 32, 39, 41, 42, 50, 38, 32, 29, 28, 44, 20, 40, 14, 44, 17, 16, 19, 13, 34, 15, 25, 19, 46, 31, 22, 10, 23, 22, 8, 12, 30, 8, 30, 20, 3, 20, 26, 5, 37, 36, 39, 21, 15, 13, 19, 4, 28, 31, 1, 21, 27, 23, 29, 26, 24, 35, 3, 10, 29, 6, 3, 32, 10, 50, 10, 6, 30, 23, 26, 24, 7, 26, 2, 4, 21, 43, 49, 3, 12, 12, 28, 3, 9, 10, 13, 14, 15, 20, 21, 22, 24, 25, 26, 28, 29, 34, 35, 36, 37, 39, 40, 42, 44, 34, 14, 35, 35, 22, 12, 18, 29, 30, 31, 35, 18, 30, 14, 14, 8, 22, 34, 35, 30, 45, 30, 7, 37, 37, 44, 24, 41, 6, 39, 2, 40, 12, 22, 34, 31, 16, 29, 40, 28, 24, 27, 48, 5, 49, 19, 26, 24, 2, 3, 12, 13, 16, 20, 23, 24, 25, 28, 31, 38, 42, 49, 3, 39, 4, 26, 12, 1, 21, 1, 36, 11, 35, 32, 46, 19, 38, 38, 18, 35, 12, 30, 5, 11, 5, 37, 28, 35, 30, 22, 17, 9, 39, 36, 24, 2, 44, 48, 32, 21, 20, 9, 7, 14, 18, 22, 23, 25, 28, 32, 40, 44, 38, 34, 20, 5, 12, 18, 41, 21, 43, 34, 28, 16, 2, 43, 29, 20, 39, 5, 5, 1, 3, 21, 22, 27, 34, 22, 22, 17, 45, 8, 45, 49, 25, 48, 5, 40, 45, 24, 17, 48, 41, 33, 13, 24, 26, 43, 23, 7, 28, 29, 19, 33, 4, 39, 18, 21, 27, 34, 11, 43, 35, 47, 31, 46, 38, 40, 22, 32, 4, 31, 26, 31, 46, 31, 34, 22, 49, 46, 7, 26, 23, 39, 41, 11, 42, 26, 24, 16, 1, 42, 12, 12, 39, 43, 37, 40, 34, 41, 9, 49, 6, 45, 22, 44, 13, 26, 29, 13, 39, 40, 18, 48, 44, 31, 25, 47, 4, 34, 23, 29, 31, 4, 6, 46, 26, 28, 14, 11, 20, 38, 22, 33, 26, 23, 44, 11, 29, 31, 49, 23, 16, 1, 9, 21, 27, 44, 23, 12, 5, 8, 25, 3, 50, 24, 41, 8, 22, 22, 43, 38, 43, 34, 24, 32, 45, 49, 18, 14, 34, 36, 27, 29, 1, 2, 3, 5, 6, 7, 8, 9, 10, 13, 14, 18, 19, 22, 25, 26, 32, 35, 37, 40, 42, 43, 42, 15, 33, 40, 37, 27, 1, 2, 3, 5, 8, 10, 11, 12, 14, 15, 16, 18, 21, 23, 24, 32, 33, 38, 41, 46, 50, 40, 4, 36, 40, 8, 21, 29, 46, 5, 2, 44, 5, 24, 33, 24, 43, 5, 35, 48, 13, 48, 25, 19, 17, 46, 49, 1, 3, 3, 15, 50, 49, 45, 8, 43, 43, 29, 26, 11, 40, 37, 28, 3, 49, 22, 36, 24, 10, 5, 1, 21, 6, 34, 23, 26, 45, 7, 50, 34, 40, 45, 32, 11, 45, 25, 24, 30, 6, 47, 37, 37, 8, 15, 19, 23, 39, 50, 42, 4, 3, 44, 21, 36, 36, 44, 46, 49, 47, 39, 38, 6, 20, 22, 26, 47, 24, 38, 26, 24, 10, 25, 6, 38, 28, 6, 47, 41, 28, 40, 5, 28, 45, 22, 29, 41, 9, 37, 36, 47, 49, 45, 34, 24, 15, 23, 38, 13, 44, 43, 4, 43, 32, 28, 39, 9, 20, 6, 25, 20, 31, 4, 41, 50, 31, 13, 18, 22, 24, 39, 43, 47, 49, 23, 18, 15, 33, 40, 50, 5, 44, 30, 31, 3, 15, 31, 31, 31, 1, 41, 2, 33, 23, 26, 6, 45, 3, 36, 6, 31, 26, 43, 20, 37, 48, 10, 26, 44, 47, 11, 15, 15, 18, 13, 29, 29, 9, 19, 3, 5, 10, 43, 23, 43, 2, 48, 44, 40, 31, 13, 9, 16, 34, 39, 5, 15, 11, 50, 10, 22, 10, 29, 42, 15, 23, 38, 29, 47, 32, 22, 18, 24, 28, 48, 22, 50, 5, 42, 37, 50, 10, 11, 45, 34, 25, 34, 3, 24, 22, 8, 10, 31, 31, 40, 13, 31, 45, 1, 50, 40, 20, 48, 3, 10, 42, 39, 13, 42, 29, 14, 45, 37, 49, 20, 50, 13, 19, 5, 44, 21, 4, 43, 21, 15, 46, 31, 28, 26, 49, 24, 24, 36, 12, 1, 47, 16, 26, 13, 33, 10, 17, 24, 32, 9, 36, 11, 23, 37, 18, 49, 20, 4, 4, 44, 13, 44, 39, 36, 38, 17, 42, 35, 41, 11, 12, 8, 15, 19, 8, 21, 49, 3, 22, 25, 19, 23, 24, 9, 23, 4, 25, 12, 16, 38, 11, 12, 12, 37, 21, 48, 22, 7, 1, 5, 12, 47, 20, 27, 50, 11, 6, 2, 43, 12, 25, 17, 22, 43, 11, 25, 47, 20, 48, 29, 7, 7, 31, 28, 23, 2, 8, 18, 32, 48, 23, 44, 6, 26, 36, 47, 18, 25, 19, 5, 5, 18, 22, 33, 43, 43, 26, 19, 29, 22, 40, 11, 15, 39, 48, 40, 5, 12, 17, 45, 2, 7, 14, 20, 45, 5, 36, 43, 1, 2, 3, 5, 6, 7, 8, 10, 11, 13, 14, 16, 17, 18, 20, 24, 25, 28, 30, 31, 33, 35, 36, 37, 38, 39, 41, 42, 43, 44, 45, 46, 47, 48, 49, 50, 34, 43, 30, 8, 12, 23, 28, 34, 20, 44, 3, 30, 33, 5, 40, 19, 29, 15, 43, 26, 23, 34, 39, 8, 16, 49, 32, 38, 50, 25, 13, 9, 38, 22, 49, 10, 15, 20, 50, 7, 39, 17, 42, 26, 14, 11, 34, 18, 8, 36, 6, 40, 50, 29, 1, 26, 26, 8, 34, 27, 33, 44, 24, 32, 8, 43, 14, 31, 39, 4, 44, 9, 40, 14, 9, 21, 50, 8, 35, 27, 35, 35, 38, 24, 42, 24, 47, 21, 45, 33, 46, 20, 45, 38, 18, 40, 5, 7, 10, 30, 47, 13, 16, 39, 9, 1, 2, 3, 5, 6, 9, 10, 11, 12, 14, 15, 16, 17, 18, 20, 21, 22, 23, 24, 25, 28, 29, 30, 31, 32, 34, 35, 36, 37, 38, 39, 40, 42, 43, 45, 46, 48, 49, 50, 37, 11, 13, 16, 34, 25, 45, 35, 32, 26, 46, 45, 20, 34, 42, 1, 3, 15, 17, 1, 45, 35, 42, 5, 47, 20, 19, 47, 45, 37, 28, 40, 12, 36, 28, 7, 9, 28, 47, 5, 8, 7, 12, 16, 23, 15, 41, 37, 31, 43, 12, 32, 31, 9, 38, 15, 44, 33, 10, 11, 18, 23, 25, 8, 22, 27, 44, 27, 22, 27, 34, 18, 34, 42, 40, 40, 7, 18, 3, 6, 14, 23, 25, 38, 30, 25, 45, 48, 30, 31, 3, 39, 46, 8, 1, 26, 31, 45, 40, 44, 36, 32, 12, 35, 7, 50, 31, 13, 45, 26, 7, 39, 18, 19, 17, 50, 21, 2, 8, 23, 24, 32, 34, 38, 40, 41, 44, 45, 46, 47, 10, 17, 21, 39, 2, 18, 32, 28, 32, 49, 13, 12, 16, 6, 23, 7, 22, 32, 15, 5, 43, 32, 2, 2, 49, 32, 18, 24, 8, 12, 15, 15, 35, 8, 31, 7, 2, 42, 4, 42, 25, 31, 6, 32, 38, 1, 23, 5, 5, 17, 20, 35, 44, 45, 3, 6, 8, 10, 34, 30, 1, 2, 3, 4, 5, 6, 10, 11, 12, 15, 16, 18, 20, 21, 22, 33, 34, 36, 38, 39, 42, 48, 22, 33, 16, 36, 24, 38, 13, 20, 27, 25, 31, 23, 10, 27, 43, 10, 16, 41, 20, 49, 7, 29, 45, 21, 43, 29, 49, 44, 16, 21, 18, 44, 43, 4, 18, 42, 13, 37, 17, 28, 9, 13, 16, 18, 24, 28, 29, 36, 38, 40, 41, 43, 44, 45, 49, 50, 3, 13, 18, 37, 6, 10, 25, 35, 39, 32, 37, 50, 28, 24, 15, 25, 45, 40, 10, 34, 3, 24, 34, 38, 17, 18, 39, 34, 3, 9, 15, 39, 10, 42, 2, 18, 35, 26, 43, 4, 40, 19, 43, 48, 24, 47, 28, 47, 48, 49, 40, 24, 2, 8, 18, 19, 11, 16, 42, 23, 37, 47, 3, 14, 38, 46, 39, 38, 19, 47, 35, 45, 33, 31, 9, 41, 38, 4, 22, 48, 34, 48, 43, 5, 50, 11, 14, 39, 15, 11, 13, 12, 28, 10, 31, 46, 40, 10, 16, 23, 16, 47, 36, 9, 41, 37, 9, 19, 7, 9, 47, 19, 37, 40, 5, 8, 12, 24, 3, 10, 17, 14, 40, 44, 45, 19, 33, 16, 18, 35, 2, 4, 6, 13, 45, 30, 32, 7, 40, 28, 42, 31, 33, 36, 6, 3, 2, 11, 11, 7, 7, 34, 39, 19, 17, 13, 48, 49, 24, 31, 31, 31, 9, 46, 39, 4, 49, 43, 31, 10, 5, 46, 33, 40, 37, 17, 11, 48, 50, 21, 30, 11, 37, 50, 1, 2, 3, 6, 7, 8, 10, 11, 12, 16, 17, 19, 20, 21, 23, 24, 25, 26, 28, 30, 31, 32, 33, 34, 35, 36, 37, 38, 39, 40, 41, 42, 43, 45, 46, 47, 48, 50, 21, 28, 36, 34, 2, 3, 4, 5, 6, 7, 8, 9, 10, 13, 14, 15, 16, 17, 18, 20, 23, 28, 29, 30, 31, 33, 35, 36, 37, 38, 39, 40, 41, 42, 44, 45, 46, 47, 48, 49, 40, 45, 47, 44, 37, 5, 11, 5, 13, 18, 22, 28, 34, 37, 40, 42, 43, 44, 46, 49, 14, 9, 36, 46, 41, 27, 25, 50, 49, 23, 28, 23, 41, 8, 14, 16, 49, 50, 34, 39, 47, 34, 39, 35, 49, 12, 39, 46, 19, 4, 8, 13, 30, 36, 41, 43, 49, 14, 2, 9, 6, 32, 6, 47, 9, 29, 22, 20, 40, 44, 38, 18, 3, 4, 6, 8, 9, 10, 11, 12, 13, 15, 16, 17, 21, 22, 25, 26, 27, 28, 29, 30, 34, 36, 39, 41, 42, 43, 45, 47, 48, 37, 40, 49, 18, 19, 39, 9, 26, 5, 16, 25, 13, 40, 20, 36, 46, 42, 6, 26, 26, 35, 7, 18, 45, 21, 25, 1, 21, 27, 48, 21, 19, 42, 35, 47, 37, 20, 47, 26, 27, 10, 38, 27, 18, 50, 28, 9, 33, 38, 24, 50, 4, 46, 44, 14, 16, 7, 48, 14, 21, 25, 39, 3, 46, 32, 7, 33, 47, 46, 25, 26, 9, 48, 45, 5, 7, 36, 12, 23, 16, 1, 13, 33, 43, 48, 13, 10, 35, 6, 6, 40, 15, 12, 35, 42, 22, 36, 27, 34, 36, 2, 5, 12, 18, 23, 38, 47, 4, 9, 22, 4, 42, 5, 47, 43, 13, 28, 22, 25, 16, 27, 25, 3, 7, 11, 12, 14, 29, 33, 40, 42, 47, 41, 19, 27, 26, 40, 2, 12, 22, 50, 27, 47, 19, 9, 26, 15, 17, 40, 35, 20, 45, 24, 48, 30, 44, 45, 11, 31, 17, 2, 3, 5, 8, 11, 16, 20, 21, 23, 24, 26, 32, 38, 28, 22, 3, 7, 19, 2, 5, 30, 35, 43, 28, 33, 28, 16, 12, 38, 40, 44, 14, 46, 22, 13, 8, 12, 23, 43, 44, 6, 33, 34, 47, 32, 8, 33, 6, 31, 17, 26, 13, 28, 45, 3, 16, 21, 41, 2, 34, 12, 15, 39, 38, 7, 9, 19, 33, 50, 1, 10, 12, 16, 24, 26, 36, 39, 47, 48, 41, 28, 37, 40, 31, 44, 38, 24, 20, 29, 4, 46, 31, 14, 31, 15, 47, 18, 7, 44, 6, 41, 17, 34, 26, 16, 34, 31, 24, 19, 8, 49, 50, 36, 17, 9, 38, 19, 44, 47, 3, 5, 45, 3, 5, 6, 7, 10, 14, 15, 18, 20, 22, 24, 25, 33, 40, 42, 43, 44, 45, 48, 49, 36, 18, 12, 35, 35, 36, 18, 29, 50, 29, 2, 3, 6, 7, 10, 11, 13, 18, 20, 22, 23, 24, 25, 28, 29, 30, 33, 34, 36, 37, 39, 40, 42, 43, 44, 47, 48, 50, 5, 28, 16, 41, 16, 19, 16, 11, 49, 1, 2, 6, 9, 10, 15, 17, 13, 21, 22, 25, 29, 34, 39, 3, 49, 12, 35, 40, 31, 1, 2, 3, 5, 6, 8, 9, 10, 11, 15, 20, 37, 38, 42, 36, 16, 44, 35, 37, 16, 7, 2, 25, 47, 37, 20, 42, 38, 39, 25, 44, 27, 25, 11, 16, 24, 23, 13, 22, 29, 19, 16, 45, 37, 7, 9, 14, 16, 24, 17, 2, 48, 12, 13, 15, 16, 24, 13, 5, 28, 19, 46, 28, 35, 11, 32, 38, 2, 3, 5, 6, 7, 10, 14, 15, 16, 20, 22, 24, 26, 28, 29, 35, 37, 39, 40, 42, 44, 45, 47, 48, 49, 10, 2, 3, 4, 5, 6, 7, 14, 16, 20, 23, 24, 25, 28, 30, 34, 36, 38, 40, 47, 48, 18, 44, 14, 10, 45, 42, 43, 22, 17, 1, 3, 5, 6, 9, 10, 11, 13, 14, 16, 17, 19, 20, 22, 23, 27, 34, 35, 36, 37, 38, 39, 40, 42, 44, 45, 48, 49, 25, 10, 35, 37, 23, 12, 23, 35, 33, 10, 38, 47, 28, 32, 7, 35, 39, 46, 33, 38, 14, 32, 22, 37, 17, 31, 43, 32, 17, 7, 33, 47, 49, 18, 49, 23, 35, 7, 39, 43, 44, 48, 34, 16, 15, 16, 49, 1, 10, 12, 16, 3, 5, 36, 27, 31, 38, 27, 25, 29, 21, 14, 11, 13, 40, 46, 27, 4, 35, 35, 35, 35, 7, 43, 27, 8, 18, 47, 2, 48], \"Freq\": [0.97826086956521741, 1.0, 1.0, 1.0, 1.0, 1.0, 1.0, 1.0, 1.0, 1.0, 1.0, 1.0, 1.0, 1.0, 1.0, 1.0, 1.0, 1.0, 1.0, 1.0, 1.0, 1.0, 1.0, 1.0, 1.0, 1.0, 1.0, 1.0, 1.0, 1.0, 1.0, 1.0, 1.0, 1.0, 1.0, 1.0, 1.0, 1.0, 1.0, 1.0, 1.0, 1.0, 1.0, 1.0, 1.0, 1.0, 1.0, 1.0, 1.0, 1.0, 1.0, 1.0, 1.0, 1.0, 1.0, 1.0, 1.0, 1.0, 1.0, 1.0, 1.0, 1.0, 1.0, 1.0, 1.0, 1.0, 0.99838709677419357, 1.0, 1.0, 1.0, 0.0037735849056603774, 0.89811320754716983, 0.033962264150943396, 0.041509433962264149, 0.011320754716981131, 1.0, 1.0, 1.0, 1.0, 1.0, 1.0, 1.0, 1.0, 1.0, 1.0, 1.0, 1.0, 1.0, 1.0, 1.0, 1.0, 1.0, 1.0, 0.83333333333333337, 0.16666666666666666, 1.0, 1.0, 1.0, 1.0, 1.0, 1.0, 1.0, 1.0, 1.0, 1.0, 1.0, 1.0, 0.875, 1.0, 1.0, 1.0, 1.0, 1.0, 1.0, 1.0, 1.0, 1.0, 1.0, 1.0, 1.0, 1.0, 1.0, 0.7857142857142857, 0.21428571428571427, 1.0, 0.875, 1.0, 1.0, 1.0, 1.0, 1.0, 1.0, 1.0, 1.0, 1.0, 1.0, 1.0, 1.0, 1.0, 1.0, 1.0, 1.0, 1.0, 1.0, 1.0, 1.0, 1.0, 1.0, 0.99212598425196852, 0.98979591836734693, 1.0, 0.93333333333333335, 0.066666666666666666, 1.0, 1.0, 1.0, 1.0, 1.0, 0.875, 1.0, 1.0, 1.0, 1.0, 1.0, 1.0, 1.0, 1.0, 1.0, 1.0, 1.0, 1.0, 1.0, 1.0, 1.0, 1.0, 1.0, 1.0, 1.0, 0.080000000000000002, 0.90000000000000002, 1.0, 1.0, 1.0, 1.0, 1.0, 1.0, 1.0, 1.0, 1.0, 1.0, 1.0, 0.95833333333333337, 1.0, 1.0, 1.0, 1.0, 1.0, 1.0, 1.0, 1.0, 1.0, 0.78873239436619713, 0.14084507042253522, 0.056338028169014086, 0.96875, 1.0, 1.0, 1.0, 1.0, 1.0, 1.0, 0.37549407114624506, 0.16996047430830039, 0.45454545454545453, 0.96875, 1.0, 1.0, 1.0, 0.97999999999999998, 0.9925373134328358, 1.0, 1.0, 0.98412698412698407, 1.0, 1.0, 1.0, 1.0, 1.0, 1.0, 1.0, 1.0, 1.0, 1.0, 1.0, 1.0, 1.0, 0.94444444444444442, 1.0, 1.0, 1.0, 0.88569518716577544, 0.11363636363636363, 1.0, 0.20833333333333334, 0.66666666666666663, 0.083333333333333329, 1.0, 0.94117647058823528, 1.0, 1.0, 1.0, 1.0, 1.0, 1.0, 1.0, 1.0, 1.0, 1.0, 1.0, 1.0, 0.77391304347826084, 0.22173913043478261, 1.0, 1.0, 1.0, 1.0, 1.0, 0.875, 0.99115044247787609, 1.0, 1.0, 1.0, 1.0, 1.0, 1.0, 1.0, 1.0, 1.0, 1.0, 1.0, 1.0, 1.0, 1.0, 1.0, 1.0, 1.0, 1.0, 1.0, 1.0, 1.0, 1.0, 1.0, 1.0, 1.0, 1.0, 1.0, 1.0, 0.9375, 1.0, 1.0, 1.0, 1.0, 1.0, 1.0, 1.0, 1.0, 1.0, 1.0, 1.0, 0.98630136986301364, 1.0, 1.0, 1.0, 1.0, 1.0, 1.0, 1.0, 0.96875, 1.0, 1.0, 0.83333333333333337, 0.875, 1.0, 1.0, 1.0, 1.0, 1.0, 1.0, 1.0, 1.0, 1.0, 1.0, 1.0, 1.0, 1.0, 1.0, 1.0, 1.0, 1.0, 1.0, 1.0, 0.9975609756097561, 1.0, 1.0, 0.00030959752321981426, 0.061919504643962849, 0.017337461300309599, 0.020743034055727555, 0.036222910216718265, 0.019814241486068113, 0.025386996904024767, 0.0030959752321981426, 0.0046439628482972135, 0.091021671826625392, 0.063467492260061917, 0.0058823529411764705, 0.03808049535603715, 0.0034055727554179569, 0.0018575851393188853, 0.010835913312693499, 0.0071207430340557275, 0.028792569659442723, 0.0024767801857585141, 0.027244582043343655, 0.047987616099071206, 0.10588235294117647, 0.006501547987616099, 0.0077399380804953561, 0.024148606811145511, 0.058204334365325079, 0.017337461300309599, 0.014860681114551083, 0.015479876160990712, 0.13343653250773993, 0.010216718266253869, 0.0058823529411764705, 0.0024767801857585141, 0.012074303405572756, 0.0077399380804953561, 0.0049535603715170282, 0.00030959752321981426, 0.015789473684210527, 0.030030959752321982, 0.006501547987616099, 0.0030959752321981426, 0.99867374005305043, 1.0, 1.0, 1.0, 1.0, 0.99053627760252361, 1.0, 1.0, 1.0, 1.0, 0.9926739926739927, 1.0, 0.8771929824561403, 0.1189083820662768, 1.0, 1.0, 1.0, 1.0, 1.0, 0.98913043478260865, 1.0, 1.0, 0.97222222222222221, 1.0, 1.0, 0.059667240390131958, 0.084911072862880091, 0.049340218014916809, 0.074584050487664949, 0.096385542168674704, 0.096959265633964425, 0.065978198508318986, 0.10728628800917958, 0.0005737234652897303, 0.092369477911646583, 0.057946069994262765, 0.01835915088927137, 0.0005737234652897303, 0.021801491681009755, 0.0022948938611589212, 0.031554790590935168, 0.020654044750430294, 0.074010327022375214, 0.014916810097532989, 0.0080321285140562242, 0.0097532989099254168, 0.0028686173264486519, 0.0086058519793459545, 0.88888888888888884, 0.9925373134328358, 1.0, 1.0, 0.96153846153846156, 0.35540069686411152, 0.6428571428571429, 0.90909090909090906, 0.97142857142857142, 0.9995231282784931, 1.0, 1.0, 1.0, 1.0, 0.98275862068965514, 1.0, 1.0, 1.0, 0.99624060150375937, 1.0, 0.99342105263157898, 0.91666666666666663, 0.98550724637681164, 0.94736842105263153, 0.99367088607594933, 1.0, 0.99728997289972898, 0.99305555555555558, 1.0, 1.0, 0.17741935483870969, 0.08387096774193549, 0.64193548387096777, 0.093548387096774197, 0.97413228552717746, 0.020628683693516701, 0.004911591355599214, 1.0, 1.0, 0.66666666666666663, 0.98979591836734693, 0.97499999999999998, 1.0, 1.0, 0.97368421052631582, 0.98773006134969321, 1.0, 0.98969072164948457, 0.98863636363636365, 1.0, 1.0, 0.98750000000000004, 1.0, 1.0, 1.0, 1.0, 0.15611814345991562, 0.74472573839662448, 0.0949367088607595, 0.0021097046413502108, 1.0, 1.0, 0.99319727891156462, 0.9928057553956835, 0.99078341013824889, 1.0, 1.0, 0.92307692307692313, 1.0, 1.0, 0.97777777777777775, 0.28428571428571431, 0.41428571428571431, 0.14190476190476189, 0.021904761904761906, 0.037142857142857144, 0.10047619047619048, 0.042857142857142858, 0.94285714285714284, 0.98529411764705888, 0.99730458221024254, 1.0, 1.0, 1.0, 0.97142857142857142, 1.0, 0.9859154929577465, 1.0, 1.0, 1.0, 1.0, 1.0, 1.0, 1.0, 0.99731903485254692, 0.93939393939393945, 0.060606060606060608, 0.9882352941176471, 0.99610894941634243, 1.0, 0.70979020979020979, 0.28846153846153844, 0.97727272727272729, 0.0012269938650306749, 0.99754601226993866, 1.0, 1.0, 1.0, 0.99898887765419619, 0.98581560283687941, 0.9971910112359551, 1.0, 1.0, 1.0, 1.0, 1.0, 0.96296296296296291, 0.037037037037037035, 0.90000000000000002, 1.0, 1.0, 1.0, 1.0, 1.0, 1.0, 1.0, 0.99428571428571433, 0.99145299145299148, 1.0, 1.0, 1.0, 1.0, 1.0, 0.17857142857142858, 0.80952380952380953, 0.99678456591639875, 1.0, 0.78977272727272729, 0.21022727272727273, 0.90000000000000002, 1.0, 0.96296296296296291, 1.0, 0.99814814814814812, 1.0, 1.0, 1.0, 1.0, 1.0, 0.98275862068965514, 0.98958333333333337, 0.99936788874841975, 0.7890625, 0.203125, 0.9850746268656716, 0.83333333333333337, 0.96226415094339623, 0.037735849056603772, 0.95833333333333337, 0.875, 1.0, 0.0031847133757961785, 0.013800424628450107, 0.076433121019108277, 0.7133757961783439, 0.19108280254777071, 1.0, 0.0054884742041712408, 0.99341383095499447, 0.0010235414534288639, 0.19651995905834185, 0.0010235414534288639, 0.041965199590583417, 0.74513817809621286, 0.014329580348004094, 0.97368421052631582, 0.21176470588235294, 0.77647058823529413, 0.98734177215189878, 1.0, 0.98969072164948457, 1.0, 0.17045454545454544, 0.81818181818181823, 0.33884297520661155, 0.65950413223140492, 0.98333333333333328, 1.0, 0.95901639344262291, 0.024590163934426229, 1.0, 1.0, 1.0, 1.0, 0.9642857142857143, 1.0, 1.0, 1.0, 1.0, 1.0, 1.0, 0.99579831932773111, 1.0, 1.0, 1.0, 1.0, 0.98113207547169812, 1.0, 0.8666666666666667, 0.017948717948717947, 0.0076923076923076927, 0.066666666666666666, 0.035897435897435895, 1.0, 1.0, 1.0, 0.99530516431924887, 0.89211618257261416, 0.1078838174273859, 1.0, 1.0, 1.0, 0.99731182795698925, 0.88888888888888884, 0.99212598425196852, 0.99159663865546221, 1.0, 1.0, 1.0, 0.8571428571428571, 1.0, 1.0, 1.0, 0.20375865479723046, 0.79574678536102872, 0.99922057677318787, 1.0, 1.0, 0.99212598425196852, 1.0, 1.0, 1.0, 1.0, 1.0, 0.97727272727272729, 0.95454545454545459, 0.98412698412698407, 0.98333333333333328, 1.0, 0.9821428571428571, 0.99479166666666663, 0.99056603773584906, 0.96153846153846156, 1.0, 1.0, 1.0, 0.96153846153846156, 1.0, 1.0, 1.0, 1.0, 1.0, 1.0, 0.97368421052631582, 1.0, 0.96875, 1.0, 0.0061349693251533744, 0.98773006134969321, 0.016938110749185668, 0.039087947882736153, 0.00065146579804560263, 0.9407166123778502, 0.0013029315960912053, 1.0, 1.0, 1.0, 1.0, 1.0, 1.0, 0.99337748344370858, 0.98888888888888893, 1.0, 1.0, 0.9642857142857143, 0.94771241830065356, 0.045751633986928102, 0.99728260869565222, 1.0, 0.84132841328413288, 0.15682656826568267, 0.96153846153846156, 1.0, 1.0, 1.0, 0.99305555555555558, 1.0, 0.12487899322362052, 0.0643756050338819, 0.72458857696030976, 0.076476282671829626, 0.0091965150048402711, 1.0, 0.98305084745762716, 1.0, 0.9974025974025974, 0.99702380952380953, 0.99530516431924887, 0.984375, 1.0, 1.0, 0.88888888888888884, 1.0, 1.0, 0.82203389830508478, 0.11016949152542373, 0.059322033898305086, 1.0, 0.9885057471264368, 0.90909090909090906, 1.0, 0.99082568807339455, 0.97058823529411764, 1.0, 1.0, 1.0, 1.0, 1.0, 0.97619047619047616, 1.0, 1.0, 1.0, 1.0, 0.97777777777777775, 1.0, 0.98734177215189878, 0.91111111111111109, 0.088888888888888892, 1.0, 1.0, 1.0, 1.0, 1.0, 0.98181818181818181, 1.0, 1.0, 1.0, 0.98795180722891562, 1.0, 0.99152542372881358, 1.0, 1.0, 1.0, 1.0, 0.023498694516971279, 0.0069625761531766752, 0.020017406440382943, 0.0095735422106179285, 0.0069625761531766752, 0.14360313315926893, 0.0026109660574412533, 0.12706701479547433, 0.16884247171453437, 0.035683202785030461, 0.02959094865100087, 0.063533507397737166, 0.0043516100957354219, 0.033072236727589209, 0.020017406440382943, 0.027850304612706701, 0.0060922541340295913, 0.0060922541340295913, 0.01392515230635335, 0.042645778938207139, 0.0095735422106179285, 0.018276762402088774, 0.0043516100957354219, 0.0095735422106179285, 0.016536118363794605, 0.0087032201914708437, 0.043516100957354219, 0.057441253263707574, 0.0008703220191470844, 0.0087032201914708437, 0.020887728459530026, 0.0034812880765883376, 0.0034812880765883376, 1.0, 1.0, 0.99090909090909096, 0.99242424242424243, 0.62068965517241381, 0.37883797827113841, 1.0, 1.0, 0.86956521739130432, 0.12608695652173912, 1.0, 1.0, 1.0, 0.99750000000000005, 1.0, 0.99415204678362568, 0.99328859060402686, 1.0, 0.99572649572649574, 1.0, 1.0, 1.0, 1.0, 0.99578059071729963, 1.0, 1.0, 1.0, 0.95454545454545459, 1.0, 1.0, 1.0, 0.96875, 1.0, 0.99678456591639875, 1.0, 1.0, 0.99346405228758172, 0.98947368421052628, 1.0, 1.0, 0.87168141592920356, 0.0088495575221238937, 0.11504424778761062, 1.0, 1.0, 1.0, 1.0, 0.92307692307692313, 0.99354838709677418, 0.95833333333333337, 0.99447513812154698, 0.20394736842105263, 0.64473684210526316, 0.10526315789473684, 0.046052631578947366, 0.98795180722891562, 0.012048192771084338, 1.0, 1.0, 0.96551724137931039, 1.0, 0.875, 1.0, 0.98684210526315785, 1.0, 1.0, 1.0, 0.99305555555555558, 1.0, 1.0, 0.99342105263157898, 0.9916666666666667, 0.97368421052631582, 0.98611111111111116, 0.20000000000000001, 0.78000000000000003, 0.95833333333333337, 0.96551724137931039, 0.99736842105263157, 1.0, 0.75, 0.83333333333333337, 0.967741935483871, 0.95238095238095233, 1.0, 0.97999999999999998, 0.97619047619047616, 0.98717948717948723, 0.96296296296296291, 0.97560975609756095, 0.94736842105263153, 0.95238095238095233, 1.0, 0.97916666666666663, 1.0, 1.0, 1.0, 0.91331269349845201, 0.083591331269349839, 0.80000000000000004, 1.0, 0.70192307692307687, 0.28846153846153844, 0.99593495934959353, 0.9887640449438202, 0.95238095238095233, 1.0, 0.99465240641711228, 0.99941724941724941, 1.0, 1.0, 1.0, 0.99425287356321834, 1.0, 0.25185185185185183, 0.7407407407407407, 1.0, 1.0, 1.0, 0.99305555555555558, 0.94117647058823528, 1.0, 0.9838709677419355, 0.2857142857142857, 0.70952380952380956, 1.0, 0.98076923076923073, 0.99264705882352944, 1.0, 0.94444444444444442, 1.0, 0.99115044247787609, 1.0, 0.99908424908424909, 1.0, 1.0, 1.0, 1.0, 0.99588477366255146, 0.00411522633744856, 0.22437449556093625, 0.77481840193704599, 0.00080710250201775622, 0.98757763975155277, 0.99800796812749004, 0.17391304347826086, 0.78260869565217395, 0.99521531100478466, 0.97499999999999998, 0.95238095238095233, 0.967741935483871, 1.0, 0.99681528662420382, 1.0, 0.99180327868852458, 1.0, 1.0, 0.83333333333333337, 0.98750000000000004, 0.90000000000000002, 0.99507389162561577, 0.11627906976744186, 0.13953488372093023, 0.63178294573643412, 0.03875968992248062, 0.011627906976744186, 0.054263565891472867, 0.989247311827957, 1.0, 1.0, 1.0, 0.95999999999999996, 1.0, 0.9859154929577465, 0.96153846153846156, 0.23015873015873015, 0.76190476190476186, 0.9642857142857143, 0.9838709677419355, 0.98675496688741726, 0.96551724137931039, 0.99797160243407712, 0.99507389162561577, 0.9932432432432432, 0.99678456591639875, 0.98360655737704916, 0.99236641221374045, 0.24509803921568626, 0.75163398692810457, 1.0, 0.053315994798439535, 0.037711313394018203, 0.2847854356306892, 0.078023407022106639, 0.088426527958387513, 0.11703511053315994, 0.016905071521456438, 0.010403120936280884, 0.048114434330299091, 0.0052015604681404422, 0.079323797139141741, 0.078023407022106639, 0.022106631989596878, 0.0039011703511053317, 0.039011703511053319, 0.016905071521456438, 0.023407022106631991, 0.99047619047619051, 0.9838709677419355, 1.0, 1.0, 0.97999999999999998, 1.0, 0.82163742690058483, 0.17543859649122806, 0.99115044247787609, 1.0, 0.94117647058823528, 1.0, 0.99892703862660948, 1.0, 1.0, 0.20000000000000001, 0.80000000000000004, 0.079205366357069137, 0.8232714138286894, 0.001805985552115583, 0.009029927760577915, 0.083333333333333329, 0.00051599587203302369, 0.0023219814241486067, 0.95148247978436662, 0.043126684636118601, 0.0026954177897574125, 0.99628252788104088, 0.98461538461538467, 0.99530516431924887, 1.0, 1.0, 1.0, 1.0, 1.0, 1.0, 1.0, 0.95999999999999996, 1.0, 1.0, 1.0, 0.9965397923875432, 0.995, 0.99319727891156462, 1.0, 0.97333333333333338, 1.0, 0.98473282442748089, 0.99099099099099097, 1.0, 1.0, 1.0, 1.0, 0.28155339805825241, 0.087378640776699032, 0.62135922330097082, 1.0, 1.0, 0.0051369863013698627, 0.92636986301369861, 0.065068493150684928, 0.21153846153846154, 0.78632478632478631, 0.99705882352941178, 0.091623036649214659, 0.16753926701570682, 0.094240837696335081, 0.081151832460732987, 0.32460732984293195, 0.10471204188481675, 0.054973821989528798, 0.070680628272251314, 0.002617801047120419, 0.005235602094240838, 0.97530864197530864, 0.024691358024691357, 0.35849056603773582, 0.63836477987421381, 1.0, 0.99019607843137258, 0.99375000000000002, 0.95833333333333337, 0.99275362318840576, 0.98360655737704916, 0.91666666666666663, 0.92307692307692313, 0.99742930591259638, 0.90909090909090906, 0.98484848484848486, 0.99082568807339455, 0.54838709677419351, 0.43548387096774194, 1.0, 0.99047619047619051, 0.96551724137931039, 0.9285714285714286, 0.9285714285714286, 1.0, 1.0, 1.0, 1.0, 1.0, 0.94117647058823528, 1.0, 1.0, 1.0, 0.99838449111470118, 1.0, 1.0, 0.96296296296296291, 0.12037037037037036, 0.42592592592592593, 0.30185185185185187, 0.14999999999999999, 0.19553072625698323, 0.0111731843575419, 0.79329608938547491, 1.0, 1.0, 0.99856733524355301, 0.99688473520249221, 1.0, 0.99519230769230771, 1.0, 1.0, 1.0, 1.0, 0.967741935483871, 0.99305555555555558, 0.95238095238095233, 0.99465240641711228, 1.0, 1.0, 1.0, 1.0, 1.0, 1.0, 0.98734177215189878, 1.0, 1.0, 0.99285714285714288, 0.9140625, 0.0703125, 1.0, 0.83333333333333337, 1.0, 0.90000000000000002, 0.089999999999999997, 0.99137931034482762, 0.96969696969696972, 0.99715909090909094, 0.97999999999999998, 0.97727272727272729, 0.98484848484848486, 0.99590163934426235, 0.97619047619047616, 0.97777777777777775, 0.97959183673469385, 0.91666666666666663, 0.9910714285714286, 0.99047619047619051, 0.99242424242424243, 0.97619047619047616, 0.097142857142857142, 0.89714285714285713, 1.0, 0.88194444444444442, 0.1111111111111111, 0.14320987654320988, 0.85432098765432096, 0.98305084745762716, 0.96153846153846156, 1.0, 0.90909090909090906, 1.0, 0.50164113785557984, 0.099015317286652083, 0.26094091903719913, 0.064551422319474833, 0.033369803063457333, 0.039934354485776806, 0.24271844660194175, 0.74757281553398058, 0.9932432432432432, 0.95454545454545459, 1.0, 0.99450549450549453, 1.0, 0.20353982300884957, 0.084070796460176997, 0.12389380530973451, 0.58407079646017701, 1.0, 0.98412698412698407, 1.0, 1.0, 0.9970149253731343, 1.0, 0.97058823529411764, 1.0, 0.9939393939393939, 1.0, 1.0, 0.95652173913043481, 0.98360655737704916, 1.0, 1.0, 1.0, 0.99494949494949492, 1.0, 1.0, 0.93333333333333335, 1.0, 0.012903225806451613, 0.24516129032258063, 0.73548387096774193, 0.90000000000000002, 1.0, 0.99929922915206726, 0.9921875, 0.98947368421052628, 0.98305084745762716, 0.98611111111111116, 1.0, 1.0, 1.0, 0.99497487437185927, 0.98969072164948457, 0.99669966996699666, 0.77142857142857146, 0.085714285714285715, 0.064285714285714279, 0.071428571428571425, 1.0, 1.0, 0.99763033175355453, 0.98936170212765961, 1.0, 1.0, 0.95999999999999996, 1.0, 0.99371069182389937, 0.99224806201550386, 1.0, 0.99729729729729732, 0.99609375, 0.95833333333333337, 0.99065420560747663, 1.0, 1.0, 1.0, 1.0, 1.0, 0.99431818181818177, 1.0, 1.0, 1.0, 1.0, 1.0, 0.96666666666666667, 0.15798319327731092, 0.0050420168067226894, 0.018487394957983194, 0.12605042016806722, 0.023529411764705882, 0.042016806722689079, 0.050420168067226892, 0.043697478991596636, 0.035294117647058823, 0.12605042016806722, 0.010084033613445379, 0.17478991596638654, 0.025210084033613446, 0.0084033613445378148, 0.099159663865546213, 0.0067226890756302525, 0.0050420168067226894, 0.030252100840336135, 0.011764705882352941, 1.0, 0.99867021276595747, 1.0, 0.99938912645082467, 1.0, 0.34262948207171312, 0.65537848605577687, 0.984375, 1.0, 0.99224806201550386, 0.95652173913043481, 0.9925373134328358, 1.0, 1.0, 1.0, 0.96296296296296291, 1.0, 1.0, 0.98611111111111116, 1.0, 0.97674418604651159, 1.0, 0.9887640449438202, 1.0, 0.967741935483871, 1.0, 1.0, 1.0, 1.0, 0.99616858237547889, 1.0, 1.0, 0.99115044247787609, 1.0, 1.0, 0.76888888888888884, 0.075555555555555556, 0.15333333333333332, 0.052631578947368418, 0.77263157894736845, 0.0021052631578947368, 0.12842105263157894, 0.042105263157894736, 0.99816513761467895, 1.0, 0.76194503171247352, 0.12938689217758986, 0.10782241014799154, 0.00042283298097251583, 0.97777777777777775, 0.96296296296296291, 0.99796334012219956, 1.0, 0.88888888888888884, 0.96969696969696972, 1.0, 0.98484848484848486, 0.97222222222222221, 1.0, 0.98333333333333328, 1.0, 1.0, 1.0, 1.0, 0.9375, 0.0093023255813953487, 0.6348837209302326, 0.01627906976744186, 0.0069767441860465115, 0.076744186046511634, 0.088372093023255813, 0.023255813953488372, 0.0069767441860465115, 0.062790697674418611, 0.013953488372093023, 0.058139534883720929, 0.0023255813953488372, 1.0, 1.0, 0.97368421052631582, 0.99773755656108598, 0.99514563106796117, 0.23195876288659795, 0.76288659793814428, 0.97674418604651159, 1.0, 1.0, 0.9821428571428571, 1.0, 0.27007299270072993, 0.72262773722627738, 1.0, 0.068000000000000005, 0.92800000000000005, 1.0, 0.97142857142857142, 0.6107784431137725, 0.38882235528942116, 1.0, 1.0, 1.0, 1.0, 0.94444444444444442, 1.0, 0.99641577060931896, 1.0, 0.17241379310344829, 0.7931034482758621, 1.0, 0.99601593625498008, 0.98765432098765427, 0.98692810457516345, 0.98571428571428577, 1.0, 1.0, 1.0, 1.0, 0.97058823529411764, 0.32244897959183672, 0.67346938775510201, 0.98717948717948723, 0.84848484848484851, 0.14141414141414141, 1.0, 1.0, 0.99532710280373837, 0.9859154929577465, 1.0, 1.0, 1.0, 1.0, 0.29467213114754098, 0.0028688524590163933, 0.60163934426229504, 0.10040983606557377, 1.0, 1.0, 1.0, 1.0, 0.77049180327868849, 0.22404371584699453, 1.0, 0.99115044247787609, 0.084645669291338585, 0.91338582677165359, 1.0, 1.0, 1.0, 0.8571428571428571, 1.0, 1.0, 0.075471698113207544, 0.12735849056603774, 0.10377358490566038, 0.025943396226415096, 0.054245283018867926, 0.021226415094339621, 0.073113207547169809, 0.21226415094339623, 0.056603773584905662, 0.14150943396226415, 0.08254716981132075, 0.025943396226415096, 0.9882352941176471, 0.98863636363636365, 0.27575757575757576, 0.72121212121212119, 1.0, 0.98181818181818181, 1.0, 1.0, 1.0, 0.99704142011834318, 0.99764150943396224, 0.98888888888888893, 0.94736842105263153, 1.0, 0.88888888888888884, 0.99019607843137258, 0.99180327868852458, 1.0, 1.0, 1.0, 0.87394957983193278, 0.11764705882352941, 1.0, 0.0032520325203252032, 0.99512195121951219, 0.875, 1.0, 1.0, 1.0, 1.0, 1.0, 0.83333333333333337, 1.0, 1.0, 1.0, 1.0, 1.0, 0.99029126213592233, 1.0, 0.99275362318840576, 1.0, 0.76205708661417326, 0.09375, 0.048105314960629919, 0.088336614173228342, 0.0075049212598425194, 1.0, 0.9642857142857143, 0.93333333333333335, 0.97727272727272729, 1.0, 1.0, 0.01020408163265306, 0.018367346938775512, 0.96938775510204078, 1.0, 0.97560975609756095, 0.99830795262267347, 1.0, 0.96875, 1.0, 0.99677419354838714, 1.0, 1.0, 0.98684210526315785, 0.0024242424242424242, 0.025454545454545455, 0.018181818181818181, 0.046060606060606059, 0.021212121212121213, 0.012727272727272728, 0.018181818181818181, 0.070909090909090908, 0.06545454545454546, 0.0072727272727272727, 0.047272727272727272, 0.045454545454545456, 0.11090909090909092, 0.012727272727272728, 0.0036363636363636364, 0.079393939393939392, 0.0030303030303030303, 0.029696969696969697, 0.014545454545454545, 0.051515151515151514, 0.072727272727272724, 0.033333333333333333, 0.033333333333333333, 0.033939393939393943, 0.013939393939393939, 0.012727272727272728, 0.035151515151515149, 0.061212121212121211, 0.016363636363636365, 0.89130434782608692, 0.097826086956521743, 1.0, 1.0, 1.0, 1.0, 0.96153846153846156, 1.0, 1.0, 0.99305555555555558, 1.0, 0.98412698412698407, 1.0, 1.0, 0.84146341463414631, 0.14634146341463414, 0.16981132075471697, 0.82547169811320753, 1.0, 1.0, 1.0, 0.99360341151385922, 0.0042643923240938165, 1.0, 0.97999999999999998, 0.98076923076923073, 1.0, 1.0, 0.075163398692810454, 0.12091503267973856, 0.0098039215686274508, 0.51307189542483655, 0.13071895424836602, 0.14052287581699346, 0.0098039215686274508, 1.0, 1.0, 0.99199999999999999, 0.97999999999999998, 1.0, 1.0, 0.9375, 0.9941860465116279, 1.0, 1.0, 1.0, 1.0, 0.28000000000000003, 0.71199999999999997, 0.75206611570247939, 0.11570247933884298, 0.10743801652892562, 0.016528925619834711, 1.0, 0.99137931034482762, 1.0, 0.98750000000000004, 1.0, 1.0, 1.0, 0.97058823529411764, 0.97058823529411764, 0.99401197604790414, 1.0, 1.0, 0.994413407821229, 0.99350649350649356, 1.0, 0.9885057471264368, 1.0, 1.0, 0.75824175824175821, 0.24175824175824176, 0.99883313885647607, 0.96666666666666667, 1.0, 0.29764011799410028, 0.21297935103244839, 0.48318584070796461, 0.0050147492625368731, 0.00088495575221238937, 1.0, 0.98529411764705888, 1.0, 1.0, 1.0, 1.0, 0.98461538461538467, 1.0, 0.95238095238095233, 0.95454545454545459, 0.97560975609756095, 1.0, 1.0, 0.98275862068965514, 0.99755501222493892, 1.0, 0.96875, 0.93333333333333335, 1.0, 0.90000000000000002, 0.98275862068965514, 0.99911032028469748, 0.99328859060402686, 0.99152542372881358, 1.0, 0.72131147540983609, 0.12295081967213115, 0.13934426229508196, 1.0, 1.0, 0.96666666666666667, 0.98484848484848486, 0.99350649350649356, 1.0, 0.97872340425531912, 1.0, 1.0, 1.0, 1.0, 1.0, 0.984375, 1.0, 0.99857752489331442, 1.0, 1.0, 1.0, 1.0, 1.0, 1.0, 0.98245614035087714, 0.96551724137931039, 1.0, 1.0, 1.0, 1.0, 0.92307692307692313, 1.0, 1.0, 0.16806722689075632, 0.68067226890756305, 0.14285714285714285, 0.99456521739130432, 0.11702127659574468, 0.095744680851063829, 0.78723404255319152, 0.967741935483871, 0.99137931034482762, 0.97499999999999998, 0.92727272727272725, 0.054545454545454543, 0.97297297297297303, 1.0, 1.0, 0.99783080260303691, 0.98305084745762716, 0.99099099099099097, 0.99849849849849848, 1.0, 0.99759615384615385, 0.99559471365638763, 0.99799196787148592, 1.0, 0.99367088607594933, 0.98461538461538467, 0.99310344827586206, 0.94999999999999996, 0.82213438735177868, 0.17391304347826086, 1.0, 0.98750000000000004, 1.0, 0.44808743169398907, 0.54918032786885251, 0.1111111111111111, 0.77777777777777779, 1.0, 1.0, 0.95652173913043481, 1.0, 0.96969696969696972, 1.0, 0.98901098901098905, 0.95238095238095233, 0.83215547703180215, 0.080388692579505303, 0.086572438162544174, 0.98461538461538467, 0.99704142011834318, 1.0, 0.97999999999999998, 1.0, 1.0, 0.98795180722891562, 0.95454545454545459, 0.98058252427184467, 0.27932960893854747, 0.078212290502793297, 0.0055865921787709499, 0.63128491620111726, 1.0, 1.0, 0.24852071005917159, 0.66863905325443784, 0.076923076923076927, 0.95999999999999996, 0.99550561797752812, 1.0, 1.0, 0.9907407407407407, 1.0, 1.0, 1.0, 0.94999999999999996, 0.86885245901639341, 0.13114754098360656, 1.0, 1.0, 0.95652173913043481, 1.0, 1.0, 0.90909090909090906, 1.0, 0.96969696969696972, 1.0, 0.90909090909090906, 0.94736842105263153, 0.97826086956521741, 1.0, 1.0, 0.99555555555555553, 0.99137931034482762, 1.0, 0.84868421052631582, 0.14473684210526316, 0.99295774647887325, 1.0, 1.0, 1.0, 0.86363636363636365, 0.12878787878787878, 0.97619047619047616, 0.97222222222222221, 0.91666666666666663, 0.97297297297297303, 0.8571428571428571, 0.98888888888888893, 1.0, 0.98148148148148151, 0.99651567944250874, 1.0, 1.0, 1.0, 0.42771084337349397, 0.10240963855421686, 0.24698795180722891, 0.03614457831325301, 0.18674698795180722, 1.0, 1.0, 0.11016949152542373, 0.78389830508474578, 0.10169491525423729, 0.39007092198581561, 0.6063829787234043, 0.99899699097291872, 1.0, 0.99869621903520212, 0.98999999999999999, 1.0, 1.0, 1.0, 0.984375, 0.98750000000000004, 0.97297297297297303, 0.99717514124293782, 1.0, 1.0, 0.171875, 0.8203125, 1.0, 0.97499999999999998, 0.99065420560747663, 1.0, 0.0084033613445378148, 0.081632653061224483, 0.010804321728691477, 0.012004801920768308, 0.0060024009603841539, 0.010804321728691477, 0.010804321728691477, 0.043217286914765909, 0.09003601440576231, 0.0036014405762304922, 0.056422569027611044, 0.04561824729891957, 0.034813925570228089, 0.033613445378151259, 0.087635054021608649, 0.0084033613445378148, 0.068427370948379349, 0.0012004801920768306, 0.025210084033613446, 0.024009603841536616, 0.025210084033613446, 0.11164465786314526, 0.01920768307322929, 0.0036014405762304922, 0.068427370948379349, 0.015606242496998799, 0.010804321728691477, 0.01920768307322929, 0.062424969987995196, 0.98630136986301364, 0.99350649350649356, 0.99038461538461542, 1.0, 0.98529411764705888, 1.0, 1.0, 0.020283975659229209, 0.010141987829614604, 0.064908722109533468, 0.04665314401622718, 0.038539553752535496, 0.040567951318458417, 0.099391480730223122, 0.044624746450304259, 0.04665314401622718, 0.058823529411764705, 0.16632860040567951, 0.0040567951318458417, 0.089249492900608518, 0.018255578093306288, 0.064908722109533468, 0.0060851926977687626, 0.034482758620689655, 0.026369168356997971, 0.026369168356997971, 0.052738336713995942, 0.014198782961460446, 0.014198782961460446, 0.014198782961460446, 1.0, 0.99636363636363634, 1.0, 0.99755501222493892, 0.99559471365638763, 0.97142857142857142, 1.0, 0.99350649350649356, 0.95238095238095233, 1.0, 0.95655608214849919, 0.018957345971563982, 0.0015797788309636651, 0.02132701421800948, 1.0, 1.0, 1.0, 0.97560975609756095, 0.98888888888888893, 0.90816326530612246, 0.081632653061224483, 1.0, 0.99350649350649356, 0.9907407407407407, 0.90909090909090906, 1.0, 0.97777777777777775, 1.0, 1.0, 0.99242424242424243, 0.22444183313748531, 0.71210340775558167, 0.062279670975323151, 0.99638989169675085, 0.98245614035087714, 0.99761904761904763, 1.0, 0.98630136986301364, 1.0, 0.98913043478260865, 1.0, 0.97499999999999998, 0.95652173913043481, 0.99581589958159, 1.0, 0.96666666666666667, 0.98529411764705888, 0.76020408163265307, 0.23877551020408164, 0.98689956331877726, 0.0043668122270742356, 0.97058823529411764, 0.90909090909090906, 0.75896414342629481, 0.20418326693227093, 0.0348605577689243, 1.0, 1.0, 0.8820224719101124, 0.11235955056179775, 1.0, 1.0, 1.0, 0.99687499999999996, 0.97727272727272729, 1.0, 0.90000000000000002, 1.0, 1.0, 0.98113207547169812, 0.94936708860759489, 0.046413502109704644, 0.75301204819277112, 0.14859437751004015, 0.096385542168674704, 1.0, 0.98684210526315785, 0.88888888888888884, 1.0, 0.97368421052631582, 1.0, 0.75, 0.25, 0.99748743718592969, 1.0, 1.0, 1.0, 0.99579831932773111, 1.0, 1.0, 1.0, 0.99853801169590639, 0.9885057471264368, 0.90000000000000002, 1.0, 0.984375, 1.0, 0.98181818181818181, 1.0, 1.0, 0.998330550918197, 0.95652173913043481, 1.0, 0.94736842105263153, 0.99285714285714288, 1.0, 1.0, 0.98648648648648651, 0.99009900990099009, 1.0, 1.0, 0.99019607843137258, 1.0, 1.0, 1.0, 1.0, 1.0, 0.90909090909090906, 1.0, 0.011249121162409188, 0.26763534098898523, 0.031169439887508789, 0.085071478790719482, 0.068432153737989221, 0.090461682681040545, 0.029763299742207639, 0.033044293414576986, 0.038668853995781578, 0.0058589172720881185, 0.0084368408718068898, 0.04968361846730724, 0.050152331849074291, 0.020389032106866652, 0.0014061401453011485, 0.010311694398875087, 0.0063276306538551678, 0.023201312397468948, 0.017108038434497305, 0.0044527771267869696, 0.027185376142488869, 0.0074994141082727912, 0.00046871338176704945, 0.047808764940239043, 0.040778064213733305, 0.014061401453011484, 0.0093742676353409885, 0.00023435669088352472, 0.07744565217391304, 0.92119565217391308, 1.0, 1.0, 1.0, 0.99734042553191493, 1.0, 1.0, 0.99690402476780182, 0.99921011058451814, 1.0, 0.98095238095238091, 0.0095238095238095247, 0.99206349206349209, 0.089562764456981664, 0.58321579689703806, 0.10225669957686882, 0.0077574047954866009, 0.095204513399153742, 0.039492242595204514, 0.066995768688293378, 0.011988716502115656, 0.0014104372355430183, 1.0, 1.0, 1.0, 1.0, 0.97222222222222221, 1.0, 1.0, 0.99924812030075183, 0.98245614035087714, 0.96875, 0.78846153846153844, 0.19230769230769232, 1.0, 1.0, 1.0, 1.0, 1.0, 0.999185667752443, 0.98717948717948723, 0.99342105263157898, 0.10137275607180571, 0.89809926082365366, 1.0, 0.9907407407407407, 0.99933949801849409, 0.98333333333333328, 0.97916666666666663, 0.99681528662420382, 0.98809523809523814, 0.99456521739130432, 1.0, 0.90909090909090906, 0.99725274725274726, 1.0, 0.13544973544973546, 0.0056437389770723108, 0.069841269841269843, 0.019753086419753086, 0.09594356261022928, 0.055026455026455028, 0.00035273368606701942, 0.014109347442680775, 0.0017636684303350969, 0.10158730158730159, 0.019047619047619049, 0.063844797178130505, 0.0010582010582010583, 0.012698412698412698, 0.046913580246913583, 0.07019400352733686, 0.043386243386243389, 0.0017636684303350969, 0.0038800705467372134, 0.017989417989417989, 0.021869488536155203, 0.0056437389770723108, 0.13051146384479717, 0.0010582010582010583, 0.014109347442680775, 0.0038800705467372134, 0.027513227513227514, 0.0014109347442680777, 0.0021164021164021165, 0.00070546737213403885, 0.010934744268077601, 0.98630136986301364, 0.98550724637681164, 1.0, 0.95833333333333337, 0.78260869565217395, 0.21739130434782608, 1.0, 1.0, 0.90909090909090906, 0.99857752489331442, 1.0, 1.0, 1.0, 1.0, 1.0, 1.0, 1.0, 0.8666666666666667, 0.13333333333333333, 0.75, 0.98529411764705888, 1.0, 0.071428571428571425, 0.9107142857142857, 1.0, 1.0, 0.99082568807339455, 0.99404761904761907, 1.0, 0.99468085106382975, 0.99842022116903628, 0.71621621621621623, 0.27927927927927926, 0.99444444444444446, 0.94673447537473232, 0.00026766595289079231, 0.0037473233404710922, 0.048982869379014991, 0.19753086419753085, 0.79835390946502061, 1.0, 0.92307692307692313, 0.99259259259259258, 0.97297297297297303, 0.98181818181818181, 1.0, 1.0, 0.16988416988416988, 0.12355212355212356, 0.31274131274131273, 0.20463320463320464, 0.18532818532818532, 1.0, 1.0, 1.0, 1.0, 0.99354838709677418, 0.23931623931623933, 0.75213675213675213, 0.1493084956251764, 0.68275472763195033, 0.10951171323736945, 0.058142816821902345, 0.99607843137254903, 0.99305555555555558, 1.0, 0.94444444444444442, 0.99647887323943662, 1.0, 0.95999999999999996, 0.97674418604651159, 0.99943820224719104, 1.0, 1.0, 1.0, 0.24648943421949557, 0.25548738922972053, 0.068029993183367415, 0.060122699386503067, 0.025766871165644172, 0.1138377641445126, 0.013633265167007498, 0.0062713019768234493, 0.0095432856169052494, 0.043762781186094071, 0.019222903885480574, 0.027948193592365372, 0.00040899795501022495, 0.0158145875937287, 0.017586912065439674, 0.0083162917518745747, 0.024403544648943423, 0.0051806407634628496, 0.0096796182685753244, 0.0059986366734832994, 0.0025903203817314248, 0.012133605998636674, 0.0072256305385139741, 0.00040899795501022495, 0.94999999999999996, 0.98666666666666669, 1.0, 1.0, 0.99337748344370858, 1.0, 0.98888888888888893, 1.0, 1.0, 1.0, 1.0, 1.0, 1.0, 1.0, 1.0, 0.97727272727272729, 1.0, 1.0, 1.0, 0.9965870307167235, 0.97297297297297303, 1.0, 1.0, 1.0, 1.0, 1.0, 1.0, 0.99333333333333329, 1.0, 1.0, 1.0, 1.0, 0.99173553719008267, 0.0097719869706840382, 0.98697068403908794, 0.97222222222222221, 0.87755102040816324, 0.11904761904761904, 0.99760765550239239, 1.0, 0.8571428571428571, 0.11904761904761904, 1.0, 0.99702380952380953, 0.81443298969072164, 0.077319587628865982, 0.10824742268041238, 1.0, 0.99759615384615385, 0.98888888888888893, 0.99082568807339455, 0.80000000000000004, 0.80000000000000004, 0.17999999999999999, 1.0, 0.95238095238095233, 0.99650349650349646, 1.0, 0.97916666666666663, 1.0, 0.80991735537190079, 0.020661157024793389, 0.16528925619834711, 0.98936170212765961, 0.95999999999999996, 0.79926335174953955, 0.19889502762430938, 0.125, 0.875, 1.0, 1.0, 1.0, 1.0, 0.97560975609756095, 0.10344827586206896, 0.89162561576354682, 0.92307692307692313, 1.0, 1.0, 1.0, 0.9821428571428571, 1.0, 0.96296296296296291, 1.0, 1.0, 0.9838709677419355, 1.0, 1.0, 0.98684210526315785, 0.99528301886792447, 1.0, 0.90000000000000002, 0.94444444444444442, 1.0, 0.90909090909090906, 1.0, 0.99300699300699302, 0.17482517482517482, 0.81818181818181823, 1.0, 0.9838709677419355, 1.0, 1.0, 1.0, 0.96551724137931039, 1.0, 0.10037174721189591, 0.88847583643122674, 0.0037174721189591076, 1.0, 1.0, 0.95454545454545459, 0.96969696969696972, 0.99532710280373837, 0.9925373134328358, 0.98684210526315785, 1.0, 1.0, 1.0, 0.98717948717948723, 0.98684210526315785, 0.76851851851851849, 0.22222222222222221, 1.0, 0.8571428571428571, 0.99887766554433222, 0.97058823529411764, 1.0, 0.98648648648648651, 1.0, 1.0, 1.0, 1.0, 1.0, 1.0, 1.0, 0.24566473988439305, 0.093930635838150284, 0.056358381502890173, 0.071290944123314062, 0.030346820809248554, 0.1478805394990366, 0.028420038535645471, 0.018304431599229287, 0.0048169556840077067, 0.027938342967244702, 0.0019267822736030828, 0.04527938342967245, 0.0057803468208092483, 0.022639691714836225, 0.010597302504816955, 0.047206165703275529, 0.0067437379576107898, 0.0033718689788053949, 0.044315992292870907, 0.0057803468208092483, 0.0052986512524084775, 0.0096339113680154135, 0.016377649325626204, 0.00096339113680154141, 0.006262042389210019, 0.039499036608863197, 0.0024084778420038534, 0.00096339113680154141, 1.0, 0.99925980754996302, 1.0, 1.0, 1.0, 0.98750000000000004, 0.97916666666666663, 1.0, 1.0, 1.0, 0.98809523809523814, 0.98666666666666669, 0.98461538461538467, 1.0, 0.016949152542372881, 0.021186440677966101, 0.059322033898305086, 0.67372881355932202, 0.22457627118644069, 0.93650793650793651, 0.055555555555555552, 1.0, 0.9882352941176471, 1.0, 1.0, 0.98947368421052628, 1.0, 1.0, 0.98148148148148151, 0.98765432098765427, 0.95999999999999996, 0.94047619047619047, 0.047619047619047616, 0.74736842105263157, 0.24210526315789474, 1.0, 1.0, 0.69585253456221197, 0.30414746543778803, 0.98333333333333328, 0.9642857142857143, 1.0, 0.99425287356321834, 1.0, 0.94545454545454544, 0.036363636363636362, 1.0, 0.99521531100478466, 1.0, 1.0, 0.98245614035087714, 1.0, 1.0, 1.0, 0.9975186104218362, 1.0, 0.9285714285714286, 0.99960489924930862, 0.98611111111111116, 1.0, 0.97560975609756095, 1.0, 0.94444444444444442, 1.0, 1.0, 0.94999999999999996, 0.99812734082397003, 1.0, 0.95238095238095233, 1.0, 0.99212598425196852, 1.0, 0.034383954154727794, 0.16045845272206305, 0.073065902578796568, 0.027220630372492838, 0.081661891117478513, 0.054441260744985676, 0.11891117478510028, 0.0673352435530086, 0.030085959885386818, 0.020057306590257881, 0.025787965616045846, 0.02865329512893983, 0.03151862464183381, 0.047277936962750719, 0.0042979942693409743, 0.1174785100286533, 0.075931232091690545, 0.9887640449438202, 1.0, 0.9285714285714286, 1.0, 1.0, 1.0, 0.98245614035087714, 1.0, 1.0, 1.0, 1.0, 0.98360655737704916, 0.0056179775280898875, 0.20224719101123595, 0.5056179775280899, 0.06741573033707865, 0.1404494382022472, 0.0056179775280898875, 0.011235955056179775, 0.061797752808988762, 1.0, 0.9882352941176471, 1.0, 1.0, 0.76630434782608692, 0.22826086956521738, 1.0, 0.99300699300699302, 1.0, 1.0, 1.0, 0.99029126213592233, 1.0, 0.99367088607594933, 1.0, 0.44026186579378068, 0.55891980360065463, 1.0, 1.0, 0.98999999999999999, 1.0, 0.98979591836734693, 0.0038314176245210726, 0.9923371647509579, 0.98275862068965514, 1.0, 0.98969072164948457, 1.0, 1.0, 0.99270072992700731, 0.080459770114942528, 0.90804597701149425, 0.99937343358395991, 0.96296296296296291, 1.0, 0.9850746268656716, 0.57631578947368423, 0.42105263157894735, 0.95238095238095233, 1.0, 1.0, 0.99681528662420382, 0.12422360248447205, 0.0062111801242236021, 0.031055900621118012, 0.0062111801242236021, 0.82608695652173914, 1.0, 0.94444444444444442, 1.0, 0.022408963585434174, 0.0056022408963585435, 0.014005602240896359, 0.0028011204481792717, 0.0028011204481792717, 0.0056022408963585435, 0.85994397759103647, 0.08683473389355742, 1.0, 1.0, 0.94736842105263153, 1.0, 0.92307692307692313, 0.99980739599383672, 0.98701298701298701, 1.0, 1.0, 0.9850746268656716, 0.88621794871794868, 0.11217948717948718, 1.0, 1.0, 1.0, 0.25925925925925924, 0.20370370370370369, 0.53240740740740744, 1.0, 1.0, 1.0, 0.98550724637681164, 1.0, 0.97727272727272729, 0.99547511312217196, 0.99752475247524752, 0.66666666666666663, 0.98039215686274506, 1.0, 1.0, 1.0, 1.0, 1.0, 1.0, 0.96875, 0.98305084745762716, 1.0, 1.0, 1.0, 1.0, 0.99779735682819382, 0.99487179487179489, 1.0, 0.99428571428571433, 1.0, 0.9285714285714286, 1.0, 1.0, 1.0, 0.99827882960413084, 1.0, 0.98958333333333337, 0.99390243902439024, 0.99512195121951219, 0.23749999999999999, 0.75, 0.51622418879056042, 0.4808259587020649, 1.0, 1.0, 0.95196506550218341, 0.043668122270742356, 1.0, 0.99596774193548387, 1.0, 1.0, 0.95999999999999996, 1.0, 1.0, 1.0, 0.99981028267880856, 0.9850746268656716, 0.99732620320855614, 0.98113207547169812, 1.0, 1.0, 1.0, 1.0, 1.0, 1.0, 0.99447513812154698, 0.99689440993788825, 1.0, 1.0, 0.26573033707865168, 0.0081460674157303372, 0.0030898876404494382, 0.199438202247191, 0.1196629213483146, 0.021348314606741574, 0.010955056179775281, 0.0078651685393258432, 0.009269662921348315, 0.017134831460674158, 0.020224719101123594, 0.17050561797752808, 0.00028089887640449441, 0.0081460674157303372, 0.019382022471910114, 0.014606741573033709, 0.011516853932584269, 0.008988764044943821, 0.010112359550561797, 0.0064606741573033704, 0.030617977528089889, 0.0011235955056179776, 0.0064606741573033704, 0.0098314606741573031, 0.018258426966292134, 0.9821428571428571, 1.0, 0.9907407407407407, 0.99795918367346936, 0.81623931623931623, 0.055555555555555552, 0.12393162393162394, 0.99918699186991866, 0.98360655737704916, 1.0, 0.99541284403669728, 0.14754098360655737, 0.84426229508196726, 0.97959183673469385, 1.0, 0.97560975609756095, 0.99337748344370858, 0.99789473684210528, 1.0, 1.0, 0.97368421052631582, 1.0, 1.0, 1.0, 0.11627906976744186, 0.87209302325581395, 1.0, 1.0, 1.0, 0.96153846153846156, 1.0, 1.0, 0.98550724637681164, 0.98039215686274506, 1.0, 0.9970326409495549, 0.23717948717948717, 0.75641025641025639, 0.004261363636363636, 0.74431818181818177, 0.25142045454545453, 0.67592592592592593, 0.078703703703703706, 0.24074074074074073, 1.0, 0.23076923076923078, 0.69230769230769229, 0.99551569506726456, 0.98113207547169812, 0.99242424242424243, 0.99378881987577639, 1.0, 0.99333333333333329, 1.0, 1.0, 0.99473684210526314, 1.0, 0.99487179487179489, 1.0, 0.99824561403508771, 0.35722185357221853, 0.64233576642335766, 0.00022119000221190003, 0.98765432098765427, 0.99928263988522237, 0.9942196531791907, 1.0, 1.0, 0.98484848484848486, 0.98076923076923073, 0.9285714285714286, 0.080000000000000002, 0.27200000000000002, 0.58399999999999996, 0.056000000000000001, 0.99521531100478466, 0.97560975609756095, 0.99874055415617125, 0.99777282850779514, 1.0, 1.0, 0.9838709677419355, 0.15789473684210525, 0.84210526315789469, 1.0, 1.0, 1.0, 0.29292929292929293, 0.70202020202020199, 1.0, 0.95999999999999996, 0.99242424242424243, 0.99435028248587576, 1.0, 0.9946236559139785, 0.967741935483871, 1.0, 0.8571428571428571, 1.0, 0.75257731958762886, 0.24742268041237114, 1.0, 0.72727272727272729, 0.22727272727272727, 0.97777777777777775, 0.99943181818181814, 0.38563829787234044, 0.61170212765957444, 0.99186991869918695, 0.98333333333333328, 0.99609375, 0.99481865284974091, 1.0, 1.0, 1.0, 1.0, 0.0051150895140664966, 0.0025575447570332483, 0.023017902813299233, 0.0076726342710997444, 0.0025575447570332483, 0.01278772378516624, 0.01278772378516624, 0.0025575447570332483, 0.0025575447570332483, 0.86189258312020456, 0.061381074168797956, 0.98979591836734693, 0.99275362318840576, 1.0, 0.94117647058823528, 1.0, 1.0, 0.96551724137931039, 0.98333333333333328, 0.99504950495049505, 0.80198019801980203, 0.19554455445544555, 0.12787926926131851, 0.11119936457505956, 0.017474185861795076, 0.10405083399523431, 0.031771247021445591, 0.050039714058776809, 0.023034154090548053, 0.065925337569499601, 0.050833995234312944, 0.060365369340746627, 0.072279586973788723, 0.0079428117553613977, 0.052422557585385228, 0.019062748212867357, 0.0071485305798252583, 0.11119936457505956, 0.0095313741064336783, 0.010325655281969817, 0.043685464654487687, 0.017474185861795076, 0.0055599682287529786, 0.23076923076923078, 0.76282051282051277, 0.99152542372881358, 0.91666666666666663, 1.0, 1.0, 0.99689440993788825, 1.0, 1.0, 0.89473684210526316, 0.098684210526315791, 0.95652173913043481, 1.0, 0.95238095238095233, 0.98333333333333328, 0.95999999999999996, 0.99665551839464883, 1.0, 1.0, 0.9907407407407407, 1.0, 1.0, 0.99342105263157898, 0.87878787878787878, 0.10606060606060606, 0.98076923076923073, 0.97297297297297303, 0.99901960784313726, 1.0, 1.0, 0.99367088607594933, 0.99180327868852458, 1.0, 1.0, 1.0, 1.0, 0.97560975609756095, 1.0, 1.0, 1.0, 0.98611111111111116, 0.90909090909090906, 0.9885057471264368, 0.93548387096774188, 0.056451612903225805, 1.0, 0.99378881987577639, 1.0, 1.0, 0.99764705882352944, 0.98412698412698407, 0.45255474452554745, 0.54014598540145986, 0.77177177177177181, 0.22222222222222221, 0.97959183673469385, 1.0, 1.0, 0.99609375, 1.0, 1.0, 1.0, 0.99319727891156462, 0.99173553719008267, 1.0, 0.98305084745762716, 1.0, 0.91666666666666663, 0.98913043478260865, 1.0, 1.0, 0.99642857142857144, 1.0, 0.98666666666666669, 0.98571428571428577, 0.98113207547169812, 0.1226158038147139, 0.049046321525885561, 0.0081743869209809257, 0.67302452316076289, 0.010899182561307902, 0.024523160762942781, 0.0027247956403269754, 0.0027247956403269754, 0.0054495912806539508, 0.081743869209809264, 0.0027247956403269754, 0.013623978201634877, 1.0, 0.97959183673469385, 0.99700598802395213, 1.0, 0.99487179487179489, 1.0, 1.0, 1.0, 0.99696048632218848, 0.94736842105263153, 1.0, 1.0, 0.99823633156966485, 1.0, 1.0, 0.96666666666666667, 0.9838709677419355, 1.0, 0.9285714285714286, 0.99130434782608701, 0.80645161290322576, 0.19354838709677419, 1.0, 0.989247311827957, 0.0053763440860215058, 1.0, 1.0, 0.99877300613496933, 1.0, 1.0, 0.98611111111111116, 1.0, 1.0, 0.99404761904761907, 1.0, 0.994413407821229, 1.0, 1.0, 0.88888888888888884, 1.0, 1.0, 1.0, 1.0, 0.4639351259069569, 0.34997865983781479, 0.1856594110115237, 1.0, 1.0, 1.0, 1.0, 0.98245614035087714, 0.99961404862987269, 0.0062893081761006293, 0.98742138364779874, 1.0, 0.98333333333333328, 1.0, 1.0, 1.0, 0.96153846153846156, 1.0, 1.0, 0.85185185185185186, 0.14814814814814814, 0.95454545454545459, 0.99914529914529915, 1.0, 0.022222222222222223, 0.22690058479532163, 0.15789473684210525, 0.59181286549707601, 0.99940191387559807, 1.0, 1.0, 1.0, 0.99065420560747663, 1.0, 0.17443408788282291, 0.082556591211717711, 0.11717709720372836, 0.013315579227696404, 0.13715046604527298, 0.021304926764314249, 0.0026631158455392811, 0.018641810918774968, 0.053262316910785618, 0.010652463382157125, 0.02929427430093209, 0.043941411451398134, 0.10386151797603196, 0.071904127829560585, 0.0053262316910785623, 0.023968042609853527, 0.039946737683089213, 0.018641810918774968, 0.017310252996005325, 0.015978695073235686, 0.94117647058823528, 1.0, 0.99754299754299758, 0.97560975609756095, 1.0, 0.99609375, 0.051026757934038582, 0.46733042937149971, 0.097697573117610459, 0.25202240199128811, 0.0080896079651524583, 0.12321095208462975, 0.10256410256410256, 0.87179487179487181, 0.9285714285714286, 1.0, 1.0, 1.0, 0.95999999999999996, 0.97142857142857142, 0.87179487179487181, 0.10256410256410256, 1.0, 1.0, 1.0, 1.0, 1.0, 1.0, 1.0, 0.97297297297297303, 1.0, 0.94202898550724634, 0.043478260869565216, 0.99270072992700731, 0.98571428571428577, 0.97999999999999998, 1.0, 0.058823529411764705, 0.80392156862745101, 0.13071895424836602, 1.0, 1.0, 1.0, 0.99626865671641796, 0.98113207547169812, 0.967741935483871, 0.9939393939393939, 1.0, 0.90909090909090906, 0.16614420062695925, 0.003134796238244514, 0.023510971786833857, 0.001567398119122257, 0.015673981191222569, 0.075235109717868343, 0.001567398119122257, 0.45454545454545453, 0.079937304075235111, 0.001567398119122257, 0.070532915360501561, 0.0047021943573667714, 0.010971786833855799, 0.089341692789968646, 1.0, 1.0, 1.0, 1.0, 1.0, 0.99825043739065233, 0.0014996250937265683, 1.0, 1.0, 1.0, 0.93333333333333335, 0.9850746268656716, 1.0, 0.99581589958159, 0.97727272727272729, 0.99159663865546221, 1.0, 1.0, 0.99845201238390091, 1.0, 0.98611111111111116, 0.95833333333333337, 0.013201320132013201, 0.98349834983498352, 0.9821428571428571, 1.0, 0.97777777777777775, 0.99896157840083077, 0.9971910112359551, 0.9946236559139785, 1.0, 1.0, 1.0, 1.0, 0.99358974358974361, 1.0, 1.0, 1.0, 1.0, 0.99742268041237114, 0.05095238095238095, 0.14714285714285713, 0.00047619047619047619, 0.0019047619047619048, 0.0019047619047619048, 0.00095238095238095238, 0.77238095238095239, 0.02238095238095238, 0.00047619047619047619, 0.00047619047619047619, 1.0, 1.0, 1.0, 0.043809523809523812, 0.0019047619047619048, 0.20190476190476189, 0.75047619047619052, 1.0, 1.0, 1.0, 1.0, 0.99754299754299758, 0.97499999999999998, 0.9821428571428571, 1.0, 1.0, 1.0, 0.99943310657596374, 1.0, 0.33775117571611801, 0.00042753313381787086, 0.061992304403591277, 0.09961522017956391, 0.39974348011970928, 0.10004275331338179, 0.99489795918367352, 1.0, 1.0, 1.0, 1.0, 1.0, 0.96969696969696972, 1.0, 1.0, 0.27044025157232704, 0.72327044025157228, 0.97872340425531912, 0.98888888888888893, 1.0, 1.0, 0.98484848484848486, 0.98360655737704916, 0.030769230769230771, 0.9538461538461539, 1.0, 1.0, 1.0, 1.0, 1.0, 0.96875, 0.90000000000000002, 0.9285714285714286, 1.0, 1.0, 0.97916666666666663, 0.13148148148148148, 0.062962962962962957, 0.80555555555555558, 0.9838709677419355, 0.875, 1.0, 1.0, 1.0, 0.99823321554770317, 1.0, 0.99270072992700731, 0.99606299212598426, 1.0, 1.0, 1.0, 0.97297297297297303, 0.64925373134328357, 0.35074626865671643, 1.0, 0.98947368421052628, 1.0, 0.99520383693045567, 1.0, 0.31914893617021278, 0.67819148936170215, 0.98837209302325579, 0.31192660550458717, 0.67889908256880738, 0.33156498673740054, 0.66578249336870021, 1.0, 1.0, 1.0, 1.0, 0.98333333333333328, 0.99270072992700731, 1.0, 0.99082568807339455, 0.98648648648648651, 1.0, 1.0, 0.15384615384615385, 0.84615384615384615, 1.0, 1.0, 0.99769053117782913, 0.96153846153846156, 1.0, 0.99672131147540988, 1.0, 1.0, 0.984375, 0.99532710280373837, 0.97297297297297303, 0.99019607843137258, 1.0, 1.0, 1.0, 0.9375, 1.0, 0.83333333333333337, 1.0, 0.99637681159420288, 0.13333333333333333, 0.85999999999999999, 1.0, 1.0, 1.0, 1.0, 0.28267477203647418, 0.7142857142857143, 0.99646643109540634, 1.0, 1.0, 0.97826086956521741, 0.99029126213592233, 0.99637681159420288, 1.0, 1.0, 1.0, 1.0, 0.98947368421052628, 0.9838709677419355, 1.0, 1.0, 1.0, 0.9309037900874636, 0.00058309037900874635, 0.0087463556851311956, 0.058017492711370265, 0.0011661807580174927, 1.0, 1.0, 1.0, 1.0, 1.0, 1.0, 0.99382716049382713, 0.94999999999999996, 1.0, 0.83766233766233766, 0.15584415584415584, 0.99561403508771928, 0.97826086956521741, 0.95833333333333337, 0.99069767441860468, 0.97916666666666663, 1.0, 0.875, 1.0, 1.0, 1.0, 1.0, 1.0, 0.99644128113879005, 0.989247311827957, 1.0, 0.16185897435897437, 0.055288461538461536, 0.096153846153846159, 0.04246794871794872, 0.036057692307692304, 0.15384615384615385, 0.096153846153846159, 0.027243589743589744, 0.023237179487179488, 0.054487179487179488, 0.027243589743589744, 0.028044871794871796, 0.004807692307692308, 0.00080128205128205125, 0.044070512820512824, 0.017628205128205128, 0.00641025641025641, 0.016025641025641024, 0.00080128205128205125, 0.10096153846153846, 0.00080128205128205125, 0.004807692307692308, 1.0, 1.0, 0.97959183673469385, 0.99230769230769234, 1.0, 0.97619047619047616, 0.51920107072994959, 0.094100689797179032, 0.049315350561103678, 0.060949243282199111, 0.015546175229074437, 0.044373520024709151, 0.018223000102954804, 0.00030886440852465768, 0.0014413672397817357, 0.056316277154329249, 0.028621435189951611, 0.019355502934211882, 0.028415525584268506, 0.022238237413775352, 0.00010295480284155256, 0.010501389889838361, 0.019870276948419644, 0.00041181921136621024, 0.00072068361989086787, 0.002779779676721919, 0.0073097910017502314, 0.98757763975155277, 1.0, 0.99801192842942343, 0.99090909090909096, 0.78125, 0.028846153846153848, 0.15144230769230768, 0.036057692307692304, 1.0, 1.0, 0.97727272727272729, 0.99683544303797467, 1.0, 1.0, 1.0, 1.0, 0.99705014749262533, 1.0, 0.98611111111111116, 1.0, 1.0, 0.99425287356321834, 1.0, 1.0, 0.99470899470899465, 1.0, 0.91666666666666663, 0.97916666666666663, 0.94238156209987201, 0.056338028169014086, 0.99784946236559136, 1.0, 1.0, 0.99802761341222879, 0.9882352941176471, 1.0, 0.99159663865546221, 0.98837209302325579, 1.0, 1.0, 1.0, 0.99629629629629635, 1.0, 1.0, 0.9375, 0.95999999999999996, 0.90909090909090906, 0.9285714285714286, 1.0, 0.83333333333333337, 0.97777777777777775, 0.9850746268656716, 0.98795180722891562, 1.0, 1.0, 1.0, 1.0, 1.0, 0.83333333333333337, 0.16666666666666666, 1.0, 0.98076923076923073, 1.0, 0.9375, 0.98666666666666669, 0.92052980132450335, 0.072847682119205295, 1.0, 1.0, 0.99646643109540634, 0.95999999999999996, 0.03787878787878788, 0.55303030303030298, 0.030303030303030304, 0.21212121212121213, 0.053030303030303032, 0.10606060606060606, 0.99484536082474229, 0.99855907780979825, 1.0, 1.0, 0.97674418604651159, 1.0, 1.0, 0.99656357388316152, 1.0, 1.0, 0.98148148148148151, 1.0, 0.98863636363636365, 0.81818181818181823, 0.18181818181818182, 0.98969072164948457, 1.0, 0.98701298701298701, 0.99047619047619051, 1.0, 0.99836065573770494, 1.0, 1.0, 1.0, 1.0, 0.99581589958159, 1.0, 1.0, 0.99728997289972898, 1.0, 1.0, 0.9928057553956835, 0.096491228070175433, 0.89473684210526316, 0.98461538461538467, 0.97435897435897434, 1.0, 0.99130434782608701, 1.0, 0.94736842105263153, 1.0, 0.97058823529411764, 0.98360655737704916, 0.94736842105263153, 1.0, 1.0, 0.99842519685039366, 0.99468085106382975, 0.99319727891156462, 1.0, 0.98039215686274506, 1.0, 1.0, 1.0, 1.0, 1.0, 1.0, 0.99212598425196852, 1.0, 0.9375, 1.0, 0.98305084745762716, 1.0, 0.97826086956521741, 1.0, 1.0, 1.0, 0.0042016806722689074, 0.80462184873949583, 0.16806722689075632, 0.0021008403361344537, 0.0063025210084033615, 0.0021008403361344537, 0.0021008403361344537, 0.0084033613445378148, 1.0, 0.99523809523809526, 1.0, 0.91666666666666663, 0.99574468085106382, 1.0, 0.99401197604790414, 1.0, 1.0, 0.96969696969696972, 1.0, 0.99651567944250874, 1.0, 0.99598393574297184, 1.0, 0.90000000000000002, 0.96666666666666667, 0.33107454017424975, 0.66795740561471439, 0.17241379310344829, 0.82758620689655171, 0.005681818181818182, 0.98863636363636365, 0.99514563106796117, 1.0, 1.0, 1.0, 1.0, 0.92307692307692313, 0.088888888888888892, 0.77777777777777779, 0.13333333333333333, 1.0, 1.0, 1.0, 1.0, 1.0, 0.9885057471264368, 0.99727520435967298, 0.984375, 0.99487179487179489, 1.0, 1.0, 1.0, 0.90909090909090906, 1.0, 1.0, 1.0, 1.0, 1.0, 1.0, 1.0, 0.97674418604651159, 1.0, 0.9285714285714286, 1.0, 0.99009900990099009, 0.94339622641509435, 0.056603773584905662, 1.0, 0.98630136986301364, 1.0, 1.0, 0.065789473684210523, 0.92105263157894735, 0.99891186071817195, 0.99056603773584906, 0.99830508474576274, 1.0, 0.99425287356321834, 1.0, 1.0, 0.98148148148148151, 0.99708454810495628, 0.99367088607594933, 1.0, 1.0, 0.94444444444444442, 1.0, 0.99607072691552068, 1.0, 1.0, 1.0, 0.010582010582010581, 0.98412698412698407, 1.0, 1.0, 0.98666666666666669, 1.0, 1.0, 0.99784946236559136, 0.99813432835820892, 0.99502487562189057, 1.0, 0.99099099099099097, 0.98611111111111116, 0.9375, 1.0, 1.0, 1.0, 1.0, 1.0, 1.0, 1.0, 1.0, 0.99646643109540634, 1.0, 0.97368421052631582, 1.0, 0.99494949494949492, 1.0, 0.99145299145299148, 1.0, 1.0, 0.99444444444444446, 1.0, 1.0, 1.0, 0.99236641221374045, 1.0, 1.0, 1.0, 1.0, 0.9375, 0.8973607038123167, 0.10263929618768329, 0.98148148148148151, 1.0, 1.0, 0.94736842105263153, 1.0, 1.0, 1.0, 0.98305084745762716, 0.99640287769784175, 0.97435897435897434, 0.9882352941176471, 0.97959183673469385, 0.98780487804878048, 1.0, 0.90909090909090906, 1.0, 1.0, 1.0, 0.056603773584905662, 0.94339622641509435, 0.9921875, 0.99435028248587576, 0.80963855421686748, 0.18795180722891566, 0.94666666666666666, 0.040000000000000001, 0.9907407407407407, 1.0, 0.9943820224719101, 1.0, 1.0, 0.98684210526315785, 1.0, 0.98901098901098905, 0.98780487804878048, 0.99212598425196852, 1.0, 0.96666666666666667, 0.98360655737704916, 0.90000000000000002, 1.0, 1.0, 0.97999999999999998, 0.99697885196374625, 1.0, 1.0, 0.9942196531791907, 1.0, 1.0, 1.0, 0.98148148148148151, 1.0, 0.94117647058823528, 0.99350649350649356, 0.99152542372881358, 0.99719887955182074, 1.0, 0.99645390070921991, 1.0, 0.9850746268656716, 1.0, 0.98969072164948457, 1.0, 0.9975609756097561, 0.98529411764705888, 1.0, 0.98666666666666669, 0.14814814814814814, 0.83333333333333337, 1.0, 1.0, 1.0, 0.97619047619047616, 0.008658008658008658, 0.98701298701298701, 0.43925233644859812, 0.56074766355140182, 1.0, 1.0, 1.0, 0.98969072164948457, 1.0, 0.99647887323943662, 0.99637681159420288, 0.96491228070175439, 0.017543859649122806, 0.9943820224719101, 1.0, 1.0, 0.27659574468085107, 0.71631205673758869, 0.99090909090909096, 0.98484848484848486, 0.99677419354838714, 1.0, 1.0, 1.0, 1.0, 0.99590163934426235, 0.95652173913043481, 0.07909604519774012, 0.63276836158192096, 0.16949152542372881, 0.11299435028248588, 0.97142857142857142, 0.98571428571428577, 1.0, 1.0, 0.99504950495049505, 1.0, 0.98969072164948457, 0.98666666666666669, 1.0, 0.99199999999999999, 1.0, 0.001834862385321101, 0.10275229357798166, 0.89357798165137614, 0.98305084745762716, 0.97297297297297303, 0.9838709677419355, 1.0, 1.0, 1.0, 1.0, 1.0, 0.7809667673716012, 0.2190332326283988, 1.0, 0.9882352941176471, 1.0, 1.0, 1.0, 1.0, 1.0, 1.0, 0.14285714285714285, 0.069124423963133647, 0.0092165898617511521, 0.7695852534562212, 1.0, 0.97916666666666663, 1.0, 0.0044603033006244425, 0.0089206066012488851, 0.080285459411239962, 0.038358608385370203, 0.045495093666369314, 0.0062444246208742194, 0.033898305084745763, 0.0080285459411239962, 0.0026761819803746653, 0.033898305084745763, 0.052631578947368418, 0.020517395182872437, 0.055307760927743088, 0.0044603033006244425, 0.18198037466547726, 0.033006244424620877, 0.043710972346119537, 0.0062444246208742194, 0.0089206066012488851, 0.01784121320249777, 0.0062444246208742194, 0.0044603033006244425, 0.025869759143621766, 0.044603033006244422, 0.012488849241748439, 0.0080285459411239962, 0.032114183764495985, 0.041034790365744873, 0.010704727921498661, 0.026761819803746655, 0.016949152542372881, 0.0035682426404995541, 0.018733273862622659, 0.026761819803746655, 0.029438001784121322, 0.0026761819803746653, 1.0, 1.0, 1.0, 1.0, 0.26190476190476192, 0.72619047619047616, 0.92708333333333337, 0.052083333333333336, 0.99259259259259258, 0.75, 1.0, 0.2572178477690289, 0.74015748031496065, 1.0, 1.0, 0.99699699699699695, 0.99285714285714288, 0.99661016949152548, 1.0, 1.0, 0.98529411764705888, 0.98113207547169812, 1.0, 0.88888888888888884, 0.97222222222222221, 1.0, 1.0, 1.0, 1.0, 1.0, 1.0, 1.0, 1.0, 1.0, 1.0, 1.0, 1.0, 1.0, 1.0, 1.0, 0.99591836734693873, 0.99687499999999996, 0.99019607843137258, 0.99435028248587576, 1.0, 0.76538461538461533, 0.23076923076923078, 1.0, 1.0, 1.0, 1.0, 0.8571428571428571, 1.0, 0.99468085106382975, 0.94736842105263153, 0.97368421052631582, 1.0, 1.0, 0.98863636363636365, 1.0, 1.0, 0.9971509971509972, 0.17647058823529413, 0.81176470588235294, 0.98461538461538467, 0.99843993759750393, 0.99259259259259258, 0.1111111111111111, 0.87037037037037035, 0.98275862068965514, 1.0, 1.0, 1.0, 1.0, 1.0, 1.0, 0.9942196531791907, 1.0, 1.0, 0.99572649572649574, 1.0, 1.0, 1.0, 0.9943820224719101, 0.9941860465116279, 0.90909090909090906, 0.90000000000000002, 0.96666666666666667, 0.90909090909090906, 0.13385826771653545, 0.85039370078740162, 1.0, 0.99447513812154698, 1.0, 0.36363636363636365, 0.62809917355371903, 0.0088888888888888889, 0.026666666666666668, 0.9555555555555556, 0.99115044247787609, 1.0, 0.015151515151515152, 0.98484848484848486, 0.99275362318840576, 1.0, 0.053683385579937307, 0.03526645768025078, 0.048589341692789965, 0.086990595611285262, 0.14380877742946707, 0.0035266457680250786, 0.097962382445141064, 0.0043103448275862068, 0.0086206896551724137, 0.0011755485893416929, 0.016065830721003135, 0.07445141065830721, 0.027821316614420062, 0.078369905956112859, 0.058777429467084641, 0.003134796238244514, 0.003134796238244514, 0.019200626959247648, 0.012539184952978056, 0.014498432601880877, 0.0011755485893416929, 0.0011755485893416929, 0.00039184952978056425, 0.00039184952978056425, 0.003134796238244514, 0.0070532915360501571, 0.015673981191222569, 0.031347962382445138, 0.0047021943573667714, 0.012147335423197491, 0.018416927899686519, 0.014106583072100314, 0.011755485893416929, 0.034482758620689655, 0.02938871473354232, 0.0082288401253918491, 0.0027429467084639498, 0.0094043887147335428, 0.0023510971786833857, 0.9987775061124694, 1.0, 0.8928571428571429, 0.095238095238095233, 0.995, 0.98765432098765427, 1.0, 1.0, 0.99570815450643779, 1.0, 0.98630136986301364, 0.99470899470899465, 0.97222222222222221, 1.0, 1.0, 0.62554369315935154, 0.20521945432977462, 0.07591933570581258, 0.092922103598260183, 1.0, 0.99604743083003955, 1.0, 1.0, 0.97674418604651159, 0.99845916795069334, 1.0, 1.0, 1.0, 1.0, 0.9910714285714286, 1.0, 0.83333333333333337, 0.98958333333333337, 0.99415204678362568, 1.0, 0.98879426266248316, 0.011205737337516808, 1.0, 1.0, 1.0, 1.0, 1.0, 0.080291970802919707, 0.91240875912408759, 0.0036496350364963502, 0.98275862068965514, 0.97368421052631582, 1.0, 1.0, 1.0, 1.0, 1.0, 1.0, 1.0, 1.0, 0.24761904761904763, 0.74285714285714288, 0.875, 0.011376564277588168, 0.35722411831626849, 0.097838452787258251, 0.53242320819112632, 0.99319727891156462, 0.99831649831649827, 0.1875, 0.80555555555555558, 1.0, 0.99504950495049505, 0.21153846153846154, 0.00641025641025641, 0.78205128205128205, 0.073394495412844041, 0.92354740061162077, 0.99558498896247238, 0.98863636363636365, 0.90000000000000002, 1.0, 0.99815837937384899, 0.1409090909090909, 0.8545454545454545, 0.61344537815126055, 0.15126050420168066, 0.23109243697478993, 1.0, 0.99477806788511747, 0.99601593625498008, 0.99199999999999999, 0.99484536082474229, 0.36986301369863012, 0.62557077625570778, 0.95652173913043481, 0.99786324786324787, 0.9285714285714286, 0.99489795918367352, 0.94117647058823528, 0.071005917159763315, 0.92307692307692313, 1.0, 0.96969696969696972, 0.98630136986301364, 1.0, 0.99449035812672182, 0.99431818181818177, 0.98901098901098905, 0.99242424242424243, 0.98913043478260865, 1.0, 1.0, 0.98666666666666669, 0.99593495934959353, 0.98113207547169812, 0.99699699699699695, 1.0, 0.9375, 1.0, 0.9642857142857143, 0.97435897435897434, 0.0030627871362940277, 0.0015313935681470138, 0.064318529862174581, 0.58039816232771824, 0.16998468606431852, 0.010719754977029096, 0.14395099540581929, 0.0030627871362940277, 0.0030627871362940277, 0.0015313935681470138, 0.0030627871362940277, 0.0015313935681470138, 0.013782542113323124, 1.0, 1.0, 0.96666666666666667, 0.9942196531791907, 0.085141903171953262, 0.14357262103505844, 0.77045075125208684, 0.99206349206349209, 0.99152542372881358, 1.0, 1.0, 0.92000000000000004, 0.071999999999999995, 0.98148148148148151, 1.0, 1.0, 1.0, 0.9925373134328358, 1.0, 0.96551724137931039, 0.98275862068965514, 1.0, 0.94999999999999996, 1.0, 0.96969696969696972, 1.0, 0.98148148148148151, 0.99459459459459465, 0.80927835051546393, 0.18556701030927836, 0.99864498644986455, 0.94444444444444442, 1.0, 1.0, 1.0, 1.0, 0.96314496314496312, 0.034398034398034398, 1.0, 1.0, 1.0, 1.0, 0.99512195121951219, 1.0, 1.0, 0.97142857142857142, 0.96296296296296291, 1.0, 0.99700598802395213, 0.99860917941585536, 0.99236641221374045, 1.0, 0.090909090909090912, 0.90909090909090906, 0.60456621004566213, 0.21917808219178081, 0.17534246575342466, 0.00091324200913242006, 0.967741935483871, 0.95454545454545459, 0.12034837688044339, 0.009026128266033254, 0.042438638163103719, 0.11496437054631829, 0.060649247822644498, 0.01060965954077593, 0.17038796516231194, 0.066825019794140933, 0.017893903404592241, 0.028028503562945367, 0.02517814726840855, 0.032779097387173398, 0.016468725257323832, 0.15613618368962787, 0.016943784639746634, 0.04655581947743468, 0.00015835312747426763, 0.033095803642121932, 0.017260490894695169, 0.0026920031670625497, 0.0028503562945368173, 0.0085510688836104506, 1.0, 1.0, 0.99333333333333329, 1.0, 0.99588477366255146, 0.95999999999999996, 1.0, 0.99861111111111112, 1.0, 0.97674418604651159, 1.0, 0.875, 1.0, 1.0, 0.95999999999999996, 0.13068181818181818, 0.86363636363636365, 0.99230769230769234, 0.99773242630385484, 0.97560975609756095, 1.0, 0.20566037735849058, 0.79245283018867929, 1.0, 0.99642857142857144, 0.97999999999999998, 1.0, 0.83333333333333337, 0.875, 0.109375, 0.98717948717948723, 0.96551724137931039, 1.0, 1.0, 1.0, 0.98550724637681164, 1.0, 1.0, 0.96153846153846156, 1.0, 0.35209003215434082, 0.10932475884244373, 0.16398713826366559, 0.059485530546623797, 0.020900321543408359, 0.025723472668810289, 0.033762057877813507, 0.0080385852090032149, 0.024115755627009645, 0.020900321543408359, 0.083601286173633438, 0.0064308681672025723, 0.017684887459807074, 0.0080385852090032149, 0.051446945337620578, 0.0096463022508038593, 0.99687499999999996, 0.81818181818181823, 0.16883116883116883, 0.98795180722891562, 0.95238095238095233, 0.98795180722891562, 1.0, 1.0, 0.99641577060931896, 0.30307467057101023, 0.69546120058565153, 1.0, 1.0, 0.99836601307189543, 1.0, 1.0, 1.0, 0.9642857142857143, 1.0, 1.0, 0.88969696969696965, 0.0018181818181818182, 0.10606060606060606, 0.0018181818181818182, 0.93333333333333335, 0.19161676646706588, 0.80239520958083832, 0.95999999999999996, 1.0, 0.2253968253968254, 0.23809523809523808, 0.53650793650793649, 0.97058823529411764, 0.97560975609756095, 0.00061576354679802956, 0.99876847290640391, 1.0, 0.98913043478260865, 0.97297297297297303, 1.0, 1.0, 0.91034482758620694, 0.082758620689655171, 0.97619047619047616, 0.98863636363636365, 0.99224806201550386, 0.88888888888888884, 0.98837209302325579, 1.0, 0.98275862068965514, 0.99082568807339455, 0.94999999999999996, 0.20545977011494254, 0.068247126436781616, 0.075431034482758619, 0.65014367816091956, 0.98795180722891562, 0.98039215686274506, 1.0, 0.10416666666666667, 0.875, 0.98750000000000004, 1.0, 1.0, 1.0, 1.0, 1.0, 0.99431818181818177, 0.99350649350649356, 0.98571428571428577, 0.2119205298013245, 0.7814569536423841, 0.97959183673469385, 1.0, 1.0, 0.9994523548740416, 0.97222222222222221, 0.97916666666666663, 0.9375, 0.98717948717948723, 0.83333333333333337, 0.16666666666666666, 1.0, 0.95238095238095233, 0.9642857142857143, 0.19534050179211471, 0.80346475507765835, 1.0, 0.9882352941176471, 0.98148148148148151, 1.0, 1.0, 1.0, 1.0, 0.092436974789915971, 0.90756302521008403, 0.91666666666666663, 0.028169014084507043, 0.84507042253521125, 0.11267605633802817, 0.30597014925373134, 0.68656716417910446, 1.0, 0.95116988809766023, 0.047812817904374368, 0.96153846153846156, 0.99846860643185298, 1.0, 0.15094339622641509, 0.84276729559748431, 0.93333333333333335, 1.0, 1.0, 0.9285714285714286, 0.14112903225806453, 0.66532258064516125, 0.076612903225806453, 0.11290322580645161, 0.20125786163522014, 0.037735849056603772, 0.75471698113207553, 0.0048780487804878049, 0.16097560975609757, 0.82926829268292679, 0.0048780487804878049, 1.0, 0.97727272727272729, 0.011363636363636364, 0.97727272727272729, 1.0, 0.92307692307692313, 0.72694930329083907, 0.27275422472576344, 0.99578059071729963, 1.0, 0.99667774086378735, 1.0, 0.99721448467966578, 0.97297297297297303, 1.0, 0.98333333333333328, 1.0, 1.0, 1.0, 1.0, 0.97674418604651159, 0.90000000000000002, 1.0, 0.99961773700305812, 1.0, 1.0, 1.0, 0.99456521739130432, 0.99694189602446481, 1.0, 1.0, 0.99798792756539234, 0.97872340425531912, 1.0, 1.0, 1.0, 1.0, 1.0, 1.0, 0.99090909090909096, 1.0, 1.0, 0.98734177215189878, 1.0, 1.0, 1.0, 0.98148148148148151, 0.7142857142857143, 0.14285714285714285, 0.99259259259259258, 0.98076923076923073, 1.0, 0.99514563106796117, 1.0, 0.14722031571722718, 0.85243651338366511, 1.0, 1.0, 1.0, 0.079295154185022032, 0.057777024737377163, 0.00050830227041680784, 0.23974923754659438, 0.0020332090816672314, 0.037953236191121655, 0.027617756692646562, 0.080311758725855636, 0.0044052863436123352, 0.017112843104032532, 0.046933242968485257, 0.0015249068112504235, 0.0079634022365299897, 0.010166045408336157, 0.022195865808200609, 0.022534733988478481, 0.050830227041680789, 0.015757370382921045, 0.026940020332090815, 0.017960013554727212, 0.011860386309725517, 0.0018637749915282956, 0.027109454422229753, 0.0028803795323619113, 0.0042358522534733985, 0.0016943409013893595, 0.046255506607929514, 0.041680786174178246, 0.0083022704168078613, 0.00016943409013893597, 0.033039647577092511, 0.012199254490003388, 0.0042358522534733985, 0.01423246357167062, 0.0010166045408336157, 0.0066079295154185024, 0.0059301931548627583, 0.0074550999661131823, 1.0, 0.88888888888888884, 1.0, 1.0, 0.069601427721594292, 0.039857227840571087, 0.051754907792980372, 0.010707911957168352, 0.033313503866745982, 0.0095181439619274246, 0.0095181439619274246, 0.029149315883402735, 0.067816775728732903, 0.095181439619274236, 0.0041641879833432477, 0.017251635930993457, 0.012492563950029744, 0.093396787626412847, 0.027959547888161809, 0.05353955978584176, 0.0023795359904818562, 0.05353955978584176, 0.0047590719809637123, 0.011897679952409279, 0.00059488399762046404, 0.007138607971445568, 0.032123735871505056, 0.001784651992861392, 0.063652587745389649, 0.057703747769185007, 0.005353955978584176, 0.018441403926234383, 0.007138607971445568, 0.056513979773944081, 0.024390243902439025, 0.007138607971445568, 0.0047590719809637123, 0.00892325996430696, 0.001784651992861392, 0.0029744199881023199, 1.0, 0.90909090909090906, 1.0, 1.0, 1.0, 0.22105263157894736, 0.77368421052631575, 0.21640091116173121, 0.022779043280182234, 0.068337129840546698, 0.022779043280182234, 0.084282460136674259, 0.0091116173120728925, 0.070615034168564919, 0.020501138952164009, 0.33940774487471526, 0.0045558086560364463, 0.0068337129840546698, 0.12528473804100229, 0.0022779043280182231, 1.0, 0.32486388384754988, 0.67332123411978217, 0.98305084745762716, 0.97297297297297303, 1.0, 1.0, 1.0, 1.0, 1.0, 0.99726027397260275, 0.99038461538461542, 0.94117647058823528, 0.056034482758620691, 0.93965517241379315, 0.96551724137931039, 0.94736842105263153, 0.97142857142857142, 1.0, 1.0, 1.0, 0.97826086956521741, 1.0, 0.99727520435967298, 1.0, 0.42788461538461536, 0.50320512820512819, 0.067307692307692304, 0.96969696969696972, 0.18443178736099811, 0.80146460537021968, 0.0010848928668294006, 0.00081366965012205042, 0.0027122321670735015, 0.0029834553837808516, 0.0016273393002441008, 0.0046107946840249527, 1.0, 1.0, 1.0, 1.0, 1.0, 1.0, 0.98795180722891562, 0.99019607843137258, 0.99428571428571433, 1.0, 1.0, 0.048192771084337352, 0.95180722891566261, 1.0, 1.0, 0.037499999999999999, 0.014843749999999999, 0.06640625, 0.049218749999999999, 0.072656250000000006, 0.092187500000000006, 0.021874999999999999, 0.00078125000000000004, 0.056250000000000001, 0.00078125000000000004, 0.0023437499999999999, 0.034375000000000003, 0.014843749999999999, 0.04296875, 0.096875000000000003, 0.01015625, 0.0046874999999999998, 0.034375000000000003, 0.078125, 0.00390625, 0.10312499999999999, 0.025781249999999999, 0.018749999999999999, 0.01171875, 0.0062500000000000003, 0.014843749999999999, 0.0031250000000000002, 0.015625, 0.065625000000000003, 1.0, 0.98780487804878048, 0.99428571428571433, 1.0, 0.9239669421487603, 0.0743801652892562, 1.0, 0.99541284403669728, 0.65053763440860213, 0.22580645161290322, 0.12365591397849462, 0.29850746268656714, 0.69402985074626866, 0.64473684210526316, 0.17982456140350878, 0.17543859649122806, 0.99315068493150682, 0.36079545454545453, 0.63636363636363635, 1.0, 0.98701298701298701, 1.0, 1.0, 1.0, 0.99319727891156462, 0.96969696969696972, 0.30552147239263805, 0.35092024539877298, 0.34314928425357871, 1.0, 1.0, 0.79591836734693877, 0.20408163265306123, 1.0, 0.98630136986301364, 1.0, 0.93181818181818177, 0.056818181818181816, 0.96296296296296291, 0.97959183673469385, 0.99715909090909094, 0.967741935483871, 0.95454545454545459, 1.0, 0.99818511796733211, 0.99173553719008267, 1.0, 0.99857954545454541, 0.98863636363636365, 0.39393939393939392, 0.59090909090909094, 1.0, 0.9887640449438202, 0.98399999999999999, 1.0, 0.99925317401045555, 0.99829642248722317, 1.0, 1.0, 0.084112149532710276, 0.91588785046728971, 0.97222222222222221, 1.0, 1.0, 0.99082568807339455, 0.19148936170212766, 0.80425531914893622, 0.98529411764705888, 1.0, 0.99555555555555553, 1.0, 0.99937185929648242, 0.94117647058823528, 0.99481865284974091, 1.0, 0.98275862068965514, 1.0, 0.23829787234042554, 0.76063829787234039, 1.0, 0.9974025974025974, 0.99567099567099571, 1.0, 0.83333333333333337, 0.9850746268656716, 0.99551569506726456, 1.0, 1.0, 1.0, 1.0, 1.0, 1.0, 0.61658031088082899, 0.28756476683937826, 0.093264248704663211, 1.0, 0.99484536082474229, 1.0, 0.058823529411764705, 0.92156862745098034, 0.1072961373390558, 0.34334763948497854, 0.35622317596566522, 0.085836909871244635, 0.09012875536480687, 0.015021459227467811, 0.0021459227467811159, 1.0, 0.8214285714285714, 0.14285714285714285, 0.94444444444444442, 1.0, 1.0, 1.0, 1.0, 1.0, 0.96296296296296291, 1.0, 0.99082568807339455, 1.0, 1.0, 1.0, 0.0062500000000000003, 0.025000000000000001, 0.79374999999999996, 0.03125, 0.0031250000000000002, 0.0062500000000000003, 0.081250000000000003, 0.021874999999999999, 0.03125, 0.0031250000000000002, 0.97999999999999998, 1.0, 1.0, 0.95833333333333337, 1.0, 0.050209205020920501, 0.93723849372384938, 0.008368200836820083, 0.97777777777777775, 1.0, 1.0, 0.875, 0.95454545454545459, 1.0, 1.0, 1.0, 0.984375, 0.99305555555555558, 0.97435897435897434, 0.9642857142857143, 1.0, 0.8571428571428571, 1.0, 1.0, 0.99595141700404854, 1.0, 0.92307692307692313, 0.99425287356321834, 0.044144696505211529, 0.0091968117719190678, 0.0091968117719190678, 0.16247700797057021, 0.027590435315757205, 0.004904966278356836, 0.0018393623543838135, 0.0018393623543838135, 0.011649294911097487, 0.65113427345187003, 0.001226241569589209, 0.071735131820968731, 0.0018393623543838135, 0.99563318777292575, 1.0, 0.98648648648648651, 0.50867052023121384, 0.48747591522157996, 0.98113207547169812, 1.0, 0.92452830188679247, 0.075471698113207544, 0.98666666666666669, 0.98913043478260865, 0.97368421052631582, 1.0, 1.0, 1.0, 0.82954545454545459, 0.16477272727272727, 0.97560975609756095, 0.97872340425531912, 1.0, 1.0, 0.99591836734693873, 1.0, 0.036649214659685861, 0.27225130890052357, 0.13612565445026178, 0.54973821989528793, 0.98181818181818181, 0.99900398406374502, 0.98999999999999999, 1.0, 1.0, 1.0, 1.0, 0.98809523809523814, 1.0, 0.99606299212598426, 1.0, 1.0, 1.0, 0.99593495934959353, 1.0, 0.98148148148148151, 1.0, 1.0, 1.0, 1.0, 0.10344827586206896, 0.7931034482758621, 0.10344827586206896, 0.98809523809523814, 0.07567567567567568, 0.91891891891891897, 0.67454068241469811, 0.32020997375328086, 0.90000000000000002, 0.034977578475336321, 0.0053811659192825115, 0.76322869955156947, 0.059192825112107626, 0.056502242152466367, 0.03766816143497758, 0.0017937219730941704, 0.0017937219730941704, 0.036771300448430494, 0.00089686098654708521, 1.0, 0.14814814814814814, 0.71481481481481479, 0.13703703703703704, 1.0, 0.875, 0.99612403100775193, 1.0, 1.0, 1.0, 0.4148397976391231, 0.58347386172006743, 0.99342105263157898, 1.0, 1.0, 0.88888888888888884, 1.0, 0.98717948717948723, 1.0, 0.98275862068965514, 0.84615384615384615, 0.15384615384615385, 1.0, 1.0, 0.98989898989898994, 0.90909090909090906, 1.0, 1.0, 1.0, 1.0, 1.0, 1.0, 1.0, 0.99880668257756566, 1.0, 0.99849624060150377, 1.0, 1.0, 1.0, 1.0, 1.0, 1.0, 0.98181818181818181, 0.16277746158224246, 0.051223676721684687, 0.03927148548662493, 0.1394422310756972, 0.051792828685258967, 0.22822993739328401, 0.0011383039271485487, 0.012521343198634035, 0.057484348321001709, 0.050085372794536141, 0.010244735344336939, 0.011952191235059761, 0.017643710870802503, 0.036994877632327831, 0.0073989755264655659, 0.054069436539556058, 0.00056915196357427435, 0.01707455890722823, 0.033010813887307915, 0.018212862834376779, 0.99386503067484666, 1.0, 0.92307692307692313, 1.0, 1.0, 0.99305555555555558, 1.0, 0.95652173913043481, 0.97916666666666663, 0.99444444444444446, 0.0072655217965653896, 0.16050198150594452, 0.027741083223249668, 0.017833553500660501, 0.12285336856010567, 0.093130779392338173, 0.070013210039630125, 0.0039630118890356669, 0.021796565389696168, 0.0085865257595772789, 0.013870541611624834, 0.039630118890356669, 0.001321003963011889, 0.061426684280052837, 0.010568031704095112, 0.15852047556142668, 0.004623513870541612, 0.011228533685601057, 0.015191545574636724, 0.004623513870541612, 0.033025099075297229, 0.0099075297225891673, 0.034346103038309116, 0.027080581241743725, 0.011889035667107001, 0.001321003963011889, 0.010568031704095112, 0.017173051519154558, 1.0, 0.8571428571428571, 0.39130434782608697, 0.60434782608695647, 0.13451776649746192, 0.86294416243654826, 1.0, 1.0, 1.0, 0.51204128440366969, 0.00057339449541284407, 0.0011467889908256881, 0.48050458715596328, 0.0040137614678899085, 0.00057339449541284407, 0.0011467889908256881, 0.13530927835051546, 0.083762886597938138, 0.001288659793814433, 0.0025773195876288659, 0.68427835051546393, 0.091494845360824736, 0.99785407725321884, 1.0, 1.0, 1.0, 1.0, 0.97368421052631582, 0.99904214559386972, 0.0033262057495842242, 0.00023758612497030174, 0.10738892848657638, 0.0040389641244951294, 0.79710144927536231, 0.00047517224994060348, 0.0023758612497030173, 0.00047517224994060348, 0.068899976241387509, 0.0135424091233072, 0.00047517224994060348, 0.00023758612497030174, 0.00023758612497030174, 0.00047517224994060348, 1.0, 1.0, 0.99310344827586206, 1.0, 1.0, 0.92307692307692313, 0.99029126213592233, 0.30172413793103448, 0.69396551724137934, 0.0014367816091954023, 1.0, 0.99916387959866215, 1.0, 1.0, 1.0, 0.98717948717948723, 0.98305084745762716, 1.0, 1.0, 0.97777777777777775, 0.9882352941176471, 1.0, 1.0, 0.22270742358078602, 0.77292576419213976, 0.99038461538461542, 0.99851190476190477, 1.0, 0.98999999999999999, 1.0, 0.70707070707070707, 0.29090909090909089, 1.0, 0.99549549549549554, 1.0, 0.9907407407407407, 1.0, 1.0, 0.23095238095238096, 0.10238095238095238, 0.59761904761904761, 0.066666666666666666, 0.99725274725274726, 1.0, 1.0, 0.98039215686274506, 0.84663865546218486, 0.15126050420168066, 0.97435897435897434, 0.99126637554585151, 0.9821428571428571, 1.0, 0.99724517906336085, 0.07591836734693877, 0.080816326530612242, 0.088979591836734692, 0.014693877551020407, 0.066122448979591839, 0.11102040816326531, 0.075102040816326529, 0.008979591836734694, 0.11755102040816326, 0.053061224489795916, 0.031836734693877551, 0.071836734693877552, 0.0081632653061224497, 0.014693877551020407, 0.0024489795918367346, 0.0040816326530612249, 0.020408163265306121, 0.008979591836734694, 0.06775510204081632, 0.00081632653061224493, 0.029387755102040815, 0.013061224489795919, 0.018775510204081632, 0.010612244897959184, 0.0016326530612244899, 0.99290780141843971, 0.0018315018315018315, 0.40201465201465203, 0.00641025641025641, 0.056776556776556776, 0.057692307692307696, 0.015567765567765568, 0.037545787545787544, 0.023809523809523808, 0.0027472527472527475, 0.066849816849816848, 0.11904761904761904, 0.0173992673992674, 0.0018315018315018315, 0.00641025641025641, 0.010073260073260074, 0.014652014652014652, 0.12362637362637363, 0.0027472527472527475, 0.024725274725274724, 0.007326007326007326, 1.0, 1.0, 0.99056603773584906, 1.0, 0.9928057553956835, 0.99333333333333329, 0.9642857142857143, 0.9885057471264368, 1.0, 0.21873417721518987, 0.0050632911392405064, 0.047088607594936709, 0.015189873417721518, 0.067341772151898738, 0.0060759493670886075, 0.020253164556962026, 0.041518987341772152, 0.0030379746835443038, 0.14835443037974683, 0.08759493670886076, 0.0086075949367088612, 0.055189873417721518, 0.045063291139240506, 0.033417721518987344, 0.0060759493670886075, 0.033924050632911394, 0.020759493670886076, 0.0065822784810126581, 0.0096202531645569623, 0.011645569620253165, 0.017721518987341773, 0.033924050632911394, 0.0086075949367088612, 0.011645569620253165, 0.022784810126582278, 0.0025316455696202532, 0.011645569620253165, 0.9916666666666667, 1.0, 0.76249999999999996, 0.23333333333333334, 1.0, 1.0, 1.0, 1.0, 0.9850746268656716, 1.0, 1.0, 0.99476439790575921, 1.0, 1.0, 1.0, 1.0, 0.30043859649122806, 0.69736842105263153, 1.0, 0.97959183673469385, 0.99781659388646293, 0.99411764705882355, 0.94117647058823528, 1.0, 1.0, 0.99193548387096775, 0.99375000000000002, 1.0, 0.98198198198198194, 1.0, 0.94117647058823528, 0.99502487562189057, 0.99893503727369537, 0.36734693877551022, 0.63265306122448983, 0.97674418604651159, 0.99855072463768113, 1.0, 0.56953642384105962, 0.16556291390728478, 0.13907284768211919, 0.11920529801324503, 0.99750000000000005, 1.0, 0.98947368421052628, 0.9375, 1.0, 0.96100278551532037, 0.0055710306406685237, 0.027855153203342618, 0.0027855153203342618, 0.99105545617173529, 0.0017889087656529517, 0.0053667262969588547, 0.98360655737704916, 0.9992797983435362, 0.00036010082823190496, 1.0, 0.97560975609756095, 1.0, 1.0, 1.0, 1.0, 0.96551724137931039, 1.0, 1.0, 0.97674418604651159, 0.99612403100775193, 0.95238095238095233, 1.0, 1.0, 1.0, 1.0, 1.0, 1.0, 0.138996138996139, 0.19691119691119691, 0.66023166023166024, 0.8571428571428571, 0.14285714285714285], \"Term\": [\"\\\"\", \"\\\"agressive\", \"\\\"arriving\", \"\\\"authenticate\\\"\", \"\\\"authentication\\\"\", \"\\\"billions\\\"\", \"\\\"bingen\\\"\", \"\\\"bulk\", \"\\\"business\", \"\\\"cancel\\\"\", \"\\\"child\", \"\\\"cookie\", \"\\\"cookies\", \"\\\"deceleration\\\"\", \"\\\"delivered\", \"\\\"delivered\\\"\", \"\\\"delivers\", \"\\\"delivery\", \"\\\"dispatched\", \"\\\"due\", \"\\\"dumped\", \"\\\"final\", \"\\\"fulfilled\\\"\", \"\\\"guarantee\\\"\", \"\\\"guaranteed\\\"\", \"\\\"hack\\\"\", \"\\\"haha\", \"\\\"hello\", \"\\\"here\", \"\\\"http\", \"\\\"incorrect\\\"\", \"\\\"is\", \"\\\"it\", \"\\\"leave\", \"\\\"left\\\"\", \"\\\"live\\\"\", \"\\\"major\", \"\\\"member\\\"\", \"\\\"memberships\\\"\", \"\\\"next\", \"\\\"order\", \"\\\"out\", \"\\\"pause\\\"\", \"\\\"pending\\\"\", \"\\\"personal\", \"\\\"phew\\\"\", \"\\\"prime\\\"\", \"\\\"really\\\"\", \"\\\"rebate\", \"\\\"reprendre\", \"\\\"resolved\\\"\", \"\\\"robust\", \"\\\"shape\\\"\", \"\\\"should\", \"\\\"since\", \"\\\"slow\", \"\\\"smartpost\\\"\", \"\\\"somebodys\", \"\\\"sorry\", \"\\\"suggestion\", \"\\\"support\", \"\\\"up\", \"\\\"verification\\\"\", \"\\\"we\", \"\\\"weve\", \"\\\"world\", \"#\", \"###\", \"#--\", \"#agreed\", \"#airbnbopen\", \"#airbnbopen\", \"#airbnbopen\", \"#airbnbopen\", \"#airbnbopen\", \"#alexa\", \"#alibabatotherise\", \"#allclear\", \"#amazon\", \"#amazonfail\", \"#amazonfiretv\", \"#amazongreatindiansale\", \"#amazonhack\", \"#amazonisamazing\", \"#amazonletdown\", \"#amexhilton\", \"#amextravel\", \"#amiibo\", \"#appauling\", \"#audiologist\", \"#badamazon\", \"#bcbsilextortsppl\", \"#bcbsilmakinganofferwecantrefuse\", \"#bendoregon\", \"#bendoregon\", \"#beware\", \"#bikelanes\\\"\", \"#bluedart\", \"#bobbysands\", \"#boo\", \"#boycottfedex\", \"#brainfail\", \"#bringbackdefiance\", \"#bundymilitia\", \"#buyerbeware\", \"#canceled\", \"#cancellingamazonprime\", \"#candiesfavoritethings\", \"#cantkeepyourpromise\", \"#cervicalcancer\", \"#cervicalhealthmonth\", \"#ch\", \"#changeaconsonantspoilamovie\", \"#checks\", \"#chrome\", \"#colbert\", \"#collegelife\", \"#communication\", \"#corporateblindsidingasextortion\", \"#costmehundredsofdollars\", \"#creditcard\", \"#customerexperience\", \"#customerservice\", \"#customerservice\", \"#customerservicewin\", \"#custserv\", \"#cx\", \"#database\", \"#databreach\", \"#dealbreaker\", \"#defiance\", \"#demsdebate\", \"#dentbulletproofimacsfun\", \"#descendantsatkohls\", \"#desperate\", \"#disgraceful\", \"#dishonest\", \"#disneydescendants\", \"#dm\", \"#dnsquestions\", \"#donorspotlight\", \"#dreamy\", \"#drmario\", \"#equalityall\", \"#exitrow\", \"#expectingtoday\", \"#facebook\", \"#facefacts\", \"#fastestwillrise\", \"#favoriteuncle\", \"#fb\", \"#fedex\", \"#fedex\", \"#fedexfail\", \"#findmyfuckingpackage\", \"#fixingaproblem\", \"#followfriday\", \"#fredmeyers\", \"#freeradio\", \"#frenchfraudamazonstyle\", \"#frustrating\", \"#giveitup\", \"#godaddy\", \"#godaddysucks\", \"#gop\", \"#gpa\", \"#guesstheprice\", \"#help\", \"#helping\", \"#highwayrobbery\", \"#hiss\", \"#hitman\", \"#holdmusic\", \"#hood\", \"#hope\", \"#horriblecustomerservice\", \"#hostingsupport\", \"#hpv\", \"#hxcandies\", \"#hxcandies\", \"#idontlive\", \"#idontliveinsesamestreet\", \"#igndeals\", \"#ilovealexa\", \"#ilovecustomerservice\", \"#ilovehive\", \"#india\", \"#isitreallyprime\", \"#israel\", \"#itjustgetsbetter\", \"#ivebeenwaitingallweek\", \"#janis\", \"#jesus\", \"#john\", \"#jokers\", \"#justjoking\", \"#justsaying\", \"#kcvsne\", \"#kdk\", \"#kindle\", \"#kindnessrocks\", \"#kohls\", \"#kohls\", \"#kohls\", \"#kohlsinnyc\", \"#kp\", \"#liquidbiopsy\", \"#livid\", \"#logical\", \"#lumiaxl\", \"#makesnosense\", \"#makeyourmove\", \"#makeyourmove\", \"#makeyourmove\", \"#mauifantasy\", \"#missingmiles\", \"#mlk\", \"#mlkday\", \"#nbaallstarto\", \"#nbavote\", \"#needalifesavertoday\", \"#neverdaysprime\", \"#nike\", \"#nintendo\", \"#nofurtherforward\", \"#nohappyending\", \"#noloyalty\", \"#nomorelies\", \"#none\", \"#nonprofit\", \"#noshow\", \"#notfairamazon\", \"#nothanks\", \"#numberwang\", \"#nwindiana\", \"#nyk\", \"#nyrwin\", \"#obamacare\", \"#offeryoucantrefuse\", \"#ohhahhupthera\", \"#onemoreday\", \"#onemoreday\", \"#oregonstandoff\", \"#oregonunderattack\", \"#oregonunderattack\", \"#oregonunderattack\", \"#organization\", \"#oscars\", \"#outstanding\", \"#pathetic\", \"#pawhigh\", \"#payingfornothing\", \"#paypal\", \"#pcmasterrace\", \"#phishing\", \"#phishingattack\", \"#pokmontekken\", \"#poorservice\", \"#ppochoice\", \"#preferredpoints\", \"#pricelesssurprises\", \"#pricelesssurprises\", \"#prime\", \"#primeforlife\", \"#profitbhealthcare\", \"#q\", \"#racisim\", \"#re\", \"#reebok\", \"#refundmaybe\", \"#rent\", \"#retailsfuture\", \"#retweeters\", \"#ridiculous\", \"#ripcity\", \"#ripperstreet\", \"#robbed\", \"#rubbish\", \"#russian\", \"#rvfun\", \"#rvlife\", \"#rvliving\", \"#sadpanda\", \"#sadtimes\", \"#savedefiance\", \"#sayyesjohnjohn\", \"#scholarship\", \"#segway\", \"#selma\", \"#series\", \"#service\", \"#servicedesign\", \"#shame\", \"#shitcustomerservice\", \"#sigh\", \"#smartpost\", \"#smh\", \"#sneakers\", \"#socialcrm\", \"#sponsorship\", \"#stallingmethods\", \"#startupindia\", \"#stinkincute\", \"#stinks\", \"#stupid\", \"#suck\", \"#suici\", \"#suicideawareness\", \"#suicideprevention\", \"#tagnbrag\", \"#teamgodaddy\", \"#tenant\", \"#textbook\", \"#thankscody\", \"#thankyouamazon\", \"#thisiswhyimleaving\", \"#timeanewplan\", \"#tmobile\", \"#toad\", \"#typical\", \"#universityfederalcreditunion\", \"#unlockfm\", \"#upselling\", \"#upsfail\", \"#upsfanforlyfe\", \"#usps\", \"#vegas\", \"#waiting\", \"#webmasters\", \"#weekswithoutananswer\", \"#whatamipayingyoufor\", \"#whatdowepayfor\", \"#wikipedia\", \"#willbagbe\", \"#willbetakingthisfurther\", \"#wordofmouth\", \"#wordpress\", \"#wtf\", \"#xbox\", \"#yallqaeda\", \"#youmadeherfail\", \"%\", \"%\\\"\", \"%-#\", \"-\", \"-\", \"-\", \"-\", \"-\", \"-\", \"-\", \"-\", \"-\", \"-\", \"-\", \"-\", \"-\", \"-\", \"-\", \"-\", \"-\", \"-\", \"-\", \"-\", \"-\", \"-\", \"-\", \"-\", \"-\", \"-\", \"-\", \"-\", \"-\", \"-\", \"-\", \"-\", \"-\", \"-\", \"-\", \"-\", \"-\", \"-\", \"-\", \"-\", \"-\", \"--\", \"--now\", \"-____-\", \"-been\", \"-click\", \"-d\", \"-gal\", \"-httpstcojowvumwgg\", \"-please\", \"-thanks\", \"<\", \"<<\", \">\", \">\", \"[case\", \"[there]\", \"__\", \"a\\\"\", \"a-m-a-z-i-n-g\", \"aa\", \"aback\", \"abandon\", \"aber\", \"abetting\", \"abito\", \"able\", \"able\", \"able\", \"able\", \"able\", \"able\", \"able\", \"able\", \"able\", \"able\", \"able\", \"able\", \"able\", \"able\", \"able\", \"able\", \"able\", \"able\", \"able\", \"able\", \"able\", \"able\", \"able\", \"abroad\", \"absolutely\", \"abstellen\", \"absurd\", \"abuse\", \"access\", \"access\", \"accidentally\", \"according\", \"account\", \"account>your\", \"accountfor\", \"accountsomebody\", \"accout\", \"acct\", \"accts\", \"aceptan\", \"acheter\", \"achilles\", \"acknowledgement\", \"across\", \"acting\", \"action\", \"activated\", \"actually\", \"acuerdo\", \"add\", \"added\", \"addict\", \"addicted\", \"additional\", \"additional\", \"additional\", \"additional\", \"address\", \"address\", \"address\", \"addressyour\", \"addrshe\", \"addy\", \"adidas\", \"admin\", \"adoption\", \"adress\", \"advanced\", \"adventure\", \"advertises\", \"advice\", \"advise\", \"affidarvi\", \"aforementioned\", \"afternoon\", \"aftr\", \"againi\", \"againworst\", \"agency\", \"agent\", \"agent\", \"agent\", \"agent\", \"agian\", \"agin\", \"ago\", \"agree\", \"ah\", \"ahaan\", \"ahemcurious\", \"aid\", \"aiding\", \"aimed\", \"aint\", \"air\", \"air\", \"air\", \"air\", \"air\", \"air\", \"airbnb\", \"airbnb\", \"airline\", \"airport\", \"ajaygmailcom\", \"ako\", \"ala\", \"album\", \"alden\", \"alert\", \"alexcolangelo\", \"alguien\", \"alibabapls\", \"allege\", \"allegedly\", \"allisoncarterindystarcom\", \"allora\", \"allow\", \"allowed\", \"allowed\", \"almost\", \"along\", \"alrdy\", \"already\", \"already\", \"alright\", \"also\", \"also\", \"alsowhy\", \"alu\", \"alvin\", \"always\", \"am-pm\", \"amazing\", \"amazon\", \"amazonat\", \"amazonde\", \"amazones\", \"amazonet\", \"amazonhelp\", \"amazonhelp\", \"amazonin\", \"amazonit\", \"amazonizamazinggmailcom\", \"amazonizcoolgmailcom\", \"amazonizlovinggmailcom\", \"amazonmusic\", \"amazonnl\", \"amazonuk\", \"american\", \"amex\", \"ammo\", \"amznthank\", \"analize\", \"anche\", \"anderen\", \"andrae\", \"andrae\", \"andre\", \"andriod\", \"android\", \"android\", \"angry\", \"annoyed\", \"annoying\", \"anomaly\", \"answer\", \"anterior\", \"anthony\", \"anti\", \"antiviruis\", \"antwort\", \"anymore\", \"anyone\", \"anything\", \"anytime\", \"anytime\", \"anyway\", \"anyways\", \"anywhere\", \"anywhere\", \"apart\", \"apartment\", \"apg\", \"apologize\", \"apologize\", \"apologize\", \"apologize\", \"apologize\", \"apologizing\", \"apology\", \"apology\", \"app\", \"app\", \"app\", \"app\", \"app\", \"app\", \"apparently\", \"appear\", \"appear\", \"appears\", \"appena\", \"apple\", \"appleplay\", \"apply\", \"apply\", \"appreciate\", \"appreciate\", \"appreciated\", \"apprntly\", \"apps\", \"apps\", \"appspoke\", \"appsprograms\", \"aprovechando\", \"apt\", \"aqu\", \"ara\", \"arabia\", \"aravind\", \"arbitrary\", \"archer\", \"architecture\", \"area\", \"arg\", \"argent\", \"argentina\", \"arguably\", \"arizona\", \"armed\", \"around\", \"around\", \"around\", \"around\", \"around\", \"arriv\", \"arrivato\", \"arrivecomment\", \"arrived\", \"arrives\", \"arrives\", \"arrognti\", \"arrowxl\", \"arrtez\", \"article\", \"asia\", \"asked\", \"asking\", \"askng\", \"asl\", \"aspetter\", \"ass\", \"assay\", \"assenza\", \"asshole\", \"assist\", \"assist\", \"assistance\", \"assoc\", \"associaited\", \"associated\", \"assumes\", \"atendida\", \"atentos\", \"athorized\", \"atmsbut\", \"att\", \"attach\", \"attempt\", \"attempted\", \"attempted\\\"\", \"attempting\", \"attention\", \"attn\", \"auch\", \"audible\", \"audiobook\", \"auditing\", \"auf\", \"augmente\", \"aun\", \"australian\", \"ausziehbar\", \"authentication\", \"authorised\", \"auto\", \"auto-withdrawing\", \"automatic\", \"automattically\", \"availability\", \"availability\", \"available\", \"available\", \"available\", \"available\", \"available\", \"available#india\", \"avast\", \"avenue\", \"avevo\", \"aviation\", \"avinash\", \"avis\", \"avoid\", \"avviato\", \"avviso\", \"awaiting\", \"aware\", \"aware\", \"away\", \"awaz\", \"awesome\", \"awesome\", \"awful\", \"awkwardness\", \"awol\", \"ayudenme\", \"baby\", \"bachelor\", \"back\", \"back\", \"back\", \"back\", \"back\", \"backtired\", \"backup\", \"backward\", \"bad\", \"bag\", \"baggage\", \"balance\", \"balance-\", \"ballangel\", \"bama\", \"bandwidth\", \"banged\", \"bank\", \"bank\", \"bank\", \"bankeinzug\", \"bar\", \"barely\", \"bartolini\", \"based\", \"basic\", \"basildon\", \"bastante\", \"bastard\", \"battries\", \"bbb\", \"bc\", \"bcause\", \"bcbs\", \"bcoz\", \"bcuz\", \"bd\", \"beatles\", \"beautiful\", \"become\", \"become\", \"becouse\", \"becuase\", \"bedbug\", \"begeistert\", \"begged\", \"begin\", \"begleichen\", \"bekam\", \"belief\", \"believe\", \"belt\", \"benefit\", \"bent\", \"berpnktlich\", \"beruhigt\", \"beschleunigen\", \"best\", \"best\", \"best\", \"best\", \"best\", \"best\", \"best\", \"best\", \"best\", \"best\", \"best\", \"best\", \"best\", \"best\", \"best\", \"best\", \"best\", \"best\", \"best\", \"best\", \"best\", \"best\", \"best\", \"best\", \"best\", \"best\", \"best\", \"best\", \"best\", \"best\", \"best\", \"best\", \"best\", \"bestellen\", \"bestellt\", \"beta\", \"beth\", \"better\", \"better\", \"betterer\", \"bezel\", \"bhm\", \"bhm\", \"bi\", \"bicultural\", \"bicycle\", \"big\", \"bilingual\", \"bill\", \"billing\", \"bin\\\"\", \"bit\", \"bitrate\", \"bitten\", \"bk\", \"bkp\", \"black\", \"black-listed\", \"blackstar\", \"blanches\", \"blank\", \"blatant\", \"blicked\", \"blinked\", \"block\", \"bloody\", \"blue\", \"bluedart\", \"bn\", \"board\", \"boardshorts\", \"bogus\", \"bonjours\", \"book\", \"book\", \"book\", \"bookjacker\", \"bookkeeping\", \"booksi\", \"booksvery\", \"booster\", \"boot\", \"boston\", \"bottom\", \"bought\", \"bought\", \"bought\", \"bought\", \"box\", \"box\", \"box\\\"\", \"boxsuch\", \"boy\", \"boycott\", \"boyfriend\", \"bpg\", \"brand\", \"brandmodel\", \"brazil\", \"brazillooks\", \"breakfast\", \"brill\", \"brilliantly\", \"bring\", \"bringing\", \"broad\", \"broken\", \"brooklyn\", \"brooklyn\", \"brother\", \"brought\", \"browser\", \"brusselspaid\", \"bsqueda\", \"bt\", \"btw\", \"bub\", \"bucksend\", \"buddy\", \"bug\", \"build\", \"builder\", \"built\", \"bulk\", \"bullshit\", \"bullshitnever\", \"bunch\", \"bungled\", \"bureaucracy\", \"buscaba\", \"business\", \"business\", \"butler\", \"butthurt\", \"button\", \"button\", \"buy\", \"buzz\", \"bye\", \"bzw\", \"cache\", \"call\", \"call-in\", \"callback\", \"calld\", \"called\", \"calledaddrs\", \"calling\", \"calling\", \"callsext\", \"calm\", \"cambiar\", \"came\", \"camera\", \"camsno\", \"canada\", \"cancel\", \"cancel\", \"cancelado\", \"canceled\", \"cancelled\", \"cancelledno\", \"cancelling\", \"canciones\", \"cannot\", \"cannotthanks\", \"cant\", \"cany\", \"capisco\", \"capsule\", \"captcha\", \"car\", \"car\", \"card\", \"card\", \"card\", \"cardholder\", \"care\", \"carmelo\", \"carmelo\", \"carrier\", \"carry\", \"carrying\", \"cart\", \"casa\", \"case\", \"caseitems\", \"cash\", \"cashless\", \"casually\", \"catalogue\", \"catch\", \"category\", \"caused\", \"cb\", \"cb\", \"cb\", \"cb\", \"cb\", \"cb\", \"cc\", \"cc#\", \"ccamazonhelp\", \"ccv\", \"cd\", \"cedit\", \"celebrate\", \"cell\", \"center\", \"center\", \"ceo\", \"certain\", \"certainly\", \"cest\", \"cg\", \"chalisse\", \"challenge\", \"champ\", \"champion\", \"championship\", \"chance\", \"chance\", \"chanel\", \"change\", \"change\", \"change\", \"change\", \"change\", \"change\", \"change\", \"change\", \"change\", \"change\", \"change\", \"change\", \"change\", \"change\", \"change\", \"change\", \"change\", \"changed\", \"changing\", \"chapter\", \"chaque\", \"character\", \"characterit\", \"charge\", \"charge\", \"charged\", \"chargedi\", \"charger\", \"charging\", \"chat\", \"chckd\", \"cheat\", \"cheated\", \"cheated\", \"check\", \"check\", \"check\", \"check\", \"check\", \"check\", \"check\", \"checked\", \"checked\", \"checked\", \"checking\", \"checkout\", \"cheer\", \"chega\", \"chegg\", \"cherchais\", \"chetan\", \"chevron\", \"chez\", \"chiedere\", \"china\", \"chipotes\", \"chk\", \"chngd\", \"choice\", \"choose\", \"choosing\", \"chotu\", \"chris\", \"christi\", \"christmas\", \"chrome\", \"chrome-dev\", \"chromium\", \"chronopost\", \"citing\", \"city\", \"city\", \"city\", \"city=bangalore\", \"ck\", \"ckj\", \"ckj\", \"ckj\", \"ckr\", \"ckr\", \"claim\", \"clarify\", \"clarify\", \"clarify\", \"clarify\", \"clarify\", \"clarify\", \"clarify\", \"clarify\", \"clarify\", \"clarify\", \"class\", \"class\", \"classic\", \"classic\", \"classify\", \"clean\", \"clear\", \"cleared\", \"clearing\", \"clearly\", \"clemson\", \"cleveland\", \"click\", \"clicked\", \"client\", \"close\", \"closed\", \"closed\", \"closed\\\"\", \"closer\", \"clothes\", \"cloud\", \"cmo\", \"cnames\", \"cnbc\", \"cnclld\", \"cnfrmd\", \"cnt\", \"co\", \"co-pays\", \"coated\", \"cod\", \"code\", \"coherent\", \"colis\", \"colleague\", \"collection\", \"collection\", \"collection\", \"collection\", \"color\", \"color\", \"color\", \"colorado\", \"comcast\", \"come\", \"coming\", \"commendation\", \"comment\", \"commenting\", \"commercial\", \"commits\", \"comms\", \"communication\", \"community\", \"como\", \"company\", \"comped\", \"compelling\", \"competed\", \"complain\", \"complainant\", \"complaining\", \"complaint\", \"complaint\\\"\", \"complaint-\", \"complete\", \"completely\", \"completely\", \"comprai\", \"comprar\", \"compris\", \"computer\", \"computer\", \"con\", \"concept\", \"concern\", \"concert\", \"concludes\", \"condition\", \"confirm\", \"confirmed\", \"confirming\", \"confused\", \"confusing\", \"confusion\", \"connect\", \"connected\", \"connecting\", \"connection\", \"connection\", \"conract\", \"consideration\", \"consideration\", \"considered\", \"considered\", \"considering\", \"consumer\", \"consuming\", \"cont\", \"contacr\", \"contact\", \"contact\", \"contact\", \"contact\", \"contact\", \"contact\", \"contacted\", \"contacted\", \"contacting\", \"contacto\", \"contactramacreatescouk\", \"content\", \"conteste\", \"continue\", \"continue\", \"continue\", \"continue\", \"continuity\", \"contract\", \"contrairement\", \"contrators\", \"control\", \"controlledwe\", \"conversation\", \"conversation\\\"\", \"cool\", \"coolpad\", \"coordiante\", \"cop\", \"copy\", \"copyright\", \"corporation\", \"corpus\", \"correct\", \"correction-\", \"correos\", \"correspondence\", \"corsair\", \"cost\", \"cost\", \"cost\", \"costumer\", \"coucou\", \"could\", \"couldnt\", \"country\", \"coupon\", \"courier\", \"couriersending\", \"courrier\", \"cours\", \"course\", \"cover\", \"coverage\", \"covered\", \"covered\", \"covered\", \"covered\", \"cow\", \"cox\", \"cp\", \"crafted\", \"cran\", \"cranky\", \"crap\", \"cream\\\"\", \"create\", \"created\", \"credible\", \"credit\", \"crew\", \"criminal\", \"crimson\", \"crmvirtualassistants\", \"crois\", \"crowdfire\", \"crumbled\", \"crushed\", \"cruz\", \"cryptic\", \"cryptowall\", \"csmtr\", \"cstmr\", \"cstomr\", \"cuenta\", \"currently\", \"currently\", \"currently\", \"currently\", \"currently\", \"currently\", \"currently\", \"currently\", \"currently\", \"currently\", \"currently\", \"currently\", \"currently\", \"currently\", \"currently\", \"currently\", \"currently\", \"currently\", \"currently\", \"cursing\", \"curtis\", \"cust\", \"customer\", \"customid\", \"customize\", \"customize\", \"cut\", \"cut-off\", \"cute\", \"cuz\", \"da\", \"dabeaz\", \"dabus\", \"daccord\", \"dad\", \"daddy\", \"dadresse\", \"damaged\", \"daman\", \"damn\", \"damnnnn\", \"dan\", \"danhillrogerscom\", \"danke\", \"dankeebenfalls\", \"dankeschn\", \"dankhillhotmailcom\", \"dapat\", \"dark\", \"darrylm\", \"darum\", \"dashboard\", \"dashboard\\\"\", \"dat\", \"data\", \"data\", \"data\", \"date\", \"date\", \"date\", \"date\", \"date\", \"david\", \"daweil\", \"day\", \"day\", \"day\", \"day\", \"dd\", \"dead\", \"deal\", \"dealing\", \"dealt\", \"dear\", \"debiting\", \"dec\", \"december\", \"decipher\", \"decision\", \"declined\", \"deem\", \"deep-sixed-posted\", \"defeat\", \"defective\", \"definitely\", \"definitely\", \"definitely\", \"definitely\", \"definitely\", \"definitely\", \"definitely\", \"definitely\", \"definitely\", \"definitely\", \"definitely\", \"definitely\", \"definition\", \"deja\", \"del\", \"delay\", \"delayed\", \"delete\", \"delete\", \"deleted\", \"delhincr\", \"deliberately\", \"delicious\", \"deliv\", \"deliver\", \"deliver\", \"deliver-\", \"delivered\", \"delivered\", \"deliveredpicked\", \"delivering\", \"delivery\", \"delivery\", \"delivery\\\"\", \"deliveryand\", \"deliverycollection\", \"delivry\", \"dem\", \"demail\", \"demand\", \"demented\", \"den\", \"den\", \"denen\", \"denim\", \"department\", \"departure\", \"depend\", \"deploying\", \"depo\", \"deposited\", \"depozitomu\", \"dept\", \"deserve\", \"deserve\", \"deserves\", \"design\", \"design\", \"designe\", \"desistir\", \"desk\", \"desk-ercises\", \"despatch\", \"despite\", \"destroys\", \"detai\", \"detail\", \"detail\", \"detail\", \"detail\", \"detained\", \"detto\", \"deutschland\", \"deux\", \"dev\", \"dev\", \"deva\", \"development\", \"device\", \"device\", \"devo\", \"devolucin\", \"devrai-je\", \"dhl\", \"dickhead\", \"didi\", \"didnt\", \"didnt\", \"didnt\", \"didnt\", \"didnt\", \"didnt\", \"didnt\", \"didnt\", \"didnt\", \"didnt\", \"didnt\", \"didnt\", \"die\", \"difference\", \"different\", \"different\", \"dificultam\", \"digital\", \"digitales\", \"digitial\", \"dildo\", \"direct\", \"directly\", \"dis\", \"disabled\", \"disapointed\", \"disappeared\", \"disappointed\", \"disappointment\", \"disaster\", \"disconnected\", \"discontinuing\", \"discount\", \"discount\", \"discounts\\\"\", \"discus\", \"discus\", \"disgusting\", \"disjointed\", \"dismantling\", \"dispatch\", \"dispatched\", \"dispatching\", \"disregard\", \"disrespectful\", \"dissappears\", \"disse\", \"disservizio\", \"ditchers\", \"dive\", \"dixk\", \"dk\", \"dlai\", \"dm\", \"dm\", \"dm\", \"dm\", \"dm\", \"dmarche\", \"dmd\", \"dmed\", \"dns\", \"doa\", \"dob\", \"doesnt\", \"doesnt\", \"doesnt\", \"dogshit\", \"dollar\", \"domain\", \"domani\", \"domestic\", \"don`t\", \"done\", \"donewill\", \"dong\", \"donovana\", \"dont\", \"dont\", \"dont\", \"dont\", \"dont\", \"dont\", \"dont\", \"dont\", \"dont\", \"dont\", \"dont\", \"dont\", \"dont\", \"dont\", \"dont\", \"dont\", \"dont\", \"dont\", \"dont\", \"dont\", \"dont\", \"dont\", \"dont\", \"dont\", \"dont\", \"dont\", \"dont\", \"dont\", \"dont\", \"door\", \"door\", \"door\\\"\", \"doorbell\", \"doorman\", \"doorstep\", \"dopeness\", \"dovreste\", \"downl\", \"download\", \"dpass\", \"dr\", \"dragon\", \"dreamhost\", \"drive\", \"drive\", \"driver\", \"driver\", \"drivesequipnever\", \"driveway\", \"drone\", \"drop\", \"drop\", \"dropbox\", \"dropped\", \"dropping\", \"drum\", \"dsl\", \"due\", \"due\", \"due\", \"due\", \"due\", \"due\", \"due\", \"duffer\", \"dumped\", \"dunk\", \"duplicate\", \"durable\", \"durante\", \"dvd\", \"e-mail\", \"e-mailbut\", \"e-mails\\\"\", \"e-prance\", \"e-textbook\", \"earlier\", \"earlier\", \"early\", \"early\", \"early\", \"early\", \"earpods\", \"easy\", \"easyship\", \"eat\", \"eaten\", \"ebenso\", \"eccentric\", \"edge\", \"edition\", \"effect\", \"eigentlich\", \"eines\", \"either\", \"element\", \"eleventh\", \"eligible\", \"elin\", \"eliptical\", \"elite\", \"elite\", \"else\", \"elsewhere\", \"emaik\", \"email\", \"email\", \"email\", \"email\", \"email\", \"emailchat\", \"emailed\", \"emailpassword\", \"emailtracking\", \"emailtw\", \"employ\", \"employee\", \"empresas\", \"empty\", \"enable\", \"enabled\", \"enclosed\", \"encontr\", \"encountering\", \"end\", \"ende\", \"ended\", \"energizing\", \"enfoncez\", \"engaging\", \"engineered\", \"enjoy\", \"enjoyed\", \"enjoying\", \"enoug\", \"enough\", \"enough\", \"enough\", \"enoughhe\", \"enquiry\", \"enrolled\", \"ensure\", \"enter\", \"entiendo\", \"entire\", \"entonesgracias\", \"entreprise\", \"enviarles\", \"envo\", \"eod\", \"ep\", \"ereader\", \"error\", \"error\\\"\", \"error-\", \"errorwhat\", \"ersten\", \"erwarten\", \"erwartungsvoller\", \"escalate\", \"escalated\", \"escribir\", \"eservice\", \"esfuerzo\", \"esl\", \"eso\", \"esp\", \"esperar\", \"espy\", \"espy\", \"espy\", \"essential\", \"est\", \"est\", \"est\", \"esta\", \"estimated\", \"eta\", \"etc\", \"etc\", \"etsy\", \"euch\", \"european\", \"even\", \"evening\", \"event\", \"ever\", \"everprice\", \"every\", \"everyone\", \"everything\", \"evga\", \"exactly\", \"example\", \"excellent\", \"except\", \"exchange\", \"exchange\", \"excite\", \"excited\", \"exclamation\", \"exclusively\", \"exclusively\", \"exec\", \"exec\", \"exempted\", \"exeption\", \"exist\", \"existent\", \"existing\", \"exp\", \"expected\", \"expensive\", \"experience\", \"experience\", \"experience\", \"experienced\", \"experiencing\", \"expierience\", \"expired\", \"expiredunbelievable\", \"expiry\", \"explain\", \"explanation\", \"explore\", \"express\", \"express\", \"express\", \"express\", \"exps\", \"extortionate\", \"extra\", \"extra\", \"extra\", \"extremely\", \"eye\", \"eyebrow\", \"faccio\", \"facebook\", \"facebookcsfedexcom\", \"facilitarme\", \"facilitate\", \"facility\", \"fact\", \"fact\", \"fag\", \"fagged\", \"fail\", \"failed\", \"failing\", \"failure\", \"failurrst\", \"fair\", \"fait\", \"faith\", \"fake\", \"fall\", \"false\", \"falsely\", \"family\", \"fan\", \"fanno\", \"fantastic\", \"fantastic\", \"far\", \"far-away\", \"farudulent\", \"fashionnot\", \"fast\", \"fast\", \"faster\", \"fault\", \"faulty\", \"fav\", \"faves\", \"favor\", \"favourable\", \"fb\", \"feature\", \"feb-\", \"feb-mar\", \"federal\", \"fedex\", \"fedex\", \"fedex\", \"fedex\", \"fedex\", \"fedexcanada\", \"fedup\", \"fee\", \"fee\", \"fee\", \"feed\", \"feed\", \"feedback\", \"feeellll\", \"feel\", \"feeling\", \"felicia\", \"felon\", \"festzustellen\", \"fg\", \"figure\", \"figured\", \"file\", \"filemanager\", \"filesrenew\", \"fill\", \"fill\", \"fill-out\", \"filled\", \"finally\", \"finallysumedha\", \"find\", \"find\", \"find\", \"find\", \"find\", \"find\", \"find\", \"find\", \"find\", \"find\", \"find\", \"find\", \"find\", \"find\", \"find\", \"find\", \"find\", \"find\", \"find\", \"find\", \"find\", \"find\", \"find\", \"find\", \"find\", \"find\", \"find\", \"find\", \"find\", \"finding\", \"fine\", \"finger\", \"fingertip\", \"fire\", \"fireside\", \"firestick\", \"first\", \"first\", \"first\", \"first\", \"first\", \"first\", \"first\", \"first\", \"first\", \"first\", \"first\", \"first\", \"first\", \"first\", \"first\", \"first\", \"first\", \"first\", \"first\", \"first\", \"first\", \"first\", \"first\", \"first-time\", \"fit\", \"fitment\", \"fix\", \"fixed\", \"fixing\", \"fl\", \"flash\", \"flat\", \"flatbush\", \"flight\", \"flight\", \"flight\", \"flight\", \"flipside\", \"flood\", \"fluctuates\", \"fluffy\", \"flux\", \"fly\", \"fly\", \"flyease\", \"flying\", \"flyknit\", \"fm\", \"fnly\", \"foam\", \"fobbed\", \"fois\", \"folder\", \"follow\", \"follow\", \"follow\", \"followdm\", \"followed\", \"following\", \"followup\", \"food\", \"fooling\", \"force\", \"forces\\\"\", \"forever\", \"forgot\", \"form\", \"formato\", \"fornikestore\", \"forum\", \"forward\", \"forward\", \"found\", \"found\", \"fraud\", \"fraudulent\", \"free\", \"free\", \"free\", \"freejamazoncom\", \"freelancer\", \"fresh\", \"fresh\", \"frick\", \"fridayso\", \"fried\", \"friend\", \"friendly\", \"friends\\\"\", \"frm\", \"frnd\", \"frome\", \"frustrated\", \"frustrating\", \"frustrating\", \"frustration\", \"frustration\", \"frustration\", \"frustration\\\"\", \"fuck\", \"fucked\", \"fucker\", \"fucking\", \"fui\", \"fulfilled\", \"fulfilled\", \"full\", \"full\\\"\", \"full-on\", \"fullscreen\", \"fun\", \"fungi\", \"furthermore\", \"fustrating\", \"future\", \"futurepls\", \"fwd\", \"fwded\", \"fx\", \"gagn\", \"galaxy\", \"galement\", \"galifianakis\", \"game\", \"garbage\", \"garment\", \"gas\", \"gate\", \"gated\", \"gaulle\", \"gave\", \"gb\", \"gc\", \"gday\", \"gear\", \"gefragt\", \"gehts\", \"gelst\", \"genie\", \"genocide\", \"german\", \"gespannt\", \"get\", \"get\", \"get\", \"get\", \"get\", \"get\", \"get\", \"get\", \"get\", \"get\", \"get\", \"get\", \"get\", \"get\", \"get\", \"get\", \"get\", \"get\", \"get\", \"get\", \"get\", \"get\", \"get\", \"get\", \"get\", \"get\", \"get\", \"get\", \"getting\", \"getting\", \"ggs\", \"ghana\", \"giacenza\", \"gift\", \"giftcards\", \"giorno\", \"girl\", \"give\", \"giveawayscontests\", \"given\", \"given\", \"giving\", \"glad\", \"glad\", \"glad\", \"glad\", \"glad\", \"glad\", \"glad\", \"glad\", \"glad\", \"glanzleistung\", \"glare\", \"glck\", \"gleichfalls\", \"global\", \"globally\", \"gnome\", \"go\", \"goal\", \"god\", \"godaddy\", \"godaddy\", \"godaddyhelp\", \"godaddys\", \"godday\", \"goddayd\", \"godly\", \"going\", \"gone\", \"gonna\", \"good\", \"good\", \"goodf#cking\", \"google\", \"got\", \"gotta\", \"gotten\", \"gr\", \"gracias\", \"grade\", \"granted\", \"grazie\", \"gre\", \"grea\", \"great\", \"great\", \"great\", \"great\", \"great\", \"great\", \"great\", \"great\", \"great\", \"great\", \"great\", \"great\", \"great\", \"great\", \"great\", \"great\", \"great\", \"great\", \"great\", \"great\", \"great\", \"great\", \"great\", \"great\", \"great\", \"great\", \"great\", \"great\", \"great\", \"great\", \"great\", \"grind\", \"group\", \"gua\", \"guaranteed\", \"guess\", \"guess\", \"guessing\", \"gueule\", \"guitar\", \"guy\", \"guyissues\", \"guyz\", \"gve\", \"gzipzip\", \"hab\", \"habe\", \"haber\", \"hacked\", \"hacked\", \"hah\", \"haha\", \"hahaha\", \"half\", \"half\", \"halp\", \"hampering\", \"hand\", \"handle\", \"hangups\", \"happen\", \"happened\", \"happening\", \"happening\", \"happens\", \"happy\", \"happy\", \"happy\", \"happy\", \"hard\", \"hard\", \"hardcover\", \"hart\", \"hasnt\", \"hassle\", \"hate\", \"hatte\", \"haul\", \"havent\", \"havent\", \"havent\", \"havent\", \"havent\", \"hawk\", \"hd\", \"hdfc_bank\", \"hdx\", \"head\", \"health\", \"health\", \"hear\", \"hear\", \"hear\", \"hear\", \"heard\", \"hearing\", \"hecho\", \"heck\", \"heel\", \"hejza\", \"held\", \"hell\", \"hello\", \"helloim\", \"hellooooo\", \"hellpppppp\", \"help\", \"help\", \"help\", \"help\", \"help\", \"help\", \"help\", \"help\", \"help\", \"help\", \"help\", \"help\", \"help\", \"help\", \"help\", \"help\", \"help\", \"help\", \"help\", \"help\", \"help\", \"help\", \"help\", \"help\", \"helpdesk\", \"helped\", \"helpemployee\", \"helpfu\", \"helpful\", \"helpfully\", \"helping\", \"helpits\", \"helpme\", \"helpng\", \"helppppp\", \"henceforth\", \"hereeee\", \"heretimeline\", \"herhalten\", \"herrenschuhe\", \"heute\", \"hiavis\", \"hideous\", \"high\", \"higher\", \"highly\", \"hijo\", \"himmmm\", \"hing\", \"hinterglemm\", \"hire\", \"hit\", \"hitoday\", \"hlp\", \"hoffe\", \"hogwash-\", \"hola\", \"hold\", \"hold\", \"holding\", \"holiday\", \"holiday\", \"home\", \"honest\", \"honestly\", \"honestly\", \"hood\", \"hoodie\", \"hootsuite\", \"hootsuite\", \"hootsuite\", \"hootsuite_help\", \"hope\", \"hopefully\", \"horizon\", \"horrendous\", \"horrible\", \"horrible\", \"hospall\", \"hospital\", \"host\", \"hostage\", \"hosted\", \"hostile\", \"hosting\", \"hosting\", \"hosting\", \"hotel\", \"hotspot\", \"hour\", \"hour\", \"house\", \"house\", \"housebound\", \"housebut\", \"household\", \"hoverboard\", \"howdy\", \"however\", \"however\", \"htc\", \"htte\", \"httpstcoqectqoj\", \"httpstcoxgrpbcymvn\", \"huge\", \"huhi\", \"hung\", \"hutchins\", \"hvng\", \"hypervenom\", \"i`ve\", \"ibenzer\", \"icon\", \"idea\", \"idgaf\", \"idiot\", \"idk\", \"iffy\", \"ignored\", \"ihr\", \"ii\", \"image\", \"image\", \"imapssl\", \"immediately\", \"immernoch\", \"imp\", \"impasse\", \"import\", \"importacin\", \"important\", \"important\", \"important\", \"importer\", \"impossible\", \"impossibly\", \"impressed\", \"improve\", \"improvement\", \"in-depth\", \"inactivity\", \"inc\", \"incapable\", \"incident\", \"include\", \"including\", \"including\", \"incompetency\", \"incompetent\", \"inconvenience\", \"incredibly\", \"ind\", \"indeed\", \"indexing\", \"india\", \"indian\", \"indisputable\", \"ineffectivestore\", \"infiltrated\", \"influencers\", \"info\", \"info\", \"info\", \"info\", \"info\", \"info\", \"info\", \"info\", \"info\", \"info\", \"info\", \"info\", \"info\", \"info\", \"info\", \"info\", \"info\", \"info\", \"info\", \"info\", \"info\", \"info\", \"info\", \"info\", \"info\", \"info\", \"info\", \"info\", \"infobut\", \"information\", \"infosec\", \"infuriating\", \"insane\", \"inside\", \"insight\", \"insist\", \"insisted\", \"insld\", \"inspired\", \"instagram\", \"installed\", \"installiert\", \"instapaper\", \"instapaper\", \"instapaper\", \"instapaper\", \"instapaper\", \"instead\", \"instead\", \"instruct\", \"instruction\", \"insturctions\", \"insult\", \"insurance\", \"intercom\", \"interesed\", \"interest\", \"interested\", \"internal\", \"international\", \"international\", \"internet\", \"internet\", \"intnl\", \"inverse\", \"investigate\", \"investigate\", \"investigating\", \"investigation\", \"investor\", \"io\", \"iod\", \"ipad\", \"ipad\", \"ipadmobile\", \"iphone\", \"ipswich\", \"iraq\", \"iridescent\", \"irritated\", \"irving\", \"ish%\", \"isnt\", \"isolata\", \"isp\", \"issue\", \"issued\", \"issuei\", \"ist\", \"istwas\", \"it<\", \"itafterward\", \"itbut\", \"itd\", \"item\", \"item>there\", \"ithaca\", \"itjust\", \"itll\", \"ittttt\", \"ive\", \"ive\", \"ive\", \"ive\", \"ive\", \"ive\", \"ive\", \"ive\", \"ive\", \"ive\", \"ive\", \"ive\", \"ive\", \"ive\", \"ive\", \"ive\", \"ive\", \"ja\", \"jackyreinventcommcom\", \"jai\", \"jaimerais\", \"jamais\", \"james#nbavote\", \"jan\", \"jan\\\"\", \"janowski\", \"janst\", \"janth\", \"january\", \"jb\", \"jb\", \"jb\", \"jb\", \"jb\", \"jb\", \"jb\", \"jb\", \"je\", \"jersey\", \"jetzt\", \"jewellery\", \"jewon\", \"jewon\", \"jinx\", \"job\", \"job\\\"\", \"jod\", \"joder\", \"john\", \"johnlegere\", \"join\", \"joke\", \"jordan\", \"jordan\", \"jours\", \"jpg\", \"jr\", \"jtlyk\", \"julian\", \"julie\", \"julie\", \"jump\", \"jzrv\", \"k\", \"kanns\", \"kaum\", \"kc\", \"kd\", \"kd\", \"keep\", \"kept\", \"keria\", \"kick\", \"kid\", \"kid\", \"kill\", \"killeen\", \"kimb\", \"kind\", \"kindle\", \"kindle\", \"kindle\", \"kindle\", \"kindle\", \"kindleunlimited\", \"kindly\", \"kiranvermagmailcom\", \"kj\", \"kj\", \"kj\", \"kj\", \"kj\", \"kj\", \"kj\", \"kj\", \"km\", \"kmmert\", \"knew\", \"knightmare\", \"knock\", \"know\", \"knowenjoy\", \"knowladge\", \"knowledgeable\", \"known\", \"kobe\", \"kobe\", \"kobo\", \"kochi\", \"kodi\", \"kohl\", \"kohl\", \"kohl\", \"konten\", \"kristaps\", \"kthxbye\", \"kudos\", \"kumar\", \"kyle\", \"kyrie\", \"la\", \"lab\", \"lady\", \"lager\", \"lame\", \"lamp\", \"landmark\", \"landover\", \"lang\", \"language\", \"laptop\", \"laredo\", \"lasciarlo\", \"lasciato\", \"lash\", \"last\", \"late\", \"laterstill\", \"latest\", \"laundered\", \"laurenconrad\", \"lawsuit\", \"laziness\", \"ldn\", \"learn\", \"leasing\", \"least\", \"leather\", \"leave\", \"leaving\", \"leaving\", \"lebron\", \"lebron\", \"ledis\", \"leeds\", \"left\", \"left\", \"leftand\", \"legendary\", \"legere\", \"legislation\", \"legit\", \"lendemain\", \"lenovo\", \"lentreprise\", \"let\", \"letter\", \"letting\", \"lg\", \"libel\", \"libre\", \"libry\", \"licet\", \"lie\", \"liegt\", \"life\", \"light\", \"ligible\", \"lik\", \"like\", \"like\", \"like\", \"like\", \"like\", \"like\", \"like\", \"like\", \"like\", \"like\", \"like\", \"like\", \"like\", \"like\", \"like\", \"like\", \"like\", \"like\", \"like\", \"like\", \"like\", \"like\", \"like\", \"like\", \"like\", \"liked\", \"limbo\", \"limit\", \"limited\", \"line\", \"line\", \"line\", \"link\", \"linked\", \"linthicum\", \"list\", \"listed\", \"listed\", \"listen\", \"listingthats\", \"literally\", \"little\", \"live\", \"livechat\", \"livewebchat\", \"living\", \"livraison\", \"livre\", \"livreur\", \"lizzie\", \"lizzie\", \"llegado\", \"llevo\", \"llmanos\", \"lmao\", \"lmfaooooo\", \"lngst\", \"load\", \"loading\", \"lobby\", \"local\", \"locate\", \"locate\", \"location\", \"location\", \"location\", \"locator\", \"locator\", \"locator\", \"lockedso\", \"locker\", \"locker\", \"log\", \"logged\", \"logging\", \"login\", \"logistic\", \"logistics\", \"logisticsi\", \"logon\", \"lol\", \"lols\", \"london\", \"loner\", \"long\", \"look\", \"look\", \"look\", \"looked\", \"looking\", \"loop\", \"loose\", \"loosing\", \"los\", \"lose\", \"losing\", \"lost\", \"lost\", \"lost\", \"lost\", \"lot\", \"lounge\", \"love\", \"lovely\", \"low-income\", \"lowry\", \"loyal\", \"lte\", \"lte\", \"luanne\", \"lube\", \"lubricant\\\"\", \"luck\", \"luck\", \"lulz\", \"lumia\", \"lunar\", \"luxury\", \"ma\", \"mab\", \"mac\", \"mafia\", \"magazine\", \"magically\", \"mail\", \"mail\", \"mailfolder\", \"mais\", \"mais\", \"major\", \"make\", \"making\", \"making\", \"man\", \"manage\", \"management\", \"manager\", \"mandato\", \"manga\", \"mania\", \"manu\", \"many\", \"many\", \"many\", \"many\", \"many\", \"many\", \"many\", \"many\", \"many\", \"many\", \"many\", \"mark\", \"market\", \"marketextort\", \"marketing\", \"marketingappnutcom\", \"marshmallow\", \"mass\", \"match\", \"matter\", \"max\", \"max\", \"may\", \"may\", \"may\", \"may\", \"may\", \"may\", \"may\", \"may\", \"may\", \"may\", \"may\", \"may\", \"may\", \"may\", \"may\", \"may\", \"may\", \"may\", \"may\", \"may\", \"may\", \"maybe\", \"maybe\", \"mb\", \"mbps\", \"mcguire\", \"mckinley\", \"mean\", \"mecc\", \"medias\", \"medium\", \"medium\", \"meeting\", \"mein\", \"mejor\", \"melbourne\", \"melo\", \"member\", \"memberjust\", \"members\\\"\", \"membership\", \"membershipthanks\", \"membr\", \"men\", \"mention\", \"mention\", \"mentioned\", \"merci\", \"message\", \"messed\", \"messup\", \"metallic\", \"method\", \"metook\", \"metyler\", \"meu\", \"mewhen\", \"mg\", \"mglichkeit\", \"mgt\", \"mi\", \"mia\", \"mich\", \"michael\", \"microsoft\", \"microsoft\", \"mid-january\", \"midsoles\", \"migrarlo\", \"mikemikegamblenet\", \"milan\", \"mile\", \"min\", \"min\", \"mind\", \"mind\", \"mine\", \"minimalist\", \"minneapolis\", \"minute\", \"minuten\", \"mir\", \"mirado\", \"missed\", \"missing\", \"missingno\", \"mistake\", \"mithuncarryoncreatingcouk\", \"mixed\", \"mm\", \"mme\", \"mntiondhe\", \"mobile\", \"mobile-responsive\", \"mode\", \"moire\", \"mom\", \"moment\", \"moment\", \"moment\", \"moment\", \"moment\", \"moment\", \"moment\", \"moment\", \"moment\", \"moment\", \"moment\", \"moment\", \"mon\", \"mon-fri\", \"monday\", \"mondayso\", \"money\", \"monopod\", \"monrh\", \"mont\", \"month\", \"monthly\", \"mony\", \"moral\", \"morning\", \"morningannoying\", \"motherfuckin\", \"motivated\", \"motivation\", \"moto\", \"mouse-themed\", \"move\", \"moved\", \"moved\", \"moviemars\", \"mr\", \"mr\", \"msg\", \"mtp\", \"much\", \"multi-channel\", \"multi-site\", \"multiple\", \"munito\", \"muppets\", \"music\", \"music\\\"\", \"must\", \"muy\", \"mxico\", \"mysql\", \"mytmobile\", \"nah\", \"nahh\", \"nai\", \"name\", \"name\", \"name\", \"natrlich\", \"naval\", \"navertit\", \"neanche\", \"near\", \"need\", \"needed\", \"needed\", \"needful\", \"needing\", \"needle\", \"negate\", \"neha\", \"neither\", \"neogaf\", \"nessun\", \"nest\", \"nest\", \"netflix\", \"network\", \"neuf\", \"never\", \"never\", \"never\", \"never\", \"new\", \"neway\", \"newbie\", \"newmobile\", \"news\", \"newsroomt-mobilecom\", \"next\", \"next\", \"next\", \"next\", \"next\", \"next\", \"next\", \"next\", \"next\", \"next\", \"next\", \"next\", \"next\", \"next\", \"next\", \"next\", \"next\", \"next\", \"next\", \"next\", \"nexus\", \"nhestore\", \"nice\", \"nicht\", \"niemand\", \"night\", \"nike\", \"nike\", \"nike\", \"nike\", \"nike\", \"nike\", \"nikestore\", \"nikestore\", \"nj\", \"njthrough\", \"nnnoooooooooooooooooo\", \"no--\", \"nobody\", \"noch\", \"non\", \"non\", \"non-eligible\", \"non-existent\", \"non-latin\", \"non-object\", \"non-prime\", \"non-systemic\", \"non-urgent\", \"none\", \"nonsensical\", \"nope\", \"nope\", \"normal\", \"normally\", \"north\", \"nossa\", \"note\", \"note\", \"note\", \"note\\\"\", \"notedany\", \"nothe\", \"nothing\", \"notice\", \"noticed\", \"notification\", \"novembre\", \"nowhere\", \"nr\", \"nr\", \"nr\", \"nr\", \"nr\", \"nr\", \"nr\", \"nr\", \"nr\", \"nr\", \"nr\", \"nr\", \"nr\", \"nr\", \"nrw\", \"nsf\", \"ntes\", \"nullement\", \"numb\", \"number\", \"number\", \"number-julie\", \"numbername\", \"numberthe\", \"nur\", \"nyc\", \"o-puis\", \"obsidian\", \"occurring\", \"odd\", \"ofccust\", \"offensichtlich\", \"offer\", \"offeramazonin\", \"offered\", \"offering\", \"office\", \"office\", \"official\", \"offiziell\", \"og\", \"oh\", \"ok\", \"okay\", \"okayyyyy\", \"okkk\", \"okyes\", \"olathe\", \"old\", \"old-school\", \"omgooosh\", \"omgosh\", \"ominous\", \"omv\", \"one\", \"one\", \"one\", \"one\", \"one\", \"one\", \"one\", \"one\", \"one\", \"one\", \"one-click\", \"onin\", \"onion\", \"online\", \"online\", \"online\", \"online\", \"onset\", \"ontrac\", \"ontrac_shipping\", \"ontrack\", \"open\", \"opened\", \"opening\", \"openrather\", \"operative\", \"opps\", \"option\", \"orde\", \"order\", \"order\", \"order\", \"order\", \"order\", \"order\", \"ordered\", \"ordered-\", \"orderid\", \"orders>find\", \"ordershipping\", \"ordini\", \"organization\", \"orgs\", \"oriented\", \"original\", \"original\", \"otherwise\", \"outage\", \"outamazon\", \"outdeliver\", \"outlet\", \"outlook\", \"outside\", \"outside\", \"ouvert\", \"overcart\", \"overcharged\", \"overdo\", \"overdrawn\", \"overnight\", \"overseas\", \"ownership\", \"pa\", \"pa->nj\", \"pack\", \"package\", \"package\", \"package\", \"packaging\", \"packet\", \"packetwenn\", \"padre\", \"pag\", \"page\", \"pahredar\", \"paid\", \"pair\", \"panasonic\", \"paquet\", \"paquete\", \"par\", \"para\", \"para\", \"parabns\", \"parcel\", \"parcelvapeleader\", \"paris\", \"paro\", \"part\", \"part\", \"particular\", \"party\", \"party\", \"pas\", \"pas\", \"passage\", \"passati\", \"passcode\", \"passe\", \"passed\", \"password\", \"password\\\"\", \"past\", \"pastel\", \"patcummingsbook\", \"patd\", \"pathetic\", \"pathetic\", \"pathic\", \"pathologically\", \"patience\", \"patient\", \"paulcolegmailcom\", \"pay\", \"payback\", \"payer\", \"paying\", \"payment\", \"paypal\", \"pc\", \"pcmac\", \"pcrouter\", \"pedalpapa\", \"pedido\", \"pedidospor\", \"pen\", \"penser\", \"people\", \"per\", \"per\", \"perdera\", \"perdida\", \"perdieron\", \"perdio\", \"perfect\", \"perfect\", \"performance\", \"periscoped\", \"pero\", \"persists\", \"person\", \"personal\", \"peu\", \"pfo\", \"pg\", \"pg-its\", \"phantom\", \"phatal\", \"philippine\", \"phished\", \"pho\", \"phone\", \"phone\", \"phone\", \"phone\", \"phone\", \"phone-in\", \"phoned\", \"phoneis\", \"phonelg\", \"phonespls\", \"phoning\", \"photo\", \"php\", \"phpmyadmin\", \"pic\", \"pic\", \"pick\", \"picked\", \"pickup\", \"picture\", \"piece\", \"pinon\", \"pissed\", \"piyushbhansaliicloudcom\", \"pkg\", \"pkgdisk\", \"pkge\", \"pkgs\", \"place\", \"placed\", \"plainly\", \"plan\", \"plan\", \"plan\", \"plan\", \"plan\", \"plan\", \"plan\", \"plan\", \"plan\", \"plan\", \"plan\", \"plan\", \"plan\", \"plan\", \"plan\", \"plan\", \"plan\", \"plan\", \"plan\", \"plan\", \"plan\", \"plan\", \"plancorner\", \"planet\", \"platinum\", \"play\", \"playhackit\", \"playing\", \"please\", \"please\", \"please\", \"please\", \"please\", \"please\", \"please\", \"please\", \"please\", \"please\", \"please\", \"please\", \"please\", \"please\", \"please\", \"please\", \"please\", \"please\", \"please\", \"please\", \"please\", \"pleasure\", \"pli\", \"pls\", \"plus\", \"pm\", \"pm\", \"pm\", \"pm\", \"pmd\", \"pmest\", \"pmet\", \"point\", \"pointe\", \"pointless\", \"pokken\", \"policiesagreements\", \"policy\", \"poo\", \"poor\", \"poorest\", \"poorfailed\", \"pop\", \"popup\", \"popups\", \"por\", \"porzingis\", \"posible\", \"positive\", \"possible\", \"possible\", \"post\", \"postcode\", \"postcodehelp\", \"posted\", \"poster\", \"postie\", \"posting\", \"pour\", \"pouring\", \"pourquoi\", \"pouvais\", \"power\", \"pp\", \"ppg\", \"pre\", \"pre-arrange\", \"pre-order\", \"pre-paid\", \"pre-written\", \"precise\", \"preference\", \"preferred\", \"premium\", \"premiumthx\", \"prenium\", \"preoccuparmi\", \"preorded\", \"preorder\", \"preordered\", \"preordered\", \"preorders\", \"prepaid\", \"preposterous\", \"presentation\", \"presented\", \"pressure\", \"pressure\", \"prestataire\", \"prestige\", \"pretty\", \"preview\", \"previous\", \"previous\", \"previous\", \"previous\", \"previous\", \"previous\", \"price\", \"priceless\", \"priceline\", \"pricenot\", \"pricing\", \"pricingcoupons\", \"pricy\", \"prime\", \"primer\", \"princetripathigmailcom\", \"print\", \"printout\", \"prior\", \"priv\", \"priv\", \"private\", \"prix\", \"pro\", \"probably\", \"probe\", \"problem\", \"problemand\", \"problemclients\", \"procedimiento\", \"procesar\", \"process\", \"prod\", \"prodt\", \"product\", \"productsthat\", \"professor\", \"profile\", \"program\", \"program\", \"promise\", \"promised\", \"promotes\", \"promotion\", \"promptly\", \"pronounced\", \"pronta\", \"proper\", \"properly\", \"property\", \"proprly\", \"protector\", \"provide\", \"provided\", \"provider\", \"provider-patient\", \"providing\", \"provveder\", \"prvue\", \"psa\", \"psn\", \"pspolonews\", \"psu\", \"public\", \"publicity\", \"puede\", \"pueden\", \"puedes\", \"puedo\", \"pull\", \"punishing\", \"punjabi\", \"punto\", \"purchase\", \"purchase\", \"purchase\", \"purchase\", \"purchase\", \"purchase\", \"purchase\", \"purchase\", \"purchase\\\"\", \"purchased\", \"purches\", \"pure\", \"put\", \"pvg\", \"q\", \"qfekt\", \"qnd\", \"qu\", \"qualifier\", \"quality\", \"quand\", \"que\", \"queda\", \"queremos\", \"query\", \"question\", \"question\", \"qui\", \"qui\", \"quick\", \"quick\", \"quickly\", \"quid\", \"quieren\", \"quiero\", \"quil\", \"quit\", \"quite\", \"quite\", \"quite\", \"quizzed\", \"quoi\", \"quota\", \"quoting\", \"quuck\", \"ra\", \"ra#\", \"racer\", \"rachel\", \"racial\", \"racism\", \"radical\", \"radio\", \"rafter\", \"raggedy\", \"rained\", \"rake\", \"rama\", \"ramen\", \"rang\", \"range\", \"rangreat\", \"raped\", \"rapidez\", \"rate\", \"rather\", \"rather\", \"rcd\", \"rd\", \"re-billed\", \"re-imbursement\", \"re-install\", \"re-install\", \"reach\", \"reached\", \"reaching\", \"reactive\", \"read\", \"read\\\"\", \"read#help\", \"reading\", \"ready\", \"real\", \"realise\", \"realised\", \"realize\", \"realizing\", \"really\", \"reappeared\", \"reapplied\", \"reasn\", \"reason\", \"reason\", \"reasonbut\", \"rebeccareadvisitpeakdistrictcom\", \"rebooking\", \"rebuying\", \"recapitato\", \"receive\", \"received\", \"receiving\", \"recenlty\", \"recent\", \"recently\", \"reception\", \"recharged\", \"rechazan\", \"recibirlo\", \"recieved\", \"recived\", \"reclamei\", \"recognise\", \"recognised\", \"recommend\", \"reconcile\", \"reconnect\", \"reconsidering\", \"record\", \"recruiter\", \"red\", \"redelievered\", \"redund\", \"reebok\", \"ref#\", \"referal\", \"refering\", \"referring\", \"reffer\", \"reflection\", \"reflej\", \"refreshes\", \"refugee\", \"refund\", \"refund\", \"refunded\", \"refurbishedboth\", \"refurbishedthey\", \"refuse\", \"refused\", \"regalarselos\", \"regalo\", \"regard\", \"regarding\", \"register\", \"registered\", \"registration\", \"regret\", \"reguarding\", \"reimburse\", \"reinstated\", \"rejoin\", \"relais\", \"related\", \"related\", \"relation\", \"relaxation\", \"release\", \"release\", \"released\", \"released\", \"releasing\", \"relevent\", \"reliable\", \"religion\", \"relplace\", \"remember\", \"remonte\", \"remove\", \"removed\", \"ren\", \"renawels\", \"renew\", \"renewal\", \"renewing\", \"renovao\", \"renovate\", \"rent\", \"rental\", \"rentmoola\", \"reordering\", \"rep\", \"repayment\", \"repeater\", \"repeating\", \"replace\", \"replaceand\", \"replaced\", \"replacement\", \"replied\", \"reply\", \"replyrtetc\", \"report\", \"reporter\", \"reporting\", \"reppindawagon\", \"representative\", \"reqd\", \"request\", \"requested\", \"requested\\\"\", \"require\", \"required\", \"required\", \"reroute\", \"rescheduled\", \"rescheduledwhy\", \"rescue\", \"reservation\", \"reservation\", \"reset\", \"reset\", \"resetregistered\", \"residential\", \"resistance\", \"resolution\", \"resolutionthese\", \"resolve\", \"resolved\", \"resolving\", \"resolving\", \"resort\", \"resortis\", \"respectively\", \"respond\", \"respond\", \"responded\", \"responding\", \"response\", \"responsemaking\", \"responsesame\", \"responsibility\", \"resposta\", \"rest\", \"restarted\", \"restock\", \"restock\", \"restock\", \"restock\", \"restocking\", \"restore\", \"restrained\", \"resuelve\", \"result\", \"resulution\", \"retail\", \"retailer\", \"retrn\", \"retro\", \"retrospectively\", \"return\", \"return\", \"return\", \"returned\", \"returning\", \"retweet\", \"reu\", \"rev\\\"\", \"revel\", \"reverse\", \"reverts\", \"review\", \"review\", \"reviewer\", \"reward\", \"reword\", \"rex\", \"rgds\", \"rhetorical\", \"riaccreditati\", \"richtig\", \"rickd\", \"rickd\", \"rickd\", \"rickd\", \"ridic\", \"ridiculous\", \"rien\", \"right\", \"right\", \"right\", \"right\", \"right\", \"right\", \"right\", \"right\", \"right\", \"right\", \"right\", \"right\", \"right\", \"right\", \"right\", \"right\", \"right\", \"right\", \"right\", \"right\", \"right\", \"right\", \"right\", \"right\", \"right\", \"right\", \"right\", \"right\", \"right\", \"right\", \"right\", \"right\", \"right\", \"right\", \"right\", \"right\", \"ringing\", \"ringrazio\", \"risulta\", \"riv\", \"rl\", \"rl\", \"rm\", \"rm\", \"rn\", \"robbing\", \"roberto\", \"robin\", \"robin\", \"robot\", \"roku\", \"roll\", \"rolling\", \"rome\", \"rope\", \"roseville\", \"roshe\", \"round\", \"roundabout\", \"router\", \"row\", \"rpg\", \"rphtfk\", \"rplcmnt\", \"rply\", \"rqestd\", \"rs-\", \"rters\", \"rtrnd\", \"rubbered\", \"rubbish\", \"rude\", \"rudely\", \"rudemean\", \"ruder\", \"ruining\", \"run\", \"running\", \"sad\", \"safe\", \"safrica\", \"said\", \"said\", \"said\\\"sorry\", \"saidfedexhelp\", \"sailed\", \"sait\", \"sake\", \"saldo\", \"sale\", \"saludos\", \"samsung\", \"sapere\", \"satno\", \"saturday\", \"satutday\", \"saudi\", \"save\", \"saved\", \"saved\", \"saw\", \"say\", \"saying\", \"sb\", \"sb\", \"scan\", \"scandal\", \"scandalous\", \"scanning\", \"scansphotos\", \"schade\", \"sched\", \"scheduled\", \"schemer\", \"schonmal\", \"school\", \"schuhe\", \"schuld\", \"scratched\", \"screen\", \"screenshot\", \"screw\", \"screw-up\", \"screwed\", \"script\", \"scroll\", \"scroll\", \"seanan\", \"search\", \"search-stream\", \"season\", \"season\", \"seat\", \"seat\", \"seat\", \"second\", \"secondes\", \"section\", \"section\", \"security\", \"seditionists\", \"see\", \"see\", \"see\", \"see\", \"see\", \"see\", \"see\", \"see\", \"see\", \"see\", \"see\", \"see\", \"see\", \"see\", \"see\", \"see\", \"see\", \"see\", \"see\", \"see\", \"see\", \"see\", \"see\", \"see\", \"see\", \"see\", \"see\", \"see\", \"see\", \"see\", \"see\", \"see\", \"see\", \"see\", \"see\", \"see\", \"see\", \"see\", \"see\", \"seeing\", \"seelol\", \"seem\", \"seem\", \"seems\", \"seen\", \"segnato\", \"seit\", \"select\", \"self-hosted\", \"sell\", \"seller\", \"selling\", \"selvamguy\", \"semi-resolved\", \"send\", \"send\", \"send\", \"send\", \"sended\", \"sending\", \"sendung\", \"sennheiser\", \"sense\", \"sent\", \"separatelybefore\", \"serbia\", \"serial\", \"seriosuly\", \"seriously\", \"seriouslyaccount\", \"serum\", \"serve\", \"server\", \"servesis\", \"service\", \"service\", \"servicefedexhelp-yall\", \"serviceshttpstcoouysczk\", \"servicethats\", \"setauket\", \"setisfaction\", \"setting\", \"setting\", \"setting\", \"settle\", \"setup\", \"seulement\", \"seur\", \"sewcalsocialitegmaicom\", \"sewcalsocialitegmailcom\", \"sewing\", \"sexta\", \"sexting\", \"sftwre\", \"sg\", \"sg\", \"shady\", \"share\", \"share\", \"share\", \"share\", \"shared\", \"sharing\", \"ship\", \"ship\", \"shipen\", \"shipment\", \"shipped\", \"shipped\", \"shipped\", \"shipping\", \"shipping\", \"shirt\", \"shit\", \"shocked\", \"shocking\", \"shoe\", \"shoot\", \"shoot\", \"shop\", \"shop\", \"shop\", \"shopclues\", \"shopping\", \"shortly\", \"shot\", \"shouldnt\", \"shout\", \"shout\", \"shoutout\", \"show\", \"showed\", \"showing\", \"shut\", \"si\", \"si\", \"siano\", \"sick\", \"side\", \"sido\", \"sight\", \"sign\", \"signal\", \"signature\", \"signed\", \"sii\", \"silverline\", \"sim\", \"simple\", \"simply\", \"since\", \"sink\", \"sir\", \"sirma\", \"sister\", \"sit\", \"site\", \"site\", \"site\", \"site\", \"site\", \"site\", \"site\", \"site\", \"site\", \"site\", \"site\", \"site\", \"site\", \"siteground\", \"sitesometimes\", \"sitting\", \"situation\", \"size\", \"size\", \"size\", \"sj\", \"sk\", \"skeptical\", \"skokie\", \"sl\", \"sl\", \"sleep\", \"slooooww\", \"sloppy\", \"slot\", \"slow\", \"slows\", \"sm\", \"small\", \"smallif\", \"smell\", \"smelling\", \"smh\", \"smthng\", \"sneaker\", \"snkrs\", \"social\", \"social\", \"socialinfoaviscom\", \"socialmediaaviscouk\", \"sogar\", \"soho\", \"sois\", \"sokeep\", \"sold\", \"sold\", \"soldier\", \"soll\", \"soloution\", \"solucin\", \"solution\", \"solutions\\\"\", \"solutn\", \"solve\", \"solved\", \"somebody\", \"someone\", \"something\", \"sometimes\", \"sonst\", \"sony\", \"sony\", \"soon\", \"soon\", \"soon\", \"soon\", \"sooo\", \"soooo\", \"sorry\", \"sorry\", \"sorry\", \"sorry\", \"sorry\", \"sorry\", \"sorry\", \"sorry\", \"sorry\", \"sorry\", \"sorry\", \"sorry\", \"sorry\", \"sorry\", \"sorry\", \"sorry\", \"sorry\", \"sorry\", \"sorry\", \"sorry\", \"sorry\", \"sorry\", \"sorry\\\"\", \"sorrys\", \"sort\", \"sort-of\", \"sorted\", \"sorting\", \"soulless\", \"sound\", \"soundbar\", \"south\", \"soy\", \"sp\", \"spammy\", \"span\", \"spanish\", \"speak\", \"speak\", \"special\", \"specific\", \"specifically\", \"specilists\", \"speed\", \"speed\", \"spelt\", \"spend\", \"spent\", \"spg\", \"spin\", \"spoke\", \"spoke\", \"spot\", \"sprint\", \"sql\", \"srieux\", \"ssn\", \"staff\", \"stair\", \"stalk\", \"standing\", \"stardom\", \"start\", \"start\", \"start\", \"start\", \"start\", \"start\", \"start\", \"start\", \"start\", \"start\", \"start\", \"start\", \"start\", \"start\", \"start\", \"start\", \"started\", \"starting\", \"starting\", \"state\", \"stated\", \"statement\", \"stats\", \"statt\", \"status\", \"stay\", \"stay\", \"std\", \"stealing\", \"step\", \"stepped\", \"steps\\\"\", \"stesso\", \"stick\", \"stiffed\", \"stil\", \"still\", \"still\", \"still\", \"still\", \"stink\", \"stock\", \"stock\", \"stolen\", \"stolenlost\", \"stop\", \"stop\", \"stop\", \"stopped\", \"storage\", \"store\", \"store\", \"storniert\", \"story\", \"straight\", \"stranded\", \"stratocaster\", \"stream\", \"stream\", \"street\", \"structure\", \"struggle\", \"struggling\", \"stuck\", \"stud\", \"student\", \"stuff\", \"stupid\", \"style\", \"style\", \"style\", \"style\", \"submit\", \"submitted\", \"subscribesave\", \"subscription\", \"subscription\", \"suck\", \"sucks#\", \"sudden\", \"suddenly\", \"sudoku\", \"sufficient\", \"suggest\", \"suggestion\", \"sunday\", \"super\", \"super\", \"supervisor\", \"supone\", \"supplying\", \"support\", \"supported\", \"supporting\", \"suppose\", \"supposed\", \"supposedly\", \"supposedly\", \"suppsed\", \"supreme\", \"sur\", \"sure\", \"sure\", \"surfacing\", \"surprise\", \"survey\", \"survival\", \"suspended\", \"suspendedaccused\", \"suxk\", \"sv\", \"sv\", \"svc\", \"sw\", \"sw\", \"sw\", \"sweet\", \"sweet\", \"swined\", \"switch\", \"switch\", \"switched\", \"switching\", \"switching#comeonman\", \"swj\", \"swj\", \"sword\", \"swu\", \"syndicated\", \"syrian\", \"system\", \"system\", \"system\", \"system\", \"t-force\", \"t-force\", \"t-force\", \"t-mobile\", \"t-mobile\", \"t-mobile\", \"t-mobile\", \"t-tmobilehelp\", \"tablet\", \"tag\", \"tag\", \"tagen\", \"tagging\", \"take\", \"take\", \"taken\", \"takeover\", \"taking\", \"talaga\", \"talk\", \"talked\", \"talkin\", \"talking\", \"tanto\", \"tape-bot\", \"tariff\", \"tat\", \"tax\", \"tbh\", \"teaching\", \"team\", \"team\\\"\", \"teambecause\", \"teamnot\", \"tech\", \"tee\", \"telefone\", \"teleskop\", \"tell\", \"telling\", \"templated\", \"tena\", \"tendr\", \"tendra\", \"tener\", \"tengo\", \"tennis\", \"tenter\", \"tenth\", \"term\", \"terminar\", \"terminate\", \"terminated\", \"terrible\", \"terrorist\", \"terrorist\", \"test\", \"testing\", \"tethering\", \"text\", \"texted\", \"thank\", \"thank\", \"thanked\", \"thankfully\", \"thanking\", \"thanks\", \"thanks\", \"thanks\", \"thanks\", \"thanks\", \"thanks\", \"thanks\", \"thanks\", \"thanks\", \"thanks\", \"thanks\", \"thanks\", \"thanks\", \"thanks\", \"thanks\", \"thanks\", \"thanks\", \"thanks\", \"thanks\", \"thanks\", \"thanks\", \"thanks\", \"thanks\", \"thanks\", \"thanks\", \"thanks\", \"thanks\", \"thanks\", \"thanks\", \"thanks\", \"thanks\", \"thanks\", \"thanks\", \"thanks\", \"thanks\", \"thanks\", \"thanks\", \"thanks\", \"thanks-ju\", \"thankyou\", \"thanx\", \"that-thanks\", \"thats\", \"thats\", \"thats\", \"thats\", \"thats\", \"thats\", \"thats\", \"thats\", \"thats\", \"thats\", \"thats\", \"thats\", \"thats\", \"thats\", \"thats\", \"thats\", \"thats\", \"thats\", \"thats\", \"thats\", \"thats\", \"thats\", \"thats\", \"thats\", \"thats\", \"thats\", \"thats\", \"thats\", \"thats\", \"thats\", \"thats\", \"thats\", \"thats\", \"thats\", \"thats\", \"thats\", \"theeeee\", \"theft\", \"thenpossible\", \"thereamazonhelp\", \"theweb\", \"theyll\", \"theyll\", \"theyre\", \"theyre\", \"theyre\", \"theyre\", \"theyre\", \"theyre\", \"theyre\", \"theyre\", \"theyre\", \"theyre\", \"theyre\", \"theyre\", \"theyre\", \"thingy\", \"think\", \"think\", \"thinking\", \"third\", \"this#disappointed\", \"thjanmaild\", \"thks\", \"thnkx\", \"thnx\", \"though\", \"thought\", \"thousand\", \"three\", \"three\", \"throwback\", \"throwing\", \"thru\", \"ththth\", \"thu\", \"thunderbird\", \"thursday\", \"thursday\\\"\", \"thx\", \"thy\", \"ticket\", \"ticket\", \"ticket\", \"till\", \"time\", \"time\", \"time\", \"time\", \"time\", \"time\", \"time\", \"time\", \"timedistance\", \"timescale\", \"timesdey\", \"timex\", \"tinamad\", \"tinxi\", \"tip\", \"tired\", \"title\", \"titled\", \"tks\", \"tmobile\", \"tmobile\", \"tmrw\", \"tnx\", \"today\", \"today\", \"today\", \"today\", \"today\", \"today\", \"today\", \"today\", \"today\", \"today\", \"today\", \"today\", \"today\", \"today\", \"today\", \"today\", \"today\", \"today\", \"today\", \"today\", \"today\", \"today\", \"today\", \"today\", \"today\", \"today\", \"today\", \"today\", \"today\", \"today\\\"\", \"together\", \"told\", \"tommorow\", \"tomorrow\", \"tomorrow\", \"tomorrow\\\"\", \"toni\", \"tonight\", \"tonight\", \"tonight\", \"took\", \"took\", \"top\", \"top\", \"top\", \"totally\", \"touch\", \"touch\", \"toujours\", \"toukol\", \"townumm\", \"tq\", \"tracciabilit\", \"track\", \"tracker\", \"tracking\", \"tracking\", \"tracking\", \"trackingcontactaddress\", \"trackingupdates\", \"trainer\", \"trainer\", \"trainieten\", \"transaction\", \"transcript\", \"transfer\", \"transfer\", \"transferred\", \"trash\", \"travel\", \"treated\", \"treatment\", \"trey-\", \"tried\", \"trip\", \"trotzdem\", \"trouble\", \"troubleshoot\", \"troubleshooting\", \"troubleshooting\", \"trouve\", \"true\", \"truly\", \"truthnot\", \"try\", \"trying\", \"trying-its\", \"tshowtime\", \"tu\", \"tu\", \"tuesday\", \"tuesdayawful\", \"tumour\", \"tuned\", \"turn\", \"turn\", \"turned\", \"tuttaltro\", \"tv\", \"tva\", \"tweet\", \"tweeted\", \"tweeting\", \"twenty\", \"twice\", \"twinshttpstcodnsuwtddiw\", \"twitter\", \"twitter\", \"twitterid\", \"twitterkohlscom\", \"two\", \"twoaccounts\", \"txt\", \"ty\", \"type\", \"type=books\", \"ubterwegs\", \"uff\", \"ughhh\", \"ughhhhhhh\", \"uhh\", \"uk\", \"uk\", \"uk\", \"ukraine\", \"ultra\", \"ummnorth\", \"una\", \"una\", \"unable\", \"unable\", \"unable\", \"unable\", \"unable\", \"unable\", \"unable\", \"unableunwilling\", \"unacceptable\", \"unacceptable\", \"unavailable\", \"unbelievable\", \"unbelivable\", \"unbiased\", \"unboxednon-repaired\", \"unboxedrefurbished\", \"unboxing\", \"unchanged\", \"uncle\", \"unclosed\", \"undelivered\", \"underserved\", \"understand\", \"understand\", \"understand\", \"understand\", \"understand\", \"understand\", \"understand\", \"understand\", \"understand\", \"understand\", \"understanding\", \"understandmy\", \"underwear\", \"une\", \"unfolding\", \"unfortunately\", \"unfortunately\", \"unfortunately\", \"unhappy\", \"unicrst\", \"uniques\", \"universal\", \"university\", \"unix\", \"unjust\", \"unl\", \"unless\", \"unlimited\", \"unlock\", \"unlocked\", \"unplug\", \"unprofessional\", \"unrecieved\", \"unsatisfaction\", \"untouchable\", \"untrackable\", \"unviels\", \"unwind\", \"update\", \"update\", \"update\", \"update\", \"update\", \"update\", \"update\", \"update\", \"update\", \"update\", \"update\", \"update\", \"update\", \"updated\", \"updateso\", \"updating\", \"upgrade\", \"upgrade\", \"upgrading\", \"upjust\", \"upload\", \"upload\", \"upon\", \"ups\", \"upset\", \"upshelp\", \"upss\", \"urgently\", \"url\", \"url\", \"usa\", \"usage\", \"usar\", \"uschicago\", \"used\", \"useless\", \"user\", \"user\", \"user\", \"user\", \"username\", \"using\", \"usps\", \"utilises\", \"utopia\", \"utterly\", \"uuurrr\", \"va\", \"vacaciones\", \"vacation\", \"vais\", \"validating\", \"vampire\", \"vapor\", \"vegetarian\", \"veggie\", \"vendor\", \"vendre\", \"venue\", \"verdad\", \"verification\", \"verification\", \"verification\", \"verify\", \"verizon\", \"verizon\", \"version\", \"version\", \"vez\", \"via\", \"via\", \"via\", \"via\", \"via\", \"via\", \"via\", \"via\", \"via\", \"via\", \"victimsshame\", \"video\", \"video\", \"video\", \"videojuego\", \"vielen\", \"view\", \"vii\", \"vinyl\", \"violence\", \"visit\", \"visit\", \"visited\", \"vizio\", \"voi\", \"voicemail\", \"voil\", \"volume\", \"vorfreude\", \"voting\", \"votre\", \"votre\", \"vou\", \"voucherpls\", \"vous\", \"vps\", \"vry\", \"vuestro\", \"vuol\", \"waaay\", \"wack\", \"wade\", \"wainting\", \"wait\", \"waited\", \"waiting\", \"waitingwell\", \"waitlist\", \"walgreensi\", \"wall\\\"\", \"wallet\\\"\", \"wamazon\", \"wanna\", \"want\", \"want\", \"want\", \"want\", \"want\", \"want\", \"want\", \"want\", \"want\", \"want\", \"want\", \"want\", \"want\", \"want\", \"want\", \"want\", \"want\", \"want\", \"want\", \"want\", \"wanted\", \"warehouse\", \"warning\", \"warte\", \"warum\", \"wasnt\", \"waste\", \"wasted\", \"watching\", \"wave\", \"way\", \"way\", \"way\", \"way\", \"way\", \"way\", \"way\", \"way\", \"way\", \"way\", \"way\", \"way\", \"way\", \"way\", \"way\", \"way\", \"way\", \"way\", \"way\", \"way\", \"way\", \"way\", \"way\", \"way\", \"way\", \"way\", \"way\", \"way\", \"wdesired\", \"weak\", \"web\", \"web\", \"website\", \"website\", \"website\\\"\", \"website-went\", \"websiteit\", \"wed\", \"wed\", \"wed\", \"wed\", \"wed\", \"wed\", \"wed\", \"week\", \"week\", \"week\", \"week\", \"week\", \"week\", \"weekend\", \"weekmy\", \"weeps\", \"weibo\", \"weil\", \"weird\", \"welcome\", \"well\", \"well\", \"well\", \"well\", \"well\", \"well\", \"well\", \"well\", \"well\", \"well\", \"well\", \"well\", \"well\", \"well\", \"wellit\", \"wemail\", \"went\", \"werde\", \"werehouse\", \"west\", \"westbrook\", \"weve\", \"weve\", \"weve\", \"wfedex\", \"whats\", \"whatsoever\", \"whc\", \"whhy\", \"white\", \"whole\", \"whut\", \"wich\", \"wife\", \"wifi\", \"wii\", \"wikimedia\", \"win\", \"win\", \"win-win\", \"window\", \"windoze\", \"winning\", \"wipe\", \"wireless\", \"wireless\", \"wirk\", \"wish\", \"wished\", \"wishing\", \"wishlist\", \"witdout\", \"within\", \"within\", \"within\", \"within\", \"without\", \"wless\", \"wo\", \"wolf\", \"woman\", \"woman\", \"wonder\", \"wonderful\", \"wondering\", \"wor\", \"word\", \"work\", \"work\", \"work\", \"work\", \"work\", \"work\", \"work\", \"work\", \"work\", \"work\", \"work\", \"work\", \"work\", \"work\", \"work\", \"work\", \"work\", \"work\", \"work\", \"work\", \"work\", \"work\", \"work\", \"work\", \"work\", \"worked\", \"working\", \"working\", \"working\", \"working\", \"working\", \"working\", \"working\", \"working\", \"working\", \"working\", \"working\", \"working\", \"working\", \"working\", \"working\", \"working\", \"working\", \"working\", \"working\", \"working\", \"working\\\"\", \"workmail\", \"workout\", \"worksdoesnt\", \"world\", \"worry\", \"worse\", \"worst\", \"worthless\", \"would\", \"would\", \"would\", \"would\", \"would\", \"would\", \"would\", \"would\", \"would\", \"would\", \"would\", \"would\", \"would\", \"would\", \"would\", \"would\", \"would\", \"would\", \"would\", \"would\", \"would\", \"would\", \"would\", \"would\", \"would\", \"would\", \"would\", \"would\", \"wouldnt\", \"wouldve\", \"wow\", \"wow\", \"wp-login\", \"wp-website\", \"wplogon\", \"wrde\", \"write\", \"wrkd\", \"wrld\", \"wrong\", \"wrongly\", \"wry\", \"wud\", \"wurde\", \"x\", \"x\", \"x-ray\", \"xbox\", \"xi\", \"xiii\", \"xx\", \"xxxxcapabilitiesphp\", \"xxxxxxx\", \"ya\", \"yall\", \"yan\", \"yay\", \"yday\", \"yea\", \"yeah\", \"year\", \"yeezy\", \"yeezy\", \"yep\", \"yes\", \"yest\", \"yesterday\", \"yesterday\", \"yesterday\", \"yesterday\", \"yet\", \"yhough\", \"yikes\", \"yoga\", \"yorkshire\", \"youd\", \"youd\", \"youd\", \"youd\", \"youll\", \"youll\", \"youll\", \"youplease\", \"youre\", \"youre\", \"yourself\\\"\", \"yr\", \"yupnoticed\", \"zahoor\", \"zappe\", \"zaroor\", \"zero\", \"zoey\", \"zona\", \"zone\", \"zoom\", \"zu\", \"zunehme\", \"zurck\", \"zurckverfolge\", \"zuversichtlich\", \"zwa\", \"zxv\", \"|\", \"|\", \"|\", \"}\", \"}\"]}, \"mdsDat\": {\"y\": [-0.029078941857559857, 0.039482459197016762, 0.14294470232163586, -0.12769780182391111, 0.095758202013668178, 0.083199191367442055, 0.11505378938078774, -0.12577189700614075, 0.1432306462096361, 0.065119982710656721, -0.006118498851850826, 0.004210480353842294, 0.027747408001179665, 0.062510660381952646, -0.053768462160134457, 0.068251647464238951, 0.017788346433879342, -0.053134509032161124, -0.16190031523042836, 0.12019741027202825, -0.20596149073069289, 0.066465701649559755, 0.0087383112394932728, 0.088266257482176383, 0.02883095954277836, -0.039124107916204381, -0.23139980526912196, 0.022979256345123728, -0.044379166808792586, -0.13870623853690081, -0.096547204667380968, -0.075828219918737449, -0.015484963583134269, 0.036179319815126045, -0.074467704014700931, 0.007419576219856997, -0.018936247629360355, 0.0189731460992341, 0.0068438732974097187, 0.12797341642434107, -0.027637361973335783, 0.019365616209798559, 0.059237259592799622, 0.096463885496852059, -0.01608013521935274, -0.061165685824243352, 0.050548037178435576, 0.083118882015448745, -0.040811769933145448, -0.062897896729108171], \"cluster\": [1, 1, 1, 1, 1, 1, 1, 1, 1, 1, 1, 1, 1, 1, 1, 1, 1, 1, 1, 1, 1, 1, 1, 1, 1, 1, 1, 1, 1, 1, 1, 1, 1, 1, 1, 1, 1, 1, 1, 1, 1, 1, 1, 1, 1, 1, 1, 1, 1, 1], \"Freq\": [6.7681116756530226, 3.6442274375582522, 2.8805741404387333, 2.8676030193029471, 2.8179751983417689, 2.7551929834747768, 2.742889434243319, 2.716279245625485, 2.7049640571606544, 2.4623906489855361, 2.1903819226200745, 2.1629447521894121, 2.1457565110785382, 2.1381742839818978, 2.0627834441311359, 2.0590898985657748, 2.0542098311162023, 1.9925969971447557, 1.9866789428715714, 1.9531152605490525, 1.9315902662734439, 1.9313722526843811, 1.8184044192076556, 1.8018148880938802, 1.7997331681191879, 1.7946050326758705, 1.7945650102308011, 1.7870979923074084, 1.7727981390178715, 1.735775462608669, 1.7157644499993518, 1.7048945302251071, 1.6912347075447149, 1.6343511952818628, 1.6307425655614858, 1.6253751322093697, 1.5418764598596266, 1.5242537139229915, 1.5069320412116274, 1.449792587604573, 1.4005076263022225, 1.3833749214322084, 1.3053801579010653, 1.2942869736523743, 1.2758497564874687, 1.2560241589165704, 1.2408579748165716, 1.2002465829438014, 1.1730853679657416, 1.1714727799091549], \"topics\": [1, 2, 3, 4, 5, 6, 7, 8, 9, 10, 11, 12, 13, 14, 15, 16, 17, 18, 19, 20, 21, 22, 23, 24, 25, 26, 27, 28, 29, 30, 31, 32, 33, 34, 35, 36, 37, 38, 39, 40, 41, 42, 43, 44, 45, 46, 47, 48, 49, 50], \"x\": [-0.33760441836522176, -0.11528151014265289, -0.1759751675673312, -0.041059184220813547, -0.15296006932074055, -0.033862241147157031, -0.0082532604975666269, 0.017060090916184181, -0.073038000572576978, -0.12097444798314161, -0.087524104221150062, -0.056326019660583294, 0.063296685231711058, 0.084068695474316044, -0.14571501983233617, -0.064655847117261855, -0.0052386422468830582, -0.02678281475292003, 0.070862094337691361, 0.0040113823615242957, -0.20760746009390499, 0.011821806980932112, -0.052810569080724928, 0.069504099771018374, 0.083802812661644827, 0.052466122183696048, -0.091524420041380991, 0.075662869093052018, 0.10170330806429699, 0.087742825317053311, 0.09443389551225094, 0.046822332474948561, -0.1201135458430969, 0.016249035487331229, 0.087692517505891465, 0.060966180047037279, 0.094513059743159725, -0.012838835594617111, 0.074499690223825452, 0.064690935240845529, 0.074362954587019317, 0.080479355335891997, 0.075112957962391549, 0.053306734116118436, 0.070214680533742649, 0.053948556086542108, 0.083004058549660073, 0.043932579684663256, 0.09555248224873629, 0.038360780568885484]}, \"R\": 30, \"lambda.step\": 0.01, \"tinfo\": {\"Category\": [\"Default\", \"Default\", \"Default\", \"Default\", \"Default\", \"Default\", \"Default\", \"Default\", \"Default\", \"Default\", \"Default\", \"Default\", \"Default\", \"Default\", \"Default\", \"Default\", \"Default\", \"Default\", \"Default\", \"Default\", \"Default\", \"Default\", \"Default\", \"Default\", \"Default\", \"Default\", \"Default\", \"Default\", \"Default\", \"Default\", \"Topic1\", \"Topic1\", \"Topic1\", \"Topic1\", \"Topic1\", \"Topic1\", \"Topic1\", \"Topic1\", \"Topic1\", \"Topic1\", \"Topic1\", \"Topic1\", \"Topic1\", \"Topic1\", \"Topic1\", \"Topic1\", \"Topic1\", \"Topic1\", \"Topic1\", \"Topic1\", \"Topic1\", \"Topic1\", \"Topic1\", \"Topic1\", \"Topic1\", \"Topic1\", \"Topic1\", \"Topic1\", \"Topic1\", \"Topic1\", \"Topic1\", \"Topic1\", \"Topic1\", \"Topic1\", \"Topic1\", \"Topic1\", \"Topic1\", \"Topic1\", \"Topic1\", \"Topic1\", \"Topic1\", \"Topic1\", \"Topic1\", \"Topic1\", \"Topic1\", \"Topic1\", \"Topic1\", \"Topic1\", \"Topic1\", \"Topic1\", \"Topic1\", \"Topic1\", \"Topic1\", \"Topic1\", \"Topic1\", \"Topic1\", \"Topic1\", \"Topic1\", \"Topic1\", \"Topic1\", \"Topic1\", \"Topic1\", \"Topic1\", \"Topic1\", \"Topic1\", \"Topic2\", \"Topic2\", \"Topic2\", \"Topic2\", \"Topic2\", \"Topic2\", \"Topic2\", \"Topic2\", \"Topic2\", \"Topic2\", \"Topic2\", \"Topic2\", \"Topic2\", \"Topic2\", \"Topic2\", \"Topic2\", \"Topic2\", \"Topic2\", \"Topic2\", \"Topic2\", \"Topic2\", \"Topic2\", \"Topic2\", \"Topic2\", \"Topic2\", \"Topic2\", \"Topic2\", \"Topic2\", \"Topic2\", \"Topic2\", \"Topic2\", \"Topic2\", \"Topic2\", \"Topic2\", \"Topic2\", \"Topic2\", \"Topic2\", \"Topic2\", \"Topic2\", \"Topic2\", \"Topic2\", \"Topic2\", \"Topic2\", \"Topic2\", \"Topic2\", \"Topic2\", \"Topic2\", \"Topic2\", \"Topic2\", \"Topic2\", \"Topic2\", \"Topic2\", \"Topic2\", \"Topic2\", \"Topic2\", \"Topic2\", \"Topic2\", \"Topic2\", \"Topic2\", \"Topic2\", \"Topic2\", \"Topic2\", \"Topic2\", \"Topic2\", \"Topic2\", \"Topic2\", \"Topic2\", \"Topic2\", \"Topic2\", \"Topic3\", \"Topic3\", \"Topic3\", \"Topic3\", \"Topic3\", \"Topic3\", \"Topic3\", \"Topic3\", \"Topic3\", \"Topic3\", \"Topic3\", \"Topic3\", \"Topic3\", \"Topic3\", \"Topic3\", \"Topic3\", \"Topic3\", \"Topic3\", \"Topic3\", \"Topic3\", \"Topic3\", \"Topic3\", \"Topic3\", \"Topic3\", \"Topic3\", \"Topic3\", \"Topic3\", \"Topic3\", \"Topic3\", \"Topic3\", \"Topic3\", \"Topic3\", \"Topic3\", \"Topic3\", \"Topic3\", \"Topic3\", \"Topic3\", \"Topic3\", \"Topic3\", \"Topic3\", \"Topic3\", \"Topic3\", \"Topic3\", \"Topic3\", \"Topic3\", \"Topic3\", \"Topic3\", \"Topic3\", \"Topic3\", \"Topic3\", \"Topic3\", \"Topic3\", \"Topic3\", \"Topic3\", \"Topic3\", \"Topic3\", \"Topic3\", \"Topic3\", \"Topic3\", \"Topic3\", \"Topic3\", \"Topic3\", \"Topic3\", \"Topic3\", \"Topic3\", \"Topic3\", \"Topic3\", \"Topic3\", \"Topic3\", \"Topic3\", \"Topic3\", \"Topic3\", \"Topic3\", \"Topic3\", \"Topic3\", \"Topic3\", \"Topic3\", \"Topic3\", \"Topic3\", \"Topic4\", \"Topic4\", \"Topic4\", \"Topic4\", \"Topic4\", \"Topic4\", \"Topic4\", \"Topic4\", \"Topic4\", \"Topic4\", \"Topic4\", \"Topic4\", \"Topic4\", \"Topic4\", \"Topic4\", \"Topic4\", \"Topic4\", \"Topic4\", \"Topic4\", \"Topic4\", \"Topic4\", \"Topic4\", \"Topic4\", \"Topic4\", \"Topic4\", \"Topic4\", \"Topic4\", \"Topic4\", \"Topic4\", \"Topic4\", \"Topic4\", \"Topic4\", \"Topic4\", \"Topic4\", \"Topic4\", \"Topic4\", \"Topic4\", \"Topic4\", \"Topic4\", \"Topic4\", \"Topic4\", \"Topic4\", \"Topic4\", \"Topic4\", \"Topic4\", \"Topic4\", \"Topic4\", \"Topic4\", \"Topic4\", \"Topic4\", \"Topic4\", \"Topic4\", \"Topic4\", \"Topic4\", \"Topic4\", \"Topic4\", \"Topic4\", \"Topic4\", \"Topic4\", \"Topic4\", \"Topic4\", \"Topic4\", \"Topic4\", \"Topic4\", \"Topic4\", \"Topic4\", \"Topic4\", \"Topic4\", \"Topic4\", \"Topic4\", \"Topic4\", \"Topic4\", \"Topic5\", \"Topic5\", \"Topic5\", \"Topic5\", \"Topic5\", \"Topic5\", \"Topic5\", \"Topic5\", \"Topic5\", \"Topic5\", \"Topic5\", \"Topic5\", \"Topic5\", \"Topic5\", \"Topic5\", \"Topic5\", \"Topic5\", \"Topic5\", \"Topic5\", \"Topic5\", \"Topic5\", \"Topic5\", \"Topic5\", \"Topic5\", \"Topic5\", \"Topic5\", \"Topic5\", \"Topic5\", \"Topic5\", \"Topic5\", \"Topic5\", \"Topic5\", \"Topic5\", \"Topic5\", \"Topic5\", \"Topic5\", \"Topic5\", \"Topic5\", \"Topic5\", \"Topic5\", \"Topic5\", \"Topic5\", \"Topic5\", \"Topic5\", \"Topic5\", \"Topic5\", \"Topic5\", \"Topic5\", \"Topic5\", \"Topic5\", \"Topic5\", \"Topic5\", \"Topic5\", \"Topic5\", \"Topic5\", \"Topic5\", \"Topic5\", \"Topic5\", \"Topic5\", \"Topic5\", \"Topic5\", \"Topic5\", \"Topic5\", \"Topic5\", \"Topic5\", \"Topic5\", \"Topic5\", \"Topic5\", \"Topic5\", \"Topic5\", \"Topic5\", \"Topic5\", \"Topic5\", \"Topic5\", \"Topic5\", \"Topic5\", \"Topic5\", \"Topic5\", \"Topic5\", \"Topic5\", \"Topic5\", \"Topic5\", \"Topic5\", \"Topic5\", \"Topic5\", \"Topic5\", \"Topic5\", \"Topic5\", \"Topic6\", \"Topic6\", \"Topic6\", \"Topic6\", \"Topic6\", \"Topic6\", \"Topic6\", \"Topic6\", \"Topic6\", \"Topic6\", \"Topic6\", \"Topic6\", \"Topic6\", \"Topic6\", \"Topic6\", \"Topic6\", \"Topic6\", \"Topic6\", \"Topic6\", \"Topic6\", \"Topic6\", \"Topic6\", \"Topic6\", \"Topic6\", \"Topic6\", \"Topic6\", \"Topic6\", \"Topic6\", \"Topic6\", \"Topic6\", \"Topic6\", \"Topic6\", \"Topic6\", \"Topic6\", \"Topic6\", \"Topic6\", \"Topic6\", \"Topic6\", \"Topic6\", \"Topic6\", \"Topic6\", \"Topic6\", \"Topic6\", \"Topic6\", \"Topic6\", \"Topic6\", \"Topic6\", \"Topic6\", \"Topic6\", \"Topic6\", \"Topic6\", \"Topic6\", \"Topic6\", \"Topic6\", \"Topic6\", \"Topic6\", \"Topic6\", \"Topic6\", \"Topic6\", \"Topic6\", \"Topic6\", \"Topic6\", \"Topic6\", \"Topic6\", \"Topic6\", \"Topic6\", \"Topic6\", \"Topic6\", \"Topic6\", \"Topic6\", \"Topic6\", \"Topic6\", \"Topic6\", \"Topic6\", \"Topic6\", \"Topic6\", \"Topic6\", \"Topic6\", \"Topic7\", \"Topic7\", \"Topic7\", \"Topic7\", \"Topic7\", \"Topic7\", \"Topic7\", \"Topic7\", \"Topic7\", \"Topic7\", \"Topic7\", \"Topic7\", \"Topic7\", \"Topic7\", \"Topic7\", \"Topic7\", \"Topic7\", \"Topic7\", \"Topic7\", \"Topic7\", \"Topic7\", \"Topic7\", \"Topic7\", \"Topic7\", \"Topic7\", \"Topic7\", \"Topic7\", \"Topic7\", \"Topic7\", \"Topic7\", \"Topic7\", \"Topic7\", \"Topic7\", \"Topic7\", \"Topic7\", \"Topic7\", \"Topic7\", \"Topic7\", \"Topic7\", \"Topic7\", \"Topic7\", \"Topic7\", \"Topic7\", \"Topic7\", \"Topic7\", \"Topic7\", \"Topic7\", \"Topic7\", \"Topic7\", \"Topic7\", \"Topic7\", \"Topic7\", \"Topic7\", \"Topic7\", \"Topic7\", \"Topic7\", \"Topic7\", \"Topic7\", \"Topic7\", \"Topic7\", \"Topic7\", \"Topic7\", \"Topic7\", \"Topic7\", \"Topic7\", \"Topic7\", \"Topic7\", \"Topic7\", \"Topic7\", \"Topic7\", \"Topic7\", \"Topic7\", \"Topic7\", \"Topic7\", \"Topic7\", \"Topic7\", \"Topic7\", \"Topic7\", \"Topic8\", \"Topic8\", \"Topic8\", \"Topic8\", \"Topic8\", \"Topic8\", \"Topic8\", \"Topic8\", \"Topic8\", \"Topic8\", \"Topic8\", \"Topic8\", \"Topic8\", \"Topic8\", \"Topic8\", \"Topic8\", \"Topic8\", \"Topic8\", \"Topic8\", \"Topic8\", \"Topic8\", \"Topic8\", \"Topic8\", \"Topic8\", \"Topic8\", \"Topic8\", \"Topic8\", \"Topic8\", \"Topic8\", \"Topic8\", \"Topic8\", \"Topic8\", \"Topic8\", \"Topic8\", \"Topic8\", \"Topic8\", \"Topic8\", \"Topic8\", \"Topic8\", \"Topic8\", \"Topic8\", \"Topic8\", \"Topic8\", \"Topic8\", \"Topic8\", \"Topic8\", \"Topic8\", \"Topic8\", \"Topic8\", \"Topic8\", \"Topic8\", \"Topic8\", \"Topic8\", \"Topic8\", \"Topic8\", \"Topic8\", \"Topic8\", \"Topic8\", \"Topic8\", \"Topic8\", \"Topic8\", \"Topic8\", \"Topic8\", \"Topic8\", \"Topic8\", \"Topic8\", \"Topic8\", \"Topic8\", \"Topic8\", \"Topic8\", \"Topic8\", \"Topic8\", \"Topic8\", \"Topic9\", \"Topic9\", \"Topic9\", \"Topic9\", \"Topic9\", \"Topic9\", \"Topic9\", \"Topic9\", \"Topic9\", \"Topic9\", \"Topic9\", \"Topic9\", \"Topic9\", \"Topic9\", \"Topic9\", \"Topic9\", \"Topic9\", \"Topic9\", \"Topic9\", \"Topic9\", \"Topic9\", \"Topic9\", \"Topic9\", \"Topic9\", \"Topic9\", \"Topic9\", \"Topic9\", \"Topic9\", \"Topic9\", \"Topic9\", \"Topic9\", \"Topic9\", \"Topic9\", \"Topic9\", \"Topic9\", \"Topic9\", \"Topic9\", \"Topic9\", \"Topic9\", \"Topic9\", \"Topic9\", \"Topic9\", \"Topic9\", \"Topic9\", \"Topic9\", \"Topic9\", \"Topic9\", \"Topic9\", \"Topic9\", \"Topic9\", \"Topic9\", \"Topic9\", \"Topic9\", \"Topic9\", \"Topic9\", \"Topic9\", \"Topic9\", \"Topic9\", \"Topic9\", \"Topic9\", \"Topic9\", \"Topic9\", \"Topic9\", \"Topic9\", \"Topic9\", \"Topic9\", \"Topic9\", \"Topic9\", \"Topic9\", \"Topic9\", \"Topic9\", \"Topic9\", \"Topic9\", \"Topic9\", \"Topic9\", \"Topic9\", \"Topic9\", \"Topic9\", \"Topic9\", \"Topic9\", \"Topic9\", \"Topic9\", \"Topic9\", \"Topic10\", \"Topic10\", \"Topic10\", \"Topic10\", \"Topic10\", \"Topic10\", \"Topic10\", \"Topic10\", \"Topic10\", \"Topic10\", \"Topic10\", \"Topic10\", \"Topic10\", \"Topic10\", \"Topic10\", \"Topic10\", \"Topic10\", \"Topic10\", \"Topic10\", \"Topic10\", \"Topic10\", \"Topic10\", \"Topic10\", \"Topic10\", \"Topic10\", \"Topic10\", \"Topic10\", \"Topic10\", \"Topic10\", \"Topic10\", \"Topic10\", \"Topic10\", \"Topic10\", \"Topic10\", \"Topic10\", \"Topic10\", \"Topic10\", \"Topic10\", \"Topic10\", \"Topic10\", \"Topic10\", \"Topic10\", \"Topic10\", \"Topic10\", \"Topic10\", \"Topic10\", \"Topic10\", \"Topic10\", \"Topic10\", \"Topic10\", \"Topic10\", \"Topic10\", \"Topic10\", \"Topic10\", \"Topic10\", \"Topic10\", \"Topic10\", \"Topic10\", \"Topic10\", \"Topic10\", \"Topic10\", \"Topic10\", \"Topic10\", \"Topic10\", \"Topic10\", \"Topic10\", \"Topic10\", \"Topic10\", \"Topic10\", \"Topic10\", \"Topic10\", \"Topic10\", \"Topic10\", \"Topic10\", \"Topic11\", \"Topic11\", \"Topic11\", \"Topic11\", \"Topic11\", \"Topic11\", \"Topic11\", \"Topic11\", \"Topic11\", \"Topic11\", \"Topic11\", \"Topic11\", \"Topic11\", \"Topic11\", \"Topic11\", \"Topic11\", \"Topic11\", \"Topic11\", \"Topic11\", \"Topic11\", \"Topic11\", \"Topic11\", \"Topic11\", \"Topic11\", \"Topic11\", \"Topic11\", \"Topic11\", \"Topic11\", \"Topic11\", \"Topic11\", \"Topic11\", \"Topic11\", \"Topic11\", \"Topic11\", \"Topic11\", \"Topic11\", \"Topic11\", \"Topic11\", \"Topic11\", \"Topic11\", \"Topic11\", \"Topic11\", \"Topic11\", \"Topic11\", \"Topic11\", \"Topic11\", \"Topic11\", \"Topic11\", \"Topic11\", \"Topic11\", \"Topic11\", \"Topic11\", \"Topic11\", \"Topic11\", \"Topic11\", \"Topic11\", \"Topic11\", \"Topic11\", \"Topic11\", \"Topic11\", \"Topic11\", \"Topic11\", \"Topic11\", \"Topic11\", \"Topic11\", \"Topic11\", \"Topic11\", \"Topic11\", \"Topic11\", \"Topic11\", \"Topic11\", \"Topic11\", \"Topic11\", \"Topic11\", \"Topic11\", \"Topic11\", \"Topic11\", \"Topic11\", \"Topic11\", \"Topic11\", \"Topic11\", \"Topic12\", \"Topic12\", \"Topic12\", \"Topic12\", \"Topic12\", \"Topic12\", \"Topic12\", \"Topic12\", \"Topic12\", \"Topic12\", \"Topic12\", \"Topic12\", \"Topic12\", \"Topic12\", \"Topic12\", \"Topic12\", \"Topic12\", \"Topic12\", \"Topic12\", \"Topic12\", \"Topic12\", \"Topic12\", \"Topic12\", \"Topic12\", \"Topic12\", \"Topic12\", \"Topic12\", \"Topic12\", \"Topic12\", \"Topic12\", \"Topic12\", \"Topic12\", \"Topic12\", \"Topic12\", \"Topic12\", \"Topic12\", \"Topic12\", \"Topic12\", \"Topic12\", \"Topic12\", \"Topic12\", \"Topic12\", \"Topic12\", \"Topic12\", \"Topic12\", \"Topic12\", \"Topic12\", \"Topic12\", \"Topic12\", \"Topic12\", \"Topic12\", \"Topic12\", \"Topic12\", \"Topic12\", \"Topic12\", \"Topic12\", \"Topic12\", \"Topic12\", \"Topic12\", \"Topic12\", \"Topic12\", \"Topic12\", \"Topic12\", \"Topic12\", \"Topic12\", \"Topic12\", \"Topic12\", \"Topic12\", \"Topic12\", \"Topic12\", \"Topic12\", \"Topic12\", \"Topic12\", \"Topic12\", \"Topic12\", \"Topic12\", \"Topic12\", \"Topic12\", \"Topic13\", \"Topic13\", \"Topic13\", \"Topic13\", \"Topic13\", \"Topic13\", \"Topic13\", \"Topic13\", \"Topic13\", \"Topic13\", \"Topic13\", \"Topic13\", \"Topic13\", \"Topic13\", \"Topic13\", \"Topic13\", \"Topic13\", \"Topic13\", \"Topic13\", \"Topic13\", \"Topic13\", \"Topic13\", \"Topic13\", \"Topic13\", \"Topic13\", \"Topic13\", \"Topic13\", \"Topic13\", \"Topic13\", \"Topic13\", \"Topic13\", \"Topic13\", \"Topic13\", \"Topic13\", \"Topic13\", \"Topic13\", \"Topic13\", \"Topic13\", \"Topic13\", \"Topic13\", \"Topic13\", \"Topic13\", \"Topic13\", \"Topic13\", \"Topic13\", \"Topic13\", \"Topic13\", \"Topic13\", \"Topic13\", \"Topic13\", \"Topic13\", \"Topic13\", \"Topic13\", \"Topic13\", \"Topic13\", \"Topic13\", \"Topic13\", \"Topic13\", \"Topic13\", \"Topic13\", \"Topic13\", \"Topic13\", \"Topic13\", \"Topic13\", \"Topic13\", \"Topic13\", \"Topic13\", \"Topic13\", \"Topic13\", \"Topic13\", \"Topic13\", \"Topic13\", \"Topic13\", \"Topic13\", \"Topic13\", \"Topic13\", \"Topic13\", \"Topic13\", \"Topic13\", \"Topic13\", \"Topic13\", \"Topic13\", \"Topic13\", \"Topic13\", \"Topic13\", \"Topic13\", \"Topic13\", \"Topic13\", \"Topic13\", \"Topic14\", \"Topic14\", \"Topic14\", \"Topic14\", \"Topic14\", \"Topic14\", \"Topic14\", \"Topic14\", \"Topic14\", \"Topic14\", \"Topic14\", \"Topic14\", \"Topic14\", \"Topic14\", \"Topic14\", \"Topic14\", \"Topic14\", \"Topic14\", \"Topic14\", \"Topic14\", \"Topic14\", \"Topic14\", \"Topic14\", \"Topic14\", \"Topic14\", \"Topic14\", \"Topic14\", \"Topic14\", \"Topic14\", \"Topic14\", \"Topic14\", \"Topic14\", \"Topic14\", \"Topic14\", \"Topic14\", \"Topic14\", \"Topic14\", \"Topic14\", \"Topic14\", \"Topic14\", \"Topic14\", \"Topic14\", \"Topic14\", \"Topic14\", \"Topic14\", \"Topic14\", \"Topic14\", \"Topic14\", \"Topic14\", \"Topic14\", \"Topic14\", \"Topic14\", \"Topic14\", \"Topic14\", \"Topic14\", \"Topic14\", \"Topic14\", \"Topic14\", \"Topic14\", \"Topic14\", \"Topic14\", \"Topic14\", \"Topic14\", \"Topic14\", \"Topic14\", \"Topic14\", \"Topic14\", \"Topic14\", \"Topic14\", \"Topic14\", \"Topic14\", \"Topic14\", \"Topic14\", \"Topic14\", \"Topic14\", \"Topic14\", \"Topic14\", \"Topic15\", \"Topic15\", \"Topic15\", \"Topic15\", \"Topic15\", \"Topic15\", \"Topic15\", \"Topic15\", \"Topic15\", \"Topic15\", \"Topic15\", \"Topic15\", \"Topic15\", \"Topic15\", \"Topic15\", \"Topic15\", \"Topic15\", \"Topic15\", \"Topic15\", \"Topic15\", \"Topic15\", \"Topic15\", \"Topic15\", \"Topic15\", \"Topic15\", \"Topic15\", \"Topic15\", \"Topic15\", \"Topic15\", \"Topic15\", \"Topic15\", \"Topic15\", \"Topic15\", \"Topic15\", \"Topic15\", \"Topic15\", \"Topic15\", \"Topic15\", \"Topic15\", \"Topic15\", \"Topic15\", \"Topic15\", \"Topic15\", \"Topic15\", \"Topic15\", \"Topic15\", \"Topic15\", \"Topic15\", \"Topic15\", \"Topic15\", \"Topic15\", \"Topic15\", \"Topic15\", \"Topic15\", \"Topic15\", \"Topic15\", \"Topic15\", \"Topic15\", \"Topic15\", \"Topic15\", \"Topic15\", \"Topic15\", \"Topic15\", \"Topic15\", \"Topic15\", \"Topic15\", \"Topic15\", \"Topic15\", \"Topic16\", \"Topic16\", \"Topic16\", \"Topic16\", \"Topic16\", \"Topic16\", \"Topic16\", \"Topic16\", \"Topic16\", \"Topic16\", \"Topic16\", \"Topic16\", \"Topic16\", \"Topic16\", \"Topic16\", \"Topic16\", \"Topic16\", \"Topic16\", \"Topic16\", \"Topic16\", \"Topic16\", \"Topic16\", \"Topic16\", \"Topic16\", \"Topic16\", \"Topic16\", \"Topic16\", \"Topic16\", \"Topic16\", \"Topic16\", \"Topic16\", \"Topic16\", \"Topic16\", \"Topic16\", \"Topic16\", \"Topic16\", \"Topic16\", \"Topic16\", \"Topic16\", \"Topic16\", \"Topic16\", \"Topic16\", \"Topic16\", \"Topic16\", \"Topic16\", \"Topic16\", \"Topic16\", \"Topic16\", \"Topic16\", \"Topic16\", \"Topic16\", \"Topic16\", \"Topic16\", \"Topic16\", \"Topic16\", \"Topic16\", \"Topic16\", \"Topic16\", \"Topic16\", \"Topic16\", \"Topic16\", \"Topic16\", \"Topic16\", \"Topic16\", \"Topic16\", \"Topic16\", \"Topic16\", \"Topic16\", \"Topic16\", \"Topic16\", \"Topic16\", \"Topic16\", \"Topic16\", \"Topic16\", \"Topic16\", \"Topic16\", \"Topic16\", \"Topic16\", \"Topic16\", \"Topic16\", \"Topic16\", \"Topic17\", \"Topic17\", \"Topic17\", \"Topic17\", \"Topic17\", \"Topic17\", \"Topic17\", \"Topic17\", \"Topic17\", \"Topic17\", \"Topic17\", \"Topic17\", \"Topic17\", \"Topic17\", \"Topic17\", \"Topic17\", \"Topic17\", \"Topic17\", \"Topic17\", \"Topic17\", \"Topic17\", \"Topic17\", \"Topic17\", \"Topic17\", \"Topic17\", \"Topic17\", \"Topic17\", \"Topic17\", \"Topic17\", \"Topic17\", \"Topic17\", \"Topic17\", \"Topic17\", \"Topic17\", \"Topic17\", \"Topic17\", \"Topic17\", \"Topic17\", \"Topic17\", \"Topic17\", \"Topic17\", \"Topic17\", \"Topic17\", \"Topic17\", \"Topic17\", \"Topic17\", \"Topic17\", \"Topic17\", \"Topic17\", \"Topic17\", \"Topic17\", \"Topic17\", \"Topic17\", \"Topic17\", \"Topic17\", \"Topic17\", \"Topic17\", \"Topic17\", \"Topic17\", \"Topic17\", \"Topic17\", \"Topic17\", \"Topic17\", \"Topic17\", \"Topic17\", \"Topic17\", \"Topic17\", \"Topic17\", \"Topic17\", \"Topic17\", \"Topic17\", \"Topic17\", \"Topic17\", \"Topic17\", \"Topic17\", \"Topic17\", \"Topic18\", \"Topic18\", \"Topic18\", \"Topic18\", \"Topic18\", \"Topic18\", \"Topic18\", \"Topic18\", \"Topic18\", \"Topic18\", \"Topic18\", \"Topic18\", \"Topic18\", \"Topic18\", \"Topic18\", \"Topic18\", \"Topic18\", \"Topic18\", \"Topic18\", \"Topic18\", \"Topic18\", \"Topic18\", \"Topic18\", \"Topic18\", \"Topic18\", \"Topic18\", \"Topic18\", \"Topic18\", \"Topic18\", \"Topic18\", \"Topic18\", \"Topic18\", \"Topic18\", \"Topic18\", \"Topic18\", \"Topic18\", \"Topic18\", \"Topic18\", \"Topic18\", \"Topic18\", \"Topic18\", \"Topic18\", \"Topic18\", \"Topic18\", \"Topic18\", \"Topic18\", \"Topic18\", \"Topic18\", \"Topic18\", \"Topic18\", \"Topic18\", \"Topic18\", \"Topic18\", \"Topic18\", \"Topic18\", \"Topic18\", \"Topic18\", \"Topic18\", \"Topic18\", \"Topic18\", \"Topic18\", \"Topic18\", \"Topic18\", \"Topic18\", \"Topic18\", \"Topic18\", \"Topic18\", \"Topic18\", \"Topic18\", \"Topic18\", \"Topic18\", \"Topic18\", \"Topic18\", \"Topic18\", \"Topic18\", \"Topic18\", \"Topic18\", \"Topic18\", \"Topic18\", \"Topic18\", \"Topic18\", \"Topic18\", \"Topic18\", \"Topic18\", \"Topic18\", \"Topic18\", \"Topic18\", \"Topic18\", \"Topic19\", \"Topic19\", \"Topic19\", \"Topic19\", \"Topic19\", \"Topic19\", \"Topic19\", \"Topic19\", \"Topic19\", \"Topic19\", \"Topic19\", \"Topic19\", \"Topic19\", \"Topic19\", \"Topic19\", \"Topic19\", \"Topic19\", \"Topic19\", \"Topic19\", \"Topic19\", \"Topic19\", \"Topic19\", \"Topic19\", \"Topic19\", \"Topic19\", \"Topic19\", \"Topic19\", \"Topic19\", \"Topic19\", \"Topic19\", \"Topic19\", \"Topic19\", \"Topic19\", \"Topic19\", \"Topic19\", \"Topic19\", \"Topic19\", \"Topic19\", \"Topic19\", \"Topic19\", \"Topic19\", \"Topic19\", \"Topic19\", \"Topic19\", \"Topic19\", \"Topic19\", \"Topic19\", \"Topic19\", \"Topic19\", \"Topic19\", \"Topic19\", \"Topic19\", \"Topic19\", \"Topic19\", \"Topic19\", \"Topic19\", \"Topic19\", \"Topic19\", \"Topic19\", \"Topic19\", \"Topic19\", \"Topic19\", \"Topic19\", \"Topic19\", \"Topic19\", \"Topic19\", \"Topic19\", \"Topic19\", \"Topic20\", \"Topic20\", \"Topic20\", \"Topic20\", \"Topic20\", \"Topic20\", \"Topic20\", \"Topic20\", \"Topic20\", \"Topic20\", \"Topic20\", \"Topic20\", \"Topic20\", \"Topic20\", \"Topic20\", \"Topic20\", \"Topic20\", \"Topic20\", \"Topic20\", \"Topic20\", \"Topic20\", \"Topic20\", \"Topic20\", \"Topic20\", \"Topic20\", \"Topic20\", \"Topic20\", \"Topic20\", \"Topic20\", \"Topic20\", \"Topic20\", \"Topic20\", \"Topic20\", \"Topic20\", \"Topic20\", \"Topic20\", \"Topic20\", \"Topic20\", \"Topic20\", \"Topic20\", \"Topic20\", \"Topic20\", \"Topic20\", \"Topic20\", \"Topic20\", \"Topic20\", \"Topic20\", \"Topic20\", \"Topic20\", \"Topic20\", \"Topic20\", \"Topic20\", \"Topic20\", \"Topic20\", \"Topic20\", \"Topic20\", \"Topic20\", \"Topic20\", \"Topic20\", \"Topic20\", \"Topic20\", \"Topic20\", \"Topic20\", \"Topic20\", \"Topic20\", \"Topic20\", \"Topic20\", \"Topic20\", \"Topic20\", \"Topic20\", \"Topic20\", \"Topic20\", \"Topic20\", \"Topic20\", \"Topic21\", \"Topic21\", \"Topic21\", \"Topic21\", \"Topic21\", \"Topic21\", \"Topic21\", \"Topic21\", \"Topic21\", \"Topic21\", \"Topic21\", \"Topic21\", \"Topic21\", \"Topic21\", \"Topic21\", \"Topic21\", \"Topic21\", \"Topic21\", \"Topic21\", \"Topic21\", \"Topic21\", \"Topic21\", \"Topic21\", \"Topic21\", \"Topic21\", \"Topic21\", \"Topic21\", \"Topic21\", \"Topic21\", \"Topic21\", \"Topic21\", \"Topic21\", \"Topic21\", \"Topic21\", \"Topic21\", \"Topic21\", \"Topic21\", \"Topic21\", \"Topic21\", \"Topic21\", \"Topic21\", \"Topic21\", \"Topic21\", \"Topic21\", \"Topic21\", \"Topic21\", \"Topic21\", \"Topic21\", \"Topic21\", \"Topic21\", \"Topic21\", \"Topic21\", \"Topic21\", \"Topic21\", \"Topic21\", \"Topic21\", \"Topic21\", \"Topic21\", \"Topic21\", \"Topic21\", \"Topic21\", \"Topic21\", \"Topic21\", \"Topic21\", \"Topic21\", \"Topic21\", \"Topic21\", \"Topic21\", \"Topic21\", \"Topic21\", \"Topic21\", \"Topic21\", \"Topic21\", \"Topic21\", \"Topic21\", \"Topic21\", \"Topic21\", \"Topic21\", \"Topic21\", \"Topic21\", \"Topic22\", \"Topic22\", \"Topic22\", \"Topic22\", \"Topic22\", \"Topic22\", \"Topic22\", \"Topic22\", \"Topic22\", \"Topic22\", \"Topic22\", \"Topic22\", \"Topic22\", \"Topic22\", \"Topic22\", \"Topic22\", \"Topic22\", \"Topic22\", \"Topic22\", \"Topic22\", \"Topic22\", \"Topic22\", \"Topic22\", \"Topic22\", \"Topic22\", \"Topic22\", \"Topic22\", \"Topic22\", \"Topic22\", \"Topic22\", \"Topic22\", \"Topic22\", \"Topic22\", \"Topic22\", \"Topic22\", \"Topic22\", \"Topic22\", \"Topic22\", \"Topic22\", \"Topic22\", \"Topic22\", \"Topic22\", \"Topic22\", \"Topic22\", \"Topic22\", \"Topic22\", \"Topic22\", \"Topic22\", \"Topic22\", \"Topic22\", \"Topic22\", \"Topic22\", \"Topic22\", \"Topic22\", \"Topic22\", \"Topic22\", \"Topic22\", \"Topic22\", \"Topic22\", \"Topic22\", \"Topic22\", \"Topic22\", \"Topic22\", \"Topic22\", \"Topic22\", \"Topic22\", \"Topic22\", \"Topic22\", \"Topic22\", \"Topic22\", \"Topic22\", \"Topic22\", \"Topic22\", \"Topic22\", \"Topic22\", \"Topic22\", \"Topic22\", \"Topic22\", \"Topic22\", \"Topic22\", \"Topic22\", \"Topic22\", \"Topic22\", \"Topic22\", \"Topic22\", \"Topic22\", \"Topic22\", \"Topic22\", \"Topic22\", \"Topic22\", \"Topic23\", \"Topic23\", \"Topic23\", \"Topic23\", \"Topic23\", \"Topic23\", \"Topic23\", \"Topic23\", \"Topic23\", \"Topic23\", \"Topic23\", \"Topic23\", \"Topic23\", \"Topic23\", \"Topic23\", \"Topic23\", \"Topic23\", \"Topic23\", \"Topic23\", \"Topic23\", \"Topic23\", \"Topic23\", \"Topic23\", \"Topic23\", \"Topic23\", \"Topic23\", \"Topic23\", \"Topic23\", \"Topic23\", \"Topic23\", \"Topic23\", \"Topic23\", \"Topic23\", \"Topic23\", \"Topic23\", \"Topic23\", \"Topic23\", \"Topic23\", \"Topic23\", \"Topic23\", \"Topic23\", \"Topic23\", \"Topic23\", \"Topic23\", \"Topic23\", \"Topic23\", \"Topic23\", \"Topic23\", \"Topic23\", \"Topic23\", \"Topic23\", \"Topic23\", \"Topic23\", \"Topic23\", \"Topic23\", \"Topic23\", \"Topic23\", \"Topic23\", \"Topic23\", \"Topic23\", \"Topic23\", \"Topic23\", \"Topic23\", \"Topic23\", \"Topic23\", \"Topic23\", \"Topic23\", \"Topic23\", \"Topic23\", \"Topic23\", \"Topic23\", \"Topic23\", \"Topic23\", \"Topic23\", \"Topic23\", \"Topic23\", \"Topic23\", \"Topic24\", \"Topic24\", \"Topic24\", \"Topic24\", \"Topic24\", \"Topic24\", \"Topic24\", \"Topic24\", \"Topic24\", \"Topic24\", \"Topic24\", \"Topic24\", \"Topic24\", \"Topic24\", \"Topic24\", \"Topic24\", \"Topic24\", \"Topic24\", \"Topic24\", \"Topic24\", \"Topic24\", \"Topic24\", \"Topic24\", \"Topic24\", \"Topic24\", \"Topic24\", \"Topic24\", \"Topic24\", \"Topic24\", \"Topic24\", \"Topic24\", \"Topic24\", \"Topic24\", \"Topic24\", \"Topic24\", \"Topic24\", \"Topic24\", \"Topic24\", \"Topic24\", \"Topic24\", \"Topic24\", \"Topic24\", \"Topic24\", \"Topic24\", \"Topic24\", \"Topic24\", \"Topic24\", \"Topic24\", \"Topic24\", \"Topic24\", \"Topic24\", \"Topic24\", \"Topic24\", \"Topic24\", \"Topic24\", \"Topic24\", \"Topic24\", \"Topic24\", \"Topic24\", \"Topic24\", \"Topic24\", \"Topic24\", \"Topic24\", \"Topic24\", \"Topic24\", \"Topic24\", \"Topic24\", \"Topic24\", \"Topic24\", \"Topic24\", \"Topic24\", \"Topic24\", \"Topic24\", \"Topic24\", \"Topic24\", \"Topic24\", \"Topic25\", \"Topic25\", \"Topic25\", \"Topic25\", \"Topic25\", \"Topic25\", \"Topic25\", \"Topic25\", \"Topic25\", \"Topic25\", \"Topic25\", \"Topic25\", \"Topic25\", \"Topic25\", \"Topic25\", \"Topic25\", \"Topic25\", \"Topic25\", \"Topic25\", \"Topic25\", \"Topic25\", \"Topic25\", \"Topic25\", \"Topic25\", \"Topic25\", \"Topic25\", \"Topic25\", \"Topic25\", \"Topic25\", \"Topic25\", \"Topic25\", \"Topic25\", \"Topic25\", \"Topic25\", \"Topic25\", \"Topic25\", \"Topic25\", \"Topic25\", \"Topic25\", \"Topic25\", \"Topic25\", \"Topic25\", \"Topic25\", \"Topic25\", \"Topic25\", \"Topic25\", \"Topic25\", \"Topic25\", \"Topic25\", \"Topic25\", \"Topic25\", \"Topic25\", \"Topic25\", \"Topic25\", \"Topic25\", \"Topic25\", \"Topic25\", \"Topic25\", \"Topic25\", \"Topic25\", \"Topic25\", \"Topic25\", \"Topic25\", \"Topic25\", \"Topic25\", \"Topic25\", \"Topic25\", \"Topic25\", \"Topic25\", \"Topic25\", \"Topic25\", \"Topic25\", \"Topic25\", \"Topic25\", \"Topic25\", \"Topic25\", \"Topic25\", \"Topic25\", \"Topic25\", \"Topic25\", \"Topic25\", \"Topic25\", \"Topic25\", \"Topic25\", \"Topic25\", \"Topic25\", \"Topic26\", \"Topic26\", \"Topic26\", \"Topic26\", \"Topic26\", \"Topic26\", \"Topic26\", \"Topic26\", \"Topic26\", \"Topic26\", \"Topic26\", \"Topic26\", \"Topic26\", \"Topic26\", \"Topic26\", \"Topic26\", \"Topic26\", \"Topic26\", \"Topic26\", \"Topic26\", \"Topic26\", \"Topic26\", \"Topic26\", \"Topic26\", \"Topic26\", \"Topic26\", \"Topic26\", \"Topic26\", \"Topic26\", \"Topic26\", \"Topic26\", \"Topic26\", \"Topic26\", \"Topic26\", \"Topic26\", \"Topic26\", \"Topic26\", \"Topic26\", \"Topic26\", \"Topic26\", \"Topic26\", \"Topic26\", \"Topic26\", \"Topic26\", \"Topic26\", \"Topic26\", \"Topic26\", \"Topic26\", \"Topic26\", \"Topic26\", \"Topic26\", \"Topic26\", \"Topic26\", \"Topic26\", \"Topic26\", \"Topic26\", \"Topic26\", \"Topic26\", \"Topic26\", \"Topic26\", \"Topic26\", \"Topic26\", \"Topic26\", \"Topic26\", \"Topic26\", \"Topic26\", \"Topic26\", \"Topic26\", \"Topic26\", \"Topic26\", \"Topic26\", \"Topic26\", \"Topic26\", \"Topic26\", \"Topic26\", \"Topic26\", \"Topic26\", \"Topic26\", \"Topic26\", \"Topic26\", \"Topic26\", \"Topic26\", \"Topic26\", \"Topic26\", \"Topic26\", \"Topic26\", \"Topic26\", \"Topic26\", \"Topic26\", \"Topic26\", \"Topic26\", \"Topic26\", \"Topic26\", \"Topic26\", \"Topic26\", \"Topic26\", \"Topic26\", \"Topic26\", \"Topic26\", \"Topic26\", \"Topic27\", \"Topic27\", \"Topic27\", \"Topic27\", \"Topic27\", \"Topic27\", \"Topic27\", \"Topic27\", \"Topic27\", \"Topic27\", \"Topic27\", \"Topic27\", \"Topic27\", \"Topic27\", \"Topic27\", \"Topic27\", \"Topic27\", \"Topic27\", \"Topic27\", \"Topic27\", \"Topic27\", \"Topic27\", \"Topic27\", \"Topic27\", \"Topic27\", \"Topic27\", \"Topic27\", \"Topic27\", \"Topic27\", \"Topic27\", \"Topic27\", \"Topic27\", \"Topic27\", \"Topic27\", \"Topic27\", \"Topic27\", \"Topic27\", \"Topic27\", \"Topic27\", \"Topic27\", \"Topic27\", \"Topic27\", \"Topic27\", \"Topic27\", \"Topic27\", \"Topic27\", \"Topic27\", \"Topic27\", \"Topic27\", \"Topic27\", \"Topic27\", \"Topic27\", \"Topic27\", \"Topic27\", \"Topic27\", \"Topic27\", \"Topic27\", \"Topic27\", \"Topic27\", \"Topic27\", \"Topic27\", \"Topic27\", \"Topic27\", \"Topic27\", \"Topic27\", \"Topic27\", \"Topic27\", \"Topic28\", \"Topic28\", \"Topic28\", \"Topic28\", \"Topic28\", \"Topic28\", \"Topic28\", \"Topic28\", \"Topic28\", \"Topic28\", \"Topic28\", \"Topic28\", \"Topic28\", \"Topic28\", \"Topic28\", \"Topic28\", \"Topic28\", \"Topic28\", \"Topic28\", \"Topic28\", \"Topic28\", \"Topic28\", \"Topic28\", \"Topic28\", \"Topic28\", \"Topic28\", \"Topic28\", \"Topic28\", \"Topic28\", \"Topic28\", \"Topic28\", \"Topic28\", \"Topic28\", \"Topic28\", \"Topic28\", \"Topic28\", \"Topic28\", \"Topic28\", \"Topic28\", \"Topic28\", \"Topic28\", \"Topic28\", \"Topic28\", \"Topic28\", \"Topic28\", \"Topic28\", \"Topic28\", \"Topic28\", \"Topic28\", \"Topic28\", \"Topic28\", \"Topic28\", \"Topic28\", \"Topic28\", \"Topic28\", \"Topic28\", \"Topic28\", \"Topic28\", \"Topic28\", \"Topic28\", \"Topic28\", \"Topic28\", \"Topic28\", \"Topic28\", \"Topic28\", \"Topic28\", \"Topic28\", \"Topic28\", \"Topic28\", \"Topic28\", \"Topic28\", \"Topic28\", \"Topic28\", \"Topic28\", \"Topic28\", \"Topic28\", \"Topic28\", \"Topic28\", \"Topic28\", \"Topic28\", \"Topic28\", \"Topic28\", \"Topic28\", \"Topic29\", \"Topic29\", \"Topic29\", \"Topic29\", \"Topic29\", \"Topic29\", \"Topic29\", \"Topic29\", \"Topic29\", \"Topic29\", \"Topic29\", \"Topic29\", \"Topic29\", \"Topic29\", \"Topic29\", \"Topic29\", \"Topic29\", \"Topic29\", \"Topic29\", \"Topic29\", \"Topic29\", \"Topic29\", \"Topic29\", \"Topic29\", \"Topic29\", \"Topic29\", \"Topic29\", \"Topic29\", \"Topic29\", \"Topic29\", \"Topic29\", \"Topic29\", \"Topic29\", \"Topic29\", \"Topic29\", \"Topic29\", \"Topic29\", \"Topic29\", \"Topic29\", \"Topic29\", \"Topic29\", \"Topic29\", \"Topic29\", \"Topic29\", \"Topic29\", \"Topic29\", \"Topic29\", \"Topic29\", \"Topic29\", \"Topic29\", \"Topic29\", \"Topic29\", \"Topic29\", \"Topic29\", \"Topic29\", \"Topic29\", \"Topic29\", \"Topic29\", \"Topic29\", \"Topic29\", \"Topic29\", \"Topic29\", \"Topic29\", \"Topic29\", \"Topic29\", \"Topic29\", \"Topic29\", \"Topic29\", \"Topic29\", \"Topic29\", \"Topic30\", \"Topic30\", \"Topic30\", \"Topic30\", \"Topic30\", \"Topic30\", \"Topic30\", \"Topic30\", \"Topic30\", \"Topic30\", \"Topic30\", \"Topic30\", \"Topic30\", \"Topic30\", \"Topic30\", \"Topic30\", \"Topic30\", \"Topic30\", \"Topic30\", \"Topic30\", \"Topic30\", \"Topic30\", \"Topic30\", \"Topic30\", \"Topic30\", \"Topic30\", \"Topic30\", \"Topic30\", \"Topic30\", \"Topic30\", \"Topic30\", \"Topic30\", \"Topic30\", \"Topic30\", \"Topic30\", \"Topic30\", \"Topic30\", \"Topic30\", \"Topic30\", \"Topic30\", \"Topic30\", \"Topic30\", \"Topic30\", \"Topic30\", \"Topic30\", \"Topic30\", \"Topic30\", \"Topic30\", \"Topic30\", \"Topic30\", \"Topic30\", \"Topic30\", \"Topic30\", \"Topic30\", \"Topic30\", \"Topic30\", \"Topic30\", \"Topic30\", \"Topic30\", \"Topic30\", \"Topic30\", \"Topic30\", \"Topic30\", \"Topic30\", \"Topic30\", \"Topic30\", \"Topic30\", \"Topic30\", \"Topic30\", \"Topic30\", \"Topic30\", \"Topic30\", \"Topic31\", \"Topic31\", \"Topic31\", \"Topic31\", \"Topic31\", \"Topic31\", \"Topic31\", \"Topic31\", \"Topic31\", \"Topic31\", \"Topic31\", \"Topic31\", \"Topic31\", \"Topic31\", \"Topic31\", \"Topic31\", \"Topic31\", \"Topic31\", \"Topic31\", \"Topic31\", \"Topic31\", \"Topic31\", \"Topic31\", \"Topic31\", \"Topic31\", \"Topic31\", \"Topic31\", \"Topic31\", \"Topic31\", \"Topic31\", \"Topic31\", \"Topic31\", \"Topic31\", \"Topic31\", \"Topic31\", \"Topic31\", \"Topic31\", \"Topic31\", \"Topic31\", \"Topic31\", \"Topic31\", \"Topic31\", \"Topic31\", \"Topic31\", \"Topic31\", \"Topic31\", \"Topic31\", \"Topic31\", \"Topic31\", \"Topic31\", \"Topic31\", \"Topic31\", \"Topic31\", \"Topic31\", \"Topic31\", \"Topic31\", \"Topic31\", \"Topic31\", \"Topic31\", \"Topic31\", \"Topic31\", \"Topic31\", \"Topic31\", \"Topic31\", \"Topic31\", \"Topic31\", \"Topic31\", \"Topic31\", \"Topic31\", \"Topic31\", \"Topic31\", \"Topic31\", \"Topic31\", \"Topic31\", \"Topic31\", \"Topic31\", \"Topic31\", \"Topic31\", \"Topic31\", \"Topic31\", \"Topic31\", \"Topic31\", \"Topic31\", \"Topic31\", \"Topic31\", \"Topic31\", \"Topic31\", \"Topic31\", \"Topic31\", \"Topic31\", \"Topic31\", \"Topic31\", \"Topic31\", \"Topic31\", \"Topic31\", \"Topic31\", \"Topic31\", \"Topic31\", \"Topic31\", \"Topic31\", \"Topic31\", \"Topic31\", \"Topic31\", \"Topic31\", \"Topic31\", \"Topic31\", \"Topic31\", \"Topic32\", \"Topic32\", \"Topic32\", \"Topic32\", \"Topic32\", \"Topic32\", \"Topic32\", \"Topic32\", \"Topic32\", \"Topic32\", \"Topic32\", \"Topic32\", \"Topic32\", \"Topic32\", \"Topic32\", \"Topic32\", \"Topic32\", \"Topic32\", \"Topic32\", \"Topic32\", \"Topic32\", \"Topic32\", \"Topic32\", \"Topic32\", \"Topic32\", \"Topic32\", \"Topic32\", \"Topic32\", \"Topic32\", \"Topic32\", \"Topic32\", \"Topic32\", \"Topic32\", \"Topic32\", \"Topic32\", \"Topic32\", \"Topic32\", \"Topic32\", \"Topic32\", \"Topic32\", \"Topic32\", \"Topic32\", \"Topic32\", \"Topic32\", \"Topic32\", \"Topic32\", \"Topic32\", \"Topic32\", \"Topic32\", \"Topic32\", \"Topic32\", \"Topic32\", \"Topic32\", \"Topic32\", \"Topic32\", \"Topic32\", \"Topic32\", \"Topic32\", \"Topic32\", \"Topic32\", \"Topic32\", \"Topic32\", \"Topic32\", \"Topic32\", \"Topic32\", \"Topic32\", \"Topic32\", \"Topic32\", \"Topic32\", \"Topic32\", \"Topic32\", \"Topic32\", \"Topic32\", \"Topic32\", \"Topic32\", \"Topic32\", \"Topic32\", \"Topic32\", \"Topic32\", \"Topic32\", \"Topic32\", \"Topic33\", \"Topic33\", \"Topic33\", \"Topic33\", \"Topic33\", \"Topic33\", \"Topic33\", \"Topic33\", \"Topic33\", \"Topic33\", \"Topic33\", \"Topic33\", \"Topic33\", \"Topic33\", \"Topic33\", \"Topic33\", \"Topic33\", \"Topic33\", \"Topic33\", \"Topic33\", \"Topic33\", \"Topic33\", \"Topic33\", \"Topic33\", \"Topic33\", \"Topic33\", \"Topic33\", \"Topic33\", \"Topic33\", \"Topic33\", \"Topic33\", \"Topic33\", \"Topic33\", \"Topic33\", \"Topic33\", \"Topic33\", \"Topic33\", \"Topic33\", \"Topic33\", \"Topic33\", \"Topic33\", \"Topic33\", \"Topic33\", \"Topic33\", \"Topic33\", \"Topic33\", \"Topic33\", \"Topic33\", \"Topic33\", \"Topic33\", \"Topic33\", \"Topic33\", \"Topic33\", \"Topic33\", \"Topic33\", \"Topic33\", \"Topic33\", \"Topic33\", \"Topic33\", \"Topic33\", \"Topic33\", \"Topic33\", \"Topic33\", \"Topic33\", \"Topic33\", \"Topic33\", \"Topic33\", \"Topic33\", \"Topic33\", \"Topic33\", \"Topic33\", \"Topic33\", \"Topic33\", \"Topic33\", \"Topic33\", \"Topic33\", \"Topic33\", \"Topic33\", \"Topic33\", \"Topic33\", \"Topic33\", \"Topic34\", \"Topic34\", \"Topic34\", \"Topic34\", \"Topic34\", \"Topic34\", \"Topic34\", \"Topic34\", \"Topic34\", \"Topic34\", \"Topic34\", \"Topic34\", \"Topic34\", \"Topic34\", \"Topic34\", \"Topic34\", \"Topic34\", \"Topic34\", \"Topic34\", \"Topic34\", \"Topic34\", \"Topic34\", \"Topic34\", \"Topic34\", \"Topic34\", \"Topic34\", \"Topic34\", \"Topic34\", \"Topic34\", \"Topic34\", \"Topic34\", \"Topic34\", \"Topic34\", \"Topic34\", \"Topic34\", \"Topic34\", \"Topic34\", \"Topic34\", \"Topic34\", \"Topic34\", \"Topic34\", \"Topic34\", \"Topic34\", \"Topic34\", \"Topic34\", \"Topic34\", \"Topic34\", \"Topic34\", \"Topic34\", \"Topic34\", \"Topic34\", \"Topic34\", \"Topic34\", \"Topic34\", \"Topic34\", \"Topic34\", \"Topic34\", \"Topic34\", \"Topic34\", \"Topic34\", \"Topic34\", \"Topic34\", \"Topic34\", \"Topic34\", \"Topic34\", \"Topic34\", \"Topic34\", \"Topic34\", \"Topic34\", \"Topic34\", \"Topic34\", \"Topic34\", \"Topic34\", \"Topic34\", \"Topic34\", \"Topic34\", \"Topic34\", \"Topic34\", \"Topic34\", \"Topic34\", \"Topic34\", \"Topic34\", \"Topic34\", \"Topic34\", \"Topic34\", \"Topic34\", \"Topic34\", \"Topic34\", \"Topic34\", \"Topic34\", \"Topic34\", \"Topic35\", \"Topic35\", \"Topic35\", \"Topic35\", \"Topic35\", \"Topic35\", \"Topic35\", \"Topic35\", \"Topic35\", \"Topic35\", \"Topic35\", \"Topic35\", \"Topic35\", \"Topic35\", \"Topic35\", \"Topic35\", \"Topic35\", \"Topic35\", \"Topic35\", \"Topic35\", \"Topic35\", \"Topic35\", \"Topic35\", \"Topic35\", \"Topic35\", \"Topic35\", \"Topic35\", \"Topic35\", \"Topic35\", \"Topic35\", \"Topic35\", \"Topic35\", \"Topic35\", \"Topic35\", \"Topic35\", \"Topic35\", \"Topic35\", \"Topic35\", \"Topic35\", \"Topic35\", \"Topic35\", \"Topic35\", \"Topic35\", \"Topic35\", \"Topic35\", \"Topic35\", \"Topic35\", \"Topic35\", \"Topic35\", \"Topic35\", \"Topic35\", \"Topic35\", \"Topic35\", \"Topic35\", \"Topic35\", \"Topic35\", \"Topic35\", \"Topic35\", \"Topic35\", \"Topic35\", \"Topic35\", \"Topic35\", \"Topic35\", \"Topic35\", \"Topic35\", \"Topic35\", \"Topic35\", \"Topic35\", \"Topic35\", \"Topic35\", \"Topic35\", \"Topic35\", \"Topic35\", \"Topic35\", \"Topic35\", \"Topic35\", \"Topic35\", \"Topic35\", \"Topic35\", \"Topic35\", \"Topic35\", \"Topic35\", \"Topic35\", \"Topic35\", \"Topic35\", \"Topic35\", \"Topic35\", \"Topic35\", \"Topic35\", \"Topic35\", \"Topic35\", \"Topic35\", \"Topic35\", \"Topic35\", \"Topic35\", \"Topic35\", \"Topic35\", \"Topic35\", \"Topic35\", \"Topic35\", \"Topic35\", \"Topic35\", \"Topic36\", \"Topic36\", \"Topic36\", \"Topic36\", \"Topic36\", \"Topic36\", \"Topic36\", \"Topic36\", \"Topic36\", \"Topic36\", \"Topic36\", \"Topic36\", \"Topic36\", \"Topic36\", \"Topic36\", \"Topic36\", \"Topic36\", \"Topic36\", \"Topic36\", \"Topic36\", \"Topic36\", \"Topic36\", \"Topic36\", \"Topic36\", \"Topic36\", \"Topic36\", \"Topic36\", \"Topic36\", \"Topic36\", \"Topic36\", \"Topic36\", \"Topic36\", \"Topic36\", \"Topic36\", \"Topic36\", \"Topic36\", \"Topic36\", \"Topic36\", \"Topic36\", \"Topic36\", \"Topic36\", \"Topic36\", \"Topic36\", \"Topic36\", \"Topic36\", \"Topic36\", \"Topic36\", \"Topic36\", \"Topic36\", \"Topic36\", \"Topic36\", \"Topic36\", \"Topic36\", \"Topic36\", \"Topic36\", \"Topic36\", \"Topic36\", \"Topic36\", \"Topic36\", \"Topic36\", \"Topic36\", \"Topic36\", \"Topic36\", \"Topic36\", \"Topic36\", \"Topic36\", \"Topic36\", \"Topic36\", \"Topic36\", \"Topic36\", \"Topic36\", \"Topic36\", \"Topic36\", \"Topic36\", \"Topic36\", \"Topic36\", \"Topic36\", \"Topic37\", \"Topic37\", \"Topic37\", \"Topic37\", \"Topic37\", \"Topic37\", \"Topic37\", \"Topic37\", \"Topic37\", \"Topic37\", \"Topic37\", \"Topic37\", \"Topic37\", \"Topic37\", \"Topic37\", \"Topic37\", \"Topic37\", \"Topic37\", \"Topic37\", \"Topic37\", \"Topic37\", \"Topic37\", \"Topic37\", \"Topic37\", \"Topic37\", \"Topic37\", \"Topic37\", \"Topic37\", \"Topic37\", \"Topic37\", \"Topic37\", \"Topic37\", \"Topic37\", \"Topic37\", \"Topic37\", \"Topic37\", \"Topic37\", \"Topic37\", \"Topic37\", \"Topic37\", \"Topic37\", \"Topic37\", \"Topic37\", \"Topic37\", \"Topic37\", \"Topic37\", \"Topic37\", \"Topic37\", \"Topic37\", \"Topic37\", \"Topic37\", \"Topic37\", \"Topic37\", \"Topic37\", \"Topic37\", \"Topic37\", \"Topic37\", \"Topic37\", \"Topic37\", \"Topic37\", \"Topic37\", \"Topic37\", \"Topic37\", \"Topic37\", \"Topic37\", \"Topic37\", \"Topic37\", \"Topic37\", \"Topic37\", \"Topic37\", \"Topic37\", \"Topic37\", \"Topic37\", \"Topic37\", \"Topic37\", \"Topic37\", \"Topic37\", \"Topic37\", \"Topic37\", \"Topic37\", \"Topic37\", \"Topic37\", \"Topic38\", \"Topic38\", \"Topic38\", \"Topic38\", \"Topic38\", \"Topic38\", \"Topic38\", \"Topic38\", \"Topic38\", \"Topic38\", \"Topic38\", \"Topic38\", \"Topic38\", \"Topic38\", \"Topic38\", \"Topic38\", \"Topic38\", \"Topic38\", \"Topic38\", \"Topic38\", \"Topic38\", \"Topic38\", \"Topic38\", \"Topic38\", \"Topic38\", \"Topic38\", \"Topic38\", \"Topic38\", \"Topic38\", \"Topic38\", \"Topic38\", \"Topic38\", \"Topic38\", \"Topic38\", \"Topic38\", \"Topic38\", \"Topic38\", \"Topic38\", \"Topic38\", \"Topic38\", \"Topic38\", \"Topic38\", \"Topic38\", \"Topic38\", \"Topic38\", \"Topic38\", \"Topic38\", \"Topic38\", \"Topic38\", \"Topic38\", \"Topic38\", \"Topic38\", \"Topic38\", \"Topic38\", \"Topic38\", \"Topic38\", \"Topic38\", \"Topic38\", \"Topic38\", \"Topic38\", \"Topic38\", \"Topic38\", \"Topic38\", \"Topic38\", \"Topic38\", \"Topic38\", \"Topic38\", \"Topic38\", \"Topic38\", \"Topic38\", \"Topic38\", \"Topic38\", \"Topic38\", \"Topic38\", \"Topic38\", \"Topic39\", \"Topic39\", \"Topic39\", \"Topic39\", \"Topic39\", \"Topic39\", \"Topic39\", \"Topic39\", \"Topic39\", \"Topic39\", \"Topic39\", \"Topic39\", \"Topic39\", \"Topic39\", \"Topic39\", \"Topic39\", \"Topic39\", \"Topic39\", \"Topic39\", \"Topic39\", \"Topic39\", \"Topic39\", \"Topic39\", \"Topic39\", \"Topic39\", \"Topic39\", \"Topic39\", \"Topic39\", \"Topic39\", \"Topic39\", \"Topic39\", \"Topic39\", \"Topic39\", \"Topic39\", \"Topic39\", \"Topic39\", \"Topic39\", \"Topic39\", \"Topic39\", \"Topic39\", \"Topic39\", \"Topic39\", \"Topic39\", \"Topic39\", \"Topic39\", \"Topic39\", \"Topic39\", \"Topic39\", \"Topic39\", \"Topic39\", \"Topic39\", \"Topic39\", \"Topic39\", \"Topic39\", \"Topic39\", \"Topic39\", \"Topic39\", \"Topic39\", \"Topic39\", \"Topic39\", \"Topic39\", \"Topic39\", \"Topic39\", \"Topic39\", \"Topic39\", \"Topic39\", \"Topic39\", \"Topic39\", \"Topic39\", \"Topic39\", \"Topic39\", \"Topic39\", \"Topic39\", \"Topic39\", \"Topic39\", \"Topic40\", \"Topic40\", \"Topic40\", \"Topic40\", \"Topic40\", \"Topic40\", \"Topic40\", \"Topic40\", \"Topic40\", \"Topic40\", \"Topic40\", \"Topic40\", \"Topic40\", \"Topic40\", \"Topic40\", \"Topic40\", \"Topic40\", \"Topic40\", \"Topic40\", \"Topic40\", \"Topic40\", \"Topic40\", \"Topic40\", \"Topic40\", \"Topic40\", \"Topic40\", \"Topic40\", \"Topic40\", \"Topic40\", \"Topic40\", \"Topic40\", \"Topic40\", \"Topic40\", \"Topic40\", \"Topic40\", \"Topic40\", \"Topic40\", \"Topic40\", \"Topic40\", \"Topic40\", \"Topic40\", \"Topic40\", \"Topic40\", \"Topic40\", \"Topic40\", \"Topic40\", \"Topic40\", \"Topic40\", \"Topic40\", \"Topic40\", \"Topic40\", \"Topic40\", \"Topic40\", \"Topic40\", \"Topic40\", \"Topic40\", \"Topic40\", \"Topic40\", \"Topic40\", \"Topic40\", \"Topic40\", \"Topic40\", \"Topic40\", \"Topic40\", \"Topic40\", \"Topic40\", \"Topic40\", \"Topic40\", \"Topic40\", \"Topic40\", \"Topic40\", \"Topic40\", \"Topic40\", \"Topic40\", \"Topic40\", \"Topic40\", \"Topic40\", \"Topic40\", \"Topic40\", \"Topic40\", \"Topic40\", \"Topic40\", \"Topic40\", \"Topic40\", \"Topic40\", \"Topic40\", \"Topic40\", \"Topic40\", \"Topic40\", \"Topic40\", \"Topic40\", \"Topic40\", \"Topic40\", \"Topic40\", \"Topic41\", \"Topic41\", \"Topic41\", \"Topic41\", \"Topic41\", \"Topic41\", \"Topic41\", \"Topic41\", \"Topic41\", \"Topic41\", \"Topic41\", \"Topic41\", \"Topic41\", \"Topic41\", \"Topic41\", \"Topic41\", \"Topic41\", \"Topic41\", \"Topic41\", \"Topic41\", \"Topic41\", \"Topic41\", \"Topic41\", \"Topic41\", \"Topic41\", \"Topic41\", \"Topic41\", \"Topic41\", \"Topic41\", \"Topic41\", \"Topic41\", \"Topic41\", \"Topic41\", \"Topic41\", \"Topic41\", \"Topic41\", \"Topic41\", \"Topic41\", \"Topic41\", \"Topic41\", \"Topic41\", \"Topic41\", \"Topic41\", \"Topic41\", \"Topic41\", \"Topic41\", \"Topic41\", \"Topic41\", \"Topic41\", \"Topic41\", \"Topic41\", \"Topic41\", \"Topic41\", \"Topic41\", \"Topic41\", \"Topic41\", \"Topic41\", \"Topic41\", \"Topic41\", \"Topic41\", \"Topic41\", \"Topic41\", \"Topic41\", \"Topic41\", \"Topic41\", \"Topic41\", \"Topic41\", \"Topic41\", \"Topic41\", \"Topic41\", \"Topic41\", \"Topic41\", \"Topic41\", \"Topic41\", \"Topic42\", \"Topic42\", \"Topic42\", \"Topic42\", \"Topic42\", \"Topic42\", \"Topic42\", \"Topic42\", \"Topic42\", \"Topic42\", \"Topic42\", \"Topic42\", \"Topic42\", \"Topic42\", \"Topic42\", \"Topic42\", \"Topic42\", \"Topic42\", \"Topic42\", \"Topic42\", \"Topic42\", \"Topic42\", \"Topic42\", \"Topic42\", \"Topic42\", \"Topic42\", \"Topic42\", \"Topic42\", \"Topic42\", \"Topic42\", \"Topic42\", \"Topic42\", \"Topic42\", \"Topic42\", \"Topic42\", \"Topic42\", \"Topic42\", \"Topic42\", \"Topic42\", \"Topic42\", \"Topic42\", \"Topic42\", \"Topic42\", \"Topic42\", \"Topic42\", \"Topic42\", \"Topic42\", \"Topic42\", \"Topic42\", \"Topic42\", \"Topic42\", \"Topic42\", \"Topic42\", \"Topic42\", \"Topic42\", \"Topic42\", \"Topic42\", \"Topic42\", \"Topic42\", \"Topic42\", \"Topic42\", \"Topic42\", \"Topic42\", \"Topic42\", \"Topic42\", \"Topic42\", \"Topic42\", \"Topic42\", \"Topic42\", \"Topic42\", \"Topic42\", \"Topic42\", \"Topic42\", \"Topic42\", \"Topic42\", \"Topic42\", \"Topic42\", \"Topic42\", \"Topic43\", \"Topic43\", \"Topic43\", \"Topic43\", \"Topic43\", \"Topic43\", \"Topic43\", \"Topic43\", \"Topic43\", \"Topic43\", \"Topic43\", \"Topic43\", \"Topic43\", \"Topic43\", \"Topic43\", \"Topic43\", \"Topic43\", \"Topic43\", \"Topic43\", \"Topic43\", \"Topic43\", \"Topic43\", \"Topic43\", \"Topic43\", \"Topic43\", \"Topic43\", \"Topic43\", \"Topic43\", \"Topic43\", \"Topic43\", \"Topic43\", \"Topic43\", \"Topic43\", \"Topic43\", \"Topic43\", \"Topic43\", \"Topic43\", \"Topic43\", \"Topic43\", \"Topic43\", \"Topic43\", \"Topic43\", \"Topic43\", \"Topic43\", \"Topic43\", \"Topic43\", \"Topic43\", \"Topic43\", \"Topic43\", \"Topic43\", \"Topic43\", \"Topic43\", \"Topic43\", \"Topic43\", \"Topic43\", \"Topic43\", \"Topic43\", \"Topic43\", \"Topic43\", \"Topic43\", \"Topic43\", \"Topic43\", \"Topic43\", \"Topic43\", \"Topic43\", \"Topic43\", \"Topic43\", \"Topic43\", \"Topic43\", \"Topic43\", \"Topic43\", \"Topic43\", \"Topic43\", \"Topic43\", \"Topic43\", \"Topic43\", \"Topic43\", \"Topic43\", \"Topic43\", \"Topic43\", \"Topic43\", \"Topic43\", \"Topic43\", \"Topic43\", \"Topic43\", \"Topic43\", \"Topic43\", \"Topic43\", \"Topic43\", \"Topic43\", \"Topic43\", \"Topic43\", \"Topic43\", \"Topic44\", \"Topic44\", \"Topic44\", \"Topic44\", \"Topic44\", \"Topic44\", \"Topic44\", \"Topic44\", \"Topic44\", \"Topic44\", \"Topic44\", \"Topic44\", \"Topic44\", \"Topic44\", \"Topic44\", \"Topic44\", \"Topic44\", \"Topic44\", \"Topic44\", \"Topic44\", \"Topic44\", \"Topic44\", \"Topic44\", \"Topic44\", \"Topic44\", \"Topic44\", \"Topic44\", \"Topic44\", \"Topic44\", \"Topic44\", \"Topic44\", \"Topic44\", \"Topic44\", \"Topic44\", \"Topic44\", \"Topic44\", \"Topic44\", \"Topic44\", \"Topic44\", \"Topic44\", \"Topic44\", \"Topic44\", \"Topic44\", \"Topic44\", \"Topic44\", \"Topic44\", \"Topic44\", \"Topic44\", \"Topic44\", \"Topic44\", \"Topic44\", \"Topic44\", \"Topic44\", \"Topic44\", \"Topic44\", \"Topic44\", \"Topic44\", \"Topic44\", \"Topic44\", \"Topic44\", \"Topic44\", \"Topic44\", \"Topic44\", \"Topic44\", \"Topic44\", \"Topic44\", \"Topic44\", \"Topic44\", \"Topic44\", \"Topic44\", \"Topic44\", \"Topic44\", \"Topic44\", \"Topic44\", \"Topic44\", \"Topic44\", \"Topic44\", \"Topic44\", \"Topic44\", \"Topic44\", \"Topic44\", \"Topic44\", \"Topic45\", \"Topic45\", \"Topic45\", \"Topic45\", \"Topic45\", \"Topic45\", \"Topic45\", \"Topic45\", \"Topic45\", \"Topic45\", \"Topic45\", \"Topic45\", \"Topic45\", \"Topic45\", \"Topic45\", \"Topic45\", \"Topic45\", \"Topic45\", \"Topic45\", \"Topic45\", \"Topic45\", \"Topic45\", \"Topic45\", \"Topic45\", \"Topic45\", \"Topic45\", \"Topic45\", \"Topic45\", \"Topic45\", \"Topic45\", \"Topic45\", \"Topic45\", \"Topic45\", \"Topic45\", \"Topic45\", \"Topic45\", \"Topic45\", \"Topic45\", \"Topic45\", \"Topic45\", \"Topic45\", \"Topic45\", \"Topic45\", \"Topic45\", \"Topic45\", \"Topic45\", \"Topic45\", \"Topic45\", \"Topic45\", \"Topic45\", \"Topic45\", \"Topic45\", \"Topic45\", \"Topic45\", \"Topic45\", \"Topic45\", \"Topic45\", \"Topic45\", \"Topic45\", \"Topic45\", \"Topic45\", \"Topic45\", \"Topic45\", \"Topic45\", \"Topic45\", \"Topic45\", \"Topic45\", \"Topic45\", \"Topic45\", \"Topic45\", \"Topic45\", \"Topic45\", \"Topic45\", \"Topic45\", \"Topic45\", \"Topic45\", \"Topic45\", \"Topic45\", \"Topic46\", \"Topic46\", \"Topic46\", \"Topic46\", \"Topic46\", \"Topic46\", \"Topic46\", \"Topic46\", \"Topic46\", \"Topic46\", \"Topic46\", \"Topic46\", \"Topic46\", \"Topic46\", \"Topic46\", \"Topic46\", \"Topic46\", \"Topic46\", \"Topic46\", \"Topic46\", \"Topic46\", \"Topic46\", \"Topic46\", \"Topic46\", \"Topic46\", \"Topic46\", \"Topic46\", \"Topic46\", \"Topic46\", \"Topic46\", \"Topic46\", \"Topic46\", \"Topic46\", \"Topic46\", \"Topic46\", \"Topic46\", \"Topic46\", \"Topic46\", \"Topic46\", \"Topic46\", \"Topic46\", \"Topic46\", \"Topic46\", \"Topic46\", \"Topic46\", \"Topic46\", \"Topic46\", \"Topic46\", \"Topic46\", \"Topic46\", \"Topic46\", \"Topic46\", \"Topic46\", \"Topic46\", \"Topic46\", \"Topic46\", \"Topic46\", \"Topic46\", \"Topic46\", \"Topic46\", \"Topic46\", \"Topic46\", \"Topic46\", \"Topic46\", \"Topic46\", \"Topic46\", \"Topic46\", \"Topic46\", \"Topic46\", \"Topic46\", \"Topic46\", \"Topic46\", \"Topic46\", \"Topic46\", \"Topic46\", \"Topic46\", \"Topic46\", \"Topic47\", \"Topic47\", \"Topic47\", \"Topic47\", \"Topic47\", \"Topic47\", \"Topic47\", \"Topic47\", \"Topic47\", \"Topic47\", \"Topic47\", \"Topic47\", \"Topic47\", \"Topic47\", \"Topic47\", \"Topic47\", \"Topic47\", \"Topic47\", \"Topic47\", \"Topic47\", \"Topic47\", \"Topic47\", \"Topic47\", \"Topic47\", \"Topic47\", \"Topic47\", \"Topic47\", \"Topic47\", \"Topic47\", \"Topic47\", \"Topic47\", \"Topic47\", \"Topic47\", \"Topic47\", \"Topic47\", \"Topic47\", \"Topic47\", \"Topic47\", \"Topic47\", \"Topic47\", \"Topic47\", \"Topic47\", \"Topic47\", \"Topic47\", \"Topic47\", \"Topic47\", \"Topic47\", \"Topic47\", \"Topic47\", \"Topic47\", \"Topic47\", \"Topic47\", \"Topic47\", \"Topic47\", \"Topic47\", \"Topic47\", \"Topic47\", \"Topic47\", \"Topic47\", \"Topic47\", \"Topic47\", \"Topic47\", \"Topic47\", \"Topic47\", \"Topic47\", \"Topic47\", \"Topic47\", \"Topic47\", \"Topic47\", \"Topic47\", \"Topic47\", \"Topic47\", \"Topic47\", \"Topic47\", \"Topic47\", \"Topic47\", \"Topic47\", \"Topic47\", \"Topic48\", \"Topic48\", \"Topic48\", \"Topic48\", \"Topic48\", \"Topic48\", \"Topic48\", \"Topic48\", \"Topic48\", \"Topic48\", \"Topic48\", \"Topic48\", \"Topic48\", \"Topic48\", \"Topic48\", \"Topic48\", \"Topic48\", \"Topic48\", \"Topic48\", \"Topic48\", \"Topic48\", \"Topic48\", \"Topic48\", \"Topic48\", \"Topic48\", \"Topic48\", \"Topic48\", \"Topic48\", \"Topic48\", \"Topic48\", \"Topic48\", \"Topic48\", \"Topic48\", \"Topic48\", \"Topic48\", \"Topic48\", \"Topic48\", \"Topic48\", \"Topic48\", \"Topic48\", \"Topic48\", \"Topic48\", \"Topic48\", \"Topic48\", \"Topic48\", \"Topic48\", \"Topic48\", \"Topic48\", \"Topic48\", \"Topic48\", \"Topic48\", \"Topic48\", \"Topic48\", \"Topic48\", \"Topic48\", \"Topic48\", \"Topic48\", \"Topic48\", \"Topic48\", \"Topic48\", \"Topic48\", \"Topic48\", \"Topic48\", \"Topic48\", \"Topic48\", \"Topic48\", \"Topic48\", \"Topic48\", \"Topic48\", \"Topic48\", \"Topic48\", \"Topic48\", \"Topic48\", \"Topic48\", \"Topic48\", \"Topic48\", \"Topic48\", \"Topic48\", \"Topic48\", \"Topic48\", \"Topic48\", \"Topic48\", \"Topic48\", \"Topic48\", \"Topic48\", \"Topic48\", \"Topic48\", \"Topic49\", \"Topic49\", \"Topic49\", \"Topic49\", \"Topic49\", \"Topic49\", \"Topic49\", \"Topic49\", \"Topic49\", \"Topic49\", \"Topic49\", \"Topic49\", \"Topic49\", \"Topic49\", \"Topic49\", \"Topic49\", \"Topic49\", \"Topic49\", \"Topic49\", \"Topic49\", \"Topic49\", \"Topic49\", \"Topic49\", \"Topic49\", \"Topic49\", \"Topic49\", \"Topic49\", \"Topic49\", \"Topic49\", \"Topic49\", \"Topic49\", \"Topic49\", \"Topic49\", \"Topic49\", \"Topic49\", \"Topic49\", \"Topic49\", \"Topic49\", \"Topic49\", \"Topic49\", \"Topic49\", \"Topic49\", \"Topic49\", \"Topic49\", \"Topic49\", \"Topic49\", \"Topic49\", \"Topic49\", \"Topic49\", \"Topic49\", \"Topic49\", \"Topic49\", \"Topic49\", \"Topic49\", \"Topic49\", \"Topic49\", \"Topic49\", \"Topic49\", \"Topic49\", \"Topic49\", \"Topic49\", \"Topic49\", \"Topic49\", \"Topic49\", \"Topic49\", \"Topic49\", \"Topic49\", \"Topic49\", \"Topic49\", \"Topic49\", \"Topic49\", \"Topic49\", \"Topic49\", \"Topic49\", \"Topic49\", \"Topic49\", \"Topic49\", \"Topic49\", \"Topic49\", \"Topic49\", \"Topic50\", \"Topic50\", \"Topic50\", \"Topic50\", \"Topic50\", \"Topic50\", \"Topic50\", \"Topic50\", \"Topic50\", \"Topic50\", \"Topic50\", \"Topic50\", \"Topic50\", \"Topic50\", \"Topic50\", \"Topic50\", \"Topic50\", \"Topic50\", \"Topic50\", \"Topic50\", \"Topic50\", \"Topic50\", \"Topic50\", \"Topic50\", \"Topic50\", \"Topic50\", \"Topic50\", \"Topic50\", \"Topic50\", \"Topic50\", \"Topic50\", \"Topic50\", \"Topic50\", \"Topic50\", \"Topic50\", \"Topic50\", \"Topic50\", \"Topic50\", \"Topic50\", \"Topic50\", \"Topic50\", \"Topic50\", \"Topic50\", \"Topic50\", \"Topic50\", \"Topic50\", \"Topic50\", \"Topic50\", \"Topic50\", \"Topic50\", \"Topic50\", \"Topic50\", \"Topic50\", \"Topic50\", \"Topic50\", \"Topic50\", \"Topic50\", \"Topic50\", \"Topic50\", \"Topic50\", \"Topic50\", \"Topic50\", \"Topic50\", \"Topic50\", \"Topic50\", \"Topic50\", \"Topic50\", \"Topic50\", \"Topic50\", \"Topic50\", \"Topic50\", \"Topic50\", \"Topic50\", \"Topic50\", \"Topic50\", \"Topic50\"], \"Term\": [\"let\", \"know\", \"dm\", \"look\", \"well\", \"check\", \"youre\", \"time\", \"number\", \"thank\", \"issue\", \"take\", \"team\", \"please\", \"email\", \"hear\", \"need\", \"happy\", \"delivery\", \"account\", \"phone\", \"service\", \"support\", \"address\", \"new\", \"day\", \"detail\", \"sorry\", \"hello\", \"tracking\", \"recognised\", \"sended\", \"aun\", \"passe\", \"loose\", \"glare\", \"number-julie\", \"hellpppppp\", \"saludos\", \"\\\"order\", \"solve\", \"garbage\", \"leeds\", \"dive\", \"posible\", \"-please\", \"low-income\", \"\\\"delivered\", \"insist\", \"shut\", \"precise\", \"queremos\", \"lab\", \"reimburse\", \"bulk\", \"addy\", \"aqu\", \"disregard\", \"christi\", \"bsqueda\", \"correspondence\", \"mejor\", \"phone\", \"address\", \"number\", \"incident\", \"happy\", \"dm\", \"hassle\", \"youd\", \"considering\", \"please\", \"send\", \"escalate\", \"twitterkohlscom\", \"contact\", \"name\", \"look\", \"investigate\", \"wed\", \"email\", \"help\", \"tracking\", \"order\", \"detail\", \"like\", \"would\", \"info\", \"sorry\", \"hear\", \"thanks\", \"check\", \"follow\", \"plan\", \"may\", \"feeellll\", \"#wordofmouth\", \"ck\", \"timescale\", \"freejamazoncom\", \"enoug\", \"chargedi\", \"cursing\", \"irving\", \"richtig\", \"rang\", \"kimb\", \"#rvfun\", \"#rvlife\", \"#rvliving\", \"\\\"verification\\\"\", \"#makesnosense\", \"#sayyesjohnjohn\", \"smelling\", \"olathe\", \"chanel\", \"venue\", \"capsule\", \"customid\", \"janowski\", \"hideous\", \"pmest\", \"failing\", \"wishlist\", \"ittttt\", \"}\", \"nope\", \"anyway\", \"opened\", \"know\", \"anywhere\", \"resolve\", \"let\", \"anything\", \"else\", \"belt\", \"around\", \"sold\", \"checked\", \"across\", \"smell\", \"host\", \"hearing\", \"upgrading\", \"help\", \"completely\", \"decision\", \"question\", \"tagging\", \"tbh\", \"please\", \"assist\", \"style\", \"great\", \"weve\", \"thanks\", \"nr\", \"-\", \"may\", \"able\", \"glad\", \"thats\", \"work\", \"size\", \"first-time\", \"multi-site\", \"#ohhahhupthera\", \"cannotthanks\", \"stolenlost\", \"weekmy\", \"wallet\\\"\", \"pp\", \"\\\"should\", \"enoughhe\", \"neway\", \"phoning\", \"qualifier\", \"tuesdayawful\", \"sucks#\", \"#agreed\", \"daddy\", \"eyebrow\", \"#missingmiles\", \"newsroomt-mobilecom\", \"aback\", \"rafter\", \"roberto\", \"priceline\", \"recenlty\", \"nrw\", \"everprice\", \"adoption\", \"loner\", \"alguien\", \"dealing\", \"vegetarian\", \"impossible\", \"replaced\", \"tax\", \"need\", \"still\", \"consumer\", \"ass\", \"colorado\", \"assistance\", \"possible\", \"youll\", \"started\", \"awaiting\", \"record\", \"contract\", \"shoutout\", \"fast\", \"follow\", \"escalated\", \"contacto\", \"quickly\", \"soon\", \"confusion\", \"positive\", \"acting\", \"advanced\", \"hospital\", \"needing\", \"definitely\", \"including\", \"get\", \"working\", \"updating\", \"send\", \"locator\", \"dm\", \"want\", \"back\", \"help\", \"well\", \"way\", \"please\", \"contact\", \"sorry\", \"info\", \"plan\", \"see\", \"jzrv\", \"#suicideprevention\", \"avast\", \"anti\", \"reppindawagon\", \"appleplay\", \"prvue\", \"arriv\", \"paquet\", \"srieux\", \"ntes\", \"lendemain\", \"refurbishedboth\", \"e-mailbut\", \"trouve\", \"eservice\", \"dadresse\", \"blanches\", \"logisticsi\", \"gagn\", \"tenter\", \"penser\", \"pli\", \"chipotes\", \"perdida\", \"ayudenme\", \"remonte\", \"unableunwilling\", \"#disgraceful\", \"boycott\", \"#bundymilitia\", \"#fedex\", \"pa\", \"zoom\", \"flyease\", \"soldier\", \"stranded\", \"highly\", \"ma\", \"gua\", \"remove\", \"nah\", \"esta\", \"check\", \"take\", \"bastard\", \"hear\", \"pull\", \"priceless\", \"james#nbavote\", \"lebron\", \"#onemoreday\", \"confirming\", \"unavailable\", \"kid\", \"forward\", \"dispatch\", \"lovely\", \"milan\", \"glad\", \"allowed\", \"fly\", \"mia\", \"enjoyed\", \"time\", \"scan\", \"sorry\", \"supporting\", \"visit\", \"never\", \"great\", \"thats\", \"andriod\", \"raggedy\", \"excite\", \"orde\", \"#waiting\", \"#holdmusic\", \"#desperate\", \"pmd\", \"#hope\", \"downl\", \"fashionnot\", \"phoneis\", \"membershipthanks\", \"guyissues\", \"citing\", \"members\\\"\", \"pre-written\", \"classify\", \"unbelivable\", \"upjust\", \"retrospectively\", \"terminated\", \"wdesired\", \"#upsfail\", \"\\\"dispatched\", \"rex\", \"begged\", \"wamazon\", \"ridic\", \"gaulle\", \"drum\", \"\\\"personal\", \"lubricant\\\"\", \"-gal\", \"chapter\", \"muppets\", \"re-billed\", \"\\\"authenticate\\\"\", \"servicethats\", \"twenty\", \"falsely\", \"insane\", \"federal\", \"robot\", \"mir\", \"wo\", \"somebody\", \"marshmallow\", \"someone\", \"auto\", \"refund\", \"call\", \"sm\", \"sense\", \"option\", \"notice\", \"given\", \"cell\", \"supreme\", \"give\", \"point\", \"claim\", \"--\", \"bank\", \"offered\", \"line\", \"dept\", \"policy\", \"discus\", \"directly\", \"book\", \"q\", \"bag\", \"expected\", \"contact\", \"reservation\", \"baggage\", \"drive\", \"tonight\", \"please\", \"help\", \"sorry\", \"unable\", \"see\", \"back\", \"get\", \"able\", \"may\", \"#bobbysands\", \"mikemikegamblenet\", \"infiltrated\", \"brill\", \"jaimerais\", \"cran\", \"tat\", \"tinxi\", \"ughhh\", \"timex\", \"prodt\", \"brazillooks\", \"#kindle\", \"abandon\", \"\\\"suggestion\", \"box\\\"\", \"compris\", \"sait\", \"neogaf\", \"mewhen\", \"#stallingmethods\", \"uff\", \"escribir\", \"procesar\", \"llevo\", \"perdieron\", \"resuelve\", \"quieren\", \"prestataire\", \"resolutionthese\", \"[case\", \"commits\", \"bbb\", \"amazon\", \"mi\", \"livraison\", \"done\", \"fingertip\", \"anthony\", \"charging\", \"none\", \"argentina\", \"exist\", \"fixed\", \"va\", \"lose\", \"defective\", \"e-mail\", \"discount\", \"priv\", \"solution\", \"needful\", \"well\", \"letting\", \"stated\", \"votre\", \"fulfilled\", \"group\", \"preferred\", \"puede\", \"look\", \"patience\", \"sleep\", \"username\", \"flying\", \"thanks\", \"take\", \"shoot\", \"closer\", \"like\", \"appreciate\", \"see\", \"get\", \"soon\", \"touch\", \"info\", \"-\", \"today\", \"erwartungsvoller\", \"vorfreude\", \"#series\", \"zuversichtlich\", \"#ripperstreet\", \"a-m-a-z-i-n-g\", \"fooling\", \"sokeep\", \"mecc\", \"yday\", \"\\\"memberships\\\"\", \"responsesame\", \"overdo\", \"townumm\", \"setisfaction\", \"knowladge\", \"fwded\", \"yest\", \"preorded\", \"backtired\", \"sloppy\", \"specilists\", \"copyright\", \"metook\", \"teambecause\", \"crushed\", \"team\\\"\", \"\\\"support\", \"coherent\", \"#socialcrm\", \"wud\", \"amazonmusic\", \"non-existent\", \"shocking\", \"twice\", \"customer\", \"service\", \"signature\", \"responsibility\", \"westbrook\", \"horizon\", \"trying\", \"frustrated\", \"backup\", \"ruining\", \"talk\", \"network\", \"camera\", \"instagram\", \"always\", \"call-in\", \"experience\", \"irritated\", \"ckj\", \"mom\", \"benefit\", \"fact\", \"followdm\", \"better\", \"simply\", \"improve\", \"dev\", \"wireless\", \"enough\", \"global\", \"upgrade\", \"rescue\", \"change\", \"want\", \"deserve\", \"dm\", \"get\", \"plan\", \"great\", \"help\", \"best\", \"part\", \"one\", \"llmanos\", \"amazonnl\", \"saidfedexhelp\", \"soho\", \"cut-off\", \"ordershipping\", \"#refundmaybe\", \"riv\", \"minneapolis\", \"iod\", \"satno\", \"aravind\", \"#john\", \"#segway\", \"depo\", \"repeating\", \"#q\", \"useless\", \"utterly\", \"australian\", \"accts\", \"hahaha\", \"wack\", \"hiavis\", \"indisputable\", \"nnnoooooooooooooooooo\", \"setauket\", \"phonelg\", \"schemer\", \"missingno\", \"#descendantsatkohls\", \"#disneydescendants\", \"dogshit\", \"mtp\", \"rep\", \"cp\", \"chevron\", \"limited\", \"booster\", \"reception\", \"mobile\", \"asia\", \"time\", \"back\", \"coming\", \"keep\", \"mr\", \"showing\", \"american\", \"file\", \"saw\", \"happen\", \"social\", \"jordan\", \"posted\", \"pm\", \"sharing\", \"router\", \"medium\", \"estimated\", \"eye\", \"air\", \"system\", \"connecting\", \"restock\", \"pic\", \"departure\", \"update\", \"soon\", \"thanks\", \"please\", \"great\", \"plan\", \"trotzdem\", \"schade\", \"abetting\", \"bilingual\", \"aiding\", \"seditionists\", \"\\\"business\", \"radical\", \"bicultural\", \"lash\", \"donewill\", \"timesdey\", \"cstomr\", \"calld\", \"gve\", \"aftr\", \"#stinks\", \"#timeanewplan\", \"helpemployee\", \"sexting\", \"apprntly\", \"callsext\", \"scandalous\", \"deep-sixed-posted\", \"reporter\", \"rters\", \"tomorrow\\\"\", \"\\\"it\", \"pathic\", \"contrators\", \"supplying\", \"felon\", \"promptly\", \"closed\\\"\", \"\\\"delivery\", \"attempted\\\"\", \"despite\", \"exp\", \"commercial\", \"hire\", \"market\", \"leasing\", \"mistake\", \"rather\", \"waiting\", \"okay\", \"hold\", \"tweet\", \"tener\", \"attempt\", \"unacceptable\", \"university\", \"#poorservice\", \"deal\", \"k\", \"switch\", \"public\", \"switching\", \"kept\", \"fit\", \"verizon\", \"omv\", \"tired\", \"choose\", \"released\", \"fresh\", \"considered\", \"ckr\", \"mab\", \"wed\", \"deserve\", \"better\", \"min\", \"swj\", \"help\", \"dm\", \"like\", \"think\", \"get\", \"info\", \"start\", \"good\", \"would\", \"livewebchat\", \"godly\", \"type=books\", \"city=bangalore\", \"negate\", \"libry\", \"stiffed\", \"booksi\", \"rained\", \"bitrate\", \"terminate\", \"siteground\", \"spammy\", \"recruiter\", \"problemclients\", \"feb-mar\", \"km\", \"guessing\", \"rude\", \"recharged\", \"#exitrow\", \"quizzed\", \"#willbagbe\", \"worksdoesnt\", \"suxk\", \"dixk\", \"metyler\", \"wrkd\", \"#customerservicewin\", \"aviation\", \"disconnected\", \"callback\", \"brazil\", \"stopped\", \"neither\", \"worked\", \"country\", \"reach\", \"everything\", \"wouldve\", \"feel\", \"statement\", \"flight\", \"free\", \"reaching\", \"delay\", \"frustrating\", \"awesome\", \"travel\", \"agent\", \"complete\", \"concert\", \"airport\", \"gate\", \"relation\", \"attach\", \"moved\", \"pre-paid\", \"seat\", \"begin\", \"crew\", \"sorry\", \"hear\", \"rebooking\", \"please\", \"see\", \"way\", \"best\", \"able\", \"work\", \"glad\", \"thanks\", \"dont\", \"get\", \"quuck\", \"numberthe\", \"untrackable\", \"complaint\\\"\", \"minimalist\", \"website-went\", \"\\\"live\\\"\", \"awol\", \"pg-its\", \"#allclear\", \"#ilovealexa\", \"zaroor\", \"#logical\", \"pouring\", \"rebuying\", \"preposterous\", \"elin\", \"requested\\\"\", \"controlledwe\", \"teaching\", \"#frustrating\", \"bookkeeping\", \"seelol\", \"periscoped\", \"fluctuates\", \"\\\"up\", \"expierience\", \"itafterward\", \"cox\", \"#checks\", \"#tenant\", \"#rent\", \"rentmoola\", \"#ch\", \"thanked\", \"lie\", \"wondering\", \"tethering\", \"legere\", \"wife\", \"releasing\", \"hate\", \"download\", \"team\", \"said\", \"feedback\", \"apology\", \"resolution\", \"assist\", \"cancel\", \"cleared\", \"review\", \"mass\", \"packaging\", \"logistics\", \"consideration\", \"grazie\", \"insight\", \"internal\", \"understand\", \"idiot\", \"apart\", \"survey\", \"offering\", \"futurepls\", \"frustration\", \"knowenjoy\", \"submit\", \"mark\", \"theyll\", \"share\", \"thanks\", \"sure\", \"ive\", \"sorry\", \"well\", \"able\", \"way\", \"please\", \"contact\", \"pas\", \"crmvirtualassistants\", \"weibo\", \"sewcalsocialitegmailcom\", \"newbie\", \"iraq\", \"assoc\", \"amznthank\", \"finallysumedha\", \"rgds\", \"kindleunlimited\", \"crowdfire\", \"reqd\", \"emailpassword\", \"password\\\"\", \"wp-website\", \"bkp\", \"reordering\", \"againi\", \"flood\", \"phoned\", \"newmobile\", \"delhincr\", \"#whatdowepayfor\", \"#communication\", \"assumes\", \"#godaddysucks\", \"numb\", \"reguarding\", \"i`ve\", \"godaddyhelp\", \"jackyreinventcommcom\", \"suspended\", \"account\", \"household\", \"urgently\", \"godaddy\", \"flash\", \"password\", \"hacked\", \"log\", \"hootsuite\", \"warning\", \"business\", \"sign\", \"billing\", \"inactivity\", \"offer\", \"create\", \"via\", \"android\", \"sl\", \"bd\", \"member\", \"normal\", \"mail\", \"logged\", \"enrolled\", \"helpdesk\", \"uk\", \"logging\", \"microsoft\", \"resolving\", \"unfortunately\", \"confirmed\", \"serve\", \"earlier\", \"require\", \"email\", \"ticket\", \"access\", \"free\", \"twitter\", \"unable\", \"experienced\", \"within\", \"dont\", \"able\", \"sorry\", \"alu\", \"ausziehbar\", \"teleskop\", \"ballangel\", \"#guesstheprice\", \"balance-\", \"recived\", \"redund\", \"refreshes\", \"#costmehundredsofdollars\", \"aimed\", \"#dentbulletproofimacsfun\", \"#amazongreatindiansale\", \"payback\", \"wless\", \"soulless\", \"don`t\", \"continuity\", \"provider-patient\", \"giftcards\", \"instruct\", \"rs-\", \"poorest\", \"#noloyalty\", \"httpstcoqectqoj\", \"unboxedrefurbished\", \"#idontlive\", \"#idontliveinsesamestreet\", \"csmtr\", \"ind\", \"indian\", \"silverline\", \"destroys\", \"#numberwang\", \"genocide\", \"validating\", \"skokie\", \"#wtf\", \"zero\", \"#customerexperience\", \"course\", \"used\", \"bi\", \"two\", \"gb\", \"left\", \"hour\", \"payment\", \"day\", \"january\", \"broad\", \"taken\", \"survival\", \"stair\", \"losing\", \"cashless\", \"good\", \"care\", \"forever\", \"credit\", \"morning\", \"haha\", \"knew\", \"seem\", \"#customerservice\", \"type\", \"join\", \"mysql\", \"howdy\", \"rate\", \"ren\", \"dr\", \"rachel\", \"automatic\", \"language\", \"gotten\", \"letter\", \"catch\", \"starting\", \"card\", \"luck\", \"-\", \"great\", \"thats\", \"get\", \"early\", \"week\", \"way\", \"would\", \"correction-\", \"chegg\", \"zappe\", \"dsl\", \"#shitcustomerservice\", \"acknowledgement\", \"amazonat\", \"#igndeals\", \"referal\", \"dickhead\", \"#xbox\", \"#equalityall\", \"#pcmasterrace\", \"timedistance\", \"inverse\", \"\\\"deceleration\\\"\", \"wirk\", \"scansphotos\", \"thingy\", \"mobile-responsive\", \"e-mails\\\"\", \"truthnot\", \"\\\"smartpost\\\"\", \"njthrough\", \"archer\", \"safrica\", \"pkge\", \"vizio\", \"\\\"billions\\\"\", \"tshowtime\", \"mont\", \"apparently\", \"saying\", \"charged\", \"xi\", \"legendary\", \"att\", \"#mauifantasy\", \"achilles\", \"granted\", \"sudden\", \"heel\", \"performance\", \"workout\", \"knock\", \"three\", \"kobe\", \"broken\", \"engineered\", \"nj\", \"melbourne\", \"amazonde\", \"choice\", \"champion\", \"dmd\", \"#candiesfavoritethings\", \"make\", \"lte\", \"fucked\", \"data\", \"inspired\", \"code\", \"itd\", \"sure\", \"missed\", \"everyone\", \"usage\", \"nice\", \"shop\", \"exclusively\", \"customize\", \"want\", \"one\", \"#makeyourmove\", \"get\", \"fill\", \"work\", \"motherfuckin\", \"followup\", \"purches\", \"re-imbursement\", \"unjust\", \"landmark\", \"repayment\", \"#phishingattack\", \"#dm\", \"againworst\", \"jtlyk\", \"disapointed\", \"ara\", \"cheat\", \"#fredmeyers\", \"refused\", \"mxico\", \"-click\", \"globally\", \"failed\", \"slows\", \"#ripcity\", \"read\\\"\", \"cow\", \"planet\", \"#bendoregon\", \"rudely\", \"stepped\", \"fill-out\", \"garment\", \"bar\", \"uhh\", \"ep\", \"ever\", \"bad\", \"full\", \"provide\", \"ra\", \"aware\", \"quality\", \"based\", \"detail\", \"socialinfoaviscom\", \"email\", \"location\", \"ra#\", \"rome\", \"yikes\", \"exchange\", \"disappointment\", \"within\", \"settle\", \"verification\", \"voicemail\", \"covered\", \"lounge\", \"cardholder\", \"surprise\", \"socialmediaaviscouk\", \"previous\", \"#pricelesssurprises\", \"hour\", \"please\", \"review\", \"send\", \"-\", \"sorry\", \"next\", \"#kcvsne\", \"#changeaconsonantspoilamovie\", \"#startupindia\", \"dankhillhotmailcom\", \"importer\", \"helpfully\", \"pho\", \"wemail\", \"errorwhat\", \"fullscreen\", \"\\\"left\\\"\", \"windoze\", \"filemanager\", \"website\\\"\", \"twitterid\", \"alvin\", \"livechat\", \"passcode\", \"infosec\", \"rejoin\", \"unclosed\", \"amazones\", \"esl\", \"agian\", \"yhough\", \"cany\", \"upss\", \"intercom\", \"#upselling\", \"cnt\", \"insld\", \"mony\", \"godday\", \"#help\", \"breakfast\", \"veggie\", \"cancelling\", \"energizing\", \"throwback\", \"chrome\", \"spoke\", \"confirm\", \"yoga\", \"wifi\", \"wish\", \"try\", \"sort\", \"dashboard\", \"submitted\", \"vps\", \"west\", \"open\", \"browser\", \"request\", \"empty\", \"row\", \"setting\", \"development\", \"following\", \"apps\", \"etc\", \"section\", \"clear\", \"looked\", \"manager\", \"cache\", \"sw\", \"bring\", \"cb\", \">\", \"speak\", \"force\", \"clearing\", \"would\", \"app\", \"jb\", \"please\", \"able\", \"see\", \"work\", \"sorry\", \"genie\", \"xxxxxxx\", \"hitoday\", \"alibabapls\", \"outamazon\", \"httpstcoxgrpbcymvn\", \"orderid\", \"sirma\", \"blinked\", \"sitesometimes\", \"fried\", \"dificultam\", \"telefone\", \"renovao\", \"desistir\", \"fui\", \"vou\", \"atendida\", \"basildon\", \"full\\\"\", \"\\\"child\", \"mailfolder\", \"rhetorical\", \"[there]\", \"eaten\", \"worthless\", \"lamp\", \"himmmm\", \"popups\", \"hinterglemm\", \"\\\"we\", \"waited\", \"unl\", \"cust\", \"ok\", \"could\", \"hotspot\", \"message\", \"something\", \"literally\", \"love\", \"idea\", \"testing\", \"away\", \"direct\", \"cool\", \"connection\", \"running\", \"mention\", \"stink\", \"abroad\", \"import\", \"hit\", \"standing\", \"boston\", \"vacation\", \"monthly\", \"resort\", \"deserves\", \"relaxation\", \"luxury\", \"unwind\", \"#kohls\", \"wishing\", \"adventure\", \"t-force\", \"yay\", \"send\", \"help\", \"thanks\", \"would\", \"thats\", \"#onemoreday\", \"great\", \"glad\", \"-\", \"fedup\", \"religion\", \"lmfaooooo\", \"marketingappnutcom\", \"damnnnn\", \"hardcover\", \"pcmac\", \"lawsuit\", \"dabeaz\", \"sink\", \"#alexa\", \"\\\"haha\", \"#bikelanes\\\"\", \"commendation\", \"trey-\", \"\\\"leave\", \"bin\\\"\", \"\\\"incorrect\\\"\", \"tq\", \"lockedso\", \"said\\\"sorry\", \"working\\\"\", \"commenting\", \"pkgdisk\", \"ineffectivestore\", \"camsno\", \"drivesequipnever\", \"ofccust\", \"fobbed\", \"\\\"member\\\"\", \"tommorow\", \"duffer\", \"becuase\", \"agin\", \"addicted\", \"hostage\", \"warehouse\", \"waste\", \"messed\", \"false\", \"disrespectful\", \"impressed\", \"gonna\", \"#cervicalhealthmonth\", \"#hpv\", \"#cervicalcancer\", \"ssn\", \"fb\", \"expired\", \"cod\", \"shoe\", \"china\", \"clothes\", \"store\", \"matter\", \"cream\\\"\", \"\\\"cookies\", \"flyknit\", \"tnx\", \"sneaker\", \"pack\", \"racer\", \"friend\", \"purchased\", \"local\", \"tag\", \"holiday\", \"purchase\", \"nike\", \"comment\", \"realize\", \"class\", \"volume\", \"condition\", \"management\", \"buzz\", \"loop\", \"availability\", \"boot\", \"spot\", \"retailer\", \"check\", \"location\", \"see\", \"size\", \"sorry\", \"please\", \"online\", \"#lumiaxl\", \"#india\", \"bcoz\", \"available#india\", \"waaay\", \"giveawayscontests\", \"switching#comeonman\", \"#sadpanda\", \"repeater\", \"understandmy\", \"waitlist\", \"swu\", \"moral\", \"agency\", \"flatbush\", \"t-tmobilehelp\", \"serbia\", \"rev\\\"\", \"\\\"major\", \"iffy\", \"popup\", \"mytmobile\", \"intnl\", \"chngd\", \"fag\", \"#hood\", \"till\", \"incompetent\", \"motivation\", \"hah\", \"builder\", \"champ\", \"tee\", \"roll\", \"hoodie\", \"refugee\", \"universal\", \"aid\", \"girl\", \"denim\", \"obsidian\", \"overseas\", \"dark\", \"woman\", \"reply\", \"radio\", \"activated\", \"black\", \"notification\", \"cruz\", \"sir\", \"drop\", \"website\", \"tomorrow\", \"jordan\", \"trainer\", \"window\", \"stream\", \"retro\", \"air\", \"style\", \"suggestion\", \"happening\", \"london\", \"mind\", \"version\", \"upgrade\", \"detail\", \"seanan\", \"mcguire\", \"indexing\", \"ominous\", \"resetregistered\", \"job\\\"\", \"\\\"somebodys\", \"eliptical\", \"hoverboard\", \"galifianakis\", \"onion\", \"operative\", \"hdx\", \"exclamation\", \"#whatamipayingyoufor\", \"helloim\", \"aforementioned\", \"publicity\", \"bcause\", \"rudemean\", \"tks\", \"multi-channel\", \"hangups\", \"separatelybefore\", \"monopod\", \"#primeforlife\", \"\\\"slow\", \"alrdy\", \"vinyl\", \"reflection\", \"pero\", \"demand\", \"light\", \"\\\"\", \"gc\", \"doesnt\", \"disappointed\", \"selling\", \"fix\", \"unlock\", \"mean\", \"going\", \"multiple\", \"hola\", \"lenovo\", \"whats\", \"leave\", \"lot\", \"couldnt\", \"transfer\", \"list\", \"rn\", \"brought\", \"specific\", \"puedes\", \"mentioned\", \"sound\", \"reconnect\", \"faster\", \"encountering\", \"remember\", \"sometimes\", \"top\", \"responding\", \"improvement\", \"like\", \"right\", \"dont\", \"see\", \"would\", \"help\", \"want\", \"sorry\", \"thats\", \"dildo\", \"#colbert\", \"thanks-ju\", \"laterstill\", \"zahoor\", \"janth\", \"\\\"pending\\\"\", \"reroute\", \"detained\", \"spelt\", \"mid-january\", \"furthermore\", \"insult\", \"sched\", \"onset\", \"coordiante\", \"linthicum\", \"ibenzer\", \"bullshitnever\", \"#facebook\", \"trackingupdates\", \"\\\"guaranteed\\\"\", \"\\\"delivers\", \"omgosh\", \"deliveredpicked\", \"deliver-\", \"\\\"guarantee\\\"\", \"#ridiculous\", \"audible\", \"dispatched\", \"screwed\", \"los\", \"refunded\", \"annoyed\", \"refuse\", \"vendor\", \"awful\", \"muy\", \"cmo\", \"sitting\", \"replace\", \"heard\", \"inconvenience\", \"david\", \"track\", \"delivery\", \"colleague\", \"boyfriend\", \"date\", \"coupon\", \"according\", \"pricing\", \"deja\", \"chalisse\", \"cambiar\", \"amazonit\", \"apologize\", \"meeting\", \"heck\", \"name\", \"tracking\", \"preference\", \"fedex\", \"fair\", \"sit\", \"lizzie\", \"sorry\", \"am-pm\", \"thank\", \"day\", \"never\", \"back\", \"hear\", \"please\", \"package\", \"help\", \"order\", \"frustration\", \"address\", \"thanks\", \"cours\", \"gueule\", \"amazonuk\", \"rescheduledwhy\", \"uschicago\", \"ordered-\", \"amazonizcoolgmailcom\", \"amazonizlovinggmailcom\", \"amazonizamazinggmailcom\", \"titled\", \"facebookcsfedexcom\", \"\\\"agressive\", \"reapplied\", \"ukraine\", \"atmsbut\", \"#amazonhack\", \"unchanged\", \"failurrst\", \"janst\", \"parcelvapeleader\", \"updateso\", \"resortis\", \"\\\"world\", \"#pathetic\", \"#nofurtherforward\", \"rubbered\", \"firestick\", \"manu\", \"#hitman\", \"sorry\\\"\", \"slot\", \"\\\"prime\\\"\", \"paulcolegmailcom\", \"bluedart\", \"no--\", \"bedbug\", \"doa\", \"moviemars\", \"#wikipedia\", \"#amazonfiretv\", \"realised\", \"authorised\", \"#amazonfail\", \"reverse\", \"loosing\", \"worst\", \"declined\", \"suppose\", \"ordered\", \"cest\", \"jan\", \"kindly\", \"promised\", \"pre\", \"frm\", \"last\", \"item\", \"person\", \"anyone\", \"box\", \"dear\", \"gift\", \"replacement\", \"xx\", \"card\", \"fav\", \"night\", \"return\", \"pair\", \"oh\", \"came\", \"charge\", \"pick\", \"private\", \"huge\", \"dec\", \"recently\", \"win\", \"maybe\", \"move\", \"reached\", \"normally\", \"hand\", \"<\", \"didnt\", \"order\", \"get\", \"able\", \"would\", \"sorry\", \"emailchat\", \"replyrtetc\", \"wplogon\", \"wp-login\", \"rama\", \"#webmasters\", \"premiumthx\", \"logon\", \"phished\", \"cnames\", \"slooooww\", \"wikimedia\", \"deploying\", \"medias\", \"hootsuite_help\", \"#badamazon\", \"#sadtimes\", \"read#help\", \"purchase\\\"\", \"contacr\", \"pfo\", \"relevent\", \"ipadmobile\", \"jewellery\", \"phone-in\", \"enclosed\", \"#offeryoucantrefuse\", \"overcharged\", \"thnx\", \"natrlich\", \"solved\", \"restarted\", \"also\", \"thought\", \"link\", \"costumer\", \"membership\", \"yep\", \"feature\", \"filled\", \"cloud\", \"incredibly\", \"impossibly\", \"dk\", \"provided\", \"flat\", \"nest\", \"admin\", \"exactly\", \"twitter\", \"roshe\", \"icon\", \"computer\", \"enter\", \"different\", \"amazonin\", \"sp\", \"access\", \"installed\", \"reporting\", \"instapaper\", \"rl\", \"restore\", \"share\", \"moment\", \"particular\", \"locate\", \"anytime\", \"interested\", \"clarify\", \"please\", \"thanks\", \"help\", \"able\", \"info\", \"working\", \"would\", \"notedany\", \"okyes\", \"problemand\", \"pokken\", \"realizing\", \"vii\", \"dragon\", \"templated\", \"feb-\", \"giacenza\", \"vuol\", \"passati\", \"fanno\", \"disservizio\", \"neanche\", \"arbitrary\", \"wii\", \"listingthats\", \"infobut\", \"wished\", \"brandmodel\", \"backward\", \"unplug\", \"non-systemic\", \"pinon\", \"accountsomebody\", \"#audiologist\", \"amazonet\", \"protector\", \"pointe\", \"nowhere\", \"gr\", \"netflix\", \"without\", \"bill\", \"changed\", \"stupid\", \"lg\", \"already\", \"structure\", \"screw\", \"screen\", \"php\", \"mixed\", \"app\", \"sorted\", \"report\", \"pressure\", \"pre-order\", \"herrenschuhe\", \"step\", \"investigating\", \"believe\", \"ipad\", \"snkrs\", \"apartment\", \"registered\", \"release\", \"living\", \"site\", \"update\", \"outside\", \"latest\", \"nr\", \"recent\", \"probably\", \"registration\", \"center\", \"outage\", \"havent\", \"get\", \"working\", \"dont\", \"thanks\", \"first\", \"work\", \"friends\\\"\", \"soloution\", \"earpods\", \"wich\", \"appspoke\", \"retrn\", \"thjanmaild\", \"#bluedart\", \"rqestd\", \"cnfrmd\", \"hdfc_bank\", \"expiredunbelievable\", \"phonespls\", \"caseitems\", \"\\\"next\", \"steps\\\"\", \"compelling\", \"procedimiento\", \"migrarlo\", \"facilitarme\", \"avenue\", \"#typical\", \"#amazonletdown\", \"#canceled\", \"exps\", \"chetan\", \"#corporateblindsidingasextortion\", \"#bcbsilmakinganofferwecantrefuse\", \"discontinuing\", \"pedidospor\", \"#scholarship\", \"cstmr\", \"#sponsorship\", \"orgs\", \"underserved\", \"avinash\", \"cancelado\", \"#nonprofit\", \"#donorspotlight\", \"#mlk\", \"casa\", \"stats\", \"tracker\", \"#favoriteuncle\", \"uncle\", \"#nyrwin\", \"got\", \"honestly\", \"lame\", \"presented\", \"tv\", \"every\", \"south\", \"yr\", \"pueden\", \"defeat\", \"motivated\", \"received\", \"legit\", \"wouldnt\", \"asking\", \"replied\", \"pop\", \"white\", \"balance\", \"instruction\", \"seen\", \"family\", \"tu\", \"allow\", \"dan\", \"internet\", \"shared\", \"shortly\", \"linked\", \"weve\", \"already\", \"respond\", \"representative\", \"certainly\", \"thanks\", \"christmas\", \"ive\", \"today\", \"-\", \"get\", \"livreur\", \"-____-\", \"daccord\", \"passage\", \"nullement\", \"contrairement\", \"navertit\", \"chronopost\", \"ledis\", \"relais\", \"galement\", \"unix\", \"\\\"robust\", \"dashboard\\\"\", \"cherchais\", \"comprai\", \"sapere\", \"novembre\", \"munito\", \"argent\", \"arrivecomment\", \"\\\"http\", \"self-hosted\", \"error\\\"\", \"arrtez\", \"dmarche\", \"enfoncez\", \"lentreprise\", \"augmente\", \"tva\", \"deux\", \"dabus\", \"ouvert\", \"coucou\", \"peu\", \"crois\", \"toujours\", \"vais\", \"#phishing\", \"faccio\", \"entreprise\", \"chez\", \"neuf\", \"livre\", \"acheter\", \"demail\", \"#pawhigh\", \"prenium\", \"roseville\", \"#paypal\", \"quoi\", \"prix\", \"payer\", \"colis\", \"india\", \"je\", \"jamais\", \"reu\", \"quil\", \"problem\", \"samsung\", \"pour\", \"galaxy\", \"hd\", \"par\", \"une\", \"build\", \"#mlkday\", \"transferred\", \"vous\", \"life\", \"merci\", \"mme\", \"driver\", \"simple\", \"enjoy\", \"regarding\", \"result\", \"toni\", \"story\", \"hosting\", \"chance\", \"touch\", \"part\", \"qui\", \"safe\", \"fantastic\", \"jewon\", \"additional\", \"attempted\", \"community\", \"clean\", \"continue\", \"day\", \"-\", \"#airbnbopen\", \"espy\", \"help\", \"great\", \"thanks\", \"this#disappointed\", \"underwear\", \"frome\", \"#justjoking\", \"addressyour\", \"satutday\", \"brusselspaid\", \"fridayso\", \"nothe\", \"ahemcurious\", \"ummnorth\", \"yourself\\\"\", \"mania\", \"zxv\", \"bicycle\", \"detai\", \"\\\"here\", \"whut\", \"deposited\", \"span\", \"dispatching\", \"undelivered\", \"soundbar\", \"#suicideawareness\", \"amazonhelp\", \"residential\", \"calm\", \"bk\", \"employ\", \"unicrst\", \"complaining\", \"confused\", \"trash\", \"grade\", \"school\", \"crimson\", \"employee\", \"fake\", \"shipment\", \"hello\", \"curtis\", \"#\", \"content\", \"julie\", \"ended\", \"playing\", \"accidentally\", \"giving\", \"zone\", \"area\", \"ship\", \"listed\", \"brother\", \"treatment\", \"placed\", \"limit\", \"delivery\", \"method\", \"attn\", \"order\", \"tracking\", \"agree\", \"name\", \"brooklyn\", \"phone\", \"youplease\", \"interest\", \"stardom\", \"pspolonews\", \"#needalifesavertoday\", \"grea\", \"#collegelife\", \"seriouslyaccount\", \"suspendedaccused\", \"complaint-\", \"kthxbye\", \"vampire\", \"overdrawn\", \"dob\", \"hejza\", \"competed\", \"athorized\", \"note\\\"\", \"\\\"final\", \"servesis\", \"mondayso\", \"#shame\", \"talkin\", \"servicefedexhelp-yall\", \"nahh\", \"wrongly\", \"#amazonisamazing\", \"ontrack\", \"upshelp\", \"stealing\", \"becouse\", \"awkwardness\", \"ammo\", \"prod\", \"decipher\", \"professor\", \"complain\", \"delivering\", \"cc\", \"buy\", \"cont\", \"even\", \"control\", \"#oscars\", \"struggling\", \"thankyou\", \"#godaddy\", \"really\", \"weak\", \"actually\", \"ups\", \"arrives\", \"one\", \"power\", \"though\", \"dopeness\", \"wonder\", \"bhm\", \"unboxing\", \"faves\", \"sj\", \"lmao\", \"buddy\", \"found\", \"far\", \"wolf\", \"updated\", \"entire\", \"fluffy\", \"rm\", \"collection\", \"rest\", \"checking\", \"trip\", \"excellent\", \"news\", \"official\", \"perfect\", \"program\", \"regard\", \"beautiful\", \"great\", \"thanks\", \"didnt\", \"way\", \"crumbled\", \"captcha\", \"racial\", \"#racisim\", \"violence\", \"responsemaking\", \"openrather\", \"ref#\", \"plainly\", \"#stupid\", \"yupnoticed\", \"banged\", \"issuei\", \"bucksend\", \"revel\", \"kmmert\", \"konten\", \"naval\", \"landover\", \"designe\", \"#prime\", \"reactive\", \"#suici\", \"racism\", \"ihr\", \"promotes\", \"ignored\", \"cranky\", \"#custserv\", \"liegt\", \"catalogue\", \"win-win\", \"kill\", \"%\", \"championship\", \"#fastestwillrise\", \"wasted\", \"julian\", \"crafted\", \"boardshorts\", \"phantom\", \"beta\", \"rolling\", \"paying\", \"title\", \"monday\", \"spent\", \"album\", \"wave\", \"article\", \"overnight\", \"created\", \"blue\", \"copy\", \"helpful\", \"correct\", \"needed\", \"week\", \"sale\", \"ready\", \"posting\", \"delayed\", \"kid\", \"per\", \"note\", \"elite\", \"collection\", \"due\", \"nike\", \"speed\", \"#ilovecustomerservice\", \"#kindnessrocks\", \"mithuncarryoncreatingcouk\", \"contactramacreatescouk\", \"ahaan\", \"assenza\", \"lasciato\", \"risulta\", \"nessun\", \"bartolini\", \"dovreste\", \"qnd\", \"affidarvi\", \"avviso\", \"offeramazonin\", \"demented\", \"#outstanding\", \"#thankyouamazon\", \"\\\"really\\\"\", \"non-eligible\", \"disjointed\", \"#brainfail\", \"black-listed\", \"unrecieved\", \"armed\", \"hood\", \"denen\", \"msg\", \"lik\", \"depozitomu\", \"esp\", \"johnlegere\", \"non\", \"blank\", \"element\", \"metallic\", \"leather\", \"essential\", \"thank\", \"much\", \"login\", \"dad\", \"max\", \"block\", \"second\", \"nikestore\", \"customize\", \"upload\", \"taking\", \"liked\", \"enabled\", \"soooo\", \"hosted\", \"category\", \"exclusively\", \"og\", \"edge\", \"checkout\", \"anyways\", \"ensure\", \"appreciate\", \"loyal\", \"shopping\", \"nike\", \"air\", \"way\", \"-d\", \"robin\", \"awesome\", \"shout\", \"thanks\", \"great\", \"rapidez\", \"disse\", \"tendr\", \"parabns\", \"atentos\", \"chega\", \"libre\", \"joder\", \"#findmyfuckingpackage\", \"nossa\", \"courrier\", \"empresas\", \"sexta\", \"enviarles\", \"sois\", \"aprovechando\", \"mafia\", \"terminar\", \"bastante\", \"vuestro\", \"devrai-je\", \"reclamei\", \"vacaciones\", \"acuerdo\", \"voi\", \"appena\", \"chiedere\", \"arrivato\", \"sii\", \"conteste\", \"meu\", \"formato\", \"buscaba\", \"aceptan\", \"tena\", \"regalo\", \"soy\", \"tanto\", \"resposta\", \"hecho\", \"rechazan\", \"durante\", \"queda\", \"punto\", \"seur\", \"solucin\", \"entiendo\", \"encontr\", \"videojuego\", \"esperar\", \"anterior\", \"perdera\", \"digitales\", \"canciones\", \"recibirlo\", \"haber\", \"supone\", \"tendra\", \"importacin\", \"pag\", \"nai\", \"puedo\", \"quiero\", \"fois\", \"que\", \"gracias\", \"paquete\", \"la\", \"fail\", \"jersey\", \"laurenconrad\", \"mouse-themed\", \"damn\", \"jours\", \"unviels\", \"adidas\", \"pedido\", \"youre\", \"con\", \"si\", \"fx\", \"quand\", \"hypervenom\", \"phatal\", \"fg\", \"welcome\", \"qu\", \"almost\", \"como\", \"ya\", \"bug\", \"cuenta\", \"eso\", \"cart\", \"mais\", \"para\", \"choosing\", \"visited\", \"shout\", \"hotel\", \"melo\", \"#janis\", \"airbnb\", \"glad\", \"-\", \"nr\", \"thanks\", \"tinamad\", \"talaga\", \"lang\", \"sewing\", \"yan\", \"hing\", \"smallif\", \"#creditcard\", \"#chrome\", \"ako\", \"a\\\"\", \"realise\", \"needle\", \"laredo\", \"#stinkincute\", \"omgooosh\", \"ggs\", \"luanne\", \"#highwayrobbery\", \"brilliantly\", \"#preferredpoints\", \"darrylm\", \"killeen\", \"corpus\", \"-been\", \"#vegas\", \"wor\", \"utopia\", \"didi\", \"solutions\\\"\", \"panasonic\", \"rphtfk\", \"asl\", \"smthng\", \"wry\", \"lol\", \"xiii\", \"disaster\", \"pissed\", \"btw\", \"psn\", \"lumia\", \"slow\", \"effect\", \"cg\", \"fine\", \"flux\", \"kyrie\", \"job\", \"sk\", \"helping\", \"available\", \"charger\", \"learn\", \"select\", \"boy\", \"lebron\", \"however\", \"size\", \"mon-fri\", \"cop\", \"prepaid\", \"abuse\", \"men\", \"color\", \"dropping\", \"saved\", \"sight\", \"nyc\", \"issued\", \"tuned\", \"kudos\", \"site\", \"stay\", \"feed\", \"-\", \"currently\", \"update\", \"release\", \"please\", \"info\", \"lube\", \"analize\", \"<<\", \"#russian\", \"#selma\", \"#israel\", \"itjust\", \"hogwash-\", \"gnome\", \"uuurrr\", \"alden\", \"#amiibo\", \"fungi\", \"#nintendo\", \"#drmario\", \"#toad\", \"automattically\", \"\\\"fulfilled\\\"\", \"#databreach\", \"bcbs\", \"#fixingaproblem\", \"x-ray\", \"twoaccounts\", \"coated\", \"sorrys\", \"tape-bot\", \"%-#\", \"audiobook\", \"###\", \"#noshow\", \"conversation\\\"\", \"pointless\", \"corporation\", \"canada\", \"returned\", \"honest\", \"saudi\", \"arabia\", \"using\", \"trouble\", \"answer\", \"mm\", \"click\", \"domestic\", \"supervisor\", \"terrorist\", \"device\", \"tablet\", \"explanation\", \"personal\", \"concern\", \"yea\", \"ownership\", \"write\", \"question\", \"knowledgeable\", \"investigation\", \"shady\", \"beth\", \"pure\", \"held\", \"turn\", \"platinum\", \"robin\", \"international\", \"related\", \"fun\", \"desk\", \"upset\", \"donovana\", \"andrae\", \"outlook\", \"sorry\", \"apologize\", \"version\", \"happy\", \"may\", \"please\", \"help\", \"thanks\", \"contact\", \"verdad\", \"onin\", \"deva\", \"selvamguy\", \"fustrating\", \"nhestore\", \"\\\"hack\\\"\", \"jan\\\"\", \"\\\"due\", \"filesrenew\", \"#weekswithoutananswer\", \"#nwindiana\", \"voucherpls\", \"teamnot\", \"hostile\", \"housebut\", \"that-thanks\", \"delivry\", \"cnclld\", \"mntiondhe\", \"addrshe\", \"vry\", \"proprly\", \"arrognti\", \"helpng\", \"calledaddrs\", \"morningannoying\", \"#ivebeenwaitingallweek\", \"bungled\", \"ththth\", \"#amexhilton\", \"#fedexfail\", \"#amextravel\", \"doorbell\", \"#--\", \"rcd\", \"driveway\", \"pkgs\", \"stil\", \"ontrac_shipping\", \"bent\", \"absurd\", \"devolucin\", \"delivered\", \"parcel\", \"apt\", \"ringing\", \"package\", \"people\", \"preordered\", \"hasnt\", \"supposedly\", \"\\\"sorry\", \"dead\", \"stolen\", \"fornikestore\", \"door\", \"deliver\", \"error\", \"seems\", \"getting\", \"yet\", \"arrived\", \"shipping\", \"late\", \"half\", \"receive\", \"thursday\", \"north\", \"shipped\", \"del\", \"sooo\", \"except\", \"round\", \"usps\", \"piece\", \"nobody\", \"receiving\", \"absolutely\", \"premium\", \"lost\", \"calling\", \"saturday\", \"cash\", \"kohl\", \"still\", \"said\", \"order\", \"today\", \"get\", \"dont\", \"begeistert\", \"gespannt\", \"lngst\", \"htte\", \"begleichen\", \"beruhigt\", \"minuten\", \"offiziell\", \"sonst\", \"poo\", \"#boycottfedex\", \"gleichfalls\", \"kanns\", \"#pokmontekken\", \"\\\"bingen\\\"\", \"gehts\", \"abstellen\", \"berpnktlich\", \"bestellen\", \"zunehme\", \"schuld\", \"trainieten\", \"zurckverfolge\", \"warte\", \"istwas\", \"ubterwegs\", \"packetwenn\", \"immernoch\", \"lager\", \"tagen\", \"mein\", \"heute\", \"mglichkeit\", \"hatte\", \"wrde\", \"schonmal\", \"seit\", \"warum\", \"hoffe\", \"anderen\", \"werde\", \"zurck\", \"wurde\", \"dropbox\", \"glck\", \"statt\", \"schuhe\", \"ende\", \"niemand\", \"kaum\", \"erwarten\", \"offensichtlich\", \"sogar\", \"gefragt\", \"eigentlich\", \"licet\", \"bzw\", \"weil\", \"storniert\", \"sendung\", \"danke\", \"hab\", \"auch\", \"bc\", \"mich\", \"da\", \"yes\", \"gre\", \"die\", \"mine\", \"bloody\", \"nicht\", \"unlimited\", \"ist\", \"nur\", \"auf\", \"thx\", \"ceo\", \"toukol\", \"zu\", \"rent\", \"signal\", \"least\", \"aber\", \"hope\", \"ja\", \"future\", \"ah\", \"noch\", \"folder\", \"deleted\", \"easy\", \"fan\", \"action\", \"known\", \"wow\", \"wonderful\", \"uk\", \"nike\", \"excited\", \"near\", \"air\", \"#retweeters\", \"fitment\", \"wellit\", \"godaddys\", \"pronta\", \"entonesgracias\", \"pricy\", \"emailtracking\", \"accout\", \"bureaucracy\", \"swined\", \"couriersending\", \"addict\", \"twinshttpstcodnsuwtddiw\", \"impasse\", \"sort-of\", \"tariff\", \"kobo\", \"\\\"weve\", \"okkk\", \"music\\\"\", \"halp\", \"#buyerbeware\", \"resulution\", \"quid\", \"conract\", \"hampering\", \"numbername\", \"sailed\", \"#payingfornothing\", \"easyship\", \"chk\", \"pricingcoupons\", \"desk-ercises\", \"grind\", \"#tagnbrag\", \"pre-arrange\", \"complaint\", \"cant\", \"ultra\", \"wasnt\", \"asked\", \"challenge\", \"renewal\", \"server\", \"thanx\", \"ii\", \"una\", \"pls\", \"iridescent\", \"wanted\", \"conversation\", \"#followfriday\", \"long\", \"sido\", \"moire\", \"wait\", \"influencers\", \"ridiculous\", \"dd\", \"expensive\", \"think\", \"dem\", \"place\", \"bit\", \"eligible\", \"#makeyourmove\", \"extra\", \"regret\", \"classic\", \"itll\", \"-\", \"air\", \"sorry\", \"dont\", \"max\", \"find\", \"emaik\", \"chrome-dev\", \"appsprograms\", \"xxxxcapabilitiesphp\", \"error-\", \"non-object\", \"gday\", \"ghana\", \"frick\", \"reasonbut\", \"henceforth\", \"thankfully\", \"dissappears\", \"alsowhy\", \"theweb\", \"libel\", \"stalk\", \"non-latin\", \"playhackit\", \"e-prance\", \"#nothanks\", \"syndicated\", \"seulement\", \"digitial\", \"pouvais\", \"advertises\", \"werehouse\", \"patcummingsbook\", \"wfedex\", \"corsair\", \"chromium\", \"\\\"arriving\", \"#defiance\", \"#savedefiance\", \"#bringbackdefiance\", \"auto-withdrawing\", \"allegedly\", \"today\\\"\", \"haul\", \"joke\", \"seriously\", \"transcript\", \"authentication\", \"cannot\", \"state\", \"etsy\", \"switched\", \"test\", \"fl\", \"wipe\", \"looking\", \"dat\", \"office\", \"seeing\", \"#retailsfuture\", \"music\", \"connect\", \"ala\", \"mac\", \"pronounced\", \"video\", \"referring\", \"pretty\", \"many\", \"head\", \"amazing\", \"advise\", \"subscription\", \"reliable\", \"preview\", \"stay\", \"lady\", \"basic\", \"cute\", \"required\", \"advice\", \"finger\", \"forward\", \"great\", \"quite\", \"thanks\", \"thats\", \"-thanks\", \"#teamgodaddy\", \"waitingwell\", \"#gpa\", \"#textbook\", \"rplcmnt\", \"hvng\", \"sftwre\", \"rtrnd\", \"solutn\", \"cnbc\", \"awaz\", \"pahredar\", \"wrld\", \"whc\", \"#sigh\", \"mandato\", \"avviato\", \"scratched\", \"probe\", \"search-stream\", \"shopclues\", \"one-click\", \"\\\"authentication\\\"\", \"complainant\", \"bcuz\", \"consuming\", \"bandwidth\", \"\\\"since\", \"tmrw\", \"mon\", \"pickup\", \"issue\", \"house\", \"facility\", \"kj\", \"xbox\", \"case\", \"suddenly\", \"process\", \"reading\", \"\\\"out\", \"odd\", \"kind\", \"suggest\", \"provider\", \"min\", \"view\", \"requested\", \"renewing\", \"url\", \"verify\", \"word\", \"become\", \"experiencing\", \"isp\", \"sorting\", \"enable\", \"supported\", \"important\", \"mg\", \"prior\", \"edition\", \"treated\", \"troubleshoot\", \"occurring\", \"persists\", \"working\", \"thanks\", \"site\", \"able\", \"thats\", \"sorry\", \"help\", \"currently\", \"whhy\", \"hutchins\", \"roundabout\", \"redelievered\", \"auditing\", \"full-on\", \"itbut\", \"#helping\", \"nsf\", \"surfacing\", \"credible\", \"deem\", \"thu\", \"deliv\", \"despatch\", \"pa->nj\", \"lulz\", \"opps\", \"thursday\\\"\", \"manga\", \"arguably\", \"sufficient\", \"reviewer\", \"printout\", \"#ppochoice\", \"#bcbsilextortsppl\", \"hlp\", \"okayyyyy\", \"felicia\", \"nonsensical\", \"ldn\", \"bogus\", \"psu\", \"since\", \"renew\", \"guitar\", \"tech\", \"rd\", \"bye\", \"tennis\", \"acct\", \"dunk\", \"past\", \"high\", \"cleveland\", \"gave\", \"anymore\", \"isnt\", \"show\", \"weekend\", \"added\", \"run\", \"existing\", \"angry\", \"mbps\", \"ithaca\", \"inside\", \"courier\", \"engaging\", \"co\", \"tuesday\", \"paypal\", \"must\", \"status\", \"hopefully\", \"situation\", \"security\", \"stock\", \"sb\", \"caused\", \"ticket\", \"yesterday\", \"stop\", \"kd\", \"x\", \"hellooooo\", \"\\\"shape\\\"\", \"scanning\", \"#jesus\", \"messup\", \"booksvery\", \"reword\", \"insturctions\", \"patd\", \"theeeee\", \"lols\", \"stratocaster\", \"kodi\", \"unfolding\", \"hereeee\", \"reverts\", \"#itjustgetsbetter\", \"#cancellingamazonprime\", \"monrh\", \"comped\", \"__\", \"ughhhhhhh\", \"betterer\", \"roku\", \"arrowxl\", \"deliverycollection\", \"idgaf\", \"#horriblecustomerservice\", \"debiting\", \"reconcile\", \"#amazon\", \"zoey\", \"#usps\", \"extortionate\", \"bachelor\", \"#oregonstandoff\", \"fucker\", \"paid\", \"disgusting\", \"shit\", \"magazine\", \"sake\", \"company\", \"shocked\", \"guy\", \"#tmobile\", \"belief\", \"iphone\", \"fuck\", \"bullshit\", \"confusing\", \"svc\", \"fire\", \"add\", \"laptop\", \"serum\", \"comcast\", \"pourquoi\", \"december\", \"recieved\", \"talked\", \"put\", \"syrian\", \"raped\", \"kindle\", \"instead\", \"plus\", \"load\", \"profile\", \"play\", \"dollar\", \"stuff\", \"happens\", \"weird\", \"coverage\", \"sick\", \"stick\", \"unless\", \"took\", \"pc\", \"pleasure\", \"together\", \"original\", \"certain\", \"button\", \"evening\", \"difference\", \"season\", \"health\", \"plan\", \"get\", \"like\", \"work\", \"would\", \"#suck\", \"#wordpress\", \"#organization\", \"#servicedesign\", \"#dnsquestions\", \"#hostingsupport\", \"\\\"resolved\\\"\", \"victimsshame\", \"punishing\", \"ish%\", \"allege\", \"favourable\", \"productsthat\", \"guyz\", \"daman\", \"emailtw\", \"non-urgent\", \"vendre\", \"bonjours\", \"#demsdebate\", \"gelst\", \"dankeschn\", \"phpmyadmin\", \"gzipzip\", \"ersten\", \"helpits\", \"#robbed\", \"#obamacare\", \"\\\"dumped\", \"frustration\\\"\", \"gear\", \"#cx\", \"car\", \"third\", \"outlet\", \"chat\", \"support\", \"pathetic\", \"come\", \"mb\", \"query\", \"digital\", \"kyle\", \"avis\", \"fireside\", \"setup\", \"rental\", \"higher\", \"connected\", \"online\", \"bama\", \"apologizing\", \"magically\", \"dumped\", \"thousand\", \"clemson\", \"faith\", \"understanding\", \"web\", \"special\", \"promotion\", \"event\", \"carry\", \"den\", \"enjoying\", \"party\", \"michael\", \"friendly\", \"in-depth\", \"delicious\", \"thanks\", \"find\", \"great\", \"best\", \"antwort\", \"daweil\", \"herhalten\", \"bestellt\", \"bankeinzug\", \"huhi\", \"facilitate\", \"e-textbook\", \"sennheiser\", \"bookjacker\", \"#upsfanforlyfe\", \"#frenchfraudamazonstyle\", \"#beware\", \"semi-resolved\", \"subscribesave\", \"legislation\", \"mgt\", \"flipside\", \"existent\", \"-httpstcojowvumwgg\", \"#database\", \"hospall\", \"plancorner\", \"marketextort\", \"\\\"bulk\", \"discounts\\\"\", \"beschleunigen\", \"installiert\", \"eines\", \"bekam\", \"habe\", \"whatsoever\", \"jetzt\", \"price\", \"reebok\", \"soll\", \"reason\", \"#reebok\", \"fraud\", \"fault\", \"forgot\", \"go\", \"screenshot\", \"dealt\", \"client\", \"alright\", \"read\", \"apple\", \"unbelievable\", \"concept\", \"staff\", \"passed\", \"foam\", \"jod\", \"renovate\", \"built\", \"red\", \"gotta\", \"talking\", \"bought\", \"storage\", \"contacted\", \"classic\", \"close\", \"along\", \"shirt\", \"worry\", \"totally\", \"pas\", \"sad\", \"goal\", \"mode\", \"theyre\", \"apply\", \"thats\", \"match\", \"thanks\", \"dont\", \"#none\", \"#cantkeepyourpromise\", \"#willbetakingthisfurther\", \"rake\", \"#alibabatotherise\", \"#youmadeherfail\", \"#appauling\", \"provveder\", \"jinx\", \"#isitreallyprime\", \"allisoncarterindystarcom\", \"helppppp\", \"butthurt\", \"blackstar\", \"ringrazio\", \"#dreamy\", \"policiesagreements\", \"#giveitup\", \"associaited\", \"sewcalsocialitegmaicom\", \"characterit\", \"kumar\", \"respectively\", \"chotu\", \"zwa\", \"suppsed\", \"#fb\", \"overcart\", \"refurbishedthey\", \"unboxednon-repaired\", \"doorstep\", \"psa\", \"cc#\", \"rope\", \"adress\", \"ontrac\", \"\\\"delivered\\\"\", \"drone\", \"ramen\", \"postie\", \"blatant\", \"gated\", \"#smartpost\", \"sql\", \"fwd\", \"delivery\\\"\", \"yall\", \"packet\", \"rien\", \"say\", \"spend\", \"#hxcandies\", \"dmed\", \"dhl\", \"it<\", \"#unlockfm\", \"#freeradio\", \"idk\", \"txt\", \"horrible\", \"jump\", \"minute\", \"live\", \"quit\", \"retweet\", \"worse\", \"missing\", \"pastel\", \"emailed\", \"resolved\", \"never\", \"guaranteed\", \"term\", \"loading\", \"poster\", \"communication\", \"department\", \"picked\", \"spanish\", \"opening\", \"small\", \"returning\", \"picture\", \"afternoon\", \"include\", \"upon\", \"listen\", \"straight\", \"get\", \"kick\", \"want\", \"chris\", \"see\", \"thereamazonhelp\", \"durable\", \"alexcolangelo\", \"fedexcanada\", \"pedalpapa\", \"dankeebenfalls\", \"kiranvermagmailcom\", \"farudulent\", \"interesed\", \"#expectingtoday\", \"scandal\", \"#notfairamazon\", \"memberjust\", \"pricenot\", \"ereader\", \"battries\", \"qfekt\", \"rangreat\", \"quota\", \"renawels\", \"shipen\", \"ccamazonhelp\", \"walgreensi\", \"workmail\", \"eccentric\", \"\\\"phew\\\"\", \"jpg\", \"laziness\", \"restrained\", \"unsatisfaction\", \"logistic\", \"#yallqaeda\", \"criminal\", \"vielen\", \"non-prime\", \"\\\"rebate\", \"enquiry\", \"ditchers\", \"dong\", \"insisted\", \"laundered\", \"pg\", \"prime\", \"spin\", \"concludes\", \"pmet\", \"#nbaallstarto\", \"voting\", \"money\", \"tmobile\", \"german\", \"month\", \"robbing\", \"cancelled\", \"pay\", \"went\", \"#oregonunderattack\", \"usa\", \"sprint\", \"disappeared\", \"old\", \"t-mobile\", \"carrier\", \"annoying\", \"save\", \"bunch\", \"nexus\", \"explain\", \"damaged\", \"providing\", \"form\", \"man\", \"handle\", \"removed\", \"fee\", \"whole\", \"sg\", \"user\", \"truly\", \"get\", \"side\", \"charge\", \"postcodehelp\", \"refering\", \"co-pays\", \"#gop\", \"dismantling\", \"#profitbhealthcare\", \"far-away\", \"aspetter\", \"riaccreditati\", \"capisco\", \"anche\", \"allora\", \"siano\", \"tracciabilit\", \"stesso\", \"\\\"pause\\\"\", \"\\\"cancel\\\"\", \"segnato\", \"ordini\", \"giorno\", \"domani\", \"preoccuparmi\", \"devo\", \"recapitato\", \"account>your\", \"orders>find\", \"item>there\", \"piyushbhansaliicloudcom\", \"expiry\", \"seriosuly\", \"takeover\", \"recognise\", \"preorders\", \"property\", \"seller\", \"vapor\", \"untouchable\", \"game\", \"midsoles\", \"clearly\", \"big\", \"sony\", \"baby\", \"script\", \"speed\", \"sim\", \"google\", \"unlocked\", \"barely\", \"aa\", \"presentation\", \"theft\", \"extremely\", \"search\", \"wanna\", \"quick\", \"asshole\", \"htc\", \"sending\", \"cheer\", \"image\", \"tweeting\", \"alert\", \"patient\", \"shot\", \"mile\", \"otherwise\", \"world\", \"attempting\", \"super\", \"rickd\", \"winning\", \"depend\", \"promise\", \"thanks\", \"see\", \"mind\", \"would\", \"ebenso\", \"sudoku\", \"tumour\", \"primer\", \"o-puis\", \"#dealbreaker\", \"paro\", \"mckinley\", \"bezel\", \"esfuerzo\", \"perdio\", \"hijo\", \"regalarselos\", \"dpass\", \"dlai\", \"ligible\", \"kochi\", \"detto\", \"zona\", \"abito\", \"tuttaltro\", \"isolata\", \"avevo\", \"lasciarlo\", \"#liquidbiopsy\", \"assay\", \"coolpad\", \"fait\", \"envo\", \"moto\", \"tengo\", \"terrible\", \"limbo\", \"fucking\", \"chaque\", \"correos\", \"llegado\", \"por\", \"page\", \"god\", \"sell\", \"cover\", \"clicked\", \"gone\", \"#smh\", \"failure\", \"io\", \"canceled\", \"facebook\", \"usar\", \"comprar\", \"x\", \"insurance\", \"favor\", \"arizona\", \"sv\", \"design\", \"kc\", \"attention\", \"bringing\", \"showed\", \"est\", \"locker\", \"cost\", \"bottom\", \"thinking\", \"true\", \"appear\", \"visit\", \"eta\", \"scroll\", \"finding\", \"collection\", \"woman\", \"kobe\", \"investigate\", \"help\", \"thenpossible\", \"incompetency\", \"#jokers\", \"serviceshttpstcoouysczk\", \"padre\", \"secondes\", \"forces\\\"\", \"uniques\", \"voil\", \"utilises\", \"\\\"reprendre\", \"#ilovehive\", \"beatles\", \"evga\", \"thunderbird\", \"imapssl\", \"wall\\\"\", \"european\", \"\\\"cookie\", \"accountfor\", \"doorman\", \"reinstated\", \"cedit\", \"deliveryand\", \"architecture\", \"unbiased\", \"investor\", \"serial\", \"quoting\", \"bn\", \"prestige\", \"wrong\", \"suck\", \"sent\", \"lunar\", \"fraudulent\", \"bub\", \"cut\", \"infuriating\", \"product\", \"screw-up\", \"sword\", \"yeah\", \"gas\", \"real\", \"definition\", \"dvd\", \"pen\", \"figured\", \"pro\", \"stuck\", \"elsewhere\", \"turned\", \"end\", \"#universityfederalcreditunion\", \"retail\", \"disabled\", \"either\", \"transaction\", \"guess\", \"sunday\", \"appears\", \"proper\", \"airline\", \"amex\", \"responded\", \"print\", \"food\", \"tip\", \"reset\", \"struggle\", \"feeling\", \"avoid\", \"sweet\", \"ive\", \"|\", \"-\", \"info\", \"#service\", \"witdout\", \"reconsidering\", \"#thisiswhyimleaving\", \"#boo\", \"#hiss\", \"#nohappyending\", \"fagged\", \"%\\\"\", \"anomaly\", \"oriented\", \"danhillrogerscom\", \"stud\", \"heretimeline\", \"membr\", \"cryptic\", \"cancelledno\", \"imp\", \"outdeliver\", \"old-school\", \"reappeared\", \"--now\", \"leftand\", \"trackingcontactaddress\", \"pcrouter\", \"#neverdaysprime\", \"trying-its\", \"#dishonest\", \"poorfailed\", \"comms\", \"eod\", \"#justsaying\", \"chckd\", \"helpme\", \"#nomorelies\", \"ipswich\", \"lobby\", \"jai\", \"supposed\", \"rescheduled\", \"#kohlsinnyc\", \"unprofessional\", \"nothing\", \"response\", \"text\", \"bt\", \"exec\", \"#nike\", \"crap\", \"home\", \"tell\", \"tweeted\", \"#re\", \"poor\", \"ty\", \"faulty\", \"cuz\", \"happened\", \"dropped\", \"horrendous\", \"major\", \"figure\", \"finally\", \"appreciated\", \"jr\", \"shouldnt\", \"marketing\", \"hard\", \"example\", \"restocking\", \"#sneakers\", \"duplicate\", \"fixing\", \"character\", \"express\", \"fall\", \"reward\", \"street\", \"range\", \"dont\", \"closed\", \"ive\", \"today\", \"want\", \"like\", \"find\", \"help\", \"goddayd\", \"frnd\", \"thnkx\", \"reffer\", \"princetripathigmailcom\", \"blicked\", \"ajaygmailcom\", \"antiviruis\", \"relplace\", \"replaceand\", \"casually\", \"#thankscody\", \"weeps\", \"thy\", \"eleventh\", \"tenth\", \"exeption\", \"ccv\", \"pathologically\", \"incapable\", \"#livid\", \"goodf#cking\", \"dreamhost\", \"cryptowall\", \"websiteit\", \"boxsuch\", \"#facefacts\", \"yorkshire\", \"\\\"is\", \"skeptical\", \"pkg\", \"bpg\", \"rpg\", \"spg\", \"apg\", \"ppg\", \"philippine\", \"deliberately\", \"postcode\", \"kristaps\", \"lowry\", \"wade\", \"porzingis\", \"#nbavote\", \"rubbish\", \"throwing\", \"#kp\", \"#nyk\", \"told\", \"carmelo\", \"ago\", \"telling\", \"domain\", \"smh\", \"new\", \"fm\", \"inc\", \"dis\", \"noticed\", \"butler\", \"year\", \"student\", \"hell\", \"immediately\", \"dns\", \"helped\", \"brand\", \"little\", \"paris\", \"aint\", \"specifically\", \"properly\", \"yeezy\", \"leaving\", \"organization\", \"register\", \"city\", \"explore\", \"nr\", \"hosting\", \"housebound\", \"thks\", \"knightmare\", \"rebeccareadvisitpeakdistrictcom\", \"texted\", \"reflej\", \"saldo\", \"\\\"hello\", \"punjabi\", \"#kdk\", \"resistance\", \"darum\", \"bitten\", \"festzustellen\", \"glanzleistung\", \"keria\", \"rply\", \"fnly\", \"reasn\", \"door\\\"\", \"deutschland\", \"wainting\", \"#rubbish\", \"helpfu\", \"exempted\", \"hawk\", \"arg\", \"pvg\", \"freelancer\", \"dapat\", \"askng\", \"std\", \"mirado\", \"neha\", \"thanking\", \"ruder\", \"called\", \"euch\", \"hung\", \"preorder\", \"signed\", \"tried\", \"eat\", \"post\", \"information\", \"associated\", \"scheduled\", \"sur\", \"thru\", \"followed\", \"cd\", \"vez\", \"sister\", \"watching\", \"carrying\", \"andre\", \"cheated\", \"contacting\", \"hart\", \"unhappy\", \"forum\", \"photo\", \"delete\", \"recommend\", \"changing\", \"re-install\", \"manage\", \"making\", \"john\", \"board\", \"holding\", \"indeed\", \"celebrate\", \"please\", \"troubleshooting\", \"thanks\"], \"loglift\": [30.0, 29.0, 28.0, 27.0, 26.0, 25.0, 24.0, 23.0, 22.0, 21.0, 20.0, 19.0, 18.0, 17.0, 16.0, 15.0, 14.0, 13.0, 12.0, 11.0, 10.0, 9.0, 8.0, 7.0, 6.0, 5.0, 4.0, 3.0, 2.0, 1.0, 3.7282000000000002, 3.4531999999999998, 3.4224000000000001, 3.3988, 3.3843999999999999, 3.3374999999999999, 3.3374999999999999, 3.3037999999999998, 3.2692000000000001, 3.2669999999999999, 3.2658999999999998, 3.2501000000000002, 3.2494999999999998, 3.2336, 3.2246000000000001, 3.2115, 3.1684000000000001, 3.1507999999999998, 3.1467000000000001, 3.1465999999999998, 3.1347999999999998, 3.1242000000000001, 3.1113, 3.1072000000000002, 3.0855000000000001, 3.0846, 3.0743, 3.0718000000000001, 3.0554000000000001, 3.0287000000000002, 3.0270000000000001, 3.0043000000000002, 2.7757000000000001, 2.7422, 2.6674000000000002, 2.9013, 2.5234000000000001, 2.3635000000000002, 2.8913000000000002, 2.5981000000000001, 2.7864, 1.9712000000000001, 2.1492, 2.7652000000000001, 2.347, 2.0102000000000002, 1.9194, 1.5085999999999999, 2.3195999999999999, 1.7446999999999999, 1.5202, 1.2359, 1.4845999999999999, 1.4676, 1.4115, 1.2458, 1.2306999999999999, 1.1143000000000001, 0.43490000000000001, 0.71689999999999998, 0.13250000000000001, 0.0088000000000000005, 1.0034000000000001, 0.70299999999999996, 0.45440000000000003, 4.5045999999999999, 4.5045999999999999, 4.5045999999999999, 4.5045999999999999, 4.5045999999999999, 4.5045999999999999, 4.5045999999999999, 4.5045999999999999, 4.4085999999999999, 4.2826000000000004, 4.2565999999999997, 4.2294999999999998, 4.2294999999999998, 4.2294999999999998, 4.2294999999999998, 4.2294999999999998, 4.2294999999999998, 4.2294999999999998, 4.2294999999999998, 4.2294999999999998, 4.2294999999999998, 4.1555, 4.1227999999999998, 4.0800999999999998, 4.0800999999999998, 4.0800999999999998, 4.0800999999999998, 4.0712999999999999, 3.9428000000000001, 3.931, 3.9159000000000002, 3.8773, 3.8755999999999999, 3.8332000000000002, 3.3555999999999999, 3.7475000000000001, 3.5739000000000001, 3.2801, 3.2332999999999998, 3.2080000000000002, 3.8734999999999999, 3.1244000000000001, 3.1135000000000002, 3.0794000000000001, 3.2286999999999999, 3.6112000000000002, 2.9401999999999999, 3.0636000000000001, 3.3395999999999999, 1.8912, 3.0739000000000001, 3.1583000000000001, 2.1846000000000001, 3.6459000000000001, 3.6852, 0.88239999999999996, 1.4908999999999999, 1.4238, 1.0152000000000001, 1.6141000000000001, 0.4345, 1.6257999999999999, 0.35310000000000002, 0.93320000000000003, 0.6996, 0.75549999999999995, 0.4914, 0.69730000000000003, 0.63700000000000001, 4.5583999999999998, 4.5583999999999998, 4.5583999999999998, 4.5583999999999998, 4.5583999999999998, 4.5583999999999998, 4.5583999999999998, 4.5583999999999998, 4.5583999999999998, 4.5583999999999998, 4.5583999999999998, 4.5583999999999998, 4.5583999999999998, 4.5583999999999998, 4.5583999999999998, 4.5583999999999998, 4.3917999999999999, 4.2957999999999998, 4.2832999999999997, 4.2832999999999997, 4.2832999999999997, 4.2832999999999997, 4.2832999999999997, 4.2832999999999997, 4.2832999999999997, 4.2832999999999997, 4.2832999999999997, 4.2832999999999997, 4.2781000000000002, 4.2290000000000001, 4.2176999999999998, 4.2161999999999997, 4.1531000000000002, 4.1002000000000001, 3.9863, 3.6402999999999999, 3.6625000000000001, 3.9420999999999999, 4.0377999999999998, 4.1409000000000002, 3.3109000000000002, 3.3801000000000001, 3.3711000000000002, 3.4409999999999998, 3.8422999999999998, 3.4241999999999999, 3.6718000000000002, 3.8551000000000002, 3.4510000000000001, 3.0141, 3.7677, 3.8214000000000001, 3.2820999999999998, 2.8784999999999998, 3.4079999999999999, 3.6183999999999998, 3.9508999999999999, 3.6396999999999999, 3.7808999999999999, 3.4980000000000002, 2.9142000000000001, 3.2980999999999998, 2.1901000000000002, 2.5903, 3.3666, 1.8898999999999999, 2.8386999999999998, 1.1221000000000001, 1.6795, 1.5775999999999999, 0.80379999999999996, 1.0652999999999999, 1.6234999999999999, 0.47170000000000001, 1.2424999999999999, 0.247, 1.0062, 1.0418000000000001, 0.36520000000000002, 4.7164999999999999, 4.7164999999999999, 4.7164999999999999, 4.7164999999999999, 4.7164999999999999, 4.7164999999999999, 4.7164999999999999, 4.7164999999999999, 4.7164999999999999, 4.7164999999999999, 4.7164999999999999, 4.7164999999999999, 4.7164999999999999, 4.7164999999999999, 4.7164999999999999, 4.7164999999999999, 4.7164999999999999, 4.7164999999999999, 4.7164999999999999, 4.7164999999999999, 4.7164999999999999, 4.7164999999999999, 4.7164999999999999, 4.7164999999999999, 4.7164999999999999, 4.7164999999999999, 4.7164999999999999, 4.7164999999999999, 4.7164999999999999, 4.7099000000000002, 4.7099000000000002, 4.6372999999999998, 4.4470999999999998, 4.1498999999999997, 4.2022000000000004, 4.1977000000000002, 4.4714999999999998, 4.4256000000000002, 4.2156000000000002, 4.5103999999999997, 4.0309999999999997, 4.1618000000000004, 4.1135000000000002, 3.2077, 3.2143999999999999, 4.4638, 3.0962999999999998, 3.9401999999999999, 3.2122000000000002, 4.4336000000000002, 3.4420000000000002, 3.0851000000000002, 3.8641999999999999, 4.0576999999999996, 3.3551000000000002, 3.0733000000000001, 4.2239000000000004, 3.2271999999999998, 3.2288000000000001, 2.8660000000000001, 3.8239999999999998, 3.4504999999999999, 3.5084, 3.2021999999999999, 1.8473999999999999, 3.5809000000000002, 1.2476, 3.6206999999999998, 2.2865000000000002, 2.0387, 0.59079999999999999, 0.43680000000000002, 4.5364000000000004, 4.5364000000000004, 4.5364000000000004, 4.5364000000000004, 4.5364000000000004, 4.5364000000000004, 4.5364000000000004, 4.5364000000000004, 4.5364000000000004, 4.5364000000000004, 4.5364000000000004, 4.5364000000000004, 4.5364000000000004, 4.5364000000000004, 4.5364000000000004, 4.5364000000000004, 4.5364000000000004, 4.5364000000000004, 4.5364000000000004, 4.5364000000000004, 4.5364000000000004, 4.5364000000000004, 4.5364000000000004, 4.5364000000000004, 4.5364000000000004, 4.5364000000000004, 4.5364000000000004, 4.5364000000000004, 4.5364000000000004, 4.5364000000000004, 4.5293999999999999, 4.5293999999999999, 4.5293999999999999, 4.5293999999999999, 4.5303000000000004, 4.5324, 4.5324, 4.5324, 4.5324, 4.5324, 4.5324, 4.5324, 4.3975999999999997, 4.3383000000000003, 4.3086000000000002, 4.1940999999999997, 4.2343000000000002, 4.2276999999999996, 3.9047999999999998, 4.1421000000000001, 3.8214000000000001, 3.5693999999999999, 4.0808999999999997, 4.0178000000000003, 3.4697, 3.9691999999999998, 3.8511000000000002, 4.0552000000000001, 4.0747999999999998, 3.4148000000000001, 3.5756000000000001, 3.5533000000000001, 3.3871000000000002, 3.7507999999999999, 3.8107000000000002, 3.5402999999999998, 3.9413999999999998, 3.4464999999999999, 3.3146, 3.3715999999999999, 3.5169999999999999, 3.5706000000000002, 3.3475000000000001, 3.7136, 2.2334000000000001, 3.1099999999999999, 3.1185, 3.5116999999999998, 3.0413999999999999, 0.70550000000000002, 0.70140000000000002, 0.627, 2.2597, 0.9637, 0.93789999999999996, 0.062300000000000001, 0.82909999999999995, 1.1273, 4.5818000000000003, 4.5818000000000003, 4.5818000000000003, 4.5818000000000003, 4.5818000000000003, 4.5818000000000003, 4.5818000000000003, 4.5818000000000003, 4.5818000000000003, 4.5818000000000003, 4.5818000000000003, 4.5818000000000003, 4.5818000000000003, 4.5818000000000003, 4.5818000000000003, 4.5818000000000003, 4.5818000000000003, 4.5818000000000003, 4.5818000000000003, 4.5818000000000003, 4.5818000000000003, 4.5818000000000003, 4.5818000000000003, 4.5818000000000003, 4.5818000000000003, 4.5818000000000003, 4.5818000000000003, 4.5818000000000003, 4.5818000000000003, 4.5818000000000003, 4.5777999999999999, 4.5777999999999999, 4.5777999999999999, 4.3620999999999999, 4.3282999999999996, 4.4725000000000001, 4.0263, 4.2519999999999998, 4.2225999999999999, 4.2365000000000004, 4.1778000000000004, 4.3945999999999996, 4.1303000000000001, 3.7833000000000001, 3.9276, 3.9849000000000001, 4.1452999999999998, 3.7629999999999999, 3.7911000000000001, 4.1813000000000002, 3.6789999999999998, 4.3085000000000004, 3.1135000000000002, 3.5463, 4.0620000000000003, 3.9359999999999999, 4.1364999999999998, 3.8066, 3.8058999999999998, 4.0766, 2.9942000000000002, 3.3784999999999998, 3.8033999999999999, 3.7848999999999999, 3.3258999999999999, 2.1379000000000001, 2.2736000000000001, 3.0592000000000001, 3.3290000000000002, 1.8574999999999999, 2.3208000000000002, 1.4919, 1.0872999999999999, 1.9067000000000001, 2.5379, 0.77639999999999998, 0.099599999999999994, 0.84160000000000001, 4.5392999999999999, 4.5392999999999999, 4.5392999999999999, 4.5392999999999999, 4.5392999999999999, 4.5392999999999999, 4.5392999999999999, 4.5392999999999999, 4.5392999999999999, 4.5392999999999999, 4.5392999999999999, 4.5392999999999999, 4.5392999999999999, 4.5392999999999999, 4.5392999999999999, 4.5392999999999999, 4.5392999999999999, 4.5392999999999999, 4.5392999999999999, 4.5392999999999999, 4.5392999999999999, 4.5392999999999999, 4.5392999999999999, 4.5392999999999999, 4.5392999999999999, 4.5392999999999999, 4.5392999999999999, 4.5392999999999999, 4.5392999999999999, 4.5392999999999999, 4.5340999999999996, 4.5354000000000001, 4.5354000000000001, 4.4424000000000001, 4.1397000000000004, 3.7824, 3.7292000000000001, 3.9580000000000002, 4.2556000000000003, 3.9445000000000001, 3.9350000000000001, 3.6968000000000001, 4.0229999999999997, 4.0053000000000001, 4.2981999999999996, 3.6475, 3.4485000000000001, 4.1090999999999998, 3.8643000000000001, 3.3972000000000002, 4.3449, 3.2305000000000001, 4.4062999999999999, 3.2509999999999999, 3.7332000000000001, 3.5638999999999998, 3.7000000000000002, 3.3614000000000002, 2.8898999999999999, 3.6939000000000002, 3.3618000000000001, 3.3464999999999998, 3.008, 3.3199999999999998, 3.6783000000000001, 2.6393, 3.5150999999999999, 2.2174, 1.5736000000000001, 2.2383000000000002, 0.50439999999999996, 0.87560000000000004, 1.5576000000000001, 0.9546, -0.1171, 1.4263999999999999, 2.3033000000000001, 0.60929999999999995, 4.4954999999999998, 4.4954999999999998, 4.4954999999999998, 4.4954999999999998, 4.4954999999999998, 4.4954999999999998, 4.4954999999999998, 4.4954999999999998, 4.4954999999999998, 4.4954999999999998, 4.4954999999999998, 4.4954999999999998, 4.4954999999999998, 4.4954999999999998, 4.4954999999999998, 4.4062000000000001, 4.3621999999999996, 4.3441999999999998, 4.3144999999999998, 4.3009000000000004, 4.2442000000000002, 4.2329999999999997, 4.2264999999999997, 4.2203999999999997, 4.2203999999999997, 4.2203999999999997, 4.2203999999999997, 4.2203999999999997, 4.2203999999999997, 4.2203999999999997, 4.2152000000000003, 4.2152000000000003, 4.2152000000000003, 4.2152000000000003, 4.1167999999999996, 4.0551000000000004, 4.1851000000000003, 4.0208000000000004, 4.1520000000000001, 4.1284999999999998, 3.8380999999999998, 4.1035000000000004, 3.3704999999999998, 3.395, 3.6280000000000001, 3.3012000000000001, 3.621, 3.5920000000000001, 3.6071, 3.4588000000000001, 3.7465999999999999, 3.5173000000000001, 3.4807000000000001, 3.0348000000000002, 3.2077, 3.2120000000000002, 3.1320999999999999, 4.0140000000000002, 3.3605, 3.3376999999999999, 2.9965999999999999, 2.4849000000000001, 3.0811000000000002, 3.5695000000000001, 2.9062000000000001, 3.0882000000000001, 3.0417999999999998, 1.5264, 1.6997, 0.3075, -0.62350000000000005, 0.40770000000000001, 1.1000000000000001, 4.6356000000000002, 4.6356000000000002, 4.6356000000000002, 4.6356000000000002, 4.6356000000000002, 4.6356000000000002, 4.6356000000000002, 4.6356000000000002, 4.6356000000000002, 4.6356000000000002, 4.6356000000000002, 4.6356000000000002, 4.6356000000000002, 4.6356000000000002, 4.6356000000000002, 4.6356000000000002, 4.6356000000000002, 4.6356000000000002, 4.6356000000000002, 4.6356000000000002, 4.6356000000000002, 4.6356000000000002, 4.6356000000000002, 4.6356000000000002, 4.6356000000000002, 4.6356000000000002, 4.6356000000000002, 4.6356000000000002, 4.6356000000000002, 4.6356000000000002, 4.6295999999999999, 4.6315999999999997, 4.6315999999999997, 4.6315999999999997, 4.6315999999999997, 4.6315999999999997, 4.4291, 4.4436999999999998, 4.3346999999999998, 4.2678000000000003, 4.0556999999999999, 4.4715999999999996, 4.1382000000000003, 4.0415999999999999, 3.7715999999999998, 3.9314, 3.8071999999999999, 3.5108000000000001, 4.4264999999999999, 3.9742000000000002, 4.0856000000000003, 4.1253000000000002, 4.4546000000000001, 3.5695999999999999, 3.8517999999999999, 3.4238, 3.7866, 3.4618000000000002, 4.0355999999999996, 3.5880000000000001, 3.6621999999999999, 3.4035000000000002, 3.6495000000000002, 3.4767000000000001, 3.7042000000000002, 3.4775999999999998, 3.2631999999999999, 3.1606000000000001, 3.3895, 2.5988000000000002, 2.9870000000000001, 2.4108999999999998, 3.4211999999999998, 3.2675999999999998, 1.3804000000000001, 1.1263000000000001, 1.3636999999999999, 2.4832999999999998, 1.1674, 1.5233000000000001, 2.3279000000000001, 1.1087, 0.97060000000000002, 4.8216000000000001, 4.8216000000000001, 4.8216000000000001, 4.8216000000000001, 4.8216000000000001, 4.8216000000000001, 4.8216000000000001, 4.8216000000000001, 4.8216000000000001, 4.8216000000000001, 4.8216000000000001, 4.8216000000000001, 4.8216000000000001, 4.8216000000000001, 4.8216000000000001, 4.8216000000000001, 4.5678000000000001, 4.5579999999999998, 4.5560999999999998, 4.5465, 4.5465, 4.5465, 4.5465, 4.5465, 4.5465, 4.5465, 4.5465, 4.5465, 4.5465, 4.5465, 4.4851999999999999, 4.4760999999999997, 4.4801000000000002, 4.2729999999999997, 4.2447999999999997, 4.0105000000000004, 4.0537000000000001, 3.7584, 3.7517, 4.2697000000000003, 3.6850000000000001, 3.96, 3.5632999999999999, 3.5709, 3.6591, 3.5139, 3.706, 3.5306999999999999, 3.5931999999999999, 3.4762, 3.7120000000000002, 3.9340000000000002, 3.3904999999999998, 3.6154000000000002, 3.6238999999999999, 4.0632999999999999, 3.9689000000000001, 4.1618000000000004, 3.4171999999999998, 3.7947000000000002, 3.2787999999999999, 1.7937000000000001, 1.4198999999999999, 3.4445000000000001, 0.52180000000000004, 1.2196, 1.5116000000000001, 1.6942999999999999, 1.2186999999999999, 1.4678, 1.2742, 0.090499999999999997, 1.0782, 0.1535, 4.8072999999999997, 4.8072999999999997, 4.8072999999999997, 4.8072999999999997, 4.8072999999999997, 4.8072999999999997, 4.8072999999999997, 4.8072999999999997, 4.8072999999999997, 4.8072999999999997, 4.8072999999999997, 4.8072999999999997, 4.8072999999999997, 4.8072999999999997, 4.8072999999999997, 4.8072999999999997, 4.8072999999999997, 4.8072999999999997, 4.8072999999999997, 4.8033000000000001, 4.6746999999999996, 4.6128, 4.5321999999999996, 4.5321999999999996, 4.5321999999999996, 4.5321999999999996, 4.5321999999999996, 4.5321999999999996, 4.5321999999999996, 4.5321999999999996, 4.5252999999999997, 4.5252999999999997, 4.5252999999999997, 4.5270000000000001, 4.5270000000000001, 4.4557000000000002, 4.4246999999999996, 4.4329000000000001, 4.4249999999999998, 4.3433999999999999, 4.2176, 4.2663000000000002, 4.1554000000000002, 3.7972000000000001, 4.0732999999999997, 3.7099000000000002, 3.6413000000000002, 4.0016999999999996, 3.3624999999999998, 3.7827999999999999, 4.2007000000000003, 3.5327000000000002, 4.1493000000000002, 3.9950999999999999, 3.7637999999999998, 3.7677999999999998, 4.3053999999999997, 3.9805999999999999, 4.1233000000000004, 3.5583999999999998, 4.3137999999999996, 4.1204999999999998, 3.9352, 4.1123000000000003, 3.7778, 3.3357000000000001, 3.7772000000000001, 3.7225999999999999, 3.6400999999999999, 3.2856999999999998, 2.4958999999999998, 1.2743, 1.8440000000000001, 2.3235000000000001, 0.97470000000000001, 0.89380000000000004, 1.3405, 1.3562000000000001, -0.25190000000000001, 1.0879000000000001, 2.427, 4.6092000000000004, 4.6092000000000004, 4.6092000000000004, 4.6092000000000004, 4.6092000000000004, 4.6092000000000004, 4.6092000000000004, 4.6092000000000004, 4.6092000000000004, 4.6092000000000004, 4.6092000000000004, 4.6092000000000004, 4.6092000000000004, 4.6092000000000004, 4.6092000000000004, 4.6092000000000004, 4.6092000000000004, 4.6092000000000004, 4.6092000000000004, 4.6092000000000004, 4.6092000000000004, 4.6092000000000004, 4.6092000000000004, 4.6092000000000004, 4.6092000000000004, 4.6092000000000004, 4.6092000000000004, 4.6092000000000004, 4.6052, 4.6052, 4.6052, 4.4466000000000001, 3.8504, 4.4194000000000004, 4.4528999999999996, 4.1791999999999998, 3.9826000000000001, 3.992, 4.2709000000000001, 3.8845999999999998, 3.7825000000000002, 4.2552000000000003, 3.8016999999999999, 3.8654999999999999, 3.8862999999999999, 4.4458000000000002, 3.6356000000000002, 3.8450000000000002, 3.5144000000000002, 3.8033999999999999, 3.855, 3.992, 3.669, 3.7824, 3.7227999999999999, 3.9420999999999999, 3.9958, 4.0599999999999996, 3.4853999999999998, 3.6878000000000002, 3.6836000000000002, 3.8412000000000002, 3.4752999999999998, 3.8780999999999999, 3.6364999999999998, 3.5320999999999998, 3.6947000000000001, 2.3256000000000001, 2.9199000000000002, 2.7709999999999999, 2.3883999999999999, 2.2852999999999999, 2.5588000000000002, 3.3083999999999998, 2.3451, 1.1307, 0.97370000000000001, -0.32600000000000001, 4.6894, 4.6894, 4.6894, 4.6894, 4.6894, 4.6894, 4.6894, 4.6894, 4.6894, 4.6894, 4.6894, 4.6894, 4.6894, 4.6894, 4.6894, 4.6894, 4.6894, 4.6894, 4.6894, 4.6894, 4.6894, 4.6894, 4.6894, 4.6894, 4.6894, 4.6894, 4.6894, 4.6894, 4.6894, 4.6894, 4.6840999999999999, 4.6853999999999996, 4.6853999999999996, 4.6853999999999996, 4.6853999999999996, 4.6853999999999996, 4.6853999999999996, 4.6211000000000002, 4.375, 4.5545, 4.0949999999999998, 4.0542999999999996, 4.5254000000000003, 4.0380000000000003, 4.1361999999999997, 3.9914000000000001, 3.8268, 3.9384999999999999, 3.5764, 4.1086, 4.1665999999999999, 3.8904000000000001, 4.4932999999999996, 4.4932999999999996, 4.3028000000000004, 4.4054000000000002, 3.5198999999999998, 3.7201, 4.1174999999999997, 3.7582, 3.6709999999999998, 4.0015000000000001, 4.2278000000000002, 3.9470999999999998, 4.2587000000000002, 3.6436000000000002, 3.7157, 4.3429000000000002, 3.9792000000000001, 3.7574999999999998, 3.6716000000000002, 3.8298999999999999, 3.5118999999999998, 3.9702999999999999, 3.9659, 3.8182999999999998, 3.6715, 3.5718999999999999, 3.5745, 2.2576000000000001, 3.0375999999999999, 1.2657, 1.2564, 1.3305, 0.38990000000000002, 3.2269999999999999, 1.6997, 1.0927, 0.71419999999999995, 4.5891000000000002, 4.5891000000000002, 4.5891000000000002, 4.5891000000000002, 4.5891000000000002, 4.5891000000000002, 4.5891000000000002, 4.5891000000000002, 4.5891000000000002, 4.5891000000000002, 4.5891000000000002, 4.5891000000000002, 4.5891000000000002, 4.5891000000000002, 4.5891000000000002, 4.5891000000000002, 4.5891000000000002, 4.5891000000000002, 4.5891000000000002, 4.5891000000000002, 4.5891000000000002, 4.5891000000000002, 4.5891000000000002, 4.5891000000000002, 4.5891000000000002, 4.5891000000000002, 4.5891000000000002, 4.5891000000000002, 4.5891000000000002, 4.5891000000000002, 4.5838999999999999, 4.3761999999999999, 4.2556000000000003, 4.2469999999999999, 4.0868000000000002, 4.1341000000000001, 4.2836999999999996, 4.3038999999999996, 4.1116000000000001, 4.4572000000000003, 4.4997999999999996, 4.0740999999999996, 4.0739000000000001, 4.1296999999999997, 4.3353999999999999, 4.0145999999999997, 3.8959000000000001, 4.1269999999999998, 4.1269, 4.2941000000000003, 4.1048999999999998, 4.4250999999999996, 3.8929, 4.0949, 4.1710000000000003, 4.3048999999999999, 3.5489999999999999, 3.9096000000000002, 4.2777000000000003, 3.6391, 3.9062000000000001, 3.5375000000000001, 4.1319999999999997, 3.2818999999999998, 3.6785999999999999, 3.5628000000000002, 3.9293999999999998, 3.3881999999999999, 3.4973999999999998, 3.3248000000000002, 3.0299999999999998, 2.3153999999999999, 1.9144000000000001, 3.1389999999999998, 0.55169999999999997, 3.4009, 1.2163999999999999, 4.9976000000000003, 4.9976000000000003, 4.9976000000000003, 4.9976000000000003, 4.9976000000000003, 4.9976000000000003, 4.9976000000000003, 4.9976000000000003, 4.9976000000000003, 4.7225000000000001, 4.7225000000000001, 4.7225000000000001, 4.7225000000000001, 4.7225000000000001, 4.7172999999999998, 4.6886999999999999, 4.649, 4.6458000000000004, 4.6449999999999996, 4.6059999999999999, 4.6032000000000002, 4.5731999999999999, 4.5731999999999999, 4.5731999999999999, 4.5640999999999998, 4.4885000000000002, 4.4711999999999996, 4.4320000000000004, 4.4241000000000001, 4.4202000000000004, 4.4173999999999998, 4.4168000000000003, 4.2164000000000001, 3.9906999999999999, 4.0374999999999996, 4.0233999999999996, 3.9539, 4.1318999999999999, 4.0548999999999999, 3.9075000000000002, 4.0, 3.3132000000000001, 3.5066999999999999, 3.1928000000000001, 3.4077000000000002, 3.5163000000000002, 3.5009000000000001, 3.7559999999999998, 3.4849999999999999, 3.6882000000000001, 3.3410000000000002, 3.8275999999999999, 3.9634999999999998, 4.3216999999999999, 3.4428000000000001, 3.8298000000000001, 3.3603999999999998, 3.5417000000000001, 4.0827999999999998, 3.2930000000000001, 3.0693000000000001, 2.4775, 0.93779999999999997, 2.3193000000000001, 1.2275, 0.94359999999999999, 0.16839999999999999, 1.7463, 4.7195, 4.7195, 4.7195, 4.7195, 4.7195, 4.7195, 4.7195, 4.7195, 4.7195, 4.7195, 4.7195, 4.7195, 4.7195, 4.7195, 4.7195, 4.7195, 4.7195, 4.7195, 4.7195, 4.7195, 4.7195, 4.7195, 4.7195, 4.7195, 4.7195, 4.7195, 4.7195, 4.7195, 4.7195, 4.7195, 4.7195, 4.7195, 4.7195, 4.5480999999999998, 4.2689000000000004, 4.3537999999999997, 4.3757000000000001, 4.3868, 4.2915999999999999, 4.0918000000000001, 4.1555, 3.9621, 4.3376000000000001, 4.0997000000000003, 3.9632999999999998, 3.6779000000000002, 4.0007000000000001, 4.0415000000000001, 4.1580000000000004, 4.3800999999999997, 4.351, 3.8327, 3.8136000000000001, 3.7898999999999998, 4.2518000000000002, 4.1505000000000001, 3.7858999999999998, 3.9197000000000002, 3.6850000000000001, 3.9024999999999999, 4.0321999999999996, 3.9971000000000001, 3.8367, 3.9409999999999998, 3.7469999999999999, 3.7406999999999999, 3.9388999999999998, 3.7286999999999999, 3.5352999999999999, 3.2359, 3.6004, 3.8108, 3.6366000000000001, 2.0325000000000002, 2.3127, 3.3784000000000001, 0.26219999999999999, 1.5074000000000001, 1.1256999999999999, 1.7007000000000001, 0.059499999999999997, 4.9118000000000004, 4.9118000000000004, 4.9118000000000004, 4.9118000000000004, 4.9118000000000004, 4.9118000000000004, 4.9118000000000004, 4.9118000000000004, 4.9118000000000004, 4.9118000000000004, 4.9118000000000004, 4.9118000000000004, 4.9118000000000004, 4.9118000000000004, 4.9118000000000004, 4.9118000000000004, 4.9118000000000004, 4.9118000000000004, 4.9118000000000004, 4.9118000000000004, 4.9118000000000004, 4.9118000000000004, 4.9118000000000004, 4.9118000000000004, 4.7792000000000003, 4.7308000000000003, 4.6729000000000003, 4.6367000000000003, 4.6367000000000003, 4.6367000000000003, 4.6356999999999999, 4.6139999999999999, 4.6298000000000004, 4.5766999999999998, 4.375, 3.9897, 4.4749999999999996, 3.9668999999999999, 4.0111999999999997, 4.3798000000000004, 3.7168999999999999, 4.0502000000000002, 4.2074999999999996, 3.8189000000000002, 3.8243999999999998, 3.9586000000000001, 3.9129, 3.7622, 4.0198, 4.2866, 4.4028999999999998, 4.1001000000000003, 3.6482000000000001, 4.0938999999999997, 4.1040000000000001, 3.4678, 4.1143999999999998, 3.4628000000000001, 3.6783000000000001, 3.4201000000000001, 3.4163999999999999, 3.4163000000000001, 3.6717, 3.2423000000000002, 3.2414999999999998, 3.2332999999999998, 3.3538000000000001, 1.4341999999999999, 0.70040000000000002, 0.80130000000000001, 1.5085999999999999, 1.3557999999999999, 1.3642000000000001, 0.83430000000000004, 1.385, 0.43680000000000002, 4.9245999999999999, 4.9245999999999999, 4.9245999999999999, 4.9245999999999999, 4.9245999999999999, 4.9245999999999999, 4.9245999999999999, 4.9245999999999999, 4.9245999999999999, 4.9245999999999999, 4.9245999999999999, 4.9245999999999999, 4.9245999999999999, 4.9245999999999999, 4.9245999999999999, 4.9245999999999999, 4.9245999999999999, 4.9245999999999999, 4.9245999999999999, 4.9245999999999999, 4.9245999999999999, 4.9245999999999999, 4.9245999999999999, 4.9245999999999999, 4.9245999999999999, 4.9245999999999999, 4.9245999999999999, 4.9245999999999999, 4.9245999999999999, 4.9245999999999999, 4.9192999999999998, 4.9206000000000003, 4.9206000000000003, 4.9206000000000003, 4.9206000000000003, 4.8353000000000002, 4.6589, 4.6288999999999998, 4.6132999999999997, 4.5899000000000001, 4.7591000000000001, 4.4425999999999997, 4.2054999999999998, 4.7285000000000004, 4.7285000000000004, 4.7285000000000004, 4.5857000000000001, 4.3258999999999999, 4.3301999999999996, 4.6496000000000004, 3.9081000000000001, 4.4046000000000003, 4.3754, 3.6711999999999998, 3.9944999999999999, 4.4889999999999999, 4.4889999999999999, 4.093, 4.6440999999999999, 4.2154999999999996, 4.2186000000000003, 4.1600000000000001, 3.8081, 3.8826000000000001, 3.7629000000000001, 4.0334000000000003, 3.7477999999999998, 3.5954000000000002, 3.2793999999999999, 3.774, 4.3730000000000002, 3.9752000000000001, 3.9643999999999999, 4.0086000000000004, 3.6137999999999999, 3.9152, 3.6726999999999999, 3.3637000000000001, 3.5840999999999998, 3.8532000000000002, 3.4161999999999999, 1.2798, 2.3565999999999998, 1.2072000000000001, 1.7645, 0.35520000000000002, -0.095100000000000004, 2.3142999999999998, 4.6447000000000003, 4.6447000000000003, 4.6447000000000003, 4.6447000000000003, 4.4500999999999999, 4.3696999999999999, 4.3696999999999999, 4.3696999999999999, 4.3696999999999999, 4.3696999999999999, 4.3696999999999999, 4.3696999999999999, 4.3696999999999999, 4.3696999999999999, 4.3696999999999999, 4.3696999999999999, 4.3696999999999999, 4.3696999999999999, 4.3696999999999999, 4.3696999999999999, 4.3696999999999999, 4.3696999999999999, 4.3696999999999999, 4.3696999999999999, 4.3696999999999999, 4.3696999999999999, 4.3521999999999998, 4.3380000000000001, 4.3307000000000002, 4.3185000000000002, 4.2975000000000003, 4.1977000000000002, 4.1711999999999998, 4.1669, 4.1631, 4.2725, 4.2915000000000001, 4.2354000000000003, 4.0381, 4.0483000000000002, 4.0477999999999996, 4.2355, 4.0160999999999998, 3.9279999999999999, 3.9266000000000001, 4.2004999999999999, 4.1445999999999996, 3.9321000000000002, 3.9496000000000002, 3.9296000000000002, 4.1281999999999996, 3.7949000000000002, 3.8058000000000001, 3.6909000000000001, 3.5861999999999998, 3.8268, 3.484, 3.7277999999999998, 3.7458999999999998, 3.1743999999999999, 3.1837, 3.6474000000000002, 3.4257, 3.1896, 3.2170000000000001, 3.1432000000000002, 2.9201000000000001, 1.5609, 4.7906000000000004, 4.7906000000000004, 4.7906000000000004, 4.7906000000000004, 4.7906000000000004, 4.7906000000000004, 4.7906000000000004, 4.7906000000000004, 4.7906000000000004, 4.7906000000000004, 4.7906000000000004, 4.7906000000000004, 4.7906000000000004, 4.7906000000000004, 4.7906000000000004, 4.7906000000000004, 4.7906000000000004, 4.7906000000000004, 4.7906000000000004, 4.7906000000000004, 4.7906000000000004, 4.7906000000000004, 4.7906000000000004, 4.7906000000000004, 4.7906000000000004, 4.7906000000000004, 4.7906000000000004, 4.7866999999999997, 4.6597999999999997, 4.6580000000000004, 4.5566000000000004, 4.2984999999999998, 4.2609000000000004, 4.4275000000000002, 4.6148999999999996, 4.0872000000000002, 4.2698999999999998, 4.3757999999999999, 4.0481999999999996, 4.3470000000000004, 4.0570000000000004, 3.8273999999999999, 4.1943999999999999, 4.1200000000000001, 4.6272000000000002, 3.7216999999999998, 3.9836999999999998, 3.9706999999999999, 4.0246000000000004, 4.0629, 3.8936999999999999, 3.9392999999999998, 4.2153999999999998, 3.694, 4.0552000000000001, 4.0420999999999996, 3.5324, 4.0650000000000004, 4.0324999999999998, 3.9544000000000001, 3.8801000000000001, 3.6993999999999998, 3.4782999999999999, 3.8771, 3.5842000000000001, 2.0448, 2.0550999999999999, 1.7615000000000001, 0.93779999999999997, 1.0933999999999999, -0.069400000000000003, 1.0243, -0.3085, 0.84899999999999998, 4.8419999999999996, 4.8419999999999996, 4.8419999999999996, 4.8419999999999996, 4.8419999999999996, 4.8419999999999996, 4.8419999999999996, 4.8419999999999996, 4.8419999999999996, 4.8419999999999996, 4.8419999999999996, 4.8419999999999996, 4.8419999999999996, 4.8419999999999996, 4.8419999999999996, 4.8419999999999996, 4.8419999999999996, 4.8419999999999996, 4.8419999999999996, 4.8419999999999996, 4.8419999999999996, 4.8419999999999996, 4.8419999999999996, 4.8419999999999996, 4.8419999999999996, 4.8419999999999996, 4.8367000000000004, 4.7526999999999999, 4.7182000000000004, 4.7004999999999999, 4.5263999999999998, 4.3852000000000002, 4.3912000000000004, 4.6192000000000002, 4.4848999999999997, 4.5300000000000002, 4.3906999999999998, 4.5510000000000002, 4.4581, 4.3376000000000001, 4.2169999999999996, 3.9661, 3.7439, 3.7637, 3.9876999999999998, 3.4752999999999998, 4.2710999999999997, 4.4802, 3.7109000000000001, 4.1063999999999998, 4.1597, 4.1052, 4.5705, 3.7816000000000001, 4.6200000000000001, 4.6200000000000001, 3.2633000000000001, 4.1459000000000001, 4.1909999999999998, 2.8908, 2.8774999999999999, 3.9306000000000001, 3.5034999999999998, 4.0286, 3.9649000000000001, 3.6667999999999998, 1.9490000000000001, 3.3906000000000001, 1.8979999999999999, 1.9084000000000001, 2.0724999999999998, 1.4862, 1.03, 0.3206, 2.2006000000000001, 0.31169999999999998, 1.0234000000000001, 1.8452, 0.1454, -0.66459999999999997, 4.7214999999999998, 4.7214999999999998, 4.7214999999999998, 4.7214999999999998, 4.7214999999999998, 4.7214999999999998, 4.7214999999999998, 4.7214999999999998, 4.7214999999999998, 4.7214999999999998, 4.7214999999999998, 4.7214999999999998, 4.7214999999999998, 4.7214999999999998, 4.7214999999999998, 4.7214999999999998, 4.7214999999999998, 4.7214999999999998, 4.7214999999999998, 4.7214999999999998, 4.7214999999999998, 4.7214999999999998, 4.7214999999999998, 4.7214999999999998, 4.7214999999999998, 4.7214999999999998, 4.7214999999999998, 4.7214999999999998, 4.7214999999999998, 4.7214999999999998, 4.7156000000000002, 4.7163000000000004, 4.7176, 4.7176, 4.7176, 4.7176, 4.7176, 4.7176, 4.7176, 4.7176, 4.7176, 4.7176, 4.7176, 4.7176, 4.6532, 4.4310999999999998, 4.5707000000000004, 4.5324, 4.3540000000000001, 4.4809999999999999, 4.4263000000000003, 4.5, 4.4084000000000003, 4.4653999999999998, 4.5101000000000004, 4.0921000000000003, 4.0507999999999997, 4.1923000000000004, 4.1582999999999997, 4.0824999999999996, 4.2714999999999996, 3.8599000000000001, 3.9874999999999998, 4.3562000000000003, 3.6029, 4.2191999999999998, 3.8464, 3.6907999999999999, 3.8239000000000001, 3.5579999999999998, 3.9177, 3.7524000000000002, 3.8209, 3.9388999999999998, 4.0316000000000001, 3.9777999999999998, 3.9535, 3.6074000000000002, 3.6941000000000002, 3.7852999999999999, 3.7526000000000002, 3.9167000000000001, 3.7018, 3.2317999999999998, 2.7522000000000002, 1.5022, 0.90649999999999997, 1.4191, 0.90490000000000004, -0.27050000000000002, 4.8693, 4.8693, 4.8693, 4.8693, 4.8693, 4.8693, 4.8693, 4.8693, 4.8693, 4.8693, 4.8693, 4.8693, 4.8693, 4.8693, 4.8693, 4.8693, 4.8693, 4.8693, 4.8693, 4.8693, 4.8693, 4.8693, 4.8693, 4.8693, 4.8693, 4.8693, 4.8693, 4.7366999999999999, 4.7160000000000002, 4.6473000000000004, 4.5255000000000001, 4.4554999999999998, 3.9569999999999999, 4.2221000000000002, 3.8613, 4.5384000000000002, 4.1718000000000002, 4.3013000000000003, 3.9723000000000002, 4.2839, 4.4249000000000001, 4.2648000000000001, 4.3429000000000002, 4.0105000000000004, 3.9422000000000001, 4.3339999999999996, 4.2835000000000001, 4.2089999999999996, 3.9615999999999998, 3.6177999999999999, 4.0827999999999998, 4.0547000000000004, 3.9952999999999999, 3.9083000000000001, 3.7343000000000002, 4.4292999999999996, 4.4695, 3.5337999999999998, 3.9998, 3.9826999999999999, 3.677, 3.8839000000000001, 3.9228000000000001, 3.0813000000000001, 3.3599999999999999, 3.8203, 3.4514, 3.5068000000000001, 3.7271999999999998, 2.5926999999999998, 0.1338, 0.17660000000000001, -0.1996, 1.0142, 0.78369999999999995, 1.2635000000000001, 0.6663, 4.7904999999999998, 4.7904999999999998, 4.7904999999999998, 4.7904999999999998, 4.7904999999999998, 4.7904999999999998, 4.7904999999999998, 4.7904999999999998, 4.7904999999999998, 4.7904999999999998, 4.7904999999999998, 4.7904999999999998, 4.7904999999999998, 4.7904999999999998, 4.7904999999999998, 4.7904999999999998, 4.7904999999999998, 4.7904999999999998, 4.7904999999999998, 4.7904999999999998, 4.7904999999999998, 4.7904999999999998, 4.7904999999999998, 4.7904999999999998, 4.7904999999999998, 4.7904999999999998, 4.7904999999999998, 4.7161999999999997, 4.6822999999999997, 4.6578999999999997, 4.5648999999999997, 4.2013999999999996, 4.4226999999999999, 4.0761000000000003, 4.1631, 4.2251000000000003, 4.4230999999999998, 4.2836999999999996, 3.9478, 4.1931000000000003, 4.4687999999999999, 4.0711000000000004, 4.3746999999999998, 4.4419000000000004, 3.7763, 3.9655999999999998, 3.9135, 4.0094000000000003, 4.4257999999999997, 4.2031000000000001, 3.7610999999999999, 4.1308999999999996, 4.0671999999999997, 4.1341999999999999, 3.9152, 4.4469000000000003, 4.0430999999999999, 3.7711999999999999, 4.1749000000000001, 3.5828000000000002, 3.3256000000000001, 4.0182000000000002, 3.7517999999999998, 3.3395000000000001, 3.8586, 3.8647999999999998, 4.0418000000000003, 3.6168999999999998, 3.6261000000000001, 2.9337, 0.98629999999999995, 1.8435999999999999, 1.5081, 0.1951, 2.2204000000000002, 1.3394999999999999, 4.8215000000000003, 4.8215000000000003, 4.8215000000000003, 4.8215000000000003, 4.8215000000000003, 4.8215000000000003, 4.8215000000000003, 4.8215000000000003, 4.8215000000000003, 4.8215000000000003, 4.8215000000000003, 4.8215000000000003, 4.8215000000000003, 4.8215000000000003, 4.8215000000000003, 4.8215000000000003, 4.8215000000000003, 4.8215000000000003, 4.8215000000000003, 4.8215000000000003, 4.8215000000000003, 4.8215000000000003, 4.8215000000000003, 4.8215000000000003, 4.8215000000000003, 4.8215000000000003, 4.8215000000000003, 4.8215000000000003, 4.8215000000000003, 4.8215000000000003, 4.8155000000000001, 4.8155000000000001, 4.8155000000000001, 4.8155000000000001, 4.8155000000000001, 4.8162000000000003, 4.8174999999999999, 4.8174999999999999, 4.8174999999999999, 4.7306999999999997, 4.6904000000000003, 4.6638000000000002, 4.5301999999999998, 4.3849999999999998, 4.3643999999999998, 4.5365000000000002, 4.0667, 4.4199999999999999, 4.5892999999999997, 4.3518999999999997, 4.2308000000000003, 4.1513999999999998, 4.3898999999999999, 4.3875999999999999, 4.6342999999999996, 4.6929999999999996, 4.4119999999999999, 4.0197000000000003, 4.4073000000000002, 4.1422999999999996, 4.1321000000000003, 4.0982000000000003, 3.9929999999999999, 4.1407999999999996, 4.1231999999999998, 4.0552000000000001, 4.0454999999999997, 3.7839999999999998, 3.9582000000000002, 3.6019000000000001, 3.9786999999999999, 3.9363999999999999, 3.7787000000000002, 3.6091000000000002, 4.0354999999999999, 3.1507999999999998, 3.0472000000000001, 3.6623999999999999, 3.7778999999999998, 3.4866000000000001, 1.0123, 3.5421, 2.2238000000000002, 1.643, 0.80269999999999997, 0.085099999999999995, 4.9534000000000002, 4.9534000000000002, 4.9534000000000002, 4.9534000000000002, 4.9534000000000002, 4.9534000000000002, 4.9534000000000002, 4.9534000000000002, 4.9534000000000002, 4.9534000000000002, 4.9534000000000002, 4.9534000000000002, 4.9534000000000002, 4.9534000000000002, 4.9534000000000002, 4.9534000000000002, 4.9534000000000002, 4.9534000000000002, 4.9534000000000002, 4.9534000000000002, 4.9534000000000002, 4.9534000000000002, 4.9534000000000002, 4.9534000000000002, 4.9534000000000002, 4.9534000000000002, 4.9534000000000002, 4.9534000000000002, 4.9534000000000002, 4.9534000000000002, 4.9467999999999996, 4.9470000000000001, 4.9470000000000001, 4.9470000000000001, 4.9470000000000001, 4.9470000000000001, 4.9470000000000001, 4.9474, 4.9481000000000002, 4.9493999999999998, 4.9493999999999998, 4.9493999999999998, 4.9493999999999998, 4.9493999999999998, 4.9493999999999998, 4.9493999999999998, 4.9493999999999998, 4.9493999999999998, 4.9493999999999998, 4.9493999999999998, 4.9493999999999998, 4.9493999999999998, 4.9493999999999998, 4.8745000000000003, 4.8352000000000004, 4.6844999999999999, 4.7995000000000001, 4.7881999999999998, 4.7881999999999998, 4.3525999999999998, 4.5483000000000002, 4.4184000000000001, 4.4804000000000004, 4.6878000000000002, 4.4747000000000003, 4.5426000000000002, 4.3402000000000003, 4.7259000000000002, 4.4810999999999996, 4.2126000000000001, 4.0929000000000002, 4.3799999999999999, 4.7099000000000002, 4.0152000000000001, 3.9731999999999998, 3.6476000000000002, 3.9011999999999998, 3.931, 3.9079000000000002, 4.0941999999999998, 3.7387000000000001, 3.5973000000000002, 3.5390000000000001, 3.4868000000000001, 4.3509000000000002, 3.7206999999999999, 3.7561, 3.6654, 3.4308999999999998, 4.0640999999999998, 3.3917000000000002, 3.7616999999999998, 3.2376, 1.7979000000000001, 1.5980000000000001, 3.0575999999999999, 3.4944000000000002, -0.0785, 0.66379999999999995, -0.1593, 4.9156000000000004, 4.9156000000000004, 4.9156000000000004, 4.9156000000000004, 4.9156000000000004, 4.9156000000000004, 4.9156000000000004, 4.9156000000000004, 4.9156000000000004, 4.9156000000000004, 4.9156000000000004, 4.9156000000000004, 4.9156000000000004, 4.9156000000000004, 4.9156000000000004, 4.9156000000000004, 4.9156000000000004, 4.9156000000000004, 4.9156000000000004, 4.9156000000000004, 4.9116, 4.9116, 4.9116, 4.9089999999999998, 4.8803999999999998, 4.7830000000000004, 4.7148000000000003, 4.6914999999999996, 4.6473000000000004, 4.6405000000000003, 4.6399999999999997, 4.5235000000000003, 4.5045999999999999, 4.3455000000000004, 4.2857000000000003, 4.3201999999999998, 4.3399000000000001, 4.5038999999999998, 4.1040999999999999, 3.7519, 3.8736999999999999, 3.8995000000000002, 4.0833000000000004, 4.0168999999999997, 4.351, 4.3018000000000001, 4.4988999999999999, 4.0328999999999997, 4.2035, 3.8773, 3.9567999999999999, 3.9716, 4.2942, 4.3083999999999998, 4.0140000000000002, 3.9744000000000002, 3.0979000000000001, 3.8717999999999999, 3.8921000000000001, 2.9636, 2.9293, 3.7225999999999999, 2.3317000000000001, 4.0323000000000002, 1.3271999999999999, 3.9041999999999999, 3.9830000000000001, 4.7904999999999998, 4.7904999999999998, 4.7904999999999998, 4.7904999999999998, 4.7904999999999998, 4.7904999999999998, 4.7904999999999998, 4.7904999999999998, 4.7904999999999998, 4.7904999999999998, 4.7904999999999998, 4.7904999999999998, 4.7904999999999998, 4.7904999999999998, 4.7904999999999998, 4.7904999999999998, 4.7904999999999998, 4.7904999999999998, 4.7904999999999998, 4.7904999999999998, 4.7904999999999998, 4.7904999999999998, 4.7904999999999998, 4.7904999999999998, 4.7904999999999998, 4.7904999999999998, 4.7904999999999998, 4.7904999999999998, 4.7904999999999998, 4.7904999999999998, 4.7866, 4.7866, 4.7533000000000003, 4.7516999999999996, 4.6308999999999996, 4.5277000000000003, 4.4230999999999998, 4.3163, 4.5555000000000003, 4.1783000000000001, 4.1840999999999999, 4.5056000000000003, 4.5704000000000002, 4.5598999999999998, 4.6459999999999999, 4.0811000000000002, 4.5591999999999997, 4.1731999999999996, 4.2323000000000004, 4.0720999999999998, 3.7524000000000002, 4.0199999999999996, 3.9739, 4.3434999999999997, 4.2789000000000001, 4.0288000000000004, 4.3131000000000004, 4.5065, 4.0545999999999998, 4.2812000000000001, 4.1647999999999996, 3.8860999999999999, 3.8999000000000001, 4.1147999999999998, 3.7688999999999999, 4.1135999999999999, 4.1485000000000003, 3.8976000000000002, 3.3679999999999999, 3.5952000000000002, 3.5617000000000001, 3.5266000000000002, 3.7038000000000002, 3.5108999999999999, 4.0393999999999997, 3.1234999999999999, 3.6532, 4.0026999999999999, 3.3098000000000001, 1.0694999999999999, 0.38550000000000001, 2.4268000000000001, 1.1367, 4.758, 4.758, 4.758, 4.758, 4.758, 4.758, 4.758, 4.758, 4.758, 4.758, 4.758, 4.758, 4.758, 4.758, 4.758, 4.758, 4.758, 4.758, 4.758, 4.7539999999999996, 4.7539999999999996, 4.7539999999999996, 4.7519999999999998, 4.6897000000000002, 4.6638999999999999, 4.6468999999999996, 4.5797999999999996, 4.5635000000000003, 4.5503999999999998, 4.5359999999999996, 4.5343999999999998, 4.4581999999999997, 4.4987000000000004, 4.2746000000000004, 4.3090000000000002, 4.3086000000000002, 4.4542999999999999, 4.3087999999999997, 4.3087, 4.3072999999999997, 4.3072999999999997, 4.2920999999999996, 4.2667999999999999, 4.3437000000000001, 4.2236000000000002, 4.1401000000000003, 4.3304999999999998, 4.3166000000000002, 4.1026999999999996, 3.9857, 4.3056999999999999, 4.0587999999999997, 3.8967999999999998, 4.1653000000000002, 3.9983, 3.9380999999999999, 3.9413999999999998, 3.5103, 3.8433000000000002, 3.6652, 3.9037000000000002, 3.7279, 3.5228999999999999, 3.8235000000000001, 3.8149000000000002, 3.7067000000000001, 3.0341, 3.2557999999999998, 1.8303, 2.6055000000000001, 4.8898999999999999, 4.8898999999999999, 4.8898999999999999, 4.8898999999999999, 4.8898999999999999, 4.8898999999999999, 4.8898999999999999, 4.8898999999999999, 4.8898999999999999, 4.8898999999999999, 4.8898999999999999, 4.8898999999999999, 4.8898999999999999, 4.8898999999999999, 4.8898999999999999, 4.8898999999999999, 4.8898999999999999, 4.8898999999999999, 4.8898999999999999, 4.8898999999999999, 4.8898999999999999, 4.8898999999999999, 4.8898999999999999, 4.8898999999999999, 4.8132999999999999, 4.6951999999999998, 4.6679000000000004, 4.6619999999999999, 4.6147999999999998, 4.6147999999999998, 4.6134000000000004, 4.6070000000000002, 4.5171999999999999, 4.5148999999999999, 4.3258999999999999, 4.3221999999999996, 4.3166000000000002, 4.2625999999999999, 3.7602000000000002, 3.9358, 4.1784999999999997, 4.4055999999999997, 3.9624000000000001, 4.3677000000000001, 4.1455000000000002, 4.3056999999999999, 3.8887999999999998, 4.2392000000000003, 3.9230999999999998, 4.2016, 4.2363999999999997, 4.3376000000000001, 4.1852999999999998, 4.4663000000000004, 3.7378999999999998, 4.1558000000000002, 4.2099000000000002, 4.0791000000000004, 4.5225, 4.0113000000000003, 3.4468999999999999, 3.9935, 3.4083999999999999, 2.8001999999999998, 2.2385000000000002, 2.1154000000000002, 2.7915999999999999, 2.5783999999999998, 2.2004999999999999, 2.8772000000000002, 0.0061999999999999998, 0.61409999999999998, 4.8559000000000001, 4.8559000000000001, 4.8559000000000001, 4.8559000000000001, 4.8559000000000001, 4.8559000000000001, 4.8559000000000001, 4.8559000000000001, 4.8559000000000001, 4.8559000000000001, 4.8559000000000001, 4.8559000000000001, 4.8559000000000001, 4.8559000000000001, 4.8559000000000001, 4.8559000000000001, 4.8559000000000001, 4.8559000000000001, 4.8559000000000001, 4.8559000000000001, 4.8559000000000001, 4.8559000000000001, 4.8559000000000001, 4.8559000000000001, 4.8559000000000001, 4.8559000000000001, 4.8559000000000001, 4.8559000000000001, 4.8559000000000001, 4.8559000000000001, 4.8498999999999999, 4.8498999999999999, 4.8498999999999999, 4.8506, 4.8506, 4.8506, 4.8506, 4.8506, 4.8518999999999997, 4.8518999999999997, 4.8518999999999997, 4.8518999999999997, 4.8518999999999997, 4.8518999999999997, 4.8518999999999997, 4.8518999999999997, 4.8518999999999997, 4.8518999999999997, 4.8518999999999997, 4.8518999999999997, 4.8518999999999997, 4.8518999999999997, 4.8518999999999997, 4.8518999999999997, 4.8518999999999997, 4.8518999999999997, 4.8518999999999997, 4.8518999999999997, 4.8518999999999997, 4.8518999999999997, 4.7567000000000004, 4.7590000000000003, 4.7100999999999997, 4.7465999999999999, 4.3460000000000001, 4.4554999999999998, 4.6498999999999997, 4.2497999999999996, 4.5513000000000003, 4.3273999999999999, 4.5711000000000004, 4.5711000000000004, 4.3940999999999999, 4.6661000000000001, 4.5712000000000002, 4.2573999999999996, 4.5227000000000004, 3.6932, 4.1994999999999996, 4.1153000000000004, 4.2683, 4.6996000000000002, 4.2683999999999997, 4.2683999999999997, 4.2449000000000003, 3.6446000000000001, 4.3673999999999999, 4.1590999999999996, 4.4455999999999998, 4.0007000000000001, 4.2512999999999996, 4.2991000000000001, 4.5163000000000002, 4.2412999999999998, 4.3494000000000002, 3.7153999999999998, 3.6638000000000002, 3.3845000000000001, 3.4096000000000002, 3.4238, 4.2644000000000002, 4.2687999999999997, 3.1575000000000002, 1.2171000000000001, 0.1651, 1.5336000000000001, -0.3997, 4.9922000000000004, 4.9922000000000004, 4.9922000000000004, 4.9922000000000004, 4.9922000000000004, 4.9922000000000004, 4.9922000000000004, 4.9922000000000004, 4.9922000000000004, 4.9882999999999997, 4.8596000000000004, 4.7409999999999997, 4.7382, 4.7172000000000001, 4.7172000000000001, 4.7172000000000001, 4.7172000000000001, 4.7172000000000001, 4.7172000000000001, 4.7172000000000001, 4.7172000000000001, 4.7172000000000001, 4.7172000000000001, 4.7172000000000001, 4.7172000000000001, 4.7172000000000001, 4.7172000000000001, 4.7172000000000001, 4.7172000000000001, 4.7172000000000001, 4.7092999999999998, 4.7092999999999998, 4.7119999999999997, 4.7119999999999997, 4.7119999999999997, 4.5186999999999999, 4.5224000000000002, 4.6506999999999996, 4.6035000000000004, 4.5148999999999999, 4.6520000000000001, 4.5015999999999998, 4.3604000000000003, 4.3387000000000002, 4.2519999999999998, 4.335, 4.3691000000000004, 4.2625000000000002, 4.3026999999999997, 4.3105000000000002, 4.2815000000000003, 3.9312999999999998, 4.4596999999999998, 3.8235000000000001, 3.9815999999999998, 4.3611000000000004, 3.8896999999999999, 3.9678, 3.6015000000000001, 4.2314999999999996, 4.3746999999999998, 4.2087000000000003, 4.3155999999999999, 3.9154, 3.8546999999999998, 4.1334999999999997, 3.9588000000000001, 3.5065, 3.9573999999999998, 3.8925999999999998, 3.3643999999999998, 3.8487, 2.4073000000000002, 2.3647999999999998, 2.9327000000000001, 1.0510999999999999, 2.1089000000000002, 1.1715, 2.3603000000000001, -0.55020000000000002, 0.78069999999999995, 5.0290999999999997, 5.0290999999999997, 5.0290999999999997, 5.0290999999999997, 5.0290999999999997, 5.0290999999999997, 5.0290999999999997, 5.0290999999999997, 5.0290999999999997, 5.0290999999999997, 5.0290999999999997, 5.0290999999999997, 5.0290999999999997, 5.0290999999999997, 5.0290999999999997, 5.0290999999999997, 5.0290999999999997, 5.0290999999999997, 5.0290999999999997, 5.0290999999999997, 5.0290999999999997, 5.0290999999999997, 5.0290999999999997, 5.0290999999999997, 5.0290999999999997, 5.0290999999999997, 5.0290999999999997, 5.0290999999999997, 5.0290999999999997, 5.0290999999999997, 5.0251000000000001, 4.9505999999999997, 4.8894000000000002, 4.5351999999999997, 4.5304000000000002, 4.6757999999999997, 4.8479999999999999, 4.8479999999999999, 4.0587999999999997, 4.0434000000000001, 4.0522999999999998, 4.3158000000000003, 4.0605000000000002, 4.4722999999999997, 4.3959999999999999, 4.7156000000000002, 3.9462000000000002, 4.3832000000000004, 4.4882999999999997, 4.0092999999999996, 3.9255, 4.4970999999999997, 4.5223000000000004, 4.2041000000000004, 3.6545000000000001, 4.8964999999999996, 4.3574999999999999, 4.6036000000000001, 3.9821, 4.5072000000000001, 4.3402000000000003, 3.8176999999999999, 4.1725000000000003, 3.6589999999999998, 4.0143000000000004, 4.1395, 3.7134, 3.7320000000000002, 4.1555999999999997, 3.5423, 3.7806999999999999, 3.8370000000000002, 0.87209999999999999, 2.0773999999999999, 2.5621999999999998, 0.94789999999999996, 1.7018, 0.096000000000000002, 0.31219999999999998, 0.44450000000000001, 0.86450000000000005, 4.7973999999999997, 4.7973999999999997, 4.7973999999999997, 4.7973999999999997, 4.7973999999999997, 4.7973999999999997, 4.7973999999999997, 4.7973999999999997, 4.7973999999999997, 4.7973999999999997, 4.7973999999999997, 4.7973999999999997, 4.7973999999999997, 4.7973999999999997, 4.7973999999999997, 4.7973999999999997, 4.7973999999999997, 4.7973999999999997, 4.7973999999999997, 4.7973999999999997, 4.7973999999999997, 4.7973999999999997, 4.7973999999999997, 4.7973999999999997, 4.7973999999999997, 4.7973999999999997, 4.7973999999999997, 4.7973999999999997, 4.7973999999999997, 4.7973999999999997, 4.7910000000000004, 4.7910000000000004, 4.7914000000000003, 4.7914000000000003, 4.7920999999999996, 4.7920999999999996, 4.7920999999999996, 4.7920999999999996, 4.7934000000000001, 4.7934000000000001, 4.7934000000000001, 4.7934000000000001, 4.6881000000000004, 4.3912000000000004, 4.4240000000000004, 4.7081, 4.7079000000000004, 4.1832000000000003, 4.2058999999999997, 4.6086999999999998, 4.2659000000000002, 4.6013999999999999, 4.6688999999999998, 4.3855000000000004, 4.3864999999999998, 4.3612000000000002, 4.2138999999999998, 4.1615000000000002, 3.923, 4.0938999999999997, 3.9085000000000001, 3.9929000000000001, 4.0622999999999996, 3.9843999999999999, 4.0328999999999997, 4.2354000000000003, 3.8580999999999999, 4.2473999999999998, 4.2302999999999997, 4.0228999999999999, 4.2599999999999998, 4.2911999999999999, 4.3818999999999999, 4.1665999999999999, 4.0118, 4.1840999999999999, 4.3304999999999998, 3.7765, 3.8658999999999999, 3.9887000000000001, 3.8313999999999999, 3.7844000000000002, 3.927, 3.7978999999999998, 3.3121999999999998, 2.1011000000000002, 3.1640999999999999, 1.6740999999999999, 1.8022, 0.31040000000000001, 1.1674, 4.8284000000000002, 4.8284000000000002, 4.8284000000000002, 4.8284000000000002, 4.8284000000000002, 4.8284000000000002, 4.8284000000000002, 4.8284000000000002, 4.8284000000000002, 4.8284000000000002, 4.8284000000000002, 4.8284000000000002, 4.8284000000000002, 4.8284000000000002, 4.8284000000000002, 4.8284000000000002, 4.8284000000000002, 4.8284000000000002, 4.8284000000000002, 4.8284000000000002, 4.8284000000000002, 4.8284000000000002, 4.8284000000000002, 4.8284000000000002, 4.8284000000000002, 4.8284000000000002, 4.8284000000000002, 4.8284000000000002, 4.8284000000000002, 4.8284000000000002, 4.8220000000000001, 4.8220000000000001, 4.8224, 4.8231000000000002, 4.8231000000000002, 4.8231000000000002, 4.8231000000000002, 4.8231000000000002, 4.8231000000000002, 4.8231000000000002, 4.8231000000000002, 4.8231000000000002, 4.8231000000000002, 4.8228999999999997, 4.8243999999999998, 4.8243999999999998, 4.8243999999999998, 4.8243999999999998, 4.8243999999999998, 4.8243999999999998, 4.8243999999999998, 4.8243999999999998, 4.8243999999999998, 4.8243999999999998, 4.8243999999999998, 4.8243999999999998, 4.8243999999999998, 4.8243999999999998, 4.8243999999999998, 4.8243999999999998, 4.6787999999999998, 4.7454000000000001, 4.5941000000000001, 4.5194000000000001, 4.6471999999999998, 4.3529999999999998, 4.1346999999999996, 4.2087000000000003, 4.3615000000000004, 4.4290000000000003, 4.6710000000000003, 4.4375, 4.2568999999999999, 4.4230999999999998, 4.5598999999999998, 4.4710999999999999, 3.9885000000000002, 4.4237000000000002, 4.2408999999999999, 4.4744000000000002, 4.3118999999999996, 4.1924000000000001, 4.1746999999999996, 4.3547000000000002, 3.7338, 4.1630000000000003, 3.738, 3.9378000000000002, 4.2927999999999997, 3.9144000000000001, 4.2183000000000002, 3.9293, 3.9228999999999998, 4.0728999999999997, 4.0334000000000003, 3.5299999999999998, 3.4903, 3.004, 2.1453000000000002, 3.4077000000000002, 4.0071000000000003, 0.95479999999999998, 4.8780000000000001, 4.8780000000000001, 4.8780000000000001, 4.8780000000000001, 4.8780000000000001, 4.8780000000000001, 4.8780000000000001, 4.8780000000000001, 4.8780000000000001, 4.8780000000000001, 4.8780000000000001, 4.8780000000000001, 4.8780000000000001, 4.8780000000000001, 4.8780000000000001, 4.8780000000000001, 4.8780000000000001, 4.8780000000000001, 4.8780000000000001, 4.8780000000000001, 4.8780000000000001, 4.8780000000000001, 4.8780000000000001, 4.8780000000000001, 4.8780000000000001, 4.8780000000000001, 4.8780000000000001, 4.8780000000000001, 4.8780000000000001, 4.8780000000000001, 4.8714000000000004, 4.8727, 4.8741000000000003, 4.5827, 4.5743, 4.5731999999999999, 4.5929000000000002, 4.4584999999999999, 4.1818, 4.3026, 4.3314000000000004, 4.3400999999999996, 4.3074000000000003, 4.3945999999999996, 4.2343999999999999, 4.6784999999999997, 4.2260999999999997, 4.3662999999999998, 4.0362999999999998, 4.3399000000000001, 4.1858000000000004, 4.3818000000000001, 4.6718999999999999, 3.9091, 4.6688999999999998, 4.2003000000000004, 3.7765, 4.6970000000000001, 4.2182000000000004, 4.2178000000000004, 4.3529, 3.7227999999999999, 4.3693, 3.7557999999999998, 3.7877000000000001, 3.9933000000000001, 3.6006, 3.661, 3.8845000000000001, 3.2953000000000001, 3.6922000000000001, 1.9269000000000001, 1.9561999999999999, 0.56999999999999995, 1.5263, 2.6120999999999999, 1.8247, 5.2004000000000001, 5.2004000000000001, 5.2004000000000001, 5.2004000000000001, 5.2004000000000001, 5.2004000000000001, 5.2004000000000001, 5.2004000000000001, 5.2004000000000001, 5.2004000000000001, 5.2004000000000001, 5.2004000000000001, 5.2004000000000001, 5.2004000000000001, 5.2004000000000001, 5.2004000000000001, 5.2004000000000001, 5.2004000000000001, 5.2004000000000001, 5.2004000000000001, 5.2004000000000001, 5.2004000000000001, 5.2004000000000001, 5.2004000000000001, 5.2004000000000001, 5.2004000000000001, 5.2004000000000001, 5.2004000000000001, 5.2004000000000001, 5.2004000000000001, 5.1951999999999998, 5.1951999999999998, 5.1965000000000003, 5.1965000000000003, 5.1965000000000003, 5.1965000000000003, 5.1304999999999996, 5.1111000000000004, 4.8662000000000001, 4.8587999999999996, 4.7218999999999998, 5.056, 4.8691000000000004, 4.5911999999999997, 4.5937000000000001, 4.6830999999999996, 4.7252999999999998, 4.4463999999999997, 4.7728000000000002, 4.9523000000000001, 4.0027999999999997, 4.8406000000000002, 4.2394999999999996, 4.0609000000000002, 4.9169999999999998, 4.2826000000000004, 4.3639999999999999, 4.9507000000000003, 4.5328999999999997, 4.6238999999999999, 4.0633999999999997, 4.2130000000000001, 4.0307000000000004, 3.9201000000000001, 4.1365999999999996, 3.8757999999999999, 4.2225000000000001, 4.3567999999999998, 3.9864999999999999, 4.4861000000000004, 3.2949999999999999, 4.1772, 4.3205, 3.7738, 4.0810000000000004, 3.7761, 3.7378, 2.5352999999999999, 1.8381000000000001, 3.8121999999999998, 1.0717000000000001, 1.2572000000000001, 5.0892999999999997, 5.0892999999999997, 5.0892999999999997, 5.0892999999999997, 5.0892999999999997, 5.0892999999999997, 5.0892999999999997, 5.0892999999999997, 5.0892999999999997, 5.0892999999999997, 5.0892999999999997, 5.0892999999999997, 5.0892999999999997, 5.0892999999999997, 5.0892999999999997, 5.0892999999999997, 5.0892999999999997, 5.0892999999999997, 5.0892999999999997, 5.0892999999999997, 5.0892999999999997, 5.0892999999999997, 5.0892999999999997, 5.0892999999999997, 5.0892999999999997, 5.0, 4.9566999999999997, 4.9082999999999997, 4.8947000000000003, 4.8947000000000003, 4.8296999999999999, 4.7636000000000003, 4.1276999999999999, 4.5488, 4.6485000000000003, 4.1757, 4.4789000000000003, 4.1500000000000004, 4.7949000000000002, 4.1661999999999999, 4.4048999999999996, 4.8518999999999997, 4.2370000000000001, 4.0214999999999996, 4.1311, 4.1631999999999998, 4.1657999999999999, 4.0357000000000003, 4.2748999999999997, 4.6444999999999999, 4.0632000000000001, 4.1959, 3.8883000000000001, 4.3198999999999996, 3.8902000000000001, 4.5210999999999997, 4.3654000000000002, 4.3920000000000003, 4.2683999999999997, 3.7355, 4.2213000000000003, 3.9457, 4.2317, 4.2497999999999996, 3.8618000000000001, 4.0887000000000002, 4.0395000000000003, 2.0503, 0.97950000000000004, 2.3546, 1.4356, 1.1762999999999999, -0.014800000000000001, -0.50529999999999997, 1.6560999999999999, 4.9535999999999998, 4.9535999999999998, 4.9535999999999998, 4.9535999999999998, 4.9535999999999998, 4.9535999999999998, 4.9535999999999998, 4.9535999999999998, 4.9535999999999998, 4.9535999999999998, 4.9535999999999998, 4.9535999999999998, 4.9535999999999998, 4.9535999999999998, 4.9535999999999998, 4.9535999999999998, 4.9535999999999998, 4.9535999999999998, 4.9535999999999998, 4.9535999999999998, 4.9535999999999998, 4.9535999999999998, 4.9535999999999998, 4.9535999999999998, 4.9535999999999998, 4.9535999999999998, 4.9535999999999998, 4.9535999999999998, 4.9535999999999998, 4.9535999999999998, 4.9496000000000002, 4.9496000000000002, 4.8228, 4.4314999999999998, 4.6413000000000002, 4.7241, 4.4226999999999999, 4.5019, 4.6336000000000004, 4.4503000000000004, 4.5179, 4.4108999999999998, 4.3841999999999999, 4.2457000000000003, 4.6375999999999999, 4.4096000000000002, 4.4092000000000002, 4.1224999999999996, 4.0900999999999996, 4.0627000000000004, 4.2031999999999998, 4.101, 4.4212999999999996, 4.6001000000000003, 4.5667, 4.4588000000000001, 4.2201000000000004, 4.2321, 4.5663999999999998, 4.4756, 4.3437999999999999, 4.3364000000000003, 4.0128000000000004, 3.9045000000000001, 4.1128, 3.9537, 3.9870999999999999, 3.9373, 4.0446999999999997, 3.8130000000000002, 3.4409999999999998, 3.8671000000000002, 3.5739999999999998, 4.0289999999999999, 3.1122000000000001, 4.8883999999999999, 4.8883999999999999, 4.8883999999999999, 4.8883999999999999, 4.8883999999999999, 4.8883999999999999, 4.8883999999999999, 4.8883999999999999, 4.8883999999999999, 4.8883999999999999, 4.8883999999999999, 4.8883999999999999, 4.8883999999999999, 4.8883999999999999, 4.8883999999999999, 4.8883999999999999, 4.8883999999999999, 4.8883999999999999, 4.8883999999999999, 4.8883999999999999, 4.8883999999999999, 4.8883999999999999, 4.8883999999999999, 4.8883999999999999, 4.8883999999999999, 4.8883999999999999, 4.8883999999999999, 4.8883999999999999, 4.8883999999999999, 4.8883999999999999, 4.8811, 4.8830999999999998, 4.8845000000000001, 4.8845000000000001, 4.8845000000000001, 4.8845000000000001, 4.7934999999999999, 4.5899000000000001, 4.7436999999999996, 4.5368000000000004, 4.7382, 4.7377000000000002, 4.4743000000000004, 4.7061999999999999, 4.3346999999999998, 4.6032000000000002, 4.7991000000000001, 4.3947000000000003, 4.4814999999999996, 4.6003999999999996, 4.6406000000000001, 4.6219000000000001, 4.4278000000000004, 4.2274000000000003, 4.4352, 4.6787000000000001, 4.7599999999999998, 4.7599999999999998, 4.4596, 4.7229000000000001, 4.4390999999999998, 4.1981999999999999, 4.5628000000000002, 4.5628000000000002, 4.2106000000000003, 4.2272999999999996, 4.2480000000000002, 4.3061999999999996, 4.1266999999999996, 4.1062000000000003, 4.3453999999999997, 4.1383000000000001, 4.0185000000000004, 4.3594999999999997, 3.8788, 4.3605999999999998, 4.4034000000000004, 4.1180000000000003, 3.8715000000000002, 3.9613999999999998, 3.7008000000000001, 3.6920999999999999, 3.6808000000000001, 4.0991, 3.7793000000000001, 3.6901999999999999, 3.8603999999999998, 3.6084000000000001, 3.6204999999999998, 1.7767999999999999, 0.59240000000000004, 0.62490000000000001, 1.5065, 0.90180000000000005, 5.1666999999999996, 5.1666999999999996, 5.1666999999999996, 5.1666999999999996, 5.1666999999999996, 5.1666999999999996, 5.1666999999999996, 5.1666999999999996, 5.1666999999999996, 5.1666999999999996, 5.1666999999999996, 5.1666999999999996, 5.1666999999999996, 5.1666999999999996, 5.1666999999999996, 5.1666999999999996, 5.1666999999999996, 5.1666999999999996, 5.1666999999999996, 5.1666999999999996, 5.1666999999999996, 5.1666999999999996, 5.1666999999999996, 5.1666999999999996, 5.1666999999999996, 5.1666999999999996, 5.1666999999999996, 5.1627999999999998, 5.1627999999999998, 5.1627999999999998, 4.7344999999999997, 5.0319000000000003, 4.5284000000000004, 4.7325999999999997, 4.6322999999999999, 4.2523999999999997, 4.1454000000000004, 4.8110999999999997, 4.2141000000000002, 4.4432999999999998, 4.5960999999999999, 4.4869000000000003, 4.516, 4.2781000000000002, 4.8833000000000002, 4.5149999999999997, 4.1200999999999999, 4.5147000000000004, 4.2619999999999996, 3.9832000000000001, 4.7493999999999996, 5.0340999999999996, 5.0340999999999996, 5.0340999999999996, 4.5911, 4.6641000000000004, 4.6627000000000001, 4.2832999999999997, 3.9007000000000001, 4.0298999999999996, 4.0469999999999997, 3.9975999999999998, 4.2629000000000001, 4.3574000000000002, 3.871, 3.8481999999999998, 3.9178999999999999, 4.1253000000000002, 3.4649999999999999, 3.4857, 0.83430000000000004, 1.4817, 0.37880000000000003, 1.1863999999999999, 5.1172000000000004, 5.1172000000000004, 5.1172000000000004, 5.1172000000000004, 5.1172000000000004, 5.1172000000000004, 5.1172000000000004, 5.1172000000000004, 5.1172000000000004, 5.1172000000000004, 5.1172000000000004, 5.1172000000000004, 5.1172000000000004, 5.1172000000000004, 5.1172000000000004, 5.1172000000000004, 5.1172000000000004, 5.1172000000000004, 5.1172000000000004, 5.1172000000000004, 5.1172000000000004, 5.1172000000000004, 5.1172000000000004, 5.1172000000000004, 5.1172000000000004, 5.1172000000000004, 5.1172000000000004, 5.1172000000000004, 5.1172000000000004, 5.1172000000000004, 4.9612999999999996, 4.9900000000000002, 4.9863999999999997, 4.5309999999999997, 4.5251999999999999, 4.9531000000000001, 4.4888000000000003, 4.5296000000000003, 4.6727999999999996, 4.6466000000000003, 4.6814, 4.1045999999999996, 4.3555000000000001, 4.7881, 4.4752000000000001, 4.5331999999999999, 4.2981999999999996, 4.3905000000000003, 4.8334000000000001, 4.5468000000000002, 4.3818000000000001, 4.3936000000000002, 4.4379, 4.8315999999999999, 4.9226999999999999, 4.4489000000000001, 4.2533000000000003, 4.3794000000000004, 4.3723000000000001, 4.1905000000000001, 4.4325999999999999, 4.2572999999999999, 4.0303000000000004, 4.2271000000000001, 3.9693000000000001, 3.7968999999999999, 4.0522999999999998, 3.9813999999999998, 3.5817000000000001, 3.9457, 4.2385999999999999, 4.0690999999999997, 2.8369, 3.9325000000000001, 1.244, 4.1905999999999999, -0.15620000000000001, 0.91900000000000004, 4.9999000000000002, 4.9999000000000002, 4.9999000000000002, 4.9999000000000002, 4.9999000000000002, 4.9999000000000002, 4.9999000000000002, 4.9999000000000002, 4.9999000000000002, 4.9999000000000002, 4.9999000000000002, 4.9999000000000002, 4.9999000000000002, 4.9999000000000002, 4.9999000000000002, 4.9999000000000002, 4.9999000000000002, 4.9999000000000002, 4.9999000000000002, 4.9999000000000002, 4.9999000000000002, 4.9999000000000002, 4.9999000000000002, 4.9999000000000002, 4.9999000000000002, 4.9999000000000002, 4.9999000000000002, 4.9999000000000002, 4.9999000000000002, 4.9999000000000002, 4.9939999999999998, 4.9946000000000002, 4.9946000000000002, 4.9946000000000002, 4.9946000000000002, 4.9946000000000002, 4.9960000000000004, 4.9960000000000004, 4.9960000000000004, 4.9960000000000004, 4.9960000000000004, 4.9960000000000004, 4.9960000000000004, 4.9960000000000004, 4.8898000000000001, 4.9092000000000002, 4.6731999999999996, 4.8624999999999998, 4.9029999999999996, 4.5343, 4.5857999999999999, 4.6298000000000004, 4.7392000000000003, 4.8101000000000003, 4.7149999999999999, 4.7926000000000002, 4.7926000000000002, 4.7019000000000002, 4.8171999999999997, 4.5735000000000001, 4.5267999999999997, 4.3099999999999996, 4.2148000000000003, 4.7183999999999999, 4.4410999999999996, 4.5621, 4.3034999999999997, 4.3803000000000001, 4.3864999999999998, 4.0971000000000002, 3.7850999999999999, 4.5460000000000003, 4.2731000000000003, 4.3357999999999999, 4.2023000000000001, 4.4085999999999999, 4.1365999999999996, 4.2933000000000003, 4.4630000000000001, 4.2164000000000001, 4.1896000000000004, 4.3231999999999999, 3.6766999999999999, 3.956, 3.9708999999999999, 3.9005999999999998, 4.1308999999999996, 4.2770999999999999, 1.2579, 3.4096000000000002, 1.3688, 3.7774999999999999, 0.81379999999999997, 4.9618000000000002, 4.9618000000000002, 4.9618000000000002, 4.9618000000000002, 4.9618000000000002, 4.9618000000000002, 4.9618000000000002, 4.9618000000000002, 4.9618000000000002, 4.9618000000000002, 4.9618000000000002, 4.9618000000000002, 4.9618000000000002, 4.9618000000000002, 4.9618000000000002, 4.9618000000000002, 4.9618000000000002, 4.9618000000000002, 4.9618000000000002, 4.9618000000000002, 4.9618000000000002, 4.9618000000000002, 4.9618000000000002, 4.9618000000000002, 4.9618000000000002, 4.9618000000000002, 4.9618000000000002, 4.9618000000000002, 4.9618000000000002, 4.9618000000000002, 4.9542999999999999, 4.9542999999999999, 4.944, 4.952, 4.9577999999999998, 4.9577999999999998, 4.9577999999999998, 4.9577999999999998, 4.9577999999999998, 4.9577999999999998, 4.9577999999999998, 4.9577999999999998, 4.7323000000000004, 4.8711000000000002, 4.7398999999999996, 4.7398999999999996, 4.7146999999999997, 4.6973000000000003, 4.5787000000000004, 4.6449999999999996, 4.7873000000000001, 4.4150999999999998, 4.8269000000000002, 4.4676999999999998, 4.3556999999999997, 4.4092000000000002, 4.6094999999999997, 4.5247999999999999, 4.5541999999999998, 4.6974, 4.3216999999999999, 4.2728999999999999, 4.2135999999999996, 4.5362999999999998, 4.0728, 4.4123999999999999, 4.5868000000000002, 4.2950999999999997, 4.3030999999999997, 4.3654000000000002, 4.0564999999999998, 4.1840999999999999, 4.0738000000000003, 4.2057000000000002, 3.8180000000000001, 4.2854000000000001, 4.0324999999999998, 3.7170000000000001, 3.7595999999999998, 1.1095999999999999, 4.0717999999999996, 2.6111, 5.0674000000000001, 5.0674000000000001, 5.0674000000000001, 5.0674000000000001, 5.0674000000000001, 5.0674000000000001, 5.0674000000000001, 5.0674000000000001, 5.0674000000000001, 5.0674000000000001, 5.0674000000000001, 5.0674000000000001, 5.0674000000000001, 5.0674000000000001, 5.0674000000000001, 5.0674000000000001, 5.0674000000000001, 5.0674000000000001, 5.0674000000000001, 5.0674000000000001, 5.0674000000000001, 5.0674000000000001, 5.0674000000000001, 5.0674000000000001, 5.0674000000000001, 5.0674000000000001, 5.0674000000000001, 5.0674000000000001, 5.0674000000000001, 5.0674000000000001, 5.0599999999999996, 5.0633999999999997, 5.0633999999999997, 4.9291999999999998, 4.6395999999999997, 4.6146000000000003, 4.6140999999999996, 4.5224000000000002, 4.6193999999999997, 4.6711, 4.4789000000000003, 4.7919, 4.4755000000000003, 4.7816999999999998, 4.2809999999999997, 4.5308000000000002, 4.4328000000000003, 4.6132999999999997, 4.7347000000000001, 4.4265999999999996, 4.6757999999999997, 4.7035, 4.5528000000000004, 4.2347999999999999, 4.4104000000000001, 4.2107999999999999, 4.8864000000000001, 4.6367000000000003, 4.1127000000000002, 4.1157000000000004, 4.1731999999999996, 4.0808, 4.2679, 4.4728000000000003, 4.0673000000000004, 4.2256999999999998, 4.2788000000000004, 3.8767999999999998, 4.2004999999999999, 3.7164000000000001, 3.5491000000000001, 3.8731, 3.9342000000000001, 3.9695999999999998, 0.081299999999999997, 0.66759999999999997, 2.4190999999999998, 0.64170000000000005, 5.1390000000000002, 5.1390000000000002, 5.1390000000000002, 5.1390000000000002, 5.1390000000000002, 5.1390000000000002, 5.1390000000000002, 5.1390000000000002, 5.1390000000000002, 5.1390000000000002, 5.1390000000000002, 5.1390000000000002, 5.1390000000000002, 5.1390000000000002, 5.1390000000000002, 5.1390000000000002, 5.1390000000000002, 5.1390000000000002, 5.1390000000000002, 5.1390000000000002, 5.1390000000000002, 5.1390000000000002, 5.1390000000000002, 5.1390000000000002, 5.1351000000000004, 5.1351000000000004, 5.1351000000000004, 5.0560999999999998, 5.0082000000000004, 5.0064000000000002, 4.9885000000000002, 4.8558000000000003, 4.984, 4.7975000000000003, 4.9945000000000004, 4.9945000000000004, 4.9945000000000004, 4.5255000000000001, 4.3634000000000004, 4.7107999999999999, 4.5995999999999997, 4.5583999999999998, 4.8372000000000002, 4.5523999999999996, 4.9284999999999997, 4.8148999999999997, 4.3982999999999999, 4.5746000000000002, 4.4573, 4.9006999999999996, 4.8526999999999996, 4.1327999999999996, 4.3914999999999997, 4.3963000000000001, 4.4824000000000002, 4.3202999999999996, 4.3518999999999997, 4.2504, 4.1208999999999998, 4.1984000000000004, 4.6894999999999998, 4.2274000000000003, 4.6914999999999996, 4.0392000000000001, 3.9857, 4.2732999999999999, 4.1383999999999999, 4.1105999999999998, 3.4531999999999998, 4.3556999999999997, 3.8347000000000002, 4.0445000000000002, 2.6806999999999999, 2.6686999999999999, 2.3565999999999998, 3.1716000000000002, -0.087800000000000003, 5.1200999999999999, 5.1200999999999999, 5.1200999999999999, 5.1200999999999999, 5.1200999999999999, 5.1200999999999999, 5.1200999999999999, 5.1200999999999999, 5.1200999999999999, 5.1200999999999999, 5.1200999999999999, 5.1200999999999999, 5.1200999999999999, 5.1200999999999999, 5.1200999999999999, 5.1200999999999999, 5.1200999999999999, 5.1200999999999999, 5.1200999999999999, 5.1200999999999999, 5.1200999999999999, 5.1200999999999999, 5.1200999999999999, 5.1200999999999999, 5.1200999999999999, 5.1200999999999999, 5.1200999999999999, 5.1200999999999999, 5.1200999999999999, 5.1200999999999999, 5.1162000000000001, 4.6618000000000004, 4.7393999999999998, 4.5172999999999996, 4.6387, 4.8795000000000002, 4.7945000000000002, 4.6292, 4.9916999999999998, 4.3846999999999996, 4.8357000000000001, 4.7778999999999998, 4.4189999999999996, 4.7328000000000001, 4.4250999999999996, 4.9059999999999997, 4.7401999999999997, 4.8722000000000003, 4.6018999999999997, 4.4757999999999996, 4.4569000000000001, 4.6106999999999996, 4.4844999999999997, 4.1661000000000001, 4.8364000000000003, 4.3855000000000004, 4.6451000000000002, 4.2590000000000003, 4.4055999999999997, 4.4036, 4.3926999999999996, 4.3646000000000003, 4.5202, 4.3715000000000002, 4.2465000000000002, 4.1867999999999999, 4.335, 4.2026000000000003, 4.1447000000000003, 3.9912000000000001, 3.9035000000000002, 4.0015000000000001, 4.0256999999999996, 3.8054000000000001, 2.5746000000000002, 3.2504, 0.70660000000000001, 0.98860000000000003, 5.1189999999999998, 5.1189999999999998, 5.1189999999999998, 5.1189999999999998, 5.1189999999999998, 5.1189999999999998, 5.1189999999999998, 5.1189999999999998, 5.1189999999999998, 5.1189999999999998, 5.1189999999999998, 5.1189999999999998, 5.1189999999999998, 5.1189999999999998, 5.1189999999999998, 5.1189999999999998, 5.1189999999999998, 5.1189999999999998, 5.1189999999999998, 5.1189999999999998, 5.1189999999999998, 5.1189999999999998, 5.1189999999999998, 5.1189999999999998, 5.1189999999999998, 5.1189999999999998, 5.1189999999999998, 5.1189999999999998, 5.1189999999999998, 5.1189999999999998, 5.1136999999999997, 5.1136999999999997, 5.1150000000000002, 5.1150000000000002, 5.1150000000000002, 5.1150000000000002, 5.1150000000000002, 4.9452999999999996, 4.8183999999999996, 5.0221, 4.8338000000000001, 4.9455999999999998, 4.6006999999999998, 4.5563000000000002, 4.5846999999999998, 4.9150999999999998, 4.8648999999999996, 4.6139999999999999, 4.7175000000000002, 4.3095999999999997, 4.2752999999999997, 4.7401999999999997, 4.8348000000000004, 4.5218999999999996, 4.508, 4.7587999999999999, 4.6528, 4.1250999999999998, 4.5260999999999996, 4.8708, 4.5172999999999996, 4.3864999999999998, 4.3075000000000001, 4.4180000000000001, 4.2942, 4.1536999999999997, 4.6589999999999998, 3.9981, 4.2930000000000001, 4.4324000000000003, 4.6475, 4.3122999999999996, 4.4161000000000001, 4.2641, 3.7934000000000001, 4.2611999999999997, 4.0147000000000004, 4.2828999999999997, 3.8336999999999999, 1.6537999999999999, 3.9962, 2.1781000000000001, 1.6637, 0.95240000000000002, 0.3014, 1.5482, -0.56969999999999998, 5.1658999999999997, 5.1658999999999997, 5.1658999999999997, 5.1658999999999997, 5.1658999999999997, 5.1658999999999997, 5.1658999999999997, 5.1658999999999997, 5.1658999999999997, 5.1658999999999997, 5.1658999999999997, 5.1658999999999997, 5.1658999999999997, 5.1658999999999997, 5.1658999999999997, 5.1658999999999997, 5.1658999999999997, 5.1658999999999997, 5.1658999999999997, 5.1658999999999997, 5.1658999999999997, 5.1658999999999997, 5.1658999999999997, 5.1658999999999997, 5.1658999999999997, 5.1658999999999997, 5.1658999999999997, 5.1658999999999997, 5.1658999999999997, 5.1658999999999997, 5.1586999999999996, 5.1593, 5.1593, 5.1593, 5.1593, 5.1593, 5.1599000000000004, 5.1605999999999996, 5.1619000000000002, 5.1151999999999997, 5.1147, 5.1281999999999996, 5.1017999999999999, 5.0224000000000002, 5.0994999999999999, 5.0323000000000002, 5.0975000000000001, 5.0975000000000001, 4.9053000000000004, 4.9672999999999998, 4.8224, 4.8170999999999999, 4.5324, 4.8156999999999996, 4.3075000000000001, 4.8935000000000004, 5.0373999999999999, 4.5881999999999996, 4.7020999999999997, 4.9443999999999999, 4.1374000000000004, 4.5464000000000002, 4.5758000000000001, 4.4875999999999996, 4.5505000000000004, 4.3898999999999999, 4.3548, 3.9422000000000001, 3.6507000000000001, 4.4004000000000003, 4.3924000000000003, 4.2309999999999999, 4.3189000000000002, 4.0819000000000001, 4.4386000000000001, 4.3468999999999998, 3.8052999999999999, 3.7616000000000001, 2.1431, 2.5804999999999998, 5.3093000000000004, 5.3093000000000004, 5.3093000000000004, 5.3093000000000004, 5.3093000000000004, 5.3093000000000004, 5.3093000000000004, 5.3093000000000004, 5.3093000000000004, 5.3093000000000004, 5.3093000000000004, 5.3093000000000004, 5.3093000000000004, 5.3093000000000004, 5.3093000000000004, 5.3093000000000004, 5.3093000000000004, 5.3093000000000004, 5.3093000000000004, 5.3093000000000004, 5.3093000000000004, 5.3093000000000004, 5.3093000000000004, 5.3093000000000004, 5.3093000000000004, 5.3093000000000004, 5.3093000000000004, 5.3093000000000004, 5.3093000000000004, 5.3052999999999999, 5.3052999999999999, 5.3052999999999999, 5.3052999999999999, 5.3052999999999999, 5.3052999999999999, 5.3052999999999999, 4.9368999999999996, 5.1784999999999997, 5.0223000000000004, 5.0830000000000002, 4.7662000000000004, 4.4954999999999998, 4.7164000000000001, 4.4283999999999999, 4.2294, 4.5538999999999996, 4.4903000000000004, 4.7590000000000003, 4.7077999999999998, 4.6196000000000002, 4.7502000000000004, 4.8967999999999998, 4.7103999999999999, 4.6064999999999996, 4.7584, 4.2435999999999998, 5.0176999999999996, 4.3695000000000004, 4.8295000000000003, 4.5932000000000004, 4.4851000000000001, 4.2423999999999999, 4.1512000000000002, 4.0514000000000001, 4.4417, 4.3541999999999996, 4.4153000000000002, 3.7982, 4.1749000000000001, 3.9771000000000001, 4.4615999999999998, 4.093, 3.9603999999999999, -0.53969999999999996, 3.2835999999999999, -0.48139999999999999], \"Freq\": [5271.0, 5192.0, 8128.0, 4521.0, 4209.0, 3876.0, 2777.0, 3687.0, 4001.0, 2914.0, 2531.0, 3373.0, 2616.0, 9713.0, 3390.0, 3543.0, 2591.0, 3736.0, 2505.0, 2097.0, 3430.0, 2231.0, 1826.0, 3054.0, 1672.0, 2365.0, 2440.0, 6315.0, 1780.0, 2445.0, 0.75299315872976003, 0.69837576992065742, 4.5910317073620348, 2.604150493672984, 6.566031148980672, 1.6097546914515568, 1.6097546821657791, 0.66600921390118395, 18.494677694248917, 1.5871396068958021, 34.486794752671969, 22.482756876540027, 6.5077997473060298, 102.46488283599908, 11.480668968444663, 1.5686617292962735, 1.5539028778637947, 1.5477521810314747, 2.5091994848267687, 16.432728024983561, 5.4596769434843386, 9.4338372251584488, 2.494500498151583, 10.421655969201328, 18.396051863021022, 2.4831989913439165, 27.383040700885406, 5.4278928299920999, 1.5135199108592421, 3.4332993385220685, 14.366516391479369, 20.344528126987214, 3193.3978665308218, 2975.0757046095382, 3994.3505606948574, 77.257169909246912, 3537.3778644679401, 6194.3562275183549, 36.257717802632655, 344.96826920759099, 58.170543485782453, 5042.5285031244011, 1581.8897140237641, 56.153413219140987, 383.69891383252912, 917.15412332289384, 1087.1302006706226, 1615.0506202703552, 150.57275810672041, 892.55165719218098, 1009.2706678396347, 1807.6629183465257, 746.61249470270911, 789.67037330063897, 719.13293529601708, 946.45505198448041, 432.01720474981795, 509.56421731612181, 759.94803803484683, 528.65471101703702, 467.94260965073573, 307.33459292742987, 190.5389347226928, 201.55841480673706, 160.85681233351397, 0.78177487046488914, 0.78177486972383403, 0.78177486928144801, 0.78177486920799955, 0.78177486918294592, 0.78177486909881455, 0.78177486657618001, 0.78177486445647459, 7.7040997149660644, 2.6877579895819617, 4.6661698040402859, 0.7312501938707926, 0.73125019035229688, 0.73125019035229688, 0.73125019035229688, 0.73125019039347117, 0.73125019039347117, 0.73125018977979128, 0.7312501634597004, 0.7312501634597004, 0.7312501634597004, 1.6696293538331703, 8.6088443887664514, 0.70090048317744869, 0.70090048317744869, 0.70090048201459632, 0.70090048199015786, 4.6036244650682363, 3.563808538853102, 0.66873684196611882, 5.9670328231717571, 65.409744271734482, 66.480455423428126, 39.461112479979711, 5191.1011879518464, 50.797433949644493, 283.29377833520431, 5270.0466414850334, 1581.0053298489217, 855.98049398203705, 9.5014672626120387, 338.24362483169176, 391.52276001089098, 352.74770620717993, 151.00656967409503, 19.340449272884459, 284.67194220312342, 142.83025728223365, 52.119971866878664, 1874.2522581977232, 117.49878295968698, 58.944942825346921, 341.95021884361938, 12.37300147213014, 9.4043346547644013, 913.87507580993383, 411.91359729063095, 285.73068004591653, 384.30596030911022, 210.42624888791039, 340.78017627676144, 105.71658576211132, 200.17267273742226, 139.79709374500808, 147.82161631219824, 127.4182109868006, 117.31371534994412, 93.420555860176336, 101.80029947803034, 0.74838192780025148, 0.74838192780025148, 0.74838192780025148, 0.74838192765351974, 0.7483819272197143, 0.74838192707431428, 0.74838192666986381, 0.74838192666986381, 0.74838192666986381, 0.74838192651847146, 0.74838192652138491, 0.74838192649660795, 0.748381924634136, 0.74838191897277417, 0.74838190301663321, 0.74838190301663321, 7.6216371833630809, 2.6184355668717547, 0.69316040654531463, 0.69316040654531474, 0.69316040654531474, 0.69316040654531474, 0.69316040603138096, 0.69316040571338944, 0.69316040566811898, 0.69316040546831725, 0.69316040413968771, 0.69316040222789443, 1.6360042162711863, 2.5956070610526418, 54.531341543800309, 36.532583585244758, 20.50758767901883, 16.484488710079464, 42.41238740991237, 2589.6667985717886, 1467.6228619056737, 25.391886155043981, 6.4764528086675384, 2.563786169104167, 1281.8305194918028, 736.10613850578579, 554.16409134034336, 318.97548859162799, 27.328493205873013, 196.96034570456496, 62.194516130988106, 22.34022330490366, 113.96117081441867, 605.66035393847517, 28.277168053165077, 21.319176826851788, 204.80220879722319, 661.85910046432855, 110.94772117228149, 47.154437747687304, 11.412965740794188, 37.175729736893423, 20.293021528326168, 59.044639369289158, 273.00023239326737, 82.649068708002133, 1142.0664792764505, 438.79692935821038, 72.909204137354905, 519.49696533255258, 145.64485938504737, 761.8537118928291, 285.69216182211403, 257.91369109783125, 499.43401475070107, 452.38059321379382, 243.06064342137066, 479.09312648475117, 181.16346020001987, 268.04212619262671, 194.65825137728197, 120.37906687241917, 124.44736264193841, 0.77687153582847213, 0.77687153582847224, 0.77687153554617594, 0.77687153554617594, 0.77687153543571441, 0.77687153543571441, 0.77687153480743765, 0.77687153480743765, 0.77687153480743765, 0.77687153480743765, 0.77687153480743765, 0.77687153480743765, 0.77687153458851954, 0.77687153458851954, 0.77687153409799348, 0.77687153409799348, 0.77687153409799348, 0.77687153409799348, 0.77687153386313057, 0.77687153384203089, 0.77687153384203089, 0.77687153384203089, 0.77687153289158628, 0.77687153289158628, 0.77687153242815898, 0.77687153242815898, 0.77687152494728828, 0.77687152280646576, 0.77687152280646576, 5.7241737470306635, 5.7241737467091411, 13.920391264892856, 63.626170179693126, 257.49481863372813, 152.52114095752918, 155.51894515462089, 7.6491278443330399, 9.6300379783927408, 33.532551195025484, 3.6756553331605497, 90.433508553336836, 32.507303553592173, 30.483822482083859, 3190.9361912892118, 2452.3605034337843, 3.6615098734772542, 2418.6041315330444, 45.384133344092241, 1386.2505014301664, 3.6520312655775804, 175.35336854019633, 1324.9389005135101, 44.336411252524393, 17.461585044406501, 219.14543729177703, 744.99634696650503, 7.5560275114947437, 447.7300680811054, 423.73223329780905, 827.43424201541575, 30.739870696885021, 89.40459458665029, 71.051320818922946, 147.70553269586199, 680.21197377843237, 57.119489272436418, 725.77194797267418, 47.149341941239769, 245.85198214135568, 193.92215715737606, 197.83243626381613, 87.408073010599196, 0.73982009865796294, 0.73982009865796294, 0.73982009865796294, 0.73982009865796294, 0.73982009843606134, 0.73982009843606134, 0.73982009843606134, 0.73982009843606134, 0.73982009843606134, 0.7398200982293065, 0.73982009823161843, 0.7398200981656512, 0.73982009815290684, 0.73982009810414939, 0.73982009803976889, 0.73982009803034965, 0.73982009801495441, 0.73982009802944504, 0.73982009803199933, 0.73982009799752368, 0.73982009796567927, 0.73982009787644365, 0.73982009788626402, 0.73982009790900227, 0.73982009793773318, 0.73982009789485159, 0.73982009791470071, 0.73982009786995107, 0.73982009780233038, 0.73982009790194481, 8.6592426885493463, 8.6592426885493463, 8.6592426885493463, 8.6592426885493463, 3.6746182638447635, 1.6999037041806917, 1.6999037039057936, 1.6999037025681725, 1.6999036998686201, 1.6999036954988498, 1.6999036959193947, 1.6999036860025964, 17.604818650036385, 19.580259793070994, 18.568376720863057, 34.511659518446251, 22.533925481516327, 17.53353382892691, 333.33692069149919, 37.485403687998804, 305.50427725079226, 1715.0755319695327, 28.455844555114567, 42.417306464443882, 1762.9624640330285, 52.387049095928262, 103.22055383081577, 25.443152905610429, 20.456477176661629, 1264.9204934603063, 315.08328527056921, 339.06208213325311, 752.89105104287125, 96.927985580046098, 71.242119400951253, 191.26194038248124, 33.374087307711669, 337.9527564660836, 612.05177671063109, 422.8754902801254, 196.77106021605329, 166.0812154229497, 334.84912486586092, 90.068314783716701, 477.35947562325248, 227.91805883547684, 211.5579878856006, 68.970023797826428, 120.77340201584161, 592.13575408503834, 441.00199186576623, 383.43718549370277, 159.95633088072739, 221.50003776267684, 133.07098219352841, 133.06880905879487, 130.12079452329007, 131.2657804823113, 0.7442903413402352, 0.74429034134023531, 0.7442903413402352, 0.74429034134023531, 0.74429034113043502, 0.74429034113043502, 0.74429034113043502, 0.74429034113043502, 0.74429034113700454, 0.74429034093755064, 0.74429034089551083, 0.74429034094501212, 0.74429034094501212, 0.74429034094501212, 0.74429034087610102, 0.74429034087610102, 0.74429034073634348, 0.74429034073634348, 0.74429034075314915, 0.74429034064127086, 0.74429034042773601, 0.74429034042521836, 0.74429034042521836, 0.74429034044423281, 0.74429034044423281, 0.74429034044423281, 0.74429034044423281, 0.74429034044423281, 0.74429034039978903, 0.74429034034125408, 1.7058121947576697, 1.7058121947576697, 1.7058121947576697, 493.57241950042027, 49.561191861425876, 5.6397897874596188, 309.40241759407695, 31.529250338396398, 35.514628476546484, 24.523982265614691, 36.492468149324573, 4.6174239350064639, 22.472778229140026, 226.23908422465175, 83.344322216612355, 51.383377136389001, 15.485526895980234, 171.22381671031474, 103.91525279139871, 8.8673528304598221, 204.1560889577255, 4.5845121465884029, 3354.923977580328, 373.03479358784818, 20.437709472146537, 32.946474257062341, 8.5706936436895038, 68.262134701637365, 66.26187900691275, 15.450186197604967, 2904.3460211943066, 431.85857968318788, 53.262013632864594, 54.248232460463477, 152.80300034043108, 1415.232799961022, 919.71649314759145, 188.01299946967197, 103.81119354831367, 710.26582593045487, 205.22338960952587, 367.25868897158256, 362.6000300523616, 239.54200935345889, 126.62124157631921, 147.95086641489928, 117.45369243052266, 85.091283353639923, 0.73505483860626764, 0.73505483860626764, 0.73505483860626764, 0.73505483860626764, 0.73505483860626764, 0.73505483843542208, 0.73505483820829809, 0.73505483820829809, 0.73505483820829809, 0.7350548381827765, 0.7350548379781342, 0.73505483797884508, 0.73505483797884508, 0.73505483797971738, 0.73505483794526483, 0.73505483794526483, 0.7350548378340942, 0.73505483773454783, 0.7350548377994427, 0.73505483763930746, 0.73505483763930746, 0.7350548377536209, 0.73505483761038315, 0.7350548377011813, 0.73505483764373958, 0.73505483747134059, 0.73505483739024591, 0.73505483739024591, 0.73505483727234089, 0.73505483677605477, 2.6766986010606608, 1.6935718988270474, 1.6935436768085828, 3.6387331002025043, 57.467430591588389, 1636.2223844994901, 2205.7040525988004, 131.35848711891296, 10.541276358927911, 102.35076671775252, 108.34436296542049, 586.13383549513833, 52.402734994379543, 58.391517921247591, 4.5798288959223585, 358.12281605025237, 1168.9277746956002, 16.463295276726839, 74.298684266782615, 987.87189473583885, 2.6179390414365256, 941.66585110439132, 1.6581283221893057, 541.12146171758832, 52.205025582554391, 117.05167107688834, 52.5885065440565, 275.7195895400605, 1313.5080764130466, 52.173624264939889, 212.83628729764959, 140.73369575717484, 349.55381685262228, 88.336608943930401, 35.167074419431358, 264.29745743758622, 40.964818871328568, 218.53882526445497, 244.69649547917382, 158.46847886787236, 391.12543772344179, 292.1259393897119, 192.0083815611857, 272.25088897807802, 189.34219454322488, 165.4009499656525, 119.53720701072523, 107.40711679349724, 0.72426442526041934, 0.72426442454021855, 0.72426442449699791, 0.72426442450154449, 0.72426442450154449, 0.72426442425868576, 0.72426442423873982, 0.72426442396816693, 0.72426442380323419, 0.724264423236751, 0.72426442275175307, 0.72426442275175307, 0.72426442170099858, 0.72426442170099858, 0.72426441403399333, 2.6344504194874707, 1.6418868959544699, 19.566695093325254, 2.6039701563176361, 1.624349092881118, 1.6067696437523153, 2.5750912543369551, 2.5727421446945211, 0.66611138237581524, 0.66611138237581524, 0.66611138237581524, 0.66611138237581524, 0.66611138237581524, 0.66611138237581524, 0.66611138190621644, 1.5975266346559873, 1.5975266346559873, 1.5975266224431435, 1.5975265525317603, 172.44576206748167, 421.40944742681955, 4.5295569783369194, 489.38876226804956, 12.484510741871469, 15.468712243895583, 279.26721144363341, 8.4697712686202031, 2955.035344195609, 1497.1110901917875, 320.09571161609244, 1594.7440136776509, 183.77226480845931, 195.06480843062866, 174.07919223372542, 352.92965554885041, 64.204600727453212, 186.99280498610398, 157.03959156187079, 538.10014743094075, 505.6236511202307, 325.06069260331157, 592.51539558221077, 8.4232951623811676, 135.8659622128192, 114.79346007783155, 443.30214094307161, 596.9827325886364, 164.92815422520783, 41.060404991364663, 224.03276288414853, 128.74002711347327, 151.38809746096979, 264.87902227990907, 192.00962456985897, 223.72669709058161, 151.09856507769933, 156.03595548491873, 120.31442889511739, 0.75112678693352686, 0.75112678693352686, 0.75112678693352686, 0.75112678693352686, 0.75112678693352686, 0.75112678693352686, 0.75112678693352686, 0.75112678693352686, 0.75112678693352686, 0.75112678660120313, 0.75112678650864639, 0.75112678650864639, 0.75112678650864639, 0.75112678650864639, 0.75112678650864639, 0.75112678650864639, 0.75112678640930541, 0.75112678640930541, 0.75112678637139141, 0.75112678637139141, 0.75112678637139141, 0.75112678637139141, 0.75112678637139141, 0.7511267863034804, 0.7511267863034804, 0.7511267863034804, 0.75112678616168382, 0.75112678616168382, 0.75112678601609906, 0.75112678601609906, 3.6923294262443083, 1.71479011690631, 1.7147901168604092, 1.7147901160121741, 1.7147901158256724, 1.7147901158256724, 16.602212018826311, 5.623748640184739, 14.565344243557467, 24.530392610128487, 137.41080133402517, 3.6443260709637761, 58.460162246197775, 99.580524573294539, 664.20011125765109, 185.33237931440303, 303.01790029940423, 1590.9649368858081, 3.6294296681006215, 62.364558013937646, 23.247408001459622, 21.461599961904504, 2.6493306697090402, 490.03786729721304, 96.279819537490141, 934.68027774878055, 126.2302864106891, 651.93019837305519, 26.409486284617284, 274.05862130779013, 169.9972227923943, 386.86735098894144, 101.11945618153295, 198.94978123292759, 70.956414306928011, 157.12564768276428, 346.14508837946022, 367.76056543235427, 184.85515855860243, 838.02204088529106, 330.39535861927044, 802.35470946947203, 62.4309137233694, 134.10871303283309, 834.72962623713761, 718.42036862405644, 425.60861078378332, 178.87360731851771, 385.7059130204608, 306.55650532637156, 218.84482534719518, 192.31409800313091, 133.12140773358715, 0.76834652514037993, 0.76834652514037993, 0.76834652508133405, 0.76834652508133405, 0.76834652494898936, 0.76834652478994525, 0.76834652478994525, 0.76834652478994525, 0.7683465248215654, 0.76834652479231846, 0.76834652477169474, 0.76834652476130361, 0.76834652471982334, 0.76834652471982334, 0.76834652419625726, 0.76834652405227633, 3.6458013117675869, 8.6239735555325066, 34.611174356558372, 0.71584289592461392, 0.71584289568389436, 0.71584289568389436, 0.71584289564431047, 0.71584289480161134, 0.71584289133582302, 0.71584289133582302, 0.71584288875582425, 0.71584288875582425, 0.71584288875582425, 0.71584286821778853, 21.585889596109791, 12.587573713253905, 5.603791678502879, 33.486025503032572, 25.474081937881436, 140.32474000458186, 94.3546049362796, 918.12780021982098, 497.12261867297991, 8.5052428778534956, 766.06163269977435, 82.292490507998266, 1211.1623859816373, 762.46227036349296, 589.03736423534838, 882.05049930286702, 225.25397173464452, 456.0829004227806, 350.97320852613433, 353.21964469076033, 139.0914224472649, 49.278184392073932, 369.71844244768005, 138.99996356069875, 127.00906391548851, 21.374701132432861, 24.754225901666491, 13.440109615945738, 215.13581581844898, 54.170795081965181, 254.59189091933774, 1075.9407797632573, 388.47816797883411, 73.823737051398936, 430.59218018011217, 250.00596945245636, 185.77244102873894, 194.10385579149278, 167.85780395030929, 136.40903179161947, 144.62964710940895, 163.25097573264938, 116.61656812533097, 127.38247295460873, 0.74353524745129629, 0.74353524724571707, 0.74353524711672914, 0.74353524672763815, 0.74353524672763815, 0.74353524670645554, 0.74353524670645554, 0.74353524670645554, 0.74353524670645554, 0.74353524669487192, 0.74353524669487192, 0.74353524659075265, 0.74353524598155785, 0.74353524598155785, 0.74353524575591878, 0.74353524526017212, 0.74353524525089765, 0.74353505428692901, 0.74353506320777374, 1.7048162798595685, 1.6709583071736671, 2.6323707495073561, 0.68769392932405515, 0.68769392932405515, 0.6876939289992966, 0.68769392876837943, 0.68769392852122713, 0.68769392792287398, 0.68769392792287398, 0.68769392724427181, 2.6031829320226643, 2.6031829320226643, 2.6031829320226643, 1.6283269083074259, 1.6283269036712225, 38.515806612974146, 55.498832909842896, 18.511325796119184, 15.509939134939861, 44.458083896770546, 107.38153274015293, 54.413800857795259, 143.34105632091359, 2614.9892789743444, 199.49525361870178, 995.96753311477494, 904.52747634036837, 96.234133832081241, 1608.9550996501825, 149.28844689387273, 23.383576375650957, 516.50781478282465, 28.348932402501834, 61.232152185040285, 149.02700899320465, 127.06542774250896, 10.458306020524063, 47.145710439739545, 24.334607197085166, 253.89383730146753, 9.4652107737783915, 23.333549527029589, 53.187379552726242, 23.328185206261239, 86.044886587639382, 374.57170301788926, 76.045692881563681, 81.99178368283772, 96.90357595005392, 146.66682805338695, 314.15303698562133, 474.3744197383794, 327.23034951271507, 112.17974155729954, 421.95848807392406, 289.76263914387999, 168.66697628897919, 141.47063410960556, 176.69238677244775, 118.02419559202372, 125.09544946955603, 0.70043270298184468, 0.70043270298184479, 0.70043270232672028, 0.70043270205750041, 0.70043270213851772, 0.70043270204818098, 0.70043270184458417, 0.70043270184458417, 0.70043270184458417, 0.70043270167985583, 0.70043270163534255, 0.70043270167045468, 0.70043270153750758, 0.70043270153750758, 0.70043270123343437, 0.70043270123343437, 0.70043270126103396, 0.70043270110365996, 0.70043270119864021, 0.70043270101356303, 0.70043270025985715, 0.70043269968587252, 0.70043269821030063, 0.70043269821030063, 0.70043269605335878, 0.70043269550124121, 0.70043269267590569, 0.70043269183825685, 1.6465073719216283, 1.6465073711276292, 1.6464216775351568, 7.5265911872763844, 2096.0869615860088, 6.5184874392198875, 4.545432610929848, 41.122026332115944, 153.20387027057163, 136.21059784864497, 12.546986984508248, 222.11989233779175, 315.69787464882023, 12.417950552775444, 295.49430864317787, 175.10340943835797, 148.12395185335075, 2.5687757855162854, 644.86967847979236, 158.07926328494878, 850.94135918007225, 138.67544302807707, 114.7856947328965, 44.168373919791932, 297.90885449722896, 136.02920525345212, 145.51570299707714, 52.179539309031846, 29.230470780208346, 19.282295572115224, 237.9548066489607, 130.92862091808257, 115.8877602946985, 54.888882057583103, 224.40368604686651, 41.129935725469053, 94.881957218515737, 88.658095054801123, 73.947680072647969, 721.67022215955501, 267.2946560584806, 204.46759947580981, 205.28255263985693, 224.26929083379412, 165.58401793310537, 128.44815529812749, 97.376132260610305, 107.94814131518439, 115.40759836155854, 113.47368784895866, 0.71564564480353254, 0.71564564480353254, 0.71564564480353254, 0.71564564480353254, 0.71564564481138693, 0.71564564485750815, 0.71564564477064618, 0.71564564477064618, 0.71564564478464066, 0.71564564477146586, 0.71564564473320469, 0.71564564465936631, 0.71564564463652391, 0.71564564447784929, 0.71564564458164026, 0.71564564458164026, 0.71564564442636092, 0.71564564456244284, 0.71564564456244284, 0.71564564441755674, 0.71564564442692791, 0.71564564443621159, 0.71564564430271871, 0.71564564438181288, 0.71564564423216503, 0.71564564432759004, 0.71564564419067955, 0.71564564418147636, 0.71564564405233422, 0.71564564405233422, 2.6474924424308153, 1.6674203693055103, 1.6674203678418886, 1.667420366949139, 1.6674203618502159, 1.6674203442234843, 1.6674203096904656, 3.6154621206415678, 28.465913604370737, 3.5917066771445434, 198.28265880269817, 244.25245320675299, 3.5808945724721535, 230.24029648463076, 100.20367396790625, 218.03038619101508, 434.01624804279822, 213.16141400827678, 1802.4932102793246, 60.297929397409852, 37.341443257574618, 236.11986046845496, 3.568713485089186, 3.5687134819096116, 13.438581049154125, 6.5091633501352861, 1700.5642380169222, 500.95475875835496, 39.308272592484094, 368.9933160653448, 565.90199261131886, 67.218559696193353, 18.389857940973936, 75.003917497453727, 10.782564738746792, 221.87498405791894, 156.95495090840305, 8.4711677950768269, 40.207304295754405, 99.914972977264867, 125.90985175863523, 62.075284117564038, 193.71857896201141, 31.204149908702437, 31.201275886750871, 47.069001253939042, 65.918149588600514, 78.803409259557128, 63.17648079610197, 277.72575181856126, 138.71673081168203, 293.58607204241463, 288.03253153493921, 159.84769142670467, 140.59872936919629, 91.213838669771022, 105.02048021923856, 106.49140193423183, 81.72250289018541, 0.69364550597206087, 0.69364550597206087, 0.69364550597206076, 0.69364550597206076, 0.69364550597206087, 0.69364550581270235, 0.69364550578024964, 0.69364550578024964, 0.69364550559752824, 0.69364550539314973, 0.69364550526706337, 0.69364550526706337, 0.69364550526706337, 0.69364550502409617, 0.69364550502409617, 0.69364550502409617, 0.693645505019307, 0.69364550499189415, 0.69364550511155321, 0.69364550495200494, 0.69364550495200494, 0.69364550496006194, 0.69364550474850806, 0.69364550474850806, 0.69364550448472029, 0.69364550351729937, 0.69364550353737831, 0.69364550348531373, 0.69364550348531373, 0.69364550348531373, 2.6132428907255698, 37.461263243993407, 134.38627876585235, 112.15081311644991, 457.27124915960326, 247.30581448846252, 43.408652675944978, 31.423175468485486, 265.28992149652777, 4.5422007006832308, 2.5840450761804781, 283.26272227592307, 282.26259645798626, 105.30538215900881, 12.454679572734172, 218.45196711899027, 553.48103574314007, 71.305627927478312, 57.307188263191627, 13.430911812274699, 59.291674079070305, 3.5395292159314211, 288.11652854196046, 60.284492624304214, 27.344745553607602, 7.4532699787239656, 1758.7496492565642, 95.540703856826582, 8.4348225776973234, 346.13538550250928, 83.134692576988243, 617.73834955768325, 19.325916951786471, 1345.4801370945108, 145.91027437233802, 225.77403375075102, 46.160806404904029, 405.5282730222666, 146.38467249853875, 164.03175116370878, 171.90321395446796, 400.51416026814144, 308.81654558303188, 95.047976685558311, 164.71358788330932, 104.69645728552277, 92.113956007697865, 0.76815194659074182, 0.76815194600930747, 0.76815194593026292, 0.76815194575178469, 0.76815194542907805, 0.7681519455771918, 0.76815194382883223, 0.76815194141449827, 0.76815194141449827, 0.71562053890962951, 0.71562053890962951, 0.7156205389096294, 0.71562053866842823, 0.71562053830134942, 1.6670376569706358, 8.6068759265252002, 5.6007551300163509, 3.6124690557023396, 1.6464868824855754, 53.557154218838974, 3.5973028779425538, 0.68426787522925858, 0.68426787420186752, 0.68426787462389238, 2.5969240799885607, 4.7822960357387672, 2.5634182127895162, 2.5486023770541393, 0.6512057147677377, 1.5762278436171211, 86.46411235903922, 2.5427083921062832, 63.347514051702163, 665.17488340299394, 384.21323724413276, 397.20203249263892, 634.14409041330748, 86.288546298026347, 144.80431494515136, 286.10501495761082, 108.14600482164445, 1467.8136627088943, 736.66187958003013, 1638.2439689268228, 523.6188666201283, 365.67711070542606, 293.65791816539718, 93.966720985195806, 207.63487003403148, 120.8921889265719, 251.40316531865906, 57.04357268794849, 22.766825634122696, 8.4433591121047336, 108.34163647426675, 40.051900267367529, 159.46322690269204, 83.718640813555481, 17.276846957137732, 73.038773566752369, 177.72306896966742, 108.23458962256545, 546.78431946527849, 144.55456432704204, 191.81356172803663, 204.51605021742697, 177.42627862707215, 103.02194655265792, 0.71333094302411193, 0.71333094302411193, 0.71333094302411193, 0.71333094302411193, 0.71333094252779372, 0.71333094246846307, 0.71333094237581351, 0.71333094238506844, 0.71333094222224502, 0.71333094228521954, 0.71333094212794601, 0.71333094209976133, 0.7133309420793158, 0.71333094208557524, 0.71333094190294533, 0.71333094142503339, 0.71333094142503339, 0.7133309414136928, 0.7133309414136928, 0.71333094151215626, 0.71333094114803464, 0.71333094094870264, 0.71333093966208538, 0.71333093960843263, 0.71333093704338835, 0.71333093543325365, 0.71333093543325365, 0.71333092687688104, 0.71333091119049785, 0.71333087679769913, 0.71333087679769913, 0.71333087679769913, 0.71333087679769913, 10.542816591451961, 143.37213172088946, 53.426825423870667, 17.450543222404864, 14.459698938308085, 28.396344191149456, 110.24832556791704, 56.290598447004953, 243.14595558754405, 15.432123715115898, 84.259583032447807, 221.14649494800682, 1337.8607099727615, 149.17991942760113, 112.21382527241629, 50.30502263442353, 10.463290549951186, 12.443920276219959, 406.02683602687887, 379.00834804844641, 408.98439866851226, 20.377500797284426, 35.303845537491824, 250.04325605865827, 112.11283250481749, 418.87226280270312, 117.23965490148288, 51.27749120872965, 64.620035324524508, 159.0342516908791, 80.134044963876576, 191.94307140687519, 185.93660886413642, 60.498695318742023, 150.92531536513198, 163.42212473583476, 450.30009788308035, 152.12262591689006, 91.013637213572252, 136.82332893195891, 293.05176840986377, 192.46743777085342, 89.533274393332221, 277.72027809449503, 187.35632679069275, 190.31102837822573, 143.9789801982152, 158.83558649778948, 0.75131750410657516, 0.75131750410657505, 0.75131750366425798, 0.75131750366425798, 0.75131750366425798, 0.75131750362450733, 0.75131750336565395, 0.75131750329800129, 0.75131750317885171, 0.75131750316627421, 0.75131750305641554, 0.75131750312171641, 0.75131750312171641, 0.75131750312171641, 0.75131750312171641, 0.75131750312171641, 0.75131750312171641, 0.75131750312171641, 0.75131750281999421, 0.75131750218252047, 0.75131750218252047, 0.75131750218252047, 0.75131750197832381, 0.7513174989731255, 1.6821355940725167, 2.6496469182765066, 3.6196668657818436, 0.69647894939249999, 0.69647894939249999, 0.69647894939249999, 9.5819924741150846, 24.562000206747243, 2.6171644609331475, 33.543463900405726, 355.43473553879033, 1426.1680339026695, 24.498001547153542, 1019.1492356461503, 718.18634368297148, 40.444082500684537, 1586.3486334519625, 211.21943689037681, 51.339088187064135, 367.01520357576078, 337.02091207004833, 164.14587490019326, 156.9632869873775, 318.95853468594674, 57.992215778389756, 14.405982494522657, 8.4811398173883479, 28.273356148878289, 148.83799794852294, 25.271081440812821, 23.279885708268605, 252.60504524177225, 18.292673285721492, 176.60147679647073, 76.879999015020985, 175.54101990107435, 175.53557367671539, 172.53575060685637, 56.47308533759341, 214.25675705906008, 161.25986931042661, 119.70903536692084, 109.44998862666509, 234.87527617651222, 321.14597316990614, 277.23660231297214, 173.14305851100821, 156.9488049165858, 169.79060914708535, 180.77923491708296, 134.7976841849524, 122.68957638391338, 0.74792931533356122, 0.74792931533356122, 0.74792931533356122, 0.74792931533356122, 0.74792931533356122, 0.74792931533356122, 0.74792931533356122, 0.74792931513520255, 0.74792931513520255, 0.74792931496841253, 0.74792931498013138, 0.74792931496117643, 0.74792931496117643, 0.74792931466565338, 0.74792931466565338, 0.7479293146409256, 0.7479293146409256, 0.7479293146309669, 0.74792931460326528, 0.74792931451883837, 0.74792931447443789, 0.74792931447443789, 0.74792931443194999, 0.74792931443726707, 0.74792931443726707, 0.74792931443726707, 0.74792931443726707, 0.74792931443726707, 0.74792931439314037, 0.7479293143293797, 2.6955720130696097, 1.7105997595052702, 1.7105997591802828, 1.710599731604596, 1.7105997234271495, 2.6718089794598661, 17.570871394589069, 23.555413190442014, 15.552741823411964, 17.541012764651718, 3.6382864526576491, 32.463111778041608, 151.31135901310944, 3.6280944051057999, 3.6280944051057999, 3.6280944051057999, 9.5483857699092543, 53.393618200002514, 49.396712562930929, 5.5868356447984473, 542.02001184633082, 24.445675605753081, 28.427823307913272, 1621.9406061052998, 201.14935750908145, 11.500684779505105, 11.500684779505105, 107.23138623847308, 4.5903999713737935, 53.323687605681734, 47.326821557838208, 63.28415560318269, 318.97395671741856, 209.04888998283602, 335.926511847359, 86.370923001860234, 258.14529801118113, 383.08322901807998, 751.32869564444138, 206.94039289042374, 17.433329801790372, 78.656624912061417, 77.129421495496842, 65.168291099896905, 254.75600188734441, 88.084718328201632, 171.82936300075602, 322.45980838469944, 153.72281732774022, 77.028341855071076, 148.49208563259347, 322.50844951449767, 176.81431040784361, 199.81292827905287, 171.8815517962102, 206.5845312893409, 188.01280704847733, 105.61528987983976, 0.68976570551477989, 0.68976570551477989, 0.68976570510907287, 0.68976570510907287, 1.5708319705675227, 0.6280731422327267, 0.6280731422327267, 0.62807314223272681, 0.62807314196570585, 0.62807314151398697, 0.62807314132200376, 0.62807314132200376, 0.6280731412774937, 0.6280731412774937, 0.628073141259054, 0.62807314099558975, 0.62807314087331323, 0.62807314094596411, 0.62807314094596411, 0.62807314094596411, 0.62807314069076459, 0.62807314069076459, 0.62807313886442218, 0.62807313886442218, 0.62807313699206879, 0.62807313699206879, 32.408176148881942, 6.4378606757623942, 61.390317714276435, 3.4607328919622748, 26.377972685277889, 310.29827987276997, 326.27940675552281, 332.27630701516676, 335.27348293291891, 15.372947339368286, 7.4071240325616872, 12.356279727400157, 322.17706861227748, 250.18606317462223, 238.18571477108358, 9.3657400689840404, 260.15939551001424, 402.9268751004696, 356.08011180647856, 10.340721282649982, 18.286243054481933, 236.08597664952049, 164.10355536170911, 175.08519734526783, 15.280025577205699, 466.38874461964559, 339.88807069329772, 559.18240149826568, 683.13758307916396, 155.55457884456021, 670.56720762755504, 131.90159881182433, 123.90465204790456, 870.08089298020207, 905.30501990904213, 152.79025480341866, 159.32761019967199, 388.08225994976732, 257.20186496163416, 257.19985059229612, 253.49689915992144, 245.09226723917325, 0.7171337574697596, 0.7171337574697596, 0.7171337574697596, 0.7171337574697596, 0.7171337574697596, 0.71713375721953787, 0.71713375721953787, 0.71713375694177717, 0.71713375690381054, 0.71713375687500724, 0.71713375687500724, 0.7171337566374959, 0.71713375644449751, 0.71713375633498455, 0.7171337562710306, 0.71713375628416154, 0.71713375636203369, 0.7171337557876587, 0.71713375580020844, 0.71713375504995169, 0.71713375387022782, 0.71713375387022782, 0.71713375320416417, 0.71713375366187715, 0.71713375366187715, 0.71713374668704921, 0.71713374106679784, 1.6694462425568286, 4.587532280414429, 1.6324060635394455, 30.509432859953321, 278.3562908617169, 321.33144883858199, 45.439751452013482, 5.5639696298185006, 475.05193607056088, 101.33726708191107, 35.412515072676911, 408.17290722464929, 38.39488843085504, 321.1806510075711, 1226.9673379851802, 71.291013503309173, 120.23312209590993, 2.5978051670754345, 1194.8523307427013, 204.11905978949849, 208.10826782084331, 127.15709298551378, 82.323572324428483, 217.03703898004321, 134.08191414569191, 28.315399373392125, 439.82202420563129, 58.188329012814918, 51.179335284816659, 718.61404475598579, 37.202207229402894, 41.174725499810272, 57.103842965369765, 75.032000262611831, 129.83583707589293, 146.65243463177578, 65.031099545580446, 132.69473845629864, 607.25060363335001, 204.15459753802685, 183.18202383839076, 149.60362567663725, 108.67820595622813, 141.41253997023239, 100.6000046804881, 104.28113658089171, 89.89648357962848, 0.72539801254378833, 0.72539801185827013, 0.725398011756893, 0.72539801164014373, 0.72539801145039462, 0.72539801155574313, 0.72539801156289097, 0.72539801160939654, 0.72539801150937067, 0.72539801157298023, 0.7253980114492381, 0.72539801125109704, 0.72539801125109704, 0.72539801105672408, 0.72539801105672408, 0.72539801082781807, 0.72539801072393251, 0.72539801043144703, 0.72539801058331799, 0.72539801058331799, 0.72539801040820739, 0.72539801032191309, 0.72539800923825137, 0.72539800718430603, 0.72539800455399928, 0.72539784183374523, 2.6622826295271951, 2.6362717721239544, 6.5962709119615601, 13.577093390682558, 29.489819039954206, 65.407596495045155, 53.412288898736058, 6.5569326577680753, 18.473947859115633, 11.504218623794484, 25.418812539370123, 7.5237121162046261, 13.465486689986074, 29.385967848373458, 53.301908332855902, 254.0942740141482, 889.86627743759857, 543.88939185350694, 146.11548944279519, 1529.6911091788281, 26.346251485613827, 7.4910219261904061, 366.68666055055735, 58.220512025295221, 34.266719535224738, 42.223398842880435, 3.558229977667918, 201.91230277103807, 2.5916912415924784, 2.5916912413157362, 672.44358753137283, 22.262736119294971, 17.302288517277919, 819.62530792262362, 857.98717339945472, 44.077495055864283, 71.074006592775106, 32.167669143484815, 38.110751179649718, 75.230257880588653, 985.76265830066211, 139.40074647596131, 429.2927174455159, 306.04671514538711, 135.12170025626065, 157.83505159600978, 206.33852434902326, 276.19807648902798, 70.735818610591039, 204.72823797560656, 144.54187654670835, 74.410426497652281, 63.26169022114729, 60.182341412139856, 0.70024359242812961, 0.70024359242812961, 0.70024359242812961, 0.70024359242812961, 0.70024359225884469, 0.70024359223313348, 0.70024359223313348, 0.70024359223313348, 0.70024359223313348, 0.70024359215524745, 0.70024359215524745, 0.70024359215524745, 0.70024359202932707, 0.70024359201718045, 0.70024359202915487, 0.70024359192401375, 0.70024359189582974, 0.70024359189582974, 0.70024359180193385, 0.70024359177812279, 0.70024359177812279, 0.70024359177812279, 0.70024359174680295, 0.70024359174680295, 0.70024359168561656, 0.70024359168561656, 0.70024359168336436, 0.700243591667425, 0.70024359164668459, 0.70024359156768701, 3.611228099459745, 2.6236460918044742, 1.6462450622620866, 1.6462450610950423, 1.646245060765251, 1.6462450604607026, 1.6462450600461747, 1.6462450597729976, 1.6462450595209313, 1.6462450567246203, 1.6462450503494086, 1.6462450518012015, 1.6462450429271385, 1.6462353963522407, 3.5887754201385684, 86.431425191015691, 10.523704290672198, 15.499002049587366, 195.38370289172022, 28.465575929213166, 56.430619656287725, 17.481181875112945, 38.423155517027041, 15.465433891637231, 9.4976841996861729, 453.17886657741172, 533.16416699378658, 102.27836052929827, 95.254003598075741, 163.62266606278016, 32.34199691852811, 374.988905693471, 153.11321368823405, 16.404723686368879, 959.72810385545904, 36.30581684829906, 254.9770156679939, 486.80969920388691, 252.95305825586036, 961.631478803395, 142.74458000931313, 280.95159856249524, 226.95131705097569, 96.07268561520317, 55.159412186292812, 65.111574382396881, 71.088903749253717, 176.82067902135836, 119.27739773672245, 113.91853338044716, 104.88379230934122, 69.055613854416279, 107.82594510230246, 270.88829870199203, 89.675681184719025, 233.26928849295609, 212.13724849414655, 160.87909101476598, 89.011583302410244, 107.11331040046058, 0.71861412718574402, 0.71861412715889639, 0.71861412687276494, 0.71861412687276494, 0.71861412694112681, 0.71861412677620606, 0.71861412674205838, 0.71861412667783653, 0.71861412667783653, 0.71861412656306767, 0.71861412634861388, 0.71861412634861388, 0.71861412631069477, 0.71861412626955379, 0.71861412626955379, 0.71861412568109728, 0.71861412568109728, 0.71861412540495628, 0.71861412418932602, 0.71861412429433547, 0.71861412429433547, 0.71861412429433547, 0.71861412392498869, 0.71861411838583944, 0.71861411789973162, 0.71861411919165241, 0.7186140793875464, 1.6345940301061743, 8.56562485086822, 2.57962137579604, 26.458857297232697, 22.422600436158103, 812.95297640890794, 103.25737648383854, 1228.9232385105183, 9.4830658690173006, 107.21919178514585, 42.319966913510619, 286.04301024897501, 39.309063202532286, 13.414870826639513, 33.2978151549705, 21.356553387884482, 136.89746586534977, 187.01550243041714, 20.351869815180464, 22.850492178654321, 39.256255777207443, 157.03534370588426, 714.70926283702806, 67.150968005389998, 75.125787722906622, 89.748408812114732, 152.98309761304768, 237.98182439551533, 9.4268799688820994, 7.4557193443672514, 368.59418567847592, 64.079030239813349, 66.063010596363611, 159.39480500452018, 60.984208265352294, 69.005456228124558, 468.36417632606123, 246.52080287170648, 84.896583014389847, 117.74243692897767, 101.2779072699056, 79.791375639424672, 124.0877365417327, 215.71295011171273, 131.3889141663054, 115.58498906098775, 101.03828003299077, 98.364791712472339, 73.493913122385251, 66.009985326840777, 0.70013480056347555, 0.70013480028995823, 0.70013480028995823, 0.70013480021473684, 0.70013479969714687, 0.70013479963606295, 0.70013479963606295, 0.70013479949078816, 0.70013479954099334, 0.7001347994267566, 0.7001347994267566, 0.7001347994267566, 0.7001347994267566, 0.7001347994267566, 0.7001347994267566, 0.70013479943233969, 0.70013479938884127, 0.70013479920906052, 0.70013479920906052, 0.70013479900932885, 0.70013479896852737, 0.70013479784249422, 0.70013479719465976, 0.70013479522394084, 0.70013479479951557, 0.70013479066977868, 0.70013473514097735, 8.5611579896698053, 4.5643627197112266, 1.6070531370828747, 10.488280868704361, 313.22996367719594, 21.398223873725396, 363.12629996469042, 170.20169924257576, 104.2515100212707, 19.400121869774253, 52.298462106703461, 406.3514549236433, 87.228476149649538, 10.439312878766343, 177.12494587258979, 19.371234112725595, 11.422296622162499, 727.82642936288687, 242.02477771318715, 280.97428103261677, 139.4136461620011, 10.416000412669662, 43.242650421265736, 610.80331199053489, 59.182936166327607, 82.1264884728526, 51.940237929714826, 183.97385300486363, 7.438501348654504, 84.105113475924455, 336.41365687088978, 37.223516782988, 379.34578087414434, 1062.0445329850183, 61.781923050291617, 173.79821985651608, 290.05018582090401, 109.9230187746703, 103.93021453298671, 48.110932367458098, 96.295342748033462, 88.648357400104871, 81.083794931331326, 214.3644662489265, 130.08496073231413, 131.16594537121352, 132.62897512436322, 81.733317608160419, 87.791713760773959, 0.70647997767724302, 0.70647997767724302, 0.70647997767724302, 0.70647997718283984, 0.70647997718283984, 0.70647997718283984, 0.70647997718283984, 0.70647997718283984, 0.70647997718283984, 0.70647997718283984, 0.70647997707726107, 0.70647997699495035, 0.70647997695920461, 0.70647997695920461, 0.70647997702332821, 0.70647997702332821, 0.70647997702525245, 0.70647997690608899, 0.70647997690608899, 0.70647997690608899, 0.70647997680543728, 0.70647997680543728, 0.70647997680543728, 0.7064799767839044, 0.7064799767839044, 0.7064799767270814, 0.70647997660845019, 0.70647997660845019, 0.70647997660845019, 0.70647997608542756, 3.6215938228482947, 3.6215938109814938, 3.6215938085850885, 3.6215938085850885, 3.6215938085850885, 2.6333747352180037, 1.6548649065396741, 1.6548649056961258, 1.6548649056961258, 5.5771328006100598, 7.5528346998374998, 9.5361529622649979, 32.453269426139194, 97.361340181549323, 108.3477463371425, 17.464011257060076, 1512.9755622935625, 36.446424956675365, 8.5047792721592383, 74.341356373372435, 224.25247375953191, 415.18933093373067, 42.369710178320581, 40.368702063277858, 4.5446440239015384, 2.591851095580509, 29.387099199164716, 535.07417821945239, 24.38675940434003, 119.18617717945909, 118.17793715577126, 117.1498213928236, 173.0538682669648, 77.187866602872347, 63.175536350969509, 84.115339687930515, 80.107241643330099, 223.83362838158507, 97.564224044064034, 371.59858866901095, 88.045323068319888, 71.245292394665668, 145.78397992014422, 249.61112631036133, 60.101684926531874, 483.14886037746038, 164.92960229432643, 100.71854119093567, 95.834467563718391, 149.43770693395254, 299.93643828665392, 129.21375721065095, 83.432528692487523, 123.86411910265983, 154.97204201184519, 86.943604443372806, 0.73302507025964436, 0.73302507025964447, 0.73302507025964447, 0.73302507025964436, 0.73302507025964436, 0.73302507025964436, 0.73302507025964436, 0.73302507025964436, 0.73302507008429374, 0.73302507008429374, 0.7330250699879679, 0.73302506995710137, 0.73302506995710137, 0.73302506995710137, 0.73302506990085159, 0.73302506986550342, 0.73302506986550342, 0.73302506986550342, 0.73302506986550342, 0.7330250698177333, 0.7330250698177333, 0.7330250697707188, 0.7330250697707188, 0.7330250697707188, 0.73302506981564786, 0.73302506981564786, 0.73302506981564786, 0.73302506970513226, 0.73302506970513226, 0.73302506970513226, 5.6544888753244242, 4.6585071634864468, 4.6585071634864468, 4.6585071634864468, 4.6585071634864468, 4.6585071634864468, 4.6585069440969615, 3.6643623523678137, 2.6736872027433294, 1.6908643366215399, 1.6908643366199734, 1.6908643363744136, 1.6908643362540274, 1.6908643361774498, 1.6908643362345683, 1.6908643359400699, 1.69086433505232, 1.6908643338516713, 1.6908643336260964, 1.6908643318791474, 1.6908643291097074, 1.6908642979465591, 1.6908640540812514, 16.614834052960422, 12.602638317196874, 74.526419887199168, 6.5995138666068733, 7.5922734936444831, 7.5922734928387197, 609.33151036635536, 37.46162360198278, 85.38261113900856, 54.421574729434745, 11.543100853951827, 36.288128997138422, 23.463076658939976, 77.333316706370368, 6.5707852392963222, 26.428281367080491, 98.233407916549424, 180.14297350584059, 36.364862154946771, 6.5643081571905251, 175.18783756471976, 245.03318637939546, 1122.6574823961389, 276.96083308019394, 200.9926193176309, 216.96883261023751, 91.147967041527124, 195.5660116466787, 229.72640084466079, 224.44533307907653, 255.41393545245089, 23.661356385760413, 175.75935161338813, 129.03024923398101, 141.24219567061752, 198.95225239476645, 59.126646459680181, 286.27426515382604, 100.81472583422546, 131.96103271435726, 254.59821053401322, 342.32974206353634, 238.36151668108394, 81.325969406990751, 128.75759571207004, 133.18494040933635, 92.675958032810485, 0.72539329248288575, 0.72539329248288575, 0.72539329248288575, 0.72539329200334102, 0.72539329187907864, 0.72539329163733046, 0.72539329163733046, 0.72539329165582456, 0.72539329165582456, 0.7253932916213911, 0.7253932916213911, 0.72539329155052923, 0.72539329155052923, 0.72539329131141184, 0.72539329143478037, 0.72539329132811081, 0.7253932908451507, 0.72539328606946607, 0.72539327555520672, 0.72539327555520672, 1.6806273460138175, 1.6806273446798001, 1.6806273356931014, 5.6416822791178571, 25.983745572374648, 1.6445733159153877, 13.552094318102913, 2.5909519893494539, 3.5594813248460366, 0.66736898656167798, 4.5465436591252928, 48.446070213892455, 48.435610935313584, 183.33300922529023, 233.28974012044256, 106.31777688609974, 64.333655987606846, 18.445298393642428, 201.15132529160979, 1778.7877636717346, 750.9284973644335, 618.95597021634148, 181.13403106670734, 258.85325300679341, 31.347804761073419, 41.312129424933254, 10.454276482042692, 125.09148433443914, 42.242030559304879, 236.93554031754093, 116.0507458204961, 102.96446302825646, 23.31544078004136, 21.326526371394596, 92.076658088388442, 107.03837314888126, 974.42108505234307, 120.93437334149425, 104.95690342490799, 934.61030421814598, 839.4832827305313, 137.76279585096117, 435.35443049946059, 39.397381776172033, 198.90357854526465, 59.976692582368123, 53.054914547515196, 0.69838736427675185, 0.69838736427675185, 0.69838736427675185, 0.69838736427675185, 0.69838736427675185, 0.69838736396024592, 0.69838736396024592, 0.69838736387305722, 0.69838736387305722, 0.69838736374956689, 0.69838736348200858, 0.69838736351222486, 0.69838736351222486, 0.69838736338580887, 0.69838736337353902, 0.69838736323950101, 0.69838736323950101, 0.6983873632701123, 0.6983873632590083, 0.69838736319367167, 0.69838736330606199, 0.69838736330606199, 0.69838736330606199, 0.69838736312479943, 0.69838736306311044, 0.69838736308168592, 0.69838736286680458, 0.69838736286680458, 0.69838736282408265, 0.69838736207712315, 1.643667241623453, 1.6436672033245598, 19.56156207194902, 18.561396114112888, 14.509966997794006, 34.447165372081166, 92.380527976758657, 245.30790486422299, 10.479541125994993, 460.20474911451089, 334.20987417267577, 16.444534293586553, 8.4921895511912364, 8.4871024680861158, 3.556348544234071, 507.36007228644331, 6.4949798863577533, 157.20329686385293, 91.251422687149784, 214.56943872468108, 1621.8453673323718, 269.06995469901221, 363.94218025482604, 25.341835940862335, 38.292721397238509, 199.99292761047383, 26.321400427451366, 6.4697387169617526, 125.10488619302822, 25.300653596905757, 49.205397432120343, 226.16215083289921, 140.95545141287803, 50.165059309322444, 227.8066734266958, 46.165247303420216, 40.195429929002174, 89.409988342782796, 229.57325808289164, 242.58111763350215, 267.53229471674126, 240.48109634542698, 143.73088159133491, 212.45846818376697, 55.099410598641633, 234.70161967801386, 101.82392575608961, 58.065570103992926, 156.12407164493305, 198.99257004070495, 159.12700177938558, 59.928595153596987, 92.680557631032016, 0.68962146277266967, 0.68962146210503872, 0.68962146164435312, 0.68962146164435312, 0.68962146164435312, 0.68962146114204015, 0.68962146114204015, 0.68962146107690769, 0.68962146107690769, 0.6896214610502186, 0.68962145907664762, 0.68962145958751331, 0.68962145681574882, 0.68962145681574882, 0.68962145281309273, 0.68962145307192213, 0.68962145307192213, 0.68962144543074766, 0.68962137494467335, 1.6314174905259193, 1.6314174853923122, 1.6314174511050663, 3.5932823783037144, 3.5699168022565848, 6.5381382947920956, 6.5307705074537958, 10.487205377400743, 2.5375791676736577, 7.4819442065248092, 2.5267218378255136, 5.4854194871009536, 103.39614254339533, 20.432483638051092, 409.27145504385447, 130.29866198704363, 126.29850710814492, 22.405985508099921, 97.299767724226456, 93.299885281766691, 94.298883763866797, 94.298883763866797, 109.28749727867454, 139.26832304741362, 63.326059123781079, 174.2353891635249, 333.16719261838387, 49.319252887764883, 34.313927208002781, 179.13741154154653, 371.02822676804618, 31.307792477230368, 128.10074225794224, 309.93737523005717, 60.196615084973317, 150.04405263171208, 196.95544366006888, 157.29051894648853, 530.50009269732425, 186.88326920196585, 341.66269206097968, 117.95172971294794, 204.59272632787861, 160.21976852323064, 129.17894099206819, 122.80493254246018, 137.53785650512853, 163.08827920574058, 156.78648694550722, 156.94339832023906, 109.24865786698916, 0.71324613034352469, 0.71324613034352469, 0.71324613034352469, 0.71324613034352469, 0.71324613034352458, 0.7132461298052577, 0.7132461298052577, 0.7132461298052577, 0.7132461298052577, 0.7132461298052577, 0.7132461298052577, 0.7132461298052577, 0.7132461298052577, 0.7132461298052577, 0.71324612948761301, 0.71324612933391862, 0.71324612904391838, 0.71324612884815841, 0.71324612853380209, 0.71324612853380209, 0.71324612853380209, 0.71324612746913052, 0.71324612601187398, 0.71324611883803091, 13.579027354315095, 1.6074341779659815, 2.5699892699717215, 23.505474709433411, 0.65387982604929351, 0.65387982604929351, 5.5129367045232307, 3.5292864011256664, 34.091881435614809, 21.430169239032747, 153.29658281288761, 157.29387347568047, 163.28983366188191, 183.25026946554502, 2483.6688566694156, 813.95743140067475, 160.18522165031209, 26.362866329127968, 324.4593575521443, 31.336305348344329, 112.1599276751745, 33.627473144949668, 329.39139526650183, 48.520892427005762, 299.94632817428368, 55.211098614774833, 40.241508225376251, 21.323086084100805, 47.200208390396824, 9.4214493608873777, 201.28080274898741, 44.177619284788626, 33.224525271987545, 64.106892026078228, 5.4706922942371463, 65.046114034362134, 398.68073181393794, 61.030150863016914, 381.23937455637713, 405.32554081399638, 298.15854830564751, 239.53848718913338, 313.75613052931624, 98.160510310544737, 85.009239189457801, 81.207572195831872, 105.77098036845602, 122.57368538258032, 0.70364656799898884, 0.70364656799898884, 0.70364656799898884, 0.70364656799898884, 0.70364656799898884, 0.70364656799898884, 0.70364656799898884, 0.70364656799898884, 0.70364656799898884, 0.70364656799898884, 0.70364656799898884, 0.70364656799898884, 0.70364656799898884, 0.70364656799898884, 0.70364656799898884, 0.70364656799898884, 0.70364656799898884, 0.70364656799898884, 0.70364656799898884, 0.70364656799898884, 0.70364656799898884, 0.70364656799898884, 0.70364656799898884, 0.70364656799898884, 0.70364656785127377, 0.70364656785127377, 0.70364656785127377, 0.70364656785127377, 0.70364656783673007, 0.70364656783673007, 3.6168997298408252, 3.6168997266321616, 3.6168997153146414, 2.6289671274896675, 2.6289671275063653, 2.6289671272016077, 2.6289671237875067, 2.6289671219038326, 1.6509563976429289, 1.650956397358033, 1.6509563967462089, 1.6509563967830669, 1.6509563964544693, 1.6509563966399472, 1.6509563965160068, 1.6509563964722589, 1.65095639632803, 1.6509563961940961, 1.6509563961358298, 1.6509563959632603, 1.6509563955463327, 1.6509563955874482, 1.6509563956698754, 1.6509563956698754, 1.6509563955631386, 1.6509563953835982, 1.6509563953329398, 1.6509563953001769, 1.6509563951780257, 1.650956394742753, 9.5555941924660868, 5.5693048591598542, 8.5377456707756245, 5.5643310181526626, 248.30070455699843, 83.376150339535528, 12.502295122055394, 403.22936266194347, 22.442726452979006, 84.291498979245318, 13.461608704502202, 13.461608673919708, 42.341892604829454, 6.5253311507084728, 12.463226365211794, 97.239674822592548, 15.433112134962895, 2774.8808238599281, 115.19373995169927, 155.86746724646176, 63.24497091326301, 4.5517419524184897, 61.251304481554904, 61.251304481554904, 63.233423663358188, 1042.5876885221858, 32.32753732763846, 84.162910835413555, 20.383796427665246, 123.01729680227166, 41.242975892695966, 29.282637593824273, 12.434266988598077, 30.240366128641877, 16.159511630279724, 86.577530036244539, 145.62557500491104, 302.17675239854731, 136.69775704863099, 186.25271297941541, 24.261551404453172, 23.265609269394982, 131.71104351841086, 95.184335165455039, 78.093022857001245, 45.389669579552958, 69.669782235385568, 0.73053229366762196, 0.73053229366762196, 0.73053229366762196, 0.73053229366762196, 0.73053229340651848, 0.73053229272012399, 0.73053229205524772, 0.73053229137581943, 0.73053226364921198, 1.6875305000554837, 1.6520944418258408, 1.6166602627733646, 4.5657693398006298, 0.67310451531754301, 0.67310451531754312, 0.67310451531754312, 0.67310451531754301, 0.67310451531754312, 0.67310451531754301, 0.67310451531754301, 0.67310451531754301, 0.67310451531754301, 0.67310451531754301, 0.6731045151443894, 0.67310451507693081, 0.6731045150128746, 0.67310451488073353, 0.6731045145805179, 0.67310451459309917, 0.67310451457007281, 3.5638940064158322, 3.5638940064158322, 1.6075929598195609, 1.6075928332183547, 1.6075928332183547, 189.40959332121267, 169.41198009624719, 5.5222726472512553, 7.4905449687186962, 30.416639854403975, 2.5580010121043637, 24.411709230783167, 133.3097366967321, 166.29395081155008, 492.22791367772959, 153.29160389948279, 89.317373278425762, 220.23742689082582, 142.26867177300127, 117.27510113800147, 89.255382144262782, 1443.7990498789245, 16.394111758560015, 579.81549589202405, 231.99099662547448, 28.322834664594112, 163.12668584292277, 180.73253280128941, 923.23161948600477, 48.222233807031664, 22.335776766814952, 51.204828618619452, 25.29405854766587, 150.92459850135984, 141.63549385760521, 51.142108931172586, 69.337928617476223, 361.37764374589722, 65.977633751494707, 70.909016881013031, 216.13743485964471, 67.861641712769838, 110.79202874540296, 206.97476767572724, 170.59875422898395, 188.2182548362847, 104.42504884017038, 116.57595697432569, 77.644743862393497, 102.05845374224539, 91.946907563366423, 0.73629044464622662, 0.73629044464622651, 0.73629044423040835, 0.73629044423040835, 0.73629044423040835, 0.73629044423040835, 0.73629044410838518, 0.73629044410838518, 0.73629044401412691, 0.73629044401412691, 0.73629044378686437, 0.73629044378460373, 0.73629044378460373, 0.73629044378460373, 0.73629044378460373, 0.73629044378460373, 0.73629044360591578, 0.7362904434713019, 0.73629044360782481, 0.73629044340294136, 0.73629044340294136, 0.7362904433883829, 0.73629044061521931, 0.7362904404119911, 0.7362904404119911, 0.73629043925292037, 0.73629043925292037, 0.73629043925292037, 0.73629043696354535, 0.73629043403046968, 1.6952170227792076, 6.6329153145451807, 8.6061791492735935, 61.418565937411174, 58.416090072086618, 16.504916505455707, 3.6123280739437087, 3.6123280739437087, 1003.0558203056725, 703.04146256545664, 539.05016731915998, 91.274882477778519, 388.03552448634736, 31.386957223432596, 48.332088659702301, 5.2341380280466376, 464.11162813307124, 43.327212514452476, 21.401616932105838, 275.01054195925303, 350.92348802784619, 16.411430856268659, 13.429699180687525, 66.192544745173279, 690.12375513544043, 1.6604772876224654, 27.316055113475677, 7.4870430840513151, 130.98739808271196, 11.425322153519678, 24.306516167030054, 188.61872715749877, 48.170790354646009, 281.8173563205944, 78.893919163986553, 49.631035855429069, 236.53246561679131, 212.69733903730153, 37.161017233024594, 150.43209586081954, 68.461987465077755, 59.842544064740999, 294.0169476556535, 179.8615912802133, 122.46720808942462, 182.89029761285056, 139.93123769640837, 193.19198192762877, 179.34596401211644, 159.75056599014917, 72.882018750479361, 0.680419203283396, 0.680419203283396, 0.68041920299778991, 0.68041920299778991, 0.6804192030257179, 0.68041920304930714, 0.68041920284204727, 0.68041920285453517, 0.68041920285453517, 0.68041920280964807, 0.68041920285417978, 0.68041920275204204, 0.68041920277597545, 0.68041920277597545, 0.68041920274915191, 0.68041920276178081, 0.68041920272598777, 0.68041920275933165, 0.68041920275933165, 0.68041920275933165, 0.68041920275933165, 0.68041920275933165, 0.68041920275933165, 0.68041920275933165, 0.68041920275933165, 0.68041920275933165, 0.68041920269181566, 0.68041920273117151, 0.68041920273430134, 0.68041920258866739, 4.5681547884069627, 4.5681427431490311, 3.5774324358824101, 3.5774245722899565, 2.5920399343702076, 2.5920399282331701, 2.592010657458288, 2.5920072315083891, 1.618421107566993, 1.6184210939386234, 1.6184210438151216, 1.6184196209907862, 5.5181764893829266, 232.37126680749984, 94.322563996002586, 2.5615008139636246, 2.5610548959643267, 434.64230970998744, 275.15398764905768, 4.6563886314344645, 134.20554509255081, 4.5927332983587776, 2.5466407088025083, 26.30907372712073, 24.311202039413075, 29.290655670859771, 82.200094834117522, 98.934799340441486, 701.87573188257932, 199.05533157073768, 678.35654763935679, 398.95132100939009, 212.02489288114103, 301.66188461641491, 193.97944598951443, 51.025799172369567, 463.80161381146598, 45.200086475978232, 49.185427941726275, 121.53474537299472, 37.21279592736407, 30.239900289057307, 19.312868345925807, 52.131912311506269, 98.98012102832142, 47.148132632299586, 24.272621501803393, 199.70473949948979, 132.81830830833161, 81.958854710787378, 73.073895786200396, 99.97985002865417, 86.892576795346059, 120.73717412660389, 114.60291459216816, 174.74269555750999, 59.96243449079504, 234.42650836623815, 131.8983129797048, 98.907926795264288, 84.622937537318847, 0.68674951083902047, 0.68674951083902047, 0.68674951083902047, 0.68674951083902047, 0.68674951083902047, 0.68674951083902047, 0.68674951083902047, 0.68674951083902047, 0.68674951083902047, 0.68674951083902047, 0.68674951083902047, 0.68674951083902036, 0.68674951083902047, 0.68674951083902047, 0.68674951083902047, 0.68674951083902047, 0.68674951083902047, 0.68674951083902047, 0.68674951083902047, 0.68674951078082913, 0.68674951078082913, 0.68674951078082913, 0.68674951074578261, 0.68674951074578261, 0.68674951074578261, 0.68674951074578261, 0.68674951074578261, 0.6867495107481707, 0.6867495107481707, 0.6867495107481707, 4.5795632808153739, 4.5795632804087791, 3.5883664321702371, 2.6022467649066261, 2.6022467647467606, 2.6022467644463934, 2.6022467640847995, 2.6022467640373268, 2.6022467639490228, 2.6022467636603004, 2.6022467632263289, 2.6022467633378912, 2.6022467560860409, 2.6018135984675488, 1.6273765765727219, 1.6273765763481931, 1.627376576350938, 1.6273765762879149, 1.6273765762351233, 1.6273765761427703, 1.6273765761573979, 1.6273765760374916, 1.6273765758780427, 1.6273765758780145, 1.6273765757998608, 1.6273765756601917, 1.6273765754273783, 1.6273765752097797, 1.6273765752099163, 1.6273765752746032, 30.479173477738751, 7.5333336522039973, 25.435966526357333, 41.387802930963872, 10.479136258054114, 133.27027713061429, 689.08844543038367, 363.15433775389647, 84.278636722544604, 48.329272086520994, 6.5039857960696805, 40.336642066332601, 143.19675015917514, 40.32714134474223, 14.426209620212806, 25.36391901190386, 365.94662537781306, 27.332665166581481, 76.187854230502211, 20.369659795683244, 49.246966904106635, 90.146498896382894, 95.130995697664616, 35.282146638716974, 830.21627530929356, 88.12134858871336, 682.64465672278891, 215.41864517093867, 34.237702097511331, 130.87161429736423, 42.176543031220795, 114.88983857654055, 114.88279097489888, 68.042454662094173, 66.004952486492087, 183.16704840494867, 227.27452197668316, 110.85693231590878, 197.81349527998651, 158.13318774342605, 55.981607367118336, 77.600986877059128, 0.69680922949637281, 0.69680922920320476, 0.69680922901544062, 0.69680922901544062, 0.69680922896904052, 0.69680922896904052, 0.69680922894954966, 0.69680922872985451, 0.69680922874256612, 0.69680922874256612, 0.69680922853218852, 0.6968092286602986, 0.69680922851931815, 0.69680922851931815, 0.6968092283565992, 0.6968092283565992, 0.69680922815276347, 0.69680922815493984, 0.69680922815493984, 0.69680922803680745, 0.69680922809463119, 0.6968092277609097, 0.69680922787861777, 0.69680922787861777, 0.69680922762306907, 0.69680922736640294, 0.69680922742209772, 0.6968092265817577, 0.6968092265817577, 0.69680922683529367, 5.5918014078904594, 2.6182453986652372, 1.6414712004599226, 70.42018807107867, 72.415196883813763, 72.414579726487034, 24.434436401747753, 78.343569414184699, 1091.1274998851827, 193.22951363022293, 143.2522673204605, 126.25919961147714, 147.23411850760161, 60.302462999461888, 170.17585461922687, 4.519800609230888, 142.16976478314231, 47.260053166418977, 501.99234788985689, 56.26433490699651, 162.13520317439202, 33.300073642921532, 3.5283306839634752, 568.66463709289326, 3.5270970032043878, 69.15348462752209, 836.69294839201586, 2.5557593659923308, 47.172797183733842, 44.173427609439365, 20.289270536834493, 371.21769473876321, 17.304323307992338, 279.66982733637951, 232.71260657463148, 85.958640137008501, 114.63097497136368, 113.02775000193809, 80.841013482098745, 114.32406043229682, 125.59146692210172, 430.77474778425983, 210.53789421026985, 208.90466623013734, 120.49420676330985, 78.739195357071097, 93.36499939325752, 0.75165527527688847, 0.75165527506491925, 0.75165527500143248, 0.75165527482807215, 0.75165527482807215, 0.75165527482807215, 0.75165527475360994, 0.75165527474381078, 0.75165527454649761, 0.75165527454560055, 0.75165527450876846, 0.75165527450876846, 0.75165527440375146, 0.75165527440375146, 0.75165527440375146, 0.75165527445196811, 0.75165527445196811, 0.751655274394471, 0.75165527416234024, 0.7516552739054867, 0.75165527386314224, 0.75165527354898887, 0.75165527279247524, 0.75165527279247524, 0.75165527279247524, 0.75165527168393109, 0.75165527168393109, 0.75165527087871298, 0.75165527087871298, 0.75165517072369181, 2.7009618952314831, 2.7009618814484844, 1.7154812462215643, 1.7154812462215643, 1.7154812462215643, 1.7154811940956969, 3.6704379928229018, 2.677569247886721, 34.544498331860233, 32.541490164734313, 111.46935989144235, 3.6515079249640539, 16.551947414104525, 112.39522970312871, 82.395926460621141, 36.45391623555345, 25.479313306183581, 134.30134969901852, 15.50885803621793, 4.6095979878575282, 1392.906405851556, 8.5501982593901786, 298.49958580844623, 816.96867962800422, 4.5967239930605022, 167.17668665379452, 104.24286798127132, 3.6165345994130913, 30.368992087381326, 18.429610106298288, 192.54629654780359, 130.11907060795912, 281.93907908970772, 337.4663239014825, 154.04854081888072, 354.70578137396654, 87.13019146330474, 42.063874209826238, 176.89447663754177, 24.342814422995495, 474.51529122764902, 50.083055790695177, 33.221736008116856, 127.638542273848, 45.128445542992417, 95.646370620439015, 102.5929202285138, 233.90145883165772, 370.26290570224273, 69.539851755298983, 272.69000457494144, 106.74549591247963, 0.7275294965372775, 0.72752949605800299, 0.72752949600014039, 0.72752949600014039, 0.72752949600014039, 0.72752949596003291, 0.72752949596003291, 0.72752949596003291, 0.72752949596003291, 0.72752949566580782, 0.72752949563132796, 0.72752949563132796, 0.72752949563132796, 0.72752949551340185, 0.72752949551340185, 0.72752949542084977, 0.72752949517302745, 0.72752949490212326, 0.72752949459224636, 0.72752949414745383, 0.72752949405660572, 0.7275294940256225, 0.72752949337073058, 0.72752949284527435, 0.72752948754198909, 2.6396862756740465, 1.6477042959727715, 2.6095771228650704, 1.6293300496229621, 1.6293300455120283, 14.529659967877356, 23.49226806592069, 2529.9973535590161, 55.681201637353297, 19.434481425235777, 307.36420672289665, 48.319988810360172, 313.04476011616384, 5.53612292706398, 238.06091370794778, 53.267498451397678, 3.5754958290912517, 118.12810211950492, 312.91426739009313, 175.02898269694796, 146.06033680886006, 74.071301530894289, 256.93033716183191, 67.164797157786481, 9.4479221439139192, 146.44762795254488, 83.09473745836911, 361.75937607275927, 40.749435064474952, 336.74266651661583, 13.368745548406492, 24.25070384313322, 21.272683189536355, 35.168498440453483, 239.38267074270507, 40.12683999599556, 86.840189849664071, 33.13941788174197, 30.156499702571917, 86.740197448033328, 43.004329459058582, 44.951110457619812, 135.30428772902607, 245.83566027310454, 93.969534554035292, 129.07078850949128, 97.326960707285821, 109.16276417234896, 71.370667214935935, 59.36442667143897, 0.69678960986491223, 0.69678960986491223, 0.69678960984967897, 0.69678960981042559, 0.69678960968373838, 0.69678960968373838, 0.6967896096965488, 0.69678960961053249, 0.69678960953131619, 0.69678960951343694, 0.69678960950282331, 0.69678960950282331, 0.6967896093144258, 0.6967896093144258, 0.69678960936714496, 0.69678960931741407, 0.69678960931741407, 0.69678960931741407, 0.69678960928778189, 0.69678960930267397, 0.69678960930267397, 0.6967896089524952, 0.69678960913841481, 0.69678960909648124, 0.69678960905877596, 0.69678960905877596, 0.6967896090738368, 0.69678960873289841, 0.69678960873289841, 0.69678960848780891, 1.6414438745404933, 1.6414438746063771, 4.5487999604108404, 332.26804113362289, 29.416919891706861, 10.478549516020999, 183.26299409383995, 72.322687751818236, 20.417390926237882, 109.28488333317976, 57.334869281466396, 124.2557336368601, 108.23640496577494, 292.11940916062576, 12.429321882408932, 73.25761988547336, 57.25956227651875, 402.00178154180486, 466.96152464493832, 464.94183155690592, 143.08427495501752, 243.98345355266716, 32.275284092520501, 9.4164606121403356, 11.390537202617585, 20.309721711784832, 79.104022470136599, 71.115655282440045, 9.3976760700078223, 16.325995509859876, 35.216711343019824, 36.210492105546635, 177.89200901629761, 277.76310033191254, 89.002405155091353, 171.82533579566208, 136.86556638738935, 133.8963064761723, 94.440568363644587, 201.64745464323929, 313.56935921175307, 85.993092432914196, 168.71520042138528, 79.298524544370963, 137.40131297938888, 0.6740254827339407, 0.67402548273394058, 0.6740254827339407, 0.67402548242813543, 0.674025482409636, 0.6740254824004952, 0.67402548229309767, 0.67402548229309767, 0.67402548225826409, 0.67402548224611625, 0.67402548212515556, 0.67402548217262936, 0.67402548213163049, 0.674025482074465, 0.67402548210024427, 0.67402548209737312, 0.67402548202681201, 0.67402548202681201, 0.67402548203693358, 0.67402548203693358, 0.67402548203693358, 0.67402548200052403, 0.67402548200052403, 0.67402548200788626, 0.6740254819382383, 0.6740254819382383, 0.67402548173768195, 0.67402548190754352, 0.67402548190315414, 0.6740254818539434, 12.530405870869963, 2.5816195160395807, 1.6093075065600841, 1.6093075048366232, 1.6093075043313678, 1.6093075032918271, 6.5057776526232622, 136.35123183748226, 7.4775518659203639, 87.317620478062395, 6.4797563064754646, 6.4794958653847363, 186.27113961532578, 9.4515577255416758, 701.99747574640935, 31.367642814084206, 2.5504449530018278, 208.21062040620811, 75.280375900987352, 20.374152636507375, 11.409524270163391, 11.400202376556088, 67.241946047434666, 368.0624432333812, 58.248747785113245, 5.4574517969497087, 2.535268590824967, 2.535268589924931, 35.272458991383388, 3.5005912667063184, 36.257262553822379, 234.03950885324025, 13.360810534938784, 13.360810534938784, 133.11217799620795, 117.71701835510736, 109.09000388812647, 68.145059245793277, 137.97171396813332, 128.95115955309976, 40.184170943049033, 107.98554222409516, 178.85291326032134, 37.196562633121815, 301.67841062466312, 32.199836154476699, 27.235930401346508, 62.971852765826711, 92.711158908732713, 100.79235523754301, 159.4295211109681, 162.40651426024502, 114.79894762799647, 60.953098026339624, 73.398073841519846, 116.41866373844377, 86.668260861338496, 75.584482756150848, 87.823308100495751, 126.35546700514195, 116.32405236284498, 108.9627815944264, 83.476895311739796, 66.60896040802335, 0.72605195337794681, 0.72605195337794681, 0.72605195337794681, 0.72605195337794681, 0.72605195339038919, 0.72605195339038919, 0.72605195287188073, 0.72605195285746182, 0.72605195285746182, 0.72605195276473866, 0.72605195264254352, 0.72605195264254352, 0.72605195270276723, 0.72605195270276723, 0.72605195250692489, 0.72605195242458931, 0.72605195242458931, 0.72605195161821856, 0.72605195161821856, 0.72605195102210374, 0.72605195112234544, 0.72605195112234544, 0.72605195072735418, 0.72605195072735418, 0.72605194982559329, 0.7260519453756249, 0.72605194261105555, 1.6815144024525051, 1.6815144024525051, 1.6815144024525051, 101.42196579959652, 3.61028138642533, 241.62609862552995, 36.426614103391564, 65.362350117188114, 931.05955719249994, 1824.5934418055051, 10.640484816578281, 697.02314204796789, 117.22725098221956, 29.346911163198651, 54.265302500732759, 43.288410957423451, 150.08782016055309, 4.5446755005559574, 37.289522970663491, 329.92884706986217, 36.289678173388225, 131.07412735585024, 393.87953596517201, 8.4615535709580918, 1.6455393903727331, 1.645539390358765, 1.6455393834242935, 16.354546323321053, 11.407083465782117, 10.408955186323942, 49.103537763795394, 139.37337699620247, 128.83221987619214, 113.85532666232066, 109.79850930254948, 39.083420421211123, 23.464731015304086, 116.63712268793134, 74.19980182285282, 85.704169870629215, 42.956355992560205, 149.95827063110673, 110.00937102311136, 195.34496261278048, 57.087819144036693, 78.162207734091467, 66.432945714061958, 0.71331803317815967, 0.71331803317815967, 0.71331803317815967, 0.71331803267576099, 0.71331803267576099, 0.71331803254794246, 0.71331803253406001, 0.71331803247170433, 0.71331803223148271, 0.71331803223458201, 0.7133180321671686, 0.71331803215499534, 0.71331803183705222, 0.71331803172940922, 0.71331803169081132, 0.71331803156300799, 0.71331803127988369, 0.71331803069597643, 0.71331802768740182, 0.71331802501685837, 0.71331802501685837, 0.71331802490197005, 0.71331802490197005, 0.71331802490197005, 0.71331802485178974, 0.71331802485178974, 0.71331801256245586, 0.71331801256245586, 0.71331801256245586, 0.71331801256245586, 10.54954502223849, 5.575864826980097, 4.5803867454741773, 193.2803914540419, 179.27649166461367, 3.5765942495681955, 186.12797962723127, 112.28134833196818, 33.384561359226701, 35.367927320740868, 22.394967117215682, 1328.8946135506201, 171.14350938022221, 8.4741347078618876, 65.245035254792427, 43.290921336021192, 173.09322110186392, 96.175862195003546, 5.5098332297281774, 32.304038367332126, 68.171647689509655, 59.182638297648438, 44.221015219646951, 4.5091448027117007, 2.5801459693247595, 40.230661730517838, 116.05426065525336, 59.17114440782418, 59.165317450878121, 97.540977612081491, 40.218292967870042, 77.451744084737072, 202.92936583042339, 108.02939600140904, 255.73734920994269, 451.46500425469202, 148.84333621862589, 144.75871414891293, 250.69187409581099, 100.71949926817493, 56.048592912181249, 73.87094389360216, 148.8346020242389, 72.19919507730441, 94.517155444552245, 59.001792654855812, 71.660457839772945, 55.870332542901757, 0.6754888123521029, 0.6754888123521029, 0.6754888123521029, 0.6754888123521029, 0.6754888123521029, 0.6754888123521029, 0.6754888123521029, 0.6754888123521029, 0.6754888123521029, 0.6754888123521029, 0.6754888123521029, 0.6754888123521029, 0.6754888123521029, 0.6754888123521029, 0.6754888123521029, 0.6754888123521029, 0.67548881235210279, 0.6754888119966056, 0.67548881197963151, 0.67548881197963151, 0.67548881197963151, 0.67548881190074095, 0.67548881190074095, 0.67548881190074095, 0.67548881184863541, 0.67548881184872611, 0.67548881177021136, 0.6754888117994049, 0.6754888117994049, 0.6754888117994049, 3.5688216255132148, 2.5840144068887003, 2.5840144068887003, 2.5840144033651335, 2.5840144013443846, 2.5840143852669648, 1.6113994461999586, 1.6113994446404909, 1.6113994433985592, 1.6113994428596317, 1.6113994409984502, 1.6113994404614702, 1.6113994407671848, 1.6113991846033409, 9.4909720955548877, 5.5163630372781656, 159.33671568447764, 7.4843718583010199, 3.5325439138545436, 640.2355405769963, 279.27500918997896, 45.041215930665118, 14.401389506695191, 6.4636798209015325, 17.38310335469685, 7.4495650018862767, 7.4495650018862767, 17.375272362672884, 5.4734207039623266, 39.79258781462741, 57.23909596766341, 255.04589215811194, 473.94895544039514, 12.393124549567563, 61.171214375176909, 27.274997330530997, 120.04366803392402, 73.117966214118056, 67.124232320666081, 274.82010945316387, 506.19793072170876, 23.26670260925799, 78.018581099070545, 50.083412619005585, 83.946587919760816, 30.155835836525164, 79.876736880261788, 45.046321587807768, 24.204277736514872, 54.967735447441875, 56.939051430087495, 36.078370074147507, 213.2107590836107, 78.658399985928355, 74.679035016673495, 73.584909232533604, 47.88055707401103, 36.036056895261709, 203.75309208467439, 131.68414884065095, 94.882486896576083, 73.403550091165954, 88.323514403242399, 0.66501253621916612, 0.66501253621916612, 0.66501253621916623, 0.66501253621916623, 0.66501253621916623, 0.66501253621916612, 0.66501253610211608, 0.66501253610211608, 0.66501253597438437, 0.66501253590426446, 0.66501253587764797, 0.66501253579115882, 0.66501253579115882, 0.66501253579115882, 0.66501253579045283, 0.66501253567979157, 0.66501253559759255, 0.66501253563042639, 0.66501253562303075, 0.66501253560370377, 0.66501253557281159, 0.66501253550864903, 0.66501253546279437, 0.66501253546279437, 0.66501253545954275, 0.66501253545954275, 0.66501253545560324, 0.66501253538321659, 0.66501253538321659, 0.66501253534298177, 16.507206948341768, 16.507206948341768, 23.49797481062561, 7.499575161561161, 1.5963421503057456, 1.5963421507178659, 1.5963421499928736, 1.5963421453927968, 1.5963421453927968, 1.5963421136431504, 1.5963400182708369, 1.5963268031032174, 290.3676876792498, 5.4948586314700103, 43.379976480556323, 43.379976480556323, 49.36331633365014, 57.351094912159724, 194.26379392751213, 78.752247211496936, 10.431086291352742, 328.13187523978252, 3.4961529298233183, 135.17921992406309, 303.89597670383137, 144.12884061660998, 16.30321648128707, 40.234760221830136, 27.951165187735679, 8.3883880683347378, 155.05040822082049, 169.7645357336857, 207.94090026948194, 26.250499500759418, 349.77890612041881, 47.143009455196989, 16.297353986686876, 82.030273233633366, 71.039668491869918, 50.101599966896174, 237.76084871087423, 121.91337462090479, 166.78462819620816, 80.940915755691023, 185.44348858625696, 58.025594449699881, 77.926481495317489, 105.28187379090343, 123.34608149184153, 174.17817013745156, 71.793614168450986, 60.136027532087411, 0.68534883682551029, 0.68534883664342727, 0.68534883647357381, 0.68534883647357381, 0.68534883647357381, 0.68534883647357381, 0.68534883647357381, 0.68534883635997179, 0.68534883635997179, 0.68534883635997179, 0.68534883635997179, 0.68534883635997179, 0.68534883635997179, 0.68534883635997179, 0.68534883635997179, 0.68534883611400121, 0.68534883611400121, 0.68534883615333841, 0.68534883615333841, 0.68534883615333841, 0.68534883615333841, 0.68534883615333841, 0.68534883615333841, 0.68534883615333841, 0.68534883584648898, 0.68534883584648898, 0.68534883584648898, 0.6853488358694565, 0.6853488358694565, 0.6853488357403017, 11.552614032672034, 1.6254008144564176, 1.6254008080848095, 18.487062795862951, 188.20613563621083, 245.28006595156685, 246.27969034038802, 598.20924895379949, 160.28459483658673, 60.325169473718184, 399.17475553787398, 9.6465816277438297, 143.17494248797487, 10.421203016079685, 419.96664603584111, 74.223006013026449, 107.14090182740227, 27.295239316944912, 10.394920163526123, 91.136818161877287, 15.348472662078388, 10.376805968309455, 24.254802388219872, 179.95050490929754, 54.128458778427188, 173.70979079933574, 2.535055275946537, 12.330142823044762, 251.81289278279129, 211.80628508659609, 117.30942359010953, 191.77648310721119, 69.993191795454948, 25.193755005972179, 123.7641742607298, 61.952423285167725, 46.01106016185576, 137.50627171639158, 54.928430568746961, 117.6349827089974, 166.9872372072181, 98.506944334042544, 68.602523451760987, 63.65226927507512, 83.811966456336251, 74.581395733668444, 74.374407763018112, 45.19256754471013, 0.69749949210320639, 0.69749949210320639, 0.6974994917730537, 0.69749949137132838, 0.6974994911529061, 0.6974994911700918, 0.69749949096165142, 0.69749949094064523, 0.69749949059630068, 0.69749949037878511, 0.69749949037878511, 0.69749949037878511, 0.69749949037878511, 0.69749949046682236, 0.69749949046682236, 0.69749949046682236, 0.69749948904509129, 0.69749948250303684, 0.69749948250303684, 0.69749948250303684, 0.69749948250303684, 0.69749948250303684, 0.69749948250303684, 0.69749948250303684, 1.6424322323147997, 1.6424322323147997, 1.6424322269968121, 7.5550168835080713, 4.5501782041670307, 1.6030846596994015, 7.5257620759048498, 53.430367050264138, 5.5330227471774869, 37.399401877443694, 3.554684599924911, 3.554684599877747, 3.5546845247018228, 188.20240320228689, 565.05964482896491, 31.347956181814052, 72.240822754963361, 96.231072459995673, 10.443172707089806, 77.227961689764598, 4.516470368881671, 10.431294302192711, 173.09509504960388, 51.248403424630091, 107.14921403610066, 4.5041593217656182, 5.4732313882711789, 317.78695469965976, 94.092863366330917, 89.097689054333131, 52.173911220919095, 107.51174676997792, 83.80779743741293, 135.95338685403553, 190.80706529165298, 118.89924441959471, 13.351661248985295, 73.584933747769412, 9.4836345492972036, 114.14982296710308, 179.63606323036439, 57.986954586726412, 87.8357586947632, 66.222137116635636, 345.82023208487681, 39.072764518321044, 108.37190419624007, 71.726846062717826, 81.145115358592193, 72.307707899654375, 69.749655119467818, 65.513245726455665, 89.284076095461771, 0.69079115453984086, 0.69079115453984097, 0.69079115453984097, 0.69079115453984097, 0.69079115429710636, 0.69079115418942927, 0.69079115418942927, 0.69079115418942927, 0.69079115418942927, 0.69079115418942927, 0.69079115418942927, 0.69079115407459835, 0.69079115401861624, 0.69079115397829371, 0.69079115385646628, 0.69079115385646628, 0.69079115378388722, 0.69079115378388722, 0.69079115378388722, 0.69079115373578692, 0.69079115373578692, 0.69079115373578692, 0.69079115362365107, 0.69079115360890486, 0.69079115368095922, 0.69079115368095922, 0.69079115368095922, 0.69079115351433018, 0.69079115327980134, 0.69079115322563456, 1.6330593203620842, 190.29476473185196, 79.350246247099435, 648.08332415795553, 131.27954851926015, 10.458648856191541, 20.397851155111638, 63.276951436318093, 2.5648509897685963, 368.0682559454188, 9.4384945378182952, 14.395162814285349, 200.10162284408881, 18.362783589782868, 157.10807623081411, 4.500852539024919, 15.371242721395921, 5.476476082323912, 36.263394673979192, 76.156769778761344, 85.139847457731975, 29.273099548213587, 67.165210124318875, 407.84114233982581, 5.4591017770306385, 96.075736747744287, 18.306506080575296, 177.94719511727334, 72.09678298660674, 53.650161659683988, 69.085615620949781, 78.058538757716036, 33.203550194041497, 67.066692455426946, 115.93739138503189, 108.87335586618249, 53.036076113639581, 71.896562735141487, 81.829536902733835, 59.714126763593669, 127.50638251888624, 98.648506789604099, 88.682353836336006, 91.910919229577317, 81.691973476495434, 170.63286159765448, 97.058151377725977, 82.384094974744727, 0.68326732171127647, 0.68326732171127658, 0.68326732123828682, 0.68326732123690459, 0.68326732114521183, 0.68326732114521183, 0.68326732100289589, 0.68326732086345054, 0.68326732102939447, 0.6832673209425032, 0.6832673209425032, 0.68326732100693155, 0.68326732090013509, 0.68326732090013509, 0.68326732090013509, 0.68326732084210917, 0.68326732069812612, 0.68326732082550834, 0.68326732082550834, 0.6832673207928297, 0.68326732068075102, 0.68326732062291073, 0.68326732062291073, 0.68326732078750452, 0.68326732063574647, 0.68326732072707208, 0.68326732057783657, 0.68326732055030592, 0.68326732035351456, 0.68326732035351456, 2.5966456401946072, 2.5966455408431277, 1.622458629239421, 1.6224586288854279, 1.6224586279983757, 1.6224586261926934, 1.6224586216650287, 13.469387377050072, 77.378848370687365, 3.5470860834268017, 31.395096165382263, 6.4889015046037724, 267.22386510879261, 309.18806521885989, 205.2105430127948, 5.4807798693136887, 7.2200908543126818, 62.241170361633955, 24.326061947104137, 416.96112784800539, 495.92312666220857, 16.348907582472762, 7.4281008903697696, 71.167519868727439, 66.15670957095864, 11.370304414016829, 22.284133255441052, 631.74661878954794, 49.175177480478062, 4.4689663090280343, 44.169458782334395, 79.047118953870566, 105.96649886711386, 59.079921629192505, 98.953462288242477, 192.79045856275363, 16.296086804674996, 194.22225720449961, 63.958111207783446, 34.102517464994989, 15.290159464232932, 48.982489471018688, 34.088211464403877, 48.93340336038861, 113.02710521727205, 44.93235038669976, 83.624008964510182, 40.956985211187202, 84.355954167148681, 101.07772745575585, 27.186864645889898, 53.15541758793092, 84.338669683265607, 57.531933982140011, 65.277992939986319, 52.289841778799868, 52.694572870684304, 0.68852257749629053, 0.68852257749629053, 0.68852257749629053, 0.68852257749629053, 0.68852257749629053, 0.68852257749629053, 0.68852257749629053, 0.68852257749629053, 0.6885225772161141, 0.6885225772161141, 0.68852257697672203, 0.68852257697672203, 0.68852257697672203, 0.68852257686786167, 0.68852257680389695, 0.68852257680389695, 0.68852257680389695, 0.68852257663292726, 0.68852257665810379, 0.68852257665810379, 0.68852257654759952, 0.68852257655122573, 0.68852257655122573, 0.68852257659212135, 0.68852257660773908, 0.68852257660773908, 0.68852257652476068, 0.68852257638281755, 0.68852257649389992, 0.68852257649590898, 9.5642298541641964, 5.5767412431332, 5.5767412431332, 5.5767412431332, 5.5767412431332, 5.5767412431332, 3.5914047107918754, 2.6050861792736417, 1.6298729334213076, 22.533763405474694, 16.536840798183889, 7.5563009468624536, 23.527183709849147, 133.47982586165654, 5.5526120049607446, 18.49664301555466, 3.5679441641950036, 3.5679441641950036, 174.414889497627, 18.344854234973582, 146.36499114698236, 46.367432585130906, 590.14821791944109, 32.370179689767461, 1670.9172884912732, 10.436426268815445, 2.5608928485438223, 89.201055245418274, 30.296996661163927, 4.4927143122263438, 937.73649650961852, 57.171483255593664, 42.199018574018467, 61.121187583721081, 43.178520722121384, 74.029826614377953, 74.995073429083689, 300.46980756120212, 414.95165149463872, 44.04791992167636, 40.042478884600158, 59.869164929391602, 30.822914230391426, 59.784408667901864, 32.089615980470732, 37.997216905631532, 63.891230322834708, 101.18991183135316, 57.086250025959728, 40.147705595039916, 0.71867738386772706, 0.7186773835039284, 0.71867738352313504, 0.71867738353442145, 0.71867738339588383, 0.71867738341297227, 0.71867738341297227, 0.71867738337771203, 0.71867738337771203, 0.71867738318910757, 0.71867738299875483, 0.71867738306835682, 0.71867738306835682, 0.71867738306835682, 0.71867738306835682, 0.71867738300801143, 0.71867738269837478, 0.71867738269837478, 0.71867738269837478, 0.71867738265466485, 0.71867738215100507, 0.71867738194589315, 0.71867738126034186, 0.7186773803653802, 0.71867737968930867, 0.71867737980075652, 0.71867737933322284, 0.71867737634962492, 0.71867737122353181, 1.6715440125975087, 1.6715440123655616, 1.6715440123161884, 1.6715440110336979, 1.6715440106450561, 1.6715440097182896, 1.6715437983890427, 173.43380430735255, 4.5904076817653285, 26.488199531685336, 7.5375244084407615, 91.331139031382136, 550.11530178855389, 79.298028955597971, 464.05682571751214, 1349.7384580059493, 126.17232122354787, 172.11666835360478, 27.337385336569028, 34.299950108694546, 56.230374901674011, 24.333574200196171, 9.4417016402324094, 27.305257806449369, 47.222307856257167, 20.342208401045902, 309.86789313688649, 3.7089299286194644, 147.00489162318797, 12.396911807798327, 44.212980828389618, 67.119032905976283, 160.87007061150234, 148.05308027241313, 281.629331878963, 61.081769446670144, 70.077481203442971, 59.058041312134051, 229.76329547755145, 101.79712232587259, 151.53101749458614, 35.108866277498187, 72.702237921610404, 69.523174424726648, 70.862107679698056, 78.44728689633601, 43.839973940390067], \"Total\": [5271.0, 5192.0, 8128.0, 4521.0, 4209.0, 3876.0, 2777.0, 3687.0, 4001.0, 2914.0, 2531.0, 3373.0, 2616.0, 9713.0, 3390.0, 3543.0, 2591.0, 3736.0, 2505.0, 2097.0, 3430.0, 2231.0, 1826.0, 3054.0, 1672.0, 2365.0, 2440.0, 6315.0, 1780.0, 2445.0, 1.0, 1.0, 5.0, 3.0, 7.0, 2.0, 2.0, 1.0, 19.0, 2.0, 35.0, 23.0, 7.0, 103.0, 12.0, 2.0, 2.0, 2.0, 3.0, 17.0, 6.0, 10.0, 3.0, 11.0, 19.0, 3.0, 28.0, 6.0, 2.0, 4.0, 15.0, 21.0, 3430.0, 3054.0, 4001.0, 78.0, 3736.0, 8128.0, 37.0, 359.0, 59.0, 9713.0, 2529.0, 57.0, 385.0, 1828.0, 2343.0, 4521.0, 217.0, 1744.0, 3390.0, 7335.0, 2445.0, 2339.0, 2440.0, 3560.0, 1975.0, 2076.0, 6315.0, 3543.0, 5902.0, 3876.0, 851.0, 1248.0, 1259.0, 1.0, 1.0, 1.0, 1.0, 1.0, 1.0, 1.0, 1.0, 8.0, 3.0, 5.0, 1.0, 1.0, 1.0, 1.0, 1.0, 1.0, 1.0, 1.0, 1.0, 1.0, 2.0, 9.0, 1.0, 1.0, 1.0, 1.0, 5.0, 4.0, 1.0, 7.0, 69.0, 67.0, 40.0, 5192.0, 53.0, 284.0, 5271.0, 1582.0, 857.0, 10.0, 390.0, 407.0, 371.0, 152.0, 20.0, 286.0, 144.0, 53.0, 7335.0, 128.0, 60.0, 1033.0, 13.0, 10.0, 9713.0, 2022.0, 1392.0, 2835.0, 696.0, 5902.0, 638.0, 3230.0, 1259.0, 1743.0, 1418.0, 1681.0, 1225.0, 1198.0, 1.0, 1.0, 1.0, 1.0, 1.0, 1.0, 1.0, 1.0, 1.0, 1.0, 1.0, 1.0, 1.0, 1.0, 1.0, 1.0, 8.0, 3.0, 1.0, 1.0, 1.0, 1.0, 1.0, 1.0, 1.0, 1.0, 1.0, 1.0, 2.0, 3.0, 55.0, 37.0, 21.0, 17.0, 43.0, 2591.0, 1650.0, 26.0, 7.0, 3.0, 1283.0, 781.0, 559.0, 320.0, 28.0, 198.0, 63.0, 23.0, 132.0, 851.0, 29.0, 22.0, 206.0, 1095.0, 112.0, 48.0, 12.0, 38.0, 21.0, 60.0, 430.0, 108.0, 4267.0, 1092.0, 74.0, 2529.0, 216.0, 8128.0, 1757.0, 2066.0, 7335.0, 4209.0, 1514.0, 9713.0, 1828.0, 6315.0, 2076.0, 1248.0, 2552.0, 1.0, 1.0, 1.0, 1.0, 1.0, 1.0, 1.0, 1.0, 1.0, 1.0, 1.0, 1.0, 1.0, 1.0, 1.0, 1.0, 1.0, 1.0, 1.0, 1.0, 1.0, 1.0, 1.0, 1.0, 1.0, 1.0, 1.0, 1.0, 1.0, 6.0, 6.0, 15.0, 64.0, 258.0, 153.0, 156.0, 8.0, 10.0, 34.0, 4.0, 91.0, 33.0, 31.0, 3876.0, 3373.0, 4.0, 3543.0, 46.0, 1388.0, 4.0, 339.0, 1496.0, 45.0, 18.0, 380.0, 980.0, 8.0, 449.0, 425.0, 1418.0, 33.0, 98.0, 72.0, 149.0, 3687.0, 58.0, 6315.0, 48.0, 593.0, 855.0, 2835.0, 1681.0, 1.0, 1.0, 1.0, 1.0, 1.0, 1.0, 1.0, 1.0, 1.0, 1.0, 1.0, 1.0, 1.0, 1.0, 1.0, 1.0, 1.0, 1.0, 1.0, 1.0, 1.0, 1.0, 1.0, 1.0, 1.0, 1.0, 1.0, 1.0, 1.0, 1.0, 9.0, 9.0, 9.0, 9.0, 4.0, 2.0, 2.0, 2.0, 2.0, 2.0, 2.0, 2.0, 18.0, 20.0, 19.0, 35.0, 23.0, 18.0, 334.0, 38.0, 341.0, 1716.0, 29.0, 43.0, 1764.0, 53.0, 105.0, 26.0, 21.0, 1266.0, 316.0, 340.0, 754.0, 118.0, 72.0, 234.0, 34.0, 339.0, 615.0, 424.0, 226.0, 167.0, 336.0, 91.0, 1828.0, 231.0, 213.0, 82.0, 186.0, 9713.0, 7335.0, 6315.0, 466.0, 2552.0, 2066.0, 4267.0, 1743.0, 1259.0, 1.0, 1.0, 1.0, 1.0, 1.0, 1.0, 1.0, 1.0, 1.0, 1.0, 1.0, 1.0, 1.0, 1.0, 1.0, 1.0, 1.0, 1.0, 1.0, 1.0, 1.0, 1.0, 1.0, 1.0, 1.0, 1.0, 1.0, 1.0, 1.0, 1.0, 2.0, 2.0, 2.0, 494.0, 50.0, 6.0, 310.0, 32.0, 36.0, 25.0, 37.0, 5.0, 23.0, 227.0, 84.0, 52.0, 16.0, 172.0, 119.0, 11.0, 205.0, 5.0, 4209.0, 374.0, 21.0, 39.0, 12.0, 69.0, 67.0, 16.0, 4521.0, 433.0, 54.0, 55.0, 154.0, 5902.0, 3373.0, 220.0, 105.0, 3560.0, 605.0, 2552.0, 4267.0, 1095.0, 352.0, 2076.0, 3230.0, 1280.0, 1.0, 1.0, 1.0, 1.0, 1.0, 1.0, 1.0, 1.0, 1.0, 1.0, 1.0, 1.0, 1.0, 1.0, 1.0, 1.0, 1.0, 1.0, 1.0, 1.0, 1.0, 1.0, 1.0, 1.0, 1.0, 1.0, 1.0, 1.0, 1.0, 1.0, 3.0, 2.0, 2.0, 4.0, 58.0, 1637.0, 2231.0, 132.0, 11.0, 103.0, 109.0, 587.0, 53.0, 59.0, 5.0, 359.0, 1170.0, 17.0, 75.0, 989.0, 3.0, 1132.0, 2.0, 584.0, 53.0, 118.0, 61.0, 277.0, 2117.0, 53.0, 214.0, 183.0, 495.0, 122.0, 36.0, 519.0, 42.0, 769.0, 1757.0, 490.0, 8128.0, 4267.0, 1248.0, 2835.0, 7335.0, 1149.0, 376.0, 2100.0, 1.0, 1.0, 1.0, 1.0, 1.0, 1.0, 1.0, 1.0, 1.0, 1.0, 1.0, 1.0, 1.0, 1.0, 1.0, 3.0, 2.0, 20.0, 3.0, 2.0, 2.0, 3.0, 3.0, 1.0, 1.0, 1.0, 1.0, 1.0, 1.0, 1.0, 2.0, 2.0, 2.0, 2.0, 173.0, 422.0, 5.0, 490.0, 13.0, 16.0, 280.0, 9.0, 3687.0, 2066.0, 321.0, 1596.0, 186.0, 196.0, 175.0, 354.0, 65.0, 188.0, 194.0, 1222.0, 507.0, 416.0, 594.0, 9.0, 152.0, 116.0, 445.0, 2100.0, 248.0, 42.0, 354.0, 154.0, 153.0, 1631.0, 1095.0, 5902.0, 9713.0, 2835.0, 1248.0, 1.0, 1.0, 1.0, 1.0, 1.0, 1.0, 1.0, 1.0, 1.0, 1.0, 1.0, 1.0, 1.0, 1.0, 1.0, 1.0, 1.0, 1.0, 1.0, 1.0, 1.0, 1.0, 1.0, 1.0, 1.0, 1.0, 1.0, 1.0, 1.0, 1.0, 4.0, 2.0, 2.0, 2.0, 2.0, 2.0, 17.0, 6.0, 15.0, 25.0, 138.0, 4.0, 59.0, 106.0, 665.0, 186.0, 307.0, 1592.0, 4.0, 63.0, 28.0, 22.0, 3.0, 491.0, 97.0, 983.0, 127.0, 653.0, 27.0, 275.0, 185.0, 388.0, 102.0, 200.0, 75.0, 178.0, 405.0, 468.0, 186.0, 1744.0, 490.0, 2117.0, 137.0, 159.0, 7335.0, 8128.0, 3560.0, 551.0, 4267.0, 2076.0, 622.0, 1894.0, 1975.0, 1.0, 1.0, 1.0, 1.0, 1.0, 1.0, 1.0, 1.0, 1.0, 1.0, 1.0, 1.0, 1.0, 1.0, 1.0, 1.0, 4.0, 9.0, 35.0, 1.0, 1.0, 1.0, 1.0, 1.0, 1.0, 1.0, 1.0, 1.0, 1.0, 1.0, 22.0, 13.0, 6.0, 34.0, 26.0, 141.0, 95.0, 919.0, 498.0, 9.0, 767.0, 83.0, 1266.0, 1004.0, 590.0, 884.0, 237.0, 542.0, 352.0, 474.0, 140.0, 50.0, 371.0, 140.0, 128.0, 22.0, 31.0, 14.0, 225.0, 55.0, 256.0, 6315.0, 3543.0, 75.0, 9713.0, 2552.0, 1514.0, 1149.0, 1743.0, 1225.0, 1418.0, 5902.0, 1650.0, 4267.0, 1.0, 1.0, 1.0, 1.0, 1.0, 1.0, 1.0, 1.0, 1.0, 1.0, 1.0, 1.0, 1.0, 1.0, 1.0, 1.0, 1.0, 1.0, 1.0, 2.0, 2.0, 3.0, 1.0, 1.0, 1.0, 1.0, 1.0, 1.0, 1.0, 1.0, 3.0, 3.0, 3.0, 2.0, 2.0, 39.0, 56.0, 19.0, 16.0, 45.0, 108.0, 55.0, 144.0, 2616.0, 260.0, 997.0, 911.0, 97.0, 2022.0, 210.0, 24.0, 662.0, 29.0, 62.0, 150.0, 144.0, 11.0, 48.0, 25.0, 320.0, 10.0, 24.0, 54.0, 24.0, 87.0, 498.0, 77.0, 83.0, 98.0, 190.0, 879.0, 5902.0, 1674.0, 698.0, 6315.0, 4209.0, 1743.0, 1514.0, 9713.0, 1828.0, 377.0, 1.0, 1.0, 1.0, 1.0, 1.0, 1.0, 1.0, 1.0, 1.0, 1.0, 1.0, 1.0, 1.0, 1.0, 1.0, 1.0, 1.0, 1.0, 1.0, 1.0, 1.0, 1.0, 1.0, 1.0, 1.0, 1.0, 1.0, 1.0, 2.0, 2.0, 2.0, 8.0, 2097.0, 7.0, 5.0, 52.0, 154.0, 137.0, 15.0, 223.0, 388.0, 13.0, 323.0, 176.0, 149.0, 3.0, 646.0, 159.0, 1115.0, 176.0, 125.0, 45.0, 299.0, 137.0, 194.0, 53.0, 30.0, 20.0, 386.0, 132.0, 124.0, 57.0, 239.0, 42.0, 96.0, 125.0, 75.0, 3390.0, 624.0, 574.0, 1004.0, 940.0, 466.0, 130.0, 420.0, 1650.0, 1743.0, 6315.0, 1.0, 1.0, 1.0, 1.0, 1.0, 1.0, 1.0, 1.0, 1.0, 1.0, 1.0, 1.0, 1.0, 1.0, 1.0, 1.0, 1.0, 1.0, 1.0, 1.0, 1.0, 1.0, 1.0, 1.0, 1.0, 1.0, 1.0, 1.0, 1.0, 1.0, 3.0, 2.0, 2.0, 2.0, 2.0, 2.0, 2.0, 4.0, 29.0, 4.0, 199.0, 245.0, 4.0, 231.0, 101.0, 229.0, 543.0, 214.0, 2365.0, 61.0, 38.0, 237.0, 4.0, 4.0, 14.0, 7.0, 1894.0, 502.0, 40.0, 370.0, 567.0, 68.0, 19.0, 84.0, 14.0, 223.0, 158.0, 9.0, 41.0, 101.0, 127.0, 63.0, 195.0, 32.0, 32.0, 48.0, 67.0, 80.0, 77.0, 1239.0, 198.0, 3230.0, 2835.0, 1681.0, 4267.0, 121.0, 776.0, 1514.0, 1975.0, 1.0, 1.0, 1.0, 1.0, 1.0, 1.0, 1.0, 1.0, 1.0, 1.0, 1.0, 1.0, 1.0, 1.0, 1.0, 1.0, 1.0, 1.0, 1.0, 1.0, 1.0, 1.0, 1.0, 1.0, 1.0, 1.0, 1.0, 1.0, 1.0, 1.0, 3.0, 38.0, 135.0, 113.0, 458.0, 248.0, 44.0, 32.0, 266.0, 5.0, 3.0, 284.0, 283.0, 106.0, 13.0, 232.0, 624.0, 72.0, 58.0, 14.0, 60.0, 4.0, 289.0, 61.0, 28.0, 8.0, 1760.0, 114.0, 9.0, 450.0, 84.0, 619.0, 20.0, 1674.0, 147.0, 227.0, 47.0, 407.0, 238.0, 366.0, 502.0, 1757.0, 2100.0, 253.0, 4267.0, 128.0, 1225.0, 1.0, 1.0, 1.0, 1.0, 1.0, 1.0, 1.0, 1.0, 1.0, 1.0, 1.0, 1.0, 1.0, 1.0, 2.0, 9.0, 6.0, 4.0, 2.0, 54.0, 4.0, 1.0, 1.0, 1.0, 3.0, 6.0, 3.0, 3.0, 1.0, 2.0, 87.0, 3.0, 64.0, 666.0, 385.0, 398.0, 635.0, 87.0, 153.0, 287.0, 109.0, 2440.0, 738.0, 3390.0, 704.0, 367.0, 295.0, 95.0, 253.0, 122.0, 420.0, 58.0, 29.0, 9.0, 140.0, 41.0, 161.0, 85.0, 18.0, 132.0, 230.0, 543.0, 9713.0, 662.0, 2529.0, 3230.0, 6315.0, 751.0, 1.0, 1.0, 1.0, 1.0, 1.0, 1.0, 1.0, 1.0, 1.0, 1.0, 1.0, 1.0, 1.0, 1.0, 1.0, 1.0, 1.0, 1.0, 1.0, 1.0, 1.0, 1.0, 1.0, 1.0, 1.0, 1.0, 1.0, 1.0, 1.0, 1.0, 1.0, 1.0, 1.0, 11.0, 144.0, 54.0, 18.0, 15.0, 29.0, 111.0, 64.0, 244.0, 16.0, 85.0, 222.0, 1339.0, 150.0, 113.0, 51.0, 11.0, 13.0, 407.0, 380.0, 410.0, 21.0, 36.0, 274.0, 113.0, 420.0, 122.0, 55.0, 66.0, 160.0, 81.0, 193.0, 187.0, 71.0, 152.0, 258.0, 513.0, 176.0, 92.0, 138.0, 1975.0, 977.0, 178.0, 9713.0, 1743.0, 2552.0, 1225.0, 6315.0, 1.0, 1.0, 1.0, 1.0, 1.0, 1.0, 1.0, 1.0, 1.0, 1.0, 1.0, 1.0, 1.0, 1.0, 1.0, 1.0, 1.0, 1.0, 1.0, 1.0, 1.0, 1.0, 1.0, 1.0, 2.0, 3.0, 4.0, 1.0, 1.0, 1.0, 10.0, 25.0, 3.0, 34.0, 356.0, 1427.0, 25.0, 1020.0, 719.0, 41.0, 1588.0, 212.0, 52.0, 368.0, 338.0, 165.0, 175.0, 320.0, 66.0, 15.0, 9.0, 29.0, 150.0, 26.0, 24.0, 254.0, 19.0, 178.0, 78.0, 177.0, 177.0, 174.0, 71.0, 216.0, 163.0, 159.0, 111.0, 2529.0, 7335.0, 5902.0, 1975.0, 1681.0, 1496.0, 2835.0, 1418.0, 3230.0, 1.0, 1.0, 1.0, 1.0, 1.0, 1.0, 1.0, 1.0, 1.0, 1.0, 1.0, 1.0, 1.0, 1.0, 1.0, 1.0, 1.0, 1.0, 1.0, 1.0, 1.0, 1.0, 1.0, 1.0, 1.0, 1.0, 1.0, 1.0, 1.0, 1.0, 3.0, 2.0, 2.0, 2.0, 2.0, 3.0, 18.0, 24.0, 16.0, 18.0, 4.0, 33.0, 152.0, 4.0, 4.0, 4.0, 10.0, 54.0, 50.0, 6.0, 543.0, 25.0, 29.0, 1624.0, 202.0, 12.0, 12.0, 108.0, 5.0, 54.0, 48.0, 64.0, 320.0, 210.0, 337.0, 88.0, 294.0, 476.0, 1607.0, 208.0, 18.0, 81.0, 78.0, 66.0, 256.0, 89.0, 173.0, 326.0, 155.0, 78.0, 150.0, 3876.0, 704.0, 2552.0, 1198.0, 6315.0, 9713.0, 525.0, 1.0, 1.0, 1.0, 1.0, 2.0, 1.0, 1.0, 1.0, 1.0, 1.0, 1.0, 1.0, 1.0, 1.0, 1.0, 1.0, 1.0, 1.0, 1.0, 1.0, 1.0, 1.0, 1.0, 1.0, 1.0, 1.0, 33.0, 7.0, 62.0, 4.0, 27.0, 311.0, 327.0, 333.0, 336.0, 16.0, 8.0, 13.0, 323.0, 251.0, 239.0, 10.0, 261.0, 476.0, 357.0, 11.0, 19.0, 237.0, 165.0, 176.0, 16.0, 469.0, 394.0, 605.0, 1222.0, 196.0, 672.0, 145.0, 125.0, 2100.0, 1392.0, 154.0, 222.0, 390.0, 333.0, 381.0, 519.0, 2440.0, 1.0, 1.0, 1.0, 1.0, 1.0, 1.0, 1.0, 1.0, 1.0, 1.0, 1.0, 1.0, 1.0, 1.0, 1.0, 1.0, 1.0, 1.0, 1.0, 1.0, 1.0, 1.0, 1.0, 1.0, 1.0, 1.0, 1.0, 2.0, 5.0, 2.0, 31.0, 279.0, 322.0, 46.0, 6.0, 490.0, 102.0, 36.0, 409.0, 39.0, 322.0, 1228.0, 72.0, 121.0, 3.0, 1196.0, 205.0, 209.0, 128.0, 88.0, 218.0, 135.0, 29.0, 441.0, 59.0, 52.0, 720.0, 38.0, 42.0, 58.0, 76.0, 131.0, 228.0, 66.0, 134.0, 3560.0, 1121.0, 1650.0, 2552.0, 1975.0, 7335.0, 1757.0, 6315.0, 1681.0, 1.0, 1.0, 1.0, 1.0, 1.0, 1.0, 1.0, 1.0, 1.0, 1.0, 1.0, 1.0, 1.0, 1.0, 1.0, 1.0, 1.0, 1.0, 1.0, 1.0, 1.0, 1.0, 1.0, 1.0, 1.0, 1.0, 3.0, 3.0, 7.0, 14.0, 30.0, 66.0, 54.0, 7.0, 19.0, 12.0, 26.0, 8.0, 14.0, 30.0, 54.0, 255.0, 891.0, 545.0, 147.0, 2505.0, 27.0, 8.0, 475.0, 59.0, 35.0, 43.0, 4.0, 203.0, 3.0, 3.0, 942.0, 23.0, 18.0, 2343.0, 2445.0, 45.0, 166.0, 33.0, 39.0, 86.0, 6315.0, 141.0, 2914.0, 2365.0, 855.0, 2066.0, 3543.0, 9713.0, 540.0, 7335.0, 2339.0, 498.0, 3054.0, 5902.0, 1.0, 1.0, 1.0, 1.0, 1.0, 1.0, 1.0, 1.0, 1.0, 1.0, 1.0, 1.0, 1.0, 1.0, 1.0, 1.0, 1.0, 1.0, 1.0, 1.0, 1.0, 1.0, 1.0, 1.0, 1.0, 1.0, 1.0, 1.0, 1.0, 1.0, 4.0, 3.0, 2.0, 2.0, 2.0, 2.0, 2.0, 2.0, 2.0, 2.0, 2.0, 2.0, 2.0, 2.0, 4.0, 87.0, 11.0, 16.0, 196.0, 29.0, 57.0, 18.0, 39.0, 16.0, 10.0, 454.0, 534.0, 103.0, 96.0, 166.0, 33.0, 376.0, 154.0, 17.0, 1239.0, 37.0, 256.0, 545.0, 254.0, 963.0, 144.0, 342.0, 228.0, 97.0, 56.0, 66.0, 72.0, 229.0, 156.0, 115.0, 106.0, 70.0, 109.0, 273.0, 424.0, 2339.0, 4267.0, 1743.0, 1975.0, 6315.0, 1.0, 1.0, 1.0, 1.0, 1.0, 1.0, 1.0, 1.0, 1.0, 1.0, 1.0, 1.0, 1.0, 1.0, 1.0, 1.0, 1.0, 1.0, 1.0, 1.0, 1.0, 1.0, 1.0, 1.0, 1.0, 1.0, 1.0, 2.0, 9.0, 3.0, 27.0, 23.0, 815.0, 104.0, 1230.0, 10.0, 108.0, 43.0, 287.0, 40.0, 14.0, 34.0, 22.0, 138.0, 188.0, 21.0, 27.0, 40.0, 158.0, 940.0, 68.0, 76.0, 100.0, 154.0, 330.0, 10.0, 8.0, 574.0, 65.0, 67.0, 236.0, 84.0, 70.0, 879.0, 367.0, 86.0, 156.0, 128.0, 81.0, 382.0, 9713.0, 5902.0, 7335.0, 1743.0, 2076.0, 1092.0, 1975.0, 1.0, 1.0, 1.0, 1.0, 1.0, 1.0, 1.0, 1.0, 1.0, 1.0, 1.0, 1.0, 1.0, 1.0, 1.0, 1.0, 1.0, 1.0, 1.0, 1.0, 1.0, 1.0, 1.0, 1.0, 1.0, 1.0, 1.0, 9.0, 5.0, 2.0, 11.0, 314.0, 22.0, 364.0, 171.0, 105.0, 20.0, 53.0, 572.0, 88.0, 11.0, 178.0, 20.0, 12.0, 977.0, 243.0, 282.0, 151.0, 11.0, 44.0, 612.0, 60.0, 83.0, 55.0, 185.0, 8.0, 85.0, 415.0, 38.0, 653.0, 1631.0, 65.0, 175.0, 638.0, 111.0, 105.0, 49.0, 126.0, 90.0, 259.0, 4267.0, 1092.0, 1650.0, 5902.0, 493.0, 1225.0, 1.0, 1.0, 1.0, 1.0, 1.0, 1.0, 1.0, 1.0, 1.0, 1.0, 1.0, 1.0, 1.0, 1.0, 1.0, 1.0, 1.0, 1.0, 1.0, 1.0, 1.0, 1.0, 1.0, 1.0, 1.0, 1.0, 1.0, 1.0, 1.0, 1.0, 4.0, 4.0, 4.0, 4.0, 4.0, 3.0, 2.0, 2.0, 2.0, 6.0, 8.0, 10.0, 33.0, 98.0, 109.0, 18.0, 1514.0, 42.0, 9.0, 75.0, 225.0, 416.0, 43.0, 41.0, 5.0, 3.0, 30.0, 536.0, 25.0, 120.0, 119.0, 118.0, 174.0, 78.0, 64.0, 85.0, 81.0, 225.0, 107.0, 373.0, 89.0, 95.0, 147.0, 251.0, 61.0, 696.0, 572.0, 141.0, 97.0, 151.0, 5902.0, 131.0, 698.0, 1280.0, 3230.0, 4267.0, 1.0, 1.0, 1.0, 1.0, 1.0, 1.0, 1.0, 1.0, 1.0, 1.0, 1.0, 1.0, 1.0, 1.0, 1.0, 1.0, 1.0, 1.0, 1.0, 1.0, 1.0, 1.0, 1.0, 1.0, 1.0, 1.0, 1.0, 1.0, 1.0, 1.0, 6.0, 5.0, 5.0, 5.0, 5.0, 5.0, 5.0, 4.0, 3.0, 2.0, 2.0, 2.0, 2.0, 2.0, 2.0, 2.0, 2.0, 2.0, 2.0, 2.0, 2.0, 2.0, 2.0, 17.0, 13.0, 75.0, 7.0, 8.0, 8.0, 610.0, 38.0, 86.0, 55.0, 12.0, 37.0, 24.0, 78.0, 7.0, 27.0, 99.0, 181.0, 37.0, 7.0, 212.0, 246.0, 1124.0, 278.0, 202.0, 218.0, 92.0, 242.0, 306.0, 352.0, 376.0, 29.0, 177.0, 152.0, 184.0, 310.0, 60.0, 288.0, 102.0, 226.0, 2365.0, 3230.0, 265.0, 119.0, 7335.0, 2835.0, 5902.0, 1.0, 1.0, 1.0, 1.0, 1.0, 1.0, 1.0, 1.0, 1.0, 1.0, 1.0, 1.0, 1.0, 1.0, 1.0, 1.0, 1.0, 1.0, 1.0, 1.0, 2.0, 2.0, 2.0, 6.0, 27.0, 2.0, 14.0, 3.0, 4.0, 1.0, 5.0, 49.0, 49.0, 184.0, 234.0, 107.0, 65.0, 19.0, 202.0, 1780.0, 752.0, 620.0, 182.0, 261.0, 32.0, 42.0, 11.0, 126.0, 43.0, 238.0, 144.0, 122.0, 24.0, 22.0, 93.0, 108.0, 2505.0, 122.0, 106.0, 2339.0, 2445.0, 139.0, 2343.0, 50.0, 3430.0, 61.0, 54.0, 1.0, 1.0, 1.0, 1.0, 1.0, 1.0, 1.0, 1.0, 1.0, 1.0, 1.0, 1.0, 1.0, 1.0, 1.0, 1.0, 1.0, 1.0, 1.0, 1.0, 1.0, 1.0, 1.0, 1.0, 1.0, 1.0, 1.0, 1.0, 1.0, 1.0, 2.0, 2.0, 20.0, 19.0, 15.0, 35.0, 93.0, 246.0, 11.0, 461.0, 335.0, 17.0, 9.0, 9.0, 4.0, 509.0, 7.0, 158.0, 92.0, 241.0, 2100.0, 270.0, 365.0, 26.0, 39.0, 230.0, 27.0, 7.0, 126.0, 26.0, 50.0, 229.0, 142.0, 51.0, 229.0, 47.0, 41.0, 96.0, 540.0, 244.0, 269.0, 242.0, 145.0, 214.0, 56.0, 329.0, 114.0, 59.0, 158.0, 2835.0, 5902.0, 424.0, 1514.0, 1.0, 1.0, 1.0, 1.0, 1.0, 1.0, 1.0, 1.0, 1.0, 1.0, 1.0, 1.0, 1.0, 1.0, 1.0, 1.0, 1.0, 1.0, 1.0, 2.0, 2.0, 2.0, 4.0, 4.0, 7.0, 7.0, 11.0, 3.0, 8.0, 3.0, 6.0, 104.0, 21.0, 410.0, 131.0, 127.0, 23.0, 98.0, 94.0, 95.0, 95.0, 110.0, 140.0, 64.0, 175.0, 334.0, 50.0, 35.0, 180.0, 372.0, 32.0, 129.0, 311.0, 61.0, 151.0, 198.0, 159.0, 776.0, 188.0, 343.0, 119.0, 206.0, 380.0, 150.0, 153.0, 182.0, 540.0, 306.0, 1607.0, 530.0, 1.0, 1.0, 1.0, 1.0, 1.0, 1.0, 1.0, 1.0, 1.0, 1.0, 1.0, 1.0, 1.0, 1.0, 1.0, 1.0, 1.0, 1.0, 1.0, 1.0, 1.0, 1.0, 1.0, 1.0, 14.0, 2.0, 3.0, 24.0, 1.0, 1.0, 6.0, 4.0, 39.0, 22.0, 154.0, 158.0, 164.0, 184.0, 2914.0, 815.0, 161.0, 27.0, 404.0, 32.0, 113.0, 39.0, 502.0, 53.0, 301.0, 56.0, 41.0, 22.0, 48.0, 10.0, 366.0, 45.0, 34.0, 65.0, 6.0, 66.0, 605.0, 62.0, 383.0, 1607.0, 2100.0, 1514.0, 317.0, 381.0, 542.0, 219.0, 5902.0, 2835.0, 1.0, 1.0, 1.0, 1.0, 1.0, 1.0, 1.0, 1.0, 1.0, 1.0, 1.0, 1.0, 1.0, 1.0, 1.0, 1.0, 1.0, 1.0, 1.0, 1.0, 1.0, 1.0, 1.0, 1.0, 1.0, 1.0, 1.0, 1.0, 1.0, 1.0, 4.0, 4.0, 4.0, 3.0, 3.0, 3.0, 3.0, 3.0, 2.0, 2.0, 2.0, 2.0, 2.0, 2.0, 2.0, 2.0, 2.0, 2.0, 2.0, 2.0, 2.0, 2.0, 2.0, 2.0, 2.0, 2.0, 2.0, 2.0, 2.0, 2.0, 10.0, 6.0, 9.0, 6.0, 249.0, 84.0, 13.0, 404.0, 23.0, 85.0, 14.0, 14.0, 43.0, 7.0, 13.0, 98.0, 16.0, 2777.0, 116.0, 169.0, 64.0, 5.0, 62.0, 62.0, 64.0, 1044.0, 33.0, 85.0, 21.0, 124.0, 42.0, 30.0, 13.0, 31.0, 22.0, 134.0, 147.0, 304.0, 219.0, 188.0, 25.0, 24.0, 140.0, 1418.0, 3230.0, 638.0, 5902.0, 1.0, 1.0, 1.0, 1.0, 1.0, 1.0, 1.0, 1.0, 1.0, 2.0, 2.0, 2.0, 5.0, 1.0, 1.0, 1.0, 1.0, 1.0, 1.0, 1.0, 1.0, 1.0, 1.0, 1.0, 1.0, 1.0, 1.0, 1.0, 1.0, 1.0, 4.0, 4.0, 2.0, 2.0, 2.0, 190.0, 170.0, 6.0, 8.0, 31.0, 3.0, 25.0, 134.0, 167.0, 493.0, 154.0, 90.0, 221.0, 143.0, 118.0, 90.0, 1535.0, 17.0, 581.0, 233.0, 29.0, 339.0, 203.0, 1198.0, 49.0, 23.0, 52.0, 26.0, 152.0, 179.0, 52.0, 85.0, 363.0, 67.0, 72.0, 218.0, 69.0, 653.0, 683.0, 282.0, 3230.0, 595.0, 1631.0, 415.0, 9713.0, 2076.0, 1.0, 1.0, 1.0, 1.0, 1.0, 1.0, 1.0, 1.0, 1.0, 1.0, 1.0, 1.0, 1.0, 1.0, 1.0, 1.0, 1.0, 1.0, 1.0, 1.0, 1.0, 1.0, 1.0, 1.0, 1.0, 1.0, 1.0, 1.0, 1.0, 1.0, 2.0, 7.0, 9.0, 62.0, 59.0, 17.0, 4.0, 4.0, 1004.0, 704.0, 540.0, 92.0, 389.0, 32.0, 49.0, 7.0, 508.0, 44.0, 22.0, 276.0, 352.0, 17.0, 14.0, 67.0, 1033.0, 2.0, 28.0, 8.0, 132.0, 12.0, 25.0, 235.0, 49.0, 381.0, 84.0, 53.0, 238.0, 214.0, 38.0, 152.0, 84.0, 61.0, 6315.0, 942.0, 381.0, 3736.0, 1259.0, 9713.0, 7335.0, 5902.0, 1828.0, 1.0, 1.0, 1.0, 1.0, 1.0, 1.0, 1.0, 1.0, 1.0, 1.0, 1.0, 1.0, 1.0, 1.0, 1.0, 1.0, 1.0, 1.0, 1.0, 1.0, 1.0, 1.0, 1.0, 1.0, 1.0, 1.0, 1.0, 1.0, 1.0, 1.0, 5.0, 5.0, 4.0, 4.0, 3.0, 3.0, 3.0, 3.0, 2.0, 2.0, 2.0, 2.0, 6.0, 250.0, 95.0, 3.0, 3.0, 540.0, 276.0, 6.0, 135.0, 6.0, 3.0, 27.0, 25.0, 30.0, 92.0, 137.0, 703.0, 200.0, 736.0, 400.0, 213.0, 327.0, 195.0, 56.0, 465.0, 46.0, 50.0, 156.0, 38.0, 31.0, 20.0, 53.0, 100.0, 48.0, 25.0, 201.0, 134.0, 83.0, 125.0, 135.0, 88.0, 122.0, 216.0, 1650.0, 260.0, 2339.0, 1280.0, 4267.0, 1650.0, 1.0, 1.0, 1.0, 1.0, 1.0, 1.0, 1.0, 1.0, 1.0, 1.0, 1.0, 1.0, 1.0, 1.0, 1.0, 1.0, 1.0, 1.0, 1.0, 1.0, 1.0, 1.0, 1.0, 1.0, 1.0, 1.0, 1.0, 1.0, 1.0, 1.0, 5.0, 5.0, 4.0, 3.0, 3.0, 3.0, 3.0, 3.0, 3.0, 3.0, 3.0, 3.0, 3.0, 3.0, 2.0, 2.0, 2.0, 2.0, 2.0, 2.0, 2.0, 2.0, 2.0, 2.0, 2.0, 2.0, 2.0, 2.0, 2.0, 2.0, 31.0, 8.0, 26.0, 42.0, 11.0, 134.0, 690.0, 364.0, 85.0, 49.0, 7.0, 41.0, 144.0, 41.0, 15.0, 26.0, 367.0, 28.0, 77.0, 21.0, 50.0, 91.0, 96.0, 36.0, 832.0, 89.0, 684.0, 217.0, 35.0, 132.0, 43.0, 116.0, 116.0, 69.0, 67.0, 240.0, 229.0, 386.0, 1607.0, 160.0, 57.0, 2100.0, 1.0, 1.0, 1.0, 1.0, 1.0, 1.0, 1.0, 1.0, 1.0, 1.0, 1.0, 1.0, 1.0, 1.0, 1.0, 1.0, 1.0, 1.0, 1.0, 1.0, 1.0, 1.0, 1.0, 1.0, 1.0, 1.0, 1.0, 1.0, 1.0, 1.0, 6.0, 3.0, 2.0, 71.0, 73.0, 73.0, 25.0, 79.0, 1092.0, 194.0, 144.0, 127.0, 148.0, 61.0, 171.0, 5.0, 143.0, 51.0, 503.0, 57.0, 163.0, 34.0, 4.0, 570.0, 4.0, 70.0, 838.0, 3.0, 48.0, 45.0, 21.0, 551.0, 18.0, 281.0, 234.0, 87.0, 253.0, 169.0, 82.0, 318.0, 127.0, 3230.0, 2100.0, 6315.0, 1650.0, 404.0, 833.0, 1.0, 1.0, 1.0, 1.0, 1.0, 1.0, 1.0, 1.0, 1.0, 1.0, 1.0, 1.0, 1.0, 1.0, 1.0, 1.0, 1.0, 1.0, 1.0, 1.0, 1.0, 1.0, 1.0, 1.0, 1.0, 1.0, 1.0, 1.0, 1.0, 1.0, 3.0, 3.0, 2.0, 2.0, 2.0, 2.0, 4.0, 3.0, 35.0, 33.0, 112.0, 4.0, 17.0, 113.0, 83.0, 37.0, 26.0, 135.0, 16.0, 5.0, 1394.0, 9.0, 303.0, 818.0, 5.0, 168.0, 105.0, 4.0, 31.0, 19.0, 270.0, 131.0, 283.0, 391.0, 155.0, 356.0, 88.0, 48.0, 178.0, 25.0, 683.0, 51.0, 34.0, 129.0, 54.0, 97.0, 104.0, 980.0, 2835.0, 90.0, 5902.0, 1681.0, 1.0, 1.0, 1.0, 1.0, 1.0, 1.0, 1.0, 1.0, 1.0, 1.0, 1.0, 1.0, 1.0, 1.0, 1.0, 1.0, 1.0, 1.0, 1.0, 1.0, 1.0, 1.0, 1.0, 1.0, 1.0, 3.0, 2.0, 3.0, 2.0, 2.0, 15.0, 24.0, 2531.0, 64.0, 20.0, 357.0, 49.0, 314.0, 6.0, 239.0, 54.0, 4.0, 119.0, 314.0, 176.0, 147.0, 137.0, 258.0, 68.0, 10.0, 176.0, 84.0, 363.0, 45.0, 338.0, 14.0, 25.0, 22.0, 36.0, 269.0, 41.0, 88.0, 34.0, 31.0, 88.0, 44.0, 46.0, 1092.0, 5902.0, 653.0, 1743.0, 1681.0, 6315.0, 7335.0, 595.0, 1.0, 1.0, 1.0, 1.0, 1.0, 1.0, 1.0, 1.0, 1.0, 1.0, 1.0, 1.0, 1.0, 1.0, 1.0, 1.0, 1.0, 1.0, 1.0, 1.0, 1.0, 1.0, 1.0, 1.0, 1.0, 1.0, 1.0, 1.0, 1.0, 1.0, 2.0, 2.0, 5.0, 333.0, 30.0, 11.0, 184.0, 73.0, 21.0, 110.0, 58.0, 125.0, 109.0, 293.0, 13.0, 74.0, 58.0, 403.0, 468.0, 466.0, 144.0, 245.0, 33.0, 10.0, 12.0, 21.0, 80.0, 72.0, 10.0, 17.0, 36.0, 37.0, 179.0, 279.0, 90.0, 173.0, 138.0, 167.0, 108.0, 203.0, 624.0, 151.0, 315.0, 87.0, 456.0, 1.0, 1.0, 1.0, 1.0, 1.0, 1.0, 1.0, 1.0, 1.0, 1.0, 1.0, 1.0, 1.0, 1.0, 1.0, 1.0, 1.0, 1.0, 1.0, 1.0, 1.0, 1.0, 1.0, 1.0, 1.0, 1.0, 1.0, 1.0, 1.0, 1.0, 13.0, 3.0, 2.0, 2.0, 2.0, 2.0, 7.0, 137.0, 8.0, 88.0, 7.0, 7.0, 187.0, 10.0, 703.0, 32.0, 3.0, 209.0, 76.0, 21.0, 12.0, 12.0, 68.0, 369.0, 59.0, 6.0, 3.0, 3.0, 36.0, 4.0, 37.0, 235.0, 14.0, 14.0, 161.0, 126.0, 110.0, 69.0, 139.0, 130.0, 41.0, 109.0, 180.0, 38.0, 303.0, 33.0, 28.0, 64.0, 134.0, 102.0, 161.0, 164.0, 159.0, 62.0, 104.0, 118.0, 88.0, 121.0, 117.0, 1248.0, 4267.0, 3560.0, 1225.0, 1975.0, 1.0, 1.0, 1.0, 1.0, 1.0, 1.0, 1.0, 1.0, 1.0, 1.0, 1.0, 1.0, 1.0, 1.0, 1.0, 1.0, 1.0, 1.0, 1.0, 1.0, 1.0, 1.0, 1.0, 1.0, 1.0, 1.0, 1.0, 2.0, 2.0, 2.0, 102.0, 4.0, 243.0, 37.0, 66.0, 932.0, 1826.0, 13.0, 698.0, 118.0, 30.0, 55.0, 44.0, 151.0, 5.0, 38.0, 331.0, 37.0, 132.0, 525.0, 9.0, 2.0, 2.0, 2.0, 17.0, 12.0, 11.0, 50.0, 230.0, 130.0, 115.0, 111.0, 40.0, 29.0, 118.0, 109.0, 87.0, 44.0, 152.0, 112.0, 5902.0, 833.0, 2835.0, 1149.0, 1.0, 1.0, 1.0, 1.0, 1.0, 1.0, 1.0, 1.0, 1.0, 1.0, 1.0, 1.0, 1.0, 1.0, 1.0, 1.0, 1.0, 1.0, 1.0, 1.0, 1.0, 1.0, 1.0, 1.0, 1.0, 1.0, 1.0, 1.0, 1.0, 1.0, 11.0, 6.0, 5.0, 194.0, 180.0, 4.0, 189.0, 113.0, 34.0, 36.0, 23.0, 1330.0, 172.0, 9.0, 66.0, 44.0, 174.0, 97.0, 6.0, 33.0, 69.0, 60.0, 45.0, 5.0, 3.0, 41.0, 117.0, 60.0, 60.0, 152.0, 41.0, 103.0, 318.0, 109.0, 257.0, 453.0, 150.0, 146.0, 377.0, 102.0, 57.0, 75.0, 439.0, 88.0, 1681.0, 60.0, 5902.0, 1650.0, 1.0, 1.0, 1.0, 1.0, 1.0, 1.0, 1.0, 1.0, 1.0, 1.0, 1.0, 1.0, 1.0, 1.0, 1.0, 1.0, 1.0, 1.0, 1.0, 1.0, 1.0, 1.0, 1.0, 1.0, 1.0, 1.0, 1.0, 1.0, 1.0, 1.0, 4.0, 3.0, 3.0, 3.0, 3.0, 3.0, 2.0, 2.0, 2.0, 2.0, 2.0, 2.0, 2.0, 2.0, 10.0, 6.0, 160.0, 8.0, 4.0, 641.0, 280.0, 50.0, 15.0, 7.0, 18.0, 8.0, 8.0, 18.0, 6.0, 50.0, 58.0, 256.0, 475.0, 13.0, 62.0, 28.0, 121.0, 74.0, 68.0, 276.0, 855.0, 24.0, 79.0, 51.0, 85.0, 31.0, 81.0, 46.0, 25.0, 56.0, 58.0, 37.0, 215.0, 80.0, 76.0, 75.0, 49.0, 37.0, 4267.0, 134.0, 1757.0, 75.0, 2552.0, 1.0, 1.0, 1.0, 1.0, 1.0, 1.0, 1.0, 1.0, 1.0, 1.0, 1.0, 1.0, 1.0, 1.0, 1.0, 1.0, 1.0, 1.0, 1.0, 1.0, 1.0, 1.0, 1.0, 1.0, 1.0, 1.0, 1.0, 1.0, 1.0, 1.0, 17.0, 17.0, 24.0, 8.0, 2.0, 2.0, 2.0, 2.0, 2.0, 2.0, 2.0, 2.0, 291.0, 6.0, 44.0, 44.0, 50.0, 58.0, 195.0, 83.0, 11.0, 329.0, 4.0, 136.0, 305.0, 145.0, 24.0, 41.0, 29.0, 9.0, 156.0, 205.0, 209.0, 27.0, 351.0, 48.0, 17.0, 83.0, 72.0, 51.0, 239.0, 123.0, 168.0, 82.0, 236.0, 59.0, 105.0, 191.0, 125.0, 4267.0, 73.0, 342.0, 1.0, 1.0, 1.0, 1.0, 1.0, 1.0, 1.0, 1.0, 1.0, 1.0, 1.0, 1.0, 1.0, 1.0, 1.0, 1.0, 1.0, 1.0, 1.0, 1.0, 1.0, 1.0, 1.0, 1.0, 1.0, 1.0, 1.0, 1.0, 1.0, 1.0, 12.0, 2.0, 2.0, 19.0, 189.0, 246.0, 247.0, 599.0, 161.0, 61.0, 400.0, 11.0, 144.0, 11.0, 530.0, 75.0, 108.0, 28.0, 11.0, 92.0, 16.0, 11.0, 25.0, 181.0, 55.0, 176.0, 3.0, 13.0, 253.0, 213.0, 143.0, 193.0, 71.0, 26.0, 125.0, 63.0, 47.0, 139.0, 56.0, 151.0, 217.0, 100.0, 70.0, 65.0, 5902.0, 2552.0, 333.0, 1975.0, 1.0, 1.0, 1.0, 1.0, 1.0, 1.0, 1.0, 1.0, 1.0, 1.0, 1.0, 1.0, 1.0, 1.0, 1.0, 1.0, 1.0, 1.0, 1.0, 1.0, 1.0, 1.0, 1.0, 1.0, 2.0, 2.0, 2.0, 8.0, 5.0, 2.0, 8.0, 54.0, 6.0, 38.0, 4.0, 4.0, 4.0, 189.0, 566.0, 32.0, 73.0, 97.0, 11.0, 78.0, 5.0, 11.0, 174.0, 52.0, 108.0, 5.0, 6.0, 456.0, 95.0, 90.0, 53.0, 119.0, 99.0, 137.0, 192.0, 120.0, 14.0, 94.0, 13.0, 155.0, 181.0, 59.0, 89.0, 85.0, 593.0, 40.0, 127.0, 73.0, 540.0, 476.0, 624.0, 217.0, 7335.0, 1.0, 1.0, 1.0, 1.0, 1.0, 1.0, 1.0, 1.0, 1.0, 1.0, 1.0, 1.0, 1.0, 1.0, 1.0, 1.0, 1.0, 1.0, 1.0, 1.0, 1.0, 1.0, 1.0, 1.0, 1.0, 1.0, 1.0, 1.0, 1.0, 1.0, 2.0, 191.0, 80.0, 649.0, 132.0, 11.0, 21.0, 64.0, 3.0, 369.0, 10.0, 15.0, 201.0, 19.0, 158.0, 5.0, 16.0, 6.0, 37.0, 77.0, 86.0, 30.0, 68.0, 409.0, 6.0, 97.0, 19.0, 179.0, 73.0, 69.0, 70.0, 79.0, 34.0, 68.0, 117.0, 110.0, 54.0, 73.0, 83.0, 107.0, 129.0, 100.0, 90.0, 134.0, 698.0, 259.0, 3230.0, 2076.0, 1.0, 1.0, 1.0, 1.0, 1.0, 1.0, 1.0, 1.0, 1.0, 1.0, 1.0, 1.0, 1.0, 1.0, 1.0, 1.0, 1.0, 1.0, 1.0, 1.0, 1.0, 1.0, 1.0, 1.0, 1.0, 1.0, 1.0, 1.0, 1.0, 1.0, 3.0, 3.0, 2.0, 2.0, 2.0, 2.0, 2.0, 14.0, 78.0, 4.0, 32.0, 7.0, 268.0, 310.0, 206.0, 6.0, 9.0, 63.0, 25.0, 418.0, 497.0, 17.0, 8.0, 72.0, 67.0, 12.0, 23.0, 633.0, 50.0, 5.0, 45.0, 80.0, 107.0, 60.0, 100.0, 194.0, 17.0, 243.0, 65.0, 35.0, 16.0, 50.0, 35.0, 50.0, 179.0, 46.0, 85.0, 42.0, 86.0, 1650.0, 62.0, 698.0, 1280.0, 1757.0, 3560.0, 833.0, 7335.0, 1.0, 1.0, 1.0, 1.0, 1.0, 1.0, 1.0, 1.0, 1.0, 1.0, 1.0, 1.0, 1.0, 1.0, 1.0, 1.0, 1.0, 1.0, 1.0, 1.0, 1.0, 1.0, 1.0, 1.0, 1.0, 1.0, 1.0, 1.0, 1.0, 1.0, 10.0, 6.0, 6.0, 6.0, 6.0, 6.0, 4.0, 3.0, 2.0, 23.0, 17.0, 8.0, 24.0, 134.0, 6.0, 19.0, 4.0, 4.0, 175.0, 23.0, 147.0, 47.0, 591.0, 33.0, 1672.0, 11.0, 3.0, 90.0, 31.0, 5.0, 939.0, 58.0, 43.0, 62.0, 44.0, 75.0, 76.0, 302.0, 417.0, 45.0, 41.0, 61.0, 49.0, 80.0, 33.0, 39.0, 103.0, 103.0, 638.0, 242.0, 1.0, 1.0, 1.0, 1.0, 1.0, 1.0, 1.0, 1.0, 1.0, 1.0, 1.0, 1.0, 1.0, 1.0, 1.0, 1.0, 1.0, 1.0, 1.0, 1.0, 1.0, 1.0, 1.0, 1.0, 1.0, 1.0, 1.0, 1.0, 1.0, 2.0, 2.0, 2.0, 2.0, 2.0, 2.0, 2.0, 174.0, 5.0, 27.0, 8.0, 92.0, 551.0, 80.0, 465.0, 1351.0, 127.0, 173.0, 28.0, 35.0, 57.0, 25.0, 10.0, 28.0, 48.0, 21.0, 311.0, 5.0, 148.0, 13.0, 45.0, 68.0, 162.0, 194.0, 283.0, 62.0, 76.0, 60.0, 376.0, 103.0, 153.0, 36.0, 74.0, 71.0, 9713.0, 132.0, 5902.0], \"logprob\": [30.0, 29.0, 28.0, 27.0, 26.0, 25.0, 24.0, 23.0, 22.0, 21.0, 20.0, 19.0, 18.0, 17.0, 16.0, 15.0, 14.0, 13.0, 12.0, 11.0, 10.0, 9.0, 8.0, 7.0, 6.0, 5.0, 4.0, 3.0, 2.0, 1.0, -9.6128, -9.8879000000000001, -8.3092000000000006, -8.8436000000000003, -8.0107999999999997, -9.3103999999999996, -9.3103999999999996, -10.0373, -7.1273999999999997, -9.3809000000000005, -6.5198, -6.9554999999999998, -8.1456, -5.4726999999999997, -7.6315999999999997, -9.4364000000000008, -9.4794999999999998, -9.4970999999999997, -9.0958000000000006, -7.3613, -8.4145000000000003, -7.9142999999999999, -9.1311999999999998, -7.8360000000000003, -7.3110999999999997, -9.1577999999999999, -6.9345999999999997, -8.4774999999999991, -9.5924999999999994, -8.9260000000000002, -7.6059999999999999, -7.2923, -2.4249999999999998, -2.5746000000000002, -2.3793000000000002, -6.0830000000000002, -2.5918999999999999, -1.9743999999999999, -6.8388, -4.8596000000000004, -6.4771000000000001, -2.1886000000000001, -3.3561999999999999, -6.5327999999999999, -5.0407999999999999, -3.8199000000000001, -3.6625000000000001, -3.4159999999999999, -5.6416000000000004, -4.1323999999999996, -3.6922000000000001, -3.2046999999999999, -4.0545999999999998, -4.1159999999999997, -4.1296999999999997, -3.9177, -4.5221, -4.5884999999999998, -4.1555, -4.4513999999999996, -4.5255000000000001, -5.0697000000000001, -5.5911999999999997, -5.5087999999999999, -5.7485999999999997, -8.8364999999999991, -8.8364999999999991, -8.8364999999999991, -8.8364999999999991, -8.8364999999999991, -8.8364999999999991, -8.8364999999999991, -8.8364999999999991, -6.8529999999999998, -7.9598000000000004, -7.4749999999999996, -9.1114999999999995, -9.1114999999999995, -9.1114999999999995, -9.1114999999999995, -9.1114999999999995, -9.1114999999999995, -9.1114999999999995, -9.1114999999999995, -9.1114999999999995, -9.1114999999999995, -8.4923999999999999, -7.0210999999999997, -9.2608999999999995, -9.2608999999999995, -9.2608999999999995, -9.2608999999999995, -7.6603000000000003, -8.0120000000000005, -9.4100000000000001, -7.4793000000000003, -5.2297000000000002, -5.2607999999999997, -5.8189000000000002, -1.4306000000000001, -5.6233000000000004, -4.1181999999999999, -1.4910000000000001, -2.7412999999999998, -3.3795999999999999, -7.165, -4.2504999999999997, -4.2187000000000001, -4.3455000000000004, -5.0884, -6.7340999999999998, -4.7449000000000003, -5.3075999999999999, -6.0312000000000001, -2.5495000000000001, -5.4150999999999998, -6.0884, -4.2161999999999997, -7.1302000000000003, -7.3532999999999999, -3.2774999999999999, -4.2382999999999997, -4.6787000000000001, -4.3761000000000001, -5.1816000000000004, -4.2234999999999996, -5.2568999999999999, -4.9077000000000002, -5.2698, -5.1780999999999997, -5.3285999999999998, -5.4225000000000003, -5.5331000000000001, -5.6157000000000004, -8.7827000000000002, -8.7827000000000002, -8.7827000000000002, -8.7827000000000002, -8.7827000000000002, -8.7827000000000002, -8.7827000000000002, -8.7827000000000002, -8.7827000000000002, -8.7827000000000002, -8.7827000000000002, -8.7827000000000002, -8.7827000000000002, -8.7827000000000002, -8.7827000000000002, -8.7827000000000002, -6.8697999999999997, -7.9466000000000001, -9.0577000000000005, -9.0577000000000005, -9.0577000000000005, -9.0577000000000005, -9.0577000000000005, -9.0577000000000005, -9.0577000000000005, -9.0577000000000005, -9.0577000000000005, -9.0577000000000005, -8.3697999999999997, -8.0135000000000005, -5.1159999999999997, -5.5138999999999996, -6.1433999999999997, -6.4076000000000004, -5.5934999999999997, -1.8409, -2.2700999999999998, -6.1407999999999996, -7.3574000000000002, -8.1015999999999995, -2.8732000000000002, -3.3003999999999998, -3.6438000000000001, -4.1318000000000001, -6.1665000000000001, -4.6284999999999998, -5.5260999999999996, -6.3503999999999996, -5.0072000000000001, -3.5804999999999998, -6.2060000000000004, -6.4286000000000003, -4.7310999999999996, -3.464, -5.2145999999999999, -5.8514999999999997, -6.9051999999999998, -6.0637999999999996, -6.5156000000000001, -5.7487000000000004, -4.3630000000000004, -5.3609, -2.7923, -3.7549999999999999, -5.6703999999999999, -3.6154999999999999, -5.1269999999999998, -3.2158000000000002, -4.1901000000000002, -4.1299999999999999, -3.6368, -3.9306999999999999, -4.3949999999999996, -3.6880999999999999, -4.5876000000000001, -4.3433000000000002, -4.6966000000000001, -5.1699999999999999, -5.1311999999999998, -8.6244999999999994, -8.6244999999999994, -8.6244999999999994, -8.6244999999999994, -8.6244999999999994, -8.6244999999999994, -8.6244999999999994, -8.6244999999999994, -8.6244999999999994, -8.6244999999999994, -8.6244999999999994, -8.6244999999999994, -8.6244999999999994, -8.6244999999999994, -8.6244999999999994, -8.6244999999999994, -8.6244999999999994, -8.6244999999999994, -8.6244999999999994, -8.6244999999999994, -8.6244999999999994, -8.6244999999999994, -8.6244999999999994, -8.6244999999999994, -8.6244999999999994, -8.6244999999999994, -8.6244999999999994, -8.6244999999999994, -8.6244999999999994, -6.8394000000000004, -6.8394000000000004, -5.9957000000000003, -4.7351000000000001, -3.6381999999999999, -4.1083999999999996, -4.0934999999999997, -6.7900999999999998, -6.6128, -5.5991, -7.4443999999999999, -4.7991999999999999, -5.6826999999999996, -5.7935999999999996, -1.8708, -2.0030999999999999, -7.4908999999999999, -2.0720000000000001, -5.5721999999999996, -2.8933, -7.5210999999999997, -4.0730000000000004, -2.9453999999999998, -5.6702000000000004, -6.3929, -4.0457000000000001, -3.3801999999999999, -7.0377000000000001, -4.0068000000000001, -4.0602, -3.2181000000000002, -6.0205000000000002, -5.3056000000000001, -5.556, -5.1349, -3.2810999999999999, -5.6997, -3.3426999999999998, -5.8491, -4.6694000000000004, -4.5513000000000003, -4.8003999999999998, -5.4771000000000001, -8.8046000000000006, -8.8046000000000006, -8.8046000000000006, -8.8046000000000006, -8.8046000000000006, -8.8046000000000006, -8.8046000000000006, -8.8046000000000006, -8.8046000000000006, -8.8046000000000006, -8.8046000000000006, -8.8046000000000006, -8.8046000000000006, -8.8046000000000006, -8.8046000000000006, -8.8046000000000006, -8.8046000000000006, -8.8046000000000006, -8.8046000000000006, -8.8046000000000006, -8.8046000000000006, -8.8046000000000006, -8.8046000000000006, -8.8046000000000006, -8.8046000000000006, -8.8046000000000006, -8.8046000000000006, -8.8046000000000006, -8.8046000000000006, -8.8046000000000006, -6.6144999999999996, -6.6144999999999996, -6.6144999999999996, -6.6144999999999996, -7.4244000000000003, -8.1155000000000008, -8.1155000000000008, -8.1155000000000008, -8.1155000000000008, -8.1155000000000008, -8.1155000000000008, -8.1155000000000008, -6.0530999999999997, -6.0069999999999997, -6.0880000000000001, -5.5915999999999997, -5.9713000000000003, -6.2229999999999999, -3.6251000000000002, -5.5613999999999999, -3.6878000000000002, -2.3239000000000001, -5.8928000000000003, -5.5620000000000003, -2.3961000000000001, -5.4016000000000002, -4.8360000000000003, -6.0278, -6.2217000000000002, -2.7827000000000002, -4.0096999999999996, -3.9588000000000001, -3.3285999999999998, -4.8196000000000003, -5.2537000000000003, -4.3453999999999997, -5.8733000000000004, -4.0685000000000002, -3.6049000000000002, -3.9197000000000002, -4.4035000000000002, -4.6524999999999999, -4.1764000000000001, -5.1166, -3.5966999999999998, -4.7885999999999997, -4.8612000000000002, -5.4226000000000001, -5.0739000000000001, -3.4542999999999999, -3.7393000000000001, -3.9632999999999998, -4.9371999999999998, -4.5327000000000002, -4.7698, -4.9200999999999997, -5.0484999999999998, -5.0757000000000003, -8.7592999999999996, -8.7592999999999996, -8.7592999999999996, -8.7592999999999996, -8.7592999999999996, -8.7592999999999996, -8.7592999999999996, -8.7592999999999996, -8.7592999999999996, -8.7592999999999996, -8.7592999999999996, -8.7592999999999996, -8.7592999999999996, -8.7592999999999996, -8.7592999999999996, -8.7592999999999996, -8.7592999999999996, -8.7592999999999996, -8.7592999999999996, -8.7592999999999996, -8.7592999999999996, -8.7592999999999996, -8.7592999999999996, -8.7592999999999996, -8.7592999999999996, -8.7592999999999996, -8.7592999999999996, -8.7592999999999996, -8.7592999999999996, -8.7592999999999996, -8.0701000000000001, -8.0701000000000001, -8.0701000000000001, -2.7764000000000002, -5.1007999999999996, -7.0768000000000004, -3.5781999999999998, -5.6233000000000004, -5.5349000000000004, -5.8856999999999999, -5.5523999999999996, -7.3369999999999997, -6.0751999999999997, -4.1327999999999996, -4.9825999999999997, -5.4048999999999996, -6.4231999999999996, -4.4305000000000003, -4.7708000000000004, -6.7618, -4.3391000000000002, -7.4230999999999998, -1.8826000000000001, -3.8704999999999998, -6.2346000000000004, -5.7415000000000003, -6.7195999999999998, -5.3003, -5.3304, -6.4919000000000002, -1.9303999999999999, -3.8917999999999999, -5.5486000000000004, -5.5488, -4.9782000000000002, -2.5200999999999998, -2.9439000000000002, -4.8882000000000003, -5.3579999999999997, -3.3060999999999998, -4.6150000000000002, -4.0045999999999999, -3.8950999999999998, -4.4359000000000002, -4.9394999999999998, -4.9264999999999999, -5.1612, -5.3448000000000002, -8.8017000000000003, -8.8017000000000003, -8.8017000000000003, -8.8017000000000003, -8.8017000000000003, -8.8017000000000003, -8.8017000000000003, -8.8017000000000003, -8.8017000000000003, -8.8017000000000003, -8.8017000000000003, -8.8017000000000003, -8.8017000000000003, -8.8017000000000003, -8.8017000000000003, -8.8017000000000003, -8.8017000000000003, -8.8017000000000003, -8.8017000000000003, -8.8017000000000003, -8.8017000000000003, -8.8017000000000003, -8.8017000000000003, -8.8017000000000003, -8.8017000000000003, -8.8017000000000003, -8.8017000000000003, -8.8017000000000003, -8.8017000000000003, -8.8017000000000003, -7.7084000000000001, -8.1125000000000007, -8.1125000000000007, -7.5124000000000004, -5.1409000000000002, -2.1579999999999999, -1.9016999999999999, -4.5003000000000002, -6.6875, -4.7618, -4.7146999999999997, -3.2692000000000001, -5.3478000000000003, -5.2582000000000004, -7.4333999999999998, -3.8102, -2.8277999999999999, -6.3986999999999998, -5.1593, -3.0470999999999999, -7.8975999999999997, -3.0789, -8.2416, -3.7201, -5.6375000000000002, -5.0065, -5.5301999999999998, -4.3555999999999999, -2.7934000000000001, -5.6768999999999998, -4.6132, -4.7850999999999999, -4.1284999999999998, -5.2169999999999996, -6.0792000000000002, -4.4499000000000004, -6.0883000000000003, -4.4786000000000001, -4.2961, -4.9082999999999997, -3.8336000000000001, -4.1067999999999998, -4.6540999999999997, -4.4367000000000001, -4.5576999999999996, -4.8680000000000003, -5.1081000000000003, -5.0820999999999996, -8.8454999999999995, -8.8454999999999995, -8.8454999999999995, -8.8454999999999995, -8.8454999999999995, -8.8454999999999995, -8.8454999999999995, -8.8454999999999995, -8.8454999999999995, -8.8454999999999995, -8.8454999999999995, -8.8454999999999995, -8.8454999999999995, -8.8454999999999995, -8.8454999999999995, -7.8361999999999998, -8.2857000000000003, -6.0011000000000001, -7.9279000000000002, -8.3469999999999995, -8.4037000000000006, -8.0094999999999992, -8.0159000000000002, -9.1205999999999996, -9.1205999999999996, -9.1205999999999996, -9.1205999999999996, -9.1205999999999996, -9.1205999999999996, -9.1205999999999996, -8.4327000000000005, -8.4327000000000005, -8.4327000000000005, -8.4327000000000005, -4.0709999999999997, -3.2408999999999999, -7.5465, -3.1257999999999999, -6.6241000000000003, -6.4400000000000004, -3.8681999999999999, -7.0403000000000002, -1.758, -2.3127, -3.9416000000000002, -2.6646000000000001, -4.4943, -4.4709000000000003, -4.5692000000000004, -4.0129999999999999, -5.4199999999999999, -4.5872999999999999, -4.5925000000000002, -3.198, -3.9049, -4.0983000000000001, -3.8220000000000001, -7.1298000000000004, -4.9566999999999997, -5.2496999999999998, -4.2464000000000004, -3.2063999999999999, -4.7465000000000002, -6.0339, -4.5655000000000001, -5.2159000000000004, -5.2687999999999997, -4.4177, -4.6428000000000003, -4.3505000000000003, -4.7834000000000003, -4.9836, -5.1117999999999997, -8.7055000000000007, -8.7055000000000007, -8.7055000000000007, -8.7055000000000007, -8.7055000000000007, -8.7055000000000007, -8.7055000000000007, -8.7055000000000007, -8.7055000000000007, -8.7055000000000007, -8.7055000000000007, -8.7055000000000007, -8.7055000000000007, -8.7055000000000007, -8.7055000000000007, -8.7055000000000007, -8.7055000000000007, -8.7055000000000007, -8.7055000000000007, -8.7055000000000007, -8.7055000000000007, -8.7055000000000007, -8.7055000000000007, -8.7055000000000007, -8.7055000000000007, -8.7055000000000007, -8.7055000000000007, -8.7055000000000007, -8.7055000000000007, -8.7055000000000007, -7.3250999999999999, -8.0162999999999993, -8.0162999999999993, -8.0162999999999993, -8.0162999999999993, -8.0162999999999993, -6.0787000000000004, -7.1055999999999999, -6.2983000000000002, -5.8543000000000003, -4.3581000000000003, -7.4832000000000001, -5.1253000000000002, -4.6360000000000001, -3.0697000000000001, -4.1839000000000004, -3.8069999999999999, -2.4575, -7.5282999999999998, -5.2237, -5.9231999999999996, -6.1246999999999998, -7.7878999999999996, -3.5750000000000002, -4.9146000000000001, -3.0266000000000002, -4.7103000000000002, -3.3976000000000002, -6.0095999999999998, -4.1363000000000003, -4.4584999999999999, -3.9765999999999999, -5.0666000000000002, -4.5659999999999998, -5.3193000000000001, -4.6816000000000004, -4.0739999999999998, -4.032, -4.7257999999999996, -3.2784, -4.1597, -3.2724000000000002, -4.9997999999999996, -5.0045999999999999, -3.0602999999999998, -3.2115999999999998, -3.7997999999999998, -4.5460000000000003, -3.8149000000000002, -4.1795, -4.5801999999999996, -4.6859000000000002, -4.7820999999999998, -8.5193999999999992, -8.5193999999999992, -8.5193999999999992, -8.5193999999999992, -8.5193999999999992, -8.5193999999999992, -8.5193999999999992, -8.5193999999999992, -8.5193999999999992, -8.5193999999999992, -8.5193999999999992, -8.5193999999999992, -8.5193999999999992, -8.5193999999999992, -8.5193999999999992, -8.5193999999999992, -7.3869999999999996, -6.5857999999999999, -5.2295999999999996, -8.7944999999999993, -8.7944999999999993, -8.7944999999999993, -8.7944999999999993, -8.7944999999999993, -8.7944999999999993, -8.7944999999999993, -8.7944999999999993, -8.7944999999999993, -8.7944999999999993, -8.7944999999999993, -5.7648000000000001, -6.2999999999999998, -7.0692000000000004, -5.5416999999999996, -5.8381999999999996, -4.3818000000000001, -4.7335000000000003, -2.7593999999999999, -3.3788, -6.8741000000000003, -3.0135999999999998, -4.9622000000000002, -2.6341000000000001, -2.8584000000000001, -3.3018999999999998, -3.0427, -4.1669999999999998, -3.5150999999999999, -3.8841999999999999, -3.7035999999999998, -4.6874000000000002, -5.4950000000000001, -4.0343999999999998, -4.7839999999999998, -4.8651, -6.1867000000000001, -5.9381000000000004, -6.5401999999999996, -4.5076999999999998, -5.5389999999999997, -4.5170000000000003, -2.7967, -3.7484000000000002, -5.5791000000000004, -3.6379999999999999, -4.2767999999999997, -4.5069999999999997, -4.6001000000000003, -4.6589999999999998, -4.7625000000000002, -4.8098999999999998, -4.5674999999999999, -4.8543000000000003, -4.8289, -8.5336999999999996, -8.5336999999999996, -8.5336999999999996, -8.5336999999999996, -8.5336999999999996, -8.5336999999999996, -8.5336999999999996, -8.5336999999999996, -8.5336999999999996, -8.5336999999999996, -8.5336999999999996, -8.5336999999999996, -8.5336999999999996, -8.5336999999999996, -8.5336999999999996, -8.5336999999999996, -8.5336999999999996, -8.5336999999999996, -8.5336999999999996, -7.8445999999999998, -7.9732000000000003, -7.6295999999999999, -8.8087999999999997, -8.8087999999999997, -8.8087999999999997, -8.8087999999999997, -8.8087999999999997, -8.8087999999999997, -8.8087999999999997, -8.8087999999999997, -7.7172000000000001, -7.7172000000000001, -7.7172000000000001, -8.1209000000000007, -8.1209000000000007, -5.2218, -4.891, -5.9637000000000002, -6.1435000000000004, -5.1909999999999998, -4.4413, -5.0674999999999999, -4.2157999999999998, -1.6745000000000001, -3.7071000000000001, -2.7263999999999999, -2.8852000000000002, -4.7645999999999997, -2.3666999999999998, -4.2111999999999998, -5.9622999999999999, -3.3130999999999999, -5.8243999999999998, -5.2187999999999999, -4.5667, -4.6033999999999997, -6.6376999999999997, -5.4892000000000003, -5.9988999999999999, -4.0143000000000004, -6.7247000000000003, -6.0425000000000004, -5.4169, -6.0507, -5.0972999999999997, -3.7948, -5.2199999999999998, -5.1997, -5.1159999999999997, -4.8083, -4.0663999999999998, -3.3837000000000002, -4.0740999999999996, -4.4694000000000003, -3.6156999999999999, -4.1022999999999996, -4.5370999999999997, -4.6623999999999999, -4.4116999999999997, -4.7422000000000004, -4.9817999999999998, -8.7318999999999996, -8.7318999999999996, -8.7318999999999996, -8.7318999999999996, -8.7318999999999996, -8.7318999999999996, -8.7318999999999996, -8.7318999999999996, -8.7318999999999996, -8.7318999999999996, -8.7318999999999996, -8.7318999999999996, -8.7318999999999996, -8.7318999999999996, -8.7318999999999996, -8.7318999999999996, -8.7318999999999996, -8.7318999999999996, -8.7318999999999996, -8.7318999999999996, -8.7318999999999996, -8.7318999999999996, -8.7318999999999996, -8.7318999999999996, -8.7318999999999996, -8.7318999999999996, -8.7318999999999996, -8.7318999999999996, -8.0427, -8.0427, -8.0427, -6.8150000000000004, -1.8424, -6.9757999999999996, -7.2786999999999997, -5.2106000000000003, -4.3215000000000003, -4.4290000000000003, -6.3620999999999999, -4.0492999999999997, -3.5975999999999999, -6.5209000000000001, -3.7616000000000001, -4.3049999999999997, -4.4508000000000001, -7.7967000000000004, -3.2347000000000001, -4.4271000000000003, -2.8100000000000001, -4.3672000000000004, -4.6577000000000002, -5.5423999999999998, -3.9716999999999998, -4.6387, -4.3503999999999996, -5.4286000000000003, -5.944, -6.2853000000000003, -3.8997999999999999, -4.7704000000000004, -4.8371000000000004, -5.4568000000000003, -4.3893000000000004, -5.7252999999999998, -5.1402000000000001, -4.9805999999999999, -5.3289, -2.8868999999999998, -3.9849999999999999, -4.2173999999999996, -4.0408999999999997, -4.2099000000000002, -4.6380999999999997, -5.1650999999999998, -4.9557000000000002, -4.8018999999999998, -4.9039999999999999, -4.9164000000000003, -8.6516999999999999, -8.6516999999999999, -8.6516999999999999, -8.6516999999999999, -8.6516999999999999, -8.6516999999999999, -8.6516999999999999, -8.6516999999999999, -8.6516999999999999, -8.6516999999999999, -8.6516999999999999, -8.6516999999999999, -8.6516999999999999, -8.6516999999999999, -8.6516999999999999, -8.6516999999999999, -8.6516999999999999, -8.6516999999999999, -8.6516999999999999, -8.6516999999999999, -8.6516999999999999, -8.6516999999999999, -8.6516999999999999, -8.6516999999999999, -8.6516999999999999, -8.6516999999999999, -8.6516999999999999, -8.6516999999999999, -8.6516999999999999, -8.6516999999999999, -7.5583, -7.9625000000000004, -7.9625000000000004, -7.9625000000000004, -7.9625000000000004, -7.9625000000000004, -7.9625000000000004, -7.3337000000000003, -5.5987, -7.4001999999999999, -3.9527000000000001, -3.7854999999999999, -7.4294000000000002, -3.8607, -4.5896999999999997, -3.9159999999999999, -3.2170999999999998, -4.0365000000000002, -1.9961, -5.1215999999999999, -5.5368000000000004, -3.9826000000000001, -7.4614000000000003, -7.4614000000000003, -6.3992000000000004, -6.9897999999999998, -2.2747000000000002, -3.4022999999999999, -5.5346000000000002, -3.6692999999999998, -3.3296999999999999, -5.1200999999999999, -6.1688000000000001, -4.9630999999999998, -6.4432999999999998, -4.2903000000000002, -4.5627000000000004, -6.8009000000000004, -5.6482999999999999, -4.9683999999999999, -4.8253000000000004, -5.3680000000000003, -4.5561999999999996, -5.9050000000000002, -5.9093999999999998, -5.6515000000000004, -5.4649000000000001, -5.3871000000000002, -5.4227999999999996, -3.9613999999999998, -5.0152000000000001, -3.9950999999999999, -4.1348000000000003, -4.5834000000000001, -4.5925000000000002, -5.3182999999999998, -4.9871999999999996, -4.9257999999999997, -5.0385, -8.7518999999999991, -8.7518999999999991, -8.7518999999999991, -8.7518999999999991, -8.7518999999999991, -8.7518999999999991, -8.7518999999999991, -8.7518999999999991, -8.7518999999999991, -8.7518999999999991, -8.7518999999999991, -8.7518999999999991, -8.7518999999999991, -8.7518999999999991, -8.7518999999999991, -8.7518999999999991, -8.7518999999999991, -8.7518999999999991, -8.7518999999999991, -8.7518999999999991, -8.7518999999999991, -8.7518999999999991, -8.7518999999999991, -8.7518999999999991, -8.7518999999999991, -8.7518999999999991, -8.7518999999999991, -8.7518999999999991, -8.7518999999999991, -8.7518999999999991, -7.6585999999999999, -5.3273000000000001, -4.1802000000000001, -4.3666999999999998, -3.1274000000000002, -3.6934999999999998, -5.2731000000000003, -5.5713999999999997, -3.6459000000000001, -7.2744, -7.7426000000000004, -3.6179999999999999, -3.6217000000000001, -4.5479000000000003, -6.4406999999999996, -3.8797000000000001, -3.0089999999999999, -4.9374000000000002, -5.1536999999999997, -6.4078999999999997, -5.1417999999999999, -7.5296000000000003, -3.7818000000000001, -5.1353, -5.8379000000000003, -6.9566999999999997, -2.319, -4.6951999999999998, -6.8661000000000003, -3.5926999999999998, -5.0039999999999996, -3.3755000000000002, -6.2133000000000003, -2.6360999999999999, -4.6721000000000004, -4.3532999999999999, -5.5614999999999997, -3.9441000000000002, -4.3712999999999997, -4.1135999999999999, -4.0923999999999996, -3.5543, -3.7768999999999999, -4.6685999999999996, -4.4306999999999999, -5.0880999999999998, -5.0140000000000002, -8.3434000000000008, -8.3434000000000008, -8.3434000000000008, -8.3434000000000008, -8.3434000000000008, -8.3434000000000008, -8.3434000000000008, -8.3434000000000008, -8.3434000000000008, -8.6184999999999992, -8.6184999999999992, -8.6184999999999992, -8.6184999999999992, -8.6184999999999992, -7.9306000000000001, -6.4551999999999996, -6.9002999999999997, -7.3090000000000002, -8.0029000000000003, -4.7461000000000002, -7.3516000000000004, -8.7678999999999991, -8.7678999999999991, -8.7678999999999991, -7.6783999999999999, -7.0608000000000004, -7.7712000000000003, -7.8103999999999996, -8.9169999999999998, -8.2277000000000005, -4.4577999999999998, -7.8257000000000003, -4.9657, -2.8491, -3.3502999999999998, -3.3311999999999999, -2.9335, -4.7431999999999999, -4.2557, -3.774, -4.6497000000000002, -2.2281, -3.2303999999999999, -2.0196999999999998, -3.3765999999999998, -3.9194, -4.1531000000000002, -5.0311000000000003, -4.3227000000000002, -4.8487999999999998, -3.9598, -5.4530000000000003, -6.0102000000000002, -6.8220999999999998, -4.9565999999999999, -5.7976999999999999, -4.8992000000000004, -5.3567, -6.3677999999999999, -5.1653000000000002, -4.8337000000000003, -4.5664999999999996, -3.222, -4.5265000000000004, -4.2778999999999998, -4.3171999999999997, -4.4219999999999997, -4.9733999999999998, -8.6216000000000008, -8.6216000000000008, -8.6216000000000008, -8.6216000000000008, -8.6216000000000008, -8.6216000000000008, -8.6216000000000008, -8.6216000000000008, -8.6216000000000008, -8.6216000000000008, -8.6216000000000008, -8.6216000000000008, -8.6216000000000008, -8.6216000000000008, -8.6216000000000008, -8.6216000000000008, -8.6216000000000008, -8.6216000000000008, -8.6216000000000008, -8.6216000000000008, -8.6216000000000008, -8.6216000000000008, -8.6216000000000008, -8.6216000000000008, -8.6216000000000008, -8.6216000000000008, -8.6216000000000008, -8.6216000000000008, -8.6216000000000008, -8.6216000000000008, -8.6216000000000008, -8.6216000000000008, -8.6216000000000008, -6.3951000000000002, -4.1022999999999996, -4.9983000000000004, -6.0750000000000002, -6.2462, -5.6821999999999999, -4.5396999999999998, -5.0266999999999999, -3.8816999999999999, -6.2309000000000001, -4.7987000000000002, -3.9750999999999999, -2.4634, -4.3296999999999999, -4.5721999999999996, -5.2511999999999999, -6.5629999999999997, -6.4250999999999996, -3.4996, -3.5872000000000002, -3.5350000000000001, -6.0446999999999997, -5.6070000000000002, -3.9420999999999999, -4.694, -3.6158000000000001, -4.6345000000000001, -5.3014999999999999, -5.1543000000000001, -4.4291999999999998, -5.0056000000000003, -4.3312999999999997, -4.3692000000000002, -5.1394000000000002, -4.5884, -4.2526999999999999, -3.8649, -4.5701000000000001, -5.0084, -4.7771999999999997, -3.7202000000000002, -4.1437999999999997, -4.7808999999999999, -3.8976999999999999, -4.3701999999999996, -4.3707000000000003, -4.5296000000000003, -4.5308999999999999, -8.4292999999999996, -8.4292999999999996, -8.4292999999999996, -8.4292999999999996, -8.4292999999999996, -8.4292999999999996, -8.4292999999999996, -8.4292999999999996, -8.4292999999999996, -8.4292999999999996, -8.4292999999999996, -8.4292999999999996, -8.4292999999999996, -8.4292999999999996, -8.4292999999999996, -8.4292999999999996, -8.4292999999999996, -8.4292999999999996, -8.4292999999999996, -8.4292999999999996, -8.4292999999999996, -8.4292999999999996, -8.4292999999999996, -8.4292999999999996, -7.8686999999999996, -7.5117000000000003, -7.2817999999999996, -8.7042999999999999, -8.7042999999999999, -8.7042999999999999, -6.4028, -5.5082000000000004, -7.6127000000000002, -5.2380000000000004, -3.0911, -2.0880000000000001, -5.6471999999999998, -2.4466000000000001, -2.7519999999999998, -5.2477, -2.2538999999999998, -3.9342000000000001, -5.1822999999999997, -3.6141000000000001, -3.6936, -4.2765000000000004, -4.2633000000000001, -3.8105000000000002, -5.1315999999999997, -6.3464, -6.7409999999999997, -5.8737000000000004, -4.6821999999999999, -5.9890999999999996, -6.0590000000000002, -4.3360000000000003, -6.2821999999999996, -4.6963999999999997, -5.306, -4.7447999999999997, -4.7484999999999999, -4.7656999999999998, -5.4066999999999998, -4.7234999999999996, -5.0057999999999998, -5.0388999999999999, -5.2777000000000003, -4.0712000000000002, -3.7403, -3.8567, -4.2441000000000004, -4.5580999999999996, -4.6662999999999997, -4.5570000000000004, -4.6989999999999998, -4.8239999999999998, -8.4164999999999992, -8.4164999999999992, -8.4164999999999992, -8.4164999999999992, -8.4164999999999992, -8.4164999999999992, -8.4164999999999992, -8.4164999999999992, -8.4164999999999992, -8.4164999999999992, -8.4164999999999992, -8.4164999999999992, -8.4164999999999992, -8.4164999999999992, -8.4164999999999992, -8.4164999999999992, -8.4164999999999992, -8.4164999999999992, -8.4164999999999992, -8.4164999999999992, -8.4164999999999992, -8.4164999999999992, -8.4164999999999992, -8.4164999999999992, -8.4164999999999992, -8.4164999999999992, -8.4164999999999992, -8.4164999999999992, -8.4164999999999992, -8.4164999999999992, -7.3231000000000002, -7.7272999999999996, -7.7272999999999996, -7.7272999999999996, -7.7272999999999996, -7.4070999999999998, -5.7918000000000003, -5.5340999999999996, -5.9551999999999996, -5.8608000000000002, -7.1955999999999998, -5.4020000000000001, -4.1116999999999999, -7.2262000000000004, -7.2262000000000004, -7.2262000000000004, -6.4527999999999999, -5.0260999999999996, -5.0987999999999998, -6.8997000000000002, -3.1358999999999999, -5.7176, -5.5983999999999998, -2.2772000000000001, -4.0381999999999998, -6.3670999999999998, -6.3670999999999998, -4.5659000000000001, -7.0875000000000004, -5.1365999999999996, -5.2511999999999999, -5.0221, -3.7646999999999999, -4.1113999999999997, -3.7581000000000002, -4.8303000000000003, -3.9096000000000002, -3.5802, -2.6796000000000002, -4.2294999999999998, -6.0777000000000001, -4.9714, -5.0199999999999996, -5.1428000000000003, -4.1821000000000002, -4.9371999999999998, -4.5151000000000003, -4.1904000000000003, -4.7135999999999996, -5.1311, -4.9142000000000001, -3.7987000000000002, -4.4276, -4.2892000000000001, -4.4882, -4.2351999999999999, -4.2549999999999999, -4.7633000000000001, -8.6963000000000008, -8.6963000000000008, -8.6963000000000008, -8.6963000000000008, -8.1978000000000009, -8.9713999999999992, -8.9713999999999992, -8.9713999999999992, -8.9713999999999992, -8.9713999999999992, -8.9713999999999992, -8.9713999999999992, -8.9713999999999992, -8.9713999999999992, -8.9713999999999992, -8.9713999999999992, -8.9713999999999992, -8.9713999999999992, -8.9713999999999992, -8.9713999999999992, -8.9713999999999992, -8.9713999999999992, -8.9713999999999992, -8.9713999999999992, -8.9713999999999992, -8.9713999999999992, -5.4923999999999999, -7.0571000000000002, -4.8833000000000002, -7.6363000000000003, -5.7477, -3.4036, -3.3799000000000001, -3.3660000000000001, -3.3609, -6.2960000000000003, -6.9701000000000004, -6.5407000000000002, -3.5253000000000001, -3.7671999999999999, -3.8168000000000002, -6.8029999999999999, -3.7604000000000002, -3.2475999999999998, -3.5367000000000002, -6.7426000000000004, -6.2519999999999998, -3.9409000000000001, -4.2854999999999999, -4.2409999999999997, -6.4401999999999999, -3.3956, -3.5589, -3.2448999999999999, -2.6465999999999998, -4.2361000000000004, -3.3468, -4.6364999999999998, -4.7668999999999997, -2.5169000000000001, -2.9188000000000001, -4.6566999999999998, -4.5125999999999999, -4.1852999999999998, -4.3159000000000001, -4.2550999999999997, -4.1689999999999996, -3.9803999999999999, -8.5503999999999998, -8.5503999999999998, -8.5503999999999998, -8.5503999999999998, -8.5503999999999998, -8.5503999999999998, -8.5503999999999998, -8.5503999999999998, -8.5503999999999998, -8.5503999999999998, -8.5503999999999998, -8.5503999999999998, -8.5503999999999998, -8.5503999999999998, -8.5503999999999998, -8.5503999999999998, -8.5503999999999998, -8.5503999999999998, -8.5503999999999998, -8.5503999999999998, -8.5503999999999998, -8.5503999999999998, -8.5503999999999998, -8.5503999999999998, -8.5503999999999998, -8.5503999999999998, -8.5503999999999998, -7.8612000000000002, -7.0717999999999996, -7.9898999999999996, -5.3505000000000003, -3.4113000000000002, -3.3056000000000001, -5.0849000000000002, -6.9343000000000004, -3.0594000000000001, -4.4462000000000002, -5.3817000000000004, -3.2791999999999999, -5.3304, -3.5095000000000001, -2.4005000000000001, -4.8700000000000001, -4.4253, -7.6151999999999997, -2.5327000000000002, -4.0343, -4.0281000000000002, -4.4644000000000004, -4.8009000000000004, -4.0629, -4.4965000000000002, -5.7584, -3.5579999999999998, -5.2084000000000001, -5.3476999999999997, -3.2294, -5.6383999999999999, -5.5708000000000002, -5.3262, -5.1303000000000001, -4.7664, -4.4333999999999998, -5.2742000000000004, -4.8590999999999998, -3.1187, -4.2640000000000002, -4.1710000000000003, -4.5586000000000002, -4.6593999999999998, -4.5099999999999998, -4.8452999999999999, -4.8987999999999996, -5.0648999999999997, -8.4990000000000006, -8.4990000000000006, -8.4990000000000006, -8.4990000000000006, -8.4990000000000006, -8.4990000000000006, -8.4990000000000006, -8.4990000000000006, -8.4990000000000006, -8.4990000000000006, -8.4990000000000006, -8.4990000000000006, -8.4990000000000006, -8.4990000000000006, -8.4990000000000006, -8.4990000000000006, -8.4990000000000006, -8.4990000000000006, -8.4990000000000006, -8.4990000000000006, -8.4990000000000006, -8.4990000000000006, -8.4990000000000006, -8.4990000000000006, -8.4990000000000006, -8.4990000000000006, -7.4057000000000004, -7.4897, -6.6768999999999998, -6.0015000000000001, -5.4134000000000002, -4.7662000000000004, -4.9608999999999996, -6.7759, -5.9116999999999997, -6.3261000000000003, -5.6923000000000004, -6.7107000000000001, -6.2439, -5.6021999999999998, -5.1351000000000004, -3.8336999999999999, -2.8048000000000002, -3.2766000000000002, -4.3630000000000004, -2.0396999999999998, -5.7740999999999998, -6.7813999999999997, -3.4668999999999999, -5.1570999999999998, -5.6260000000000003, -5.4745999999999997, -7.3841999999999999, -4.2462, -7.6223999999999998, -7.6223999999999998, -3.2298, -6.0597000000000003, -6.2596999999999996, -2.6909999999999998, -2.6617000000000002, -5.6037999999999997, -4.7256, -5.8159000000000001, -5.7126000000000001, -5.2199, -2.6414, -5.0016999999999996, -3.4658000000000002, -3.6640999999999999, -4.5174000000000003, -4.2214999999999998, -4.1383000000000001, -3.8391999999999999, -4.8489000000000004, -4.1289999999999996, -4.5602, -5.2851999999999997, -5.1715, -5.3226000000000004, -8.6195000000000004, -8.6195000000000004, -8.6195000000000004, -8.6195000000000004, -8.6195000000000004, -8.6195000000000004, -8.6195000000000004, -8.6195000000000004, -8.6195000000000004, -8.6195000000000004, -8.6195000000000004, -8.6195000000000004, -8.6195000000000004, -8.6195000000000004, -8.6195000000000004, -8.6195000000000004, -8.6195000000000004, -8.6195000000000004, -8.6195000000000004, -8.6195000000000004, -8.6195000000000004, -8.6195000000000004, -8.6195000000000004, -8.6195000000000004, -8.6195000000000004, -8.6195000000000004, -8.6195000000000004, -8.6195000000000004, -8.6195000000000004, -8.6195000000000004, -7.2392000000000003, -7.5262000000000002, -7.9302999999999999, -7.9302999999999999, -7.9302999999999999, -7.9302999999999999, -7.9302999999999999, -7.9302999999999999, -7.9302999999999999, -7.9302999999999999, -7.9302999999999999, -7.9302999999999999, -7.9302999999999999, -7.9302999999999999, -7.3014999999999999, -4.444, -6.3723999999999998, -6.0359999999999996, -3.7088999999999999, -5.4927000000000001, -4.8716999999999997, -5.9505999999999997, -5.2690999999999999, -6.1031000000000004, -6.5284000000000004, -3.1307999999999998, -3.0097999999999998, -4.5140000000000002, -4.6184000000000003, -4.1464999999999996, -5.5731000000000002, -3.5516000000000001, -4.3166000000000002, -6.1516999999999999, -2.6160999999999999, -5.5110000000000001, -3.9495, -3.3494999999999999, -3.9798, -2.9129, -4.4535999999999998, -3.7538, -4.0907999999999998, -4.8273999999999999, -5.2840999999999996, -5.1736000000000004, -5.1109, -4.2999000000000001, -4.5971000000000002, -4.8108000000000004, -4.9249999999999998, -5.1757999999999997, -4.9478999999999997, -4.4997999999999996, -4.5391000000000004, -4.0814000000000004, -4.0758999999999999, -4.4585999999999997, -4.8478000000000003, -4.8608000000000002, -8.4718, -8.4718, -8.4718, -8.4718, -8.4718, -8.4718, -8.4718, -8.4718, -8.4718, -8.4718, -8.4718, -8.4718, -8.4718, -8.4718, -8.4718, -8.4718, -8.4718, -8.4718, -8.4718, -8.4718, -8.4718, -8.4718, -8.4718, -8.4718, -8.4718, -8.4718, -8.4718, -7.9112, -6.4278000000000004, -7.5951000000000004, -5.5197000000000003, -5.7500999999999998, -2.6808000000000001, -4.4745999999999997, -2.3650000000000002, -6.5, -4.4870999999999999, -5.2785000000000002, -3.7092999999999998, -5.3681999999999999, -6.2770999999999999, -5.5499000000000001, -5.9070999999999998, -4.4032999999999998, -4.1624999999999996, -5.9625000000000004, -5.7617000000000003, -5.4432, -4.3167999999999997, -2.8774000000000002, -5.0388000000000002, -4.9555999999999996, -4.7405999999999997, -4.3958000000000004, -3.8075999999999999, -6.6092000000000004, -6.7920999999999996, -3.4546000000000001, -5.1669, -5.1536999999999997, -4.2003000000000004, -5.0263, -5.1696999999999997, -3.4809000000000001, -4.0757000000000003, -5.0663999999999998, -4.8398000000000003, -4.9821999999999997, -5.2194000000000003, -4.8029000000000002, -4.0259999999999998, -4.4813999999999998, -4.6402000000000001, -4.8635000000000002, -4.9191000000000003, -5.0818000000000003, -5.0865, -8.5505999999999993, -8.5505999999999993, -8.5505999999999993, -8.5505999999999993, -8.5505999999999993, -8.5505999999999993, -8.5505999999999993, -8.5505999999999993, -8.5505999999999993, -8.5505999999999993, -8.5505999999999993, -8.5505999999999993, -8.5505999999999993, -8.5505999999999993, -8.5505999999999993, -8.5505999999999993, -8.5505999999999993, -8.5505999999999993, -8.5505999999999993, -8.5505999999999993, -8.5505999999999993, -8.5505999999999993, -8.5505999999999993, -8.5505999999999993, -8.5505999999999993, -8.5505999999999993, -8.5505999999999993, -6.4276999999999997, -7.0492999999999997, -7.9900000000000002, -6.3783000000000003, -3.3902999999999999, -5.8273000000000001, -3.3677999999999999, -4.0362999999999998, -4.4619999999999997, -5.9222000000000001, -5.0871000000000004, -3.0440999999999998, -4.6706000000000003, -6.4743000000000004, -4.0881999999999996, -5.9706999999999999, -6.4142999999999999, -2.6802000000000001, -3.8824000000000001, -3.7856999999999998, -4.3144, -6.5172999999999996, -5.3536999999999999, -3.1631999999999998, -5.1158000000000001, -4.8550000000000004, -5.1996000000000002, -4.2054999999999998, -6.8147000000000002, -4.8552999999999997, -3.5415000000000001, -5.5286, -3.2766999999999999, -2.6185, -5.1485000000000003, -4.4244000000000003, -3.5432000000000001, -4.7728999999999999, -4.8223000000000003, -5.4074, -4.8879000000000001, -5.2152000000000003, -4.8505000000000003, -3.996, -4.5016999999999996, -4.4244000000000003, -4.4629000000000003, -4.9200999999999997, -4.8909000000000002, -8.5196000000000005, -8.5196000000000005, -8.5196000000000005, -8.5196000000000005, -8.5196000000000005, -8.5196000000000005, -8.5196000000000005, -8.5196000000000005, -8.5196000000000005, -8.5196000000000005, -8.5196000000000005, -8.5196000000000005, -8.5196000000000005, -8.5196000000000005, -8.5196000000000005, -8.5196000000000005, -8.5196000000000005, -8.5196000000000005, -8.5196000000000005, -8.5196000000000005, -8.5196000000000005, -8.5196000000000005, -8.5196000000000005, -8.5196000000000005, -8.5196000000000005, -8.5196000000000005, -8.5196000000000005, -8.5196000000000005, -8.5196000000000005, -8.5196000000000005, -7.1391999999999998, -7.1391999999999998, -7.1391999999999998, -7.1391999999999998, -7.1391999999999998, -7.4261999999999997, -7.8304, -7.8304, -7.8304, -6.8186, -6.5712000000000002, -6.3746, -5.3143000000000002, -4.3711000000000002, -4.2853000000000003, -5.9141000000000004, -1.9518, -5.1833999999999998, -6.5545, -4.6717000000000004, -3.6941000000000002, -3.1589, -5.1898999999999997, -5.2398999999999996, -7.0972999999999997, -7.5494000000000003, -5.5278, -3.0371999999999999, -5.7149000000000001, -4.4112, -4.4298000000000002, -4.4722, -4.1889000000000003, -4.8436000000000003, -5.0590000000000002, -4.8432000000000004, -4.9010999999999996, -4.1409000000000002, -4.71, -3.8176000000000001, -4.8737000000000004, -4.8507999999999996, -4.5719000000000003, -4.2065000000000001, -5.1947000000000001, -3.6448999999999998, -3.9447000000000001, -4.7298999999999998, -4.9885000000000002, -4.8371000000000004, -3.6457000000000002, -4.9237000000000002, -4.569, -4.5434999999999999, -4.4581999999999997, -4.8973000000000004, -8.3877000000000006, -8.3877000000000006, -8.3877000000000006, -8.3877000000000006, -8.3877000000000006, -8.3877000000000006, -8.3877000000000006, -8.3877000000000006, -8.3877000000000006, -8.3877000000000006, -8.3877000000000006, -8.3877000000000006, -8.3877000000000006, -8.3877000000000006, -8.3877000000000006, -8.3877000000000006, -8.3877000000000006, -8.3877000000000006, -8.3877000000000006, -8.3877000000000006, -8.3877000000000006, -8.3877000000000006, -8.3877000000000006, -8.3877000000000006, -8.3877000000000006, -8.3877000000000006, -8.3877000000000006, -8.3877000000000006, -8.3877000000000006, -8.3877000000000006, -6.6025, -6.7846000000000002, -6.7846000000000002, -6.7846000000000002, -6.7846000000000002, -6.7846000000000002, -6.7846000000000002, -7.0072999999999999, -7.2942999999999998, -7.6985000000000001, -7.6985000000000001, -7.6985000000000001, -7.6985000000000001, -7.6985000000000001, -7.6985000000000001, -7.6985000000000001, -7.6985000000000001, -7.6985000000000001, -7.6985000000000001, -7.6985000000000001, -7.6985000000000001, -7.6985000000000001, -7.6985000000000001, -5.6333000000000002, -5.9409000000000001, -4.3391000000000002, -6.5956000000000001, -6.4733999999999998, -6.4733999999999998, -2.5750000000000002, -5.1551999999999998, -4.4683000000000002, -4.8532999999999999, -6.1683000000000003, -5.2554999999999996, -5.6204000000000001, -4.6440999999999999, -6.6692999999999998, -5.5640999999999998, -4.5332999999999997, -4.0496999999999996, -5.3502000000000001, -6.6852, -3.9691999999999998, -3.8624999999999998, -2.6688000000000001, -3.8121999999999998, -4.1017999999999999, -4.0486000000000004, -4.7251000000000003, -4.1135000000000002, -4.0202, -3.9384000000000001, -3.9245999999999999, -5.6228999999999996, -4.4442000000000004, -4.5610999999999997, -4.4607000000000001, -4.1734999999999998, -5.1825999999999999, -4.2864000000000004, -4.9543999999999997, -4.6829000000000001, -3.7746, -3.6627999999999998, -4.7037000000000004, -5.0674999999999999, -4.5190999999999999, -4.7274000000000003, -4.8173000000000004, -8.4254999999999995, -8.4254999999999995, -8.4254999999999995, -8.4254999999999995, -8.4254999999999995, -8.4254999999999995, -8.4254999999999995, -8.4254999999999995, -8.4254999999999995, -8.4254999999999995, -8.4254999999999995, -8.4254999999999995, -8.4254999999999995, -8.4254999999999995, -8.4254999999999995, -8.4254999999999995, -8.4254999999999995, -8.4254999999999995, -8.4254999999999995, -8.4254999999999995, -7.7363, -7.7363, -7.7363, -6.6402999999999999, -5.1647999999999996, -7.8648999999999996, -5.9871999999999996, -7.5509000000000004, -7.3074000000000003, -8.7005999999999997, -7.0915999999999997, -4.9257, -4.9446000000000003, -3.7806000000000002, -3.6000000000000001, -4.3479999999999999, -4.8268000000000004, -5.8926999999999996, -3.9287000000000001, -2.1048, -2.8445999999999998, -3.0118999999999998, -4.0537000000000001, -3.7595999999999998, -5.5243000000000002, -5.3015999999999996, -6.4442000000000004, -4.4718999999999998, -5.3762999999999996, -3.9914999999999998, -4.4145000000000003, -4.5654000000000003, -5.8688000000000002, -5.9416000000000002, -4.7945000000000002, -4.6844999999999999, -2.4171, -4.6651999999999996, -4.7854999999999999, -2.6200000000000001, -2.6099000000000001, -4.6840000000000002, -3.2501000000000002, -5.3967000000000001, -3.8736000000000002, -5.3258999999999999, -5.3691000000000004, -8.5504999999999995, -8.5504999999999995, -8.5504999999999995, -8.5504999999999995, -8.5504999999999995, -8.5504999999999995, -8.5504999999999995, -8.5504999999999995, -8.5504999999999995, -8.5504999999999995, -8.5504999999999995, -8.5504999999999995, -8.5504999999999995, -8.5504999999999995, -8.5504999999999995, -8.5504999999999995, -8.5504999999999995, -8.5504999999999995, -8.5504999999999995, -8.5504999999999995, -8.5504999999999995, -8.5504999999999995, -8.5504999999999995, -8.5504999999999995, -8.5504999999999995, -8.5504999999999995, -8.5504999999999995, -8.5504999999999995, -8.5504999999999995, -8.5504999999999995, -7.8613, -7.8613, -5.5921000000000003, -5.6448999999999998, -6.0021000000000004, -5.258, -4.3853999999999997, -3.5194000000000001, -6.3876999999999997, -3.0293999999999999, -3.3428, -6.0022000000000002, -6.5734000000000004, -6.5838999999999999, -7.3087, -3.0276000000000001, -6.8360000000000003, -4.1052999999999997, -4.5869999999999997, -3.7841, -1.9390000000000001, -3.7227000000000001, -3.4672999999999998, -5.7393999999999998, -5.3986000000000001, -3.8742000000000001, -5.7321, -6.8886000000000003, -4.4500999999999999, -5.8017000000000003, -5.2641999999999998, -4.0212000000000003, -4.4852999999999996, -5.2945000000000002, -4.1383999999999999, -5.3773, -5.4790000000000001, -4.8791000000000002, -3.6814, -4.2487000000000004, -4.1845999999999997, -4.3254999999999999, -4.6604999999999999, -4.4641999999999999, -5.2763, -4.4215, -4.9516, -5.2607999999999997, -4.9686000000000003, -4.3216999999999999, -4.2725, -4.8644999999999996, -4.8818000000000001, -8.5831, -8.5831, -8.5831, -8.5831, -8.5831, -8.5831, -8.5831, -8.5831, -8.5831, -8.5831, -8.5831, -8.5831, -8.5831, -8.5831, -8.5831, -8.5831, -8.5831, -8.5831, -8.5831, -7.8939000000000004, -7.8939000000000004, -7.8939000000000004, -7.2027000000000001, -7.2651000000000003, -6.7313000000000001, -6.7481999999999998, -6.3634000000000004, -7.6788999999999996, -6.7111999999999998, -7.7064000000000004, -7.0148999999999999, -4.2384000000000004, -5.7977999999999996, -3.0503, -4.1567999999999996, -4.1882000000000001, -5.7511999999999999, -4.4473000000000003, -4.4890999999999996, -4.4798999999999998, -4.4798999999999998, -4.3484999999999996, -4.1326000000000001, -4.8384999999999998, -3.9525999999999999, -3.3898000000000001, -5.0984999999999996, -5.4691000000000001, -4.0453999999999999, -3.4365000000000001, -5.5697000000000001, -4.4223999999999997, -3.7044000000000001, -5.0648999999999997, -4.3254000000000001, -4.1147, -4.3307000000000002, -3.1766000000000001, -4.2613000000000003, -3.8380999999999998, -4.6582999999999997, -4.2853000000000003, -3.8780000000000001, -4.5069999999999997, -4.4957000000000003, -4.4302999999999999, -4.0152999999999999, -4.3616000000000001, -4.1285999999999996, -4.4626999999999999, -8.4512, -8.4512, -8.4512, -8.4512, -8.4512, -8.4512, -8.4512, -8.4512, -8.4512, -8.4512, -8.4512, -8.4512, -8.4512, -8.4512, -8.4512, -8.4512, -8.4512, -8.4512, -8.4512, -8.4512, -8.4512, -8.4512, -8.4512, -8.4512, -5.8886000000000003, -7.9527000000000001, -7.5744999999999996, -5.5010000000000003, -8.7262000000000004, -8.7262000000000004, -6.9359000000000002, -7.3478000000000003, -5.1603000000000003, -5.7351000000000001, -3.9782000000000002, -3.9563000000000001, -3.9245999999999999, -3.8635000000000002, -1.6034999999999999, -2.7021000000000002, -4.0811999999999999, -5.6395999999999997, -3.3772000000000002, -5.5076999999999998, -4.4682000000000004, -5.3718000000000004, -3.2336, -5.1315999999999997, -3.7109000000000001, -5.1140999999999996, -5.391, -5.9123999999999999, -5.2845000000000004, -6.5720999999999998, -3.7004999999999999, -5.3785999999999996, -5.6048, -5.0876000000000001, -7.0267999999999997, -5.1401000000000003, -3.4889000000000001, -5.2203999999999997, -3.9845999999999999, -3.1587000000000001, -3.4529000000000001, -3.9030999999999998, -4.7904999999999998, -4.8198999999999996, -4.8452999999999999, -5.0747999999999998, -4.6517999999999997, -4.7770999999999999, -8.4852000000000007, -8.4852000000000007, -8.4852000000000007, -8.4852000000000007, -8.4852000000000007, -8.4852000000000007, -8.4852000000000007, -8.4852000000000007, -8.4852000000000007, -8.4852000000000007, -8.4852000000000007, -8.4852000000000007, -8.4852000000000007, -8.4852000000000007, -8.4852000000000007, -8.4852000000000007, -8.4852000000000007, -8.4852000000000007, -8.4852000000000007, -8.4852000000000007, -8.4852000000000007, -8.4852000000000007, -8.4852000000000007, -8.4852000000000007, -8.4852000000000007, -8.4852000000000007, -8.4852000000000007, -8.4852000000000007, -8.4852000000000007, -8.4852000000000007, -7.1048, -7.1048, -7.1048, -7.3917999999999999, -7.3917999999999999, -7.3917999999999999, -7.3917999999999999, -7.3917999999999999, -7.7960000000000003, -7.7960000000000003, -7.7960000000000003, -7.7960000000000003, -7.7960000000000003, -7.7960000000000003, -7.7960000000000003, -7.7960000000000003, -7.7960000000000003, -7.7960000000000003, -7.7960000000000003, -7.7960000000000003, -7.7960000000000003, -7.7960000000000003, -7.7960000000000003, -7.7960000000000003, -7.7960000000000003, -7.7960000000000003, -7.7960000000000003, -7.7960000000000003, -7.7960000000000003, -7.7960000000000003, -6.2816999999999998, -6.7903000000000002, -6.4337999999999997, -6.8026, -3.4775999999999998, -4.4546999999999999, -6.1261999999999999, -3.0897999999999999, -5.6542000000000003, -4.5709999999999997, -6.1308999999999996, -6.1308999999999996, -5.1856999999999998, -6.7290999999999999, -6.2049000000000003, -4.4987000000000004, -6.0457999999999998, -1.7186999999999999, -4.3879000000000001, -4.0957999999999997, -4.9138000000000002, -7.032, -4.9455, -4.9455, -4.9371999999999998, -2.7456, -5.4771999999999998, -4.7393000000000001, -5.851, -4.5201000000000002, -5.3521000000000001, -5.6406999999999998, -6.2598000000000003, -5.6657999999999999, -5.9005999999999998, -4.7278000000000002, -4.6867999999999999, -4.2394999999999996, -4.5423999999999998, -4.6809000000000003, -5.8578000000000001, -5.8941999999999997, -5.2419000000000002, -4.867, -5.0956999999999999, -5.3491, -5.0576999999999996, -8.3488000000000007, -8.3488000000000007, -8.3488000000000007, -8.3488000000000007, -8.3488000000000007, -8.3488000000000007, -8.3488000000000007, -8.3488000000000007, -8.3488000000000007, -7.6596000000000002, -7.7882999999999996, -7.9069000000000003, -6.9934000000000003, -8.6239000000000008, -8.6239000000000008, -8.6239000000000008, -8.6239000000000008, -8.6239000000000008, -8.6239000000000008, -8.6239000000000008, -8.6239000000000008, -8.6239000000000008, -8.6239000000000008, -8.6239000000000008, -8.6239000000000008, -8.6239000000000008, -8.6239000000000008, -8.6239000000000008, -8.6239000000000008, -8.6239000000000008, -7.2454000000000001, -7.2454000000000001, -7.9359000000000002, -7.9359000000000002, -7.9359000000000002, -3.5752999999999999, -3.6827999999999999, -6.8986000000000001, -6.6581000000000001, -5.3921999999999999, -7.5904999999999996, -5.6204999999999998, -4.0827999999999998, -3.8843000000000001, -2.8885000000000001, -3.9689999999999999, -4.4721000000000002, -3.6804000000000001, -4.0754999999999999, -4.2599, -4.5598000000000001, -2.0735000000000001, -6.0481999999999996, -3.1528, -3.9083999999999999, -5.6125999999999996, -3.6253000000000002, -4.0599999999999996, -2.6511999999999998, -5.2176999999999998, -5.8308, -5.1810999999999998, -5.7672999999999996, -4.4017999999999997, -4.2990000000000004, -5.2563000000000004, -4.9396000000000004, -3.9401000000000002, -5.1788999999999996, -5.1718000000000002, -4.5922000000000001, -5.2583000000000002, -4.4522000000000004, -4.4497, -4.7664, -4.2096999999999998, -4.8436000000000003, -4.7725999999999997, -4.9523999999999999, -4.71, -4.9222000000000001, -8.3118999999999996, -8.3118999999999996, -8.3118999999999996, -8.3118999999999996, -8.3118999999999996, -8.3118999999999996, -8.3118999999999996, -8.3118999999999996, -8.3118999999999996, -8.3118999999999996, -8.3118999999999996, -8.3118999999999996, -8.3118999999999996, -8.3118999999999996, -8.3118999999999996, -8.3118999999999996, -8.3118999999999996, -8.3118999999999996, -8.3118999999999996, -8.3118999999999996, -8.3118999999999996, -8.3118999999999996, -8.3118999999999996, -8.3118999999999996, -8.3118999999999996, -8.3118999999999996, -8.3118999999999996, -8.3118999999999996, -8.3118999999999996, -8.3118999999999996, -7.6227999999999998, -6.4444999999999997, -6.2544000000000004, -4.6787999999999998, -4.7331000000000003, -5.8319999999999999, -7.1067999999999998, -7.1067999999999998, -2.3704999999999998, -2.7408999999999999, -2.9971999999999999, -4.5034000000000001, -3.3169, -5.4029999999999996, -5.0533000000000001, -6.6795999999999998, -3.1642999999999999, -5.1736000000000004, -5.7617000000000003, -3.7113, -3.5518999999999998, -6.0106999999999999, -6.1797000000000004, -4.9322999999999997, -2.7463000000000002, -7.7514000000000003, -5.6513999999999998, -6.6580000000000004, -4.4760999999999997, -6.3489000000000004, -5.782, -4.0637999999999996, -5.2766999999999999, -3.7391999999999999, -4.8959000000000001, -5.2312000000000003, -4.1553000000000004, -4.2431000000000001, -5.5479000000000003, -4.7747999999999999, -5.1295000000000002, -5.3932000000000002, -3.7183000000000002, -4.4156000000000004, -4.8361000000000001, -4.1673, -4.5011999999999999, -4.0637999999999996, -4.1284000000000001, -4.2134999999999998, -4.9656000000000002, -8.5436999999999994, -8.5436999999999994, -8.5436999999999994, -8.5436999999999994, -8.5436999999999994, -8.5436999999999994, -8.5436999999999994, -8.5436999999999994, -8.5436999999999994, -8.5436999999999994, -8.5436999999999994, -8.5436999999999994, -8.5436999999999994, -8.5436999999999994, -8.5436999999999994, -8.5436999999999994, -8.5436999999999994, -8.5436999999999994, -8.5436999999999994, -8.5436999999999994, -8.5436999999999994, -8.5436999999999994, -8.5436999999999994, -8.5436999999999994, -8.5436999999999994, -8.5436999999999994, -8.5436999999999994, -8.5436999999999994, -8.5436999999999994, -8.5436999999999994, -6.9405999999999999, -6.9405999999999999, -7.1632999999999996, -7.1632999999999996, -7.4503000000000004, -7.4503000000000004, -7.4504000000000001, -7.4504000000000001, -7.8544999999999998, -7.8544999999999998, -7.8544999999999998, -7.8544999999999998, -6.8612000000000002, -3.4283999999999999, -4.3632, -7.5343999999999998, -7.5345000000000004, -2.8662999999999998, -3.5148000000000001, -6.9405999999999999, -4.1699000000000002, -6.9478999999999997, -7.5735000000000001, -5.6597, -5.7355999999999998, -5.5787000000000004, -4.6054000000000004, -4.2595999999999998, -2.8626999999999998, -3.9489000000000001, -2.8313999999999999, -3.3567, -3.9174000000000002, -3.5667, -4.0350999999999999, -5.0803000000000003, -3.3409, -5.2649999999999997, -5.1986999999999997, -4.2682000000000002, -5.4435000000000002, -5.6158999999999999, -5.9634, -5.2041000000000004, -4.7241, -5.2858000000000001, -5.7916999999999996, -4.2611999999999997, -4.5773000000000001, -4.9335000000000004, -4.6813000000000002, -4.6513999999999998, -4.9367000000000001, -4.7390999999999996, -4.6536, -3.8313999999999999, -4.6162999999999998, -3.9095, -4.3841999999999999, -4.6719999999999997, -4.7651000000000003, -8.5127000000000006, -8.5127000000000006, -8.5127000000000006, -8.5127000000000006, -8.5127000000000006, -8.5127000000000006, -8.5127000000000006, -8.5127000000000006, -8.5127000000000006, -8.5127000000000006, -8.5127000000000006, -8.5127000000000006, -8.5127000000000006, -8.5127000000000006, -8.5127000000000006, -8.5127000000000006, -8.5127000000000006, -8.5127000000000006, -8.5127000000000006, -8.5127000000000006, -8.5127000000000006, -8.5127000000000006, -8.5127000000000006, -8.5127000000000006, -8.5127000000000006, -8.5127000000000006, -8.5127000000000006, -8.5127000000000006, -8.5127000000000006, -8.5127000000000006, -6.9096000000000002, -6.9096000000000002, -7.1322999999999999, -7.4194000000000004, -7.4194000000000004, -7.4194000000000004, -7.4194000000000004, -7.4194000000000004, -7.4194000000000004, -7.4194000000000004, -7.4194000000000004, -7.4194000000000004, -7.4194000000000004, -7.4195000000000002, -7.8235000000000001, -7.8235000000000001, -7.8235000000000001, -7.8235000000000001, -7.8235000000000001, -7.8235000000000001, -7.8235000000000001, -7.8235000000000001, -7.8235000000000001, -7.8235000000000001, -7.8235000000000001, -7.8235000000000001, -7.8235000000000001, -7.8235000000000001, -7.8235000000000001, -7.8235000000000001, -5.2282999999999999, -6.5162000000000004, -5.4888000000000003, -5.0839999999999996, -6.2960000000000003, -4.0902000000000003, -2.6696, -3.2351999999999999, -4.5369000000000002, -5.0202, -6.7241, -5.1900000000000004, -4.1143000000000001, -5.2043999999999997, -6.0731000000000002, -5.6119000000000003, -3.4472, -5.5850999999999997, -4.7564000000000002, -5.8220999999999998, -5.1172000000000004, -4.6378000000000004, -4.6020000000000003, -5.4028, -2.8834, -4.6894, -3.0750999999999999, -4.0233999999999996, -5.4928999999999997, -4.5438999999999998, -5.3615000000000004, -4.6581999999999999, -4.6646000000000001, -5.0339999999999998, -5.1029999999999998, -4.3304, -4.4169999999999998, -4.3811999999999998, -3.8136999999999999, -4.8582000000000001, -5.2908999999999997, -4.7365000000000004, -8.4629999999999992, -8.4629999999999992, -8.4629999999999992, -8.4629999999999992, -8.4629999999999992, -8.4629999999999992, -8.4629999999999992, -8.4629999999999992, -8.4629999999999992, -8.4629999999999992, -8.4629999999999992, -8.4629999999999992, -8.4629999999999992, -8.4629999999999992, -8.4629999999999992, -8.4629999999999992, -8.4629999999999992, -8.4629999999999992, -8.4629999999999992, -8.4629999999999992, -8.4629999999999992, -8.4629999999999992, -8.4629999999999992, -8.4629999999999992, -8.4629999999999992, -8.4629999999999992, -8.4629999999999992, -8.4629999999999992, -8.4629999999999992, -8.4629999999999992, -6.6779000000000002, -7.3696999999999999, -7.7737999999999996, -4.4955999999999996, -4.4763000000000002, -4.4772999999999996, -5.5293000000000001, -4.5130999999999997, -2.1635, -3.7706, -4.0399000000000003, -4.1567999999999996, -4.0364000000000004, -4.8356000000000003, -3.9649000000000001, -7.0532000000000004, -4.1520999999999999, -5.0429000000000004, -3.0842000000000001, -4.9581, -4.0614999999999997, -5.4328000000000003, -7.2828999999999997, -3.0863999999999998, -7.2858000000000001, -4.8921999999999999, -2.8334999999999999, -7.5453999999999999, -5.2515999999999998, -5.3166000000000002, -5.9436, -3.3065000000000002, -6.0814000000000004, -3.9468999999999999, -4.0979999999999999, -4.8818000000000001, -4.2070999999999996, -4.5500999999999996, -5.0498000000000003, -4.2836999999999996, -4.8047000000000004, -3.3338999999999999, -3.7351000000000001, -4.0202999999999998, -4.4062000000000001, -4.7275, -4.7912999999999997, -8.1405999999999992, -8.1405999999999992, -8.1405999999999992, -8.1405999999999992, -8.1405999999999992, -8.1405999999999992, -8.1405999999999992, -8.1405999999999992, -8.1405999999999992, -8.1405999999999992, -8.1405999999999992, -8.1405999999999992, -8.1405999999999992, -8.1405999999999992, -8.1405999999999992, -8.1405999999999992, -8.1405999999999992, -8.1405999999999992, -8.1405999999999992, -8.1405999999999992, -8.1405999999999992, -8.1405999999999992, -8.1405999999999992, -8.1405999999999992, -8.1405999999999992, -8.1405999999999992, -8.1405999999999992, -8.1405999999999992, -8.1405999999999992, -8.1405999999999992, -7.0472999999999999, -7.0472999999999999, -7.4513999999999996, -7.4513999999999996, -7.4513999999999996, -7.4513999999999996, -6.8243, -7.1313000000000004, -4.9195000000000002, -4.9858000000000002, -3.9007000000000001, -6.8987999999999996, -5.6387, -4.0225, -4.3285, -5.0469999999999997, -5.3575999999999997, -3.9893999999999998, -5.7956000000000003, -6.7793999999999999, -2.0983000000000001, -6.3032000000000004, -3.3877999999999999, -2.5733000000000001, -6.8146000000000004, -3.9344999999999999, -4.3231000000000002, -7.0041000000000002, -5.3742000000000001, -5.7727000000000004, -3.6793, -4.2527999999999997, -3.6648999999999998, -3.4521999999999999, -4.1611000000000002, -3.5903, -4.6412000000000004, -5.1131000000000002, -4.1727999999999996, -5.6360999999999999, -3.5194999999999999, -5.2320000000000002, -5.4942000000000002, -4.7073999999999998, -5.2710999999999997, -4.9901999999999997, -4.9588000000000001, -3.9182000000000001, -3.5531999999999999, -5.0289999999999999, -3.5863, -4.6566999999999998, -8.2516999999999996, -8.2516999999999996, -8.2516999999999996, -8.2516999999999996, -8.2516999999999996, -8.2516999999999996, -8.2516999999999996, -8.2516999999999996, -8.2516999999999996, -8.2516999999999996, -8.2516999999999996, -8.2516999999999996, -8.2516999999999996, -8.2516999999999996, -8.2516999999999996, -8.2516999999999996, -8.2516999999999996, -8.2516999999999996, -8.2516999999999996, -8.2516999999999996, -8.2516999999999996, -8.2516999999999996, -8.2516999999999996, -8.2516999999999996, -8.2516999999999996, -7.2423999999999999, -7.6912000000000003, -7.3341000000000003, -7.7531999999999996, -7.7531999999999996, -5.8033000000000001, -5.3994, -1.3769, -4.6334, -5.6967999999999996, -3.2875999999999999, -4.9702999999999999, -3.4417, -6.7544000000000004, -3.6983999999999999, -4.9471999999999996, -7.1029, -4.3250000000000002, -3.5701999999999998, -4.0395000000000003, -4.1874000000000002, -4.2553000000000001, -3.7524000000000002, -4.8465999999999996, -6.3940000000000001, -4.1074000000000002, -4.7142999999999997, -3.5583999999999998, -5.2145000000000001, -3.6278000000000001, -6.1809000000000003, -5.7568000000000001, -5.8579999999999997, -5.4892000000000003, -4.0107999999999997, -5.4061000000000003, -4.9180000000000001, -5.5830000000000002, -5.6571999999999996, -5.0019, -5.4682000000000004, -5.4729999999999999, -4.2949999999999999, -3.6785000000000001, -4.5049000000000001, -4.4420999999999999, -4.7375999999999996, -4.6052, -4.9459, -5.2962999999999996, -8.3874999999999993, -8.3874999999999993, -8.3874999999999993, -8.3874999999999993, -8.3874999999999993, -8.3874999999999993, -8.3874999999999993, -8.3874999999999993, -8.3874999999999993, -8.3874999999999993, -8.3874999999999993, -8.3874999999999993, -8.3874999999999993, -8.3874999999999993, -8.3874999999999993, -8.3874999999999993, -8.3874999999999993, -8.3874999999999993, -8.3874999999999993, -8.3874999999999993, -8.3874999999999993, -8.3874999999999993, -8.3874999999999993, -8.3874999999999993, -8.3874999999999993, -8.3874999999999993, -8.3874999999999993, -8.3874999999999993, -8.3874999999999993, -8.3874999999999993, -7.6982999999999997, -7.6982999999999997, -6.9088000000000003, -3.1015000000000001, -5.2984999999999998, -6.2190000000000003, -3.7033999999999998, -4.5487000000000002, -5.6628999999999996, -4.1901999999999999, -4.7626999999999997, -4.1017999999999999, -4.2655000000000003, -3.4152, -6.1384999999999996, -4.6273999999999997, -4.8714000000000004, -3.2195999999999998, -3.1025, -3.1341000000000001, -4.1680000000000001, -3.7387999999999999, -5.4231999999999996, -6.4383999999999997, -6.2895000000000003, -5.8377999999999997, -4.7389000000000001, -4.8323, -6.4721000000000002, -6.0321999999999996, -5.4137000000000004, -5.3936999999999999, -4.1409000000000002, -3.8054000000000001, -4.7283999999999997, -4.234, -4.4267000000000003, -4.2857000000000003, -4.6142000000000003, -4.2148000000000003, -3.4639000000000002, -4.4566999999999997, -4.0145, -4.8460999999999999, -4.1063999999999998, -8.4526000000000003, -8.4526000000000003, -8.4526000000000003, -8.4526000000000003, -8.4526000000000003, -8.4526000000000003, -8.4526000000000003, -8.4526000000000003, -8.4526000000000003, -8.4526000000000003, -8.4526000000000003, -8.4526000000000003, -8.4526000000000003, -8.4526000000000003, -8.4526000000000003, -8.4526000000000003, -8.4526000000000003, -8.4526000000000003, -8.4526000000000003, -8.4526000000000003, -8.4526000000000003, -8.4526000000000003, -8.4526000000000003, -8.4526000000000003, -8.4526000000000003, -8.4526000000000003, -8.4526000000000003, -8.4526000000000003, -8.4526000000000003, -8.4526000000000003, -5.8949999999999996, -7.3593000000000002, -7.7633999999999999, -7.7633999999999999, -7.7633999999999999, -7.7633999999999999, -6.6016000000000004, -3.8311999999999999, -6.5179, -4.327, -6.6569000000000003, -6.6574999999999998, -3.6356000000000002, -6.3322000000000003, -2.4510000000000001, -5.2721, -7.4432999999999998, -3.6040000000000001, -4.5288000000000004, -5.6961000000000004, -6.2156000000000002, -6.2343000000000002, -4.6938000000000004, -3.2029000000000001, -4.8282999999999996, -6.8705999999999996, -7.4824999999999999, -7.4824999999999999, -5.2979000000000003, -7.2317999999999998, -5.2910000000000004, -3.6833, -6.1391999999999998, -6.1391999999999998, -4.0490000000000004, -4.2774999999999999, -4.3925999999999998, -4.8007, -4.2798999999999996, -4.3673000000000002, -5.282, -4.5114000000000001, -4.1295999999999999, -5.3440000000000003, -3.7484999999999999, -5.4839000000000002, -5.6054000000000004, -5.0640999999999998, -4.5716999999999999, -4.7546999999999997, -4.5587999999999997, -4.5491000000000001, -4.5913000000000004, -5.1147999999999998, -4.9173999999999998, -4.8800999999999997, -5.0033000000000003, -4.9368999999999996, -4.9584000000000001, -4.4349999999999996, -4.3899999999999997, -4.5385999999999997, -4.7239000000000004, -4.8509000000000002, -8.1743000000000006, -8.1743000000000006, -8.1743000000000006, -8.1743000000000006, -8.1743000000000006, -8.1743000000000006, -8.1743000000000006, -8.1743000000000006, -8.1743000000000006, -8.1743000000000006, -8.1743000000000006, -8.1743000000000006, -8.1743000000000006, -8.1743000000000006, -8.1743000000000006, -8.1743000000000006, -8.1743000000000006, -8.1743000000000006, -8.1743000000000006, -8.1743000000000006, -8.1743000000000006, -8.1743000000000006, -8.1743000000000006, -8.1743000000000006, -8.1743000000000006, -8.1743000000000006, -8.1743000000000006, -7.4851000000000001, -7.4851000000000001, -7.4851000000000001, -3.9815999999999998, -6.9229000000000003, -3.3195999999999999, -4.9974999999999996, -4.5190999999999999, -2.2513000000000001, -1.6857, -5.9649999999999999, -2.5787, -4.1271000000000004, -5.3437999999999999, -4.8468, -5.0408999999999997, -4.0457000000000001, -6.8483000000000001, -5.1885000000000003, -3.4188999999999998, -5.2153999999999998, -4.1962000000000002, -3.0945, -6.3944000000000001, -7.6138000000000003, -7.6138000000000003, -7.6138000000000003, -5.9166999999999996, -6.1920999999999999, -6.2805, -5.1458000000000004, -4.0023, -4.4436999999999998, -4.5491999999999999, -4.6338999999999997, -5.3891999999999998, -5.6163999999999996, -4.6993999999999998, -4.8014999999999999, -4.9573, -5.4314999999999998, -4.8521000000000001, -5.1368999999999998, -3.8237000000000001, -5.1344000000000003, -5.0124000000000004, -5.1079999999999997, -8.2239000000000004, -8.2239000000000004, -8.2239000000000004, -8.2239000000000004, -8.2239000000000004, -8.2239000000000004, -8.2239000000000004, -8.2239000000000004, -8.2239000000000004, -8.2239000000000004, -8.2239000000000004, -8.2239000000000004, -8.2239000000000004, -8.2239000000000004, -8.2239000000000004, -8.2239000000000004, -8.2239000000000004, -8.2239000000000004, -8.2239000000000004, -8.2239000000000004, -8.2239000000000004, -8.2239000000000004, -8.2239000000000004, -8.2239000000000004, -8.2239000000000004, -8.2239000000000004, -8.2239000000000004, -8.2239000000000004, -8.2239000000000004, -8.2239000000000004, -5.9819000000000004, -6.5593000000000004, -6.7451999999999996, -3.5421999999999998, -3.6229, -7.0015999999999998, -3.6105, -4.0841000000000003, -5.1418999999999997, -5.1109, -5.5240999999999998, -2.0434999999999999, -3.8380000000000001, -6.3556999999999997, -4.6761999999999997, -5.0236999999999998, -3.8837999999999999, -4.3757999999999999, -6.7159000000000004, -5.2977999999999996, -4.7251000000000003, -4.8531000000000004, -5.0964999999999998, -6.9000000000000004, -7.3197000000000001, -5.1786000000000003, -4.3255999999999997, -4.8673000000000002, -4.8743999999999996, -4.1265999999999998, -5.1947999999999999, -4.4489999999999998, -3.5487000000000002, -4.4226000000000001, -3.8227000000000002, -3.4283000000000001, -4.2781000000000002, -4.3760000000000003, -3.8271000000000002, -4.7704000000000004, -5.0594000000000001, -4.9545000000000003, -4.4196999999999997, -4.9311999999999996, -4.6699000000000002, -5.0560999999999998, -4.8141999999999996, -5.0134999999999996, -8.3411000000000008, -8.3411000000000008, -8.3411000000000008, -8.3411000000000008, -8.3411000000000008, -8.3411000000000008, -8.3411000000000008, -8.3411000000000008, -8.3411000000000008, -8.3411000000000008, -8.3411000000000008, -8.3411000000000008, -8.3411000000000008, -8.3411000000000008, -8.3411000000000008, -8.3411000000000008, -8.3411000000000008, -8.3411000000000008, -8.3411000000000008, -8.3411000000000008, -8.3411000000000008, -8.3411000000000008, -8.3411000000000008, -8.3411000000000008, -8.3411000000000008, -8.3411000000000008, -8.3411000000000008, -8.3411000000000008, -8.3411000000000008, -8.3411000000000008, -6.9607999999999999, -7.2477999999999998, -7.2477999999999998, -7.2477999999999998, -7.2477999999999998, -7.2477999999999998, -7.6519000000000004, -7.6519000000000004, -7.6519000000000004, -7.6519000000000004, -7.6519000000000004, -7.6519000000000004, -7.6519000000000004, -7.6519000000000004, -6.1486999999999998, -6.6401000000000003, -3.5926999999999998, -6.3990999999999998, -7.0518000000000001, -2.3437000000000001, -3.1204999999999998, -4.7992999999999997, -5.8937999999999997, -6.585, -5.7356999999999996, -6.4691000000000001, -6.4691000000000001, -5.7488000000000001, -6.7321, -4.8555000000000001, -4.7538, -3.4857999999999998, -2.9628999999999999, -6.0576999999999996, -4.7728000000000002, -5.4466999999999999, -4.2416999999999998, -4.6566999999999998, -4.7351000000000001, -3.6234999999999999, -2.8048000000000002, -5.617, -4.6985999999999999, -5.0735000000000001, -4.6961000000000004, -5.4984999999999999, -4.8099999999999996, -5.2191000000000001, -5.6592000000000002, -5.0991999999999997, -5.0910000000000002, -5.4069000000000003, -4.2938000000000001, -5.0030000000000001, -5.0393999999999997, -5.1230000000000002, -5.3183999999999996, -5.4530000000000003, -3.7244999999999999, -5.0335999999999999, -4.5008999999999997, -5.2461000000000002, -4.6825999999999999, -8.3793000000000006, -8.3793000000000006, -8.3793000000000006, -8.3793000000000006, -8.3793000000000006, -8.3793000000000006, -8.3793000000000006, -8.3793000000000006, -8.3793000000000006, -8.3793000000000006, -8.3793000000000006, -8.3793000000000006, -8.3793000000000006, -8.3793000000000006, -8.3793000000000006, -8.3793000000000006, -8.3793000000000006, -8.3793000000000006, -8.3793000000000006, -8.3793000000000006, -8.3793000000000006, -8.3793000000000006, -8.3793000000000006, -8.3793000000000006, -8.3793000000000006, -8.3793000000000006, -8.3793000000000006, -8.3793000000000006, -8.3793000000000006, -8.3793000000000006, -5.5534999999999997, -5.5534999999999997, -5.2190000000000003, -6.3095999999999997, -7.6901000000000002, -7.6901000000000002, -7.6901000000000002, -7.6901000000000002, -7.6901000000000002, -7.6901000000000002, -7.6901000000000002, -7.6901000000000002, -2.9354, -6.6782000000000004, -4.8170000000000002, -4.8170000000000002, -4.7142999999999997, -4.5833000000000004, -3.4893000000000001, -4.2771999999999997, -6.1558999999999999, -3.1299000000000001, -7.1277999999999997, -3.9607000000000001, -3.2650000000000001, -3.9550999999999998, -5.5534999999999997, -5.1026999999999996, -5.4196, -6.4465000000000003, -3.9695, -3.7452000000000001, -3.7850999999999999, -5.5088999999999997, -3.4074, -5.0575000000000001, -5.9211, -4.6271000000000004, -4.7613000000000003, -5.0438000000000001, -3.8081, -4.3446999999999996, -4.1433, -4.7286999999999999, -4.0591999999999997, -4.9782000000000002, -4.6546000000000003, -4.3716999999999997, -4.7530999999999999, -3.8727999999999998, -4.9787999999999997, -4.8951000000000002, -8.2736999999999998, -8.2736999999999998, -8.2736999999999998, -8.2736999999999998, -8.2736999999999998, -8.2736999999999998, -8.2736999999999998, -8.2736999999999998, -8.2736999999999998, -8.2736999999999998, -8.2736999999999998, -8.2736999999999998, -8.2736999999999998, -8.2736999999999998, -8.2736999999999998, -8.2736999999999998, -8.2736999999999998, -8.2736999999999998, -8.2736999999999998, -8.2736999999999998, -8.2736999999999998, -8.2736999999999998, -8.2736999999999998, -8.2736999999999998, -8.2736999999999998, -8.2736999999999998, -8.2736999999999998, -8.2736999999999998, -8.2736999999999998, -8.2736999999999998, -5.7961999999999998, -7.5845000000000002, -7.5845000000000002, -5.4673999999999996, -3.4597000000000002, -3.2210999999999999, -3.2176, -2.4234, -3.6402999999999999, -4.5590999999999999, -2.8706, -6.1512000000000002, -3.8957999999999999, -6.1615000000000002, -2.7871999999999999, -4.4927000000000001, -4.2260999999999997, -5.3955000000000002, -6.2084000000000001, -4.3925999999999998, -5.8926999999999996, -6.2397, -5.5693999999999999, -3.9077000000000002, -4.9233000000000002, -3.9598, -7.3560999999999996, -6.1394000000000002, -3.6949999999999998, -3.8639999999999999, -4.2050000000000001, -3.9975000000000001, -4.8105000000000002, -5.6101999999999999, -4.4455, -4.9722, -5.2121000000000004, -4.5297000000000001, -5.1151999999999997, -4.6074000000000002, -4.4119999999999999, -4.8628, -5.1584000000000003, -5.1970999999999998, -4.5766999999999998, -4.8289, -5.1138000000000003, -5.1109999999999998, -8.202, -8.202, -8.202, -8.202, -8.202, -8.202, -8.202, -8.202, -8.202, -8.202, -8.202, -8.202, -8.202, -8.202, -8.202, -8.202, -8.202, -8.202, -8.202, -8.202, -8.202, -8.202, -8.202, -8.202, -7.5128000000000004, -7.5128000000000004, -7.5128000000000004, -6.2054999999999998, -6.7233999999999998, -7.6414999999999997, -6.2731000000000003, -4.4962999999999997, -6.5651999999999999, -4.9058999999999999, -6.9602000000000004, -6.9602000000000004, -6.9602000000000004, -3.5737999999999999, -2.6389999999999998, -5.1645000000000003, -4.4509999999999996, -4.2079000000000004, -6.1059999999999999, -4.4320000000000004, -6.8030999999999997, -6.1281999999999996, -3.7837000000000001, -4.8151999999999999, -4.2016, -6.8308999999999997, -6.6966000000000001, -3.0857999999999999, -4.3956999999999997, -4.4448999999999996, -4.8883000000000001, -4.2416, -4.3940999999999999, -4.1707000000000001, -3.9626000000000001, -4.3552, -6.0125000000000002, -4.5702999999999996, -6.0846, -4.2584999999999997, -4.1569000000000003, -4.9901999999999997, -4.7140000000000004, -4.7877999999999998, -3.5026999999999999, -5.2965, -4.6620999999999997, -5.0061, -4.3688000000000002, -4.5068999999999999, -4.5483000000000002, -4.7895000000000003, -4.5284000000000004, -8.2209000000000003, -8.2209000000000003, -8.2209000000000003, -8.2209000000000003, -8.2209000000000003, -8.2209000000000003, -8.2209000000000003, -8.2209000000000003, -8.2209000000000003, -8.2209000000000003, -8.2209000000000003, -8.2209000000000003, -8.2209000000000003, -8.2209000000000003, -8.2209000000000003, -8.2209000000000003, -8.2209000000000003, -8.2209000000000003, -8.2209000000000003, -8.2209000000000003, -8.2209000000000003, -8.2209000000000003, -8.2209000000000003, -8.2209000000000003, -8.2209000000000003, -8.2209000000000003, -8.2209000000000003, -8.2209000000000003, -8.2209000000000003, -8.2209000000000003, -7.5316999999999998, -3.4268999999999998, -4.2195999999999998, -2.3483000000000001, -3.8195000000000001, -6.0636000000000001, -5.5021000000000004, -4.5529000000000002, -7.2507999999999999, -3.0455999999999999, -6.2027999999999999, -5.8551000000000002, -3.6187, -5.6638000000000002, -3.8534000000000002, -6.8255999999999997, -5.8281999999999998, -6.6771000000000003, -5.1281999999999996, -4.5213999999999999, -4.4298000000000002, -5.3291000000000004, -4.6369999999999996, -3.1612, -6.7129000000000003, -4.3808999999999996, -5.7515000000000001, -3.8946999999999998, -4.6448999999999998, -4.7034000000000002, -4.6999000000000004, -4.6070000000000002, -5.2945000000000002, -4.75, -4.3323999999999998, -4.4538000000000002, -5.0170000000000003, -4.8479000000000001, -4.7774999999999999, -4.6769999999999996, -4.5777999999999999, -4.7343999999999999, -4.8155000000000001, -4.6378000000000004, -4.2182000000000004, -4.5338000000000003, -4.5542999999999996, -4.7142999999999997, -8.2219999999999995, -8.2219999999999995, -8.2219999999999995, -8.2219999999999995, -8.2219999999999995, -8.2219999999999995, -8.2219999999999995, -8.2219999999999995, -8.2219999999999995, -8.2219999999999995, -8.2219999999999995, -8.2219999999999995, -8.2219999999999995, -8.2219999999999995, -8.2219999999999995, -8.2219999999999995, -8.2219999999999995, -8.2219999999999995, -8.2219999999999995, -8.2219999999999995, -8.2219999999999995, -8.2219999999999995, -8.2219999999999995, -8.2219999999999995, -8.2219999999999995, -8.2219999999999995, -8.2219999999999995, -8.2219999999999995, -8.2219999999999995, -8.2219999999999995, -7.1287000000000003, -7.1287000000000003, -7.5328999999999997, -7.5328999999999997, -7.5328999999999997, -7.5328999999999997, -7.5328999999999997, -5.7567000000000004, -4.1660000000000004, -6.9326999999999996, -5.0415000000000001, -6.4496000000000002, -3.1494, -3.0482, -3.4285000000000001, -6.6341999999999999, -6.2789000000000001, -4.5838999999999999, -5.4047000000000001, -2.996, -2.8572000000000002, -5.7675999999999998, -6.4268000000000001, -4.5425000000000004, -4.6284000000000001, -6.0974000000000004, -5.5526999999999997, -2.7654999999999998, -4.9028999999999998, -6.8608000000000002, -5.0170000000000003, -4.5726000000000004, -4.3606999999999996, -4.8287000000000004, -4.4417, -3.9195000000000002, -5.8487999999999998, -3.8498999999999999, -4.8737000000000004, -5.3532999999999999, -5.9210000000000003, -5.1167999999999996, -5.3696000000000002, -5.1649000000000003, -4.3602999999999996, -5.2511999999999999, -4.8837000000000002, -5.3205, -5.0529999999999999, -4.2786999999999997, -5.2176999999999998, -4.6147, -4.5227000000000004, -4.9173, -4.8620999999999999, -5.0678000000000001, -5.0103, -8.1752000000000002, -8.1752000000000002, -8.1752000000000002, -8.1752000000000002, -8.1752000000000002, -8.1752000000000002, -8.1752000000000002, -8.1752000000000002, -8.1752000000000002, -8.1752000000000002, -8.1752000000000002, -8.1752000000000002, -8.1752000000000002, -8.1752000000000002, -8.1752000000000002, -8.1752000000000002, -8.1752000000000002, -8.1752000000000002, -8.1752000000000002, -8.1752000000000002, -8.1752000000000002, -8.1752000000000002, -8.1752000000000002, -8.1752000000000002, -8.1752000000000002, -8.1752000000000002, -8.1752000000000002, -8.1752000000000002, -8.1752000000000002, -8.1752000000000002, -5.8796999999999997, -6.3899999999999997, -6.3899999999999997, -6.3899999999999997, -6.3899999999999997, -6.3899999999999997, -6.7948000000000004, -7.0818000000000003, -7.4859999999999998, -5.0903, -5.3930999999999996, -6.1334, -5.0612000000000004, -3.4209000000000001, -6.4497999999999998, -5.3643999999999998, -6.8571999999999997, -6.8571999999999997, -3.2709999999999999, -5.2382, -3.5282, -4.6738, -2.4268000000000001, -5.0288000000000004, -1.6117999999999999, -6.0495999999999999, -7.2050000000000001, -4.2530000000000001, -5.2050000000000001, -6.7873000000000001, -2.3588, -4.7342000000000004, -5.0041000000000002, -4.7263999999999999, -5.0064000000000002, -4.6336000000000004, -4.6555, -3.6884000000000001, -3.6573000000000002, -5.1340000000000003, -5.2351000000000001, -4.9992000000000001, -5.1303000000000001, -4.8772000000000002, -5.4059999999999997, -5.3305999999999996, -4.9009999999999998, -4.9447999999999999, -4.7396000000000003, -5.2716000000000003, -8.0318000000000005, -8.0318000000000005, -8.0318000000000005, -8.0318000000000005, -8.0318000000000005, -8.0318000000000005, -8.0318000000000005, -8.0318000000000005, -8.0318000000000005, -8.0318000000000005, -8.0318000000000005, -8.0318000000000005, -8.0318000000000005, -8.0318000000000005, -8.0318000000000005, -8.0318000000000005, -8.0318000000000005, -8.0318000000000005, -8.0318000000000005, -8.0318000000000005, -8.0318000000000005, -8.0318000000000005, -8.0318000000000005, -8.0318000000000005, -8.0318000000000005, -8.0318000000000005, -8.0318000000000005, -8.0318000000000005, -8.0318000000000005, -7.3426, -7.3426, -7.3426, -7.3426, -7.3426, -7.3426, -7.3426, -3.2450999999999999, -6.5530999999999997, -5.0228999999999999, -6.1786000000000003, -4.0529999999999999, -2.5339, -4.2426000000000004, -2.7706, -1.903, -3.9428999999999998, -3.6974999999999998, -5.2499000000000002, -5.0778999999999996, -4.6783999999999999, -5.3719999999999999, -6.1417000000000002, -5.2984, -4.8634000000000004, -5.5381, -3.3576000000000001, -6.7138999999999998, -3.9742999999999999, -5.9466000000000001, -4.9412000000000003, -4.6364999999999998, -4.0110000000000001, -3.9220000000000002, -3.6442000000000001, -4.7721999999999998, -4.6561000000000003, -4.8314000000000004, -3.6133000000000002, -4.5313999999999997, -4.3334999999999999, -5.2960000000000003, -4.944, -5.1178999999999997, -4.6996000000000002, -5.1745999999999999, -5.1394000000000002]}};\n",
       "\n",
       "function LDAvis_load_lib(url, callback){\n",
       "  var s = document.createElement('script');\n",
       "  s.src = url;\n",
       "  s.async = true;\n",
       "  s.onreadystatechange = s.onload = callback;\n",
       "  s.onerror = function(){console.warn(\"failed to load library \" + url);};\n",
       "  document.getElementsByTagName(\"head\")[0].appendChild(s);\n",
       "}\n",
       "\n",
       "if(typeof(LDAvis) !== \"undefined\"){\n",
       "   // already loaded: just create the visualization\n",
       "   !function(LDAvis){\n",
       "       new LDAvis(\"#\" + \"ldavis_el75049967227689284675892\", ldavis_el75049967227689284675892_data);\n",
       "   }(LDAvis);\n",
       "}else if(typeof define === \"function\" && define.amd){\n",
       "   // require.js is available: use it to load d3/LDAvis\n",
       "   require.config({paths: {d3: \"https://cdnjs.cloudflare.com/ajax/libs/d3/3.5.5/d3.min\"}});\n",
       "   require([\"d3\"], function(d3){\n",
       "      window.d3 = d3;\n",
       "      LDAvis_load_lib(\"https://cdn.rawgit.com/bmabey/pyLDAvis/files/ldavis.v1.0.0.js\", function(){\n",
       "        new LDAvis(\"#\" + \"ldavis_el75049967227689284675892\", ldavis_el75049967227689284675892_data);\n",
       "      });\n",
       "    });\n",
       "}else{\n",
       "    // require.js not available: dynamically load d3 & LDAvis\n",
       "    LDAvis_load_lib(\"https://cdnjs.cloudflare.com/ajax/libs/d3/3.5.5/d3.min.js\", function(){\n",
       "         LDAvis_load_lib(\"https://cdn.rawgit.com/bmabey/pyLDAvis/files/ldavis.v1.0.0.js\", function(){\n",
       "                 new LDAvis(\"#\" + \"ldavis_el75049967227689284675892\", ldavis_el75049967227689284675892_data);\n",
       "            })\n",
       "         });\n",
       "}\n",
       "</script>"
      ],
      "text/plain": [
       "PreparedData(topic_coordinates=           Freq  cluster  topics         x         y\n",
       "topic                                               \n",
       "32     6.768112        1       1 -0.337604 -0.029079\n",
       "8      3.644227        1       2 -0.115282  0.039482\n",
       "31     2.880574        1       3 -0.175975  0.142945\n",
       "2      2.867603        1       4 -0.041059 -0.127698\n",
       "15     2.817975        1       5 -0.152960  0.095758\n",
       "45     2.755193        1       6 -0.033862  0.083199\n",
       "23     2.742889        1       7 -0.008253  0.115054\n",
       "7      2.716279        1       8  0.017060 -0.125772\n",
       "4      2.704964        1       9 -0.073038  0.143231\n",
       "28     2.462391        1      10 -0.120974  0.065120\n",
       "5      2.190382        1      11 -0.087524 -0.006118\n",
       "36     2.162945        1      12 -0.056326  0.004210\n",
       "34     2.145757        1      13  0.063297  0.027747\n",
       "26     2.138174        1      14  0.084069  0.062511\n",
       "20     2.062783        1      15 -0.145715 -0.053768\n",
       "33     2.059090        1      16 -0.064656  0.068252\n",
       "24     2.054210        1      17 -0.005239  0.017788\n",
       "27     1.992597        1      18 -0.026783 -0.053135\n",
       "35     1.986679        1      19  0.070862 -0.161900\n",
       "25     1.953115        1      20  0.004011  0.120197\n",
       "12     1.931590        1      21 -0.207607 -0.205961\n",
       "49     1.931372        1      22  0.011822  0.066466\n",
       "21     1.818404        1      23 -0.052811  0.008738\n",
       "11     1.801815        1      24  0.069504  0.088266\n",
       "19     1.799733        1      25  0.083803  0.028831\n",
       "18     1.794605        1      26  0.052466 -0.039124\n",
       "0      1.794565        1      27 -0.091524 -0.231400\n",
       "43     1.787098        1      28  0.075663  0.022979\n",
       "10     1.772798        1      29  0.101703 -0.044379\n",
       "13     1.735775        1      30  0.087743 -0.138706\n",
       "38     1.715764        1      31  0.094434 -0.096547\n",
       "22     1.704895        1      32  0.046822 -0.075828\n",
       "46     1.691235        1      33 -0.120114 -0.015485\n",
       "3      1.634351        1      34  0.016249  0.036179\n",
       "40     1.630743        1      35  0.087693 -0.074468\n",
       "39     1.625375        1      36  0.060966  0.007420\n",
       "41     1.541876        1      37  0.094513 -0.018936\n",
       "30     1.524254        1      38 -0.012839  0.018973\n",
       "14     1.506932        1      39  0.074500  0.006844\n",
       "37     1.449793        1      40  0.064691  0.127973\n",
       "6      1.400508        1      41  0.074363 -0.027637\n",
       "48     1.383375        1      42  0.080479  0.019366\n",
       "16     1.305380        1      43  0.075113  0.059237\n",
       "42     1.294287        1      44  0.053307  0.096464\n",
       "1      1.275850        1      45  0.070215 -0.016080\n",
       "44     1.256024        1      46  0.053949 -0.061166\n",
       "9      1.240858        1      47  0.083004  0.050548\n",
       "29     1.200247        1      48  0.043933  0.083119\n",
       "17     1.173085        1      49  0.095552 -0.040812\n",
       "47     1.171473        1      50  0.038361 -0.062898, topic_info=      Category         Freq             Term  Total  loglift  logprob\n",
       "8169   Default  5271.000000              let   5271  30.0000  30.0000\n",
       "27790  Default  5192.000000             know   5192  29.0000  29.0000\n",
       "8766   Default  8128.000000               dm   8128  28.0000  28.0000\n",
       "16830  Default  4521.000000             look   4521  27.0000  27.0000\n",
       "17320  Default  4209.000000             well   4209  26.0000  26.0000\n",
       "26527  Default  3876.000000            check   3876  25.0000  25.0000\n",
       "22807  Default  2777.000000            youre   2777  24.0000  24.0000\n",
       "21274  Default  3687.000000             time   3687  23.0000  23.0000\n",
       "7861   Default  4001.000000           number   4001  22.0000  22.0000\n",
       "24917  Default  2914.000000            thank   2914  21.0000  21.0000\n",
       "16694  Default  2531.000000            issue   2531  20.0000  20.0000\n",
       "7446   Default  3373.000000             take   3373  19.0000  19.0000\n",
       "7279   Default  2616.000000             team   2616  18.0000  18.0000\n",
       "25481  Default  9713.000000           please   9713  17.0000  17.0000\n",
       "8375   Default  3390.000000            email   3390  16.0000  16.0000\n",
       "12524  Default  3543.000000             hear   3543  15.0000  15.0000\n",
       "24061  Default  2591.000000             need   2591  14.0000  14.0000\n",
       "7222   Default  3736.000000            happy   3736  13.0000  13.0000\n",
       "8528   Default  2505.000000         delivery   2505  12.0000  12.0000\n",
       "18763  Default  2097.000000          account   2097  11.0000  11.0000\n",
       "26197  Default  3430.000000            phone   3430  10.0000  10.0000\n",
       "156    Default  2231.000000          service   2231   9.0000   9.0000\n",
       "14289  Default  1826.000000          support   1826   8.0000   8.0000\n",
       "457    Default  3054.000000          address   3054   7.0000   7.0000\n",
       "10379  Default  1672.000000              new   1672   6.0000   6.0000\n",
       "25812  Default  2365.000000              day   2365   5.0000   5.0000\n",
       "5089   Default  2440.000000           detail   2440   4.0000   4.0000\n",
       "3437   Default  6315.000000            sorry   6315   3.0000   3.0000\n",
       "8118   Default  1780.000000            hello   1780   2.0000   2.0000\n",
       "707    Default  2445.000000         tracking   2445   1.0000   1.0000\n",
       "...        ...          ...              ...    ...      ...      ...\n",
       "22016  Topic50   172.116668        scheduled    173   4.4903  -3.6975\n",
       "5973   Topic50    27.337385              sur     28   4.7590  -5.2499\n",
       "10836  Topic50    34.299950             thru     35   4.7078  -5.0779\n",
       "26928  Topic50    56.230375         followed     57   4.6196  -4.6784\n",
       "8399   Topic50    24.333574               cd     25   4.7502  -5.3720\n",
       "7260   Topic50     9.441702              vez     10   4.8968  -6.1417\n",
       "8508   Topic50    27.305258           sister     28   4.7104  -5.2984\n",
       "20637  Topic50    47.222308         watching     48   4.6065  -4.8634\n",
       "22248  Topic50    20.342208         carrying     21   4.7584  -5.5381\n",
       "24332  Topic50   309.867893            andre    311   4.2436  -3.3576\n",
       "8972   Topic50     3.708930          cheated      5   5.0177  -6.7139\n",
       "13889  Topic50   147.004892       contacting    148   4.3695  -3.9743\n",
       "18391  Topic50    12.396912             hart     13   4.8295  -5.9466\n",
       "18477  Topic50    44.212981          unhappy     45   4.5932  -4.9412\n",
       "19160  Topic50    67.119033            forum     68   4.4851  -4.6365\n",
       "15996  Topic50   160.870071            photo    162   4.2424  -4.0110\n",
       "10750  Topic50   148.053080           delete    194   4.1512  -3.9220\n",
       "10407  Topic50   281.629332        recommend    283   4.0514  -3.6442\n",
       "12901  Topic50    61.081769         changing     62   4.4417  -4.7722\n",
       "14257  Topic50    70.077481       re-install     76   4.3542  -4.6561\n",
       "3055   Topic50    59.058041           manage     60   4.4153  -4.8314\n",
       "3936   Topic50   229.763295           making    376   3.7982  -3.6133\n",
       "1902   Topic50   101.797122             john    103   4.1749  -4.5314\n",
       "16006  Topic50   151.531017            board    153   3.9771  -4.3335\n",
       "23025  Topic50    35.108866          holding     36   4.4616  -5.2960\n",
       "9095   Topic50    72.702238           indeed     74   4.0930  -4.9440\n",
       "16343  Topic50    69.523174        celebrate     71   3.9604  -5.1179\n",
       "25481  Topic50    70.862108           please   9713  -0.5397  -4.6996\n",
       "22118  Topic50    78.447287  troubleshooting    132   3.2836  -5.1746\n",
       "2071   Topic50    43.839974           thanks   5902  -0.4814  -5.1394\n",
       "\n",
       "[4038 rows x 6 columns], token_table=       Topic      Freq              Term\n",
       "term                                    \n",
       "6110      20  0.978261                 \"\n",
       "4393      22  1.000000        \"agressive\n",
       "16158     37  1.000000         \"arriving\n",
       "12649      5  1.000000    \"authenticate\"\n",
       "7537      38  1.000000  \"authentication\"\n",
       "18059     14  1.000000        \"billions\"\n",
       "27616     35  1.000000          \"bingen\"\n",
       "15768     42  1.000000             \"bulk\n",
       "5387       9  1.000000         \"business\n",
       "24104     45  1.000000          \"cancel\"\n",
       "22485     17  1.000000            \"child\n",
       "1248      47  1.000000           \"cookie\n",
       "12342     18  1.000000          \"cookies\n",
       "7054      14  1.000000    \"deceleration\"\n",
       "19631      1  1.000000        \"delivered\n",
       "11214     43  1.000000       \"delivered\"\n",
       "26073     21  1.000000         \"delivers\n",
       "26076      9  1.000000         \"delivery\n",
       "151        5  1.000000       \"dispatched\n",
       "10533     34  1.000000              \"due\n",
       "9009      41  1.000000           \"dumped\n",
       "14070     28  1.000000            \"final\n",
       "23219     33  1.000000       \"fulfilled\"\n",
       "674       21  1.000000       \"guarantee\"\n",
       "16929     21  1.000000      \"guaranteed\"\n",
       "5431      34  1.000000            \"hack\"\n",
       "9557      18  1.000000             \"haha\n",
       "18016     50  1.000000            \"hello\n",
       "24225     27  1.000000             \"here\n",
       "24694     26  1.000000             \"http\n",
       "...      ...       ...               ...\n",
       "23360     16  0.002786              youd\n",
       "22448      3  0.991055             youll\n",
       "22448      5  0.001789             youll\n",
       "22448     36  0.005367             youll\n",
       "17262     27  0.983607         youplease\n",
       "22807     31  0.999280             youre\n",
       "22807     38  0.000360             youre\n",
       "7748      27  1.000000         yourself\"\n",
       "16677     25  0.975610                yr\n",
       "10883     29  1.000000        yupnoticed\n",
       "2035      21  1.000000            zahoor\n",
       "5130      14  1.000000             zappe\n",
       "15890     11  1.000000            zaroor\n",
       "4298      13  0.965517              zero\n",
       "14814     40  1.000000              zoey\n",
       "27047     46  1.000000              zona\n",
       "8991      27  0.976744              zone\n",
       "19464      4  0.996124              zoom\n",
       "17023     35  0.952381                zu\n",
       "18060     35  1.000000           zunehme\n",
       "812       35  1.000000             zurck\n",
       "26439     35  1.000000     zurckverfolge\n",
       "20419      7  1.000000    zuversichtlich\n",
       "21641     43  1.000000               zwa\n",
       "6561      27  1.000000               zxv\n",
       "3125       8  0.138996                 |\n",
       "3125      18  0.196911                 |\n",
       "3125      47  0.660232                 |\n",
       "2161       2  0.857143                 }\n",
       "2161      48  0.142857                 }\n",
       "\n",
       "[5189 rows x 3 columns], R=30, lambda_step=0.01, plot_opts={'xlab': 'PC1', 'ylab': 'PC2'}, topic_order=[33, 9, 32, 3, 16, 46, 24, 8, 5, 29, 6, 37, 35, 27, 21, 34, 25, 28, 36, 26, 13, 50, 22, 12, 20, 19, 1, 44, 11, 14, 39, 23, 47, 4, 41, 40, 42, 31, 15, 38, 7, 49, 17, 43, 2, 45, 10, 30, 18, 48])"
      ]
     },
     "execution_count": 80,
     "metadata": {},
     "output_type": "execute_result"
    }
   ],
   "source": [
    "# turn on automatic rendering of visualizations\n",
    "pyLDAvis.enable_notebook()\n",
    "\n",
    "pyLDAvis.gensim.prepare(lda, corpus, dictionary)"
   ]
  },
  {
   "cell_type": "code",
   "execution_count": null,
   "metadata": {
    "collapsed": true
   },
   "outputs": [],
   "source": []
  },
  {
   "cell_type": "code",
   "execution_count": null,
   "metadata": {
    "collapsed": true
   },
   "outputs": [],
   "source": []
  },
  {
   "cell_type": "markdown",
   "metadata": {},
   "source": [
    "# Try to implement bigrams into analysis"
   ]
  },
  {
   "cell_type": "code",
   "execution_count": 122,
   "metadata": {
    "collapsed": false
   },
   "outputs": [],
   "source": [
    "from gensim.models.phrases import Phrases\n",
    "from gensim import similarities"
   ]
  },
  {
   "cell_type": "code",
   "execution_count": 88,
   "metadata": {
    "collapsed": true
   },
   "outputs": [],
   "source": [
    "def getBigram(myTweetlist):\n",
    "    bigram = Phrases(tweetList)\n",
    "    return [bigram[tweet] for tweet in myTweetlist]"
   ]
  },
  {
   "cell_type": "code",
   "execution_count": 98,
   "metadata": {
    "collapsed": false
   },
   "outputs": [],
   "source": [
    "cleanTweets = filterTweetList(tweets['message'])\n",
    "bigramTweetList = getBigram(cleanTweets)"
   ]
  },
  {
   "cell_type": "code",
   "execution_count": 113,
   "metadata": {
    "collapsed": false
   },
   "outputs": [
    {
     "name": "stderr",
     "output_type": "stream",
     "text": [
      "WARNING:gensim.models.ldamodel:no word id mapping provided; initializing from corpus, assuming identity\n"
     ]
    }
   ],
   "source": [
    "bigramDict = makeDict(bigramTweetList)\n",
    "bigramCorpus = makeCorpus(bigramTweetList)\n",
    "\n",
    "#bigramDict = bigramDict.compactify()\n",
    "bigramLda = createLDA(myCorpus = bigramCorpus, myDictionary = bigramDict)\n",
    "#dictionary.\n",
    "\n",
    "createLDA()"
   ]
  },
  {
   "cell_type": "code",
   "execution_count": 116,
   "metadata": {
    "collapsed": false
   },
   "outputs": [],
   "source": [
    "bigramDict = makeDict(bigramTweetList)\n",
    "bigramLda = createLDA(myCorpus = bigramCorpus, myDictionary = bigramDict)"
   ]
  },
  {
   "cell_type": "code",
   "execution_count": 112,
   "metadata": {
    "collapsed": false
   },
   "outputs": [],
   "source": [
    "#bigramDict = bigramDict.compactify()"
   ]
  },
  {
   "cell_type": "code",
   "execution_count": 117,
   "metadata": {
    "collapsed": false
   },
   "outputs": [
    {
     "ename": "IndexError",
     "evalue": "index 30536 is out of bounds for axis 1 with size 27881",
     "output_type": "error",
     "traceback": [
      "\u001b[0;31m---------------------------------------------------------------------------\u001b[0m",
      "\u001b[0;31mIndexError\u001b[0m                                Traceback (most recent call last)",
      "\u001b[0;32m<ipython-input-117-76fcb22bc144>\u001b[0m in \u001b[0;36m<module>\u001b[0;34m()\u001b[0m\n\u001b[0;32m----> 1\u001b[0;31m \u001b[0mpyLDAvis\u001b[0m\u001b[0;34m.\u001b[0m\u001b[0mgensim\u001b[0m\u001b[0;34m.\u001b[0m\u001b[0mprepare\u001b[0m\u001b[0;34m(\u001b[0m\u001b[0mbigramLda\u001b[0m\u001b[0;34m,\u001b[0m \u001b[0mbigramCorpus\u001b[0m\u001b[0;34m,\u001b[0m \u001b[0mbigramDict\u001b[0m\u001b[0;34m)\u001b[0m\u001b[0;34m\u001b[0m\u001b[0m\n\u001b[0m",
      "\u001b[0;32m/Users/Peter/anaconda/lib/python2.7/site-packages/pyLDAvis/gensim.pyc\u001b[0m in \u001b[0;36mprepare\u001b[0;34m(topic_model, corpus, dictionary, doc_topic_dist, **kwargs)\u001b[0m\n\u001b[1;32m     95\u001b[0m     \u001b[0mSee\u001b[0m \u001b[0;34m`\u001b[0m\u001b[0mpyLDAvis\u001b[0m\u001b[0;34m.\u001b[0m\u001b[0mprepare\u001b[0m\u001b[0;34m`\u001b[0m \u001b[0;32mfor\u001b[0m \u001b[0;34m**\u001b[0m\u001b[0mkwargs\u001b[0m\u001b[0;34m.\u001b[0m\u001b[0;34m\u001b[0m\u001b[0m\n\u001b[1;32m     96\u001b[0m     \"\"\"\n\u001b[0;32m---> 97\u001b[0;31m     \u001b[0mopts\u001b[0m \u001b[0;34m=\u001b[0m \u001b[0mfp\u001b[0m\u001b[0;34m.\u001b[0m\u001b[0mmerge\u001b[0m\u001b[0;34m(\u001b[0m\u001b[0m_extract_data\u001b[0m\u001b[0;34m(\u001b[0m\u001b[0mtopic_model\u001b[0m\u001b[0;34m,\u001b[0m \u001b[0mcorpus\u001b[0m\u001b[0;34m,\u001b[0m \u001b[0mdictionary\u001b[0m\u001b[0;34m,\u001b[0m \u001b[0mdoc_topic_dist\u001b[0m\u001b[0;34m)\u001b[0m\u001b[0;34m,\u001b[0m \u001b[0mkwargs\u001b[0m\u001b[0;34m)\u001b[0m\u001b[0;34m\u001b[0m\u001b[0m\n\u001b[0m\u001b[1;32m     98\u001b[0m     \u001b[0;32mreturn\u001b[0m \u001b[0mvis_prepare\u001b[0m\u001b[0;34m(\u001b[0m\u001b[0;34m**\u001b[0m\u001b[0mopts\u001b[0m\u001b[0;34m)\u001b[0m\u001b[0;34m\u001b[0m\u001b[0m\n",
      "\u001b[0;32m/Users/Peter/anaconda/lib/python2.7/site-packages/pyLDAvis/gensim.pyc\u001b[0m in \u001b[0;36m_extract_data\u001b[0;34m(topic_model, corpus, dictionary, doc_topic_dists)\u001b[0m\n\u001b[1;32m     26\u001b[0m    \u001b[0mbeta\u001b[0m \u001b[0;34m=\u001b[0m \u001b[0;36m0.01\u001b[0m\u001b[0;34m\u001b[0m\u001b[0m\n\u001b[1;32m     27\u001b[0m    \u001b[0mfnames_argsort\u001b[0m \u001b[0;34m=\u001b[0m \u001b[0mnp\u001b[0m\u001b[0;34m.\u001b[0m\u001b[0masarray\u001b[0m\u001b[0;34m(\u001b[0m\u001b[0mlist\u001b[0m\u001b[0;34m(\u001b[0m\u001b[0mdictionary\u001b[0m\u001b[0;34m.\u001b[0m\u001b[0mtoken2id\u001b[0m\u001b[0;34m.\u001b[0m\u001b[0mvalues\u001b[0m\u001b[0;34m(\u001b[0m\u001b[0;34m)\u001b[0m\u001b[0;34m)\u001b[0m\u001b[0;34m,\u001b[0m \u001b[0mdtype\u001b[0m\u001b[0;34m=\u001b[0m\u001b[0mnp\u001b[0m\u001b[0;34m.\u001b[0m\u001b[0mint_\u001b[0m\u001b[0;34m)\u001b[0m\u001b[0;34m\u001b[0m\u001b[0m\n\u001b[0;32m---> 28\u001b[0;31m    \u001b[0mterm_freqs\u001b[0m \u001b[0;34m=\u001b[0m \u001b[0mcorpus_csc\u001b[0m\u001b[0;34m.\u001b[0m\u001b[0msum\u001b[0m\u001b[0;34m(\u001b[0m\u001b[0maxis\u001b[0m\u001b[0;34m=\u001b[0m\u001b[0;36m1\u001b[0m\u001b[0;34m)\u001b[0m\u001b[0;34m.\u001b[0m\u001b[0mA\u001b[0m\u001b[0;34m.\u001b[0m\u001b[0mravel\u001b[0m\u001b[0;34m(\u001b[0m\u001b[0;34m)\u001b[0m\u001b[0;34m[\u001b[0m\u001b[0mfnames_argsort\u001b[0m\u001b[0;34m]\u001b[0m\u001b[0;34m\u001b[0m\u001b[0m\n\u001b[0m\u001b[1;32m     29\u001b[0m    \u001b[0mterm_freqs\u001b[0m\u001b[0;34m[\u001b[0m\u001b[0mterm_freqs\u001b[0m \u001b[0;34m==\u001b[0m \u001b[0;36m0\u001b[0m\u001b[0;34m]\u001b[0m \u001b[0;34m=\u001b[0m \u001b[0mbeta\u001b[0m\u001b[0;34m\u001b[0m\u001b[0m\n\u001b[1;32m     30\u001b[0m    \u001b[0mdoc_lengths\u001b[0m \u001b[0;34m=\u001b[0m \u001b[0mcorpus_csc\u001b[0m\u001b[0;34m.\u001b[0m\u001b[0msum\u001b[0m\u001b[0;34m(\u001b[0m\u001b[0maxis\u001b[0m\u001b[0;34m=\u001b[0m\u001b[0;36m0\u001b[0m\u001b[0;34m)\u001b[0m\u001b[0;34m.\u001b[0m\u001b[0mA\u001b[0m\u001b[0;34m.\u001b[0m\u001b[0mravel\u001b[0m\u001b[0;34m(\u001b[0m\u001b[0;34m)\u001b[0m\u001b[0;34m\u001b[0m\u001b[0m\n",
      "\u001b[0;31mIndexError\u001b[0m: index 30536 is out of bounds for axis 1 with size 27881"
     ]
    }
   ],
   "source": [
    "pyLDAvis.gensim.prepare(bigramLda, bigramCorpus, bigramDict)"
   ]
  },
  {
   "cell_type": "code",
   "execution_count": 136,
   "metadata": {
    "collapsed": false
   },
   "outputs": [],
   "source": [
    "prepText(myDoc.split()[1])"
   ]
  },
  {
   "cell_type": "code",
   "execution_count": 140,
   "metadata": {
    "collapsed": false
   },
   "outputs": [
    {
     "name": "stdout",
     "output_type": "stream",
     "text": [
      "need continue struggle help dm info switching omv\n",
      "[(4, 0.69812414963697056), (9, 0.13182593626715752), (31, 0.16421140477910215)]\n"
     ]
    }
   ],
   "source": [
    "#Trial tweet for validation\n",
    "\n",
    "myDoc = '@saracozart No need to continue the struggle. Were here and we can help. DM us for info about switching. http://spr.ly/6017BkrjL* OMV'\n",
    "myDoc = ' '.join([prepText(word) for word in myDoc.split() if prepText(word) is not None])\n",
    "print myDoc                \n",
    "myVec_bow = dictionary.doc2bow(myDoc.lower().split())\n",
    "#myVec_bow = dictionary.doc2bow(myDoc.lower().split())\n",
    "myVec_lda = lda[myVec_bow]\n",
    "print(myVec_lda)"
   ]
  },
  {
   "cell_type": "code",
   "execution_count": 127,
   "metadata": {
    "collapsed": false
   },
   "outputs": [
    {
     "name": "stderr",
     "output_type": "stream",
     "text": [
      "WARNING:gensim.similarities.docsim:scanning corpus to determine the number of features (consider setting `num_features` explicitly)\n"
     ]
    }
   ],
   "source": [
    "# Build index in order to query the model\n",
    "\n",
    "myIndex = similarities.MatrixSimilarity(lda[corpus]) # transform corpus to LSI space and index it\n",
    "#corpus"
   ]
  },
  {
   "cell_type": "code",
   "execution_count": 209,
   "metadata": {
    "collapsed": false
   },
   "outputs": [],
   "source": [
    ">>> sims = myIndex[myVec_lda] # perform a similarity query against the corpus\n",
    "#>>> print(list(enumerate(sims))) # print (document_number, document_similarity) 2-tuples"
   ]
  },
  {
   "cell_type": "code",
   "execution_count": 210,
   "metadata": {
    "collapsed": false
   },
   "outputs": [],
   "source": [
    ">>> sims = sorted(enumerate(sims), key=lambda item: -item[1])\n",
    "#>>> print(sims) # print sorted (document number, similarity score) 2-tuples"
   ]
  },
  {
   "cell_type": "code",
   "execution_count": 168,
   "metadata": {
    "collapsed": false
   },
   "outputs": [],
   "source": [
    "# Find the best 300 tweet matches\n",
    "matchIdx = [i[0] for i in sims[1:300]]\n"
   ]
  },
  {
   "cell_type": "code",
   "execution_count": 175,
   "metadata": {
    "collapsed": false
   },
   "outputs": [],
   "source": [
    "topHandlers = list(tweets.iloc[matchIdx]['fromHandler'])"
   ]
  },
  {
   "cell_type": "code",
   "execution_count": 204,
   "metadata": {
    "collapsed": false
   },
   "outputs": [
    {
     "data": {
      "image/png": "[encoded data removed]",
      "text/plain": [
       "<matplotlib.figure.Figure at 0x1456e0610>"
      ]
     },
     "metadata": {},
     "output_type": "display_data"
    }
   ],
   "source": [
    "from collections import Counter\n",
    "\n",
    "topHandlerCounts = Counter(topHandlers)\n",
    "sortedHandlers = sorted(topHandlerCounts.items(), key=lambda x: x[1],reverse=True)[0:5]\n",
    "\n",
    "handlerNames = [handler[0] for handler in sortedHandlers]\n",
    "handlerCounts = [handler[1] for handler in sortedHandlers]\n",
    "\n",
    "indexes = np.arange(len(handlerNames))\n",
    "width = 0.7\n",
    "plt.bar(indexes, handlerCounts, width)\n",
    "plt.xticks(indexes + width * 0.5, handlerNames)\n",
    "plt.ylabel('Frequency',fontsize=16)\n",
    "\n",
    "# Plot histogram using matplotlib bar().\n",
    "#indexes = np.arange(len(author_names))\n",
    "#width = 0.7\n",
    "#plt.bar(indexes, author_counts, width)\n",
    "#plt.xticks(indexes + width * 0.5, author_names)\n",
    "plt.show()\n",
    "#"
   ]
  },
  {
   "cell_type": "code",
   "execution_count": null,
   "metadata": {
    "collapsed": true
   },
   "outputs": [],
   "source": [
    "myDoc = '@saracozart No need to continue the struggle. Were here and we can help. DM us for info about switching. http://spr.ly/6017BkrjL* OMV'\n",
    "\n",
    ">>> doc = \"Human computer interaction\"\n",
    ">>> vec_bow = dictionary.doc2bow(doc.lower().split())\n",
    ">>> vec_lsi = lsi[vec_bow] # convert the query to LSI space\n",
    ">>> print(vec_lsi)"
   ]
  },
  {
   "cell_type": "code",
   "execution_count": null,
   "metadata": {
    "collapsed": true
   },
   "outputs": [],
   "source": [
    ">>> index = similarities.MatrixSimilarity(lsi[corpus]) # transform corpus to LSI space and index it"
   ]
  },
  {
   "cell_type": "code",
   "execution_count": null,
   "metadata": {
    "collapsed": true
   },
   "outputs": [],
   "source": [
    ">>> sims = index[vec_lsi] # perform a similarity query against the corpus\n",
    ">>> print(list(enumerate(sims))) # print (document_number, document_similarity) 2-tuples"
   ]
  },
  {
   "cell_type": "code",
   "execution_count": null,
   "metadata": {
    "collapsed": true
   },
   "outputs": [],
   "source": [
    ">>> sims = sorted(enumerate(sims), key=lambda item: -item[1])\n",
    ">>> print(sims) # print sorted (document number, similarity score) 2-tuples"
   ]
  },
  {
   "cell_type": "code",
   "execution_count": 149,
   "metadata": {
    "collapsed": false
   },
   "outputs": [
    {
     "data": {
      "text/plain": [
       "'@blurdotnet No need to continue the struggle. Were here and we can help. DM us for info about switching. https://t.co/ELdSJM2Cq7\\n*OMV'"
      ]
     },
     "execution_count": 149,
     "metadata": {},
     "output_type": "execute_result"
    }
   ],
   "source": [
    "tweets.iloc[35536]['message']"
   ]
  },
  {
   "cell_type": "code",
   "execution_count": 244,
   "metadata": {
    "collapsed": false
   },
   "outputs": [],
   "source": [
    "bigram = Phrases(tweetList)"
   ]
  },
  {
   "cell_type": "code",
   "execution_count": 246,
   "metadata": {
    "collapsed": false
   },
   "outputs": [
    {
     "ename": "TypeError",
     "evalue": "'int' object is not iterable",
     "output_type": "error",
     "traceback": [
      "\u001b[0;31m---------------------------------------------------------------------------\u001b[0m",
      "\u001b[0;31mTypeError\u001b[0m                                 Traceback (most recent call last)",
      "\u001b[0;32m<ipython-input-246-895d174b815f>\u001b[0m in \u001b[0;36m<module>\u001b[0;34m()\u001b[0m\n\u001b[1;32m      7\u001b[0m \u001b[0;31m#testDict = Phrases(tweetList[152:153])\u001b[0m\u001b[0;34m\u001b[0m\u001b[0;34m\u001b[0m\u001b[0m\n\u001b[1;32m      8\u001b[0m \u001b[0;34m\u001b[0m\u001b[0m\n\u001b[0;32m----> 9\u001b[0;31m \u001b[0mtestDict\u001b[0m \u001b[0;34m=\u001b[0m  \u001b[0mcorpora\u001b[0m\u001b[0;34m.\u001b[0m\u001b[0mDictionary\u001b[0m\u001b[0;34m(\u001b[0m\u001b[0mtestDict\u001b[0m\u001b[0;34m)\u001b[0m\u001b[0;34m\u001b[0m\u001b[0m\n\u001b[0m\u001b[1;32m     10\u001b[0m \u001b[0;31m#print bigram[tweetList[152:153]]\u001b[0m\u001b[0;34m\u001b[0m\u001b[0;34m\u001b[0m\u001b[0m\n\u001b[1;32m     11\u001b[0m \u001b[0;32mprint\u001b[0m \u001b[0mtest\u001b[0m\u001b[0;34m.\u001b[0m\u001b[0mcorpus\u001b[0m\u001b[0;34m\u001b[0m\u001b[0m\n",
      "\u001b[0;32m/Users/Peter/anaconda/lib/python2.7/site-packages/gensim/corpora/dictionary.pyc\u001b[0m in \u001b[0;36m__init__\u001b[0;34m(self, documents, prune_at)\u001b[0m\n\u001b[1;32m     56\u001b[0m \u001b[0;34m\u001b[0m\u001b[0m\n\u001b[1;32m     57\u001b[0m         \u001b[0;32mif\u001b[0m \u001b[0mdocuments\u001b[0m \u001b[0;32mis\u001b[0m \u001b[0;32mnot\u001b[0m \u001b[0mNone\u001b[0m\u001b[0;34m:\u001b[0m\u001b[0;34m\u001b[0m\u001b[0m\n\u001b[0;32m---> 58\u001b[0;31m             \u001b[0mself\u001b[0m\u001b[0;34m.\u001b[0m\u001b[0madd_documents\u001b[0m\u001b[0;34m(\u001b[0m\u001b[0mdocuments\u001b[0m\u001b[0;34m,\u001b[0m \u001b[0mprune_at\u001b[0m\u001b[0;34m=\u001b[0m\u001b[0mprune_at\u001b[0m\u001b[0;34m)\u001b[0m\u001b[0;34m\u001b[0m\u001b[0m\n\u001b[0m\u001b[1;32m     59\u001b[0m \u001b[0;34m\u001b[0m\u001b[0m\n\u001b[1;32m     60\u001b[0m \u001b[0;34m\u001b[0m\u001b[0m\n",
      "\u001b[0;32m/Users/Peter/anaconda/lib/python2.7/site-packages/gensim/corpora/dictionary.pyc\u001b[0m in \u001b[0;36madd_documents\u001b[0;34m(self, documents, prune_at)\u001b[0m\n\u001b[1;32m    125\u001b[0m \u001b[0;34m\u001b[0m\u001b[0m\n\u001b[1;32m    126\u001b[0m             \u001b[0;31m# update Dictionary with the document\u001b[0m\u001b[0;34m\u001b[0m\u001b[0;34m\u001b[0m\u001b[0m\n\u001b[0;32m--> 127\u001b[0;31m             \u001b[0mself\u001b[0m\u001b[0;34m.\u001b[0m\u001b[0mdoc2bow\u001b[0m\u001b[0;34m(\u001b[0m\u001b[0mdocument\u001b[0m\u001b[0;34m,\u001b[0m \u001b[0mallow_update\u001b[0m\u001b[0;34m=\u001b[0m\u001b[0mTrue\u001b[0m\u001b[0;34m)\u001b[0m \u001b[0;31m# ignore the result, here we only care about updating token ids\u001b[0m\u001b[0;34m\u001b[0m\u001b[0m\n\u001b[0m\u001b[1;32m    128\u001b[0m \u001b[0;34m\u001b[0m\u001b[0m\n\u001b[1;32m    129\u001b[0m         logger.info(\"built %s from %i documents (total %i corpus positions)\",\n",
      "\u001b[0;32m/Users/Peter/anaconda/lib/python2.7/site-packages/gensim/corpora/dictionary.pyc\u001b[0m in \u001b[0;36mdoc2bow\u001b[0;34m(self, document, allow_update, return_missing)\u001b[0m\n\u001b[1;32m    151\u001b[0m         \u001b[0;31m# Construct (word, frequency) mapping.\u001b[0m\u001b[0;34m\u001b[0m\u001b[0;34m\u001b[0m\u001b[0m\n\u001b[1;32m    152\u001b[0m         \u001b[0mcounter\u001b[0m \u001b[0;34m=\u001b[0m \u001b[0mdefaultdict\u001b[0m\u001b[0;34m(\u001b[0m\u001b[0mint\u001b[0m\u001b[0;34m)\u001b[0m\u001b[0;34m\u001b[0m\u001b[0m\n\u001b[0;32m--> 153\u001b[0;31m         \u001b[0;32mfor\u001b[0m \u001b[0mw\u001b[0m \u001b[0;32min\u001b[0m \u001b[0mdocument\u001b[0m\u001b[0;34m:\u001b[0m\u001b[0;34m\u001b[0m\u001b[0m\n\u001b[0m\u001b[1;32m    154\u001b[0m             \u001b[0mcounter\u001b[0m\u001b[0;34m[\u001b[0m\u001b[0mw\u001b[0m \u001b[0;32mif\u001b[0m \u001b[0misinstance\u001b[0m\u001b[0;34m(\u001b[0m\u001b[0mw\u001b[0m\u001b[0;34m,\u001b[0m \u001b[0municode\u001b[0m\u001b[0;34m)\u001b[0m \u001b[0;32melse\u001b[0m \u001b[0municode\u001b[0m\u001b[0;34m(\u001b[0m\u001b[0mw\u001b[0m\u001b[0;34m,\u001b[0m \u001b[0;34m'utf-8'\u001b[0m\u001b[0;34m)\u001b[0m\u001b[0;34m]\u001b[0m \u001b[0;34m+=\u001b[0m \u001b[0;36m1\u001b[0m\u001b[0;34m\u001b[0m\u001b[0m\n\u001b[1;32m    155\u001b[0m \u001b[0;34m\u001b[0m\u001b[0m\n",
      "\u001b[0;31mTypeError\u001b[0m: 'int' object is not iterable"
     ]
    }
   ],
   "source": [
    "#from gensim.models import Phrases\n",
    "\n",
    "\n",
    "#print bigram[tweetList[152:153]]\n",
    "\n",
    "test     = bigram[tweetList[152:153]]\n",
    "#testDict = Phrases(tweetList[152:153])\n",
    "\n",
    "testDict =  corpora.Dictionary(testDict)\n",
    "#print bigram[tweetList[152:153]]\n",
    "print test.corpus\n",
    "#phraseTest = Phrases(tweetList[152:153])\n"
   ]
  },
  {
   "cell_type": "code",
   "execution_count": 221,
   "metadata": {
    "collapsed": false
   },
   "outputs": [
    {
     "name": "stdout",
     "output_type": "stream",
     "text": [
      "[u'wed', u'give', u'week', u'ship', u'super', u'sorry_delay', u'email', u'need', u'detail']\n",
      "[u'awesome', u'thanks', u'enjoy']\n",
      "[u'yep', u'many', u'awesome', u'also', u'make', u'slow', u'awesome']\n",
      "[u'weve', u'already', u'started', u'packaging', u'order_placed', u'probably', u'wont', u'arrive', u'later', u'next_week']\n",
      "[u'well', u'dm', u'bit', u'checking', u'order', u'right']\n",
      "[u'well', u'check', u'whats', u'order_#']\n",
      "[u'theyre', u'already', u'going', u'butt-ton', u'thats', u'slow']\n",
      "[u'ready', u'rock_fuck']\n",
      "[u'either', u'one', u'work']\n",
      "[u'friend', u'bubble', u'tea', u'friend']\n",
      "[]\n",
      "[u'prob', u'starting', u'catch', u'dec_order', u'going', u'take', u'week', u'ship', u'sorry']\n",
      "[u'going', u'little', u'slow', u'inbox-diving', u'someone', u'get', u'back', u'couple', u'minute']\n",
      "[u'sad', u'say', u'wont', u'make', u'time', u'definitely', u'week', u'school', u'well', u'make_sure']\n",
      "[u'thats', u'correct']\n",
      "[u'totally', u'whats', u'order_#', u'also', u'start', u'school']\n",
      "[u'email', u'order_#', u'well', u'give', u'update', u'within', u'support']\n",
      "[u'oh_man', u'sorry', u'well', u'package', u'new', u'poster', u'seal', u'tube', u'tight', u'possible', u'sending', u'asap']\n",
      "[u'case', u'whats', u'order_#']\n",
      "[u'thats', u'totally', u'fixable', u'whats', u'order_#', u'well', u'email', u'soon']\n",
      "[u'well', u'someone', u'get', u'back', u'within', u'sorry_delay']\n",
      "[u'let_know', u'get', u'contact', u'well', u'see', u'whats']\n",
      "[u'local', u'post_office', u'leave_note', u'pick', u're-delivery', u'leats', u'thats']\n",
      "[u'support']\n",
      "[u'sound_like', u'possible', u'address', u'issue', u'could', u'email', u'detail', u'someone', u'get', u'back', u'today', u'sorry']\n",
      "[u'theyre', u'already', u'sent', u'trying', u'catch', u'dec_order']\n",
      "[u'yup', u'started', u'going', u'week', u'keep', u'shipping', u'early_next', u'week', u'dec_order', u'finally', u'catching']\n",
      "[u'grump-o-lishish', u'bap', u'starbomb', u'swag', u'love', u'burgie', u'made', u'true', u'guy', u'<']\n",
      "[u'see', u'making']\n",
      "[u'love', u'hear', u'awesome', u'thats', u'heard']\n",
      "[u'like_think', u'xmas', u'isnt', u'shirt', u'get', u'way', u'next_week', u'youre', u'good', u'friend']\n",
      "[u'seems', u'shipping', u'error', u'usps', u'checking', u'end', u'last', u'spoke', u'let', u'see', u'tell', u'tomorrow']\n",
      "[u'well', u'someone', u'get', u'back', u'within', u'sorry', u'wait']\n",
      "[u'glad', u'half-assed', u'attempt', u'art', u'appreciated']\n",
      "[u'follow_dm']\n",
      "[u'way', u'next_week']\n",
      "[u'thanks']\n",
      "[u'order_#', u'right']\n",
      "[u'well', u'check', u'usps', u'let', u'see', u'whats', u'package']\n",
      "[u'youre', u'totally', u'right', u'ship', u'shirt', u'worldwide', u'cant', u'ship', u'danny', u'brian', u'working']\n",
      "[u'two', u'still', u'early']\n",
      "[u'hotel', u'fun', u'shirt', u'forever']\n",
      "[u'grump_shirt', u'finally', u'arrived', u'thank', u'guy_rock']\n",
      "[u'well', u'sure', u'ship']\n",
      "[u'yup', u'best', u'option', u'make_sure', u'poster', u'arrive', u'best', u'possible', u'condition', u'sorry']\n",
      "[u'week', u'dec', u'starting', u'ship', u'next_week']\n",
      "[u'sorry_delay', u'feel_free', u'email', u'need', u'detail', u'support']\n",
      "[u'dec_order', u'starting', u'make', u'way', u'week', u'shipping_confirmation', u'get', u'next_week']\n"
     ]
    }
   ],
   "source": [
    "for i in range(152,200):\n",
    "    print bigram[tweetList[i]]"
   ]
  },
  {
   "cell_type": "code",
   "execution_count": null,
   "metadata": {
    "collapsed": true
   },
   "outputs": [],
   "source": []
  },
  {
   "cell_type": "code",
   "execution_count": null,
   "metadata": {
    "collapsed": true
   },
   "outputs": [],
   "source": []
  },
  {
   "cell_type": "code",
   "execution_count": null,
   "metadata": {
    "collapsed": true
   },
   "outputs": [],
   "source": []
  },
  {
   "cell_type": "code",
   "execution_count": 492,
   "metadata": {
    "collapsed": false
   },
   "outputs": [],
   "source": [
    "#lda"
   ]
  },
  {
   "cell_type": "code",
   "execution_count": 430,
   "metadata": {
    "collapsed": false
   },
   "outputs": [],
   "source": [
    "tfidf_lda= models.ldamodel.LdaModel(corpus_tfidf, id2word=dictionary, num_topics=8, passes = 10,\n",
    "    iterations=50)"
   ]
  },
  {
   "cell_type": "code",
   "execution_count": 432,
   "metadata": {
    "collapsed": false
   },
   "outputs": [],
   "source": [
    "topTopicsTfIdf = tfidf_lda.top_topics(corpus_tfidf)"
   ]
  },
  {
   "cell_type": "code",
   "execution_count": 516,
   "metadata": {
    "collapsed": false
   },
   "outputs": [],
   "source": [
    "#topTopicsTfIdf\n",
    "#pyLDAvis.gensim.prepare(tfidf_lda, corpus_tfidf, dictionary)"
   ]
  },
  {
   "cell_type": "code",
   "execution_count": 291,
   "metadata": {
    "collapsed": false
   },
   "outputs": [],
   "source": [
    "frq = nltk.FreqDist(tweetList[3])"
   ]
  },
  {
   "cell_type": "code",
   "execution_count": 301,
   "metadata": {
    "collapsed": false
   },
   "outputs": [
    {
     "data": {
      "text/plain": [
       "['in', 'a', 'delivered', 'Dec.', 'emailed', 'Florida,']"
      ]
     },
     "execution_count": 301,
     "metadata": {},
     "output_type": "execute_result"
    }
   ],
   "source": [
    "polstops = [w[0] for w in frq.most_common(int(0.3*len(frq)))]\n",
    "polstops"
   ]
  },
  {
   "cell_type": "code",
   "execution_count": 307,
   "metadata": {
    "collapsed": false
   },
   "outputs": [
    {
     "data": {
      "text/plain": [
       "[('in', 2),\n",
       " ('a', 1),\n",
       " ('delivered', 1),\n",
       " ('Dec.', 1),\n",
       " ('emailed', 1),\n",
       " ('Florida,', 1)]"
      ]
     },
     "execution_count": 307,
     "metadata": {},
     "output_type": "execute_result"
    }
   ],
   "source": [
    "frq.most_common(int(0.3*len(frq)))"
   ]
  },
  {
   "cell_type": "code",
   "execution_count": 302,
   "metadata": {
    "collapsed": false
   },
   "outputs": [
    {
     "data": {
      "text/plain": [
       "['in', 'a']"
      ]
     },
     "execution_count": 302,
     "metadata": {},
     "output_type": "execute_result"
    }
   ],
   "source": [
    "[w[0] for w in frq.most_common(int(0.1*len(frq)))]"
   ]
  },
  {
   "cell_type": "code",
   "execution_count": 303,
   "metadata": {
    "collapsed": false
   },
   "outputs": [
    {
     "data": {
      "text/plain": [
       "['@LordEstevez',\n",
       " 'found',\n",
       " 'it!',\n",
       " 'It',\n",
       " 'actually',\n",
       " 'shows',\n",
       " 'up',\n",
       " 'as',\n",
       " 'to',\n",
       " 'mailbox',\n",
       " 'back',\n",
       " 'Have',\n",
       " 'you',\n",
       " 'us',\n",
       " 'before?']"
      ]
     },
     "execution_count": 303,
     "metadata": {},
     "output_type": "execute_result"
    }
   ],
   "source": [
    "[word for word in tweetList[3] if word not in polstops]"
   ]
  },
  {
   "cell_type": "code",
   "execution_count": null,
   "metadata": {
    "collapsed": false
   },
   "outputs": [],
   "source": [
    "secTweetList = [[word for word in s if word not in polstops] for s in speeches]    "
   ]
  },
  {
   "cell_type": "code",
   "execution_count": null,
   "metadata": {
    "collapsed": true
   },
   "outputs": [],
   "source": []
  },
  {
   "cell_type": "code",
   "execution_count": 436,
   "metadata": {
    "collapsed": false
   },
   "outputs": [
    {
     "name": "stdout",
     "output_type": "stream",
     "text": [
      "@johaoanchapaxi Hello Johao! You can get info on all job openings at https://t.co/b4CIfugVMw.\n",
      "@zakstaxi ...resetting app preferences. Let me know if either of these steps gets one of the symbols to come off.  JustinS 4/4\n",
      "@zakstaxi ...doesnt work the next thing I recommend doing is going into settings, apps, then click the menu button and try... 3/4\n",
      "@zakstaxi ...Data and then click OK to clear the temporary data. You wont lose any personal information when you do this. If this... 2/4\n",
      "@zakstaxi Lets try doing this first. Can you go into settings, storage, once the next screen finishes calculating click on Cached... 1/4\n",
      "@zakstaxi ...phone is rebooted? JustinS 2/2\n",
      "@zakstaxi You dont happen to have any download booster application do you Zack? Also do the icons both stay at the top when the... 1/2\n",
      "@zakstaxi ...under the LTE symbol ever light up, or do they stay off white the whole time?  JustinS 2/2\n",
      "@zakstaxi Ive been researching this issue for you Zack. Nothing is turning up so far. When both symbols are active, do the arrows... 1/2\n",
      "@zakstaxi ...and find out for you!  JustinS 2/2\n",
      "@zakstaxi Thanks for reaching out Zack. What kind of phone are you seeing both those icons on? Would love to investigate this further... 1/2\n",
      "@_blackmexi That is a solid question and lets take a look! Is this Nome Alaska? Did this start recently? *RickD\n",
      "@VillalobosLexi Hello, this is Curtis. I will be happy to look into this. Please DM your name, delivery address, tracking & phone number.\n",
      "@NikeStoreJapan @nikestore \n",
      "kobe xi elite low ?EP????\n",
      "@nikestore so kobe id went from x 245 to xi 265....265!!!!!!!!!!!!!!!!!!  wtf..wtffff....i will just went only for multicolor then..\n",
      "@TMobileHelp having issues with one touch pixi 7 tablet..didnt recognize password did a hard reset now it wont allow me to search goo play\n",
      "@AmazonHelp expédié par Amazon, vendu par tinxi shop.. jaimerais juste avoir un écran en bon état..\n"
     ]
    }
   ],
   "source": [
    "for i in tweets['message']:\n",
    "    if 'xi ' in i:\n",
    "        print i\n",
    "\n",
    "#'Just' in tweets['message'].iloc[0]"
   ]
  },
  {
   "cell_type": "code",
   "execution_count": null,
   "metadata": {
    "collapsed": true
   },
   "outputs": [],
   "source": [
    "iter"
   ]
  },
  {
   "cell_type": "code",
   "execution_count": null,
   "metadata": {
    "collapsed": true
   },
   "outputs": [],
   "source": []
  },
  {
   "cell_type": "code",
   "execution_count": 424,
   "metadata": {
    "collapsed": false
   },
   "outputs": [
    {
     "data": {
      "text/html": [
       "<div>\n",
       "<table border=\"1\" class=\"dataframe\">\n",
       "  <thead>\n",
       "    <tr style=\"text-align: right;\">\n",
       "      <th></th>\n",
       "      <th>account</th>\n",
       "      <th>from_handler</th>\n",
       "      <th>to_handler</th>\n",
       "      <th>message</th>\n",
       "      <th>time_stamp</th>\n",
       "      <th>tweet_id</th>\n",
       "    </tr>\n",
       "    <tr>\n",
       "      <th>id</th>\n",
       "      <th></th>\n",
       "      <th></th>\n",
       "      <th></th>\n",
       "      <th></th>\n",
       "      <th></th>\n",
       "      <th></th>\n",
       "    </tr>\n",
       "  </thead>\n",
       "  <tbody>\n",
       "    <tr>\n",
       "      <th>1</th>\n",
       "      <td>@1ShirtSupport</td>\n",
       "      <td>@1ShirtSupport</td>\n",
       "      <td>@PissedOffBiotic</td>\n",
       "      <td>@PissedOffBiotic You got it! Just email us you...</td>\n",
       "      <td>01/18/2016 05:09:13</td>\n",
       "      <td>688951251455754241</td>\n",
       "    </tr>\n",
       "    <tr>\n",
       "      <th>2</th>\n",
       "      <td>@1ShirtSupport</td>\n",
       "      <td>@1ShirtSupport</td>\n",
       "      <td>@LordEstevez</td>\n",
       "      <td>@LordEstevez Thanks for the info! Well check o...</td>\n",
       "      <td>01/18/2016 02:38:39</td>\n",
       "      <td>688913360679653376</td>\n",
       "    </tr>\n",
       "    <tr>\n",
       "      <th>3</th>\n",
       "      <td>@1ShirtSupport</td>\n",
       "      <td>@1ShirtSupport</td>\n",
       "      <td>@LordEstevez</td>\n",
       "      <td>@LordEstevez Just want to make sure we have al...</td>\n",
       "      <td>01/18/2016 02:15:10</td>\n",
       "      <td>688907453212184576</td>\n",
       "    </tr>\n",
       "    <tr>\n",
       "      <th>4</th>\n",
       "      <td>@1ShirtSupport</td>\n",
       "      <td>@1ShirtSupport</td>\n",
       "      <td>@LordEstevez</td>\n",
       "      <td>@LordEstevez found it! It actually shows up as...</td>\n",
       "      <td>01/18/2016 02:14:24</td>\n",
       "      <td>688907258206367744</td>\n",
       "    </tr>\n",
       "    <tr>\n",
       "      <th>5</th>\n",
       "      <td>@1ShirtSupport</td>\n",
       "      <td>@1ShirtSupport</td>\n",
       "      <td>@LightingAshley</td>\n",
       "      <td>@LightingAshley It should be just about to be ...</td>\n",
       "      <td>01/18/2016 01:39:32</td>\n",
       "      <td>688898486025060352</td>\n",
       "    </tr>\n",
       "    <tr>\n",
       "      <th>6</th>\n",
       "      <td>@1ShirtSupport</td>\n",
       "      <td>@1ShirtSupport</td>\n",
       "      <td>@LordEstevez</td>\n",
       "      <td>@LordEstevez Thats actually the tracking #, bu...</td>\n",
       "      <td>01/18/2016 01:38:07</td>\n",
       "      <td>688898129471471616</td>\n",
       "    </tr>\n",
       "    <tr>\n",
       "      <th>7</th>\n",
       "      <td>@1ShirtSupport</td>\n",
       "      <td>@1ShirtSupport</td>\n",
       "      <td>@LordEstevez</td>\n",
       "      <td>@LordEstevez Whats the Order #? Well give you ...</td>\n",
       "      <td>01/18/2016 01:16:00</td>\n",
       "      <td>688892562040434688</td>\n",
       "    </tr>\n",
       "    <tr>\n",
       "      <th>8</th>\n",
       "      <td>@1ShirtSupport</td>\n",
       "      <td>@1ShirtSupport</td>\n",
       "      <td>@lukmills</td>\n",
       "      <td>@lukmills We just got to it! Well email you ba...</td>\n",
       "      <td>01/18/2016 00:35:26</td>\n",
       "      <td>688882355377864704</td>\n",
       "    </tr>\n",
       "    <tr>\n",
       "      <th>9</th>\n",
       "      <td>@1ShirtSupport</td>\n",
       "      <td>@1ShirtSupport</td>\n",
       "      <td>@TWRPband</td>\n",
       "      <td>SOON. @TWRPband https://t.co/ewdVnFKHoL</td>\n",
       "      <td>01/17/2016 20:04:52</td>\n",
       "      <td>688814262949552128</td>\n",
       "    </tr>\n",
       "    <tr>\n",
       "      <th>10</th>\n",
       "      <td>@1ShirtSupport</td>\n",
       "      <td>@1ShirtSupport</td>\n",
       "      <td>@GiorgioFan255</td>\n",
       "      <td>@GiorgioFan255 Awww, well make sure its sooner...</td>\n",
       "      <td>01/17/2016 07:11:02</td>\n",
       "      <td>688619521263800320</td>\n",
       "    </tr>\n",
       "    <tr>\n",
       "      <th>11</th>\n",
       "      <td>@1ShirtSupport</td>\n",
       "      <td>@1ShirtSupport</td>\n",
       "      <td>@kittenlovesart</td>\n",
       "      <td>@kittenlovesart Should arrive anytime in the n...</td>\n",
       "      <td>01/17/2016 03:25:27</td>\n",
       "      <td>688562750348345344</td>\n",
       "    </tr>\n",
       "    <tr>\n",
       "      <th>12</th>\n",
       "      <td>@1ShirtSupport</td>\n",
       "      <td>@1ShirtSupport</td>\n",
       "      <td>@kittenlovesart</td>\n",
       "      <td>@kittenlovesart We believe it may have already...</td>\n",
       "      <td>01/17/2016 02:33:59</td>\n",
       "      <td>688549799272923136</td>\n",
       "    </tr>\n",
       "    <tr>\n",
       "      <th>13</th>\n",
       "      <td>@1ShirtSupport</td>\n",
       "      <td>@1ShirtSupport</td>\n",
       "      <td>@BeanieBambino</td>\n",
       "      <td>@BeanieBambino Should be heading out sometime ...</td>\n",
       "      <td>01/17/2016 02:33:13</td>\n",
       "      <td>688549608423723008</td>\n",
       "    </tr>\n",
       "    <tr>\n",
       "      <th>14</th>\n",
       "      <td>@1ShirtSupport</td>\n",
       "      <td>@1ShirtSupport</td>\n",
       "      <td>@BeanieBambino</td>\n",
       "      <td>@BeanieBambino Whats your Order #, Bambino?</td>\n",
       "      <td>01/17/2016 00:45:31</td>\n",
       "      <td>688522504743206912</td>\n",
       "    </tr>\n",
       "    <tr>\n",
       "      <th>15</th>\n",
       "      <td>@1ShirtSupport</td>\n",
       "      <td>@1ShirtSupport</td>\n",
       "      <td>@Jack_Septic_Eye</td>\n",
       "      <td>Sam! Sniper Wolfs new HQ buddy! @Jack_Septic_E...</td>\n",
       "      <td>01/17/2016 00:12:26</td>\n",
       "      <td>688514175769808896</td>\n",
       "    </tr>\n",
       "    <tr>\n",
       "      <th>16</th>\n",
       "      <td>@1ShirtSupport</td>\n",
       "      <td>@1ShirtSupport</td>\n",
       "      <td>@aesthetique</td>\n",
       "      <td>@aesthetique Yup, no worries at all :)</td>\n",
       "      <td>01/16/2016 23:09:24</td>\n",
       "      <td>688498315533533184</td>\n",
       "    </tr>\n",
       "    <tr>\n",
       "      <th>17</th>\n",
       "      <td>@1ShirtSupport</td>\n",
       "      <td>@1ShirtSupport</td>\n",
       "      <td>@@1ShirtSupport</td>\n",
       "      <td>We arted. https://t.co/a3LPG9MEat</td>\n",
       "      <td>01/16/2016 22:51:49</td>\n",
       "      <td>688493887631958016</td>\n",
       "    </tr>\n",
       "    <tr>\n",
       "      <th>18</th>\n",
       "      <td>@1ShirtSupport</td>\n",
       "      <td>@1ShirtSupport</td>\n",
       "      <td>@DutRank</td>\n",
       "      <td>@DutRank Posters are being shipped separately,...</td>\n",
       "      <td>01/16/2016 22:15:56</td>\n",
       "      <td>688484860311162880</td>\n",
       "    </tr>\n",
       "    <tr>\n",
       "      <th>19</th>\n",
       "      <td>@1ShirtSupport</td>\n",
       "      <td>@1ShirtSupport</td>\n",
       "      <td>@Official_Antony</td>\n",
       "      <td>@Official_Antony Support @ https://t.co/o7FBKO...</td>\n",
       "      <td>01/16/2016 18:36:56</td>\n",
       "      <td>688429744367378432</td>\n",
       "    </tr>\n",
       "    <tr>\n",
       "      <th>20</th>\n",
       "      <td>@1ShirtSupport</td>\n",
       "      <td>@1ShirtSupport</td>\n",
       "      <td>@Official_Antony</td>\n",
       "      <td>@Official_Antony Should be on its way out by n...</td>\n",
       "      <td>01/16/2016 18:36:41</td>\n",
       "      <td>688429683721912320</td>\n",
       "    </tr>\n",
       "    <tr>\n",
       "      <th>21</th>\n",
       "      <td>@1ShirtSupport</td>\n",
       "      <td>@1ShirtSupport</td>\n",
       "      <td>@claydan</td>\n",
       "      <td>@claydan Sure thing! Just started on Dec. orde...</td>\n",
       "      <td>01/16/2016 18:35:01</td>\n",
       "      <td>688429263914012672</td>\n",
       "    </tr>\n",
       "    <tr>\n",
       "      <th>22</th>\n",
       "      <td>@1ShirtSupport</td>\n",
       "      <td>@1ShirtSupport</td>\n",
       "      <td>@corruptedgem</td>\n",
       "      <td>@corruptedgem Most likely by end of January, w...</td>\n",
       "      <td>01/16/2016 16:24:01</td>\n",
       "      <td>688396295858294784</td>\n",
       "    </tr>\n",
       "    <tr>\n",
       "      <th>23</th>\n",
       "      <td>@1ShirtSupport</td>\n",
       "      <td>@1ShirtSupport</td>\n",
       "      <td>@Derplier</td>\n",
       "      <td>@Derplier Should be on its way out, you should...</td>\n",
       "      <td>01/16/2016 05:57:48</td>\n",
       "      <td>688238701852266496</td>\n",
       "    </tr>\n",
       "    <tr>\n",
       "      <th>24</th>\n",
       "      <td>@1ShirtSupport</td>\n",
       "      <td>@1ShirtSupport</td>\n",
       "      <td>@grumpbean</td>\n",
       "      <td>@grumpbean We got your back ;)</td>\n",
       "      <td>01/16/2016 04:36:32</td>\n",
       "      <td>688218250723737603</td>\n",
       "    </tr>\n",
       "    <tr>\n",
       "      <th>25</th>\n",
       "      <td>@1ShirtSupport</td>\n",
       "      <td>@1ShirtSupport</td>\n",
       "      <td>@DinyRoar</td>\n",
       "      <td>@DinyRoar Sneaky Mama ?? Enjoy!</td>\n",
       "      <td>01/16/2016 04:30:04</td>\n",
       "      <td>688216625019944960</td>\n",
       "    </tr>\n",
       "    <tr>\n",
       "      <th>26</th>\n",
       "      <td>@1ShirtSupport</td>\n",
       "      <td>@1ShirtSupport</td>\n",
       "      <td>@Spoofy07</td>\n",
       "      <td>@Spoofy07 Should be on its way out next week.....</td>\n",
       "      <td>01/16/2016 04:26:54</td>\n",
       "      <td>688215826168598528</td>\n",
       "    </tr>\n",
       "    <tr>\n",
       "      <th>27</th>\n",
       "      <td>@1ShirtSupport</td>\n",
       "      <td>@1ShirtSupport</td>\n",
       "      <td>@liROBOTil</td>\n",
       "      <td>@liROBOTil Dec orders are just starting to go ...</td>\n",
       "      <td>01/16/2016 04:22:28</td>\n",
       "      <td>688214712643801088</td>\n",
       "    </tr>\n",
       "    <tr>\n",
       "      <th>28</th>\n",
       "      <td>@1ShirtSupport</td>\n",
       "      <td>@1ShirtSupport</td>\n",
       "      <td>@liROBOTil</td>\n",
       "      <td>@liROBOTil We suck :( Were being slow, and we ...</td>\n",
       "      <td>01/16/2016 00:15:19</td>\n",
       "      <td>688152514688991233</td>\n",
       "    </tr>\n",
       "    <tr>\n",
       "      <th>29</th>\n",
       "      <td>@1ShirtSupport</td>\n",
       "      <td>@1ShirtSupport</td>\n",
       "      <td>@DinyRoar</td>\n",
       "      <td>@DinyRoar Oh no! Have you tried contacting you...</td>\n",
       "      <td>01/16/2016 00:14:16</td>\n",
       "      <td>688152250829557760</td>\n",
       "    </tr>\n",
       "    <tr>\n",
       "      <th>30</th>\n",
       "      <td>@1ShirtSupport</td>\n",
       "      <td>@1ShirtSupport</td>\n",
       "      <td>@LavenderTsul</td>\n",
       "      <td>@LavenderTsul A majestic Barrycorn has appeare...</td>\n",
       "      <td>01/15/2016 22:58:35</td>\n",
       "      <td>688133203081613314</td>\n",
       "    </tr>\n",
       "    <tr>\n",
       "      <th>...</th>\n",
       "      <td>...</td>\n",
       "      <td>...</td>\n",
       "      <td>...</td>\n",
       "      <td>...</td>\n",
       "      <td>...</td>\n",
       "      <td>...</td>\n",
       "    </tr>\n",
       "    <tr>\n",
       "      <th>110428</th>\n",
       "      <td>@Hootsuite_Help</td>\n",
       "      <td>@mfcannon</td>\n",
       "      <td>@Hootsuite_Help</td>\n",
       "      <td>Why don’t quotes appear in mentions? Why can’t...</td>\n",
       "      <td>01/16/2016 16:06:40</td>\n",
       "      <td>688391928505856001</td>\n",
       "    </tr>\n",
       "    <tr>\n",
       "      <th>110429</th>\n",
       "      <td>@Hootsuite_Help</td>\n",
       "      <td>@AARiveraBrito</td>\n",
       "      <td>@Hootsuite_Help</td>\n",
       "      <td>@Hootsuite_Help Hello, Im trying to pay my acc...</td>\n",
       "      <td>01/16/2016 16:03:43</td>\n",
       "      <td>688391187628081152</td>\n",
       "    </tr>\n",
       "    <tr>\n",
       "      <th>110430</th>\n",
       "      <td>@Hootsuite_Help</td>\n",
       "      <td>@MrButlerFan</td>\n",
       "      <td>@voice_compass</td>\n",
       "      <td>TOP #ReTweeters! :-) @voice_compass @Hootsuite...</td>\n",
       "      <td>01/16/2016 15:56:14</td>\n",
       "      <td>688389303479631873</td>\n",
       "    </tr>\n",
       "    <tr>\n",
       "      <th>110431</th>\n",
       "      <td>@Hootsuite_Help</td>\n",
       "      <td>@richcakebass</td>\n",
       "      <td>@Hootsuite_Help</td>\n",
       "      <td>@Hootsuite_Help Whats the use of the added sec...</td>\n",
       "      <td>01/16/2016 15:54:19</td>\n",
       "      <td>688388823349248001</td>\n",
       "    </tr>\n",
       "    <tr>\n",
       "      <th>110432</th>\n",
       "      <td>@Hootsuite_Help</td>\n",
       "      <td>@richcakebass</td>\n",
       "      <td>@Hootsuite_Help</td>\n",
       "      <td>@Hootsuite_Help also, again: Does it mean that...</td>\n",
       "      <td>01/16/2016 15:54:04</td>\n",
       "      <td>688388760690540544</td>\n",
       "    </tr>\n",
       "    <tr>\n",
       "      <th>110433</th>\n",
       "      <td>@Hootsuite_Help</td>\n",
       "      <td>@richcakebass</td>\n",
       "      <td>@Hootsuite_Help</td>\n",
       "      <td>@Hootsuite_Help what is the use of having goog...</td>\n",
       "      <td>01/16/2016 15:47:41</td>\n",
       "      <td>688387150845317120</td>\n",
       "    </tr>\n",
       "    <tr>\n",
       "      <th>110434</th>\n",
       "      <td>@Hootsuite_Help</td>\n",
       "      <td>@richcakebass</td>\n",
       "      <td>@Hootsuite_Help</td>\n",
       "      <td>@Hootsuite_Help Also, does that mean that if I...</td>\n",
       "      <td>01/16/2016 15:47:20</td>\n",
       "      <td>688387064392372224</td>\n",
       "    </tr>\n",
       "    <tr>\n",
       "      <th>110435</th>\n",
       "      <td>@Hootsuite_Help</td>\n",
       "      <td>@richcakebass</td>\n",
       "      <td>@Hootsuite_Help</td>\n",
       "      <td>@Hootsuite_Help Yes, I have. What is confusing...</td>\n",
       "      <td>01/16/2016 15:45:52</td>\n",
       "      <td>688386697441050625</td>\n",
       "    </tr>\n",
       "    <tr>\n",
       "      <th>110436</th>\n",
       "      <td>@Hootsuite_Help</td>\n",
       "      <td>@DealSoop</td>\n",
       "      <td>@Hootsuite_Help</td>\n",
       "      <td>@Hootsuite_Help Do you post everyday  with the...</td>\n",
       "      <td>01/16/2016 15:41:26</td>\n",
       "      <td>688385578052747265</td>\n",
       "    </tr>\n",
       "    <tr>\n",
       "      <th>110437</th>\n",
       "      <td>@Hootsuite_Help</td>\n",
       "      <td>@richcakebass</td>\n",
       "      <td>@Hootsuite_Help</td>\n",
       "      <td>@Hootsuite_Help I need some help setting up Ho...</td>\n",
       "      <td>01/16/2016 15:36:06</td>\n",
       "      <td>688384236600991744</td>\n",
       "    </tr>\n",
       "    <tr>\n",
       "      <th>110438</th>\n",
       "      <td>@Hootsuite_Help</td>\n",
       "      <td>@DealSoop</td>\n",
       "      <td>@Hootsuite_Help</td>\n",
       "      <td>@Hootsuite_Help What does the autoschedule mean ?</td>\n",
       "      <td>01/16/2016 14:42:07</td>\n",
       "      <td>688370654316462080</td>\n",
       "    </tr>\n",
       "    <tr>\n",
       "      <th>110439</th>\n",
       "      <td>@Hootsuite_Help</td>\n",
       "      <td>@russel_winder</td>\n",
       "      <td>@Hootsuite_Help</td>\n",
       "      <td>@Hootsuite_Help OK. Ill have to see if I can \"...</td>\n",
       "      <td>01/16/2016 14:24:34</td>\n",
       "      <td>688366234451230720</td>\n",
       "    </tr>\n",
       "    <tr>\n",
       "      <th>110440</th>\n",
       "      <td>@Hootsuite_Help</td>\n",
       "      <td>@russel_winder</td>\n",
       "      <td>@Hootsuite_Help</td>\n",
       "      <td>@Hootsuite_Help Uuurrr... I am using Linux. I ...</td>\n",
       "      <td>01/16/2016 14:04:15</td>\n",
       "      <td>688361121313607680</td>\n",
       "    </tr>\n",
       "    <tr>\n",
       "      <th>110441</th>\n",
       "      <td>@Hootsuite_Help</td>\n",
       "      <td>@russel_winder</td>\n",
       "      <td>@Hootsuite_Help</td>\n",
       "      <td>@HootSuite_Help is there any way of getting \"n...</td>\n",
       "      <td>01/16/2016 13:56:56</td>\n",
       "      <td>688359281402507264</td>\n",
       "    </tr>\n",
       "    <tr>\n",
       "      <th>110442</th>\n",
       "      <td>@Hootsuite_Help</td>\n",
       "      <td>@PSPoloNews</td>\n",
       "      <td>@Hootsuite_Help</td>\n",
       "      <td>@Hootsuite_Help I DMed you my email address. T...</td>\n",
       "      <td>01/16/2016 13:05:24</td>\n",
       "      <td>688346312471789568</td>\n",
       "    </tr>\n",
       "    <tr>\n",
       "      <th>110443</th>\n",
       "      <td>@Hootsuite_Help</td>\n",
       "      <td>@Skyewalkereena</td>\n",
       "      <td>@Hootsuite_Help</td>\n",
       "      <td>@Hootsuite_Help Ive posted the idea and gladly...</td>\n",
       "      <td>01/16/2016 11:46:27</td>\n",
       "      <td>688326442988482560</td>\n",
       "    </tr>\n",
       "    <tr>\n",
       "      <th>110444</th>\n",
       "      <td>@Hootsuite_Help</td>\n",
       "      <td>@KateBendix</td>\n",
       "      <td>@Hootsuite_Help</td>\n",
       "      <td>@Hootsuite_Help Really? Because that was two d...</td>\n",
       "      <td>01/16/2016 06:55:03</td>\n",
       "      <td>688253110079258624</td>\n",
       "    </tr>\n",
       "    <tr>\n",
       "      <th>110445</th>\n",
       "      <td>@Hootsuite_Help</td>\n",
       "      <td>@joshicsin</td>\n",
       "      <td>@Hootsuite_Help</td>\n",
       "      <td>@Hootsuite_Help ^CB, same to you! :)</td>\n",
       "      <td>01/16/2016 06:24:42</td>\n",
       "      <td>688245473509941248</td>\n",
       "    </tr>\n",
       "    <tr>\n",
       "      <th>110446</th>\n",
       "      <td>@Hootsuite_Help</td>\n",
       "      <td>@joshicsin</td>\n",
       "      <td>@Hootsuite_Help</td>\n",
       "      <td>@Hootsuite_Help Thank you. I really appreciate...</td>\n",
       "      <td>01/16/2016 06:20:42</td>\n",
       "      <td>688244468596654080</td>\n",
       "    </tr>\n",
       "    <tr>\n",
       "      <th>110447</th>\n",
       "      <td>@Hootsuite_Help</td>\n",
       "      <td>@joshicsin</td>\n",
       "      <td>@Hootsuite_Help</td>\n",
       "      <td>@Hootsuite_Help Yes, it is. You can also check...</td>\n",
       "      <td>01/16/2016 06:13:14</td>\n",
       "      <td>688242588399190017</td>\n",
       "    </tr>\n",
       "    <tr>\n",
       "      <th>110448</th>\n",
       "      <td>@Hootsuite_Help</td>\n",
       "      <td>@joshicsin</td>\n",
       "      <td>@Hootsuite_Help</td>\n",
       "      <td>@Hootsuite_Help Just make sure, your subscript...</td>\n",
       "      <td>01/16/2016 06:08:45</td>\n",
       "      <td>688241459959431169</td>\n",
       "    </tr>\n",
       "    <tr>\n",
       "      <th>110449</th>\n",
       "      <td>@Hootsuite_Help</td>\n",
       "      <td>@Skyewalkereena</td>\n",
       "      <td>@Hootsuite_Help</td>\n",
       "      <td>@Hootsuite_Help Understood. I think you should...</td>\n",
       "      <td>01/16/2016 05:50:09</td>\n",
       "      <td>688236779321737216</td>\n",
       "    </tr>\n",
       "    <tr>\n",
       "      <th>110450</th>\n",
       "      <td>@Hootsuite_Help</td>\n",
       "      <td>@joshicsin</td>\n",
       "      <td>@Hootsuite_Help</td>\n",
       "      <td>@Hootsuite_Help Sorry to say but your support ...</td>\n",
       "      <td>01/16/2016 05:44:38</td>\n",
       "      <td>688235390575091713</td>\n",
       "    </tr>\n",
       "    <tr>\n",
       "      <th>110451</th>\n",
       "      <td>@Hootsuite_Help</td>\n",
       "      <td>@PSPoloNews</td>\n",
       "      <td>@Hootsuite_Help</td>\n",
       "      <td>@Hootsuite_Help Its still not working. Not rec...</td>\n",
       "      <td>01/16/2016 00:32:48</td>\n",
       "      <td>688156916330045444</td>\n",
       "    </tr>\n",
       "    <tr>\n",
       "      <th>110452</th>\n",
       "      <td>@Hootsuite_Help</td>\n",
       "      <td>@EmilioLZ323</td>\n",
       "      <td>@jackygro</td>\n",
       "      <td>RT @jackygro: @Hootsuite_Help Can you connect ...</td>\n",
       "      <td>01/16/2016 00:29:46</td>\n",
       "      <td>688156151238623234</td>\n",
       "    </tr>\n",
       "    <tr>\n",
       "      <th>110453</th>\n",
       "      <td>@Hootsuite_Help</td>\n",
       "      <td>@PSPoloNews</td>\n",
       "      <td>@Hootsuite_Help</td>\n",
       "      <td>@Hootsuite_Help Yes, youve already asked me th...</td>\n",
       "      <td>01/16/2016 00:01:44</td>\n",
       "      <td>688149096406724609</td>\n",
       "    </tr>\n",
       "    <tr>\n",
       "      <th>110454</th>\n",
       "      <td>@Hootsuite_Help</td>\n",
       "      <td>@kabukibellenz</td>\n",
       "      <td>@Hootsuite_Help</td>\n",
       "      <td>@Hootsuite_Help  worked!</td>\n",
       "      <td>01/16/2016 00:01:29</td>\n",
       "      <td>688149034683371520</td>\n",
       "    </tr>\n",
       "    <tr>\n",
       "      <th>110455</th>\n",
       "      <td>@Hootsuite_Help</td>\n",
       "      <td>@PSPoloNews</td>\n",
       "      <td>@Hootsuite_Help</td>\n",
       "      <td>@Hootsuite_Help @Profile This one. (@pspolonews)</td>\n",
       "      <td>01/15/2016 23:58:58</td>\n",
       "      <td>688148400261300225</td>\n",
       "    </tr>\n",
       "    <tr>\n",
       "      <th>110456</th>\n",
       "      <td>@Hootsuite_Help</td>\n",
       "      <td>@PSPoloNews</td>\n",
       "      <td>@Hootsuite_Help</td>\n",
       "      <td>@Hootsuite_Help @PSPoloNews is the account</td>\n",
       "      <td>01/15/2016 23:57:35</td>\n",
       "      <td>688148053400752128</td>\n",
       "    </tr>\n",
       "    <tr>\n",
       "      <th>110457</th>\n",
       "      <td>@Hootsuite_Help</td>\n",
       "      <td>@PSPoloNews</td>\n",
       "      <td>@Hootsuite_Help</td>\n",
       "      <td>@Hootsuite_Help No, never got the notification...</td>\n",
       "      <td>01/15/2016 23:38:39</td>\n",
       "      <td>688143288231067648</td>\n",
       "    </tr>\n",
       "  </tbody>\n",
       "</table>\n",
       "<p>83195 rows × 6 columns</p>\n",
       "</div>"
      ],
      "text/plain": [
       "                account     from_handler        to_handler  \\\n",
       "id                                                           \n",
       "1        @1ShirtSupport   @1ShirtSupport  @PissedOffBiotic   \n",
       "2        @1ShirtSupport   @1ShirtSupport      @LordEstevez   \n",
       "3        @1ShirtSupport   @1ShirtSupport      @LordEstevez   \n",
       "4        @1ShirtSupport   @1ShirtSupport      @LordEstevez   \n",
       "5        @1ShirtSupport   @1ShirtSupport   @LightingAshley   \n",
       "6        @1ShirtSupport   @1ShirtSupport      @LordEstevez   \n",
       "7        @1ShirtSupport   @1ShirtSupport      @LordEstevez   \n",
       "8        @1ShirtSupport   @1ShirtSupport         @lukmills   \n",
       "9        @1ShirtSupport   @1ShirtSupport         @TWRPband   \n",
       "10       @1ShirtSupport   @1ShirtSupport    @GiorgioFan255   \n",
       "11       @1ShirtSupport   @1ShirtSupport   @kittenlovesart   \n",
       "12       @1ShirtSupport   @1ShirtSupport   @kittenlovesart   \n",
       "13       @1ShirtSupport   @1ShirtSupport    @BeanieBambino   \n",
       "14       @1ShirtSupport   @1ShirtSupport    @BeanieBambino   \n",
       "15       @1ShirtSupport   @1ShirtSupport  @Jack_Septic_Eye   \n",
       "16       @1ShirtSupport   @1ShirtSupport      @aesthetique   \n",
       "17       @1ShirtSupport   @1ShirtSupport   @@1ShirtSupport   \n",
       "18       @1ShirtSupport   @1ShirtSupport          @DutRank   \n",
       "19       @1ShirtSupport   @1ShirtSupport  @Official_Antony   \n",
       "20       @1ShirtSupport   @1ShirtSupport  @Official_Antony   \n",
       "21       @1ShirtSupport   @1ShirtSupport          @claydan   \n",
       "22       @1ShirtSupport   @1ShirtSupport     @corruptedgem   \n",
       "23       @1ShirtSupport   @1ShirtSupport         @Derplier   \n",
       "24       @1ShirtSupport   @1ShirtSupport        @grumpbean   \n",
       "25       @1ShirtSupport   @1ShirtSupport         @DinyRoar   \n",
       "26       @1ShirtSupport   @1ShirtSupport         @Spoofy07   \n",
       "27       @1ShirtSupport   @1ShirtSupport        @liROBOTil   \n",
       "28       @1ShirtSupport   @1ShirtSupport        @liROBOTil   \n",
       "29       @1ShirtSupport   @1ShirtSupport         @DinyRoar   \n",
       "30       @1ShirtSupport   @1ShirtSupport     @LavenderTsul   \n",
       "...                 ...              ...               ...   \n",
       "110428  @Hootsuite_Help        @mfcannon   @Hootsuite_Help   \n",
       "110429  @Hootsuite_Help   @AARiveraBrito   @Hootsuite_Help   \n",
       "110430  @Hootsuite_Help     @MrButlerFan    @voice_compass   \n",
       "110431  @Hootsuite_Help    @richcakebass   @Hootsuite_Help   \n",
       "110432  @Hootsuite_Help    @richcakebass   @Hootsuite_Help   \n",
       "110433  @Hootsuite_Help    @richcakebass   @Hootsuite_Help   \n",
       "110434  @Hootsuite_Help    @richcakebass   @Hootsuite_Help   \n",
       "110435  @Hootsuite_Help    @richcakebass   @Hootsuite_Help   \n",
       "110436  @Hootsuite_Help        @DealSoop   @Hootsuite_Help   \n",
       "110437  @Hootsuite_Help    @richcakebass   @Hootsuite_Help   \n",
       "110438  @Hootsuite_Help        @DealSoop   @Hootsuite_Help   \n",
       "110439  @Hootsuite_Help   @russel_winder   @Hootsuite_Help   \n",
       "110440  @Hootsuite_Help   @russel_winder   @Hootsuite_Help   \n",
       "110441  @Hootsuite_Help   @russel_winder   @Hootsuite_Help   \n",
       "110442  @Hootsuite_Help      @PSPoloNews   @Hootsuite_Help   \n",
       "110443  @Hootsuite_Help  @Skyewalkereena   @Hootsuite_Help   \n",
       "110444  @Hootsuite_Help      @KateBendix   @Hootsuite_Help   \n",
       "110445  @Hootsuite_Help       @joshicsin   @Hootsuite_Help   \n",
       "110446  @Hootsuite_Help       @joshicsin   @Hootsuite_Help   \n",
       "110447  @Hootsuite_Help       @joshicsin   @Hootsuite_Help   \n",
       "110448  @Hootsuite_Help       @joshicsin   @Hootsuite_Help   \n",
       "110449  @Hootsuite_Help  @Skyewalkereena   @Hootsuite_Help   \n",
       "110450  @Hootsuite_Help       @joshicsin   @Hootsuite_Help   \n",
       "110451  @Hootsuite_Help      @PSPoloNews   @Hootsuite_Help   \n",
       "110452  @Hootsuite_Help     @EmilioLZ323         @jackygro   \n",
       "110453  @Hootsuite_Help      @PSPoloNews   @Hootsuite_Help   \n",
       "110454  @Hootsuite_Help   @kabukibellenz   @Hootsuite_Help   \n",
       "110455  @Hootsuite_Help      @PSPoloNews   @Hootsuite_Help   \n",
       "110456  @Hootsuite_Help      @PSPoloNews   @Hootsuite_Help   \n",
       "110457  @Hootsuite_Help      @PSPoloNews   @Hootsuite_Help   \n",
       "\n",
       "                                                  message  \\\n",
       "id                                                          \n",
       "1       @PissedOffBiotic You got it! Just email us you...   \n",
       "2       @LordEstevez Thanks for the info! Well check o...   \n",
       "3       @LordEstevez Just want to make sure we have al...   \n",
       "4       @LordEstevez found it! It actually shows up as...   \n",
       "5       @LightingAshley It should be just about to be ...   \n",
       "6       @LordEstevez Thats actually the tracking #, bu...   \n",
       "7       @LordEstevez Whats the Order #? Well give you ...   \n",
       "8       @lukmills We just got to it! Well email you ba...   \n",
       "9                 SOON. @TWRPband https://t.co/ewdVnFKHoL   \n",
       "10      @GiorgioFan255 Awww, well make sure its sooner...   \n",
       "11      @kittenlovesart Should arrive anytime in the n...   \n",
       "12      @kittenlovesart We believe it may have already...   \n",
       "13      @BeanieBambino Should be heading out sometime ...   \n",
       "14            @BeanieBambino Whats your Order #, Bambino?   \n",
       "15      Sam! Sniper Wolfs new HQ buddy! @Jack_Septic_E...   \n",
       "16                 @aesthetique Yup, no worries at all :)   \n",
       "17                      We arted. https://t.co/a3LPG9MEat   \n",
       "18      @DutRank Posters are being shipped separately,...   \n",
       "19      @Official_Antony Support @ https://t.co/o7FBKO...   \n",
       "20      @Official_Antony Should be on its way out by n...   \n",
       "21      @claydan Sure thing! Just started on Dec. orde...   \n",
       "22      @corruptedgem Most likely by end of January, w...   \n",
       "23      @Derplier Should be on its way out, you should...   \n",
       "24                         @grumpbean We got your back ;)   \n",
       "25                        @DinyRoar Sneaky Mama ?? Enjoy!   \n",
       "26      @Spoofy07 Should be on its way out next week.....   \n",
       "27      @liROBOTil Dec orders are just starting to go ...   \n",
       "28      @liROBOTil We suck :( Were being slow, and we ...   \n",
       "29      @DinyRoar Oh no! Have you tried contacting you...   \n",
       "30      @LavenderTsul A majestic Barrycorn has appeare...   \n",
       "...                                                   ...   \n",
       "110428  Why don’t quotes appear in mentions? Why can’t...   \n",
       "110429  @Hootsuite_Help Hello, Im trying to pay my acc...   \n",
       "110430  TOP #ReTweeters! :-) @voice_compass @Hootsuite...   \n",
       "110431  @Hootsuite_Help Whats the use of the added sec...   \n",
       "110432  @Hootsuite_Help also, again: Does it mean that...   \n",
       "110433  @Hootsuite_Help what is the use of having goog...   \n",
       "110434  @Hootsuite_Help Also, does that mean that if I...   \n",
       "110435  @Hootsuite_Help Yes, I have. What is confusing...   \n",
       "110436  @Hootsuite_Help Do you post everyday  with the...   \n",
       "110437  @Hootsuite_Help I need some help setting up Ho...   \n",
       "110438  @Hootsuite_Help What does the autoschedule mean ?   \n",
       "110439  @Hootsuite_Help OK. Ill have to see if I can \"...   \n",
       "110440  @Hootsuite_Help Uuurrr... I am using Linux. I ...   \n",
       "110441  @HootSuite_Help is there any way of getting \"n...   \n",
       "110442  @Hootsuite_Help I DMed you my email address. T...   \n",
       "110443  @Hootsuite_Help Ive posted the idea and gladly...   \n",
       "110444  @Hootsuite_Help Really? Because that was two d...   \n",
       "110445               @Hootsuite_Help ^CB, same to you! :)   \n",
       "110446  @Hootsuite_Help Thank you. I really appreciate...   \n",
       "110447  @Hootsuite_Help Yes, it is. You can also check...   \n",
       "110448  @Hootsuite_Help Just make sure, your subscript...   \n",
       "110449  @Hootsuite_Help Understood. I think you should...   \n",
       "110450  @Hootsuite_Help Sorry to say but your support ...   \n",
       "110451  @Hootsuite_Help Its still not working. Not rec...   \n",
       "110452  RT @jackygro: @Hootsuite_Help Can you connect ...   \n",
       "110453  @Hootsuite_Help Yes, youve already asked me th...   \n",
       "110454                           @Hootsuite_Help  worked!   \n",
       "110455   @Hootsuite_Help @Profile This one. (@pspolonews)   \n",
       "110456         @Hootsuite_Help @PSPoloNews is the account   \n",
       "110457  @Hootsuite_Help No, never got the notification...   \n",
       "\n",
       "                 time_stamp            tweet_id  \n",
       "id                                               \n",
       "1       01/18/2016 05:09:13  688951251455754241  \n",
       "2       01/18/2016 02:38:39  688913360679653376  \n",
       "3       01/18/2016 02:15:10  688907453212184576  \n",
       "4       01/18/2016 02:14:24  688907258206367744  \n",
       "5       01/18/2016 01:39:32  688898486025060352  \n",
       "6       01/18/2016 01:38:07  688898129471471616  \n",
       "7       01/18/2016 01:16:00  688892562040434688  \n",
       "8       01/18/2016 00:35:26  688882355377864704  \n",
       "9       01/17/2016 20:04:52  688814262949552128  \n",
       "10      01/17/2016 07:11:02  688619521263800320  \n",
       "11      01/17/2016 03:25:27  688562750348345344  \n",
       "12      01/17/2016 02:33:59  688549799272923136  \n",
       "13      01/17/2016 02:33:13  688549608423723008  \n",
       "14      01/17/2016 00:45:31  688522504743206912  \n",
       "15      01/17/2016 00:12:26  688514175769808896  \n",
       "16      01/16/2016 23:09:24  688498315533533184  \n",
       "17      01/16/2016 22:51:49  688493887631958016  \n",
       "18      01/16/2016 22:15:56  688484860311162880  \n",
       "19      01/16/2016 18:36:56  688429744367378432  \n",
       "20      01/16/2016 18:36:41  688429683721912320  \n",
       "21      01/16/2016 18:35:01  688429263914012672  \n",
       "22      01/16/2016 16:24:01  688396295858294784  \n",
       "23      01/16/2016 05:57:48  688238701852266496  \n",
       "24      01/16/2016 04:36:32  688218250723737603  \n",
       "25      01/16/2016 04:30:04  688216625019944960  \n",
       "26      01/16/2016 04:26:54  688215826168598528  \n",
       "27      01/16/2016 04:22:28  688214712643801088  \n",
       "28      01/16/2016 00:15:19  688152514688991233  \n",
       "29      01/16/2016 00:14:16  688152250829557760  \n",
       "30      01/15/2016 22:58:35  688133203081613314  \n",
       "...                     ...                 ...  \n",
       "110428  01/16/2016 16:06:40  688391928505856001  \n",
       "110429  01/16/2016 16:03:43  688391187628081152  \n",
       "110430  01/16/2016 15:56:14  688389303479631873  \n",
       "110431  01/16/2016 15:54:19  688388823349248001  \n",
       "110432  01/16/2016 15:54:04  688388760690540544  \n",
       "110433  01/16/2016 15:47:41  688387150845317120  \n",
       "110434  01/16/2016 15:47:20  688387064392372224  \n",
       "110435  01/16/2016 15:45:52  688386697441050625  \n",
       "110436  01/16/2016 15:41:26  688385578052747265  \n",
       "110437  01/16/2016 15:36:06  688384236600991744  \n",
       "110438  01/16/2016 14:42:07  688370654316462080  \n",
       "110439  01/16/2016 14:24:34  688366234451230720  \n",
       "110440  01/16/2016 14:04:15  688361121313607680  \n",
       "110441  01/16/2016 13:56:56  688359281402507264  \n",
       "110442  01/16/2016 13:05:24  688346312471789568  \n",
       "110443  01/16/2016 11:46:27  688326442988482560  \n",
       "110444  01/16/2016 06:55:03  688253110079258624  \n",
       "110445  01/16/2016 06:24:42  688245473509941248  \n",
       "110446  01/16/2016 06:20:42  688244468596654080  \n",
       "110447  01/16/2016 06:13:14  688242588399190017  \n",
       "110448  01/16/2016 06:08:45  688241459959431169  \n",
       "110449  01/16/2016 05:50:09  688236779321737216  \n",
       "110450  01/16/2016 05:44:38  688235390575091713  \n",
       "110451  01/16/2016 00:32:48  688156916330045444  \n",
       "110452  01/16/2016 00:29:46  688156151238623234  \n",
       "110453  01/16/2016 00:01:44  688149096406724609  \n",
       "110454  01/16/2016 00:01:29  688149034683371520  \n",
       "110455  01/15/2016 23:58:58  688148400261300225  \n",
       "110456  01/15/2016 23:57:35  688148053400752128  \n",
       "110457  01/15/2016 23:38:39  688143288231067648  \n",
       "\n",
       "[83195 rows x 6 columns]"
      ]
     },
     "execution_count": 424,
     "metadata": {},
     "output_type": "execute_result"
    }
   ],
   "source": [
    "tweets"
   ]
  },
  {
   "cell_type": "code",
   "execution_count": null,
   "metadata": {
    "collapsed": true
   },
   "outputs": [],
   "source": []
  },
  {
   "cell_type": "markdown",
   "metadata": {},
   "source": [
    "# Try to get count vectorizer for bag of words"
   ]
  },
  {
   "cell_type": "code",
   "execution_count": 96,
   "metadata": {
    "collapsed": true
   },
   "outputs": [],
   "source": [
    "from sklearn.feature_extraction.text import TfidfVectorizer, CountVectorizer"
   ]
  },
  {
   "cell_type": "code",
   "execution_count": 105,
   "metadata": {
    "collapsed": false
   },
   "outputs": [],
   "source": [
    "vectorizer = CountVectorizer(min_df=1)\n"
   ]
  },
  {
   "cell_type": "code",
   "execution_count": 106,
   "metadata": {
    "collapsed": true
   },
   "outputs": [],
   "source": [
    "X = vectorizer.fit_transform(verTweets['message'])"
   ]
  },
  {
   "cell_type": "code",
   "execution_count": 211,
   "metadata": {
    "collapsed": false
   },
   "outputs": [],
   "source": [
    "#list(verTweets['message'])"
   ]
  },
  {
   "cell_type": "code",
   "execution_count": 108,
   "metadata": {
    "collapsed": false
   },
   "outputs": [
    {
     "data": {
      "text/plain": [
       "71"
      ]
     },
     "execution_count": 108,
     "metadata": {},
     "output_type": "execute_result"
    }
   ],
   "source": []
  },
  {
   "cell_type": "code",
   "execution_count": null,
   "metadata": {
    "collapsed": true
   },
   "outputs": [],
   "source": []
  },
  {
   "cell_type": "code",
   "execution_count": null,
   "metadata": {
    "collapsed": true
   },
   "outputs": [],
   "source": []
  },
  {
   "cell_type": "code",
   "execution_count": null,
   "metadata": {
    "collapsed": true
   },
   "outputs": [],
   "source": []
  },
  {
   "cell_type": "markdown",
   "metadata": {},
   "source": [
    "# Trying gensim"
   ]
  },
  {
   "cell_type": "code",
   "execution_count": 125,
   "metadata": {
    "collapsed": false
   },
   "outputs": [],
   "source": [
    "from gensim import corpora, models, similarities\n",
    "from gensim.models import ldamodel"
   ]
  },
  {
   "cell_type": "code",
   "execution_count": null,
   "metadata": {
    "collapsed": true
   },
   "outputs": [],
   "source": [
    "list(verTweets['message'])"
   ]
  },
  {
   "cell_type": "code",
   "execution_count": 212,
   "metadata": {
    "collapsed": false
   },
   "outputs": [],
   "source": [
    ">>> # remove common words and tokenize\n",
    "documents = list(verTweets['message'])\n",
    "\n",
    ">>> stoplist = set('for a of the and to in'.split())\n",
    ">>> texts = [[word for word in document.lower().split() if word not in stoplist]\n",
    ">>>          for document in documents]\n",
    ">>>\n",
    ">>> # remove words that appear only once\n",
    ">>> from collections import defaultdict\n",
    ">>> frequency = defaultdict(int)\n",
    ">>> for text in texts:\n",
    ">>>     for token in text:\n",
    ">>>         frequency[token] += 1\n",
    ">>>\n",
    ">>> texts = [[token for token in text if frequency[token] > 1]\n",
    ">>>          for text in texts]\n",
    ">>>\n",
    ">>> from pprint import pprint   # pretty-printer\n",
    "#>>> pprint(texts)"
   ]
  },
  {
   "cell_type": "code",
   "execution_count": 132,
   "metadata": {
    "collapsed": false
   },
   "outputs": [
    {
     "name": "stdout",
     "output_type": "stream",
     "text": [
      "Dictionary(156 unique tokens: [u'all', u'playoffs', u'just', u'switched', u'over']...)\n"
     ]
    }
   ],
   "source": [
    ">>> dictionary = corpora.Dictionary(texts)\n",
    ">>> dictionary.save('/tmp/deerwester.dict') # store the dictionary, for future reference\n",
    ">>> print(dictionary)"
   ]
  },
  {
   "cell_type": "code",
   "execution_count": null,
   "metadata": {
    "collapsed": true
   },
   "outputs": [],
   "source": []
  },
  {
   "cell_type": "code",
   "execution_count": 129,
   "metadata": {
    "collapsed": false
   },
   "outputs": [],
   "source": [
    "#lda = ldamodel.LdaModel(list(verTweets['message']), num_topics=10)"
   ]
  },
  {
   "cell_type": "code",
   "execution_count": null,
   "metadata": {
    "collapsed": true
   },
   "outputs": [],
   "source": [
    "ldamodel."
   ]
  },
  {
   "cell_type": "code",
   "execution_count": 50,
   "metadata": {
    "collapsed": false
   },
   "outputs": [
    {
     "name": "stdout",
     "output_type": "stream",
     "text": [
      "Representative duplicate tweet: \n",
      "\n",
      "@dmb1031 Were you able to speak with a representative in order to look into this for you? ^Espy\n"
     ]
    }
   ],
   "source": [
    "print 'Representative duplicate tweet: \\n'\n",
    "print tweets.iloc[45185]['message']\n"
   ]
  },
  {
   "cell_type": "code",
   "execution_count": 328,
   "metadata": {
    "collapsed": false
   },
   "outputs": [
    {
     "name": "stdout",
     "output_type": "stream",
     "text": [
      "I always confuse @JetBlue crew members when I use this bag… “No I don’t work for JB… ish…”\n",
      "Wheels up to Boston! https://t.co/61fKRnYNpK\n",
      "\n",
      "number of dups: 1195\n",
      "\n"
     ]
    },
    {
     "data": {
      "text/html": [
       "<div>\n",
       "<table border=\"1\" class=\"dataframe\">\n",
       "  <thead>\n",
       "    <tr style=\"text-align: right;\">\n",
       "      <th></th>\n",
       "      <th>account</th>\n",
       "      <th>fromHandler</th>\n",
       "      <th>toHandler</th>\n",
       "      <th>message</th>\n",
       "      <th>timestamp</th>\n",
       "      <th>tweetId</th>\n",
       "    </tr>\n",
       "    <tr>\n",
       "      <th>id</th>\n",
       "      <th></th>\n",
       "      <th></th>\n",
       "      <th></th>\n",
       "      <th></th>\n",
       "      <th></th>\n",
       "      <th></th>\n",
       "    </tr>\n",
       "  </thead>\n",
       "  <tbody>\n",
       "    <tr>\n",
       "      <th>9259</th>\n",
       "      <td>@JetBlue</td>\n",
       "      <td>@paulgordonbrown</td>\n",
       "      <td>@JetBlue</td>\n",
       "      <td>I always confuse @JetBlue crew members when I ...</td>\n",
       "      <td>12/30/2015 16:47:02</td>\n",
       "      <td>NaN</td>\n",
       "    </tr>\n",
       "    <tr>\n",
       "      <th>9287</th>\n",
       "      <td>@JetBlue</td>\n",
       "      <td>@paulgordonbrown</td>\n",
       "      <td>@JetBlue</td>\n",
       "      <td>I always confuse @JetBlue crew members when I ...</td>\n",
       "      <td>12/30/2015 16:47:02</td>\n",
       "      <td>NaN</td>\n",
       "    </tr>\n",
       "    <tr>\n",
       "      <th>9317</th>\n",
       "      <td>@JetBlue</td>\n",
       "      <td>@paulgordonbrown</td>\n",
       "      <td>@JetBlue</td>\n",
       "      <td>I always confuse @JetBlue crew members when I ...</td>\n",
       "      <td>12/30/2015 16:47:02</td>\n",
       "      <td>NaN</td>\n",
       "    </tr>\n",
       "    <tr>\n",
       "      <th>9347</th>\n",
       "      <td>@JetBlue</td>\n",
       "      <td>@paulgordonbrown</td>\n",
       "      <td>@JetBlue</td>\n",
       "      <td>I always confuse @JetBlue crew members when I ...</td>\n",
       "      <td>12/30/2015 16:47:02</td>\n",
       "      <td>NaN</td>\n",
       "    </tr>\n",
       "    <tr>\n",
       "      <th>9373</th>\n",
       "      <td>@JetBlue</td>\n",
       "      <td>@paulgordonbrown</td>\n",
       "      <td>@JetBlue</td>\n",
       "      <td>I always confuse @JetBlue crew members when I ...</td>\n",
       "      <td>12/30/2015 16:47:02</td>\n",
       "      <td>NaN</td>\n",
       "    </tr>\n",
       "  </tbody>\n",
       "</table>\n",
       "</div>"
      ],
      "text/plain": [
       "       account       fromHandler toHandler  \\\n",
       "id                                           \n",
       "9259  @JetBlue  @paulgordonbrown  @JetBlue   \n",
       "9287  @JetBlue  @paulgordonbrown  @JetBlue   \n",
       "9317  @JetBlue  @paulgordonbrown  @JetBlue   \n",
       "9347  @JetBlue  @paulgordonbrown  @JetBlue   \n",
       "9373  @JetBlue  @paulgordonbrown  @JetBlue   \n",
       "\n",
       "                                                message            timestamp  \\\n",
       "id                                                                             \n",
       "9259  I always confuse @JetBlue crew members when I ...  12/30/2015 16:47:02   \n",
       "9287  I always confuse @JetBlue crew members when I ...  12/30/2015 16:47:02   \n",
       "9317  I always confuse @JetBlue crew members when I ...  12/30/2015 16:47:02   \n",
       "9347  I always confuse @JetBlue crew members when I ...  12/30/2015 16:47:02   \n",
       "9373  I always confuse @JetBlue crew members when I ...  12/30/2015 16:47:02   \n",
       "\n",
       "      tweetId  \n",
       "id             \n",
       "9259      NaN  \n",
       "9287      NaN  \n",
       "9317      NaN  \n",
       "9347      NaN  \n",
       "9373      NaN  "
      ]
     },
     "execution_count": 328,
     "metadata": {},
     "output_type": "execute_result"
    }
   ],
   "source": [
    "# Count the number of occurences of the above tweet\n",
    "\n",
    "print tweets.iloc[45194]['message']\n",
    "print\n",
    "msg1 = 'I always confuse @JetBlue crew members when I use this bag\\xe2\\x80\\xa6 \\xe2\\x80\\x9cNo I don\\xe2\\x80\\x99t work for JB\\xe2\\x80\\xa6 ish\\xe2\\x80\\xa6\\xe2\\x80\\x9d\\nWheels up to Boston! https://t.co/61fKRnYNpK'\n",
    "dups1 = tweets[tweets.message == msg1]\n",
    "print \"number of dups: \" + str(len(dups1)) + '\\n'\n",
    "dups1.head()\n"
   ]
  },
  {
   "cell_type": "code",
   "execution_count": 321,
   "metadata": {
    "collapsed": false
   },
   "outputs": [
    {
     "data": {
      "text/plain": [
       "1195"
      ]
     },
     "execution_count": 321,
     "metadata": {},
     "output_type": "execute_result"
    }
   ],
   "source": [
    "def dupCounter(msg):\n",
    "    \"\"\"Count the number of repeated tweets that match a given string\"\"\"\n",
    "    dups = tweets[tweets.message == msg]\n",
    "    dups.head()\n",
    "    return len(dups)\n",
    "\n",
    "dupCounter(tweets.iloc[45194]['message'])    "
   ]
  },
  {
   "cell_type": "code",
   "execution_count": 330,
   "metadata": {
    "collapsed": false
   },
   "outputs": [
    {
     "name": "stdout",
     "output_type": "stream",
     "text": [
      "number of unique tweets: 136\n"
     ]
    }
   ],
   "source": [
    "# Get all unique tweets\n",
    "\n",
    "uniqTweets = list(set(tweets['message']))\n",
    "\n",
    "print 'number of unique tweets: ' + str(len(uniqTweets))"
   ]
  },
  {
   "cell_type": "markdown",
   "metadata": {},
   "source": [
    "# Only 136 unique tweets. Something looks wrong."
   ]
  },
  {
   "cell_type": "code",
   "execution_count": 207,
   "metadata": {
    "collapsed": false
   },
   "outputs": [],
   "source": [
    "# For each unique tweet, count the number of duplicate tweets \n",
    "dupCounts = []\n",
    "\n",
    "for i in uniqTweets:\n",
    "    dupCounts.append(dupCounter(i))\n"
   ]
  },
  {
   "cell_type": "code",
   "execution_count": 331,
   "metadata": {
    "collapsed": false,
    "scrolled": true
   },
   "outputs": [
    {
     "data": {
      "image/png": "[encoded data removed]",
      "text/plain": [
       "<matplotlib.figure.Figure at 0x1139dd410>"
      ]
     },
     "metadata": {},
     "output_type": "display_data"
    }
   ],
   "source": [
    "#Plot the redundancy of tweets\n",
    "\n",
    "plt.bar([i for i in range(len(dupCounts))],dupCounts)\n",
    "plt.ylabel('Tweet redundancy',fontsize=16)\n",
    "#plt.title('duplicate tweets',fontsize=24)\n",
    "#plt.xlabel('unique tweets')\n",
    "#plt.bar([i for i in range(10)],range(10))\n",
    "\n",
    "plt.ylim([0,7000])\n",
    "\n",
    "plt.show()"
   ]
  },
  {
   "cell_type": "code",
   "execution_count": null,
   "metadata": {
    "collapsed": true
   },
   "outputs": [],
   "source": []
  },
  {
   "cell_type": "markdown",
   "metadata": {},
   "source": [
    "# Preliminary tweet cleaning"
   ]
  },
  {
   "cell_type": "code",
   "execution_count": null,
   "metadata": {
    "collapsed": false
   },
   "outputs": [],
   "source": []
  },
  {
   "cell_type": "code",
   "execution_count": 340,
   "metadata": {
    "collapsed": false
   },
   "outputs": [],
   "source": [
    "# To build a list of tweets coming from and to JetBlue\n",
    "\n",
    "toJetTweets   = list(set(tweets.loc[tweets.toHandler == '@JetBlue','message']))\n",
    "fromJetTweets = list(set(tweets.loc[tweets.toHandler != '@JetBlue','message']))"
   ]
  },
  {
   "cell_type": "code",
   "execution_count": 307,
   "metadata": {
    "collapsed": false
   },
   "outputs": [],
   "source": [
    "#[i.lower() for i in ' '.join(toJetTweets).split()]"
   ]
  },
  {
   "cell_type": "code",
   "execution_count": 241,
   "metadata": {
    "collapsed": false,
    "scrolled": true
   },
   "outputs": [
    {
     "name": "stderr",
     "output_type": "stream",
     "text": [
      "/Users/Peter/anaconda/lib/python2.7/site-packages/ipykernel/__main__.py:3: UnicodeWarning: Unicode equal comparison failed to convert both arguments to Unicode - interpreting them as being unequal\n",
      "  app.launch_new_instance()\n"
     ]
    }
   ],
   "source": [
    "wordList = [i.lower() for i in ' '.join(uniqTweets).split()]\n",
    "wordList = [i for i in wordList if i not in stopwords.words('english')]\n",
    "#filtWords = [i for i in skillList.split() if i not in stopwords.words('english')]"
   ]
  },
  {
   "cell_type": "code",
   "execution_count": 313,
   "metadata": {
    "collapsed": false
   },
   "outputs": [],
   "source": [
    "#wordList"
   ]
  },
  {
   "cell_type": "code",
   "execution_count": 246,
   "metadata": {
    "collapsed": false
   },
   "outputs": [],
   "source": [
    "freqWord = Counter(wordList).most_common(10)"
   ]
  },
  {
   "cell_type": "code",
   "execution_count": 317,
   "metadata": {
    "collapsed": false
   },
   "outputs": [
    {
     "name": "stderr",
     "output_type": "stream",
     "text": [
      "/Users/Peter/anaconda/lib/python2.7/site-packages/ipykernel/__main__.py:3: UnicodeWarning: Unicode equal comparison failed to convert both arguments to Unicode - interpreting them as being unequal\n",
      "  app.launch_new_instance()\n"
     ]
    },
    {
     "data": {
      "text/plain": [
       "[('flight', 20),\n",
       " ('sorry', 12),\n",
       " ('well', 12),\n",
       " ('please', 10),\n",
       " ('@jetblue', 10),\n",
       " ('hear', 10),\n",
       " ('us', 10),\n",
       " ('@1shirtsupport', 10),\n",
       " ('1/2', 9),\n",
       " ('delays', 9)]"
      ]
     },
     "execution_count": 317,
     "metadata": {},
     "output_type": "execute_result"
    }
   ],
   "source": [
    "def getFreqWords(tweetList,topWordThresh=10):\n",
    "    wordList = [i.lower() for i in ' '.join(tweetList).split()]\n",
    "    wordList = [i for i in wordList if i not in stopwords.words('english')]\n",
    "    return Counter(wordList).most_common(topWordThresh)\n",
    "getFreqWords(uniqTweets)"
   ]
  },
  {
   "cell_type": "code",
   "execution_count": 347,
   "metadata": {
    "collapsed": false
   },
   "outputs": [
    {
     "data": {
      "text/plain": [
       "['@JetBlue Ive now spent 12% of my flight time waiting at the carousel in JFK. I flew from San Diego! Unacceptable.',\n",
       " 'Love when the @JetBlue worker tells me over the phone I have a window seat, but it turns out I dont and I really NEEDED to SLEEP on flight.',\n",
       " 'I always confuse @JetBlue crew members when I use this bag\\xe2\\x80\\xa6 \\xe2\\x80\\x9cNo I don\\xe2\\x80\\x99t work for JB\\xe2\\x80\\xa6 ish\\xe2\\x80\\xa6\\xe2\\x80\\x9d\\nWheels up to Boston! https://t.co/61fKRnYNpK',\n",
       " 'Think Ill make my 6:50am @JetBlue flight out of Ft Lauderdale airport? @MiamiHerald @Tomas_Regalado https://t.co/RPlcrcwzTA',\n",
       " '@JetBlue Just DMd you. Thx for replying, thats why I always fly with yall.',\n",
       " '@JetBlue wheres the crew for flight 922? Been like half an hour past boarding time and their not here yet ??????']"
      ]
     },
     "execution_count": 347,
     "metadata": {},
     "output_type": "execute_result"
    }
   ],
   "source": [
    "uniqTweets\n",
    "toJetTweets"
   ]
  },
  {
   "cell_type": "code",
   "execution_count": 351,
   "metadata": {
    "collapsed": false
   },
   "outputs": [
    {
     "name": "stderr",
     "output_type": "stream",
     "text": [
      "/Users/Peter/anaconda/lib/python2.7/site-packages/ipykernel/__main__.py:3: UnicodeWarning: Unicode equal comparison failed to convert both arguments to Unicode - interpreting them as being unequal\n",
      "  app.launch_new_instance()\n"
     ]
    },
    {
     "data": {
      "image/png": "[encoded data removed]",
      "text/plain": [
       "<matplotlib.figure.Figure at 0x119c42f10>"
      ]
     },
     "metadata": {},
     "output_type": "display_data"
    }
   ],
   "source": [
    "def plotFreqWords(freqWords):\n",
    "    fig = plt.figure(figsize=(5,4), dpi=1600)\n",
    "    ax = fig.add_subplot(111)\n",
    "\n",
    "    plt.bar([i for i in range(10)],[i[1] for i in freqWords],alpha=0.7)\n",
    "    plt.xticks([i+0.5  for i in range(10)], [i[0] for i in freqWords], rotation='vertical')\n",
    "\n",
    "    ax.set_xticklabels([i[0] for i in freqWords],rotation=45,ha='right')\n",
    "    ax.set_ylim(0,25)\n",
    "    ax.set_ylabel('Word Frequency',fontsize=16)\n",
    "\n",
    "    plt.show()\n",
    "    \n",
    "plotFreqWords(getFreqWords(fromJetTweets))"
   ]
  },
  {
   "cell_type": "code",
   "execution_count": 281,
   "metadata": {
    "collapsed": false
   },
   "outputs": [
    {
     "data": {
      "image/png": "[encoded data removed]",
      "text/plain": [
       "<matplotlib.figure.Figure at 0x11374cb50>"
      ]
     },
     "metadata": {},
     "output_type": "display_data"
    }
   ],
   "source": [
    "fig = plt.figure(figsize=(5,4), dpi=1600)\n",
    "ax = fig.add_subplot(111)\n",
    "\n",
    "\n",
    "plt.bar([i for i in range(10)],[i[1] for i in freqWord],alpha=0.7)\n",
    "plt.xticks([i+0.5  for i in range(10)], [i[0] for i in freqWord], rotation='vertical')\n",
    "\n",
    "ax.set_xticklabels([i[0] for i in freqWord],rotation=45,ha='right')\n",
    "ax.set_ylim(0,25)\n",
    "ax.set_ylabel('Word Frequency',fontsize=16)\n",
    "\n",
    "plt.show()"
   ]
  },
  {
   "cell_type": "code",
   "execution_count": null,
   "metadata": {
    "collapsed": true
   },
   "outputs": [],
   "source": []
  },
  {
   "cell_type": "code",
   "execution_count": 372,
   "metadata": {
    "collapsed": false
   },
   "outputs": [
    {
     "name": "stdout",
     "output_type": "stream",
     "text": [
      "RT @1ShirtSupport: Tomorrows #TriviaTakeover once again! Well be giving away a random (size Large) T-Shirt, AND another poster thanks to …\n"
     ]
    }
   ],
   "source": [
    "for i in uniqTweets:\n",
    "    if 'thanks' in i:\n",
    "        print i\n",
    "    "
   ]
  },
  {
   "cell_type": "code",
   "execution_count": null,
   "metadata": {
    "collapsed": true
   },
   "outputs": [],
   "source": []
  },
  {
   "cell_type": "code",
   "execution_count": null,
   "metadata": {
    "collapsed": true
   },
   "outputs": [],
   "source": [
    "x = [1, 2, 3, 4]\n",
    "y = [1, 4, 9, 6]\n",
    "labels = ['Frogs', 'Hogs', 'Bogs', 'Slogs']\n",
    "\n",
    "plt.plot(x, y, 'ro')\n",
    "# You can specify a rotation for the tick labels in degrees or with keywords.\n",
    "plt.xticks(x, labels, rotation='vertical')\n",
    "# Pad margins so that markers don't get clipped by the axes\n",
    "plt.margins(0.2)\n",
    "# Tweak spacing to prevent clipping of tick-labels\n",
    "plt.subplots_adjust(bottom=0.15)\n",
    "plt.show()"
   ]
  },
  {
   "cell_type": "code",
   "execution_count": 248,
   "metadata": {
    "collapsed": false
   },
   "outputs": [
    {
     "data": {
      "text/plain": [
       "10"
      ]
     },
     "execution_count": 248,
     "metadata": {},
     "output_type": "execute_result"
    }
   ],
   "source": [
    "[len(freqWord)]"
   ]
  },
  {
   "cell_type": "code",
   "execution_count": null,
   "metadata": {
    "collapsed": true
   },
   "outputs": [],
   "source": []
  },
  {
   "cell_type": "code",
   "execution_count": 230,
   "metadata": {
    "collapsed": false
   },
   "outputs": [
    {
     "data": {
      "text/plain": [
       "[('the', 72),\n",
       " ('to', 68),\n",
       " ('for', 51),\n",
       " ('you', 39),\n",
       " ('your', 37),\n",
       " ('a', 36),\n",
       " ('and', 27),\n",
       " ('We', 26),\n",
       " ('of', 23),\n",
       " ('that', 22),\n",
       " ('is', 22),\n",
       " ('flight', 20),\n",
       " ('on', 19),\n",
       " ('we', 18),\n",
       " ('are', 17),\n",
       " ('Were', 16),\n",
       " ('in', 16),\n",
       " ('an', 16),\n",
       " ('can', 15),\n",
       " ('our', 15),\n",
       " ('out', 13),\n",
       " ('have', 13),\n",
       " ('I', 13),\n",
       " ('be', 11),\n",
       " ('with', 11),\n",
       " ('@JetBlue', 10),\n",
       " ('@1ShirtSupport', 10),\n",
       " ('hear', 10),\n",
       " ('us', 10),\n",
       " ('at', 10),\n",
       " ('1/2', 9),\n",
       " ('Please', 9),\n",
       " ('Sorry', 9),\n",
       " ('it', 9),\n",
       " ('from', 9),\n",
       " ('weather', 9),\n",
       " ('so', 8),\n",
       " ('its', 8),\n",
       " ('Thanks', 8),\n",
       " ('DM', 8),\n",
       " ('not', 8),\n",
       " ('2/2', 8),\n",
       " ('happy', 8),\n",
       " ('you.', 8),\n",
       " ('waiting', 7),\n",
       " ('airport', 7),\n",
       " ('departure', 7),\n",
       " ('flight.', 7),\n",
       " ('If', 7),\n",
       " ('know', 7),\n",
       " ('about', 7),\n",
       " ('there', 7),\n",
       " ('time', 7),\n",
       " ('The', 6),\n",
       " ('??', 6),\n",
       " ('RT', 6),\n",
       " ('crew', 6),\n",
       " ('reach', 6),\n",
       " ('up', 6),\n",
       " ('crewmembers', 6),\n",
       " ('will', 6),\n",
       " ('well', 6),\n",
       " ('way', 6),\n",
       " ('Well', 6),\n",
       " ('but', 6),\n",
       " ('when', 6),\n",
       " ('updated', 5),\n",
       " ('look', 5),\n",
       " ('this', 5),\n",
       " ('@Mike_Gramajo', 5),\n",
       " ('get', 5),\n",
       " ('@JSA1987', 5),\n",
       " ('over', 5),\n",
       " ('were', 5),\n",
       " ('any', 5),\n",
       " ('take', 5),\n",
       " ('delays', 5),\n",
       " ('You', 5),\n",
       " ('just', 5),\n",
       " ('like', 5),\n",
       " ('was', 5),\n",
       " ('delayed', 5),\n",
       " ('show', 4),\n",
       " ('confirmation', 4),\n",
       " ('wait', 4),\n",
       " ('working', 4),\n",
       " ('more', 4),\n",
       " ('give', 4),\n",
       " ('@turms19', 4),\n",
       " ('What', 4),\n",
       " ('into', 4),\n",
       " ('Glad', 4),\n",
       " ('latest', 4),\n",
       " ('Its', 4),\n",
       " ('see', 4),\n",
       " ('youre', 4),\n",
       " ('It', 4),\n",
       " ('Burgie', 4),\n",
       " ('crewmember', 4),\n",
       " ('PM.', 4),\n",
       " ('@rp3_22', 4),\n",
       " ('Delays', 4),\n",
       " ('check', 4),\n",
       " ('details', 4),\n",
       " ('code', 3),\n",
       " (':)', 3),\n",
       " ('sorry', 3),\n",
       " ('Just', 3),\n",
       " ('estimated', 3),\n",
       " ('never', 3),\n",
       " ('love', 3),\n",
       " ('Our', 3),\n",
       " ('my', 3),\n",
       " ('want', 3),\n",
       " ('delay', 3),\n",
       " ('how', 3),\n",
       " ('now', 3),\n",
       " ('always', 3),\n",
       " ('did', 3),\n",
       " ('Which', 3),\n",
       " ('days', 3),\n",
       " ('dont', 3),\n",
       " ('There', 3),\n",
       " ('their', 3),\n",
       " ('carousel', 3),\n",
       " ('@sammy_butler', 3),\n",
       " ('able', 3),\n",
       " ('patience.', 3),\n",
       " ('patience,', 3),\n",
       " ('@Jeff_Harris_NZ', 3),\n",
       " ('do', 3),\n",
       " ('@GameGrumps', 3),\n",
       " ('arrival', 3),\n",
       " ('Thats', 3),\n",
       " ('due', 3),\n",
       " ('information', 3),\n",
       " ('if', 3),\n",
       " ('Ill', 3),\n",
       " ('lower', 3),\n",
       " ('Is', 3),\n",
       " ('@ACordov1', 3),\n",
       " ('@zacxwolf', 3),\n",
       " ('info.', 3),\n",
       " ('additional', 3),\n",
       " ('why', 3),\n",
       " ('you,', 3),\n",
       " ('as', 3),\n",
       " ('@js_N_Y_C', 3),\n",
       " ('really', 3),\n",
       " ('tonight.', 3),\n",
       " ('all', 2),\n",
       " ('@tylerOeaster', 2),\n",
       " ('issues', 2),\n",
       " ('Hi', 2),\n",
       " ('And', 2),\n",
       " ('keeping', 2),\n",
       " ('@itsKizzleBtch', 2),\n",
       " ('got', 2),\n",
       " ('today.', 2),\n",
       " ('@united', 2),\n",
       " ('experiencing', 2),\n",
       " ('burger', 2),\n",
       " ('what', 2),\n",
       " ('giving', 2),\n",
       " ('current', 2),\n",
       " ('new', 2),\n",
       " ('shirt!', 2),\n",
       " ('@mikemurdock703', 2),\n",
       " ('here', 2),\n",
       " ('great', 2),\n",
       " ('@Jack_Septic_Eye', 2),\n",
       " ('honor', 2),\n",
       " ('thats', 2),\n",
       " ('use', 2),\n",
       " ('two', 2),\n",
       " ('by', 2),\n",
       " ('few', 2),\n",
       " ('updates?', 2),\n",
       " ('flying', 2),\n",
       " ('updates.', 2),\n",
       " ('Mike.', 2),\n",
       " ('glad', 2),\n",
       " ('could', 2),\n",
       " ('flights', 2),\n",
       " ('awesome', 2),\n",
       " ('travel', 2),\n",
       " ('may', 2),\n",
       " ('Will', 2),\n",
       " ('1-800-JETBLUE', 2),\n",
       " ('plane', 2),\n",
       " ('hear!', 2),\n",
       " ('coming', 2),\n",
       " ('number?', 2),\n",
       " ('appreciate', 2),\n",
       " ('@WRC_of_NY', 2),\n",
       " ('@____alyssa', 2),\n",
       " ('@ecarruthersjr', 2),\n",
       " ('weather?', 2),\n",
       " ('ticket', 2),\n",
       " ('looks', 2),\n",
       " ('@mlarosa84', 2),\n",
       " ('before', 2),\n",
       " ('@rubzica', 2),\n",
       " ('it.', 2),\n",
       " ('them', 2),\n",
       " ('Dominican', 2),\n",
       " ('look.', 2),\n",
       " ('it!', 2),\n",
       " ('they', 2),\n",
       " ('arriving', 2),\n",
       " ('Control', 2),\n",
       " ('doesnt', 2),\n",
       " ('Scottish', 2),\n",
       " ('fare', 2),\n",
       " ('Inflight', 2),\n",
       " ('@andrewctran', 2),\n",
       " ('hard', 2),\n",
       " ('time.', 2),\n",
       " ('day!', 2),\n",
       " ('ask', 2),\n",
       " ('number', 2),\n",
       " ('another', 2),\n",
       " ('asap.', 2),\n",
       " ('inflight', 2),\n",
       " ('@chris4851', 2),\n",
       " ('Crap', 2),\n",
       " ('tonight', 2),\n",
       " ('need', 2),\n",
       " ('sure', 2),\n",
       " ('that.', 2),\n",
       " ('most', 2),\n",
       " ('Whats', 2),\n",
       " ('especially', 2),\n",
       " ('@Juls7826L', 2),\n",
       " ('definitely', 2),\n",
       " ('@LaryssaStecyk', 2),\n",
       " ('should', 2),\n",
       " ('only', 2),\n",
       " ('Traffic', 2),\n",
       " ('pretty', 2),\n",
       " ('means', 2),\n",
       " ('flight!', 2),\n",
       " ('delay.', 2),\n",
       " ('where', 2),\n",
       " ('flight?', 2),\n",
       " ('best', 2),\n",
       " ('youll', 2),\n",
       " ('PM', 2),\n",
       " ('Jeff.', 2),\n",
       " ('aircraft', 2),\n",
       " ('come', 2),\n",
       " ('Give', 2),\n",
       " ('ETD', 2),\n",
       " ('understand', 2),\n",
       " ('air', 2),\n",
       " ('airline,', 2),\n",
       " ('frustrating', 2),\n",
       " ('would', 2),\n",
       " ('Better', 2),\n",
       " ('arrive.', 2),\n",
       " ('inconvenience,', 2),\n",
       " ('make', 2),\n",
       " ('10:30', 2),\n",
       " ('@OkayRene', 2),\n",
       " ('status', 2),\n",
       " ('assist', 2),\n",
       " ('Thank', 2),\n",
       " ('-', 2),\n",
       " ('@Niagarcia03', 2),\n",
       " ('had', 2),\n",
       " ('@slidingsideways', 2),\n",
       " ('excited', 2),\n",
       " ('Air', 2),\n",
       " ('Try', 2),\n",
       " ('bit', 2),\n",
       " ('@clawng', 2),\n",
       " ('specific', 2),\n",
       " ('@simplerevolt', 2),\n",
       " ('Are', 2),\n",
       " ('right', 2),\n",
       " ('some', 2),\n",
       " ('patience!', 2),\n",
       " ('per', 2),\n",
       " ('frustration,', 2),\n",
       " ('or', 2),\n",
       " ('book', 2),\n",
       " ('apologize', 2),\n",
       " ('area', 2),\n",
       " ('inconvenience.', 2),\n",
       " ('long', 2),\n",
       " ('across', 2),\n",
       " ('wait,', 2),\n",
       " ('How', 2),\n",
       " ('delays.', 2),\n",
       " ('@KibsKelble', 2),\n",
       " ('update', 2),\n",
       " ('happy,', 1),\n",
       " ('update.', 1),\n",
       " ('caused', 1),\n",
       " ('lack', 1),\n",
       " ('alternatives', 1),\n",
       " (':o', 1),\n",
       " ('selfie,', 1),\n",
       " ('holders.', 1),\n",
       " ('@IranCampana', 1),\n",
       " ('Republic', 1),\n",
       " ('(if', 1),\n",
       " ('hanging', 1),\n",
       " ('go', 1),\n",
       " ('Scheduled', 1),\n",
       " ('...all', 1),\n",
       " ('up,', 1),\n",
       " ('Hooray!', 1),\n",
       " ('zone', 1),\n",
       " ('tweet', 1),\n",
       " ('send', 1),\n",
       " ('Not', 1),\n",
       " ('pay', 1),\n",
       " ('enjoying', 1),\n",
       " ('@MJuricaWFTV', 1),\n",
       " ('JB\\xe2\\x80\\xa6', 1),\n",
       " ('very', 1),\n",
       " ('@TTerryWFTV', 1),\n",
       " ('rise', 1),\n",
       " ('every', 1),\n",
       " ('updates', 1),\n",
       " ('today!', 1),\n",
       " ('Wheels', 1),\n",
       " ('today,', 1),\n",
       " ('help.', 1),\n",
       " ('help,', 1),\n",
       " ('try', 1),\n",
       " ('Dominic.', 1),\n",
       " ('9:25', 1),\n",
       " ('team', 1),\n",
       " ('havent', 1),\n",
       " ('https://t.co/evgIPUnCun', 1),\n",
       " ('LAS', 1),\n",
       " ('cookies', 1),\n",
       " ('purchased.', 1),\n",
       " ('Denver', 1),\n",
       " ('@aaronjperez', 1),\n",
       " ('past', 1),\n",
       " ('likely', 1),\n",
       " ('A', 1),\n",
       " ('Smh', 1),\n",
       " ('that,', 1),\n",
       " ('Has', 1),\n",
       " ('+', 1),\n",
       " ('(which', 1),\n",
       " ('@katinka118', 1),\n",
       " ('compliments!', 1),\n",
       " ('@Jack_Septic_Eye:', 1),\n",
       " ('lel', 1),\n",
       " ('forgive', 1),\n",
       " ('tolerable.', 1),\n",
       " ('let', 1),\n",
       " ('making', 1),\n",
       " ('path', 1),\n",
       " ('@MiamiHerald', 1),\n",
       " ('lol', 1),\n",
       " ('attitude!', 1),\n",
       " ('items', 1),\n",
       " ('Weston!', 1),\n",
       " ('experience', 1),\n",
       " ('Your', 1),\n",
       " ('@TheRealKirkA', 1),\n",
       " ('through', 1),\n",
       " ('usually', 1),\n",
       " ('changes', 1),\n",
       " ('up-to-date', 1),\n",
       " ('case,', 1),\n",
       " ('...weather-related', 1),\n",
       " ('extra', 1),\n",
       " ('When', 1),\n",
       " ('@juliannabuck', 1),\n",
       " ('patience', 1),\n",
       " ('plane!', 1),\n",
       " ('case?', 1),\n",
       " ('1st', 1),\n",
       " ('apply', 1),\n",
       " ('fee', 1),\n",
       " ('Ft', 1),\n",
       " ('&', 1),\n",
       " ('@jongad1', 1),\n",
       " ('positive', 1),\n",
       " ('11:45', 1),\n",
       " ('destination', 1),\n",
       " ('visit', 1),\n",
       " ('holidays.', 1),\n",
       " ('call', 1),\n",
       " ('until', 1),\n",
       " ('passport', 1),\n",
       " ('tell', 1),\n",
       " ('1/3', 1),\n",
       " ('name', 1),\n",
       " ('@AaronMShaffer', 1),\n",
       " ('fly', 1),\n",
       " ('potentially', 1),\n",
       " ('Patrick.', 1),\n",
       " ('phone', 1),\n",
       " ('GORGEOUS!', 1),\n",
       " ('Time', 1),\n",
       " ('hold', 1),\n",
       " ('must', 1),\n",
       " ('me', 1),\n",
       " ('@ElleAyDoubleYou', 1),\n",
       " ('account', 1),\n",
       " ('field!', 1),\n",
       " ('hour', 1),\n",
       " ('us.', 1),\n",
       " ('work', 1),\n",
       " ('(shared', 1),\n",
       " ('anywhere', 1),\n",
       " ('Princess?', 1),\n",
       " ('us?', 1),\n",
       " ('arrive', 1),\n",
       " ('replying,', 1),\n",
       " ('crazy', 1),\n",
       " ('3ish', 1),\n",
       " ('stream', 1),\n",
       " ('Rene.', 1),\n",
       " ('Annabella.', 1),\n",
       " ('states', 1),\n",
       " ('cause.', 1),\n",
       " ('pulling', 1),\n",
       " ('something', 1),\n",
       " ('Stephanie,', 1),\n",
       " ('legroom', 1),\n",
       " ('bag?', 1),\n",
       " ('https://t.co/pfOCUnSbwF', 1),\n",
       " ('security.', 1),\n",
       " ('ONE', 1),\n",
       " ('arriving...', 1),\n",
       " ('awesome.', 1),\n",
       " ('assistance.', 1),\n",
       " ('issued,', 1),\n",
       " ('@CyndyNayer', 1),\n",
       " ('system.', 1),\n",
       " ('after', 1),\n",
       " ('$250', 1),\n",
       " ('awesome!', 1),\n",
       " ('@GillyAnnandale:', 1),\n",
       " ('Compensation', 1),\n",
       " ('date', 1),\n",
       " ('booking,', 1),\n",
       " ('guys', 1),\n",
       " ('response', 1),\n",
       " ('train!', 1),\n",
       " ('tweeting', 1),\n",
       " ('counter', 1),\n",
       " ('One', 1),\n",
       " ('baggage', 1),\n",
       " ('6:50am', 1),\n",
       " ('frustrating.', 1),\n",
       " ('turns', 1),\n",
       " ('jack', 1),\n",
       " ('JFK', 1),\n",
       " ('help', 1),\n",
       " ('office', 1),\n",
       " ('effect.', 1),\n",
       " ('no!', 1),\n",
       " ('@stopitdee', 1),\n",
       " ('weather,', 1),\n",
       " ('view.', 1),\n",
       " ('still', 1),\n",
       " ('@shawesum', 1),\n",
       " ('...kept', 1),\n",
       " ('airport?', 1),\n",
       " ('notified.', 1),\n",
       " ('#TriviaTakeover', 1),\n",
       " ('Thanks.', 1),\n",
       " ('window', 1),\n",
       " ('willing', 1),\n",
       " ('Evan', 1),\n",
       " ('rough.', 1),\n",
       " ('airport.', 1),\n",
       " ('weeks', 1),\n",
       " ('holiday', 1),\n",
       " ('in...', 1),\n",
       " ('within', 1),\n",
       " ('(size', 1),\n",
       " ('confuse', 1),\n",
       " ('@Todd530:', 1),\n",
       " ('sooner', 1),\n",
       " ('mention', 1),\n",
       " ('happened?', 1),\n",
       " ('Nick.', 1),\n",
       " ('half', 1),\n",
       " ('look?', 1),\n",
       " ('...youre', 1),\n",
       " ('kids.', 1),\n",
       " ('@zbpolin', 1),\n",
       " ('San', 1),\n",
       " ('@Airababyfullam', 1),\n",
       " ('@annabellae', 1),\n",
       " ('found', 1),\n",
       " ('Sounds', 1),\n",
       " ('quarter', 1),\n",
       " ('already...', 1),\n",
       " ('notes', 1),\n",
       " ('-...', 1),\n",
       " (':/', 1),\n",
       " ('correct,', 1),\n",
       " ('related', 1),\n",
       " ('@cchiavetta', 1),\n",
       " ('yes.', 1),\n",
       " ('Boston.', 1),\n",
       " ('factors', 1),\n",
       " ('ish\\xe2\\x80\\xa6\\xe2\\x80\\x9d', 1),\n",
       " ('since', 1),\n",
       " ('include', 1),\n",
       " ('anyone...', 1),\n",
       " ('time!', 1),\n",
       " ('gate', 1),\n",
       " ('https://t.c\\xe2\\x80\\xa6', 1),\n",
       " ('little', 1),\n",
       " ('possibility', 1),\n",
       " ('members', 1),\n",
       " ('them.', 1),\n",
       " ('card', 1),\n",
       " ('Getaways', 1),\n",
       " ('advance', 1),\n",
       " ('experiencing...', 1),\n",
       " ('https://t.co/qawsoUJUGt', 1),\n",
       " ('route', 1),\n",
       " ('@AuthorAkansha:', 1),\n",
       " ('times', 1),\n",
       " ('thing', 1),\n",
       " ('@mjonesTO', 1),\n",
       " ('Even', 1),\n",
       " ('already', 1),\n",
       " ('too!', 1),\n",
       " ('too.', 1),\n",
       " ('one', 1),\n",
       " ('Start', 1),\n",
       " ('notify', 1),\n",
       " ('have.', 1),\n",
       " ('Elizabeth.', 1),\n",
       " ('city', 1),\n",
       " ('service', 1),\n",
       " ('Nature', 1),\n",
       " ('family.', 1),\n",
       " ('system', 1),\n",
       " ('anyone', 1),\n",
       " ('Ive', 1),\n",
       " ('too', 1),\n",
       " ('final', 1),\n",
       " ('listed', 1),\n",
       " ('destination,', 1),\n",
       " ('much!', 1),\n",
       " ('delicious!', 1),\n",
       " ('on,', 1),\n",
       " ('credit:', 1),\n",
       " ('on!', 1),\n",
       " ('on?', 1),\n",
       " ('included.', 1),\n",
       " ('@PatrickM254', 1),\n",
       " ('necessarily.', 1),\n",
       " ('information.', 1),\n",
       " ('@OtotheBeirne:', 1),\n",
       " ('king', 1),\n",
       " ('Love', 1),\n",
       " ('14', 1),\n",
       " ('seat,', 1),\n",
       " ('don\\xe2\\x80\\x99t', 1),\n",
       " ('compensation', 1),\n",
       " ('opens', 1),\n",
       " ('worked,', 1),\n",
       " ('@photopickles', 1),\n",
       " ('Unacceptable.', 1),\n",
       " ('room.', 1),\n",
       " ('experience.', 1),\n",
       " ('customers!', 1),\n",
       " ('head', 1),\n",
       " ('spent', 1),\n",
       " ('well!', 1),\n",
       " ('@NYJETLIFE', 1),\n",
       " ('Then', 1),\n",
       " ('Twitter,', 1),\n",
       " ('hub', 1),\n",
       " ('@westonbaker', 1),\n",
       " ('After', 1),\n",
       " ('able...', 1),\n",
       " ('other', 1),\n",
       " ('Drats!', 1),\n",
       " ('which', 1),\n",
       " ('often?', 1),\n",
       " ('switching', 1),\n",
       " ('service...', 1),\n",
       " ('even', 1),\n",
       " ('yall.', 1),\n",
       " ('shall', 1),\n",
       " ('Wish', 1),\n",
       " ('knew', 1),\n",
       " ('season...', 1),\n",
       " ('you!', 1),\n",
       " ('@jcalabrese87', 1),\n",
       " ('lots', 1),\n",
       " ('difficulties.', 1),\n",
       " ('T-Shirt,', 1),\n",
       " ('clearance', 1),\n",
       " ('@NickArnheim', 1),\n",
       " ('request', 1),\n",
       " ('??????', 1),\n",
       " ('bag\\xe2\\x80\\xa6', 1),\n",
       " ('bins', 1),\n",
       " ('link', 1),\n",
       " ('Wow!', 1),\n",
       " ('saying', 1),\n",
       " ('bomb', 1),\n",
       " ('Wed', 1),\n",
       " ('random', 1),\n",
       " ('https://t.co/9DVkaUgdOn', 1),\n",
       " ('Large)', 1),\n",
       " ('@chemdivaSITech', 1),\n",
       " ('@sillymeeeee', 1),\n",
       " ('fine', 1),\n",
       " ('cache,', 1),\n",
       " ('with,', 1),\n",
       " ('busy', 1),\n",
       " ('based', 1),\n",
       " ('movie!', 1),\n",
       " ('original', 1),\n",
       " ('Lots', 1),\n",
       " ('announce', 1),\n",
       " ('@LizgarciaSells', 1),\n",
       " ('he', 1),\n",
       " ('know!', 1),\n",
       " ('12%', 1),\n",
       " ('Enjoy!', 1),\n",
       " ('stop', 1),\n",
       " ('soon', 1),\n",
       " ('10:42', 1),\n",
       " ('3/3', 1),\n",
       " ('during', 1),\n",
       " ('bags', 1),\n",
       " ('...Depending', 1),\n",
       " ('@heyheyman', 1),\n",
       " ('Fly-Fi', 1),\n",
       " ('man,', 1),\n",
       " ('Rosemari.', 1),\n",
       " ('https://t.co/IUwsJjt9CS', 1),\n",
       " ('bag', 1),\n",
       " ('sky?', 1),\n",
       " ('Allen', 1),\n",
       " ('@ddelmoli', 1),\n",
       " ('https://t.co/KEIgcuFFIL', 1),\n",
       " ('customer', 1),\n",
       " ('learn', 1),\n",
       " ('city.', 1),\n",
       " ('city,', 1),\n",
       " ('Nov.', 1),\n",
       " ('Question', 1),\n",
       " ('Fog', 1),\n",
       " ('@cmg799', 1),\n",
       " ('weather.', 1),\n",
       " ('end.', 1),\n",
       " ('for?', 1),\n",
       " ('DMd', 1),\n",
       " ('@rosemariochoa', 1),\n",
       " ('clearing', 1),\n",
       " ('away', 1),\n",
       " ('@AlfieAlfonzo', 1),\n",
       " ('please', 1),\n",
       " ('tho,', 1),\n",
       " ('Anytime!', 1),\n",
       " ('...and', 1),\n",
       " ('Lauderdale', 1),\n",
       " ('@LittleFootLady', 1),\n",
       " ('helps.', 1),\n",
       " ('operations,', 1),\n",
       " ('customer.', 1),\n",
       " ('date,', 1),\n",
       " ('condolences.', 1),\n",
       " ('omg', 1),\n",
       " ('creating', 1),\n",
       " ('@lladkins', 1),\n",
       " ('initially', 1),\n",
       " ('https:\\xe2\\x80\\xa6', 1),\n",
       " ('????????', 1),\n",
       " ('add', 1),\n",
       " ('AND', 1),\n",
       " ('JFK.', 1),\n",
       " ('Jason', 1),\n",
       " ('many', 1),\n",
       " ('against', 1),\n",
       " ('JFK?', 1),\n",
       " ('Unfortunately,', 1),\n",
       " ('9:00', 1),\n",
       " ('comes', 1),\n",
       " ('considering', 1),\n",
       " ('30th', 1),\n",
       " ('Adam?', 1),\n",
       " ('Oh', 1),\n",
       " ('Each', 1),\n",
       " ('travels!', 1),\n",
       " ('ETA', 1),\n",
       " ('fun!', 1),\n",
       " ('Adam.', 1),\n",
       " ('fun,', 1),\n",
       " ('throughout', 1),\n",
       " ('@wdelmolino', 1),\n",
       " ('speak', 1),\n",
       " ('now,', 1),\n",
       " ('say,', 1),\n",
       " ('TrueBlue', 1),\n",
       " ('Space', 1),\n",
       " ('https://t.co/2OBkYKYkQp', 1),\n",
       " ('been', 1),\n",
       " ('Most', 1),\n",
       " ('$300', 1),\n",
       " ('is....', 1),\n",
       " ('domino', 1),\n",
       " ('pm', 1),\n",
       " ('check.', 1),\n",
       " ('worker', 1),\n",
       " ('@CarieBrdshaw', 1),\n",
       " ('worked', 1),\n",
       " ('is...', 1),\n",
       " ('@UygEv2015', 1),\n",
       " ('Chris.', 1),\n",
       " ('case', 1),\n",
       " ('@Tomas_Regalado', 1),\n",
       " ('ASAP.', 1),\n",
       " ('Dont', 1),\n",
       " ('plans.', 1),\n",
       " ('leave', 1),\n",
       " ('originate', 1),\n",
       " ('\\xe2\\x80\\x9cNo', 1),\n",
       " ('expiration', 1),\n",
       " ('@_yxngmami', 1),\n",
       " ('fun', 1),\n",
       " ('theres', 1),\n",
       " ('Wendy?', 1),\n",
       " ('@BShieldsWFTV', 1),\n",
       " ('$75.', 1),\n",
       " ('person.', 1),\n",
       " ('90', 1),\n",
       " ('working?', 1),\n",
       " ('expedited', 1),\n",
       " ('different', 1),\n",
       " ('Weve', 1),\n",
       " ('room,', 1),\n",
       " ('shirt', 1),\n",
       " ('perhaps', 1),\n",
       " ('suggest', 1),\n",
       " ('Cant', 1),\n",
       " ('away!', 1),\n",
       " ('tells', 1),\n",
       " ('Did', 1),\n",
       " ('raining.', 1),\n",
       " ('claim?', 1),\n",
       " ('peoples', 1),\n",
       " ('inch', 1),\n",
       " ('start', 1),\n",
       " ('difficult', 1),\n",
       " ('Maybe', 1),\n",
       " ('hang', 1),\n",
       " ('moment', 1),\n",
       " ('9:55', 1),\n",
       " ('flew', 1),\n",
       " ('Youve', 1),\n",
       " ('fun.', 1),\n",
       " ('(538-2583).', 1),\n",
       " ('however,', 1),\n",
       " ('wheres', 1),\n",
       " ('early', 1),\n",
       " ('will.', 1),\n",
       " ('off', 1),\n",
       " ('standby.', 1),\n",
       " ('@booksthatmatter', 1),\n",
       " ('it?', 1),\n",
       " ('yet.', 1),\n",
       " ('up-to-date).', 1),\n",
       " ('contact', 1),\n",
       " ('Im', 1),\n",
       " ('Have', 1),\n",
       " ('Kerri.', 1),\n",
       " ('Diego!', 1),\n",
       " ('being', 1),\n",
       " ('Mother', 1),\n",
       " ('1786', 1),\n",
       " ('assigned', 1),\n",
       " ('Wonderful', 1),\n",
       " ('thanks', 1),\n",
       " ('itinerary.', 1),\n",
       " ('yet', 1),\n",
       " ('previous', 1),\n",
       " ('Be', 1),\n",
       " ('Nick!', 1),\n",
       " ('wed', 1),\n",
       " ('#Cheers', 1),\n",
       " ('causing', 1),\n",
       " ('9:31', 1),\n",
       " ('additional...', 1),\n",
       " ('Current', 1),\n",
       " ('has', 1),\n",
       " ('surprised', 1),\n",
       " ('@stephiscope', 1),\n",
       " ('scheduled', 1),\n",
       " ('know...', 1),\n",
       " ('increased', 1),\n",
       " ('government', 1),\n",
       " ('922?', 1),\n",
       " ('@nickjohnsonCNN', 1),\n",
       " ('process.', 1),\n",
       " ('suck.', 1),\n",
       " ('...delays,', 1),\n",
       " ('6:08', 1),\n",
       " ('#bestcustomeraward', 1),\n",
       " ('#unitedsucks', 1),\n",
       " ('world', 1),\n",
       " ('dates,', 1),\n",
       " ('thank-you', 1),\n",
       " ('showing', 1),\n",
       " ('confusion,', 1),\n",
       " ('fare.', 1),\n",
       " ('follows', 1),\n",
       " ('country.', 1),\n",
       " ('@RMcCranieWFTV', 1),\n",
       " ('Andressa!', 1),\n",
       " ('...to', 1),\n",
       " ('@GWaldenWFTV', 1),\n",
       " ('space).', 1),\n",
       " ('states,', 1),\n",
       " ('Since', 1),\n",
       " ('Been', 1),\n",
       " ('shes', 1),\n",
       " ('Lenore.', 1),\n",
       " ('@1ShirtSupport:', 1),\n",
       " ('@JetBlue!', 1),\n",
       " ('NEEDED', 1),\n",
       " ('Thx', 1),\n",
       " ('p.m.', 1),\n",
       " ('everything', 1),\n",
       " ('tad', 1),\n",
       " ('does', 1),\n",
       " ('Let', 1),\n",
       " ('forgiven', 1),\n",
       " ('@seanbarakett', 1),\n",
       " ('booking', 1),\n",
       " ('locate', 1),\n",
       " ('accessing', 1),\n",
       " ('run', 1),\n",
       " ('business', 1),\n",
       " ('AM.', 1),\n",
       " ('payment', 1),\n",
       " ('expire', 1),\n",
       " ('Truly,', 1),\n",
       " ('2/3', 1),\n",
       " ('Think', 1),\n",
       " ('plug', 1),\n",
       " ('Aww!', 1),\n",
       " ('nickel...', 1),\n",
       " ('getting', 1),\n",
       " ('status?', 1),\n",
       " ('8:58', 1),\n",
       " ('consequently', 1),\n",
       " ('Best', 1),\n",
       " ('match', 1),\n",
       " ('9:00.', 1),\n",
       " ('Yes,', 1),\n",
       " ('whats', 1),\n",
       " ('previously', 1),\n",
       " ('tight', 1),\n",
       " ('hope!', 1),\n",
       " ('https://t.co/61fKRnYNpK', 1),\n",
       " ('blessed', 1),\n",
       " ('https://t.co/o1FnrYhr6z', 1),\n",
       " ('there!', 1),\n",
       " ('down', 1),\n",
       " ('rolling', 1),\n",
       " ('Flights', 1),\n",
       " ('times,', 1),\n",
       " ('@jodyph1', 1),\n",
       " ('@Carol_Liz29', 1),\n",
       " ('happening', 1),\n",
       " ('morning,', 1),\n",
       " ('fast', 1),\n",
       " ('support', 1),\n",
       " ('Hang', 1),\n",
       " ('lost', 1),\n",
       " ('Departures', 1),\n",
       " ('Excellent', 1),\n",
       " ('https\\xe2\\x80\\xa6', 1),\n",
       " ('departed.', 1),\n",
       " ('entertained!', 1),\n",
       " ('offer', 1),\n",
       " ('Airport', 1),\n",
       " ('poster', 1),\n",
       " ('you?', 1),\n",
       " ('notifications', 1),\n",
       " ('account?', 1),\n",
       " ('Tomorrows', 1),\n",
       " ('boarding', 1),\n",
       " ('made', 1),\n",
       " ('wish', 1),\n",
       " ('crew.', 1),\n",
       " ('official', 1),\n",
       " ('this,', 1),\n",
       " ('channels.', 1),\n",
       " ('https://t.co/G8gXkzpwzq', 1),\n",
       " ('Alyssa!', 1),\n",
       " ('wait.', 1),\n",
       " ('minutes', 1),\n",
       " ('email', 1),\n",
       " ('ordered', 1),\n",
       " ('More', 1),\n",
       " ('@markiplier', 1),\n",
       " ('#GoodMorning', 1),\n",
       " ('file', 1),\n",
       " ('...the', 1),\n",
       " ('trickled', 1),\n",
       " ('...at', 1),\n",
       " ('hasnt', 1),\n",
       " ('theyll', 1),\n",
       " ('Boston!', 1),\n",
       " ('no', 1),\n",
       " ('TV', 1),\n",
       " ('details.', 1),\n",
       " ('started', 1),\n",
       " ('@thebowmaniac', 1),\n",
       " ('call!', 1),\n",
       " ('trick!', 1),\n",
       " ('SLEEP', 1),\n",
       " ('poor', 1),\n",
       " ('star', 1),\n",
       " ('again!', 1),\n",
       " ('includes', 1),\n",
       " ('Thought', 1),\n",
       " ('in.', 1),\n",
       " ('\\xe2\\x80\\xa6', 1),\n",
       " ('Rick.', 1),\n",
       " ('ago', 1),\n",
       " ('severe', 1),\n",
       " ('8:15', 1),\n",
       " ('longer', 1),\n",
       " ('Mmhmm.', 1),\n",
       " ('Ramon.', 1),\n",
       " ('https://t.co/RPlcrcwzTA', 1),\n",
       " ('shoutout', 1),\n",
       " ('@ButtercupEvents', 1),\n",
       " ('As', 1),\n",
       " ('u', 1),\n",
       " ('@sarendippity', 1),\n",
       " ('code,', 1),\n",
       " ('@MeranieRichtman', 1),\n",
       " ('once', 1)]"
      ]
     },
     "execution_count": 230,
     "metadata": {},
     "output_type": "execute_result"
    }
   ],
   "source": [
    "sorted(wordList.items(), key=operator.itemgetter(1),reverse=True)"
   ]
  },
  {
   "cell_type": "code",
   "execution_count": 227,
   "metadata": {
    "collapsed": false
   },
   "outputs": [],
   "source": [
    "sortedFreq = sorted(wordList.items(), key=operator.itemgetter(1),reverse=True)"
   ]
  },
  {
   "cell_type": "code",
   "execution_count": 228,
   "metadata": {
    "collapsed": false
   },
   "outputs": [
    {
     "data": {
      "text/plain": [
       "{'#Cheers': 1,\n",
       " '#GoodMorning': 1,\n",
       " '#TriviaTakeover': 1,\n",
       " '#bestcustomeraward': 1,\n",
       " '#unitedsucks': 1,\n",
       " '$250': 1,\n",
       " '$300': 1,\n",
       " '$75.': 1,\n",
       " '&': 1,\n",
       " '(538-2583).': 1,\n",
       " '(if': 1,\n",
       " '(shared': 1,\n",
       " '(size': 1,\n",
       " '(which': 1,\n",
       " '+': 1,\n",
       " '-': 2,\n",
       " '-...': 1,\n",
       " '...Depending': 1,\n",
       " '...all': 1,\n",
       " '...and': 1,\n",
       " '...at': 1,\n",
       " '...delays,': 1,\n",
       " '...kept': 1,\n",
       " '...the': 1,\n",
       " '...to': 1,\n",
       " '...weather-related': 1,\n",
       " '...youre': 1,\n",
       " '1-800-JETBLUE': 2,\n",
       " '1/2': 9,\n",
       " '1/3': 1,\n",
       " '10:30': 2,\n",
       " '10:42': 1,\n",
       " '11:45': 1,\n",
       " '12%': 1,\n",
       " '14': 1,\n",
       " '1786': 1,\n",
       " '1st': 1,\n",
       " '2/2': 8,\n",
       " '2/3': 1,\n",
       " '3/3': 1,\n",
       " '30th': 1,\n",
       " '3ish': 1,\n",
       " '6:08': 1,\n",
       " '6:50am': 1,\n",
       " '8:15': 1,\n",
       " '8:58': 1,\n",
       " '90': 1,\n",
       " '922?': 1,\n",
       " '9:00': 1,\n",
       " '9:00.': 1,\n",
       " '9:25': 1,\n",
       " '9:31': 1,\n",
       " '9:55': 1,\n",
       " ':)': 3,\n",
       " ':/': 1,\n",
       " ':o': 1,\n",
       " '??': 6,\n",
       " '??????': 1,\n",
       " '????????': 1,\n",
       " '@1ShirtSupport': 10,\n",
       " '@1ShirtSupport:': 1,\n",
       " '@ACordov1': 3,\n",
       " '@AaronMShaffer': 1,\n",
       " '@Airababyfullam': 1,\n",
       " '@AlfieAlfonzo': 1,\n",
       " '@AuthorAkansha:': 1,\n",
       " '@BShieldsWFTV': 1,\n",
       " '@ButtercupEvents': 1,\n",
       " '@CarieBrdshaw': 1,\n",
       " '@Carol_Liz29': 1,\n",
       " '@CyndyNayer': 1,\n",
       " '@ElleAyDoubleYou': 1,\n",
       " '@GWaldenWFTV': 1,\n",
       " '@GameGrumps': 3,\n",
       " '@GillyAnnandale:': 1,\n",
       " '@IranCampana': 1,\n",
       " '@JSA1987': 5,\n",
       " '@Jack_Septic_Eye': 2,\n",
       " '@Jack_Septic_Eye:': 1,\n",
       " '@Jeff_Harris_NZ': 3,\n",
       " '@JetBlue': 10,\n",
       " '@JetBlue!': 1,\n",
       " '@Juls7826L': 2,\n",
       " '@KibsKelble': 2,\n",
       " '@LaryssaStecyk': 2,\n",
       " '@LittleFootLady': 1,\n",
       " '@LizgarciaSells': 1,\n",
       " '@MJuricaWFTV': 1,\n",
       " '@MeranieRichtman': 1,\n",
       " '@MiamiHerald': 1,\n",
       " '@Mike_Gramajo': 5,\n",
       " '@NYJETLIFE': 1,\n",
       " '@Niagarcia03': 2,\n",
       " '@NickArnheim': 1,\n",
       " '@OkayRene': 2,\n",
       " '@OtotheBeirne:': 1,\n",
       " '@PatrickM254': 1,\n",
       " '@RMcCranieWFTV': 1,\n",
       " '@TTerryWFTV': 1,\n",
       " '@TheRealKirkA': 1,\n",
       " '@Todd530:': 1,\n",
       " '@Tomas_Regalado': 1,\n",
       " '@UygEv2015': 1,\n",
       " '@WRC_of_NY': 2,\n",
       " '@____alyssa': 2,\n",
       " '@_yxngmami': 1,\n",
       " '@aaronjperez': 1,\n",
       " '@andrewctran': 2,\n",
       " '@annabellae': 1,\n",
       " '@booksthatmatter': 1,\n",
       " '@cchiavetta': 1,\n",
       " '@chemdivaSITech': 1,\n",
       " '@chris4851': 2,\n",
       " '@clawng': 2,\n",
       " '@cmg799': 1,\n",
       " '@ddelmoli': 1,\n",
       " '@ecarruthersjr': 2,\n",
       " '@heyheyman': 1,\n",
       " '@itsKizzleBtch': 2,\n",
       " '@jcalabrese87': 1,\n",
       " '@jodyph1': 1,\n",
       " '@jongad1': 1,\n",
       " '@js_N_Y_C': 3,\n",
       " '@juliannabuck': 1,\n",
       " '@katinka118': 1,\n",
       " '@lladkins': 1,\n",
       " '@markiplier': 1,\n",
       " '@mikemurdock703': 2,\n",
       " '@mjonesTO': 1,\n",
       " '@mlarosa84': 2,\n",
       " '@nickjohnsonCNN': 1,\n",
       " '@photopickles': 1,\n",
       " '@rosemariochoa': 1,\n",
       " '@rp3_22': 4,\n",
       " '@rubzica': 2,\n",
       " '@sammy_butler': 3,\n",
       " '@sarendippity': 1,\n",
       " '@seanbarakett': 1,\n",
       " '@shawesum': 1,\n",
       " '@sillymeeeee': 1,\n",
       " '@simplerevolt': 2,\n",
       " '@slidingsideways': 2,\n",
       " '@stephiscope': 1,\n",
       " '@stopitdee': 1,\n",
       " '@thebowmaniac': 1,\n",
       " '@turms19': 4,\n",
       " '@tylerOeaster': 2,\n",
       " '@united': 2,\n",
       " '@wdelmolino': 1,\n",
       " '@westonbaker': 1,\n",
       " '@zacxwolf': 3,\n",
       " '@zbpolin': 1,\n",
       " 'A': 1,\n",
       " 'AM.': 1,\n",
       " 'AND': 1,\n",
       " 'ASAP.': 1,\n",
       " 'Adam.': 1,\n",
       " 'Adam?': 1,\n",
       " 'After': 1,\n",
       " 'Air': 2,\n",
       " 'Airport': 1,\n",
       " 'Allen': 1,\n",
       " 'Alyssa!': 1,\n",
       " 'And': 2,\n",
       " 'Andressa!': 1,\n",
       " 'Annabella.': 1,\n",
       " 'Anytime!': 1,\n",
       " 'Are': 2,\n",
       " 'As': 1,\n",
       " 'Aww!': 1,\n",
       " 'Be': 1,\n",
       " 'Been': 1,\n",
       " 'Best': 1,\n",
       " 'Better': 2,\n",
       " 'Boston!': 1,\n",
       " 'Boston.': 1,\n",
       " 'Burgie': 4,\n",
       " 'Cant': 1,\n",
       " 'Chris.': 1,\n",
       " 'Compensation': 1,\n",
       " 'Control': 2,\n",
       " 'Crap': 2,\n",
       " 'Current': 1,\n",
       " 'DM': 8,\n",
       " 'DMd': 1,\n",
       " 'Delays': 4,\n",
       " 'Denver': 1,\n",
       " 'Departures': 1,\n",
       " 'Did': 1,\n",
       " 'Diego!': 1,\n",
       " 'Dominic.': 1,\n",
       " 'Dominican': 2,\n",
       " 'Dont': 1,\n",
       " 'Drats!': 1,\n",
       " 'ETA': 1,\n",
       " 'ETD': 2,\n",
       " 'Each': 1,\n",
       " 'Elizabeth.': 1,\n",
       " 'Enjoy!': 1,\n",
       " 'Evan': 1,\n",
       " 'Even': 1,\n",
       " 'Excellent': 1,\n",
       " 'Flights': 1,\n",
       " 'Fly-Fi': 1,\n",
       " 'Fog': 1,\n",
       " 'Ft': 1,\n",
       " 'GORGEOUS!': 1,\n",
       " 'Getaways': 1,\n",
       " 'Give': 2,\n",
       " 'Glad': 4,\n",
       " 'Hang': 1,\n",
       " 'Has': 1,\n",
       " 'Have': 1,\n",
       " 'Hi': 2,\n",
       " 'Hooray!': 1,\n",
       " 'How': 2,\n",
       " 'I': 13,\n",
       " 'If': 7,\n",
       " 'Ill': 3,\n",
       " 'Im': 1,\n",
       " 'Inflight': 2,\n",
       " 'Is': 3,\n",
       " 'It': 4,\n",
       " 'Its': 4,\n",
       " 'Ive': 1,\n",
       " 'JB\\xe2\\x80\\xa6': 1,\n",
       " 'JFK': 1,\n",
       " 'JFK.': 1,\n",
       " 'JFK?': 1,\n",
       " 'Jason': 1,\n",
       " 'Jeff.': 2,\n",
       " 'Just': 3,\n",
       " 'Kerri.': 1,\n",
       " 'LAS': 1,\n",
       " 'Large)': 1,\n",
       " 'Lauderdale': 1,\n",
       " 'Lenore.': 1,\n",
       " 'Let': 1,\n",
       " 'Lots': 1,\n",
       " 'Love': 1,\n",
       " 'Maybe': 1,\n",
       " 'Mike.': 2,\n",
       " 'Mmhmm.': 1,\n",
       " 'More': 1,\n",
       " 'Most': 1,\n",
       " 'Mother': 1,\n",
       " 'NEEDED': 1,\n",
       " 'Nature': 1,\n",
       " 'Nick!': 1,\n",
       " 'Nick.': 1,\n",
       " 'Not': 1,\n",
       " 'Nov.': 1,\n",
       " 'ONE': 1,\n",
       " 'Oh': 1,\n",
       " 'One': 1,\n",
       " 'Our': 3,\n",
       " 'PM': 2,\n",
       " 'PM.': 4,\n",
       " 'Patrick.': 1,\n",
       " 'Please': 9,\n",
       " 'Princess?': 1,\n",
       " 'Question': 1,\n",
       " 'RT': 6,\n",
       " 'Ramon.': 1,\n",
       " 'Rene.': 1,\n",
       " 'Republic': 1,\n",
       " 'Rick.': 1,\n",
       " 'Rosemari.': 1,\n",
       " 'SLEEP': 1,\n",
       " 'San': 1,\n",
       " 'Scheduled': 1,\n",
       " 'Scottish': 2,\n",
       " 'Since': 1,\n",
       " 'Smh': 1,\n",
       " 'Sorry': 9,\n",
       " 'Sounds': 1,\n",
       " 'Space': 1,\n",
       " 'Start': 1,\n",
       " 'Stephanie,': 1,\n",
       " 'T-Shirt,': 1,\n",
       " 'TV': 1,\n",
       " 'Thank': 2,\n",
       " 'Thanks': 8,\n",
       " 'Thanks.': 1,\n",
       " 'Thats': 3,\n",
       " 'The': 6,\n",
       " 'Then': 1,\n",
       " 'There': 3,\n",
       " 'Think': 1,\n",
       " 'Thought': 1,\n",
       " 'Thx': 1,\n",
       " 'Time': 1,\n",
       " 'Tomorrows': 1,\n",
       " 'Traffic': 2,\n",
       " 'TrueBlue': 1,\n",
       " 'Truly,': 1,\n",
       " 'Try': 2,\n",
       " 'Twitter,': 1,\n",
       " 'Unacceptable.': 1,\n",
       " 'Unfortunately,': 1,\n",
       " 'We': 26,\n",
       " 'Wed': 1,\n",
       " 'Well': 6,\n",
       " 'Wendy?': 1,\n",
       " 'Were': 16,\n",
       " 'Weston!': 1,\n",
       " 'Weve': 1,\n",
       " 'What': 4,\n",
       " 'Whats': 2,\n",
       " 'Wheels': 1,\n",
       " 'When': 1,\n",
       " 'Which': 3,\n",
       " 'Will': 2,\n",
       " 'Wish': 1,\n",
       " 'Wonderful': 1,\n",
       " 'Wow!': 1,\n",
       " 'Yes,': 1,\n",
       " 'You': 5,\n",
       " 'Your': 1,\n",
       " 'Youve': 1,\n",
       " 'a': 36,\n",
       " 'able': 3,\n",
       " 'able...': 1,\n",
       " 'about': 7,\n",
       " 'accessing': 1,\n",
       " 'account': 1,\n",
       " 'account?': 1,\n",
       " 'across': 2,\n",
       " 'add': 1,\n",
       " 'additional': 3,\n",
       " 'additional...': 1,\n",
       " 'advance': 1,\n",
       " 'after': 1,\n",
       " 'again!': 1,\n",
       " 'against': 1,\n",
       " 'ago': 1,\n",
       " 'air': 2,\n",
       " 'aircraft': 2,\n",
       " 'airline,': 2,\n",
       " 'airport': 7,\n",
       " 'airport.': 1,\n",
       " 'airport?': 1,\n",
       " 'all': 2,\n",
       " 'already': 1,\n",
       " 'already...': 1,\n",
       " 'alternatives': 1,\n",
       " 'always': 3,\n",
       " 'an': 16,\n",
       " 'and': 27,\n",
       " 'announce': 1,\n",
       " 'another': 2,\n",
       " 'any': 5,\n",
       " 'anyone': 1,\n",
       " 'anyone...': 1,\n",
       " 'anywhere': 1,\n",
       " 'apologize': 2,\n",
       " 'apply': 1,\n",
       " 'appreciate': 2,\n",
       " 'are': 17,\n",
       " 'area': 2,\n",
       " 'arrival': 3,\n",
       " 'arrive': 1,\n",
       " 'arrive.': 2,\n",
       " 'arriving': 2,\n",
       " 'arriving...': 1,\n",
       " 'as': 3,\n",
       " 'asap.': 2,\n",
       " 'ask': 2,\n",
       " 'assigned': 1,\n",
       " 'assist': 2,\n",
       " 'assistance.': 1,\n",
       " 'at': 10,\n",
       " 'attitude!': 1,\n",
       " 'away': 1,\n",
       " 'away!': 1,\n",
       " 'awesome': 2,\n",
       " 'awesome!': 1,\n",
       " 'awesome.': 1,\n",
       " 'bag': 1,\n",
       " 'bag?': 1,\n",
       " 'baggage': 1,\n",
       " 'bags': 1,\n",
       " 'bag\\xe2\\x80\\xa6': 1,\n",
       " 'based': 1,\n",
       " 'be': 11,\n",
       " 'been': 1,\n",
       " 'before': 2,\n",
       " 'being': 1,\n",
       " 'best': 2,\n",
       " 'bins': 1,\n",
       " 'bit': 2,\n",
       " 'blessed': 1,\n",
       " 'boarding': 1,\n",
       " 'bomb': 1,\n",
       " 'book': 2,\n",
       " 'booking': 1,\n",
       " 'booking,': 1,\n",
       " 'burger': 2,\n",
       " 'business': 1,\n",
       " 'busy': 1,\n",
       " 'but': 6,\n",
       " 'by': 2,\n",
       " 'cache,': 1,\n",
       " 'call': 1,\n",
       " 'call!': 1,\n",
       " 'can': 15,\n",
       " 'card': 1,\n",
       " 'carousel': 3,\n",
       " 'case': 1,\n",
       " 'case,': 1,\n",
       " 'case?': 1,\n",
       " 'cause.': 1,\n",
       " 'caused': 1,\n",
       " 'causing': 1,\n",
       " 'changes': 1,\n",
       " 'channels.': 1,\n",
       " 'check': 4,\n",
       " 'check.': 1,\n",
       " 'city': 1,\n",
       " 'city,': 1,\n",
       " 'city.': 1,\n",
       " 'claim?': 1,\n",
       " 'clearance': 1,\n",
       " 'clearing': 1,\n",
       " 'code': 3,\n",
       " 'code,': 1,\n",
       " 'come': 2,\n",
       " 'comes': 1,\n",
       " 'coming': 2,\n",
       " 'compensation': 1,\n",
       " 'compliments!': 1,\n",
       " 'condolences.': 1,\n",
       " 'confirmation': 4,\n",
       " 'confuse': 1,\n",
       " 'confusion,': 1,\n",
       " 'consequently': 1,\n",
       " 'considering': 1,\n",
       " 'contact': 1,\n",
       " 'cookies': 1,\n",
       " 'correct,': 1,\n",
       " 'could': 2,\n",
       " 'counter': 1,\n",
       " 'country.': 1,\n",
       " 'crazy': 1,\n",
       " 'creating': 1,\n",
       " 'credit:': 1,\n",
       " 'crew': 6,\n",
       " 'crew.': 1,\n",
       " 'crewmember': 4,\n",
       " 'crewmembers': 6,\n",
       " 'current': 2,\n",
       " 'customer': 1,\n",
       " 'customer.': 1,\n",
       " 'customers!': 1,\n",
       " 'date': 1,\n",
       " 'date,': 1,\n",
       " 'dates,': 1,\n",
       " 'day!': 2,\n",
       " 'days': 3,\n",
       " 'definitely': 2,\n",
       " 'delay': 3,\n",
       " 'delay.': 2,\n",
       " 'delayed': 5,\n",
       " 'delays': 5,\n",
       " 'delays.': 2,\n",
       " 'delicious!': 1,\n",
       " 'departed.': 1,\n",
       " 'departure': 7,\n",
       " 'destination': 1,\n",
       " 'destination,': 1,\n",
       " 'details': 4,\n",
       " 'details.': 1,\n",
       " 'did': 3,\n",
       " 'different': 1,\n",
       " 'difficult': 1,\n",
       " 'difficulties.': 1,\n",
       " 'do': 3,\n",
       " 'does': 1,\n",
       " 'doesnt': 2,\n",
       " 'domino': 1,\n",
       " 'dont': 3,\n",
       " 'don\\xe2\\x80\\x99t': 1,\n",
       " 'down': 1,\n",
       " 'due': 3,\n",
       " 'during': 1,\n",
       " 'early': 1,\n",
       " 'effect.': 1,\n",
       " 'email': 1,\n",
       " 'end.': 1,\n",
       " 'enjoying': 1,\n",
       " 'entertained!': 1,\n",
       " 'especially': 2,\n",
       " 'estimated': 3,\n",
       " 'even': 1,\n",
       " 'every': 1,\n",
       " 'everything': 1,\n",
       " 'excited': 2,\n",
       " 'expedited': 1,\n",
       " 'experience': 1,\n",
       " 'experience.': 1,\n",
       " 'experiencing': 2,\n",
       " 'experiencing...': 1,\n",
       " 'expiration': 1,\n",
       " 'expire': 1,\n",
       " 'extra': 1,\n",
       " 'factors': 1,\n",
       " 'family.': 1,\n",
       " 'fare': 2,\n",
       " 'fare.': 1,\n",
       " 'fast': 1,\n",
       " 'fee': 1,\n",
       " 'few': 2,\n",
       " 'field!': 1,\n",
       " 'file': 1,\n",
       " 'final': 1,\n",
       " 'fine': 1,\n",
       " 'flew': 1,\n",
       " 'flight': 20,\n",
       " 'flight!': 2,\n",
       " 'flight.': 7,\n",
       " 'flight?': 2,\n",
       " 'flights': 2,\n",
       " 'fly': 1,\n",
       " 'flying': 2,\n",
       " 'follows': 1,\n",
       " 'for': 51,\n",
       " 'for?': 1,\n",
       " 'forgive': 1,\n",
       " 'forgiven': 1,\n",
       " 'found': 1,\n",
       " 'from': 9,\n",
       " 'frustrating': 2,\n",
       " 'frustrating.': 1,\n",
       " 'frustration,': 2,\n",
       " 'fun': 1,\n",
       " 'fun!': 1,\n",
       " 'fun,': 1,\n",
       " 'fun.': 1,\n",
       " 'gate': 1,\n",
       " 'get': 5,\n",
       " 'getting': 1,\n",
       " 'give': 4,\n",
       " 'giving': 2,\n",
       " 'glad': 2,\n",
       " 'go': 1,\n",
       " 'got': 2,\n",
       " 'government': 1,\n",
       " 'great': 2,\n",
       " 'guys': 1,\n",
       " 'had': 2,\n",
       " 'half': 1,\n",
       " 'hang': 1,\n",
       " 'hanging': 1,\n",
       " 'happened?': 1,\n",
       " 'happening': 1,\n",
       " 'happy': 8,\n",
       " 'happy,': 1,\n",
       " 'hard': 2,\n",
       " 'has': 1,\n",
       " 'hasnt': 1,\n",
       " 'have': 13,\n",
       " 'have.': 1,\n",
       " 'havent': 1,\n",
       " 'he': 1,\n",
       " 'head': 1,\n",
       " 'hear': 10,\n",
       " 'hear!': 2,\n",
       " 'help': 1,\n",
       " 'help,': 1,\n",
       " 'help.': 1,\n",
       " 'helps.': 1,\n",
       " 'here': 2,\n",
       " 'hold': 1,\n",
       " 'holders.': 1,\n",
       " 'holiday': 1,\n",
       " 'holidays.': 1,\n",
       " 'honor': 2,\n",
       " 'hope!': 1,\n",
       " 'hour': 1,\n",
       " 'how': 3,\n",
       " 'however,': 1,\n",
       " 'https://t.co/2OBkYKYkQp': 1,\n",
       " 'https://t.co/61fKRnYNpK': 1,\n",
       " 'https://t.co/9DVkaUgdOn': 1,\n",
       " 'https://t.co/G8gXkzpwzq': 1,\n",
       " 'https://t.co/IUwsJjt9CS': 1,\n",
       " 'https://t.co/KEIgcuFFIL': 1,\n",
       " 'https://t.co/RPlcrcwzTA': 1,\n",
       " 'https://t.co/evgIPUnCun': 1,\n",
       " 'https://t.co/o1FnrYhr6z': 1,\n",
       " 'https://t.co/pfOCUnSbwF': 1,\n",
       " 'https://t.co/qawsoUJUGt': 1,\n",
       " 'https://t.c\\xe2\\x80\\xa6': 1,\n",
       " 'https:\\xe2\\x80\\xa6': 1,\n",
       " 'https\\xe2\\x80\\xa6': 1,\n",
       " 'hub': 1,\n",
       " 'if': 3,\n",
       " 'in': 16,\n",
       " 'in.': 1,\n",
       " 'in...': 1,\n",
       " 'inch': 1,\n",
       " 'include': 1,\n",
       " 'included.': 1,\n",
       " 'includes': 1,\n",
       " 'inconvenience,': 2,\n",
       " 'inconvenience.': 2,\n",
       " 'increased': 1,\n",
       " 'inflight': 2,\n",
       " 'info.': 3,\n",
       " 'information': 3,\n",
       " 'information.': 1,\n",
       " 'initially': 1,\n",
       " 'into': 4,\n",
       " 'is': 22,\n",
       " 'is...': 1,\n",
       " 'is....': 1,\n",
       " 'ish\\xe2\\x80\\xa6\\xe2\\x80\\x9d': 1,\n",
       " 'issued,': 1,\n",
       " 'issues': 2,\n",
       " 'it': 9,\n",
       " 'it!': 2,\n",
       " 'it.': 2,\n",
       " 'it?': 1,\n",
       " 'items': 1,\n",
       " 'itinerary.': 1,\n",
       " 'its': 8,\n",
       " 'jack': 1,\n",
       " 'just': 5,\n",
       " 'keeping': 2,\n",
       " 'kids.': 1,\n",
       " 'king': 1,\n",
       " 'knew': 1,\n",
       " 'know': 7,\n",
       " 'know!': 1,\n",
       " 'know...': 1,\n",
       " 'lack': 1,\n",
       " 'latest': 4,\n",
       " 'learn': 1,\n",
       " 'leave': 1,\n",
       " 'legroom': 1,\n",
       " 'lel': 1,\n",
       " 'let': 1,\n",
       " 'like': 5,\n",
       " 'likely': 1,\n",
       " 'link': 1,\n",
       " 'listed': 1,\n",
       " 'little': 1,\n",
       " 'locate': 1,\n",
       " 'lol': 1,\n",
       " 'long': 2,\n",
       " 'longer': 1,\n",
       " 'look': 5,\n",
       " 'look.': 2,\n",
       " 'look?': 1,\n",
       " 'looks': 2,\n",
       " 'lost': 1,\n",
       " 'lots': 1,\n",
       " 'love': 3,\n",
       " 'lower': 3,\n",
       " 'made': 1,\n",
       " 'make': 2,\n",
       " 'making': 1,\n",
       " 'man,': 1,\n",
       " 'many': 1,\n",
       " 'match': 1,\n",
       " 'may': 2,\n",
       " 'me': 1,\n",
       " 'means': 2,\n",
       " 'members': 1,\n",
       " 'mention': 1,\n",
       " 'minutes': 1,\n",
       " 'moment': 1,\n",
       " 'more': 4,\n",
       " 'morning,': 1,\n",
       " 'most': 2,\n",
       " 'movie!': 1,\n",
       " 'much!': 1,\n",
       " 'must': 1,\n",
       " 'my': 3,\n",
       " 'name': 1,\n",
       " 'necessarily.': 1,\n",
       " 'need': 2,\n",
       " 'never': 3,\n",
       " 'new': 2,\n",
       " 'nickel...': 1,\n",
       " 'no': 1,\n",
       " 'no!': 1,\n",
       " 'not': 8,\n",
       " 'notes': 1,\n",
       " 'notifications': 1,\n",
       " 'notified.': 1,\n",
       " 'notify': 1,\n",
       " 'now': 3,\n",
       " 'now,': 1,\n",
       " 'number': 2,\n",
       " 'number?': 2,\n",
       " 'of': 23,\n",
       " 'off': 1,\n",
       " 'offer': 1,\n",
       " 'office': 1,\n",
       " 'official': 1,\n",
       " 'often?': 1,\n",
       " 'omg': 1,\n",
       " 'on': 19,\n",
       " 'on!': 1,\n",
       " 'on,': 1,\n",
       " 'on?': 1,\n",
       " 'once': 1,\n",
       " 'one': 1,\n",
       " 'only': 2,\n",
       " 'opens': 1,\n",
       " 'operations,': 1,\n",
       " 'or': 2,\n",
       " 'ordered': 1,\n",
       " 'original': 1,\n",
       " 'originate': 1,\n",
       " 'other': 1,\n",
       " 'our': 15,\n",
       " 'out': 13,\n",
       " 'over': 5,\n",
       " 'p.m.': 1,\n",
       " 'passport': 1,\n",
       " 'past': 1,\n",
       " 'path': 1,\n",
       " 'patience': 1,\n",
       " 'patience!': 2,\n",
       " 'patience,': 3,\n",
       " 'patience.': 3,\n",
       " 'pay': 1,\n",
       " 'payment': 1,\n",
       " 'peoples': 1,\n",
       " 'per': 2,\n",
       " 'perhaps': 1,\n",
       " 'person.': 1,\n",
       " 'phone': 1,\n",
       " 'plane': 2,\n",
       " 'plane!': 1,\n",
       " 'plans.': 1,\n",
       " 'please': 1,\n",
       " 'plug': 1,\n",
       " 'pm': 1,\n",
       " 'poor': 1,\n",
       " 'positive': 1,\n",
       " 'possibility': 1,\n",
       " 'poster': 1,\n",
       " 'potentially': 1,\n",
       " 'pretty': 2,\n",
       " 'previous': 1,\n",
       " 'previously': 1,\n",
       " 'process.': 1,\n",
       " 'pulling': 1,\n",
       " 'purchased.': 1,\n",
       " 'quarter': 1,\n",
       " 'raining.': 1,\n",
       " 'random': 1,\n",
       " 'reach': 6,\n",
       " 'really': 3,\n",
       " 'related': 1,\n",
       " 'replying,': 1,\n",
       " 'request': 1,\n",
       " 'response': 1,\n",
       " 'right': 2,\n",
       " 'rise': 1,\n",
       " 'rolling': 1,\n",
       " 'room,': 1,\n",
       " 'room.': 1,\n",
       " 'rough.': 1,\n",
       " 'route': 1,\n",
       " 'run': 1,\n",
       " 'say,': 1,\n",
       " 'saying': 1,\n",
       " 'scheduled': 1,\n",
       " 'season...': 1,\n",
       " 'seat,': 1,\n",
       " 'security.': 1,\n",
       " 'see': 4,\n",
       " 'selfie,': 1,\n",
       " 'send': 1,\n",
       " 'service': 1,\n",
       " 'service...': 1,\n",
       " 'severe': 1,\n",
       " 'shall': 1,\n",
       " 'shes': 1,\n",
       " 'shirt': 1,\n",
       " 'shirt!': 2,\n",
       " 'should': 2,\n",
       " 'shoutout': 1,\n",
       " 'show': 4,\n",
       " 'showing': 1,\n",
       " 'since': 1,\n",
       " 'sky?': 1,\n",
       " 'so': 8,\n",
       " 'some': 2,\n",
       " 'something': 1,\n",
       " 'soon': 1,\n",
       " 'sooner': 1,\n",
       " 'sorry': 3,\n",
       " 'space).': 1,\n",
       " 'speak': 1,\n",
       " 'specific': 2,\n",
       " 'spent': 1,\n",
       " 'standby.': 1,\n",
       " 'star': 1,\n",
       " 'start': 1,\n",
       " 'started': 1,\n",
       " 'states': 1,\n",
       " 'states,': 1,\n",
       " 'status': 2,\n",
       " 'status?': 1,\n",
       " 'still': 1,\n",
       " 'stop': 1,\n",
       " 'stream': 1,\n",
       " 'suck.': 1,\n",
       " 'suggest': 1,\n",
       " 'support': 1,\n",
       " 'sure': 2,\n",
       " 'surprised': 1,\n",
       " 'switching': 1,\n",
       " 'system': 1,\n",
       " 'system.': 1,\n",
       " 'tad': 1,\n",
       " 'take': 5,\n",
       " 'team': 1,\n",
       " 'tell': 1,\n",
       " 'tells': 1,\n",
       " 'thank-you': 1,\n",
       " 'thanks': 1,\n",
       " 'that': 22,\n",
       " 'that,': 1,\n",
       " 'that.': 2,\n",
       " 'thats': 2,\n",
       " 'the': 72,\n",
       " 'their': 3,\n",
       " 'them': 2,\n",
       " 'them.': 1,\n",
       " 'there': 7,\n",
       " 'there!': 1,\n",
       " 'theres': 1,\n",
       " 'they': 2,\n",
       " 'theyll': 1,\n",
       " 'thing': 1,\n",
       " 'this': 5,\n",
       " 'this,': 1,\n",
       " 'tho,': 1,\n",
       " 'through': 1,\n",
       " 'throughout': 1,\n",
       " 'ticket': 2,\n",
       " 'tight': 1,\n",
       " 'time': 7,\n",
       " 'time!': 1,\n",
       " 'time.': 2,\n",
       " 'times': 1,\n",
       " 'times,': 1,\n",
       " 'to': 68,\n",
       " 'today!': 1,\n",
       " 'today,': 1,\n",
       " 'today.': 2,\n",
       " 'tolerable.': 1,\n",
       " 'tonight': 2,\n",
       " 'tonight.': 3,\n",
       " 'too': 1,\n",
       " 'too!': 1,\n",
       " 'too.': 1,\n",
       " 'train!': 1,\n",
       " 'travel': 2,\n",
       " 'travels!': 1,\n",
       " 'trick!': 1,\n",
       " 'trickled': 1,\n",
       " 'try': 1,\n",
       " 'turns': 1,\n",
       " 'tweet': 1,\n",
       " 'tweeting': 1,\n",
       " 'two': 2,\n",
       " 'u': 1,\n",
       " 'understand': 2,\n",
       " 'until': 1,\n",
       " 'up': 6,\n",
       " 'up,': 1,\n",
       " 'up-to-date': 1,\n",
       " 'up-to-date).': 1,\n",
       " 'update': 2,\n",
       " 'update.': 1,\n",
       " 'updated': 5,\n",
       " 'updates': 1,\n",
       " 'updates.': 2,\n",
       " 'updates?': 2,\n",
       " 'us': 10,\n",
       " 'us.': 1,\n",
       " 'us?': 1,\n",
       " 'use': 2,\n",
       " 'usually': 1,\n",
       " 'very': 1,\n",
       " 'view.': 1,\n",
       " 'visit': 1,\n",
       " 'wait': 4,\n",
       " 'wait,': 2,\n",
       " 'wait.': 1,\n",
       " 'waiting': 7,\n",
       " 'want': 3,\n",
       " 'was': 5,\n",
       " 'way': 6,\n",
       " 'we': 18,\n",
       " 'weather': 9,\n",
       " 'weather,': 1,\n",
       " 'weather.': 1,\n",
       " 'weather?': 2,\n",
       " 'wed': 1,\n",
       " 'weeks': 1,\n",
       " 'well': 6,\n",
       " 'well!': 1,\n",
       " 'were': 5,\n",
       " 'what': 2,\n",
       " 'whats': 1,\n",
       " 'when': 6,\n",
       " 'where': 2,\n",
       " 'wheres': 1,\n",
       " 'which': 1,\n",
       " 'why': 3,\n",
       " 'will': 6,\n",
       " 'will.': 1,\n",
       " 'willing': 1,\n",
       " 'window': 1,\n",
       " 'wish': 1,\n",
       " 'with': 11,\n",
       " 'with,': 1,\n",
       " 'within': 1,\n",
       " 'work': 1,\n",
       " 'worked': 1,\n",
       " 'worked,': 1,\n",
       " 'worker': 1,\n",
       " 'working': 4,\n",
       " 'working?': 1,\n",
       " 'world': 1,\n",
       " 'would': 2,\n",
       " 'yall.': 1,\n",
       " 'yes.': 1,\n",
       " 'yet': 1,\n",
       " 'yet.': 1,\n",
       " 'you': 39,\n",
       " 'you!': 1,\n",
       " 'you,': 3,\n",
       " 'you.': 8,\n",
       " 'you?': 1,\n",
       " 'youll': 2,\n",
       " 'your': 37,\n",
       " 'youre': 4,\n",
       " 'zone': 1,\n",
       " '\\xe2\\x80\\x9cNo': 1,\n",
       " '\\xe2\\x80\\xa6': 1}"
      ]
     },
     "execution_count": 228,
     "metadata": {},
     "output_type": "execute_result"
    }
   ],
   "source": [
    "dict(sortedFreq)"
   ]
  },
  {
   "cell_type": "code",
   "execution_count": 309,
   "metadata": {
    "collapsed": false
   },
   "outputs": [],
   "source": [
    "#plt.plot([i for i in range(len(sortedFreq))],sortedFreq)"
   ]
  },
  {
   "cell_type": "code",
   "execution_count": null,
   "metadata": {
    "collapsed": true
   },
   "outputs": [],
   "source": []
  },
  {
   "cell_type": "code",
   "execution_count": 87,
   "metadata": {
    "collapsed": false
   },
   "outputs": [
    {
     "name": "stdout",
     "output_type": "stream",
     "text": [
      "Think Ill make my 6:50am @JetBlue flight out of Ft Lauderdale airport? @MiamiHerald @Tomas_Regalado https://t.co/RPlcrcwzTA\n"
     ]
    }
   ],
   "source": [
    "print tweets.iloc[45185]['message']"
   ]
  },
  {
   "cell_type": "code",
   "execution_count": 185,
   "metadata": {
    "collapsed": false
   },
   "outputs": [
    {
     "name": "stdout",
     "output_type": "stream",
     "text": [
      "I always confuse @JetBlue crew members when I use this bag… “No I don’t work for JB… ish…”\n",
      "Wheels up to Boston! https://t.co/61fKRnYNpK\n"
     ]
    },
    {
     "data": {
      "text/plain": [
       "'I always confuse @JetBlue crew members when I use this bag\\xe2\\x80\\xa6 \\xe2\\x80\\x9cNo I don\\xe2\\x80\\x99t work for JB\\xe2\\x80\\xa6 ish\\xe2\\x80\\xa6\\xe2\\x80\\x9d\\nWheels up to Boston! https://t.co/61fKRnYNpK'"
      ]
     },
     "execution_count": 185,
     "metadata": {},
     "output_type": "execute_result"
    }
   ],
   "source": [
    "print tweets.iloc[45229]['message']\n",
    "tweets.iloc[45229]['message']"
   ]
  },
  {
   "cell_type": "code",
   "execution_count": 182,
   "metadata": {
    "collapsed": false
   },
   "outputs": [],
   "source": [
    "tknzr = TweetTokenizer()"
   ]
  },
  {
   "cell_type": "code",
   "execution_count": 183,
   "metadata": {
    "collapsed": false
   },
   "outputs": [
    {
     "data": {
      "text/plain": [
       "[u'I',\n",
       " u'always',\n",
       " u'confuse',\n",
       " u'@JetBlue',\n",
       " u'crew',\n",
       " u'members',\n",
       " u'when',\n",
       " u'I',\n",
       " u'use',\n",
       " u'this',\n",
       " u'bag',\n",
       " u'\\u2026',\n",
       " u'\\u201c',\n",
       " u'No',\n",
       " u'I',\n",
       " u'don',\n",
       " u'\\u2019',\n",
       " u't',\n",
       " u'work',\n",
       " u'for',\n",
       " u'JB',\n",
       " u'\\u2026',\n",
       " u'ish',\n",
       " u'\\u2026',\n",
       " u'\\u201d',\n",
       " u'Wheels',\n",
       " u'up',\n",
       " u'to',\n",
       " u'Boston',\n",
       " u'!',\n",
       " u'https://t.co/61fKRnYNpK']"
      ]
     },
     "execution_count": 183,
     "metadata": {},
     "output_type": "execute_result"
    }
   ],
   "source": [
    "tknzr.tokenize(tweets.iloc[45229]['message'])"
   ]
  },
  {
   "cell_type": "code",
   "execution_count": 200,
   "metadata": {
    "collapsed": false
   },
   "outputs": [
    {
     "data": {
      "text/plain": [
       "136"
      ]
     },
     "execution_count": 200,
     "metadata": {},
     "output_type": "execute_result"
    }
   ],
   "source": [
    "len(list(set(tweets.message)))"
   ]
  },
  {
   "cell_type": "code",
   "execution_count": 312,
   "metadata": {
    "collapsed": false
   },
   "outputs": [
    {
     "data": {
      "text/plain": [
       "['@otothebeirne:',\n",
       " '@jetblue!',\n",
       " '@jsa1987',\n",
       " '@juls7826l',\n",
       " '@thebowmaniac',\n",
       " '@____alyssa',\n",
       " '@1shirtsupport:',\n",
       " '@cyndynayer',\n",
       " '@itskizzlebtch',\n",
       " '@1shirtsupport',\n",
       " '@gamegrumps',\n",
       " '@jack_septic_eye',\n",
       " '@1shirtsupport',\n",
       " '@gillyannandale:',\n",
       " '@1shirtsupport',\n",
       " '@gamegrumps',\n",
       " '@jeff_harris_nz',\n",
       " '@therealkirka',\n",
       " '@zacxwolf',\n",
       " '@kibskelble',\n",
       " '@tyleroeaster',\n",
       " '@lladkins',\n",
       " '@lizgarciasells',\n",
       " '@jodyph1',\n",
       " '@katinka118',\n",
       " '@rosemariochoa',\n",
       " '@shawesum',\n",
       " '@1shirtsupport',\n",
       " '@irancampana',\n",
       " '@seanbarakett',\n",
       " '@jcalabrese87',\n",
       " '@meranierichtman',\n",
       " '@jetblue',\n",
       " '@miamiherald',\n",
       " '@tomas_regalado',\n",
       " '@acordov1',\n",
       " '@jetblue',\n",
       " '@slidingsideways',\n",
       " '@mike_gramajo',\n",
       " '@turms19',\n",
       " '@tyleroeaster',\n",
       " '@elleaydoubleyou',\n",
       " '@rp3_22',\n",
       " '@____alyssa',\n",
       " '@mlarosa84',\n",
       " '@wdelmolino',\n",
       " '@itskizzlebtch',\n",
       " '@jetblue',\n",
       " '@booksthatmatter',\n",
       " '@acordov1',\n",
       " '@clawng',\n",
       " '@nickjohnsoncnn',\n",
       " '@jsa1987',\n",
       " '@cariebrdshaw',\n",
       " '@nickarnheim',\n",
       " '@chemdivasitech',\n",
       " '@zbpolin',\n",
       " '@jack_septic_eye',\n",
       " '@1shirtsupport',\n",
       " '@ecarruthersjr',\n",
       " '@zacxwolf',\n",
       " '@sammy_butler',\n",
       " '@jsa1987',\n",
       " '@andrewctran',\n",
       " '@turms19',\n",
       " '@clawng',\n",
       " '@markiplier',\n",
       " '@1shirtsupport',\n",
       " '@wrc_of_ny',\n",
       " '@aaronmshaffer',\n",
       " '@littlefootlady',\n",
       " '@jeff_harris_nz',\n",
       " '@sammy_butler',\n",
       " '@mikemurdock703',\n",
       " '@mjonesto',\n",
       " '@simplerevolt',\n",
       " '@rp3_22',\n",
       " '@js_n_y_c',\n",
       " '@js_n_y_c',\n",
       " '@stopitdee',\n",
       " '@stephiscope',\n",
       " '@_yxngmami',\n",
       " '@slidingsideways',\n",
       " '@niagarcia03',\n",
       " '@buttercupevents',\n",
       " '@laryssastecyk',\n",
       " '@jeff_harris_nz',\n",
       " '@juliannabuck',\n",
       " '@nyjetlife',\n",
       " '@annabellae',\n",
       " '@heyheyman',\n",
       " '@rp3_22',\n",
       " '@cmg799',\n",
       " '@zacxwolf',\n",
       " '@1shirtsupport',\n",
       " '@gamegrumps',\n",
       " '@sammy_butler',\n",
       " '@sillymeeeee',\n",
       " '@carol_liz29',\n",
       " '@ddelmoli',\n",
       " '@jetblue',\n",
       " '@simplerevolt',\n",
       " '@united',\n",
       " '@jetblue',\n",
       " '@mike_gramajo',\n",
       " '@authorakansha:',\n",
       " '@jetblue',\n",
       " '@rp3_22',\n",
       " '@andrewctran',\n",
       " '@todd530:',\n",
       " '@bshieldswftv',\n",
       " '@rmccraniewftv',\n",
       " '@mjuricawftv',\n",
       " '@gwaldenwftv',\n",
       " '@jetblue',\n",
       " '@tterrywftv',\n",
       " '@sarendippity',\n",
       " '@photopickles',\n",
       " '@1shirtsupport',\n",
       " '@mikemurdock703',\n",
       " '@uygev2015',\n",
       " '@wrc_of_ny',\n",
       " '@js_n_y_c',\n",
       " '@mike_gramajo',\n",
       " '@mlarosa84',\n",
       " '@jsa1987',\n",
       " '@patrickm254',\n",
       " '@airababyfullam',\n",
       " '@jetblue',\n",
       " '@rubzica',\n",
       " '@turms19',\n",
       " '@united',\n",
       " '@jetblue',\n",
       " '@chris4851',\n",
       " '@okayrene',\n",
       " '@jetblue',\n",
       " '@1shirtsupport',\n",
       " '@mike_gramajo',\n",
       " '@juls7826l',\n",
       " '@ecarruthersjr',\n",
       " '@alfiealfonzo',\n",
       " '@acordov1',\n",
       " '@jsa1987',\n",
       " '@chris4851',\n",
       " '@jongad1',\n",
       " '@kibskelble',\n",
       " '@mike_gramajo',\n",
       " '@turms19',\n",
       " '@okayrene',\n",
       " '@westonbaker',\n",
       " '@aaronjperez',\n",
       " '@niagarcia03',\n",
       " '@jack_septic_eye:',\n",
       " '@1shirtsupport',\n",
       " '@laryssastecyk',\n",
       " '@cchiavetta',\n",
       " '@rubzica']"
      ]
     },
     "execution_count": 312,
     "metadata": {},
     "output_type": "execute_result"
    }
   ],
   "source": [
    "[i for i in wordList if i.startswith('#')]\n",
    "[i for i in wordList if i.startswith('@')]"
   ]
  },
  {
   "cell_type": "code",
   "execution_count": 370,
   "metadata": {
    "collapsed": false
   },
   "outputs": [
    {
     "name": "stdout",
     "output_type": "stream",
     "text": [
      "RT @OtotheBeirne: Excellent flight ?? @JetBlue! Question tho, if u knew flight was delayed in morning, why wait until 3ish to tell us? https…\n"
     ]
    },
    {
     "data": {
      "text/plain": [
       "[u'RT',\n",
       " u'@OtotheBeirne',\n",
       " u':',\n",
       " u'Excellent',\n",
       " u'flight',\n",
       " u'?',\n",
       " u'?',\n",
       " u'@JetBlue',\n",
       " u'!',\n",
       " u'Question',\n",
       " u'tho',\n",
       " u',',\n",
       " u'if',\n",
       " u'u',\n",
       " u'knew',\n",
       " u'flight',\n",
       " u'was',\n",
       " u'delayed',\n",
       " u'in',\n",
       " u'morning',\n",
       " u',',\n",
       " u'why',\n",
       " u'wait',\n",
       " u'until',\n",
       " u'3ish',\n",
       " u'to',\n",
       " u'tell',\n",
       " u'us',\n",
       " u'?',\n",
       " u'https',\n",
       " u'\\u2026']"
      ]
     },
     "execution_count": 370,
     "metadata": {},
     "output_type": "execute_result"
    }
   ],
   "source": [
    "print uniqTweets[0]\n",
    "tknzr.tokenize(uniqTweets[0])"
   ]
  },
  {
   "cell_type": "markdown",
   "metadata": {},
   "source": [
    "# Some sklearn stuff"
   ]
  },
  {
   "cell_type": "code",
   "execution_count": null,
   "metadata": {
    "collapsed": true
   },
   "outputs": [],
   "source": []
  },
  {
   "cell_type": "code",
   "execution_count": 373,
   "metadata": {
    "collapsed": true
   },
   "outputs": [],
   "source": [
    "from sklearn.feature_extraction import DictVectorizer"
   ]
  },
  {
   "cell_type": "code",
   "execution_count": 374,
   "metadata": {
    "collapsed": true
   },
   "outputs": [],
   "source": [
    "measurements = [\n",
    "...     {'city': 'Dubai', 'temperature': 33.},\n",
    "...     {'city': 'London', 'temperature': 12.},\n",
    "...     {'city': 'San Fransisco', 'temperature': 18.},\n",
    "... ]"
   ]
  },
  {
   "cell_type": "code",
   "execution_count": 377,
   "metadata": {
    "collapsed": false
   },
   "outputs": [],
   "source": [
    "vec = DictVectorizer()"
   ]
  },
  {
   "cell_type": "code",
   "execution_count": 378,
   "metadata": {
    "collapsed": false
   },
   "outputs": [
    {
     "data": {
      "text/plain": [
       "array([[  1.,   0.,   0.,  33.],\n",
       "       [  0.,   1.,   0.,  12.],\n",
       "       [  0.,   0.,   1.,  18.]])"
      ]
     },
     "execution_count": 378,
     "metadata": {},
     "output_type": "execute_result"
    }
   ],
   "source": [
    "vec.fit_transform(measurements).toarray()"
   ]
  },
  {
   "cell_type": "code",
   "execution_count": 379,
   "metadata": {
    "collapsed": false
   },
   "outputs": [
    {
     "data": {
      "text/plain": [
       "['city=Dubai', 'city=London', 'city=San Fransisco', 'temperature']"
      ]
     },
     "execution_count": 379,
     "metadata": {},
     "output_type": "execute_result"
    }
   ],
   "source": [
    "vec.get_feature_names()"
   ]
  },
  {
   "cell_type": "code",
   "execution_count": null,
   "metadata": {
    "collapsed": true
   },
   "outputs": [],
   "source": []
  },
  {
   "cell_type": "code",
   "execution_count": null,
   "metadata": {
    "collapsed": true
   },
   "outputs": [],
   "source": []
  },
  {
   "cell_type": "code",
   "execution_count": 380,
   "metadata": {
    "collapsed": true
   },
   "outputs": [],
   "source": [
    "from sklearn.feature_extraction.text import CountVectorizer"
   ]
  },
  {
   "cell_type": "code",
   "execution_count": 382,
   "metadata": {
    "collapsed": false
   },
   "outputs": [
    {
     "data": {
      "text/plain": [
       "CountVectorizer(analyzer=u'word', binary=False, decode_error=u'strict',\n",
       "        dtype=<type 'numpy.int64'>, encoding=u'utf-8', input=u'content',\n",
       "        lowercase=True, max_df=1.0, max_features=None, min_df=1,\n",
       "        ngram_range=(1, 1), preprocessor=None, stop_words=None,\n",
       "        strip_accents=None, token_pattern=u'(?u)\\\\b\\\\w\\\\w+\\\\b',\n",
       "        tokenizer=None, vocabulary=None)"
      ]
     },
     "execution_count": 382,
     "metadata": {},
     "output_type": "execute_result"
    }
   ],
   "source": [
    "vectorizer = CountVectorizer(min_df=1)\n",
    "vectorizer             "
   ]
  },
  {
   "cell_type": "code",
   "execution_count": 383,
   "metadata": {
    "collapsed": false
   },
   "outputs": [
    {
     "data": {
      "text/plain": [
       "<4x9 sparse matrix of type '<type 'numpy.int64'>'\n",
       "\twith 19 stored elements in Compressed Sparse Row format>"
      ]
     },
     "execution_count": 383,
     "metadata": {},
     "output_type": "execute_result"
    }
   ],
   "source": [
    ">>> corpus = [\n",
    "...     'This is the first document.',\n",
    "...     'This is the second second document.',\n",
    "...     'And the third one.',\n",
    "...     'Is this the first document?',\n",
    "... ]\n",
    ">>> X = vectorizer.fit_transform(corpus)\n",
    ">>> X             "
   ]
  },
  {
   "cell_type": "code",
   "execution_count": 385,
   "metadata": {
    "collapsed": false
   },
   "outputs": [
    {
     "data": {
      "text/plain": [
       "True"
      ]
     },
     "execution_count": 385,
     "metadata": {},
     "output_type": "execute_result"
    }
   ],
   "source": [
    ">>> analyze = vectorizer.build_analyzer()\n",
    ">>> analyze(\"This is a text document to analyze.\") == (\n",
    "...     ['this', 'is', 'text', 'document', 'to', 'analyze'])\n"
   ]
  },
  {
   "cell_type": "code",
   "execution_count": 386,
   "metadata": {
    "collapsed": false
   },
   "outputs": [
    {
     "data": {
      "text/plain": [
       "array([[0, 1, 1, 1, 0, 0, 1, 0, 1],\n",
       "       [0, 1, 0, 1, 0, 2, 1, 0, 1],\n",
       "       [1, 0, 0, 0, 1, 0, 1, 1, 0],\n",
       "       [0, 1, 1, 1, 0, 0, 1, 0, 1]])"
      ]
     },
     "execution_count": 386,
     "metadata": {},
     "output_type": "execute_result"
    }
   ],
   "source": [
    ">>> vectorizer.get_feature_names() == (\n",
    "...     ['and', 'document', 'first', 'is', 'one',\n",
    "...      'second', 'the', 'third', 'this'])\n",
    "True\n",
    "\n",
    ">>> X.toarray()           "
   ]
  },
  {
   "cell_type": "code",
   "execution_count": 387,
   "metadata": {
    "collapsed": false
   },
   "outputs": [
    {
     "data": {
      "text/plain": [
       "1"
      ]
     },
     "execution_count": 387,
     "metadata": {},
     "output_type": "execute_result"
    }
   ],
   "source": [
    ">>> vectorizer.vocabulary_.get('document')"
   ]
  },
  {
   "cell_type": "code",
   "execution_count": 388,
   "metadata": {
    "collapsed": false
   },
   "outputs": [
    {
     "data": {
      "text/plain": [
       "array([[0, 0, 0, 0, 0, 0, 0, 0, 0]])"
      ]
     },
     "execution_count": 388,
     "metadata": {},
     "output_type": "execute_result"
    }
   ],
   "source": [
    ">>> vectorizer.transform(['Something completely new.']).toarray()"
   ]
  },
  {
   "cell_type": "code",
   "execution_count": 389,
   "metadata": {
    "collapsed": false
   },
   "outputs": [
    {
     "data": {
      "text/plain": [
       "True"
      ]
     },
     "execution_count": 389,
     "metadata": {},
     "output_type": "execute_result"
    }
   ],
   "source": [
    ">>> bigram_vectorizer = CountVectorizer(ngram_range=(1, 2),\n",
    "...                                     token_pattern=r'\\b\\w+\\b', min_df=1)\n",
    ">>> analyze = bigram_vectorizer.build_analyzer()\n",
    ">>> analyze('Bi-grams are cool!') == (\n",
    "...     ['bi', 'grams', 'are', 'cool', 'bi grams', 'grams are', 'are cool'])"
   ]
  },
  {
   "cell_type": "code",
   "execution_count": 390,
   "metadata": {
    "collapsed": false
   },
   "outputs": [
    {
     "data": {
      "text/plain": [
       "array([[0, 0, 1, 1, 1, 1, 1, 0, 0, 0, 0, 0, 1, 1, 0, 0, 0, 0, 1, 1, 0],\n",
       "       [0, 0, 1, 0, 0, 1, 1, 0, 0, 2, 1, 1, 1, 0, 1, 0, 0, 0, 1, 1, 0],\n",
       "       [1, 1, 0, 0, 0, 0, 0, 0, 1, 0, 0, 0, 1, 0, 0, 1, 1, 1, 0, 0, 0],\n",
       "       [0, 0, 1, 1, 1, 1, 0, 1, 0, 0, 0, 0, 1, 1, 0, 0, 0, 0, 1, 0, 1]])"
      ]
     },
     "execution_count": 390,
     "metadata": {},
     "output_type": "execute_result"
    }
   ],
   "source": [
    ">>> X_2 = bigram_vectorizer.fit_transform(corpus).toarray()\n",
    ">>> X_2"
   ]
  },
  {
   "cell_type": "code",
   "execution_count": 391,
   "metadata": {
    "collapsed": false
   },
   "outputs": [
    {
     "data": {
      "text/plain": [
       "array([0, 0, 0, 1])"
      ]
     },
     "execution_count": 391,
     "metadata": {},
     "output_type": "execute_result"
    }
   ],
   "source": [
    ">>> feature_index = bigram_vectorizer.vocabulary_.get('is this')\n",
    ">>> X_2[:, feature_index]     "
   ]
  },
  {
   "cell_type": "code",
   "execution_count": null,
   "metadata": {
    "collapsed": true
   },
   "outputs": [],
   "source": []
  },
  {
   "cell_type": "code",
   "execution_count": 394,
   "metadata": {
    "collapsed": false
   },
   "outputs": [],
   "source": [
    "from sklearn.datasets import fetch_20newsgroups\n",
    "from sklearn.decomposition import TruncatedSVD\n",
    "from sklearn.feature_extraction.text import TfidfVectorizer\n",
    "from sklearn.feature_extraction.text import HashingVectorizer\n",
    "from sklearn.feature_extraction.text import TfidfTransformer\n",
    "from sklearn.pipeline import make_pipeline\n",
    "from sklearn.preprocessing import Normalizer\n",
    "from sklearn import metrics\n",
    "\n",
    "from sklearn.cluster import KMeans, MiniBatchKMeans\n",
    "\n",
    "import logging\n",
    "from optparse import OptionParser\n",
    "import sys\n",
    "from time import time\n",
    "\n",
    "import numpy as np\n"
   ]
  },
  {
   "cell_type": "code",
   "execution_count": 395,
   "metadata": {
    "collapsed": false
   },
   "outputs": [
    {
     "name": "stdout",
     "output_type": "stream",
     "text": [
      "Loading 20 newsgroups dataset for categories:\n",
      "['alt.atheism', 'talk.religion.misc', 'comp.graphics', 'sci.space']\n"
     ]
    }
   ],
   "source": [
    "categories = [\n",
    "    'alt.atheism',\n",
    "    'talk.religion.misc',\n",
    "    'comp.graphics',\n",
    "    'sci.space',\n",
    "]\n",
    "# Uncomment the following to do the analysis on all the categories\n",
    "#categories = None\n",
    "\n",
    "print(\"Loading 20 newsgroups dataset for categories:\")\n",
    "print(categories)"
   ]
  },
  {
   "cell_type": "code",
   "execution_count": 396,
   "metadata": {
    "collapsed": true
   },
   "outputs": [],
   "source": [
    "dataset = fetch_20newsgroups(subset='all', categories=categories,\n",
    "                             shuffle=True, random_state=42)"
   ]
  },
  {
   "cell_type": "code",
   "execution_count": 400,
   "metadata": {
    "collapsed": false
   },
   "outputs": [
    {
     "name": "stdout",
     "output_type": "stream",
     "text": [
      "3387 documents\n",
      "4 categories\n",
      "\n"
     ]
    }
   ],
   "source": [
    "print(\"%d documents\" % len(dataset.data))\n",
    "print(\"%d categories\" % len(dataset.target_names))\n",
    "print()\n",
    "\n",
    "labels = dataset.target\n",
    "true_k = np.unique(labels).shape[0]"
   ]
  },
  {
   "cell_type": "code",
   "execution_count": 409,
   "metadata": {
    "collapsed": false
   },
   "outputs": [
    {
     "data": {
      "text/plain": [
       "['description', 'DESCR', 'filenames', 'target_names', 'data', 'target']"
      ]
     },
     "execution_count": 409,
     "metadata": {},
     "output_type": "execute_result"
    }
   ],
   "source": [
    "dataset.keys()\n",
    "#dataset['DESCR']"
   ]
  },
  {
   "cell_type": "code",
   "execution_count": 415,
   "metadata": {
    "collapsed": false
   },
   "outputs": [
    {
     "name": "stdout",
     "output_type": "stream",
     "text": [
      "Extracting features from the training dataset using a sparse vectorizer\n"
     ]
    }
   ],
   "source": [
    "use_hashing = True\n",
    "use_idf = True\n",
    "n_features = 10000\n",
    "\n",
    "print(\"Extracting features from the training dataset using a sparse vectorizer\")\n",
    "t0 = time()\n",
    "if use_hashing:\n",
    "    if use_idf:\n",
    "        # Perform an IDF normalization on the output of HashingVectorizer\n",
    "        hasher = HashingVectorizer(n_features=n_features,\n",
    "                                   stop_words='english', non_negative=True,\n",
    "                                   norm=None, binary=False)\n",
    "        vectorizer = make_pipeline(hasher, TfidfTransformer())\n",
    "    else:\n",
    "        vectorizer = HashingVectorizer(n_features=n_features,\n",
    "                                       stop_words='english',\n",
    "                                       non_negative=False, norm='l2',\n",
    "                                       binary=False)\n",
    "else:\n",
    "    vectorizer = TfidfVectorizer(max_df=0.5, max_features=n_features,\n",
    "                                 min_df=2, stop_words='english',\n",
    "                                 use_idf=use_idf)\n",
    "X = vectorizer.fit_transform(dataset.data)\n"
   ]
  },
  {
   "cell_type": "code",
   "execution_count": 417,
   "metadata": {
    "collapsed": false
   },
   "outputs": [
    {
     "name": "stdout",
     "output_type": "stream",
     "text": [
      "done in 461.100359s\n",
      "n_samples: 3387, n_features: 10000\n",
      "\n"
     ]
    }
   ],
   "source": [
    "n_components = 0\n",
    "print(\"done in %fs\" % (time() - t0))\n",
    "print(\"n_samples: %d, n_features: %d\" % X.shape)\n",
    "print()\n",
    "\n",
    "if n_components:\n",
    "    print(\"Performing dimensionality reduction using LSA\")\n",
    "    t0 = time()\n",
    "    # Vectorizer results are normalized, which makes KMeans behave as\n",
    "    # spherical k-means for better results. Since LSA/SVD results are\n",
    "    # not normalized, we have to redo the normalization.\n",
    "    svd = TruncatedSVD(n_components)\n",
    "    normalizer = Normalizer(copy=False)\n",
    "    lsa = make_pipeline(svd, normalizer)\n",
    "\n",
    "    X = lsa.fit_transform(X)\n",
    "\n",
    "    print(\"done in %fs\" % (time() - t0))\n",
    "\n",
    "    explained_variance = svd.explained_variance_ratio_.sum()\n",
    "    print(\"Explained variance of the SVD step: {}%\".format(\n",
    "        int(explained_variance * 100)))\n",
    "\n",
    "    print()\n"
   ]
  },
  {
   "cell_type": "code",
   "execution_count": 422,
   "metadata": {
    "collapsed": false
   },
   "outputs": [
    {
     "name": "stdout",
     "output_type": "stream",
     "text": [
      "Clustering sparse data with MiniBatchKMeans(batch_size=1000, compute_labels=True, init='k-means++',\n",
      "        init_size=1000, max_iter=100, max_no_improvement=10, n_clusters=4,\n",
      "        n_init=1, random_state=None, reassignment_ratio=0.01, tol=0.0,\n",
      "        verbose=False)\n",
      "done in 0.134s\n",
      "\n",
      "Homogeneity: 0.467\n",
      "Completeness: 0.532\n",
      "V-measure: 0.497\n",
      "Adjusted Rand-Index: 0.403\n",
      "Silhouette Coefficient: 0.006\n",
      "\n"
     ]
    }
   ],
   "source": [
    "###############################################################################\n",
    "# Do the actual clustering\n",
    "\n",
    "minibatchBool = True\n",
    "verboseBool = False\n",
    "\n",
    "if minibatchBool:\n",
    "    km = MiniBatchKMeans(n_clusters=true_k, init='k-means++', n_init=1,\n",
    "                         init_size=1000, batch_size=1000, verbose=verboseBool)\n",
    "else:\n",
    "    km = KMeans(n_clusters=true_k, init='k-means++', max_iter=100, n_init=1,\n",
    "                verbose=opts.verbose)\n",
    "\n",
    "print(\"Clustering sparse data with %s\" % km)\n",
    "t0 = time()\n",
    "km.fit(X)\n",
    "print(\"done in %0.3fs\" % (time() - t0))\n",
    "print()\n",
    "\n",
    "print(\"Homogeneity: %0.3f\" % metrics.homogeneity_score(labels, km.labels_))\n",
    "print(\"Completeness: %0.3f\" % metrics.completeness_score(labels, km.labels_))\n",
    "print(\"V-measure: %0.3f\" % metrics.v_measure_score(labels, km.labels_))\n",
    "print(\"Adjusted Rand-Index: %.3f\"\n",
    "      % metrics.adjusted_rand_score(labels, km.labels_))\n",
    "print(\"Silhouette Coefficient: %0.3f\"\n",
    "      % metrics.silhouette_score(X, km.labels_, sample_size=1000))\n",
    "\n",
    "print()"
   ]
  },
  {
   "cell_type": "code",
   "execution_count": 428,
   "metadata": {
    "collapsed": false
   },
   "outputs": [
    {
     "name": "stdout",
     "output_type": "stream",
     "text": [
      "Top terms per cluster:\n"
     ]
    },
    {
     "ename": "AttributeError",
     "evalue": "'Pipeline' object has no attribute 'get_feature_names'",
     "output_type": "error",
     "traceback": [
      "\u001b[0;31m---------------------------------------------------------------------------\u001b[0m",
      "\u001b[0;31mAttributeError\u001b[0m                            Traceback (most recent call last)",
      "\u001b[0;32m<ipython-input-428-7e4e5b162d48>\u001b[0m in \u001b[0;36m<module>\u001b[0;34m()\u001b[0m\n\u001b[1;32m     10\u001b[0m         \u001b[0morder_centroids\u001b[0m \u001b[0;34m=\u001b[0m \u001b[0mkm\u001b[0m\u001b[0;34m.\u001b[0m\u001b[0mcluster_centers_\u001b[0m\u001b[0;34m.\u001b[0m\u001b[0margsort\u001b[0m\u001b[0;34m(\u001b[0m\u001b[0;34m)\u001b[0m\u001b[0;34m[\u001b[0m\u001b[0;34m:\u001b[0m\u001b[0;34m,\u001b[0m \u001b[0;34m:\u001b[0m\u001b[0;34m:\u001b[0m\u001b[0;34m-\u001b[0m\u001b[0;36m1\u001b[0m\u001b[0;34m]\u001b[0m\u001b[0;34m\u001b[0m\u001b[0m\n\u001b[1;32m     11\u001b[0m \u001b[0;34m\u001b[0m\u001b[0m\n\u001b[0;32m---> 12\u001b[0;31m     \u001b[0mterms\u001b[0m \u001b[0;34m=\u001b[0m \u001b[0mvectorizer\u001b[0m\u001b[0;34m.\u001b[0m\u001b[0mget_feature_names\u001b[0m\u001b[0;34m(\u001b[0m\u001b[0;34m)\u001b[0m\u001b[0;34m\u001b[0m\u001b[0m\n\u001b[0m\u001b[1;32m     13\u001b[0m     \u001b[0;32mfor\u001b[0m \u001b[0mi\u001b[0m \u001b[0;32min\u001b[0m \u001b[0mrange\u001b[0m\u001b[0;34m(\u001b[0m\u001b[0mtrue_k\u001b[0m\u001b[0;34m)\u001b[0m\u001b[0;34m:\u001b[0m\u001b[0;34m\u001b[0m\u001b[0m\n\u001b[1;32m     14\u001b[0m         \u001b[0;32mprint\u001b[0m\u001b[0;34m(\u001b[0m\u001b[0;34m\"Cluster %d:\"\u001b[0m \u001b[0;34m%\u001b[0m \u001b[0mi\u001b[0m\u001b[0;34m,\u001b[0m \u001b[0mend\u001b[0m\u001b[0;34m=\u001b[0m\u001b[0;34m''\u001b[0m\u001b[0;34m)\u001b[0m\u001b[0;34m\u001b[0m\u001b[0m\n",
      "\u001b[0;31mAttributeError\u001b[0m: 'Pipeline' object has no attribute 'get_feature_names'"
     ]
    }
   ],
   "source": [
    "use_hashing = False\n",
    "\n",
    "if not use_hashing:\n",
    "    print(\"Top terms per cluster:\")\n",
    "\n",
    "    if n_components:\n",
    "        original_space_centroids = svd.inverse_transform(km.cluster_centers_)\n",
    "        order_centroids = original_space_centroids.argsort()[:, ::-1]\n",
    "    else:\n",
    "        order_centroids = km.cluster_centers_.argsort()[:, ::-1]\n",
    "\n",
    "    terms = vectorizer.get_feature_names()\n",
    "    for i in range(true_k):\n",
    "        print(\"Cluster %d:\" % i, end='')\n",
    "        for ind in order_centroids[i, :10]:\n",
    "            print(' %s' % terms[ind], end='')\n",
    "        print()"
   ]
  },
  {
   "cell_type": "code",
   "execution_count": null,
   "metadata": {
    "collapsed": true
   },
   "outputs": [],
   "source": []
  }
 ],
 "metadata": {
  "kernelspec": {
   "display_name": "Python 2",
   "language": "python",
   "name": "python2"
  },
  "language_info": {
   "codemirror_mode": {
    "name": "ipython",
    "version": 2
   },
   "file_extension": ".py",
   "mimetype": "text/x-python",
   "name": "python",
   "nbconvert_exporter": "python",
   "pygments_lexer": "ipython2",
   "version": "2.7.11"
  }
 },
 "nbformat": 4,
 "nbformat_minor": 0
}
