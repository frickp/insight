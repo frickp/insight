{
 "cells": [
  {
   "cell_type": "code",
   "execution_count": 18,
   "metadata": {
    "collapsed": false
   },
   "outputs": [],
   "source": [
    "import nltk\n",
    "import re\n",
    "\n",
    "import pyLDAvis as plda\n",
    "plda.enable_notebook()\n",
    "import pyLDAvis.gensim\n",
    "\n",
    "import gensim\n",
    "import pandas as pd\n",
    "import numpy as np\n",
    "import sqlalchemy as sa\n",
    "%matplotlib inline\n",
    "%config InlineBackend.figure_format='retina'\n",
    "import matplotlib.pyplot as plt\n",
    "import seaborn as sns\n",
    "from nltk.corpus import stopwords\n",
    "sns.set_context('talk')\n",
    "sns.set_style('darkgrid') \n",
    "plt.rcParams['figure.figsize'] = 12, 8  # plotsize\n",
    "pd.set_option('display.max_columns', 500)\n",
    "# weave, alfred, localfred = pymysql engines"
   ]
  },
  {
   "cell_type": "code",
   "execution_count": 23,
   "metadata": {
    "collapsed": false
   },
   "outputs": [
    {
     "data": {
      "text/html": [
       "<div style=\"max-height:1000px;max-width:1500px;overflow:auto;\">\n",
       "<table border=\"1\" class=\"dataframe\">\n",
       "  <thead>\n",
       "    <tr style=\"text-align: right;\">\n",
       "      <th></th>\n",
       "      <th>Tables_in_alfred_prod</th>\n",
       "    </tr>\n",
       "  </thead>\n",
       "  <tbody>\n",
       "    <tr>\n",
       "      <th>0</th>\n",
       "      <td>email_logs</td>\n",
       "    </tr>\n",
       "    <tr>\n",
       "      <th>1</th>\n",
       "      <td>email_types</td>\n",
       "    </tr>\n",
       "    <tr>\n",
       "      <th>2</th>\n",
       "      <td>filter_views</td>\n",
       "    </tr>\n",
       "    <tr>\n",
       "      <th>3</th>\n",
       "      <td>filter_views_users</td>\n",
       "    </tr>\n",
       "    <tr>\n",
       "      <th>4</th>\n",
       "      <td>match_candidates</td>\n",
       "    </tr>\n",
       "    <tr>\n",
       "      <th>5</th>\n",
       "      <td>matches</td>\n",
       "    </tr>\n",
       "    <tr>\n",
       "      <th>6</th>\n",
       "      <td>plans</td>\n",
       "    </tr>\n",
       "    <tr>\n",
       "      <th>7</th>\n",
       "      <td>registration_metas</td>\n",
       "    </tr>\n",
       "    <tr>\n",
       "      <th>8</th>\n",
       "      <td>registrations</td>\n",
       "    </tr>\n",
       "    <tr>\n",
       "      <th>9</th>\n",
       "      <td>schema_migrations</td>\n",
       "    </tr>\n",
       "    <tr>\n",
       "      <th>10</th>\n",
       "      <td>temp_meetings</td>\n",
       "    </tr>\n",
       "    <tr>\n",
       "      <th>11</th>\n",
       "      <td>temp_new_user_activity</td>\n",
       "    </tr>\n",
       "    <tr>\n",
       "      <th>12</th>\n",
       "      <td>temp_user_weeks</td>\n",
       "    </tr>\n",
       "    <tr>\n",
       "      <th>13</th>\n",
       "      <td>templates</td>\n",
       "    </tr>\n",
       "    <tr>\n",
       "      <th>14</th>\n",
       "      <td>typeform_imports</td>\n",
       "    </tr>\n",
       "    <tr>\n",
       "      <th>15</th>\n",
       "      <td>user_notes</td>\n",
       "    </tr>\n",
       "    <tr>\n",
       "      <th>16</th>\n",
       "      <td>user_prefs</td>\n",
       "    </tr>\n",
       "    <tr>\n",
       "      <th>17</th>\n",
       "      <td>user_profiles</td>\n",
       "    </tr>\n",
       "    <tr>\n",
       "      <th>18</th>\n",
       "      <td>user_statuses</td>\n",
       "    </tr>\n",
       "    <tr>\n",
       "      <th>19</th>\n",
       "      <td>users</td>\n",
       "    </tr>\n",
       "    <tr>\n",
       "      <th>20</th>\n",
       "      <td>weeks</td>\n",
       "    </tr>\n",
       "  </tbody>\n",
       "</table>\n",
       "</div>"
      ],
      "text/plain": [
       "     Tables_in_alfred_prod\n",
       "0               email_logs\n",
       "1              email_types\n",
       "2             filter_views\n",
       "3       filter_views_users\n",
       "4         match_candidates\n",
       "5                  matches\n",
       "6                    plans\n",
       "7       registration_metas\n",
       "8            registrations\n",
       "9        schema_migrations\n",
       "10           temp_meetings\n",
       "11  temp_new_user_activity\n",
       "12         temp_user_weeks\n",
       "13               templates\n",
       "14        typeform_imports\n",
       "15              user_notes\n",
       "16              user_prefs\n",
       "17           user_profiles\n",
       "18           user_statuses\n",
       "19                   users\n",
       "20                   weeks"
      ]
     },
     "execution_count": 23,
     "metadata": {},
     "output_type": "execute_result"
    }
   ],
   "source": [
    "pd.read_sql_query(\"\"\"\n",
    "SHOW TABLES\n",
    "\"\"\", alfred)"
   ]
  },
  {
   "cell_type": "code",
   "execution_count": 46,
   "metadata": {
    "collapsed": false
   },
   "outputs": [],
   "source": [
    "alfredlookingfor = pd.read_sql_query(\"\"\"\n",
    "SELECT users.first_name, users.last_name, users.email, user_prefs.looking_for, user_prefs.hood, user_prefs.hood_notes\n",
    "FROM users\n",
    "JOIN user_prefs ON users.id = user_prefs.user_id\n",
    "\"\"\", alfred)"
   ]
  },
  {
   "cell_type": "code",
   "execution_count": 27,
   "metadata": {
    "collapsed": false,
    "scrolled": true
   },
   "outputs": [],
   "source": [
    "activealfred = pd.read_sql_query(\"\"\"\n",
    "SELECT id as alfred_id, first_name as alfred_first, last_name as alfred_last, email as alfred_email\n",
    "FROM users\n",
    "WHERE active = 1\n",
    "\"\"\", alfred)"
   ]
  },
  {
   "cell_type": "code",
   "execution_count": 29,
   "metadata": {
    "collapsed": false
   },
   "outputs": [],
   "source": [
    "activealfred.loc[:,'alfred_email'] = activealfred.alfred_email.str.lower()"
   ]
  },
  {
   "cell_type": "code",
   "execution_count": 119,
   "metadata": {
    "collapsed": false
   },
   "outputs": [
    {
     "data": {
      "text/html": [
       "<div style=\"max-height:1000px;max-width:1500px;overflow:auto;\">\n",
       "<table border=\"1\" class=\"dataframe\">\n",
       "  <thead>\n",
       "    <tr style=\"text-align: right;\">\n",
       "      <th></th>\n",
       "      <th>alfred_id</th>\n",
       "      <th>alfred_first</th>\n",
       "      <th>alfred_last</th>\n",
       "      <th>alfred_email</th>\n",
       "    </tr>\n",
       "  </thead>\n",
       "  <tbody>\n",
       "    <tr>\n",
       "      <th>0</th>\n",
       "      <td>1</td>\n",
       "      <td>Chris</td>\n",
       "      <td>Mo</td>\n",
       "      <td>n3xeurope@gmail.com</td>\n",
       "    </tr>\n",
       "    <tr>\n",
       "      <th>1</th>\n",
       "      <td>2</td>\n",
       "      <td>Andrew</td>\n",
       "      <td>Norris</td>\n",
       "      <td>andrew@taplytics.com</td>\n",
       "    </tr>\n",
       "    <tr>\n",
       "      <th>2</th>\n",
       "      <td>3</td>\n",
       "      <td>Maria</td>\n",
       "      <td>Greger</td>\n",
       "      <td>mcgseattle@yahoo.com</td>\n",
       "    </tr>\n",
       "    <tr>\n",
       "      <th>3</th>\n",
       "      <td>4</td>\n",
       "      <td>Andrea Joseph</td>\n",
       "      <td>Joseph</td>\n",
       "      <td>andreajoseph@kw.com</td>\n",
       "    </tr>\n",
       "    <tr>\n",
       "      <th>4</th>\n",
       "      <td>5</td>\n",
       "      <td>David</td>\n",
       "      <td>Yalland</td>\n",
       "      <td>yalland@live.co.uk</td>\n",
       "    </tr>\n",
       "  </tbody>\n",
       "</table>\n",
       "</div>"
      ],
      "text/plain": [
       "   alfred_id   alfred_first alfred_last          alfred_email\n",
       "0          1          Chris          Mo   n3xeurope@gmail.com\n",
       "1          2         Andrew      Norris  andrew@taplytics.com\n",
       "2          3          Maria      Greger  mcgseattle@yahoo.com\n",
       "3          4  Andrea Joseph      Joseph   andreajoseph@kw.com\n",
       "4          5          David     Yalland    yalland@live.co.uk"
      ]
     },
     "execution_count": 119,
     "metadata": {},
     "output_type": "execute_result"
    }
   ],
   "source": [
    "activealfred.head()"
   ]
  },
  {
   "cell_type": "code",
   "execution_count": 33,
   "metadata": {
    "collapsed": false
   },
   "outputs": [],
   "source": [
    "email_python_list = activealfred.alfred_email.tolist()\n",
    "email_python_string = str(email_python_list)\n",
    "email_sql_list = email_python_string.replace('[', '(').replace(']', ')')"
   ]
  },
  {
   "cell_type": "code",
   "execution_count": 34,
   "metadata": {
    "collapsed": true
   },
   "outputs": [],
   "source": [
    "weavesum = pd.read_sql_query(\"\"\"\n",
    "SELECT users.email, users.first_name, users.last_name, users.summary\n",
    "FROM users\n",
    "WHERE users.email in {email_list}\n",
    "\"\"\".format(email_list=email_sql_list), weave)"
   ]
  },
  {
   "cell_type": "code",
   "execution_count": 39,
   "metadata": {
    "collapsed": false
   },
   "outputs": [],
   "source": [
    "notnullweavesum = pd.read_sql_query(\"\"\"\n",
    "SELECT users.email, users.first_name, users.last_name, users.headline, users.summary\n",
    "FROM users\n",
    "WHERE users.email in {email_list}\n",
    "AND users.summary IS NOT NULL\n",
    "\"\"\".format(email_list=email_sql_list), weave)"
   ]
  },
  {
   "cell_type": "code",
   "execution_count": 47,
   "metadata": {
    "collapsed": false
   },
   "outputs": [
    {
     "name": "stdout",
     "output_type": "stream",
     "text": [
      "<class 'pandas.core.frame.DataFrame'>\n",
      "Int64Index: 1452 entries, 0 to 1451\n",
      "Data columns (total 6 columns):\n",
      "first_name     1452 non-null object\n",
      "last_name      1452 non-null object\n",
      "email          1452 non-null object\n",
      "looking_for    1452 non-null object\n",
      "hood           1452 non-null object\n",
      "hood_notes     112 non-null object\n",
      "dtypes: object(6)\n",
      "memory usage: 79.4+ KB\n"
     ]
    }
   ],
   "source": [
    "alfredlookingfor.info()"
   ]
  },
  {
   "cell_type": "code",
   "execution_count": 40,
   "metadata": {
    "collapsed": false
   },
   "outputs": [
    {
     "name": "stdout",
     "output_type": "stream",
     "text": [
      "<class 'pandas.core.frame.DataFrame'>\n",
      "Int64Index: 422 entries, 0 to 421\n",
      "Data columns (total 5 columns):\n",
      "email         422 non-null object\n",
      "first_name    422 non-null object\n",
      "last_name     422 non-null object\n",
      "headline      422 non-null object\n",
      "summary       422 non-null object\n",
      "dtypes: object(5)\n",
      "memory usage: 19.8+ KB\n"
     ]
    }
   ],
   "source": [
    "notnullweavesum.info()"
   ]
  },
  {
   "cell_type": "code",
   "execution_count": 2,
   "metadata": {
    "collapsed": true
   },
   "outputs": [],
   "source": [
    "# weavesum = pd.read_pickle('../data/weavesummaries.pkl') "
   ]
  },
  {
   "cell_type": "code",
   "execution_count": 54,
   "metadata": {
    "collapsed": true
   },
   "outputs": [],
   "source": [
    "wnl = nltk.stem.WordNetLemmatizer()\n",
    "stopnltk = nltk.corpus.stopwords.words('english')\n",
    "\n",
    "def lowertitle(word):\n",
    "        if word.istitle():\n",
    "            word = word.lower()\n",
    "        return word\n",
    "    \n",
    "def doc_lower_title(doc):\n",
    "    return \" \".join([lowertitle(word) for word in doc.split()])\n",
    "\n",
    "def corpus_lower_title(corpus):\n",
    "    return [doc_lower_title(doc) for doc in corpus]\n",
    "\n",
    "def lemmatize_doc(doc):\n",
    "    return \" \".join([wnl.lemmatize(i) for i in nltk.word_tokenize(doc)])\n",
    "\n",
    "def lemmatize_corpus(prepared_corpus):\n",
    "    lem_corpus = []\n",
    "    for doc in prepared_corpus:\n",
    "        lem_corpus.append(lemmatize_doc(doc))\n",
    "    return lem_corpus\n",
    "\n",
    "def alphanum_prep_corpus(corpus, num=True):\n",
    "    if num:\n",
    "        regex = re.compile('[^a-zA-Z0-9]')\n",
    "    else:\n",
    "        regex = re.compile('[^a-zA-Z]')\n",
    "    corpus = [' '.join(j.decode('cp1250').encode('ascii', 'ignore').split()) for j in corpus]\n",
    "    corpus = [re.sub(r'https?:\\/\\/.*\\.com', '', j) for j in corpus]\n",
    "    corpus = [re.sub(r'https?:\\/\\/.*\\.net', '', j) for j in corpus]\n",
    "    corpus = [re.sub(r'https?:\\/\\/.*\\.html', '', j) for j in corpus]\n",
    "    corpus = [re.sub(r'[\\']', '', j) for j in corpus]\n",
    "    corpus = [re.sub(r'[\\\"]', ' ', j) for j in corpus]\n",
    "    corpus = [regex.sub(' ', j) for j in corpus]\n",
    "    return corpus_lower_title(corpus)"
   ]
  },
  {
   "cell_type": "code",
   "execution_count": 41,
   "metadata": {
    "collapsed": false
   },
   "outputs": [
    {
     "data": {
      "text/html": [
       "<div style=\"max-height:1000px;max-width:1500px;overflow:auto;\">\n",
       "<table border=\"1\" class=\"dataframe\">\n",
       "  <thead>\n",
       "    <tr style=\"text-align: right;\">\n",
       "      <th></th>\n",
       "      <th>email</th>\n",
       "      <th>first_name</th>\n",
       "      <th>last_name</th>\n",
       "      <th>headline</th>\n",
       "      <th>summary</th>\n",
       "    </tr>\n",
       "  </thead>\n",
       "  <tbody>\n",
       "    <tr>\n",
       "      <th>0</th>\n",
       "      <td>jhychao@gmail.com</td>\n",
       "      <td>Jessica</td>\n",
       "      <td>Chao</td>\n",
       "      <td>designing an innovative health system; not a p...</td>\n",
       "      <td>Always learning whether in healthcare or tech....</td>\n",
       "    </tr>\n",
       "  </tbody>\n",
       "</table>\n",
       "</div>"
      ],
      "text/plain": [
       "               email first_name last_name  \\\n",
       "0  jhychao@gmail.com    Jessica      Chao   \n",
       "\n",
       "                                            headline  \\\n",
       "0  designing an innovative health system; not a p...   \n",
       "\n",
       "                                             summary  \n",
       "0  Always learning whether in healthcare or tech....  "
      ]
     },
     "execution_count": 41,
     "metadata": {},
     "output_type": "execute_result"
    }
   ],
   "source": [
    "notnullweavesum.head(1)"
   ]
  },
  {
   "cell_type": "code",
   "execution_count": 48,
   "metadata": {
    "collapsed": false
   },
   "outputs": [],
   "source": [
    "lookingcorp = alfredlookingfor.loc[:,['looking_for',]].apply(lambda row: ' '.join(row.dropna()), axis=1).tolist()\n",
    "summarycorp = notnullweavesum.loc[:,['headline','summary',]].apply(lambda row: ' '.join(row.dropna()), axis=1).tolist()"
   ]
  },
  {
   "cell_type": "code",
   "execution_count": 50,
   "metadata": {
    "collapsed": false
   },
   "outputs": [
    {
     "data": {
      "text/plain": [
       "'marketing managers'"
      ]
     },
     "execution_count": 50,
     "metadata": {},
     "output_type": "execute_result"
    }
   ],
   "source": [
    "lookingcorp[0]"
   ]
  },
  {
   "cell_type": "code",
   "execution_count": 51,
   "metadata": {
    "collapsed": false
   },
   "outputs": [
    {
     "data": {
      "text/plain": [
       "'designing an innovative health system; not a paradox Always learning whether in healthcare or tech. Love designing the next product. \\n\\nTwitter: jessicahchao'"
      ]
     },
     "execution_count": 51,
     "metadata": {},
     "output_type": "execute_result"
    }
   ],
   "source": [
    "summarycorp[0]"
   ]
  },
  {
   "cell_type": "code",
   "execution_count": 61,
   "metadata": {
    "collapsed": true
   },
   "outputs": [],
   "source": [
    "def process_corpus_to_dictionary_ingestion(corp, numeric=False):\n",
    "    alphacorp = alphanum_prep_corpus(corp, num=numeric)\n",
    "    alphalemmcorp = lemmatize_corpus(alphacorp)\n",
    "    alphastopcorp = [[word for word in t.split() if (word not in stopnltk)] for t in alphalemmcorp]\n",
    "    #alphadic = gensim.corpora.Dictionary(alphastopcorp)\n",
    "    #alphacorp = [alphadic.doc2bow(txt) for txt in alphastopcorp]\n",
    "    return alphastopcorp"
   ]
  },
  {
   "cell_type": "code",
   "execution_count": 62,
   "metadata": {
    "collapsed": true
   },
   "outputs": [],
   "source": [
    "lookcorp = process_corpus_to_dictionary_ingestion(lookingcorp)"
   ]
  },
  {
   "cell_type": "code",
   "execution_count": 64,
   "metadata": {
    "collapsed": false
   },
   "outputs": [],
   "source": [
    "sumcorp = process_corpus_to_dictionary_ingestion(summarycorp)"
   ]
  },
  {
   "cell_type": "code",
   "execution_count": 57,
   "metadata": {
    "collapsed": true
   },
   "outputs": [],
   "source": [
    "weavedic = gensim.corpora.Dictionary.load('../data/20150616_weave_summaries.dict')"
   ]
  },
  {
   "cell_type": "code",
   "execution_count": 58,
   "metadata": {
    "collapsed": true
   },
   "outputs": [],
   "source": [
    "weavelda = gensim.models.LdaModel.load('../data/20150616_weave_summaries.lda')"
   ]
  },
  {
   "cell_type": "code",
   "execution_count": 82,
   "metadata": {
    "collapsed": false
   },
   "outputs": [
    {
     "name": "stdout",
     "output_type": "stream",
     "text": [
      "Designers, Developers, Anyone into startups, People in the manufacturing industry \n",
      "[u'designer', u'developer', u'anyone', u'startup', u'people', u'manufacturing', u'industry']\n"
     ]
    }
   ],
   "source": [
    "n = 7\n",
    "print lookingcorp[n]\n",
    "print lookcorp[n]"
   ]
  },
  {
   "cell_type": "code",
   "execution_count": 83,
   "metadata": {
    "collapsed": false
   },
   "outputs": [
    {
     "data": {
      "text/plain": [
       "[(3, 0.23299856449570969),\n",
       " (18, 0.29296312808368519),\n",
       " (19, 0.36778830685637093)]"
      ]
     },
     "execution_count": 83,
     "metadata": {},
     "output_type": "execute_result"
    }
   ],
   "source": [
    "weavelda[weavedic.doc2bow(lookcorp[7])]"
   ]
  },
  {
   "cell_type": "code",
   "execution_count": null,
   "metadata": {
    "collapsed": true
   },
   "outputs": [],
   "source": [
    "# from checking a couple of them, it looks like this is actually working\n",
    "# a caveat to this working is that I see the same phenomenon that Alex M\n",
    "# saw where a given BOW-representation of a document is usually assigned\n",
    "# only one strong vector\n",
    "# n=7 is an exception, where many of the vectors are 0, and three have high representation"
   ]
  },
  {
   "cell_type": "code",
   "execution_count": 89,
   "metadata": {
    "collapsed": false
   },
   "outputs": [],
   "source": [
    "# now I want to try gensim's built in similarity function\n",
    "# I'll prepare the sumcorp as the indexed corpus and query individual lookcorp entries\n",
    "# first I need to get the vector space representation of each corpus\n",
    "Vlookcorp = [weavedic.doc2bow(txt) for txt in lookcorp]"
   ]
  },
  {
   "cell_type": "code",
   "execution_count": 93,
   "metadata": {
    "collapsed": false
   },
   "outputs": [
    {
     "data": {
      "text/plain": [
       "[(27, 1),\n",
       " (86, 1),\n",
       " (138, 3),\n",
       " (147, 1),\n",
       " (148, 1),\n",
       " (293, 3),\n",
       " (358, 1),\n",
       " (1091, 1),\n",
       " (1266, 1),\n",
       " (3899, 1)]"
      ]
     },
     "execution_count": 93,
     "metadata": {},
     "output_type": "execute_result"
    }
   ],
   "source": [
    "Vlookcorp[2]"
   ]
  },
  {
   "cell_type": "code",
   "execution_count": 94,
   "metadata": {
    "collapsed": true
   },
   "outputs": [],
   "source": [
    "Vsumcorp = [weavedic.doc2bow(txt) for txt in sumcorp]"
   ]
  },
  {
   "cell_type": "code",
   "execution_count": 99,
   "metadata": {
    "collapsed": false
   },
   "outputs": [
    {
     "name": "stderr",
     "output_type": "stream",
     "text": [
      "WARNING:gensim.similarities.docsim:scanning corpus to determine the number of features (consider setting `num_features` explicitly)\n"
     ]
    }
   ],
   "source": [
    "index = gensim.similarities.Similarity(weavelda[Vsumcorp])#, num_features=20)"
   ]
  },
  {
   "cell_type": "code",
   "execution_count": 104,
   "metadata": {
    "collapsed": false
   },
   "outputs": [],
   "source": [
    "sims = [index[weavelda[doc]] for doc in Vlookcorp]"
   ]
  },
  {
   "cell_type": "code",
   "execution_count": 105,
   "metadata": {
    "collapsed": false
   },
   "outputs": [
    {
     "data": {
      "text/plain": [
       "array([ 0.04504429,  0.04775451,  0.04277437,  0.03738598,  0.03360158,\n",
       "        0.0261571 ,  0.04881716,  0.04553216,  0.25455901,  0.61914611,\n",
       "        0.04737482,  0.03886943,  0.76093   ,  0.27950233,  0.2371421 ,\n",
       "        0.64747137,  0.04087946,  0.04226099,  0.04008893,  0.03871169,\n",
       "        0.04080083,  0.03947026,  0.17198591,  0.43770826,  0.04089198,\n",
       "        0.03037235,  0.04566391,  0.03938622,  0.03428117,  0.04634874,\n",
       "        0.04044148,  0.28516501,  0.30265236,  0.08860339,  0.14379816,\n",
       "        0.11060108,  0.75342697,  0.11173419,  0.38067678,  0.04818581,\n",
       "        0.0431278 ,  0.05720795,  0.97713119,  0.03841275,  0.03843111,\n",
       "        0.03029627,  0.03824211,  0.69461036,  0.04692573,  0.56561565,\n",
       "        0.20421702,  0.02622122,  0.10529269,  0.03755296,  0.64292294,\n",
       "        0.25520557,  0.16296208,  0.02763331,  0.10467546,  0.02914471,\n",
       "        0.03597167,  0.31258658,  0.04234633,  0.04095436,  0.04125113,\n",
       "        0.02425356,  0.23062015,  0.04006895,  0.10062347,  0.05489735,\n",
       "        0.0431239 ,  0.02425356,  0.18922096,  0.59642738,  0.28507662,\n",
       "        0.09528968,  0.04193179,  0.81589627,  0.25109833,  0.10792944,\n",
       "        0.8153497 ,  0.03364005,  0.04440456,  0.2261835 ,  0.79878116,\n",
       "        0.04186931,  0.71787137,  0.05041762,  0.5322752 ,  0.03904618,\n",
       "        0.02757539,  0.33040589,  0.57282174,  0.0289364 ,  0.04205059,\n",
       "        0.04177427,  0.03138409,  0.03632725,  0.13904986,  0.02748973,\n",
       "        0.03692383,  0.04983507,  0.03823376,  0.09926886,  0.33109012,\n",
       "        0.07928374,  0.83627105,  0.0383378 ,  0.18012476,  0.18357253,\n",
       "        0.22942239,  0.05947424,  0.04020732,  0.23982078,  0.28548637,\n",
       "        0.46420646,  0.06339829,  0.04898283,  0.02682194,  0.36412293,\n",
       "        0.03949746,  0.05004878,  0.2191681 ,  0.05574318,  0.3253957 ,\n",
       "        0.39326909,  0.033535  ,  0.04894256,  0.04868643,  0.0830055 ,\n",
       "        0.34486979,  0.31131372,  0.15937109,  0.04721047,  0.73668933,\n",
       "        0.05806259,  0.02425356,  0.71189046,  0.03334402,  0.05197217,\n",
       "        0.04685662,  0.04395626,  0.04432068,  0.02595973,  0.03374203,\n",
       "        0.05193819,  0.04278166,  0.42542315,  0.81396604,  0.04824536,\n",
       "        0.16172309,  0.04031352,  0.04238508,  0.0375451 ,  0.50260937,\n",
       "        0.9839918 ,  0.05563714,  0.03713837,  0.70625359,  0.1585868 ,\n",
       "        0.04942929,  0.60061711,  0.03890335,  0.02865358,  0.13789558,\n",
       "        0.22611238,  0.04185917,  0.42525151,  0.04316434,  0.03620415,\n",
       "        0.10926184,  0.22111273,  0.04586963,  0.03733762,  0.87372702,\n",
       "        0.047976  ,  0.66906095,  0.03395544,  0.11773616,  0.03758104,\n",
       "        0.04189359,  0.11333588,  0.05377369,  0.05208478,  0.03525133,\n",
       "        0.03852954,  0.20588475,  0.03336781,  0.05823606,  0.13672534,\n",
       "        0.98695135,  0.70886183,  0.03723413,  0.19942713,  0.04818261,\n",
       "        0.04513227,  0.04677868,  0.03623243,  0.34449619,  0.04202987,\n",
       "        0.69437605,  0.24619716,  0.04728973,  0.03881259,  0.90604281,\n",
       "        0.04742208,  0.03364541,  0.0427361 ,  0.03459536,  0.12454195,\n",
       "        0.04266267,  0.56548989,  0.03241633,  0.11256285,  0.04621509,\n",
       "        0.03686574,  0.15275502,  0.06197738,  0.04462596,  0.03559042,\n",
       "        0.03536287,  0.30133957,  0.50079054,  0.04807628,  0.17325902,\n",
       "        0.06031335,  0.04603993,  0.64822894,  0.04179   ,  0.02425356,\n",
       "        0.48856771,  0.0453686 ,  0.0424898 ,  0.30450472,  0.04718291,\n",
       "        0.33914849,  0.54592574,  0.04058988,  0.04106938,  0.03648759,\n",
       "        0.03817296,  0.03634792,  0.03925257,  0.04112794,  0.04441868,\n",
       "        0.10511065,  0.65623546,  0.04946524,  0.03924061,  0.10826249,\n",
       "        0.5214895 ,  0.4008179 ,  0.9645794 ,  0.83213454,  0.3031508 ,\n",
       "        0.05408154,  0.11001278,  0.08775876,  0.02614374,  0.04597795,\n",
       "        0.0295641 ,  0.04483625,  0.0719542 ,  0.05840436,  0.03459532,\n",
       "        0.09996613,  0.7195273 ,  0.04594306,  0.03632361,  0.04753458,\n",
       "        0.03344527,  0.21039061,  0.05434923,  0.05264898,  0.74502474,\n",
       "        0.046317  ,  0.03164968,  0.28303158,  0.03813935,  0.05960364,\n",
       "        0.03557613,  0.80701244,  0.04579106,  0.04140186,  0.03048499,\n",
       "        0.87780678,  0.08320819,  0.04352471,  0.1237942 ,  0.02984952,\n",
       "        0.51124269,  0.03426619,  0.15963802,  0.04189652,  0.25575411,\n",
       "        0.05882353,  0.07011322,  0.03191124,  0.03616137,  0.03955438,\n",
       "        0.16748171,  0.37333819,  0.05247622,  0.04784326,  0.35844797,\n",
       "        0.28943452,  0.04536737,  0.0345453 ,  0.03982596,  0.02425356,\n",
       "        0.05418107,  0.09798315,  0.03988332,  0.0407062 ,  0.32268575,\n",
       "        0.04906934,  0.62018043,  0.46263701,  0.08048692,  0.18728043,\n",
       "        0.04448041,  0.0464093 ,  0.03544788,  0.76880634,  0.35964277,\n",
       "        0.17809235,  0.03868486,  0.03560858,  0.04697595,  0.05505195,\n",
       "        0.03768628,  0.79224879,  0.06279479,  0.05234041,  0.23408112,\n",
       "        0.99298513,  0.41705623,  0.04304672,  0.34046879,  0.64224571,\n",
       "        0.39568752,  0.40138578,  0.03576019,  0.75896716,  0.03175933,\n",
       "        0.04645826,  0.26740557,  0.45751485,  0.52625597,  0.02824983,\n",
       "        0.14227074,  0.16965848,  0.35571554,  0.05114722,  0.0307571 ,\n",
       "        0.11556573,  0.04227939,  0.04263877,  0.0538147 ,  0.11939973,\n",
       "        0.78410423,  0.03307737,  0.04040394,  0.21826713,  0.04415891,\n",
       "        0.09512691,  0.0737413 ,  0.13428216,  0.05313892,  0.03213985,\n",
       "        0.1633096 ,  0.0730444 ,  0.04975505,  0.04200828,  0.03629754,\n",
       "        0.1261066 ,  0.04168934,  0.04104989,  0.05075539,  0.11226542,\n",
       "        0.03577412,  0.44329181,  0.08703059,  0.1243476 ,  0.05025246,\n",
       "        0.06128041,  0.03185197,  0.33240882,  0.18713582,  0.22922227,\n",
       "        0.19733906,  0.04181027,  0.04431859,  0.03870393,  0.42437312,\n",
       "        0.1929718 ,  0.05042919,  0.10174367,  0.03887041,  0.04858692,\n",
       "        0.04117955,  0.05738978,  0.04672598,  0.18537495,  0.03607863,\n",
       "        0.04558251,  0.04105832,  0.0407976 ,  0.11856064,  0.92943805,\n",
       "        0.2332916 ,  0.03203534,  0.23555395,  0.03480431,  0.04868437,\n",
       "        0.03126991,  0.02863445,  0.0463311 ,  0.03514063,  0.65958703,\n",
       "        0.49955347,  0.0506204 ], dtype=float32)"
      ]
     },
     "execution_count": 105,
     "metadata": {},
     "output_type": "execute_result"
    }
   ],
   "source": [
    "sims[0]"
   ]
  },
  {
   "cell_type": "code",
   "execution_count": 106,
   "metadata": {
    "collapsed": false
   },
   "outputs": [],
   "source": [
    "simsorted = sorted(enumerate(sims[0]), key=lambda item: -item[1])"
   ]
  },
  {
   "cell_type": "code",
   "execution_count": 145,
   "metadata": {
    "collapsed": false
   },
   "outputs": [
    {
     "name": "stdout",
     "output_type": "stream",
     "text": [
      "[(118, 0.026821941), (51, 0.026221219), (5, 0.026157103), (258, 0.026143735), (143, 0.02595973), (71, 0.024253564), (65, 0.024253562), (136, 0.024253562), (229, 0.024253562), (309, 0.024253562)]\n"
     ]
    }
   ],
   "source": [
    "print simsorted[-10:]"
   ]
  },
  {
   "cell_type": "code",
   "execution_count": null,
   "metadata": {
    "collapsed": true
   },
   "outputs": [],
   "source": []
  },
  {
   "cell_type": "code",
   "execution_count": 147,
   "metadata": {
    "collapsed": false
   },
   "outputs": [
    {
     "ename": "ValueError",
     "evalue": "too many values to unpack",
     "output_type": "error",
     "traceback": [
      "\u001b[0;31m---------------------------------------------------------------------------\u001b[0m",
      "\u001b[0;31mValueError\u001b[0m                                Traceback (most recent call last)",
      "\u001b[0;32m<ipython-input-147-5b6618acf3dd>\u001b[0m in \u001b[0;36m<module>\u001b[0;34m()\u001b[0m\n\u001b[0;32m----> 1\u001b[0;31m \u001b[0mweavelda\u001b[0m\u001b[0;34m[\u001b[0m\u001b[0mlookcorp\u001b[0m\u001b[0;34m[\u001b[0m\u001b[0;36m0\u001b[0m\u001b[0;34m]\u001b[0m\u001b[0;34m]\u001b[0m\u001b[0;34m\u001b[0m\u001b[0m\n\u001b[0m",
      "\u001b[0;32m/Users/colin/anaconda/lib/python2.7/site-packages/gensim/models/ldamodel.pyc\u001b[0m in \u001b[0;36m__getitem__\u001b[0;34m(self, bow, eps)\u001b[0m\n\u001b[1;32m    750\u001b[0m             \u001b[0;32mreturn\u001b[0m \u001b[0mself\u001b[0m\u001b[0;34m.\u001b[0m\u001b[0m_apply\u001b[0m\u001b[0;34m(\u001b[0m\u001b[0mcorpus\u001b[0m\u001b[0;34m)\u001b[0m\u001b[0;34m\u001b[0m\u001b[0m\n\u001b[1;32m    751\u001b[0m \u001b[0;34m\u001b[0m\u001b[0m\n\u001b[0;32m--> 752\u001b[0;31m         \u001b[0mgamma\u001b[0m\u001b[0;34m,\u001b[0m \u001b[0m_\u001b[0m \u001b[0;34m=\u001b[0m \u001b[0mself\u001b[0m\u001b[0;34m.\u001b[0m\u001b[0minference\u001b[0m\u001b[0;34m(\u001b[0m\u001b[0;34m[\u001b[0m\u001b[0mbow\u001b[0m\u001b[0;34m]\u001b[0m\u001b[0;34m)\u001b[0m\u001b[0;34m\u001b[0m\u001b[0m\n\u001b[0m\u001b[1;32m    753\u001b[0m         \u001b[0mtopic_dist\u001b[0m \u001b[0;34m=\u001b[0m \u001b[0mgamma\u001b[0m\u001b[0;34m[\u001b[0m\u001b[0;36m0\u001b[0m\u001b[0;34m]\u001b[0m \u001b[0;34m/\u001b[0m \u001b[0msum\u001b[0m\u001b[0;34m(\u001b[0m\u001b[0mgamma\u001b[0m\u001b[0;34m[\u001b[0m\u001b[0;36m0\u001b[0m\u001b[0;34m]\u001b[0m\u001b[0;34m)\u001b[0m \u001b[0;31m# normalize to proper distribution\u001b[0m\u001b[0;34m\u001b[0m\u001b[0m\n\u001b[1;32m    754\u001b[0m         return [(topicid, topicvalue) for topicid, topicvalue in enumerate(topic_dist)\n",
      "\u001b[0;32m/Users/colin/anaconda/lib/python2.7/site-packages/gensim/models/ldamodel.pyc\u001b[0m in \u001b[0;36minference\u001b[0;34m(self, chunk, collect_sstats)\u001b[0m\n\u001b[1;32m    373\u001b[0m         \u001b[0;31m# to Blei's original LDA-C code, cool!).\u001b[0m\u001b[0;34m\u001b[0m\u001b[0;34m\u001b[0m\u001b[0m\n\u001b[1;32m    374\u001b[0m         \u001b[0;32mfor\u001b[0m \u001b[0md\u001b[0m\u001b[0;34m,\u001b[0m \u001b[0mdoc\u001b[0m \u001b[0;32min\u001b[0m \u001b[0menumerate\u001b[0m\u001b[0;34m(\u001b[0m\u001b[0mchunk\u001b[0m\u001b[0;34m)\u001b[0m\u001b[0;34m:\u001b[0m\u001b[0;34m\u001b[0m\u001b[0m\n\u001b[0;32m--> 375\u001b[0;31m             \u001b[0mids\u001b[0m \u001b[0;34m=\u001b[0m \u001b[0;34m[\u001b[0m\u001b[0mid\u001b[0m \u001b[0;32mfor\u001b[0m \u001b[0mid\u001b[0m\u001b[0;34m,\u001b[0m \u001b[0m_\u001b[0m \u001b[0;32min\u001b[0m \u001b[0mdoc\u001b[0m\u001b[0;34m]\u001b[0m\u001b[0;34m\u001b[0m\u001b[0m\n\u001b[0m\u001b[1;32m    376\u001b[0m             \u001b[0mcts\u001b[0m \u001b[0;34m=\u001b[0m \u001b[0mnumpy\u001b[0m\u001b[0;34m.\u001b[0m\u001b[0marray\u001b[0m\u001b[0;34m(\u001b[0m\u001b[0;34m[\u001b[0m\u001b[0mcnt\u001b[0m \u001b[0;32mfor\u001b[0m \u001b[0m_\u001b[0m\u001b[0;34m,\u001b[0m \u001b[0mcnt\u001b[0m \u001b[0;32min\u001b[0m \u001b[0mdoc\u001b[0m\u001b[0;34m]\u001b[0m\u001b[0;34m)\u001b[0m\u001b[0;34m\u001b[0m\u001b[0m\n\u001b[1;32m    377\u001b[0m             \u001b[0mgammad\u001b[0m \u001b[0;34m=\u001b[0m \u001b[0mgamma\u001b[0m\u001b[0;34m[\u001b[0m\u001b[0md\u001b[0m\u001b[0;34m,\u001b[0m \u001b[0;34m:\u001b[0m\u001b[0;34m]\u001b[0m\u001b[0;34m\u001b[0m\u001b[0m\n",
      "\u001b[0;31mValueError\u001b[0m: too many values to unpack"
     ]
    }
   ],
   "source": [
    "weavelda[lookcorp[0]]"
   ]
  },
  {
   "cell_type": "code",
   "execution_count": 144,
   "metadata": {
    "collapsed": false
   },
   "outputs": [
    {
     "name": "stdout",
     "output_type": "stream",
     "text": [
      "[u'marketing', u'advisor', u'chambre', u'de', u'commerce', u'du', u'montreal', u'mtropolitain', u'marketing', u'communication'] [u'senior', u'marketing', u'digital', u'creative', u'executive', u'experienced', u'cable', u'broadcast', u'digital', u'executive'] [u'online', u'marketing', u'ecommerce', u'strategy', u'im', u'online', u'marketer', u'strong', u'experience', u'email']\n"
     ]
    }
   ],
   "source": [
    "print sumcorp[335][0:10], sumcorp[190][0:10], sumcorp[155][0:10]"
   ]
  },
  {
   "cell_type": "code",
   "execution_count": 146,
   "metadata": {
    "collapsed": false
   },
   "outputs": [
    {
     "name": "stdout",
     "output_type": "stream",
     "text": [
      "['music', 'artist', 'event', 'creator', 'songwriter', 'recording', 'artist'] [u'founder', u'CEO', u'parantez', u'com', u'altug', u'beser', u'entrepreneur', u'co', u'founder', u'several'] ['CPA', 'FAR', 'passed', 'BEC', 'passed']\n"
     ]
    }
   ],
   "source": [
    "print sumcorp[136][0:10], sumcorp[229][0:10], sumcorp[309][0:10]"
   ]
  },
  {
   "cell_type": "code",
   "execution_count": null,
   "metadata": {
    "collapsed": false
   },
   "outputs": [],
   "source": [
    "# it looks like it works pretty well\n",
    "# now I need to decide how I want to do the matching\n",
    "# I think I can just make a 2d array, (looking, summary)\n",
    "# and roll that up into a dataframe then go from there"
   ]
  },
  {
   "cell_type": "code",
   "execution_count": 123,
   "metadata": {
    "collapsed": false
   },
   "outputs": [
    {
     "name": "stdout",
     "output_type": "stream",
     "text": [
      "1452\n",
      "422\n"
     ]
    },
    {
     "data": {
      "text/plain": [
       "(1452, 422)"
      ]
     },
     "execution_count": 123,
     "metadata": {},
     "output_type": "execute_result"
    }
   ],
   "source": [
    "print len(sims)\n",
    "print len(sims[0])\n",
    "sims2d = np.array(sims)\n",
    "sims2d.shape"
   ]
  },
  {
   "cell_type": "code",
   "execution_count": 125,
   "metadata": {
    "collapsed": false
   },
   "outputs": [],
   "source": [
    "simdf = pd.DataFrame.from_records(sims2d) # rows are lookups, columns are summaries"
   ]
  },
  {
   "cell_type": "code",
   "execution_count": 127,
   "metadata": {
    "collapsed": false
   },
   "outputs": [
    {
     "data": {
      "text/plain": [
       "(1452, 422)"
      ]
     },
     "execution_count": 127,
     "metadata": {},
     "output_type": "execute_result"
    }
   ],
   "source": [
    "simdf.shape"
   ]
  },
  {
   "cell_type": "code",
   "execution_count": 140,
   "metadata": {
    "collapsed": false
   },
   "outputs": [
    {
     "name": "stdout",
     "output_type": "stream",
     "text": [
      "count    1452.000000\n",
      "mean        0.955195\n",
      "std         0.059294\n",
      "min         0.558458\n",
      "25%         0.952327\n",
      "50%         0.979130\n",
      "75%         0.985931\n",
      "max         1.000000\n",
      "dtype: float64\n"
     ]
    },
    {
     "data": {
      "text/plain": [
       "<matplotlib.axes._subplots.AxesSubplot at 0x1140c2b90>"
      ]
     },
     "execution_count": 140,
     "metadata": {},
     "output_type": "execute_result"
    },
    {
     "data": {
      "image/png": "[encoded data removed]",
      "text/plain": [
       "<matplotlib.figure.Figure at 0x1140c2790>"
      ]
     },
     "metadata": {
      "image/png": {
       "height": 487,
       "width": 727
      }
     },
     "output_type": "display_data"
    }
   ],
   "source": [
    "print simdf.max(axis=1).describe()\n",
    "# so it seems like every looking for query has at least one good match\n",
    "simdf.max(axis=1).hist()"
   ]
  },
  {
   "cell_type": "code",
   "execution_count": 141,
   "metadata": {
    "collapsed": false
   },
   "outputs": [
    {
     "name": "stdout",
     "output_type": "stream",
     "text": [
      "count    422.000000\n",
      "mean       0.923596\n",
      "std        0.077018\n",
      "min        0.325695\n",
      "25%        0.891364\n",
      "50%        0.944586\n",
      "75%        0.976192\n",
      "max        1.000000\n",
      "dtype: float64\n"
     ]
    },
    {
     "data": {
      "text/plain": [
       "<matplotlib.axes._subplots.AxesSubplot at 0x11a016350>"
      ]
     },
     "execution_count": 141,
     "metadata": {},
     "output_type": "execute_result"
    },
    {
     "data": {
      "image/png": "[encoded data removed]",
      "text/plain": [
       "<matplotlib.figure.Figure at 0x119ffc9d0>"
      ]
     },
     "metadata": {
      "image/png": {
       "height": 487,
       "width": 721
      }
     },
     "output_type": "display_data"
    }
   ],
   "source": [
    "print simdf.max(axis=0).describe()\n",
    "# from the perspective of summaries, there are a few that don't even have a single good match using \n",
    "# a completely arbitrary metric of (max similarity > 0.5)\n",
    "simdf.max(axis=0).hist()"
   ]
  }
 ],
 "metadata": {
  "kernelspec": {
   "display_name": "Python 2",
   "language": "python",
   "name": "python2"
  },
  "language_info": {
   "codemirror_mode": {
    "name": "ipython",
    "version": 2
   },
   "file_extension": ".py",
   "mimetype": "text/x-python",
   "name": "python",
   "nbconvert_exporter": "python",
   "pygments_lexer": "ipython2",
   "version": "2.7.10"
  }
 },
 "nbformat": 4,
 "nbformat_minor": 0
}
