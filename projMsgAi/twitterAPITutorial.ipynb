{
 "cells": [
  {
   "cell_type": "markdown",
   "metadata": {},
   "source": [
    "### Following tutorial\n",
    "\n",
    "http://marcobonzanini.com/2015/03/02/mining-twitter-data-with-python-part-1/"
   ]
  },
  {
   "cell_type": "code",
   "execution_count": 4,
   "metadata": {
    "collapsed": true
   },
   "outputs": [],
   "source": [
    "import tweepy\n",
    "import simplejson\n",
    "import pandas as pd\n",
    "from tweepy import OAuthHandler"
   ]
  },
  {
   "cell_type": "code",
   "execution_count": 5,
   "metadata": {
    "collapsed": false
   },
   "outputs": [],
   "source": [
    "with open(\"twitter_secrets.json.nogit\") as fh:\n",
    "    secrets = simplejson.loads(fh.read())"
   ]
  },
  {
   "cell_type": "code",
   "execution_count": 6,
   "metadata": {
    "collapsed": false
   },
   "outputs": [],
   "source": [
    "#secrets\n"
   ]
  },
  {
   "cell_type": "code",
   "execution_count": 7,
   "metadata": {
    "collapsed": true
   },
   "outputs": [],
   "source": [
    "auth = OAuthHandler(secrets['api_key'], secrets['api_secret'])\n",
    "auth.set_access_token(secrets['access_token'], secrets['access_token_secret'])\n",
    " \n",
    "api = tweepy.API(auth)"
   ]
  },
  {
   "cell_type": "markdown",
   "metadata": {},
   "source": [
    "## See tweets from my homescreen"
   ]
  },
  {
   "cell_type": "code",
   "execution_count": 5,
   "metadata": {
    "collapsed": false
   },
   "outputs": [
    {
     "name": "stdout",
     "output_type": "stream",
     "text": [
      "Working With #BigData: The Top Qualities You Need to Possess https://t.co/KVAFITSLDM #DataScience \n",
      "&gt;&gt;we agree! https://t.co/EfHjLzqcWe\n",
      "NYC, long time no Meetup! Join us &amp; host AT&amp;T @ConnectToGood Feb 25 for a project showcase w/@icouldbeorg. RSVP: https://t.co/aR8uDxdSuY\n",
      "This week's #BigData Roundup: Free Hadoop, Spark Training; Advanced Analytics Market Grows; +more https://t.co/xEL6MemPIk #DataScience @mapr\n",
      "Donald Trump comes out of Iowa looking like Pat Buchanan: https://t.co/5zRUQu6Yt6 https://t.co/6j4de6pkF8\n",
      "Check out @naturejobs for some great tips on moving from #academia to #industry! https://t.co/A36eUtrV61 #withaphd #phdjobs\n"
     ]
    }
   ],
   "source": [
    "for status in tweepy.Cursor(api.home_timeline).items(5):\n",
    "    # Process a single status\n",
    "    print(status.text) "
   ]
  },
  {
   "cell_type": "markdown",
   "metadata": {},
   "source": [
    "## Meta-data of tweets"
   ]
  },
  {
   "cell_type": "code",
   "execution_count": null,
   "metadata": {
    "collapsed": false
   },
   "outputs": [],
   "source": [
    "for status in tweepy.Cursor(api.home_timeline).items(1):\n",
    "    #print(status._json.keys()) \n",
    "#    print(status._json['user']['id'])\n",
    "    print(status._json['user'].keys())\n",
    "    #print(status._json['text'])"
   ]
  },
  {
   "cell_type": "code",
   "execution_count": 61,
   "metadata": {
    "collapsed": false
   },
   "outputs": [],
   "source": [
    "#api.rate_limit_status()\n"
   ]
  },
  {
   "cell_type": "code",
   "execution_count": 62,
   "metadata": {
    "collapsed": false
   },
   "outputs": [],
   "source": [
    "#for friend in tweepy.Cursor(api.friends).items():\n",
    "#    print(friend._json)"
   ]
  },
  {
   "cell_type": "code",
   "execution_count": 7,
   "metadata": {
    "collapsed": false
   },
   "outputs": [],
   "source": [
    "test = api.search_users(q='@jetblue')"
   ]
  },
  {
   "cell_type": "markdown",
   "metadata": {},
   "source": [
    "###  This is working, just filter out tweets from jetblue"
   ]
  },
  {
   "cell_type": "code",
   "execution_count": 36,
   "metadata": {
    "collapsed": false
   },
   "outputs": [
    {
     "ename": "TweepError",
     "evalue": "Twitter error response: status code = 429",
     "output_type": "error",
     "traceback": [
      "\u001b[0;31m---------------------------------------------------------------------------\u001b[0m",
      "\u001b[0;31mTweepError\u001b[0m                                Traceback (most recent call last)",
      "\u001b[0;32m<ipython-input-36-b5371271afa3>\u001b[0m in \u001b[0;36m<module>\u001b[0;34m()\u001b[0m\n\u001b[1;32m      9\u001b[0m                     \u001b[0msince\u001b[0m\u001b[0;34m=\u001b[0m\u001b[0;34m\"2016-02-01\"\u001b[0m\u001b[0;34m,\u001b[0m\u001b[0;34m\u001b[0m\u001b[0m\n\u001b[1;32m     10\u001b[0m                     \u001b[0muntil\u001b[0m\u001b[0;34m=\u001b[0m\u001b[0;34m\"2016-02-08\"\u001b[0m\u001b[0;34m,\u001b[0m\u001b[0;34m\u001b[0m\u001b[0m\n\u001b[0;32m---> 11\u001b[0;31m                     lang=\"en\").items():\n\u001b[0m\u001b[1;32m     12\u001b[0m     \u001b[0;31m#Write a row to the csv file/ I use encode utf-8\u001b[0m\u001b[0;34m\u001b[0m\u001b[0;34m\u001b[0m\u001b[0m\n\u001b[1;32m     13\u001b[0m     \u001b[0mcsvWriter\u001b[0m\u001b[0;34m.\u001b[0m\u001b[0mwriterow\u001b[0m\u001b[0;34m(\u001b[0m\u001b[0;34m[\u001b[0m\u001b[0mtweet\u001b[0m\u001b[0;34m.\u001b[0m\u001b[0mcreated_at\u001b[0m\u001b[0;34m,\u001b[0m \u001b[0mtweet\u001b[0m\u001b[0;34m.\u001b[0m\u001b[0mtext\u001b[0m\u001b[0;34m.\u001b[0m\u001b[0mencode\u001b[0m\u001b[0;34m(\u001b[0m\u001b[0;34m'utf-8'\u001b[0m\u001b[0;34m)\u001b[0m\u001b[0;34m,\u001b[0m\u001b[0mtweet\u001b[0m\u001b[0;34m.\u001b[0m\u001b[0min_reply_to_status_id\u001b[0m\u001b[0;34m,\u001b[0m\u001b[0mtweet\u001b[0m\u001b[0;34m.\u001b[0m\u001b[0mid\u001b[0m\u001b[0;34m,\u001b[0m\u001b[0mtweet\u001b[0m\u001b[0;34m.\u001b[0m\u001b[0mauthor\u001b[0m\u001b[0;34m.\u001b[0m\u001b[0m_json\u001b[0m\u001b[0;34m[\u001b[0m\u001b[0;34m'id'\u001b[0m\u001b[0;34m]\u001b[0m\u001b[0;34m]\u001b[0m\u001b[0;34m)\u001b[0m\u001b[0;34m\u001b[0m\u001b[0m\n",
      "\u001b[0;32m/Users/Peter/anaconda/lib/python2.7/site-packages/tweepy/cursor.pyc\u001b[0m in \u001b[0;36mnext\u001b[0;34m(self)\u001b[0m\n\u001b[1;32m    195\u001b[0m         \u001b[0;32mif\u001b[0m \u001b[0mself\u001b[0m\u001b[0;34m.\u001b[0m\u001b[0mcurrent_page\u001b[0m \u001b[0;32mis\u001b[0m \u001b[0mNone\u001b[0m \u001b[0;32mor\u001b[0m \u001b[0mself\u001b[0m\u001b[0;34m.\u001b[0m\u001b[0mpage_index\u001b[0m \u001b[0;34m==\u001b[0m \u001b[0mlen\u001b[0m\u001b[0;34m(\u001b[0m\u001b[0mself\u001b[0m\u001b[0;34m.\u001b[0m\u001b[0mcurrent_page\u001b[0m\u001b[0;34m)\u001b[0m \u001b[0;34m-\u001b[0m \u001b[0;36m1\u001b[0m\u001b[0;34m:\u001b[0m\u001b[0;34m\u001b[0m\u001b[0m\n\u001b[1;32m    196\u001b[0m             \u001b[0;31m# Reached end of current page, get the next page...\u001b[0m\u001b[0;34m\u001b[0m\u001b[0;34m\u001b[0m\u001b[0m\n\u001b[0;32m--> 197\u001b[0;31m             \u001b[0mself\u001b[0m\u001b[0;34m.\u001b[0m\u001b[0mcurrent_page\u001b[0m \u001b[0;34m=\u001b[0m \u001b[0mself\u001b[0m\u001b[0;34m.\u001b[0m\u001b[0mpage_iterator\u001b[0m\u001b[0;34m.\u001b[0m\u001b[0mnext\u001b[0m\u001b[0;34m(\u001b[0m\u001b[0;34m)\u001b[0m\u001b[0;34m\u001b[0m\u001b[0m\n\u001b[0m\u001b[1;32m    198\u001b[0m             \u001b[0mself\u001b[0m\u001b[0;34m.\u001b[0m\u001b[0mpage_index\u001b[0m \u001b[0;34m=\u001b[0m \u001b[0;34m-\u001b[0m\u001b[0;36m1\u001b[0m\u001b[0;34m\u001b[0m\u001b[0m\n\u001b[1;32m    199\u001b[0m         \u001b[0mself\u001b[0m\u001b[0;34m.\u001b[0m\u001b[0mpage_index\u001b[0m \u001b[0;34m+=\u001b[0m \u001b[0;36m1\u001b[0m\u001b[0;34m\u001b[0m\u001b[0m\n",
      "\u001b[0;32m/Users/Peter/anaconda/lib/python2.7/site-packages/tweepy/cursor.pyc\u001b[0m in \u001b[0;36mnext\u001b[0;34m(self)\u001b[0m\n\u001b[1;32m    106\u001b[0m \u001b[0;34m\u001b[0m\u001b[0m\n\u001b[1;32m    107\u001b[0m         \u001b[0;32mif\u001b[0m \u001b[0mself\u001b[0m\u001b[0;34m.\u001b[0m\u001b[0mindex\u001b[0m \u001b[0;34m>=\u001b[0m \u001b[0mlen\u001b[0m\u001b[0;34m(\u001b[0m\u001b[0mself\u001b[0m\u001b[0;34m.\u001b[0m\u001b[0mresults\u001b[0m\u001b[0;34m)\u001b[0m \u001b[0;34m-\u001b[0m \u001b[0;36m1\u001b[0m\u001b[0;34m:\u001b[0m\u001b[0;34m\u001b[0m\u001b[0m\n\u001b[0;32m--> 108\u001b[0;31m             \u001b[0mdata\u001b[0m \u001b[0;34m=\u001b[0m \u001b[0mself\u001b[0m\u001b[0;34m.\u001b[0m\u001b[0mmethod\u001b[0m\u001b[0;34m(\u001b[0m\u001b[0mmax_id\u001b[0m\u001b[0;34m=\u001b[0m\u001b[0mself\u001b[0m\u001b[0;34m.\u001b[0m\u001b[0mmax_id\u001b[0m\u001b[0;34m,\u001b[0m \u001b[0mparser\u001b[0m\u001b[0;34m=\u001b[0m\u001b[0mRawParser\u001b[0m\u001b[0;34m(\u001b[0m\u001b[0;34m)\u001b[0m\u001b[0;34m,\u001b[0m \u001b[0;34m*\u001b[0m\u001b[0mself\u001b[0m\u001b[0;34m.\u001b[0m\u001b[0margs\u001b[0m\u001b[0;34m,\u001b[0m \u001b[0;34m**\u001b[0m\u001b[0mself\u001b[0m\u001b[0;34m.\u001b[0m\u001b[0mkargs\u001b[0m\u001b[0;34m)\u001b[0m\u001b[0;34m\u001b[0m\u001b[0m\n\u001b[0m\u001b[1;32m    109\u001b[0m \u001b[0;34m\u001b[0m\u001b[0m\n\u001b[1;32m    110\u001b[0m             \u001b[0;32mif\u001b[0m \u001b[0mhasattr\u001b[0m\u001b[0;34m(\u001b[0m\u001b[0mself\u001b[0m\u001b[0;34m.\u001b[0m\u001b[0mmethod\u001b[0m\u001b[0;34m,\u001b[0m \u001b[0;34m'__self__'\u001b[0m\u001b[0;34m)\u001b[0m\u001b[0;34m:\u001b[0m\u001b[0;34m\u001b[0m\u001b[0m\n",
      "\u001b[0;32m/Users/Peter/anaconda/lib/python2.7/site-packages/tweepy/binder.pyc\u001b[0m in \u001b[0;36m_call\u001b[0;34m(*args, **kwargs)\u001b[0m\n\u001b[1;32m    243\u001b[0m             \u001b[0;32mreturn\u001b[0m \u001b[0mmethod\u001b[0m\u001b[0;34m\u001b[0m\u001b[0m\n\u001b[1;32m    244\u001b[0m         \u001b[0;32melse\u001b[0m\u001b[0;34m:\u001b[0m\u001b[0;34m\u001b[0m\u001b[0m\n\u001b[0;32m--> 245\u001b[0;31m             \u001b[0;32mreturn\u001b[0m \u001b[0mmethod\u001b[0m\u001b[0;34m.\u001b[0m\u001b[0mexecute\u001b[0m\u001b[0;34m(\u001b[0m\u001b[0;34m)\u001b[0m\u001b[0;34m\u001b[0m\u001b[0m\n\u001b[0m\u001b[1;32m    246\u001b[0m \u001b[0;34m\u001b[0m\u001b[0m\n\u001b[1;32m    247\u001b[0m     \u001b[0;31m# Set pagination mode\u001b[0m\u001b[0;34m\u001b[0m\u001b[0;34m\u001b[0m\u001b[0m\n",
      "\u001b[0;32m/Users/Peter/anaconda/lib/python2.7/site-packages/tweepy/binder.pyc\u001b[0m in \u001b[0;36mexecute\u001b[0;34m(self)\u001b[0m\n\u001b[1;32m    227\u001b[0m                     \u001b[0;32mraise\u001b[0m \u001b[0mRateLimitError\u001b[0m\u001b[0;34m(\u001b[0m\u001b[0merror_msg\u001b[0m\u001b[0;34m,\u001b[0m \u001b[0mresp\u001b[0m\u001b[0;34m)\u001b[0m\u001b[0;34m\u001b[0m\u001b[0m\n\u001b[1;32m    228\u001b[0m                 \u001b[0;32melse\u001b[0m\u001b[0;34m:\u001b[0m\u001b[0;34m\u001b[0m\u001b[0m\n\u001b[0;32m--> 229\u001b[0;31m                     \u001b[0;32mraise\u001b[0m \u001b[0mTweepError\u001b[0m\u001b[0;34m(\u001b[0m\u001b[0merror_msg\u001b[0m\u001b[0;34m,\u001b[0m \u001b[0mresp\u001b[0m\u001b[0;34m,\u001b[0m \u001b[0mapi_code\u001b[0m\u001b[0;34m=\u001b[0m\u001b[0mapi_error_code\u001b[0m\u001b[0;34m)\u001b[0m\u001b[0;34m\u001b[0m\u001b[0m\n\u001b[0m\u001b[1;32m    230\u001b[0m \u001b[0;34m\u001b[0m\u001b[0m\n\u001b[1;32m    231\u001b[0m             \u001b[0;31m# Parse the response payload\u001b[0m\u001b[0;34m\u001b[0m\u001b[0;34m\u001b[0m\u001b[0m\n",
      "\u001b[0;31mTweepError\u001b[0m: Twitter error response: status code = 429"
     ]
    }
   ],
   "source": [
    "# from http://stackoverflow.com/questions/21865413/get-data-from-twitter-using-tweepy-and-store-in-csv-file\n",
    "import csv\n",
    "csvFile = open('resultVir.csv', 'a')\n",
    "#Use csv Writer\n",
    "csvWriter = csv.writer(csvFile)\n",
    "\n",
    "for tweet in tweepy.Cursor(api.search, \n",
    "                    q=\"@VirginAmerica \", \n",
    "                    since=\"2016-02-01\", \n",
    "                    until=\"2016-02-08\", \n",
    "                    lang=\"en\").items():\n",
    "    #Write a row to the csv file/ I use encode utf-8\n",
    "    csvWriter.writerow([tweet.created_at, tweet.text.encode('utf-8'),tweet.in_reply_to_status_id,tweet.id,tweet.author._json['id']])\n",
    "    #print tweet.created_at, tweet.text, tweet.user\n",
    "csvFile.close()"
   ]
  },
  {
   "cell_type": "code",
   "execution_count": 85,
   "metadata": {
    "collapsed": true
   },
   "outputs": [
    {
     "data": {
      "text/plain": [
       "Status(contributors=None, truncated=False, text=u'RT @CNN: .@JetBlue is redesigning its airplanes to be more spacious, modern &amp; entertaining https://t.co/Jk8PsbaANO @CNNMoney https://t.co/b\\u2026', is_quote_status=False, in_reply_to_status_id=None, id=692187915095576576, favorite_count=0, _api=<tweepy.api.API object at 0x104f4db10>, author=User(follow_request_sent=False, has_extended_profile=False, profile_use_background_image=True, _json={u'follow_request_sent': False, u'has_extended_profile': False, u'profile_use_background_image': True, u'default_profile_image': False, u'id': 219944298, u'profile_background_image_url_https': u'https://pbs.twimg.com/profile_background_images/735064451/0cd3796ad93b3d808d28a0ed0b92f0f7.jpeg', u'verified': False, u'profile_text_color': u'333333', u'profile_image_url_https': u'https://pbs.twimg.com/profile_images/693866556351119360/nSRAyVBo_normal.jpg', u'profile_sidebar_fill_color': u'F3F3F3', u'entities': {u'url': {u'urls': [{u'url': u'https://t.co/FuDZiRCcls', u'indices': [0, 23], u'expanded_url': u'https://ssavatovic.wordpress.com/', u'display_url': u'ssavatovic.wordpress.com'}]}, u'description': {u'urls': []}}, u'followers_count': 484, u'profile_sidebar_border_color': u'FFFFFF', u'id_str': u'219944298', u'profile_background_color': u'731C73', u'listed_count': 7, u'is_translation_enabled': False, u'utc_offset': 7200, u'statuses_count': 8828, u'description': u'Serbian hammerthrow Record Holder. Kansas State University. Road to RIO 2016.', u'friends_count': 448, u'location': u'', u'profile_link_color': u'D126CB', u'profile_image_url': u'http://pbs.twimg.com/profile_images/693866556351119360/nSRAyVBo_normal.jpg', u'following': False, u'geo_enabled': True, u'profile_banner_url': u'https://pbs.twimg.com/profile_banners/219944298/1445131209', u'profile_background_image_url': u'http://pbs.twimg.com/profile_background_images/735064451/0cd3796ad93b3d808d28a0ed0b92f0f7.jpeg', u'screen_name': u'sarathrower', u'lang': u'en', u'profile_background_tile': True, u'favourites_count': 6802, u'name': u'Sara Savatovic', u'notifications': False, u'url': u'https://t.co/FuDZiRCcls', u'created_at': u'Fri Nov 26 10:03:17 +0000 2010', u'contributors_enabled': False, u'time_zone': u'Athens', u'protected': False, u'default_profile': False, u'is_translator': False}, time_zone=u'Athens', id=219944298, _api=<tweepy.api.API object at 0x104f4db10>, verified=False, profile_text_color=u'333333', profile_image_url_https=u'https://pbs.twimg.com/profile_images/693866556351119360/nSRAyVBo_normal.jpg', profile_sidebar_fill_color=u'F3F3F3', is_translator=False, geo_enabled=True, entities={u'url': {u'urls': [{u'url': u'https://t.co/FuDZiRCcls', u'indices': [0, 23], u'expanded_url': u'https://ssavatovic.wordpress.com/', u'display_url': u'ssavatovic.wordpress.com'}]}, u'description': {u'urls': []}}, followers_count=484, protected=False, id_str=u'219944298', default_profile_image=False, listed_count=7, lang=u'en', utc_offset=7200, statuses_count=8828, description=u'Serbian hammerthrow Record Holder. Kansas State University. Road to RIO 2016.', friends_count=448, profile_link_color=u'D126CB', profile_image_url=u'http://pbs.twimg.com/profile_images/693866556351119360/nSRAyVBo_normal.jpg', notifications=False, profile_background_image_url_https=u'https://pbs.twimg.com/profile_background_images/735064451/0cd3796ad93b3d808d28a0ed0b92f0f7.jpeg', profile_background_color=u'731C73', profile_banner_url=u'https://pbs.twimg.com/profile_banners/219944298/1445131209', profile_background_image_url=u'http://pbs.twimg.com/profile_background_images/735064451/0cd3796ad93b3d808d28a0ed0b92f0f7.jpeg', name=u'Sara Savatovic', is_translation_enabled=False, profile_background_tile=True, favourites_count=6802, screen_name=u'sarathrower', url=u'https://t.co/FuDZiRCcls', created_at=datetime.datetime(2010, 11, 26, 10, 3, 17), contributors_enabled=False, location=u'', profile_sidebar_border_color=u'FFFFFF', default_profile=False, following=False), _json={u'contributors': None, u'truncated': False, u'text': u'RT @CNN: .@JetBlue is redesigning its airplanes to be more spacious, modern &amp; entertaining https://t.co/Jk8PsbaANO @CNNMoney https://t.co/b\\u2026', u'is_quote_status': False, u'in_reply_to_status_id': None, u'id': 692187915095576576, u'favorite_count': 0, u'source': u'<a href=\"http://twitter.com/download/iphone\" rel=\"nofollow\">Twitter for iPhone</a>', u'retweeted': False, u'coordinates': None, u'entities': {u'symbols': [], u'user_mentions': [{u'id': 759251, u'indices': [3, 7], u'id_str': u'759251', u'screen_name': u'CNN', u'name': u'CNN'}, {u'id': 6449282, u'indices': [10, 18], u'id_str': u'6449282', u'screen_name': u'JetBlue', u'name': u'JetBlue Airways'}, {u'id': 16184358, u'indices': [119, 128], u'id_str': u'16184358', u'screen_name': u'CNNMoney', u'name': u'CNNMoney'}], u'hashtags': [], u'urls': [{u'url': u'https://t.co/Jk8PsbaANO', u'indices': [95, 118], u'expanded_url': u'http://cnn.it/1OO7L5k', u'display_url': u'cnn.it/1OO7L5k'}], u'media': [{u'source_user_id': 759251, u'source_status_id_str': u'692179975122849795', u'expanded_url': u'http://twitter.com/CNN/status/692179975122849795/photo/1', u'display_url': u'pic.twitter.com/bMTvwqFds7', u'url': u'https://t.co/bMTvwqFds7', u'media_url_https': u'https://pbs.twimg.com/media/CZseBRrWAAAW8Wq.jpg', u'source_user_id_str': u'759251', u'source_status_id': 692179975122849795, u'id_str': u'692179975005405184', u'sizes': {u'small': {u'h': 191, u'resize': u'fit', u'w': 340}, u'large': {u'h': 337, u'resize': u'fit', u'w': 599}, u'medium': {u'h': 337, u'resize': u'fit', u'w': 599}, u'thumb': {u'h': 150, u'resize': u'crop', u'w': 150}}, u'indices': [129, 144], u'type': u'photo', u'id': 692179975005405184, u'media_url': u'http://pbs.twimg.com/media/CZseBRrWAAAW8Wq.jpg'}]}, u'in_reply_to_screen_name': None, u'in_reply_to_user_id': None, u'retweet_count': 229, u'id_str': u'692187915095576576', u'favorited': False, u'retweeted_status': {u'contributors': None, u'truncated': False, u'text': u'.@JetBlue is redesigning its airplanes to be more spacious, modern &amp; entertaining https://t.co/Jk8PsbaANO @CNNMoney https://t.co/bMTvwqFds7', u'is_quote_status': False, u'in_reply_to_status_id': None, u'id': 692179975122849795, u'favorite_count': 558, u'source': u'<a href=\"http://www.sprinklr.com\" rel=\"nofollow\">Sprinklr</a>', u'retweeted': False, u'coordinates': None, u'entities': {u'symbols': [], u'user_mentions': [{u'id': 6449282, u'indices': [1, 9], u'id_str': u'6449282', u'screen_name': u'JetBlue', u'name': u'JetBlue Airways'}, {u'id': 16184358, u'indices': [110, 119], u'id_str': u'16184358', u'screen_name': u'CNNMoney', u'name': u'CNNMoney'}], u'hashtags': [], u'urls': [{u'url': u'https://t.co/Jk8PsbaANO', u'indices': [86, 109], u'expanded_url': u'http://cnn.it/1OO7L5k', u'display_url': u'cnn.it/1OO7L5k'}], u'media': [{u'expanded_url': u'http://twitter.com/CNN/status/692179975122849795/photo/1', u'display_url': u'pic.twitter.com/bMTvwqFds7', u'url': u'https://t.co/bMTvwqFds7', u'media_url_https': u'https://pbs.twimg.com/media/CZseBRrWAAAW8Wq.jpg', u'id_str': u'692179975005405184', u'sizes': {u'small': {u'h': 191, u'resize': u'fit', u'w': 340}, u'large': {u'h': 337, u'resize': u'fit', u'w': 599}, u'medium': {u'h': 337, u'resize': u'fit', u'w': 599}, u'thumb': {u'h': 150, u'resize': u'crop', u'w': 150}}, u'indices': [120, 143], u'type': u'photo', u'id': 692179975005405184, u'media_url': u'http://pbs.twimg.com/media/CZseBRrWAAAW8Wq.jpg'}]}, u'in_reply_to_screen_name': None, u'in_reply_to_user_id': None, u'retweet_count': 229, u'id_str': u'692179975122849795', u'favorited': False, u'user': {u'follow_request_sent': False, u'has_extended_profile': False, u'profile_use_background_image': False, u'default_profile_image': False, u'id': 759251, u'profile_background_image_url_https': u'https://pbs.twimg.com/profile_background_images/515228058286952449/zVfUxqPl.jpeg', u'verified': True, u'profile_text_color': u'000000', u'profile_image_url_https': u'https://pbs.twimg.com/profile_images/508960761826131968/LnvhR8ED_normal.png', u'profile_sidebar_fill_color': u'EEEEEE', u'entities': {u'url': {u'urls': [{u'url': u'http://t.co/IaghNW8Xm2', u'indices': [0, 22], u'expanded_url': u'http://www.cnn.com', u'display_url': u'cnn.com'}]}, u'description': {u'urls': []}}, u'followers_count': 22885250, u'profile_sidebar_border_color': u'000000', u'id_str': u'759251', u'profile_background_color': u'323232', u'listed_count': 112512, u'is_translation_enabled': True, u'utc_offset': -18000, u'statuses_count': 76730, u'description': u'It\\u2019s our job to #GoThere and tell the most difficult stories. Come with us!', u'friends_count': 1112, u'location': u'', u'profile_link_color': u'004287', u'profile_image_url': u'http://pbs.twimg.com/profile_images/508960761826131968/LnvhR8ED_normal.png', u'following': False, u'geo_enabled': True, u'profile_banner_url': u'https://pbs.twimg.com/profile_banners/759251/1453849197', u'profile_background_image_url': u'http://pbs.twimg.com/profile_background_images/515228058286952449/zVfUxqPl.jpeg', u'screen_name': u'CNN', u'lang': u'en', u'profile_background_tile': False, u'favourites_count': 1344, u'name': u'CNN', u'notifications': False, u'url': u'http://t.co/IaghNW8Xm2', u'created_at': u'Fri Feb 09 00:35:02 +0000 2007', u'contributors_enabled': False, u'time_zone': u'Eastern Time (US & Canada)', u'protected': False, u'default_profile': False, u'is_translator': False}, u'geo': None, u'in_reply_to_user_id_str': None, u'possibly_sensitive': False, u'lang': u'en', u'created_at': u'Wed Jan 27 02:59:00 +0000 2016', u'in_reply_to_status_id_str': None, u'place': None, u'metadata': {u'iso_language_code': u'en', u'result_type': u'recent'}}, u'user': {u'follow_request_sent': False, u'has_extended_profile': False, u'profile_use_background_image': True, u'default_profile_image': False, u'id': 219944298, u'profile_background_image_url_https': u'https://pbs.twimg.com/profile_background_images/735064451/0cd3796ad93b3d808d28a0ed0b92f0f7.jpeg', u'verified': False, u'profile_text_color': u'333333', u'profile_image_url_https': u'https://pbs.twimg.com/profile_images/693866556351119360/nSRAyVBo_normal.jpg', u'profile_sidebar_fill_color': u'F3F3F3', u'entities': {u'url': {u'urls': [{u'url': u'https://t.co/FuDZiRCcls', u'indices': [0, 23], u'expanded_url': u'https://ssavatovic.wordpress.com/', u'display_url': u'ssavatovic.wordpress.com'}]}, u'description': {u'urls': []}}, u'followers_count': 484, u'profile_sidebar_border_color': u'FFFFFF', u'id_str': u'219944298', u'profile_background_color': u'731C73', u'listed_count': 7, u'is_translation_enabled': False, u'utc_offset': 7200, u'statuses_count': 8828, u'description': u'Serbian hammerthrow Record Holder. Kansas State University. Road to RIO 2016.', u'friends_count': 448, u'location': u'', u'profile_link_color': u'D126CB', u'profile_image_url': u'http://pbs.twimg.com/profile_images/693866556351119360/nSRAyVBo_normal.jpg', u'following': False, u'geo_enabled': True, u'profile_banner_url': u'https://pbs.twimg.com/profile_banners/219944298/1445131209', u'profile_background_image_url': u'http://pbs.twimg.com/profile_background_images/735064451/0cd3796ad93b3d808d28a0ed0b92f0f7.jpeg', u'screen_name': u'sarathrower', u'lang': u'en', u'profile_background_tile': True, u'favourites_count': 6802, u'name': u'Sara Savatovic', u'notifications': False, u'url': u'https://t.co/FuDZiRCcls', u'created_at': u'Fri Nov 26 10:03:17 +0000 2010', u'contributors_enabled': False, u'time_zone': u'Athens', u'protected': False, u'default_profile': False, u'is_translator': False}, u'geo': None, u'in_reply_to_user_id_str': None, u'possibly_sensitive': False, u'lang': u'en', u'created_at': u'Wed Jan 27 03:30:33 +0000 2016', u'in_reply_to_status_id_str': None, u'place': None, u'metadata': {u'iso_language_code': u'en', u'result_type': u'recent'}}, coordinates=None, entities={u'symbols': [], u'user_mentions': [{u'id': 759251, u'indices': [3, 7], u'id_str': u'759251', u'screen_name': u'CNN', u'name': u'CNN'}, {u'id': 6449282, u'indices': [10, 18], u'id_str': u'6449282', u'screen_name': u'JetBlue', u'name': u'JetBlue Airways'}, {u'id': 16184358, u'indices': [119, 128], u'id_str': u'16184358', u'screen_name': u'CNNMoney', u'name': u'CNNMoney'}], u'hashtags': [], u'urls': [{u'url': u'https://t.co/Jk8PsbaANO', u'indices': [95, 118], u'expanded_url': u'http://cnn.it/1OO7L5k', u'display_url': u'cnn.it/1OO7L5k'}], u'media': [{u'source_user_id': 759251, u'source_status_id_str': u'692179975122849795', u'expanded_url': u'http://twitter.com/CNN/status/692179975122849795/photo/1', u'display_url': u'pic.twitter.com/bMTvwqFds7', u'url': u'https://t.co/bMTvwqFds7', u'media_url_https': u'https://pbs.twimg.com/media/CZseBRrWAAAW8Wq.jpg', u'source_user_id_str': u'759251', u'source_status_id': 692179975122849795, u'id_str': u'692179975005405184', u'sizes': {u'small': {u'h': 191, u'resize': u'fit', u'w': 340}, u'large': {u'h': 337, u'resize': u'fit', u'w': 599}, u'medium': {u'h': 337, u'resize': u'fit', u'w': 599}, u'thumb': {u'h': 150, u'resize': u'crop', u'w': 150}}, u'indices': [129, 144], u'type': u'photo', u'id': 692179975005405184, u'media_url': u'http://pbs.twimg.com/media/CZseBRrWAAAW8Wq.jpg'}]}, in_reply_to_screen_name=None, id_str=u'692187915095576576', retweet_count=229, in_reply_to_user_id=None, favorited=False, retweeted_status=Status(contributors=None, truncated=False, text=u'.@JetBlue is redesigning its airplanes to be more spacious, modern &amp; entertaining https://t.co/Jk8PsbaANO @CNNMoney https://t.co/bMTvwqFds7', is_quote_status=False, in_reply_to_status_id=None, id=692179975122849795, favorite_count=558, _api=<tweepy.api.API object at 0x104f4db10>, author=User(follow_request_sent=False, has_extended_profile=False, profile_use_background_image=False, _json={u'follow_request_sent': False, u'has_extended_profile': False, u'profile_use_background_image': False, u'default_profile_image': False, u'id': 759251, u'profile_background_image_url_https': u'https://pbs.twimg.com/profile_background_images/515228058286952449/zVfUxqPl.jpeg', u'verified': True, u'profile_text_color': u'000000', u'profile_image_url_https': u'https://pbs.twimg.com/profile_images/508960761826131968/LnvhR8ED_normal.png', u'profile_sidebar_fill_color': u'EEEEEE', u'entities': {u'url': {u'urls': [{u'url': u'http://t.co/IaghNW8Xm2', u'indices': [0, 22], u'expanded_url': u'http://www.cnn.com', u'display_url': u'cnn.com'}]}, u'description': {u'urls': []}}, u'followers_count': 22885250, u'profile_sidebar_border_color': u'000000', u'id_str': u'759251', u'profile_background_color': u'323232', u'listed_count': 112512, u'is_translation_enabled': True, u'utc_offset': -18000, u'statuses_count': 76730, u'description': u'It\\u2019s our job to #GoThere and tell the most difficult stories. Come with us!', u'friends_count': 1112, u'location': u'', u'profile_link_color': u'004287', u'profile_image_url': u'http://pbs.twimg.com/profile_images/508960761826131968/LnvhR8ED_normal.png', u'following': False, u'geo_enabled': True, u'profile_banner_url': u'https://pbs.twimg.com/profile_banners/759251/1453849197', u'profile_background_image_url': u'http://pbs.twimg.com/profile_background_images/515228058286952449/zVfUxqPl.jpeg', u'screen_name': u'CNN', u'lang': u'en', u'profile_background_tile': False, u'favourites_count': 1344, u'name': u'CNN', u'notifications': False, u'url': u'http://t.co/IaghNW8Xm2', u'created_at': u'Fri Feb 09 00:35:02 +0000 2007', u'contributors_enabled': False, u'time_zone': u'Eastern Time (US & Canada)', u'protected': False, u'default_profile': False, u'is_translator': False}, time_zone=u'Eastern Time (US & Canada)', id=759251, _api=<tweepy.api.API object at 0x104f4db10>, verified=True, profile_text_color=u'000000', profile_image_url_https=u'https://pbs.twimg.com/profile_images/508960761826131968/LnvhR8ED_normal.png', profile_sidebar_fill_color=u'EEEEEE', is_translator=False, geo_enabled=True, entities={u'url': {u'urls': [{u'url': u'http://t.co/IaghNW8Xm2', u'indices': [0, 22], u'expanded_url': u'http://www.cnn.com', u'display_url': u'cnn.com'}]}, u'description': {u'urls': []}}, followers_count=22885250, protected=False, id_str=u'759251', default_profile_image=False, listed_count=112512, lang=u'en', utc_offset=-18000, statuses_count=76730, description=u'It\\u2019s our job to #GoThere and tell the most difficult stories. Come with us!', friends_count=1112, profile_link_color=u'004287', profile_image_url=u'http://pbs.twimg.com/profile_images/508960761826131968/LnvhR8ED_normal.png', notifications=False, profile_background_image_url_https=u'https://pbs.twimg.com/profile_background_images/515228058286952449/zVfUxqPl.jpeg', profile_background_color=u'323232', profile_banner_url=u'https://pbs.twimg.com/profile_banners/759251/1453849197', profile_background_image_url=u'http://pbs.twimg.com/profile_background_images/515228058286952449/zVfUxqPl.jpeg', name=u'CNN', is_translation_enabled=True, profile_background_tile=False, favourites_count=1344, screen_name=u'CNN', url=u'http://t.co/IaghNW8Xm2', created_at=datetime.datetime(2007, 2, 9, 0, 35, 2), contributors_enabled=False, location=u'', profile_sidebar_border_color=u'000000', default_profile=False, following=False), _json={u'contributors': None, u'truncated': False, u'text': u'.@JetBlue is redesigning its airplanes to be more spacious, modern &amp; entertaining https://t.co/Jk8PsbaANO @CNNMoney https://t.co/bMTvwqFds7', u'is_quote_status': False, u'in_reply_to_status_id': None, u'id': 692179975122849795, u'favorite_count': 558, u'source': u'<a href=\"http://www.sprinklr.com\" rel=\"nofollow\">Sprinklr</a>', u'retweeted': False, u'coordinates': None, u'entities': {u'symbols': [], u'user_mentions': [{u'id': 6449282, u'indices': [1, 9], u'id_str': u'6449282', u'screen_name': u'JetBlue', u'name': u'JetBlue Airways'}, {u'id': 16184358, u'indices': [110, 119], u'id_str': u'16184358', u'screen_name': u'CNNMoney', u'name': u'CNNMoney'}], u'hashtags': [], u'urls': [{u'url': u'https://t.co/Jk8PsbaANO', u'indices': [86, 109], u'expanded_url': u'http://cnn.it/1OO7L5k', u'display_url': u'cnn.it/1OO7L5k'}], u'media': [{u'expanded_url': u'http://twitter.com/CNN/status/692179975122849795/photo/1', u'display_url': u'pic.twitter.com/bMTvwqFds7', u'url': u'https://t.co/bMTvwqFds7', u'media_url_https': u'https://pbs.twimg.com/media/CZseBRrWAAAW8Wq.jpg', u'id_str': u'692179975005405184', u'sizes': {u'small': {u'h': 191, u'resize': u'fit', u'w': 340}, u'large': {u'h': 337, u'resize': u'fit', u'w': 599}, u'medium': {u'h': 337, u'resize': u'fit', u'w': 599}, u'thumb': {u'h': 150, u'resize': u'crop', u'w': 150}}, u'indices': [120, 143], u'type': u'photo', u'id': 692179975005405184, u'media_url': u'http://pbs.twimg.com/media/CZseBRrWAAAW8Wq.jpg'}]}, u'in_reply_to_screen_name': None, u'in_reply_to_user_id': None, u'retweet_count': 229, u'id_str': u'692179975122849795', u'favorited': False, u'user': {u'follow_request_sent': False, u'has_extended_profile': False, u'profile_use_background_image': False, u'default_profile_image': False, u'id': 759251, u'profile_background_image_url_https': u'https://pbs.twimg.com/profile_background_images/515228058286952449/zVfUxqPl.jpeg', u'verified': True, u'profile_text_color': u'000000', u'profile_image_url_https': u'https://pbs.twimg.com/profile_images/508960761826131968/LnvhR8ED_normal.png', u'profile_sidebar_fill_color': u'EEEEEE', u'entities': {u'url': {u'urls': [{u'url': u'http://t.co/IaghNW8Xm2', u'indices': [0, 22], u'expanded_url': u'http://www.cnn.com', u'display_url': u'cnn.com'}]}, u'description': {u'urls': []}}, u'followers_count': 22885250, u'profile_sidebar_border_color': u'000000', u'id_str': u'759251', u'profile_background_color': u'323232', u'listed_count': 112512, u'is_translation_enabled': True, u'utc_offset': -18000, u'statuses_count': 76730, u'description': u'It\\u2019s our job to #GoThere and tell the most difficult stories. Come with us!', u'friends_count': 1112, u'location': u'', u'profile_link_color': u'004287', u'profile_image_url': u'http://pbs.twimg.com/profile_images/508960761826131968/LnvhR8ED_normal.png', u'following': False, u'geo_enabled': True, u'profile_banner_url': u'https://pbs.twimg.com/profile_banners/759251/1453849197', u'profile_background_image_url': u'http://pbs.twimg.com/profile_background_images/515228058286952449/zVfUxqPl.jpeg', u'screen_name': u'CNN', u'lang': u'en', u'profile_background_tile': False, u'favourites_count': 1344, u'name': u'CNN', u'notifications': False, u'url': u'http://t.co/IaghNW8Xm2', u'created_at': u'Fri Feb 09 00:35:02 +0000 2007', u'contributors_enabled': False, u'time_zone': u'Eastern Time (US & Canada)', u'protected': False, u'default_profile': False, u'is_translator': False}, u'geo': None, u'in_reply_to_user_id_str': None, u'possibly_sensitive': False, u'lang': u'en', u'created_at': u'Wed Jan 27 02:59:00 +0000 2016', u'in_reply_to_status_id_str': None, u'place': None, u'metadata': {u'iso_language_code': u'en', u'result_type': u'recent'}}, coordinates=None, entities={u'symbols': [], u'user_mentions': [{u'id': 6449282, u'indices': [1, 9], u'id_str': u'6449282', u'screen_name': u'JetBlue', u'name': u'JetBlue Airways'}, {u'id': 16184358, u'indices': [110, 119], u'id_str': u'16184358', u'screen_name': u'CNNMoney', u'name': u'CNNMoney'}], u'hashtags': [], u'urls': [{u'url': u'https://t.co/Jk8PsbaANO', u'indices': [86, 109], u'expanded_url': u'http://cnn.it/1OO7L5k', u'display_url': u'cnn.it/1OO7L5k'}], u'media': [{u'expanded_url': u'http://twitter.com/CNN/status/692179975122849795/photo/1', u'display_url': u'pic.twitter.com/bMTvwqFds7', u'url': u'https://t.co/bMTvwqFds7', u'media_url_https': u'https://pbs.twimg.com/media/CZseBRrWAAAW8Wq.jpg', u'id_str': u'692179975005405184', u'sizes': {u'small': {u'h': 191, u'resize': u'fit', u'w': 340}, u'large': {u'h': 337, u'resize': u'fit', u'w': 599}, u'medium': {u'h': 337, u'resize': u'fit', u'w': 599}, u'thumb': {u'h': 150, u'resize': u'crop', u'w': 150}}, u'indices': [120, 143], u'type': u'photo', u'id': 692179975005405184, u'media_url': u'http://pbs.twimg.com/media/CZseBRrWAAAW8Wq.jpg'}]}, in_reply_to_screen_name=None, id_str=u'692179975122849795', retweet_count=229, in_reply_to_user_id=None, favorited=False, source_url=u'http://www.sprinklr.com', user=User(follow_request_sent=False, has_extended_profile=False, profile_use_background_image=False, _json={u'follow_request_sent': False, u'has_extended_profile': False, u'profile_use_background_image': False, u'default_profile_image': False, u'id': 759251, u'profile_background_image_url_https': u'https://pbs.twimg.com/profile_background_images/515228058286952449/zVfUxqPl.jpeg', u'verified': True, u'profile_text_color': u'000000', u'profile_image_url_https': u'https://pbs.twimg.com/profile_images/508960761826131968/LnvhR8ED_normal.png', u'profile_sidebar_fill_color': u'EEEEEE', u'entities': {u'url': {u'urls': [{u'url': u'http://t.co/IaghNW8Xm2', u'indices': [0, 22], u'expanded_url': u'http://www.cnn.com', u'display_url': u'cnn.com'}]}, u'description': {u'urls': []}}, u'followers_count': 22885250, u'profile_sidebar_border_color': u'000000', u'id_str': u'759251', u'profile_background_color': u'323232', u'listed_count': 112512, u'is_translation_enabled': True, u'utc_offset': -18000, u'statuses_count': 76730, u'description': u'It\\u2019s our job to #GoThere and tell the most difficult stories. Come with us!', u'friends_count': 1112, u'location': u'', u'profile_link_color': u'004287', u'profile_image_url': u'http://pbs.twimg.com/profile_images/508960761826131968/LnvhR8ED_normal.png', u'following': False, u'geo_enabled': True, u'profile_banner_url': u'https://pbs.twimg.com/profile_banners/759251/1453849197', u'profile_background_image_url': u'http://pbs.twimg.com/profile_background_images/515228058286952449/zVfUxqPl.jpeg', u'screen_name': u'CNN', u'lang': u'en', u'profile_background_tile': False, u'favourites_count': 1344, u'name': u'CNN', u'notifications': False, u'url': u'http://t.co/IaghNW8Xm2', u'created_at': u'Fri Feb 09 00:35:02 +0000 2007', u'contributors_enabled': False, u'time_zone': u'Eastern Time (US & Canada)', u'protected': False, u'default_profile': False, u'is_translator': False}, time_zone=u'Eastern Time (US & Canada)', id=759251, _api=<tweepy.api.API object at 0x104f4db10>, verified=True, profile_text_color=u'000000', profile_image_url_https=u'https://pbs.twimg.com/profile_images/508960761826131968/LnvhR8ED_normal.png', profile_sidebar_fill_color=u'EEEEEE', is_translator=False, geo_enabled=True, entities={u'url': {u'urls': [{u'url': u'http://t.co/IaghNW8Xm2', u'indices': [0, 22], u'expanded_url': u'http://www.cnn.com', u'display_url': u'cnn.com'}]}, u'description': {u'urls': []}}, followers_count=22885250, protected=False, id_str=u'759251', default_profile_image=False, listed_count=112512, lang=u'en', utc_offset=-18000, statuses_count=76730, description=u'It\\u2019s our job to #GoThere and tell the most difficult stories. Come with us!', friends_count=1112, profile_link_color=u'004287', profile_image_url=u'http://pbs.twimg.com/profile_images/508960761826131968/LnvhR8ED_normal.png', notifications=False, profile_background_image_url_https=u'https://pbs.twimg.com/profile_background_images/515228058286952449/zVfUxqPl.jpeg', profile_background_color=u'323232', profile_banner_url=u'https://pbs.twimg.com/profile_banners/759251/1453849197', profile_background_image_url=u'http://pbs.twimg.com/profile_background_images/515228058286952449/zVfUxqPl.jpeg', name=u'CNN', is_translation_enabled=True, profile_background_tile=False, favourites_count=1344, screen_name=u'CNN', url=u'http://t.co/IaghNW8Xm2', created_at=datetime.datetime(2007, 2, 9, 0, 35, 2), contributors_enabled=False, location=u'', profile_sidebar_border_color=u'000000', default_profile=False, following=False), geo=None, in_reply_to_user_id_str=None, possibly_sensitive=False, lang=u'en', created_at=datetime.datetime(2016, 1, 27, 2, 59), in_reply_to_status_id_str=None, place=None, source=u'Sprinklr', retweeted=False, metadata={u'iso_language_code': u'en', u'result_type': u'recent'}), source_url=u'http://twitter.com/download/iphone', user=User(follow_request_sent=False, has_extended_profile=False, profile_use_background_image=True, _json={u'follow_request_sent': False, u'has_extended_profile': False, u'profile_use_background_image': True, u'default_profile_image': False, u'id': 219944298, u'profile_background_image_url_https': u'https://pbs.twimg.com/profile_background_images/735064451/0cd3796ad93b3d808d28a0ed0b92f0f7.jpeg', u'verified': False, u'profile_text_color': u'333333', u'profile_image_url_https': u'https://pbs.twimg.com/profile_images/693866556351119360/nSRAyVBo_normal.jpg', u'profile_sidebar_fill_color': u'F3F3F3', u'entities': {u'url': {u'urls': [{u'url': u'https://t.co/FuDZiRCcls', u'indices': [0, 23], u'expanded_url': u'https://ssavatovic.wordpress.com/', u'display_url': u'ssavatovic.wordpress.com'}]}, u'description': {u'urls': []}}, u'followers_count': 484, u'profile_sidebar_border_color': u'FFFFFF', u'id_str': u'219944298', u'profile_background_color': u'731C73', u'listed_count': 7, u'is_translation_enabled': False, u'utc_offset': 7200, u'statuses_count': 8828, u'description': u'Serbian hammerthrow Record Holder. Kansas State University. Road to RIO 2016.', u'friends_count': 448, u'location': u'', u'profile_link_color': u'D126CB', u'profile_image_url': u'http://pbs.twimg.com/profile_images/693866556351119360/nSRAyVBo_normal.jpg', u'following': False, u'geo_enabled': True, u'profile_banner_url': u'https://pbs.twimg.com/profile_banners/219944298/1445131209', u'profile_background_image_url': u'http://pbs.twimg.com/profile_background_images/735064451/0cd3796ad93b3d808d28a0ed0b92f0f7.jpeg', u'screen_name': u'sarathrower', u'lang': u'en', u'profile_background_tile': True, u'favourites_count': 6802, u'name': u'Sara Savatovic', u'notifications': False, u'url': u'https://t.co/FuDZiRCcls', u'created_at': u'Fri Nov 26 10:03:17 +0000 2010', u'contributors_enabled': False, u'time_zone': u'Athens', u'protected': False, u'default_profile': False, u'is_translator': False}, time_zone=u'Athens', id=219944298, _api=<tweepy.api.API object at 0x104f4db10>, verified=False, profile_text_color=u'333333', profile_image_url_https=u'https://pbs.twimg.com/profile_images/693866556351119360/nSRAyVBo_normal.jpg', profile_sidebar_fill_color=u'F3F3F3', is_translator=False, geo_enabled=True, entities={u'url': {u'urls': [{u'url': u'https://t.co/FuDZiRCcls', u'indices': [0, 23], u'expanded_url': u'https://ssavatovic.wordpress.com/', u'display_url': u'ssavatovic.wordpress.com'}]}, u'description': {u'urls': []}}, followers_count=484, protected=False, id_str=u'219944298', default_profile_image=False, listed_count=7, lang=u'en', utc_offset=7200, statuses_count=8828, description=u'Serbian hammerthrow Record Holder. Kansas State University. Road to RIO 2016.', friends_count=448, profile_link_color=u'D126CB', profile_image_url=u'http://pbs.twimg.com/profile_images/693866556351119360/nSRAyVBo_normal.jpg', notifications=False, profile_background_image_url_https=u'https://pbs.twimg.com/profile_background_images/735064451/0cd3796ad93b3d808d28a0ed0b92f0f7.jpeg', profile_background_color=u'731C73', profile_banner_url=u'https://pbs.twimg.com/profile_banners/219944298/1445131209', profile_background_image_url=u'http://pbs.twimg.com/profile_background_images/735064451/0cd3796ad93b3d808d28a0ed0b92f0f7.jpeg', name=u'Sara Savatovic', is_translation_enabled=False, profile_background_tile=True, favourites_count=6802, screen_name=u'sarathrower', url=u'https://t.co/FuDZiRCcls', created_at=datetime.datetime(2010, 11, 26, 10, 3, 17), contributors_enabled=False, location=u'', profile_sidebar_border_color=u'FFFFFF', default_profile=False, following=False), geo=None, in_reply_to_user_id_str=None, possibly_sensitive=False, lang=u'en', created_at=datetime.datetime(2016, 1, 27, 3, 30, 33), in_reply_to_status_id_str=None, place=None, source=u'Twitter for iPhone', retweeted=False, metadata={u'iso_language_code': u'en', u'result_type': u'recent'})"
      ]
     },
     "execution_count": 85,
     "metadata": {},
     "output_type": "execute_result"
    }
   ],
   "source": [
    "tweet"
   ]
  },
  {
   "cell_type": "code",
   "execution_count": 91,
   "metadata": {
    "collapsed": false
   },
   "outputs": [
    {
     "data": {
      "text/plain": [
       "219944298"
      ]
     },
     "execution_count": 91,
     "metadata": {},
     "output_type": "execute_result"
    }
   ],
   "source": [
    "tweet.author._json['id']"
   ]
  },
  {
   "cell_type": "code",
   "execution_count": 50,
   "metadata": {
    "collapsed": false
   },
   "outputs": [],
   "source": [
    "#import json\n",
    "#json.dumps(test)"
   ]
  },
  {
   "cell_type": "code",
   "execution_count": 63,
   "metadata": {
    "collapsed": false
   },
   "outputs": [
    {
     "ename": "ReadTimeoutError",
     "evalue": "HTTPSConnectionPool(host='stream.twitter.com', port=443): Read timed out.",
     "output_type": "error",
     "traceback": [
      "\u001b[0;31m---------------------------------------------------------------------------\u001b[0m",
      "\u001b[0;31mReadTimeoutError\u001b[0m                          Traceback (most recent call last)",
      "\u001b[0;32m<ipython-input-63-bf2cad3bf5c8>\u001b[0m in \u001b[0;36m<module>\u001b[0;34m()\u001b[0m\n\u001b[1;32m     18\u001b[0m \u001b[0;34m\u001b[0m\u001b[0m\n\u001b[1;32m     19\u001b[0m \u001b[0mtwitter_stream\u001b[0m \u001b[0;34m=\u001b[0m \u001b[0mStream\u001b[0m\u001b[0;34m(\u001b[0m\u001b[0mauth\u001b[0m\u001b[0;34m,\u001b[0m \u001b[0mMyListener\u001b[0m\u001b[0;34m(\u001b[0m\u001b[0;34m)\u001b[0m\u001b[0;34m)\u001b[0m\u001b[0;34m\u001b[0m\u001b[0m\n\u001b[0;32m---> 20\u001b[0;31m \u001b[0mtwitter_stream\u001b[0m\u001b[0;34m.\u001b[0m\u001b[0mfilter\u001b[0m\u001b[0;34m(\u001b[0m\u001b[0mtrack\u001b[0m\u001b[0;34m=\u001b[0m\u001b[0;34m[\u001b[0m\u001b[0;34m'#python'\u001b[0m\u001b[0;34m]\u001b[0m\u001b[0;34m)\u001b[0m\u001b[0;34m\u001b[0m\u001b[0m\n\u001b[0m",
      "\u001b[0;32m/Users/Peter/anaconda/lib/python2.7/site-packages/tweepy/streaming.pyc\u001b[0m in \u001b[0;36mfilter\u001b[0;34m(self, follow, track, async, locations, stall_warnings, languages, encoding, filter_level)\u001b[0m\n\u001b[1;32m    443\u001b[0m         \u001b[0mself\u001b[0m\u001b[0;34m.\u001b[0m\u001b[0msession\u001b[0m\u001b[0;34m.\u001b[0m\u001b[0mparams\u001b[0m \u001b[0;34m=\u001b[0m \u001b[0;34m{\u001b[0m\u001b[0;34m'delimited'\u001b[0m\u001b[0;34m:\u001b[0m \u001b[0;34m'length'\u001b[0m\u001b[0;34m}\u001b[0m\u001b[0;34m\u001b[0m\u001b[0m\n\u001b[1;32m    444\u001b[0m         \u001b[0mself\u001b[0m\u001b[0;34m.\u001b[0m\u001b[0mhost\u001b[0m \u001b[0;34m=\u001b[0m \u001b[0;34m'stream.twitter.com'\u001b[0m\u001b[0;34m\u001b[0m\u001b[0m\n\u001b[0;32m--> 445\u001b[0;31m         \u001b[0mself\u001b[0m\u001b[0;34m.\u001b[0m\u001b[0m_start\u001b[0m\u001b[0;34m(\u001b[0m\u001b[0masync\u001b[0m\u001b[0;34m)\u001b[0m\u001b[0;34m\u001b[0m\u001b[0m\n\u001b[0m\u001b[1;32m    446\u001b[0m \u001b[0;34m\u001b[0m\u001b[0m\n\u001b[1;32m    447\u001b[0m     def sitestream(self, follow, stall_warnings=False,\n",
      "\u001b[0;32m/Users/Peter/anaconda/lib/python2.7/site-packages/tweepy/streaming.pyc\u001b[0m in \u001b[0;36m_start\u001b[0;34m(self, async)\u001b[0m\n\u001b[1;32m    359\u001b[0m             \u001b[0mself\u001b[0m\u001b[0;34m.\u001b[0m\u001b[0m_thread\u001b[0m\u001b[0;34m.\u001b[0m\u001b[0mstart\u001b[0m\u001b[0;34m(\u001b[0m\u001b[0;34m)\u001b[0m\u001b[0;34m\u001b[0m\u001b[0m\n\u001b[1;32m    360\u001b[0m         \u001b[0;32melse\u001b[0m\u001b[0;34m:\u001b[0m\u001b[0;34m\u001b[0m\u001b[0m\n\u001b[0;32m--> 361\u001b[0;31m             \u001b[0mself\u001b[0m\u001b[0;34m.\u001b[0m\u001b[0m_run\u001b[0m\u001b[0;34m(\u001b[0m\u001b[0;34m)\u001b[0m\u001b[0;34m\u001b[0m\u001b[0m\n\u001b[0m\u001b[1;32m    362\u001b[0m \u001b[0;34m\u001b[0m\u001b[0m\n\u001b[1;32m    363\u001b[0m     \u001b[0;32mdef\u001b[0m \u001b[0mon_closed\u001b[0m\u001b[0;34m(\u001b[0m\u001b[0mself\u001b[0m\u001b[0;34m,\u001b[0m \u001b[0mresp\u001b[0m\u001b[0;34m)\u001b[0m\u001b[0;34m:\u001b[0m\u001b[0;34m\u001b[0m\u001b[0m\n",
      "\u001b[0;32m/Users/Peter/anaconda/lib/python2.7/site-packages/tweepy/streaming.pyc\u001b[0m in \u001b[0;36m_run\u001b[0;34m(self)\u001b[0m\n\u001b[1;32m    292\u001b[0m             \u001b[0;31m# call a handler first so that the exception can be logged.\u001b[0m\u001b[0;34m\u001b[0m\u001b[0;34m\u001b[0m\u001b[0m\n\u001b[1;32m    293\u001b[0m             \u001b[0mself\u001b[0m\u001b[0;34m.\u001b[0m\u001b[0mlistener\u001b[0m\u001b[0;34m.\u001b[0m\u001b[0mon_exception\u001b[0m\u001b[0;34m(\u001b[0m\u001b[0mexception\u001b[0m\u001b[0;34m)\u001b[0m\u001b[0;34m\u001b[0m\u001b[0m\n\u001b[0;32m--> 294\u001b[0;31m             \u001b[0;32mraise\u001b[0m \u001b[0mexception\u001b[0m\u001b[0;34m\u001b[0m\u001b[0m\n\u001b[0m\u001b[1;32m    295\u001b[0m \u001b[0;34m\u001b[0m\u001b[0m\n\u001b[1;32m    296\u001b[0m     \u001b[0;32mdef\u001b[0m \u001b[0m_data\u001b[0m\u001b[0;34m(\u001b[0m\u001b[0mself\u001b[0m\u001b[0;34m,\u001b[0m \u001b[0mdata\u001b[0m\u001b[0;34m)\u001b[0m\u001b[0;34m:\u001b[0m\u001b[0;34m\u001b[0m\u001b[0m\n",
      "\u001b[0;31mReadTimeoutError\u001b[0m: HTTPSConnectionPool(host='stream.twitter.com', port=443): Read timed out."
     ]
    }
   ],
   "source": [
    "from tweepy import Stream\n",
    "from tweepy.streaming import StreamListener\n",
    " \n",
    "class MyListener(StreamListener):\n",
    " \n",
    "    def on_data(self, data):\n",
    "        try:\n",
    "            with open('python.json', 'a') as f:\n",
    "                f.write(data)\n",
    "                return True\n",
    "        except BaseException as e:\n",
    "            print(\"Error on_data: %s\" % str(e))\n",
    "        return True\n",
    " \n",
    "    def on_error(self, status):\n",
    "        print(status)\n",
    "        return True\n",
    " \n",
    "twitter_stream = Stream(auth, MyListener())\n",
    "twitter_stream.filter(track=['#python'])"
   ]
  },
  {
   "cell_type": "code",
   "execution_count": 41,
   "metadata": {
    "collapsed": false
   },
   "outputs": [
    {
     "ename": "CParserError",
     "evalue": "Error tokenizing data. C error: Expected 4 fields in line 2701, saw 5\n",
     "output_type": "error",
     "traceback": [
      "\u001b[0;31m---------------------------------------------------------------------------\u001b[0m",
      "\u001b[0;31mCParserError\u001b[0m                              Traceback (most recent call last)",
      "\u001b[0;32m<ipython-input-41-69e9c6b59c45>\u001b[0m in \u001b[0;36m<module>\u001b[0;34m()\u001b[0m\n\u001b[0;32m----> 1\u001b[0;31m \u001b[0mjetBlueTweets\u001b[0m \u001b[0;34m=\u001b[0m \u001b[0mpd\u001b[0m\u001b[0;34m.\u001b[0m\u001b[0mread_csv\u001b[0m\u001b[0;34m(\u001b[0m\u001b[0;34m'result.csv'\u001b[0m\u001b[0;34m)\u001b[0m\u001b[0;34m\u001b[0m\u001b[0m\n\u001b[0m\u001b[1;32m      2\u001b[0m \u001b[0mjetBlueTweets\u001b[0m\u001b[0;34m.\u001b[0m\u001b[0mcolumns\u001b[0m \u001b[0;34m=\u001b[0m \u001b[0;34m[\u001b[0m\u001b[0;34m'time_created'\u001b[0m\u001b[0;34m,\u001b[0m\u001b[0;34m'text'\u001b[0m\u001b[0;34m,\u001b[0m\u001b[0;34m'is_reply'\u001b[0m\u001b[0;34m,\u001b[0m\u001b[0;34m''\u001b[0m\u001b[0;34m]\u001b[0m\u001b[0;34m\u001b[0m\u001b[0m\n\u001b[1;32m      3\u001b[0m \u001b[0;31m#tweet.created_at, tweet.text.encode('utf-8'),tweet.in_reply_to_status_id,tweet.id,tweet.user\u001b[0m\u001b[0;34m\u001b[0m\u001b[0;34m\u001b[0m\u001b[0m\n",
      "\u001b[0;32m/Users/Peter/anaconda/lib/python2.7/site-packages/pandas/io/parsers.pyc\u001b[0m in \u001b[0;36mparser_f\u001b[0;34m(filepath_or_buffer, sep, dialect, compression, doublequote, escapechar, quotechar, quoting, skipinitialspace, lineterminator, header, index_col, names, prefix, skiprows, skipfooter, skip_footer, na_values, true_values, false_values, delimiter, converters, dtype, usecols, engine, delim_whitespace, as_recarray, na_filter, compact_ints, use_unsigned, low_memory, buffer_lines, warn_bad_lines, error_bad_lines, keep_default_na, thousands, comment, decimal, parse_dates, keep_date_col, dayfirst, date_parser, memory_map, float_precision, nrows, iterator, chunksize, verbose, encoding, squeeze, mangle_dupe_cols, tupleize_cols, infer_datetime_format, skip_blank_lines)\u001b[0m\n\u001b[1;32m    496\u001b[0m                     skip_blank_lines=skip_blank_lines)\n\u001b[1;32m    497\u001b[0m \u001b[0;34m\u001b[0m\u001b[0m\n\u001b[0;32m--> 498\u001b[0;31m         \u001b[0;32mreturn\u001b[0m \u001b[0m_read\u001b[0m\u001b[0;34m(\u001b[0m\u001b[0mfilepath_or_buffer\u001b[0m\u001b[0;34m,\u001b[0m \u001b[0mkwds\u001b[0m\u001b[0;34m)\u001b[0m\u001b[0;34m\u001b[0m\u001b[0m\n\u001b[0m\u001b[1;32m    499\u001b[0m \u001b[0;34m\u001b[0m\u001b[0m\n\u001b[1;32m    500\u001b[0m     \u001b[0mparser_f\u001b[0m\u001b[0;34m.\u001b[0m\u001b[0m__name__\u001b[0m \u001b[0;34m=\u001b[0m \u001b[0mname\u001b[0m\u001b[0;34m\u001b[0m\u001b[0m\n",
      "\u001b[0;32m/Users/Peter/anaconda/lib/python2.7/site-packages/pandas/io/parsers.pyc\u001b[0m in \u001b[0;36m_read\u001b[0;34m(filepath_or_buffer, kwds)\u001b[0m\n\u001b[1;32m    283\u001b[0m         \u001b[0;32mreturn\u001b[0m \u001b[0mparser\u001b[0m\u001b[0;34m\u001b[0m\u001b[0m\n\u001b[1;32m    284\u001b[0m \u001b[0;34m\u001b[0m\u001b[0m\n\u001b[0;32m--> 285\u001b[0;31m     \u001b[0;32mreturn\u001b[0m \u001b[0mparser\u001b[0m\u001b[0;34m.\u001b[0m\u001b[0mread\u001b[0m\u001b[0;34m(\u001b[0m\u001b[0;34m)\u001b[0m\u001b[0;34m\u001b[0m\u001b[0m\n\u001b[0m\u001b[1;32m    286\u001b[0m \u001b[0;34m\u001b[0m\u001b[0m\n\u001b[1;32m    287\u001b[0m _parser_defaults = {\n",
      "\u001b[0;32m/Users/Peter/anaconda/lib/python2.7/site-packages/pandas/io/parsers.pyc\u001b[0m in \u001b[0;36mread\u001b[0;34m(self, nrows)\u001b[0m\n\u001b[1;32m    745\u001b[0m                 \u001b[0;32mraise\u001b[0m \u001b[0mValueError\u001b[0m\u001b[0;34m(\u001b[0m\u001b[0;34m'skip_footer not supported for iteration'\u001b[0m\u001b[0;34m)\u001b[0m\u001b[0;34m\u001b[0m\u001b[0m\n\u001b[1;32m    746\u001b[0m \u001b[0;34m\u001b[0m\u001b[0m\n\u001b[0;32m--> 747\u001b[0;31m         \u001b[0mret\u001b[0m \u001b[0;34m=\u001b[0m \u001b[0mself\u001b[0m\u001b[0;34m.\u001b[0m\u001b[0m_engine\u001b[0m\u001b[0;34m.\u001b[0m\u001b[0mread\u001b[0m\u001b[0;34m(\u001b[0m\u001b[0mnrows\u001b[0m\u001b[0;34m)\u001b[0m\u001b[0;34m\u001b[0m\u001b[0m\n\u001b[0m\u001b[1;32m    748\u001b[0m \u001b[0;34m\u001b[0m\u001b[0m\n\u001b[1;32m    749\u001b[0m         \u001b[0;32mif\u001b[0m \u001b[0mself\u001b[0m\u001b[0;34m.\u001b[0m\u001b[0moptions\u001b[0m\u001b[0;34m.\u001b[0m\u001b[0mget\u001b[0m\u001b[0;34m(\u001b[0m\u001b[0;34m'as_recarray'\u001b[0m\u001b[0;34m)\u001b[0m\u001b[0;34m:\u001b[0m\u001b[0;34m\u001b[0m\u001b[0m\n",
      "\u001b[0;32m/Users/Peter/anaconda/lib/python2.7/site-packages/pandas/io/parsers.pyc\u001b[0m in \u001b[0;36mread\u001b[0;34m(self, nrows)\u001b[0m\n\u001b[1;32m   1195\u001b[0m     \u001b[0;32mdef\u001b[0m \u001b[0mread\u001b[0m\u001b[0;34m(\u001b[0m\u001b[0mself\u001b[0m\u001b[0;34m,\u001b[0m \u001b[0mnrows\u001b[0m\u001b[0;34m=\u001b[0m\u001b[0mNone\u001b[0m\u001b[0;34m)\u001b[0m\u001b[0;34m:\u001b[0m\u001b[0;34m\u001b[0m\u001b[0m\n\u001b[1;32m   1196\u001b[0m         \u001b[0;32mtry\u001b[0m\u001b[0;34m:\u001b[0m\u001b[0;34m\u001b[0m\u001b[0m\n\u001b[0;32m-> 1197\u001b[0;31m             \u001b[0mdata\u001b[0m \u001b[0;34m=\u001b[0m \u001b[0mself\u001b[0m\u001b[0;34m.\u001b[0m\u001b[0m_reader\u001b[0m\u001b[0;34m.\u001b[0m\u001b[0mread\u001b[0m\u001b[0;34m(\u001b[0m\u001b[0mnrows\u001b[0m\u001b[0;34m)\u001b[0m\u001b[0;34m\u001b[0m\u001b[0m\n\u001b[0m\u001b[1;32m   1198\u001b[0m         \u001b[0;32mexcept\u001b[0m \u001b[0mStopIteration\u001b[0m\u001b[0;34m:\u001b[0m\u001b[0;34m\u001b[0m\u001b[0m\n\u001b[1;32m   1199\u001b[0m             \u001b[0;32mif\u001b[0m \u001b[0mself\u001b[0m\u001b[0;34m.\u001b[0m\u001b[0m_first_chunk\u001b[0m\u001b[0;34m:\u001b[0m\u001b[0;34m\u001b[0m\u001b[0m\n",
      "\u001b[0;32mpandas/parser.pyx\u001b[0m in \u001b[0;36mpandas.parser.TextReader.read (pandas/parser.c:7988)\u001b[0;34m()\u001b[0m\n",
      "\u001b[0;32mpandas/parser.pyx\u001b[0m in \u001b[0;36mpandas.parser.TextReader._read_low_memory (pandas/parser.c:8244)\u001b[0;34m()\u001b[0m\n",
      "\u001b[0;32mpandas/parser.pyx\u001b[0m in \u001b[0;36mpandas.parser.TextReader._read_rows (pandas/parser.c:8970)\u001b[0;34m()\u001b[0m\n",
      "\u001b[0;32mpandas/parser.pyx\u001b[0m in \u001b[0;36mpandas.parser.TextReader._tokenize_rows (pandas/parser.c:8838)\u001b[0;34m()\u001b[0m\n",
      "\u001b[0;32mpandas/parser.pyx\u001b[0m in \u001b[0;36mpandas.parser.raise_parser_error (pandas/parser.c:22649)\u001b[0;34m()\u001b[0m\n",
      "\u001b[0;31mCParserError\u001b[0m: Error tokenizing data. C error: Expected 4 fields in line 2701, saw 5\n"
     ]
    }
   ],
   "source": [
    "jetBlueTweets = pd.read_csv('result.csv')\n",
    "jetBlueTweets.columns = ['time_created','text','is_reply','']\n",
    "#tweet.created_at, tweet.text.encode('utf-8'),tweet.in_reply_to_status_id,tweet.id,tweet.user"
   ]
  },
  {
   "cell_type": "code",
   "execution_count": 57,
   "metadata": {
    "collapsed": true
   },
   "outputs": [],
   "source": [
    "with open(\"test\") as fh:\n",
    "    #test1 = simplejson.loads(fh.read())\n",
    "    test1 = json.dumps(fh.read())"
   ]
  },
  {
   "cell_type": "code",
   "execution_count": 71,
   "metadata": {
    "collapsed": false
   },
   "outputs": [
    {
     "data": {
      "text/plain": [
       "14226495"
      ]
     },
     "execution_count": 71,
     "metadata": {},
     "output_type": "execute_result"
    }
   ],
   "source": [
    "test[1].id"
   ]
  },
  {
   "cell_type": "code",
   "execution_count": 76,
   "metadata": {
    "collapsed": false
   },
   "outputs": [
    {
     "data": {
      "text/plain": [
       "datetime.datetime(2007, 5, 30, 17, 51, 54)"
      ]
     },
     "execution_count": 76,
     "metadata": {},
     "output_type": "execute_result"
    }
   ],
   "source": [
    "test[0].created_at"
   ]
  },
  {
   "cell_type": "code",
   "execution_count": 11,
   "metadata": {
    "collapsed": false
   },
   "outputs": [],
   "source": [
    "jetDf = pd.read_csv('result2.csv')\n",
    "jetDf.columns=['date','text','reply','id','user']"
   ]
  },
  {
   "cell_type": "code",
   "execution_count": 15,
   "metadata": {
    "collapsed": false
   },
   "outputs": [
    {
     "data": {
      "text/plain": [
       "'@JetBlue they were better when we were in the air...and yes they finally found room'"
      ]
     },
     "execution_count": 15,
     "metadata": {},
     "output_type": "execute_result"
    }
   ],
   "source": [
    "jetDf.iloc[1]['text']"
   ]
  },
  {
   "cell_type": "code",
   "execution_count": 37,
   "metadata": {
    "collapsed": false
   },
   "outputs": [],
   "source": [
    "import numpy as np\n",
    "#np.isnan(jetDf['reply'])\n",
    "jetDf2 = jetDf[np.isnan(jetDf['reply'])]"
   ]
  },
  {
   "cell_type": "code",
   "execution_count": 40,
   "metadata": {
    "collapsed": false
   },
   "outputs": [
    {
     "data": {
      "text/plain": [
       "[(693943981282050048, 1),\n",
       " (693927336056455168, 1),\n",
       " (693922344293769218, 1),\n",
       " (693454140731703299, 1),\n",
       " (692768526814298116, 1)]"
      ]
     },
     "execution_count": 40,
     "metadata": {},
     "output_type": "execute_result"
    }
   ],
   "source": [
    "from collections import Counter\n",
    "c = Counter(jetDf2['id'])\n",
    "c.most_common(5)"
   ]
  },
  {
   "cell_type": "markdown",
   "metadata": {},
   "source": [
    "# Thus, no bots keep tweeting about @jetblue"
   ]
  },
  {
   "cell_type": "code",
   "execution_count": 42,
   "metadata": {
    "collapsed": true
   },
   "outputs": [],
   "source": [
    "jetDf2.to_csv('cleanJetBlue.csv',index=False)"
   ]
  },
  {
   "cell_type": "code",
   "execution_count": null,
   "metadata": {
    "collapsed": true
   },
   "outputs": [],
   "source": [
    "[tweet.created_at,\n",
    " tweet.text.encode('utf-8'),tweet.in_reply_to_status_id,tweet.id,tweet.author._json['id']]"
   ]
  },
  {
   "cell_type": "code",
   "execution_count": 21,
   "metadata": {
    "collapsed": false
   },
   "outputs": [],
   "source": [
    "jtTweets = pd.read_csv('result2.csv')\n",
    "amTweets = pd.read_csv('resultAm.csv')\n",
    "delTweets = pd.read_csv('resultDel.csv')\n",
    "unTweets = pd.read_csv('resultUn.csv')\n",
    "usTweets = pd.read_csv('resultUs.csv')\n",
    "\n",
    "newTweetList = ['jtTweets','amTweets','delTweets','unTweets','usTweets']"
   ]
  },
  {
   "cell_type": "code",
   "execution_count": 15,
   "metadata": {
    "collapsed": true
   },
   "outputs": [],
   "source": [
    "newTweets = pd.read_csv('result2.csv')\n"
   ]
  },
  {
   "cell_type": "code",
   "execution_count": 37,
   "metadata": {
    "collapsed": false
   },
   "outputs": [],
   "source": [
    "tempTweets = eval(savedTweets).ix[:,1]\n",
    "#tempTweets"
   ]
  },
  {
   "cell_type": "code",
   "execution_count": 38,
   "metadata": {
    "collapsed": false
   },
   "outputs": [
    {
     "ename": "TypeError",
     "evalue": "append() takes at least 2 arguments (1 given)",
     "output_type": "error",
     "traceback": [
      "\u001b[0;31m---------------------------------------------------------------------------\u001b[0m",
      "\u001b[0;31mTypeError\u001b[0m                                 Traceback (most recent call last)",
      "\u001b[0;32m<ipython-input-38-bc30aee2bed4>\u001b[0m in \u001b[0;36m<module>\u001b[0;34m()\u001b[0m\n\u001b[1;32m      4\u001b[0m     \u001b[0mtempTweets\u001b[0m \u001b[0;34m=\u001b[0m \u001b[0meval\u001b[0m\u001b[0;34m(\u001b[0m\u001b[0msavedTweets\u001b[0m\u001b[0;34m)\u001b[0m\u001b[0;34m.\u001b[0m\u001b[0mix\u001b[0m\u001b[0;34m[\u001b[0m\u001b[0;34m:\u001b[0m\u001b[0;34m,\u001b[0m\u001b[0;36m1\u001b[0m\u001b[0;34m]\u001b[0m\u001b[0;34m\u001b[0m\u001b[0m\n\u001b[1;32m      5\u001b[0m     \u001b[0mtempTweets\u001b[0m\u001b[0;34m.\u001b[0m\u001b[0mloc\u001b[0m\u001b[0;34m[\u001b[0m\u001b[0;34m:\u001b[0m\u001b[0;34m,\u001b[0m\u001b[0;34m]\u001b[0m\u001b[0;34m\u001b[0m\u001b[0m\n\u001b[0;32m----> 6\u001b[0;31m     \u001b[0mnewTweets\u001b[0m \u001b[0;34m=\u001b[0m \u001b[0mnewTweets\u001b[0m\u001b[0;34m.\u001b[0m\u001b[0mappend\u001b[0m\u001b[0;34m(\u001b[0m\u001b[0;34m)\u001b[0m\u001b[0;34m\u001b[0m\u001b[0m\n\u001b[0m\u001b[1;32m      7\u001b[0m \u001b[0;31m#newTweets\u001b[0m\u001b[0;34m\u001b[0m\u001b[0;34m\u001b[0m\u001b[0m\n",
      "\u001b[0;31mTypeError\u001b[0m: append() takes at least 2 arguments (1 given)"
     ]
    }
   ],
   "source": [
    "newTweets = pd.DataFrame(columns=['text','airline'])\n",
    "#newTweets\n",
    "for savedTweets in newTweetList:\n",
    "    tempTweets = eval(savedTweets).ix[:,1]\n",
    "    tempTweets.loc[:,]\n",
    "    newTweets = newTweets.append()\n",
    "#newTweets"
   ]
  },
  {
   "cell_type": "code",
   "execution_count": 39,
   "metadata": {
    "collapsed": false
   },
   "outputs": [
    {
     "data": {
      "text/html": [
       "<div>\n",
       "<table border=\"1\" class=\"dataframe\">\n",
       "  <thead>\n",
       "    <tr style=\"text-align: right;\">\n",
       "      <th></th>\n",
       "      <th>2016-02-02 18:23:58</th>\n",
       "      <th>@USAirways Wait until the end....</th>\n",
       "      <th>694545660318781440</th>\n",
       "      <th>694587076252168192</th>\n",
       "      <th>1214299986</th>\n",
       "    </tr>\n",
       "  </thead>\n",
       "  <tbody>\n",
       "    <tr>\n",
       "      <th>0</th>\n",
       "      <td>2016-02-02 04:06:45</td>\n",
       "      <td>RT @JensenAckles: .@jarpad I'll see ur @USAirw...</td>\n",
       "      <td>NaN</td>\n",
       "      <td>694371351059173380</td>\n",
       "      <td>2902643981</td>\n",
       "    </tr>\n",
       "    <tr>\n",
       "      <th>1</th>\n",
       "      <td>2016-02-01 20:39:24</td>\n",
       "      <td>@USAirways https://t.co/dSuXI8lKx7 \\nTheir sym...</td>\n",
       "      <td>NaN</td>\n",
       "      <td>694258772810817539</td>\n",
       "      <td>433711408</td>\n",
       "    </tr>\n",
       "    <tr>\n",
       "      <th>2</th>\n",
       "      <td>2016-02-01 19:23:21</td>\n",
       "      <td>.@usairways @AmericanAir 2 hours or more just ...</td>\n",
       "      <td>NaN</td>\n",
       "      <td>694239630925926400</td>\n",
       "      <td>31274165</td>\n",
       "    </tr>\n",
       "    <tr>\n",
       "      <th>3</th>\n",
       "      <td>2016-02-01 19:22:41</td>\n",
       "      <td>.@usairways @AmericanAir I've been waiting sin...</td>\n",
       "      <td>NaN</td>\n",
       "      <td>694239463887769601</td>\n",
       "      <td>31274165</td>\n",
       "    </tr>\n",
       "    <tr>\n",
       "      <th>4</th>\n",
       "      <td>2016-02-01 14:01:38</td>\n",
       "      <td>@americanairlnes hasn't offered free snacks si...</td>\n",
       "      <td>NaN</td>\n",
       "      <td>694158671132168192</td>\n",
       "      <td>50959677</td>\n",
       "    </tr>\n",
       "    <tr>\n",
       "      <th>5</th>\n",
       "      <td>2016-02-01 09:00:45</td>\n",
       "      <td>RT @danieltosh: ha! RT @USAirways: @DanielTosh...</td>\n",
       "      <td>NaN</td>\n",
       "      <td>694082950040788992</td>\n",
       "      <td>2951534325</td>\n",
       "    </tr>\n",
       "    <tr>\n",
       "      <th>6</th>\n",
       "      <td>2016-02-01 09:00:38</td>\n",
       "      <td>RT @danieltosh: guys, this is no way to treat ...</td>\n",
       "      <td>NaN</td>\n",
       "      <td>694082922354229248</td>\n",
       "      <td>2951534325</td>\n",
       "    </tr>\n",
       "    <tr>\n",
       "      <th>7</th>\n",
       "      <td>2016-02-01 01:20:40</td>\n",
       "      <td>RT @benjyee: Farewell @USAirways, you will be ...</td>\n",
       "      <td>NaN</td>\n",
       "      <td>693967165502939136</td>\n",
       "      <td>3001424200</td>\n",
       "    </tr>\n",
       "    <tr>\n",
       "      <th>8</th>\n",
       "      <td>2016-01-31 23:17:05</td>\n",
       "      <td>@hawkaire_clt hi David, can I purchase this ph...</td>\n",
       "      <td>6.768204e+17</td>\n",
       "      <td>693936068073279488</td>\n",
       "      <td>612923707</td>\n",
       "    </tr>\n",
       "    <tr>\n",
       "      <th>9</th>\n",
       "      <td>2016-01-31 20:35:06</td>\n",
       "      <td>Worthless airline company, never booking with ...</td>\n",
       "      <td>NaN</td>\n",
       "      <td>693895302491799552</td>\n",
       "      <td>546363181</td>\n",
       "    </tr>\n",
       "    <tr>\n",
       "      <th>10</th>\n",
       "      <td>2016-01-31 17:51:47</td>\n",
       "      <td>@AACustomerServ ground personnel needs improve...</td>\n",
       "      <td>NaN</td>\n",
       "      <td>693854201361895424</td>\n",
       "      <td>117518230</td>\n",
       "    </tr>\n",
       "    <tr>\n",
       "      <th>11</th>\n",
       "      <td>2016-01-31 15:15:40</td>\n",
       "      <td>@USAirways @AmericanAir thank you for for sear...</td>\n",
       "      <td>NaN</td>\n",
       "      <td>693814913244991488</td>\n",
       "      <td>621016430</td>\n",
       "    </tr>\n",
       "    <tr>\n",
       "      <th>12</th>\n",
       "      <td>2016-01-31 06:58:01</td>\n",
       "      <td>US Airways tweeted a porn picture today. @USAi...</td>\n",
       "      <td>NaN</td>\n",
       "      <td>693689675463180288</td>\n",
       "      <td>162006847</td>\n",
       "    </tr>\n",
       "    <tr>\n",
       "      <th>13</th>\n",
       "      <td>2016-01-31 06:58:00</td>\n",
       "      <td>US Airways tweeted a porn picture today. @USAi...</td>\n",
       "      <td>NaN</td>\n",
       "      <td>693689673462456320</td>\n",
       "      <td>1003727034</td>\n",
       "    </tr>\n",
       "    <tr>\n",
       "      <th>14</th>\n",
       "      <td>2016-01-31 06:58:00</td>\n",
       "      <td>US Airways tweeted a porn picture today. @USAi...</td>\n",
       "      <td>NaN</td>\n",
       "      <td>693689672019660801</td>\n",
       "      <td>2166343375</td>\n",
       "    </tr>\n",
       "    <tr>\n",
       "      <th>15</th>\n",
       "      <td>2016-01-31 04:09:43</td>\n",
       "      <td>I think I still follow @USAirways just for the...</td>\n",
       "      <td>NaN</td>\n",
       "      <td>693647322178285568</td>\n",
       "      <td>2575493718</td>\n",
       "    </tr>\n",
       "    <tr>\n",
       "      <th>16</th>\n",
       "      <td>2016-01-30 18:42:39</td>\n",
       "      <td>Thank you @discoveryplace @USAirways for the g...</td>\n",
       "      <td>NaN</td>\n",
       "      <td>693504615803936768</td>\n",
       "      <td>1540863097</td>\n",
       "    </tr>\n",
       "    <tr>\n",
       "      <th>17</th>\n",
       "      <td>2016-01-30 01:56:52</td>\n",
       "      <td>@USAirways agents at the desk did their best, ...</td>\n",
       "      <td>6.932514e+17</td>\n",
       "      <td>693251501980921858</td>\n",
       "      <td>15374401</td>\n",
       "    </tr>\n",
       "    <tr>\n",
       "      <th>18</th>\n",
       "      <td>2016-01-30 01:56:22</td>\n",
       "      <td>@USAirways your equipment @ the Oakland airpor...</td>\n",
       "      <td>NaN</td>\n",
       "      <td>693251373626843136</td>\n",
       "      <td>15374401</td>\n",
       "    </tr>\n",
       "    <tr>\n",
       "      <th>19</th>\n",
       "      <td>2016-01-30 01:52:08</td>\n",
       "      <td>RT @JasonWhitely: Last time I used this bag, @...</td>\n",
       "      <td>NaN</td>\n",
       "      <td>693250308026277888</td>\n",
       "      <td>3349045965</td>\n",
       "    </tr>\n",
       "    <tr>\n",
       "      <th>20</th>\n",
       "      <td>2016-01-30 01:51:07</td>\n",
       "      <td>RT @JasonWhitely: Last time I used this bag, @...</td>\n",
       "      <td>NaN</td>\n",
       "      <td>693250052261806080</td>\n",
       "      <td>167862232</td>\n",
       "    </tr>\n",
       "    <tr>\n",
       "      <th>21</th>\n",
       "      <td>2016-01-29 20:28:38</td>\n",
       "      <td>New Flight-Report : Charlotte (CLT) - London (...</td>\n",
       "      <td>NaN</td>\n",
       "      <td>693168897021861888</td>\n",
       "      <td>1591128620</td>\n",
       "    </tr>\n",
       "    <tr>\n",
       "      <th>22</th>\n",
       "      <td>2016-01-29 17:27:48</td>\n",
       "      <td>How I long for the days when @USAirways was in...</td>\n",
       "      <td>NaN</td>\n",
       "      <td>693123389192605697</td>\n",
       "      <td>121228585</td>\n",
       "    </tr>\n",
       "    <tr>\n",
       "      <th>23</th>\n",
       "      <td>2016-01-29 16:55:36</td>\n",
       "      <td>RT @JasonWhitely: Last time I used this bag, @...</td>\n",
       "      <td>NaN</td>\n",
       "      <td>693115286552211456</td>\n",
       "      <td>154938143</td>\n",
       "    </tr>\n",
       "    <tr>\n",
       "      <th>24</th>\n",
       "      <td>2016-01-29 16:38:08</td>\n",
       "      <td>RT @JasonWhitely: Last time I used this bag, @...</td>\n",
       "      <td>NaN</td>\n",
       "      <td>693110889944231936</td>\n",
       "      <td>342737639</td>\n",
       "    </tr>\n",
       "    <tr>\n",
       "      <th>25</th>\n",
       "      <td>2016-01-29 16:37:46</td>\n",
       "      <td>RT @JasonWhitely: Last time I used this bag, @...</td>\n",
       "      <td>NaN</td>\n",
       "      <td>693110800429416448</td>\n",
       "      <td>26714962</td>\n",
       "    </tr>\n",
       "    <tr>\n",
       "      <th>26</th>\n",
       "      <td>2016-01-29 16:13:16</td>\n",
       "      <td>Booking flights 4 some travel, but avoiding @U...</td>\n",
       "      <td>NaN</td>\n",
       "      <td>693104633221238786</td>\n",
       "      <td>52188442</td>\n",
       "    </tr>\n",
       "    <tr>\n",
       "      <th>27</th>\n",
       "      <td>2016-01-29 15:22:13</td>\n",
       "      <td>RT @JensenAckles: .@jarpad I'll see ur @USAirw...</td>\n",
       "      <td>NaN</td>\n",
       "      <td>693091787909525504</td>\n",
       "      <td>1002588649</td>\n",
       "    </tr>\n",
       "    <tr>\n",
       "      <th>28</th>\n",
       "      <td>2016-01-29 13:28:21</td>\n",
       "      <td>@_JimGaines @USAirways Imagine our surprise se...</td>\n",
       "      <td>6.929342e+17</td>\n",
       "      <td>693063128737775617</td>\n",
       "      <td>1153779458</td>\n",
       "    </tr>\n",
       "    <tr>\n",
       "      <th>29</th>\n",
       "      <td>2016-01-29 12:52:00</td>\n",
       "      <td>@JasonWhitely @wfaachannel8 @tedcruz @USAirway...</td>\n",
       "      <td>6.930501e+17</td>\n",
       "      <td>693053983309451265</td>\n",
       "      <td>47943749</td>\n",
       "    </tr>\n",
       "    <tr>\n",
       "      <th>...</th>\n",
       "      <td>...</td>\n",
       "      <td>...</td>\n",
       "      <td>...</td>\n",
       "      <td>...</td>\n",
       "      <td>...</td>\n",
       "    </tr>\n",
       "    <tr>\n",
       "      <th>34</th>\n",
       "      <td>2016-01-29 12:36:55</td>\n",
       "      <td>RT @JasonWhitely: Last time I used this bag, @...</td>\n",
       "      <td>NaN</td>\n",
       "      <td>693050186210353152</td>\n",
       "      <td>20165474</td>\n",
       "    </tr>\n",
       "    <tr>\n",
       "      <th>35</th>\n",
       "      <td>2016-01-29 12:36:33</td>\n",
       "      <td>Last time I used this bag, @tedcruz was announ...</td>\n",
       "      <td>NaN</td>\n",
       "      <td>693050093277065216</td>\n",
       "      <td>20494730</td>\n",
       "    </tr>\n",
       "    <tr>\n",
       "      <th>36</th>\n",
       "      <td>2016-01-29 04:56:01</td>\n",
       "      <td>Well, you certainly do not see this everyday.....</td>\n",
       "      <td>NaN</td>\n",
       "      <td>692934197258907650</td>\n",
       "      <td>17555015</td>\n",
       "    </tr>\n",
       "    <tr>\n",
       "      <th>37</th>\n",
       "      <td>2016-01-29 02:44:31</td>\n",
       "      <td>US Airways (@USAirways) is ranked #10 among Ai...</td>\n",
       "      <td>NaN</td>\n",
       "      <td>692901105525587968</td>\n",
       "      <td>4772839444</td>\n",
       "    </tr>\n",
       "    <tr>\n",
       "      <th>38</th>\n",
       "      <td>2016-01-29 02:22:14</td>\n",
       "      <td>@USAirways Tell me why your ticket agent Laure...</td>\n",
       "      <td>NaN</td>\n",
       "      <td>692895498357706752</td>\n",
       "      <td>213261887</td>\n",
       "    </tr>\n",
       "    <tr>\n",
       "      <th>39</th>\n",
       "      <td>2016-01-29 01:39:34</td>\n",
       "      <td>MUST Rescue US by HCEC'sUSNewCurrency before t...</td>\n",
       "      <td>NaN</td>\n",
       "      <td>692884758422904832</td>\n",
       "      <td>322436212</td>\n",
       "    </tr>\n",
       "    <tr>\n",
       "      <th>40</th>\n",
       "      <td>2016-01-28 21:49:47</td>\n",
       "      <td>@ESMiller59 woahhh i need to get on that, @USA...</td>\n",
       "      <td>6.928248e+17</td>\n",
       "      <td>692826933336346624</td>\n",
       "      <td>376904162</td>\n",
       "    </tr>\n",
       "    <tr>\n",
       "      <th>41</th>\n",
       "      <td>2016-01-28 20:32:24</td>\n",
       "      <td>RT @PeterStern5: Lol @USAirways for trying to ...</td>\n",
       "      <td>NaN</td>\n",
       "      <td>692807459019235328</td>\n",
       "      <td>2339544096</td>\n",
       "    </tr>\n",
       "    <tr>\n",
       "      <th>42</th>\n",
       "      <td>2016-01-28 20:10:27</td>\n",
       "      <td>RT @sb_hatch: Somehow @USAirways always has en...</td>\n",
       "      <td>NaN</td>\n",
       "      <td>692801933531332608</td>\n",
       "      <td>3172991259</td>\n",
       "    </tr>\n",
       "    <tr>\n",
       "      <th>43</th>\n",
       "      <td>2016-01-28 20:09:38</td>\n",
       "      <td>Somehow @USAirways always has engine trouble.....</td>\n",
       "      <td>NaN</td>\n",
       "      <td>692801728664612864</td>\n",
       "      <td>2528569079</td>\n",
       "    </tr>\n",
       "    <tr>\n",
       "      <th>44</th>\n",
       "      <td>2016-01-28 18:08:01</td>\n",
       "      <td>US Airways tweeted a porn picture today. @USAi...</td>\n",
       "      <td>NaN</td>\n",
       "      <td>692771121817591810</td>\n",
       "      <td>2166343375</td>\n",
       "    </tr>\n",
       "    <tr>\n",
       "      <th>45</th>\n",
       "      <td>2016-01-28 17:23:39</td>\n",
       "      <td>Know how passengers of this cursed aircraft we...</td>\n",
       "      <td>NaN</td>\n",
       "      <td>692759956471181312</td>\n",
       "      <td>57167586</td>\n",
       "    </tr>\n",
       "    <tr>\n",
       "      <th>46</th>\n",
       "      <td>2016-01-28 16:23:50</td>\n",
       "      <td>RT @jayeramusic: Is there a way to just travel...</td>\n",
       "      <td>NaN</td>\n",
       "      <td>692744903974084608</td>\n",
       "      <td>3302258200</td>\n",
       "    </tr>\n",
       "    <tr>\n",
       "      <th>47</th>\n",
       "      <td>2016-01-28 16:10:57</td>\n",
       "      <td>Is there a way to just travel as a career.. If...</td>\n",
       "      <td>NaN</td>\n",
       "      <td>692741660992782336</td>\n",
       "      <td>4796462362</td>\n",
       "    </tr>\n",
       "    <tr>\n",
       "      <th>48</th>\n",
       "      <td>2016-01-28 11:33:01</td>\n",
       "      <td>US Airways tweeted a porn picture today. @USAi...</td>\n",
       "      <td>NaN</td>\n",
       "      <td>692671718557650944</td>\n",
       "      <td>162006847</td>\n",
       "    </tr>\n",
       "    <tr>\n",
       "      <th>49</th>\n",
       "      <td>2016-01-28 11:33:01</td>\n",
       "      <td>US Airways tweeted a porn picture today. @USAi...</td>\n",
       "      <td>NaN</td>\n",
       "      <td>692671716355641344</td>\n",
       "      <td>1003727034</td>\n",
       "    </tr>\n",
       "    <tr>\n",
       "      <th>50</th>\n",
       "      <td>2016-01-28 11:33:00</td>\n",
       "      <td>US Airways tweeted a porn picture today. @USAi...</td>\n",
       "      <td>NaN</td>\n",
       "      <td>692671714984075264</td>\n",
       "      <td>2166343375</td>\n",
       "    </tr>\n",
       "    <tr>\n",
       "      <th>51</th>\n",
       "      <td>2016-01-28 05:19:56</td>\n",
       "      <td>RT @JensenAckles: .@jarpad I'll see ur @USAirw...</td>\n",
       "      <td>NaN</td>\n",
       "      <td>692577827611373569</td>\n",
       "      <td>1950610843</td>\n",
       "    </tr>\n",
       "    <tr>\n",
       "      <th>52</th>\n",
       "      <td>2016-01-28 02:48:13</td>\n",
       "      <td>I'm really not liking @AmericanAir since this ...</td>\n",
       "      <td>NaN</td>\n",
       "      <td>692539648569143297</td>\n",
       "      <td>66552956</td>\n",
       "    </tr>\n",
       "    <tr>\n",
       "      <th>53</th>\n",
       "      <td>2016-01-28 02:32:25</td>\n",
       "      <td>RT @TheVampsJames: It's brad's birthday! Poor ...</td>\n",
       "      <td>NaN</td>\n",
       "      <td>692535671395880960</td>\n",
       "      <td>196149928</td>\n",
       "    </tr>\n",
       "    <tr>\n",
       "      <th>54</th>\n",
       "      <td>2016-01-28 02:32:04</td>\n",
       "      <td>RT @TheVampsband: Hey @USAirways we are flying...</td>\n",
       "      <td>NaN</td>\n",
       "      <td>692535582153666561</td>\n",
       "      <td>196149928</td>\n",
       "    </tr>\n",
       "    <tr>\n",
       "      <th>55</th>\n",
       "      <td>2016-01-27 21:47:51</td>\n",
       "      <td>RT @ESPN_ReceDavis: @Bradley_Airport @USAirway...</td>\n",
       "      <td>NaN</td>\n",
       "      <td>692464058579193860</td>\n",
       "      <td>103792447</td>\n",
       "    </tr>\n",
       "    <tr>\n",
       "      <th>56</th>\n",
       "      <td>2016-01-27 20:11:18</td>\n",
       "      <td>@Bradley_Airport @USAirways employee Rashida T...</td>\n",
       "      <td>NaN</td>\n",
       "      <td>692439760904785920</td>\n",
       "      <td>75296671</td>\n",
       "    </tr>\n",
       "    <tr>\n",
       "      <th>57</th>\n",
       "      <td>2016-01-27 19:52:08</td>\n",
       "      <td>@MarshaCollier @AmericanAir Can we buy one? We...</td>\n",
       "      <td>6.924287e+17</td>\n",
       "      <td>692434938084343808</td>\n",
       "      <td>335491404</td>\n",
       "    </tr>\n",
       "    <tr>\n",
       "      <th>58</th>\n",
       "      <td>2016-01-27 18:21:13</td>\n",
       "      <td>@AmericanAir $75 to switch to an earlier fligh...</td>\n",
       "      <td>NaN</td>\n",
       "      <td>692412055568130049</td>\n",
       "      <td>254442983</td>\n",
       "    </tr>\n",
       "    <tr>\n",
       "      <th>59</th>\n",
       "      <td>2016-01-27 17:41:39</td>\n",
       "      <td>Never a good experience on  @americanairlnes  ...</td>\n",
       "      <td>NaN</td>\n",
       "      <td>692402101637505028</td>\n",
       "      <td>318889294</td>\n",
       "    </tr>\n",
       "    <tr>\n",
       "      <th>60</th>\n",
       "      <td>2016-01-27 15:41:21</td>\n",
       "      <td>@jyarmis @WSJ @jack @leslieberland &amp;gt;Have a ...</td>\n",
       "      <td>6.923714e+17</td>\n",
       "      <td>692371824726970368</td>\n",
       "      <td>19747132</td>\n",
       "    </tr>\n",
       "    <tr>\n",
       "      <th>61</th>\n",
       "      <td>2016-01-27 10:55:23</td>\n",
       "      <td>. @usairways The Owler community has updated y...</td>\n",
       "      <td>NaN</td>\n",
       "      <td>692299860331122689</td>\n",
       "      <td>3298274432</td>\n",
       "    </tr>\n",
       "    <tr>\n",
       "      <th>62</th>\n",
       "      <td>2016-01-27 03:06:03</td>\n",
       "      <td>@flyinsider this @USAirways vagina tweet was f...</td>\n",
       "      <td>6.921651e+17</td>\n",
       "      <td>692181746918494208</td>\n",
       "      <td>3594643215</td>\n",
       "    </tr>\n",
       "    <tr>\n",
       "      <th>63</th>\n",
       "      <td>2016-01-27 01:00:20</td>\n",
       "      <td>It's⏰4WNGD: there's no dam, but what a 🚛 stop...</td>\n",
       "      <td>NaN</td>\n",
       "      <td>692150108910125056</td>\n",
       "      <td>2900965857</td>\n",
       "    </tr>\n",
       "  </tbody>\n",
       "</table>\n",
       "<p>64 rows × 5 columns</p>\n",
       "</div>"
      ],
      "text/plain": [
       "    2016-02-02 18:23:58                  @USAirways Wait until the end....  \\\n",
       "0   2016-02-02 04:06:45  RT @JensenAckles: .@jarpad I'll see ur @USAirw...   \n",
       "1   2016-02-01 20:39:24  @USAirways https://t.co/dSuXI8lKx7 \\nTheir sym...   \n",
       "2   2016-02-01 19:23:21  .@usairways @AmericanAir 2 hours or more just ...   \n",
       "3   2016-02-01 19:22:41  .@usairways @AmericanAir I've been waiting sin...   \n",
       "4   2016-02-01 14:01:38  @americanairlnes hasn't offered free snacks si...   \n",
       "5   2016-02-01 09:00:45  RT @danieltosh: ha! RT @USAirways: @DanielTosh...   \n",
       "6   2016-02-01 09:00:38  RT @danieltosh: guys, this is no way to treat ...   \n",
       "7   2016-02-01 01:20:40  RT @benjyee: Farewell @USAirways, you will be ...   \n",
       "8   2016-01-31 23:17:05  @hawkaire_clt hi David, can I purchase this ph...   \n",
       "9   2016-01-31 20:35:06  Worthless airline company, never booking with ...   \n",
       "10  2016-01-31 17:51:47  @AACustomerServ ground personnel needs improve...   \n",
       "11  2016-01-31 15:15:40  @USAirways @AmericanAir thank you for for sear...   \n",
       "12  2016-01-31 06:58:01  US Airways tweeted a porn picture today. @USAi...   \n",
       "13  2016-01-31 06:58:00  US Airways tweeted a porn picture today. @USAi...   \n",
       "14  2016-01-31 06:58:00  US Airways tweeted a porn picture today. @USAi...   \n",
       "15  2016-01-31 04:09:43  I think I still follow @USAirways just for the...   \n",
       "16  2016-01-30 18:42:39  Thank you @discoveryplace @USAirways for the g...   \n",
       "17  2016-01-30 01:56:52  @USAirways agents at the desk did their best, ...   \n",
       "18  2016-01-30 01:56:22  @USAirways your equipment @ the Oakland airpor...   \n",
       "19  2016-01-30 01:52:08  RT @JasonWhitely: Last time I used this bag, @...   \n",
       "20  2016-01-30 01:51:07  RT @JasonWhitely: Last time I used this bag, @...   \n",
       "21  2016-01-29 20:28:38  New Flight-Report : Charlotte (CLT) - London (...   \n",
       "22  2016-01-29 17:27:48  How I long for the days when @USAirways was in...   \n",
       "23  2016-01-29 16:55:36  RT @JasonWhitely: Last time I used this bag, @...   \n",
       "24  2016-01-29 16:38:08  RT @JasonWhitely: Last time I used this bag, @...   \n",
       "25  2016-01-29 16:37:46  RT @JasonWhitely: Last time I used this bag, @...   \n",
       "26  2016-01-29 16:13:16  Booking flights 4 some travel, but avoiding @U...   \n",
       "27  2016-01-29 15:22:13  RT @JensenAckles: .@jarpad I'll see ur @USAirw...   \n",
       "28  2016-01-29 13:28:21  @_JimGaines @USAirways Imagine our surprise se...   \n",
       "29  2016-01-29 12:52:00  @JasonWhitely @wfaachannel8 @tedcruz @USAirway...   \n",
       "..                  ...                                                ...   \n",
       "34  2016-01-29 12:36:55  RT @JasonWhitely: Last time I used this bag, @...   \n",
       "35  2016-01-29 12:36:33  Last time I used this bag, @tedcruz was announ...   \n",
       "36  2016-01-29 04:56:01  Well, you certainly do not see this everyday.....   \n",
       "37  2016-01-29 02:44:31  US Airways (@USAirways) is ranked #10 among Ai...   \n",
       "38  2016-01-29 02:22:14  @USAirways Tell me why your ticket agent Laure...   \n",
       "39  2016-01-29 01:39:34  MUST Rescue US by HCEC'sUSNewCurrency before t...   \n",
       "40  2016-01-28 21:49:47  @ESMiller59 woahhh i need to get on that, @USA...   \n",
       "41  2016-01-28 20:32:24  RT @PeterStern5: Lol @USAirways for trying to ...   \n",
       "42  2016-01-28 20:10:27  RT @sb_hatch: Somehow @USAirways always has en...   \n",
       "43  2016-01-28 20:09:38  Somehow @USAirways always has engine trouble.....   \n",
       "44  2016-01-28 18:08:01  US Airways tweeted a porn picture today. @USAi...   \n",
       "45  2016-01-28 17:23:39  Know how passengers of this cursed aircraft we...   \n",
       "46  2016-01-28 16:23:50  RT @jayeramusic: Is there a way to just travel...   \n",
       "47  2016-01-28 16:10:57  Is there a way to just travel as a career.. If...   \n",
       "48  2016-01-28 11:33:01  US Airways tweeted a porn picture today. @USAi...   \n",
       "49  2016-01-28 11:33:01  US Airways tweeted a porn picture today. @USAi...   \n",
       "50  2016-01-28 11:33:00  US Airways tweeted a porn picture today. @USAi...   \n",
       "51  2016-01-28 05:19:56  RT @JensenAckles: .@jarpad I'll see ur @USAirw...   \n",
       "52  2016-01-28 02:48:13  I'm really not liking @AmericanAir since this ...   \n",
       "53  2016-01-28 02:32:25  RT @TheVampsJames: It's brad's birthday! Poor ...   \n",
       "54  2016-01-28 02:32:04  RT @TheVampsband: Hey @USAirways we are flying...   \n",
       "55  2016-01-27 21:47:51  RT @ESPN_ReceDavis: @Bradley_Airport @USAirway...   \n",
       "56  2016-01-27 20:11:18  @Bradley_Airport @USAirways employee Rashida T...   \n",
       "57  2016-01-27 19:52:08  @MarshaCollier @AmericanAir Can we buy one? We...   \n",
       "58  2016-01-27 18:21:13  @AmericanAir $75 to switch to an earlier fligh...   \n",
       "59  2016-01-27 17:41:39  Never a good experience on  @americanairlnes  ...   \n",
       "60  2016-01-27 15:41:21  @jyarmis @WSJ @jack @leslieberland &gt;Have a ...   \n",
       "61  2016-01-27 10:55:23  . @usairways The Owler community has updated y...   \n",
       "62  2016-01-27 03:06:03  @flyinsider this @USAirways vagina tweet was f...   \n",
       "63  2016-01-27 01:00:20  It's⏰4WNGD: there's no dam, but what a 🚛 stop...   \n",
       "\n",
       "    694545660318781440  694587076252168192  1214299986  \n",
       "0                  NaN  694371351059173380  2902643981  \n",
       "1                  NaN  694258772810817539   433711408  \n",
       "2                  NaN  694239630925926400    31274165  \n",
       "3                  NaN  694239463887769601    31274165  \n",
       "4                  NaN  694158671132168192    50959677  \n",
       "5                  NaN  694082950040788992  2951534325  \n",
       "6                  NaN  694082922354229248  2951534325  \n",
       "7                  NaN  693967165502939136  3001424200  \n",
       "8         6.768204e+17  693936068073279488   612923707  \n",
       "9                  NaN  693895302491799552   546363181  \n",
       "10                 NaN  693854201361895424   117518230  \n",
       "11                 NaN  693814913244991488   621016430  \n",
       "12                 NaN  693689675463180288   162006847  \n",
       "13                 NaN  693689673462456320  1003727034  \n",
       "14                 NaN  693689672019660801  2166343375  \n",
       "15                 NaN  693647322178285568  2575493718  \n",
       "16                 NaN  693504615803936768  1540863097  \n",
       "17        6.932514e+17  693251501980921858    15374401  \n",
       "18                 NaN  693251373626843136    15374401  \n",
       "19                 NaN  693250308026277888  3349045965  \n",
       "20                 NaN  693250052261806080   167862232  \n",
       "21                 NaN  693168897021861888  1591128620  \n",
       "22                 NaN  693123389192605697   121228585  \n",
       "23                 NaN  693115286552211456   154938143  \n",
       "24                 NaN  693110889944231936   342737639  \n",
       "25                 NaN  693110800429416448    26714962  \n",
       "26                 NaN  693104633221238786    52188442  \n",
       "27                 NaN  693091787909525504  1002588649  \n",
       "28        6.929342e+17  693063128737775617  1153779458  \n",
       "29        6.930501e+17  693053983309451265    47943749  \n",
       "..                 ...                 ...         ...  \n",
       "34                 NaN  693050186210353152    20165474  \n",
       "35                 NaN  693050093277065216    20494730  \n",
       "36                 NaN  692934197258907650    17555015  \n",
       "37                 NaN  692901105525587968  4772839444  \n",
       "38                 NaN  692895498357706752   213261887  \n",
       "39                 NaN  692884758422904832   322436212  \n",
       "40        6.928248e+17  692826933336346624   376904162  \n",
       "41                 NaN  692807459019235328  2339544096  \n",
       "42                 NaN  692801933531332608  3172991259  \n",
       "43                 NaN  692801728664612864  2528569079  \n",
       "44                 NaN  692771121817591810  2166343375  \n",
       "45                 NaN  692759956471181312    57167586  \n",
       "46                 NaN  692744903974084608  3302258200  \n",
       "47                 NaN  692741660992782336  4796462362  \n",
       "48                 NaN  692671718557650944   162006847  \n",
       "49                 NaN  692671716355641344  1003727034  \n",
       "50                 NaN  692671714984075264  2166343375  \n",
       "51                 NaN  692577827611373569  1950610843  \n",
       "52                 NaN  692539648569143297    66552956  \n",
       "53                 NaN  692535671395880960   196149928  \n",
       "54                 NaN  692535582153666561   196149928  \n",
       "55                 NaN  692464058579193860   103792447  \n",
       "56                 NaN  692439760904785920    75296671  \n",
       "57        6.924287e+17  692434938084343808   335491404  \n",
       "58                 NaN  692412055568130049   254442983  \n",
       "59                 NaN  692402101637505028   318889294  \n",
       "60        6.923714e+17  692371824726970368    19747132  \n",
       "61                 NaN  692299860331122689  3298274432  \n",
       "62        6.921651e+17  692181746918494208  3594643215  \n",
       "63                 NaN  692150108910125056  2900965857  \n",
       "\n",
       "[64 rows x 5 columns]"
      ]
     },
     "execution_count": 39,
     "metadata": {},
     "output_type": "execute_result"
    }
   ],
   "source": [
    "usTweets"
   ]
  },
  {
   "cell_type": "code",
   "execution_count": 28,
   "metadata": {
    "collapsed": false
   },
   "outputs": [
    {
     "data": {
      "text/plain": [
       "0                     @JetBlue you guys are so shit\\r\\n..\n",
       "1       @JetBlue they were better when we were in the ...\n",
       "2       There's a reason @JetBlue is the best. Top-not...\n",
       "3       @JetBlue okay, sounds good. I’ll bring it to t...\n",
       "4       RT @JetBlue: @MissPrincessJae  It's all for yo...\n",
       "5       @JetBlue I have not. Should I ask them to do s...\n",
       "6       The premium $$ paid for NY to LA 'Even More Sp...\n",
       "7       @bernier_matt @JetBlue @tarferg yeah Matt go b...\n",
       "8       Actually a whole bunch of channels aren’t comi...\n",
       "9       I'm #soblessed that @JetBlue has live TV and f...\n",
       "10      Finally caught the @JetBlue #FlyFi livery. Too...\n",
       "11      RT @Economic_Fugazi: Orlando live from 35,000 ...\n",
       "12      @JetBlue we been waiting 20 minutes for a gate...\n",
       "13      @JetBlue flight was supposed to depart at 11:3...\n",
       "14      @Lesdoggg @JetBlue I remember a skit on SNL ab...\n",
       "15          @JetBlue any update on flight 488 out of LAX?\n",
       "16      Just booked what will be my first 2 @JetBlue f...\n",
       "17      @JetBlue can't use travel bank credit to pay f...\n",
       "18      @JetBlue the app doesn't remember my passport ...\n",
       "19      @JetBlue why does your app never work for boar...\n",
       "20      @JetBlue let me count the ways- the app repeat...\n",
       "21      RT @jeffphowe: Pumped for the NHL All-Star Gam...\n",
       "22      hey that's cool. well done @JetBlue. https://t...\n",
       "23      taking advantage of 30k ft @SIRIUSXM on @JetBl...\n",
       "24                                    @JetBlue thank you!\n",
       "25      From the view over here, it looks like a crowd...\n",
       "26      @Lesdoggg @JetBlue would you rather the just d...\n",
       "27      It's okay. ❤️ RT @JetBlue: @_nicovega  Oops, w...\n",
       "28      @JetBlue there is a delay ON Flight 428 out of...\n",
       "29      @melchen @JetBlue What is happening here and w...\n",
       "                              ...                        \n",
       "2661    RT @CNN: .@JetBlue is redesigning its airplane...\n",
       "2662    @CNN @JetBlue @CNNMoney whao this is superb.th...\n",
       "2663    RT @CNN: .@JetBlue is redesigning its airplane...\n",
       "2664    RT @CNN: .@JetBlue is redesigning its airplane...\n",
       "2665    RT @CNN: .@JetBlue is redesigning its airplane...\n",
       "2666    RT @CNN: .@JetBlue is redesigning its airplane...\n",
       "2667    RT @CNN: .@JetBlue is redesigning its airplane...\n",
       "2668    RT @CNN: .@JetBlue is redesigning its airplane...\n",
       "2669    RT @CNNMoney: .@JetBlue is completely redesign...\n",
       "2670    @JetBlue didn't click the link but thanks for ...\n",
       "2671    RT @CNN: .@JetBlue is redesigning its airplane...\n",
       "2672    RT @CNN: .@JetBlue is redesigning its airplane...\n",
       "2673    RT @CNN: .@JetBlue is redesigning its airplane...\n",
       "2674    RT @CNN: .@JetBlue is redesigning its airplane...\n",
       "2675    #zerhub .@JetBlue is redesigning its airplanes...\n",
       "2676    RT @MakeAWish: .@JetBlue TrueBlue reward membe...\n",
       "2677                             @JetBlue Okay thanks! :)\n",
       "2678    RT @CNN: .@JetBlue is redesigning its airplane...\n",
       "2679    RT @CNN: .@JetBlue is redesigning its airplane...\n",
       "2680    RT @fly_SAV: 2 Day Sale @JetBlue \"Let's Jet Th...\n",
       "2681    @JetBlue I've opted out of emails three times ...\n",
       "2682    RT @CNN: .@JetBlue is redesigning its airplane...\n",
       "2683                     @JetBlue thanks for the support!\n",
       "2684    RT @CNN: .@JetBlue is redesigning its airplane...\n",
       "2685    RT @CNN: .@JetBlue is redesigning its airplane...\n",
       "2686    @chapmanrunner @minderellal @leafs1523 RT @CNN...\n",
       "2687    @JetBlue @ngantshar Too late wasn't able to do...\n",
       "2688    RT @CNNMoney: .@JetBlue is completely redesign...\n",
       "2689                                 @JetBlue so I pass?!\n",
       "2690    RT @CallCenterWeek: @JetBlue #sitetour in 15 m...\n",
       "Name: Nothing like the @JetBlue #mint experience, especially in the suite! #travel https://t.co/CEUjvKseqo, dtype: object"
      ]
     },
     "execution_count": 28,
     "metadata": {},
     "output_type": "execute_result"
    }
   ],
   "source": [
    "eval(newTweetList[0]).ix[:,1]"
   ]
  },
  {
   "cell_type": "code",
   "execution_count": null,
   "metadata": {
    "collapsed": true
   },
   "outputs": [],
   "source": []
  }
 ],
 "metadata": {
  "kernelspec": {
   "display_name": "Python 2",
   "language": "python",
   "name": "python2"
  },
  "language_info": {
   "codemirror_mode": {
    "name": "ipython",
    "version": 2
   },
   "file_extension": ".py",
   "mimetype": "text/x-python",
   "name": "python",
   "nbconvert_exporter": "python",
   "pygments_lexer": "ipython2",
   "version": "2.7.11"
  }
 },
 "nbformat": 4,
 "nbformat_minor": 0
}
