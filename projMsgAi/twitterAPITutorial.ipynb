{
 "cells": [
  {
   "cell_type": "markdown",
   "metadata": {},
   "source": [
    "### Following tutorial\n",
    "\n",
    "http://marcobonzanini.com/2015/03/02/mining-twitter-data-with-python-part-1/"
   ]
  },
  {
   "cell_type": "code",
   "execution_count": 1,
   "metadata": {
    "collapsed": true
   },
   "outputs": [],
   "source": [
    "import tweepy\n",
    "import simplejson\n",
    "import pandas as pd\n",
    "from tweepy import OAuthHandler"
   ]
  },
  {
   "cell_type": "code",
   "execution_count": 2,
   "metadata": {
    "collapsed": false
   },
   "outputs": [],
   "source": [
    "with open(\"twitter_secrets.json.nogit\") as fh:\n",
    "    secrets = simplejson.loads(fh.read())"
   ]
  },
  {
   "cell_type": "code",
   "execution_count": 3,
   "metadata": {
    "collapsed": false
   },
   "outputs": [],
   "source": [
    "#secrets\n"
   ]
  },
  {
   "cell_type": "code",
   "execution_count": 4,
   "metadata": {
    "collapsed": true
   },
   "outputs": [],
   "source": [
    "auth = OAuthHandler(secrets['api_key'], secrets['api_secret'])\n",
    "auth.set_access_token(secrets['access_token'], secrets['access_token_secret'])\n",
    " \n",
    "api = tweepy.API(auth)"
   ]
  },
  {
   "cell_type": "markdown",
   "metadata": {},
   "source": [
    "## See tweets from my homescreen"
   ]
  },
  {
   "cell_type": "code",
   "execution_count": 5,
   "metadata": {
    "collapsed": false
   },
   "outputs": [
    {
     "name": "stdout",
     "output_type": "stream",
     "text": [
      "Working With #BigData: The Top Qualities You Need to Possess https://t.co/KVAFITSLDM #DataScience \n",
      "&gt;&gt;we agree! https://t.co/EfHjLzqcWe\n",
      "NYC, long time no Meetup! Join us &amp; host AT&amp;T @ConnectToGood Feb 25 for a project showcase w/@icouldbeorg. RSVP: https://t.co/aR8uDxdSuY\n",
      "This week's #BigData Roundup: Free Hadoop, Spark Training; Advanced Analytics Market Grows; +more https://t.co/xEL6MemPIk #DataScience @mapr\n",
      "Donald Trump comes out of Iowa looking like Pat Buchanan: https://t.co/5zRUQu6Yt6 https://t.co/6j4de6pkF8\n",
      "Check out @naturejobs for some great tips on moving from #academia to #industry! https://t.co/A36eUtrV61 #withaphd #phdjobs\n"
     ]
    }
   ],
   "source": [
    "for status in tweepy.Cursor(api.home_timeline).items(5):\n",
    "    # Process a single status\n",
    "    print(status.text) "
   ]
  },
  {
   "cell_type": "markdown",
   "metadata": {},
   "source": [
    "## Meta-data of tweets"
   ]
  },
  {
   "cell_type": "code",
   "execution_count": null,
   "metadata": {
    "collapsed": false
   },
   "outputs": [],
   "source": [
    "for status in tweepy.Cursor(api.home_timeline).items(1):\n",
    "    #print(status._json.keys()) \n",
    "#    print(status._json['user']['id'])\n",
    "    print(status._json['user'].keys())\n",
    "    #print(status._json['text'])"
   ]
  },
  {
   "cell_type": "code",
   "execution_count": 61,
   "metadata": {
    "collapsed": false
   },
   "outputs": [],
   "source": [
    "#api.rate_limit_status()\n"
   ]
  },
  {
   "cell_type": "code",
   "execution_count": 62,
   "metadata": {
    "collapsed": false
   },
   "outputs": [],
   "source": [
    "#for friend in tweepy.Cursor(api.friends).items():\n",
    "#    print(friend._json)"
   ]
  },
  {
   "cell_type": "code",
   "execution_count": 7,
   "metadata": {
    "collapsed": false
   },
   "outputs": [],
   "source": [
    "test = api.search_users(q='@jetblue')"
   ]
  },
  {
   "cell_type": "markdown",
   "metadata": {},
   "source": [
    "###  This is working, just filter out tweets from jetblue"
   ]
  },
  {
   "cell_type": "code",
   "execution_count": 50,
   "metadata": {
    "collapsed": false
   },
   "outputs": [
    {
     "ename": "TweepError",
     "evalue": "Twitter error response: status code = 429",
     "output_type": "error",
     "traceback": [
      "\u001b[0;31m---------------------------------------------------------------------------\u001b[0m",
      "\u001b[0;31mTweepError\u001b[0m                                Traceback (most recent call last)",
      "\u001b[0;32m<ipython-input-50-4598e1305de1>\u001b[0m in \u001b[0;36m<module>\u001b[0;34m()\u001b[0m\n\u001b[1;32m      9\u001b[0m                     \u001b[0msince\u001b[0m\u001b[0;34m=\u001b[0m\u001b[0;34m\"2016-01-27\"\u001b[0m\u001b[0;34m,\u001b[0m\u001b[0;34m\u001b[0m\u001b[0m\n\u001b[1;32m     10\u001b[0m                     \u001b[0muntil\u001b[0m\u001b[0;34m=\u001b[0m\u001b[0;34m\"2016-02-03\"\u001b[0m\u001b[0;34m,\u001b[0m\u001b[0;34m\u001b[0m\u001b[0m\n\u001b[0;32m---> 11\u001b[0;31m                     lang=\"en\").items():\n\u001b[0m\u001b[1;32m     12\u001b[0m     \u001b[0;31m#Write a row to the csv file/ I use encode utf-8\u001b[0m\u001b[0;34m\u001b[0m\u001b[0;34m\u001b[0m\u001b[0m\n\u001b[1;32m     13\u001b[0m     \u001b[0mcsvWriter\u001b[0m\u001b[0;34m.\u001b[0m\u001b[0mwriterow\u001b[0m\u001b[0;34m(\u001b[0m\u001b[0;34m[\u001b[0m\u001b[0mtweet\u001b[0m\u001b[0;34m.\u001b[0m\u001b[0mcreated_at\u001b[0m\u001b[0;34m,\u001b[0m \u001b[0mtweet\u001b[0m\u001b[0;34m.\u001b[0m\u001b[0mtext\u001b[0m\u001b[0;34m.\u001b[0m\u001b[0mencode\u001b[0m\u001b[0;34m(\u001b[0m\u001b[0;34m'utf-8'\u001b[0m\u001b[0;34m)\u001b[0m\u001b[0;34m,\u001b[0m\u001b[0mtweet\u001b[0m\u001b[0;34m.\u001b[0m\u001b[0min_reply_to_status_id\u001b[0m\u001b[0;34m,\u001b[0m\u001b[0mtweet\u001b[0m\u001b[0;34m.\u001b[0m\u001b[0mid\u001b[0m\u001b[0;34m,\u001b[0m\u001b[0mtweet\u001b[0m\u001b[0;34m.\u001b[0m\u001b[0mauthor\u001b[0m\u001b[0;34m.\u001b[0m\u001b[0m_json\u001b[0m\u001b[0;34m[\u001b[0m\u001b[0;34m'id'\u001b[0m\u001b[0;34m]\u001b[0m\u001b[0;34m]\u001b[0m\u001b[0;34m)\u001b[0m\u001b[0;34m\u001b[0m\u001b[0m\n",
      "\u001b[0;32m/Users/Peter/anaconda/lib/python2.7/site-packages/tweepy/cursor.pyc\u001b[0m in \u001b[0;36mnext\u001b[0;34m(self)\u001b[0m\n\u001b[1;32m    195\u001b[0m         \u001b[0;32mif\u001b[0m \u001b[0mself\u001b[0m\u001b[0;34m.\u001b[0m\u001b[0mcurrent_page\u001b[0m \u001b[0;32mis\u001b[0m \u001b[0mNone\u001b[0m \u001b[0;32mor\u001b[0m \u001b[0mself\u001b[0m\u001b[0;34m.\u001b[0m\u001b[0mpage_index\u001b[0m \u001b[0;34m==\u001b[0m \u001b[0mlen\u001b[0m\u001b[0;34m(\u001b[0m\u001b[0mself\u001b[0m\u001b[0;34m.\u001b[0m\u001b[0mcurrent_page\u001b[0m\u001b[0;34m)\u001b[0m \u001b[0;34m-\u001b[0m \u001b[0;36m1\u001b[0m\u001b[0;34m:\u001b[0m\u001b[0;34m\u001b[0m\u001b[0m\n\u001b[1;32m    196\u001b[0m             \u001b[0;31m# Reached end of current page, get the next page...\u001b[0m\u001b[0;34m\u001b[0m\u001b[0;34m\u001b[0m\u001b[0m\n\u001b[0;32m--> 197\u001b[0;31m             \u001b[0mself\u001b[0m\u001b[0;34m.\u001b[0m\u001b[0mcurrent_page\u001b[0m \u001b[0;34m=\u001b[0m \u001b[0mself\u001b[0m\u001b[0;34m.\u001b[0m\u001b[0mpage_iterator\u001b[0m\u001b[0;34m.\u001b[0m\u001b[0mnext\u001b[0m\u001b[0;34m(\u001b[0m\u001b[0;34m)\u001b[0m\u001b[0;34m\u001b[0m\u001b[0m\n\u001b[0m\u001b[1;32m    198\u001b[0m             \u001b[0mself\u001b[0m\u001b[0;34m.\u001b[0m\u001b[0mpage_index\u001b[0m \u001b[0;34m=\u001b[0m \u001b[0;34m-\u001b[0m\u001b[0;36m1\u001b[0m\u001b[0;34m\u001b[0m\u001b[0m\n\u001b[1;32m    199\u001b[0m         \u001b[0mself\u001b[0m\u001b[0;34m.\u001b[0m\u001b[0mpage_index\u001b[0m \u001b[0;34m+=\u001b[0m \u001b[0;36m1\u001b[0m\u001b[0;34m\u001b[0m\u001b[0m\n",
      "\u001b[0;32m/Users/Peter/anaconda/lib/python2.7/site-packages/tweepy/cursor.pyc\u001b[0m in \u001b[0;36mnext\u001b[0;34m(self)\u001b[0m\n\u001b[1;32m    106\u001b[0m \u001b[0;34m\u001b[0m\u001b[0m\n\u001b[1;32m    107\u001b[0m         \u001b[0;32mif\u001b[0m \u001b[0mself\u001b[0m\u001b[0;34m.\u001b[0m\u001b[0mindex\u001b[0m \u001b[0;34m>=\u001b[0m \u001b[0mlen\u001b[0m\u001b[0;34m(\u001b[0m\u001b[0mself\u001b[0m\u001b[0;34m.\u001b[0m\u001b[0mresults\u001b[0m\u001b[0;34m)\u001b[0m \u001b[0;34m-\u001b[0m \u001b[0;36m1\u001b[0m\u001b[0;34m:\u001b[0m\u001b[0;34m\u001b[0m\u001b[0m\n\u001b[0;32m--> 108\u001b[0;31m             \u001b[0mdata\u001b[0m \u001b[0;34m=\u001b[0m \u001b[0mself\u001b[0m\u001b[0;34m.\u001b[0m\u001b[0mmethod\u001b[0m\u001b[0;34m(\u001b[0m\u001b[0mmax_id\u001b[0m\u001b[0;34m=\u001b[0m\u001b[0mself\u001b[0m\u001b[0;34m.\u001b[0m\u001b[0mmax_id\u001b[0m\u001b[0;34m,\u001b[0m \u001b[0mparser\u001b[0m\u001b[0;34m=\u001b[0m\u001b[0mRawParser\u001b[0m\u001b[0;34m(\u001b[0m\u001b[0;34m)\u001b[0m\u001b[0;34m,\u001b[0m \u001b[0;34m*\u001b[0m\u001b[0mself\u001b[0m\u001b[0;34m.\u001b[0m\u001b[0margs\u001b[0m\u001b[0;34m,\u001b[0m \u001b[0;34m**\u001b[0m\u001b[0mself\u001b[0m\u001b[0;34m.\u001b[0m\u001b[0mkargs\u001b[0m\u001b[0;34m)\u001b[0m\u001b[0;34m\u001b[0m\u001b[0m\n\u001b[0m\u001b[1;32m    109\u001b[0m \u001b[0;34m\u001b[0m\u001b[0m\n\u001b[1;32m    110\u001b[0m             \u001b[0;32mif\u001b[0m \u001b[0mhasattr\u001b[0m\u001b[0;34m(\u001b[0m\u001b[0mself\u001b[0m\u001b[0;34m.\u001b[0m\u001b[0mmethod\u001b[0m\u001b[0;34m,\u001b[0m \u001b[0;34m'__self__'\u001b[0m\u001b[0;34m)\u001b[0m\u001b[0;34m:\u001b[0m\u001b[0;34m\u001b[0m\u001b[0m\n",
      "\u001b[0;32m/Users/Peter/anaconda/lib/python2.7/site-packages/tweepy/binder.pyc\u001b[0m in \u001b[0;36m_call\u001b[0;34m(*args, **kwargs)\u001b[0m\n\u001b[1;32m    243\u001b[0m             \u001b[0;32mreturn\u001b[0m \u001b[0mmethod\u001b[0m\u001b[0;34m\u001b[0m\u001b[0m\n\u001b[1;32m    244\u001b[0m         \u001b[0;32melse\u001b[0m\u001b[0;34m:\u001b[0m\u001b[0;34m\u001b[0m\u001b[0m\n\u001b[0;32m--> 245\u001b[0;31m             \u001b[0;32mreturn\u001b[0m \u001b[0mmethod\u001b[0m\u001b[0;34m.\u001b[0m\u001b[0mexecute\u001b[0m\u001b[0;34m(\u001b[0m\u001b[0;34m)\u001b[0m\u001b[0;34m\u001b[0m\u001b[0m\n\u001b[0m\u001b[1;32m    246\u001b[0m \u001b[0;34m\u001b[0m\u001b[0m\n\u001b[1;32m    247\u001b[0m     \u001b[0;31m# Set pagination mode\u001b[0m\u001b[0;34m\u001b[0m\u001b[0;34m\u001b[0m\u001b[0m\n",
      "\u001b[0;32m/Users/Peter/anaconda/lib/python2.7/site-packages/tweepy/binder.pyc\u001b[0m in \u001b[0;36mexecute\u001b[0;34m(self)\u001b[0m\n\u001b[1;32m    227\u001b[0m                     \u001b[0;32mraise\u001b[0m \u001b[0mRateLimitError\u001b[0m\u001b[0;34m(\u001b[0m\u001b[0merror_msg\u001b[0m\u001b[0;34m,\u001b[0m \u001b[0mresp\u001b[0m\u001b[0;34m)\u001b[0m\u001b[0;34m\u001b[0m\u001b[0m\n\u001b[1;32m    228\u001b[0m                 \u001b[0;32melse\u001b[0m\u001b[0;34m:\u001b[0m\u001b[0;34m\u001b[0m\u001b[0m\n\u001b[0;32m--> 229\u001b[0;31m                     \u001b[0;32mraise\u001b[0m \u001b[0mTweepError\u001b[0m\u001b[0;34m(\u001b[0m\u001b[0merror_msg\u001b[0m\u001b[0;34m,\u001b[0m \u001b[0mresp\u001b[0m\u001b[0;34m,\u001b[0m \u001b[0mapi_code\u001b[0m\u001b[0;34m=\u001b[0m\u001b[0mapi_error_code\u001b[0m\u001b[0;34m)\u001b[0m\u001b[0;34m\u001b[0m\u001b[0m\n\u001b[0m\u001b[1;32m    230\u001b[0m \u001b[0;34m\u001b[0m\u001b[0m\n\u001b[1;32m    231\u001b[0m             \u001b[0;31m# Parse the response payload\u001b[0m\u001b[0;34m\u001b[0m\u001b[0;34m\u001b[0m\u001b[0m\n",
      "\u001b[0;31mTweepError\u001b[0m: Twitter error response: status code = 429"
     ]
    }
   ],
   "source": [
    "# from http://stackoverflow.com/questions/21865413/get-data-from-twitter-using-tweepy-and-store-in-csv-file\n",
    "import csv\n",
    "csvFile = open('resultAm.csv', 'a')\n",
    "#Use csv Writer\n",
    "csvWriter = csv.writer(csvFile)\n",
    "\n",
    "for tweet in tweepy.Cursor(api.search, \n",
    "                    q=\"@AmericanAir\", \n",
    "                    since=\"2016-01-27\", \n",
    "                    until=\"2016-02-03\", \n",
    "                    lang=\"en\").items():\n",
    "    #Write a row to the csv file/ I use encode utf-8\n",
    "    csvWriter.writerow([tweet.created_at, tweet.text.encode('utf-8'),tweet.in_reply_to_status_id,tweet.id,tweet.author._json['id']])\n",
    "    #print tweet.created_at, tweet.text, tweet.user\n",
    "csvFile.close()"
   ]
  },
  {
   "cell_type": "code",
   "execution_count": 85,
   "metadata": {
    "collapsed": false
   },
   "outputs": [
    {
     "data": {
      "text/plain": [
       "Status(contributors=None, truncated=False, text=u'RT @CNN: .@JetBlue is redesigning its airplanes to be more spacious, modern &amp; entertaining https://t.co/Jk8PsbaANO @CNNMoney https://t.co/b\\u2026', is_quote_status=False, in_reply_to_status_id=None, id=692187915095576576, favorite_count=0, _api=<tweepy.api.API object at 0x104f4db10>, author=User(follow_request_sent=False, has_extended_profile=False, profile_use_background_image=True, _json={u'follow_request_sent': False, u'has_extended_profile': False, u'profile_use_background_image': True, u'default_profile_image': False, u'id': 219944298, u'profile_background_image_url_https': u'https://pbs.twimg.com/profile_background_images/735064451/0cd3796ad93b3d808d28a0ed0b92f0f7.jpeg', u'verified': False, u'profile_text_color': u'333333', u'profile_image_url_https': u'https://pbs.twimg.com/profile_images/693866556351119360/nSRAyVBo_normal.jpg', u'profile_sidebar_fill_color': u'F3F3F3', u'entities': {u'url': {u'urls': [{u'url': u'https://t.co/FuDZiRCcls', u'indices': [0, 23], u'expanded_url': u'https://ssavatovic.wordpress.com/', u'display_url': u'ssavatovic.wordpress.com'}]}, u'description': {u'urls': []}}, u'followers_count': 484, u'profile_sidebar_border_color': u'FFFFFF', u'id_str': u'219944298', u'profile_background_color': u'731C73', u'listed_count': 7, u'is_translation_enabled': False, u'utc_offset': 7200, u'statuses_count': 8828, u'description': u'Serbian hammerthrow Record Holder. Kansas State University. Road to RIO 2016.', u'friends_count': 448, u'location': u'', u'profile_link_color': u'D126CB', u'profile_image_url': u'http://pbs.twimg.com/profile_images/693866556351119360/nSRAyVBo_normal.jpg', u'following': False, u'geo_enabled': True, u'profile_banner_url': u'https://pbs.twimg.com/profile_banners/219944298/1445131209', u'profile_background_image_url': u'http://pbs.twimg.com/profile_background_images/735064451/0cd3796ad93b3d808d28a0ed0b92f0f7.jpeg', u'screen_name': u'sarathrower', u'lang': u'en', u'profile_background_tile': True, u'favourites_count': 6802, u'name': u'Sara Savatovic', u'notifications': False, u'url': u'https://t.co/FuDZiRCcls', u'created_at': u'Fri Nov 26 10:03:17 +0000 2010', u'contributors_enabled': False, u'time_zone': u'Athens', u'protected': False, u'default_profile': False, u'is_translator': False}, time_zone=u'Athens', id=219944298, _api=<tweepy.api.API object at 0x104f4db10>, verified=False, profile_text_color=u'333333', profile_image_url_https=u'https://pbs.twimg.com/profile_images/693866556351119360/nSRAyVBo_normal.jpg', profile_sidebar_fill_color=u'F3F3F3', is_translator=False, geo_enabled=True, entities={u'url': {u'urls': [{u'url': u'https://t.co/FuDZiRCcls', u'indices': [0, 23], u'expanded_url': u'https://ssavatovic.wordpress.com/', u'display_url': u'ssavatovic.wordpress.com'}]}, u'description': {u'urls': []}}, followers_count=484, protected=False, id_str=u'219944298', default_profile_image=False, listed_count=7, lang=u'en', utc_offset=7200, statuses_count=8828, description=u'Serbian hammerthrow Record Holder. Kansas State University. Road to RIO 2016.', friends_count=448, profile_link_color=u'D126CB', profile_image_url=u'http://pbs.twimg.com/profile_images/693866556351119360/nSRAyVBo_normal.jpg', notifications=False, profile_background_image_url_https=u'https://pbs.twimg.com/profile_background_images/735064451/0cd3796ad93b3d808d28a0ed0b92f0f7.jpeg', profile_background_color=u'731C73', profile_banner_url=u'https://pbs.twimg.com/profile_banners/219944298/1445131209', profile_background_image_url=u'http://pbs.twimg.com/profile_background_images/735064451/0cd3796ad93b3d808d28a0ed0b92f0f7.jpeg', name=u'Sara Savatovic', is_translation_enabled=False, profile_background_tile=True, favourites_count=6802, screen_name=u'sarathrower', url=u'https://t.co/FuDZiRCcls', created_at=datetime.datetime(2010, 11, 26, 10, 3, 17), contributors_enabled=False, location=u'', profile_sidebar_border_color=u'FFFFFF', default_profile=False, following=False), _json={u'contributors': None, u'truncated': False, u'text': u'RT @CNN: .@JetBlue is redesigning its airplanes to be more spacious, modern &amp; entertaining https://t.co/Jk8PsbaANO @CNNMoney https://t.co/b\\u2026', u'is_quote_status': False, u'in_reply_to_status_id': None, u'id': 692187915095576576, u'favorite_count': 0, u'source': u'<a href=\"http://twitter.com/download/iphone\" rel=\"nofollow\">Twitter for iPhone</a>', u'retweeted': False, u'coordinates': None, u'entities': {u'symbols': [], u'user_mentions': [{u'id': 759251, u'indices': [3, 7], u'id_str': u'759251', u'screen_name': u'CNN', u'name': u'CNN'}, {u'id': 6449282, u'indices': [10, 18], u'id_str': u'6449282', u'screen_name': u'JetBlue', u'name': u'JetBlue Airways'}, {u'id': 16184358, u'indices': [119, 128], u'id_str': u'16184358', u'screen_name': u'CNNMoney', u'name': u'CNNMoney'}], u'hashtags': [], u'urls': [{u'url': u'https://t.co/Jk8PsbaANO', u'indices': [95, 118], u'expanded_url': u'http://cnn.it/1OO7L5k', u'display_url': u'cnn.it/1OO7L5k'}], u'media': [{u'source_user_id': 759251, u'source_status_id_str': u'692179975122849795', u'expanded_url': u'http://twitter.com/CNN/status/692179975122849795/photo/1', u'display_url': u'pic.twitter.com/bMTvwqFds7', u'url': u'https://t.co/bMTvwqFds7', u'media_url_https': u'https://pbs.twimg.com/media/CZseBRrWAAAW8Wq.jpg', u'source_user_id_str': u'759251', u'source_status_id': 692179975122849795, u'id_str': u'692179975005405184', u'sizes': {u'small': {u'h': 191, u'resize': u'fit', u'w': 340}, u'large': {u'h': 337, u'resize': u'fit', u'w': 599}, u'medium': {u'h': 337, u'resize': u'fit', u'w': 599}, u'thumb': {u'h': 150, u'resize': u'crop', u'w': 150}}, u'indices': [129, 144], u'type': u'photo', u'id': 692179975005405184, u'media_url': u'http://pbs.twimg.com/media/CZseBRrWAAAW8Wq.jpg'}]}, u'in_reply_to_screen_name': None, u'in_reply_to_user_id': None, u'retweet_count': 229, u'id_str': u'692187915095576576', u'favorited': False, u'retweeted_status': {u'contributors': None, u'truncated': False, u'text': u'.@JetBlue is redesigning its airplanes to be more spacious, modern &amp; entertaining https://t.co/Jk8PsbaANO @CNNMoney https://t.co/bMTvwqFds7', u'is_quote_status': False, u'in_reply_to_status_id': None, u'id': 692179975122849795, u'favorite_count': 558, u'source': u'<a href=\"http://www.sprinklr.com\" rel=\"nofollow\">Sprinklr</a>', u'retweeted': False, u'coordinates': None, u'entities': {u'symbols': [], u'user_mentions': [{u'id': 6449282, u'indices': [1, 9], u'id_str': u'6449282', u'screen_name': u'JetBlue', u'name': u'JetBlue Airways'}, {u'id': 16184358, u'indices': [110, 119], u'id_str': u'16184358', u'screen_name': u'CNNMoney', u'name': u'CNNMoney'}], u'hashtags': [], u'urls': [{u'url': u'https://t.co/Jk8PsbaANO', u'indices': [86, 109], u'expanded_url': u'http://cnn.it/1OO7L5k', u'display_url': u'cnn.it/1OO7L5k'}], u'media': [{u'expanded_url': u'http://twitter.com/CNN/status/692179975122849795/photo/1', u'display_url': u'pic.twitter.com/bMTvwqFds7', u'url': u'https://t.co/bMTvwqFds7', u'media_url_https': u'https://pbs.twimg.com/media/CZseBRrWAAAW8Wq.jpg', u'id_str': u'692179975005405184', u'sizes': {u'small': {u'h': 191, u'resize': u'fit', u'w': 340}, u'large': {u'h': 337, u'resize': u'fit', u'w': 599}, u'medium': {u'h': 337, u'resize': u'fit', u'w': 599}, u'thumb': {u'h': 150, u'resize': u'crop', u'w': 150}}, u'indices': [120, 143], u'type': u'photo', u'id': 692179975005405184, u'media_url': u'http://pbs.twimg.com/media/CZseBRrWAAAW8Wq.jpg'}]}, u'in_reply_to_screen_name': None, u'in_reply_to_user_id': None, u'retweet_count': 229, u'id_str': u'692179975122849795', u'favorited': False, u'user': {u'follow_request_sent': False, u'has_extended_profile': False, u'profile_use_background_image': False, u'default_profile_image': False, u'id': 759251, u'profile_background_image_url_https': u'https://pbs.twimg.com/profile_background_images/515228058286952449/zVfUxqPl.jpeg', u'verified': True, u'profile_text_color': u'000000', u'profile_image_url_https': u'https://pbs.twimg.com/profile_images/508960761826131968/LnvhR8ED_normal.png', u'profile_sidebar_fill_color': u'EEEEEE', u'entities': {u'url': {u'urls': [{u'url': u'http://t.co/IaghNW8Xm2', u'indices': [0, 22], u'expanded_url': u'http://www.cnn.com', u'display_url': u'cnn.com'}]}, u'description': {u'urls': []}}, u'followers_count': 22885250, u'profile_sidebar_border_color': u'000000', u'id_str': u'759251', u'profile_background_color': u'323232', u'listed_count': 112512, u'is_translation_enabled': True, u'utc_offset': -18000, u'statuses_count': 76730, u'description': u'It\\u2019s our job to #GoThere and tell the most difficult stories. Come with us!', u'friends_count': 1112, u'location': u'', u'profile_link_color': u'004287', u'profile_image_url': u'http://pbs.twimg.com/profile_images/508960761826131968/LnvhR8ED_normal.png', u'following': False, u'geo_enabled': True, u'profile_banner_url': u'https://pbs.twimg.com/profile_banners/759251/1453849197', u'profile_background_image_url': u'http://pbs.twimg.com/profile_background_images/515228058286952449/zVfUxqPl.jpeg', u'screen_name': u'CNN', u'lang': u'en', u'profile_background_tile': False, u'favourites_count': 1344, u'name': u'CNN', u'notifications': False, u'url': u'http://t.co/IaghNW8Xm2', u'created_at': u'Fri Feb 09 00:35:02 +0000 2007', u'contributors_enabled': False, u'time_zone': u'Eastern Time (US & Canada)', u'protected': False, u'default_profile': False, u'is_translator': False}, u'geo': None, u'in_reply_to_user_id_str': None, u'possibly_sensitive': False, u'lang': u'en', u'created_at': u'Wed Jan 27 02:59:00 +0000 2016', u'in_reply_to_status_id_str': None, u'place': None, u'metadata': {u'iso_language_code': u'en', u'result_type': u'recent'}}, u'user': {u'follow_request_sent': False, u'has_extended_profile': False, u'profile_use_background_image': True, u'default_profile_image': False, u'id': 219944298, u'profile_background_image_url_https': u'https://pbs.twimg.com/profile_background_images/735064451/0cd3796ad93b3d808d28a0ed0b92f0f7.jpeg', u'verified': False, u'profile_text_color': u'333333', u'profile_image_url_https': u'https://pbs.twimg.com/profile_images/693866556351119360/nSRAyVBo_normal.jpg', u'profile_sidebar_fill_color': u'F3F3F3', u'entities': {u'url': {u'urls': [{u'url': u'https://t.co/FuDZiRCcls', u'indices': [0, 23], u'expanded_url': u'https://ssavatovic.wordpress.com/', u'display_url': u'ssavatovic.wordpress.com'}]}, u'description': {u'urls': []}}, u'followers_count': 484, u'profile_sidebar_border_color': u'FFFFFF', u'id_str': u'219944298', u'profile_background_color': u'731C73', u'listed_count': 7, u'is_translation_enabled': False, u'utc_offset': 7200, u'statuses_count': 8828, u'description': u'Serbian hammerthrow Record Holder. Kansas State University. Road to RIO 2016.', u'friends_count': 448, u'location': u'', u'profile_link_color': u'D126CB', u'profile_image_url': u'http://pbs.twimg.com/profile_images/693866556351119360/nSRAyVBo_normal.jpg', u'following': False, u'geo_enabled': True, u'profile_banner_url': u'https://pbs.twimg.com/profile_banners/219944298/1445131209', u'profile_background_image_url': u'http://pbs.twimg.com/profile_background_images/735064451/0cd3796ad93b3d808d28a0ed0b92f0f7.jpeg', u'screen_name': u'sarathrower', u'lang': u'en', u'profile_background_tile': True, u'favourites_count': 6802, u'name': u'Sara Savatovic', u'notifications': False, u'url': u'https://t.co/FuDZiRCcls', u'created_at': u'Fri Nov 26 10:03:17 +0000 2010', u'contributors_enabled': False, u'time_zone': u'Athens', u'protected': False, u'default_profile': False, u'is_translator': False}, u'geo': None, u'in_reply_to_user_id_str': None, u'possibly_sensitive': False, u'lang': u'en', u'created_at': u'Wed Jan 27 03:30:33 +0000 2016', u'in_reply_to_status_id_str': None, u'place': None, u'metadata': {u'iso_language_code': u'en', u'result_type': u'recent'}}, coordinates=None, entities={u'symbols': [], u'user_mentions': [{u'id': 759251, u'indices': [3, 7], u'id_str': u'759251', u'screen_name': u'CNN', u'name': u'CNN'}, {u'id': 6449282, u'indices': [10, 18], u'id_str': u'6449282', u'screen_name': u'JetBlue', u'name': u'JetBlue Airways'}, {u'id': 16184358, u'indices': [119, 128], u'id_str': u'16184358', u'screen_name': u'CNNMoney', u'name': u'CNNMoney'}], u'hashtags': [], u'urls': [{u'url': u'https://t.co/Jk8PsbaANO', u'indices': [95, 118], u'expanded_url': u'http://cnn.it/1OO7L5k', u'display_url': u'cnn.it/1OO7L5k'}], u'media': [{u'source_user_id': 759251, u'source_status_id_str': u'692179975122849795', u'expanded_url': u'http://twitter.com/CNN/status/692179975122849795/photo/1', u'display_url': u'pic.twitter.com/bMTvwqFds7', u'url': u'https://t.co/bMTvwqFds7', u'media_url_https': u'https://pbs.twimg.com/media/CZseBRrWAAAW8Wq.jpg', u'source_user_id_str': u'759251', u'source_status_id': 692179975122849795, u'id_str': u'692179975005405184', u'sizes': {u'small': {u'h': 191, u'resize': u'fit', u'w': 340}, u'large': {u'h': 337, u'resize': u'fit', u'w': 599}, u'medium': {u'h': 337, u'resize': u'fit', u'w': 599}, u'thumb': {u'h': 150, u'resize': u'crop', u'w': 150}}, u'indices': [129, 144], u'type': u'photo', u'id': 692179975005405184, u'media_url': u'http://pbs.twimg.com/media/CZseBRrWAAAW8Wq.jpg'}]}, in_reply_to_screen_name=None, id_str=u'692187915095576576', retweet_count=229, in_reply_to_user_id=None, favorited=False, retweeted_status=Status(contributors=None, truncated=False, text=u'.@JetBlue is redesigning its airplanes to be more spacious, modern &amp; entertaining https://t.co/Jk8PsbaANO @CNNMoney https://t.co/bMTvwqFds7', is_quote_status=False, in_reply_to_status_id=None, id=692179975122849795, favorite_count=558, _api=<tweepy.api.API object at 0x104f4db10>, author=User(follow_request_sent=False, has_extended_profile=False, profile_use_background_image=False, _json={u'follow_request_sent': False, u'has_extended_profile': False, u'profile_use_background_image': False, u'default_profile_image': False, u'id': 759251, u'profile_background_image_url_https': u'https://pbs.twimg.com/profile_background_images/515228058286952449/zVfUxqPl.jpeg', u'verified': True, u'profile_text_color': u'000000', u'profile_image_url_https': u'https://pbs.twimg.com/profile_images/508960761826131968/LnvhR8ED_normal.png', u'profile_sidebar_fill_color': u'EEEEEE', u'entities': {u'url': {u'urls': [{u'url': u'http://t.co/IaghNW8Xm2', u'indices': [0, 22], u'expanded_url': u'http://www.cnn.com', u'display_url': u'cnn.com'}]}, u'description': {u'urls': []}}, u'followers_count': 22885250, u'profile_sidebar_border_color': u'000000', u'id_str': u'759251', u'profile_background_color': u'323232', u'listed_count': 112512, u'is_translation_enabled': True, u'utc_offset': -18000, u'statuses_count': 76730, u'description': u'It\\u2019s our job to #GoThere and tell the most difficult stories. Come with us!', u'friends_count': 1112, u'location': u'', u'profile_link_color': u'004287', u'profile_image_url': u'http://pbs.twimg.com/profile_images/508960761826131968/LnvhR8ED_normal.png', u'following': False, u'geo_enabled': True, u'profile_banner_url': u'https://pbs.twimg.com/profile_banners/759251/1453849197', u'profile_background_image_url': u'http://pbs.twimg.com/profile_background_images/515228058286952449/zVfUxqPl.jpeg', u'screen_name': u'CNN', u'lang': u'en', u'profile_background_tile': False, u'favourites_count': 1344, u'name': u'CNN', u'notifications': False, u'url': u'http://t.co/IaghNW8Xm2', u'created_at': u'Fri Feb 09 00:35:02 +0000 2007', u'contributors_enabled': False, u'time_zone': u'Eastern Time (US & Canada)', u'protected': False, u'default_profile': False, u'is_translator': False}, time_zone=u'Eastern Time (US & Canada)', id=759251, _api=<tweepy.api.API object at 0x104f4db10>, verified=True, profile_text_color=u'000000', profile_image_url_https=u'https://pbs.twimg.com/profile_images/508960761826131968/LnvhR8ED_normal.png', profile_sidebar_fill_color=u'EEEEEE', is_translator=False, geo_enabled=True, entities={u'url': {u'urls': [{u'url': u'http://t.co/IaghNW8Xm2', u'indices': [0, 22], u'expanded_url': u'http://www.cnn.com', u'display_url': u'cnn.com'}]}, u'description': {u'urls': []}}, followers_count=22885250, protected=False, id_str=u'759251', default_profile_image=False, listed_count=112512, lang=u'en', utc_offset=-18000, statuses_count=76730, description=u'It\\u2019s our job to #GoThere and tell the most difficult stories. Come with us!', friends_count=1112, profile_link_color=u'004287', profile_image_url=u'http://pbs.twimg.com/profile_images/508960761826131968/LnvhR8ED_normal.png', notifications=False, profile_background_image_url_https=u'https://pbs.twimg.com/profile_background_images/515228058286952449/zVfUxqPl.jpeg', profile_background_color=u'323232', profile_banner_url=u'https://pbs.twimg.com/profile_banners/759251/1453849197', profile_background_image_url=u'http://pbs.twimg.com/profile_background_images/515228058286952449/zVfUxqPl.jpeg', name=u'CNN', is_translation_enabled=True, profile_background_tile=False, favourites_count=1344, screen_name=u'CNN', url=u'http://t.co/IaghNW8Xm2', created_at=datetime.datetime(2007, 2, 9, 0, 35, 2), contributors_enabled=False, location=u'', profile_sidebar_border_color=u'000000', default_profile=False, following=False), _json={u'contributors': None, u'truncated': False, u'text': u'.@JetBlue is redesigning its airplanes to be more spacious, modern &amp; entertaining https://t.co/Jk8PsbaANO @CNNMoney https://t.co/bMTvwqFds7', u'is_quote_status': False, u'in_reply_to_status_id': None, u'id': 692179975122849795, u'favorite_count': 558, u'source': u'<a href=\"http://www.sprinklr.com\" rel=\"nofollow\">Sprinklr</a>', u'retweeted': False, u'coordinates': None, u'entities': {u'symbols': [], u'user_mentions': [{u'id': 6449282, u'indices': [1, 9], u'id_str': u'6449282', u'screen_name': u'JetBlue', u'name': u'JetBlue Airways'}, {u'id': 16184358, u'indices': [110, 119], u'id_str': u'16184358', u'screen_name': u'CNNMoney', u'name': u'CNNMoney'}], u'hashtags': [], u'urls': [{u'url': u'https://t.co/Jk8PsbaANO', u'indices': [86, 109], u'expanded_url': u'http://cnn.it/1OO7L5k', u'display_url': u'cnn.it/1OO7L5k'}], u'media': [{u'expanded_url': u'http://twitter.com/CNN/status/692179975122849795/photo/1', u'display_url': u'pic.twitter.com/bMTvwqFds7', u'url': u'https://t.co/bMTvwqFds7', u'media_url_https': u'https://pbs.twimg.com/media/CZseBRrWAAAW8Wq.jpg', u'id_str': u'692179975005405184', u'sizes': {u'small': {u'h': 191, u'resize': u'fit', u'w': 340}, u'large': {u'h': 337, u'resize': u'fit', u'w': 599}, u'medium': {u'h': 337, u'resize': u'fit', u'w': 599}, u'thumb': {u'h': 150, u'resize': u'crop', u'w': 150}}, u'indices': [120, 143], u'type': u'photo', u'id': 692179975005405184, u'media_url': u'http://pbs.twimg.com/media/CZseBRrWAAAW8Wq.jpg'}]}, u'in_reply_to_screen_name': None, u'in_reply_to_user_id': None, u'retweet_count': 229, u'id_str': u'692179975122849795', u'favorited': False, u'user': {u'follow_request_sent': False, u'has_extended_profile': False, u'profile_use_background_image': False, u'default_profile_image': False, u'id': 759251, u'profile_background_image_url_https': u'https://pbs.twimg.com/profile_background_images/515228058286952449/zVfUxqPl.jpeg', u'verified': True, u'profile_text_color': u'000000', u'profile_image_url_https': u'https://pbs.twimg.com/profile_images/508960761826131968/LnvhR8ED_normal.png', u'profile_sidebar_fill_color': u'EEEEEE', u'entities': {u'url': {u'urls': [{u'url': u'http://t.co/IaghNW8Xm2', u'indices': [0, 22], u'expanded_url': u'http://www.cnn.com', u'display_url': u'cnn.com'}]}, u'description': {u'urls': []}}, u'followers_count': 22885250, u'profile_sidebar_border_color': u'000000', u'id_str': u'759251', u'profile_background_color': u'323232', u'listed_count': 112512, u'is_translation_enabled': True, u'utc_offset': -18000, u'statuses_count': 76730, u'description': u'It\\u2019s our job to #GoThere and tell the most difficult stories. Come with us!', u'friends_count': 1112, u'location': u'', u'profile_link_color': u'004287', u'profile_image_url': u'http://pbs.twimg.com/profile_images/508960761826131968/LnvhR8ED_normal.png', u'following': False, u'geo_enabled': True, u'profile_banner_url': u'https://pbs.twimg.com/profile_banners/759251/1453849197', u'profile_background_image_url': u'http://pbs.twimg.com/profile_background_images/515228058286952449/zVfUxqPl.jpeg', u'screen_name': u'CNN', u'lang': u'en', u'profile_background_tile': False, u'favourites_count': 1344, u'name': u'CNN', u'notifications': False, u'url': u'http://t.co/IaghNW8Xm2', u'created_at': u'Fri Feb 09 00:35:02 +0000 2007', u'contributors_enabled': False, u'time_zone': u'Eastern Time (US & Canada)', u'protected': False, u'default_profile': False, u'is_translator': False}, u'geo': None, u'in_reply_to_user_id_str': None, u'possibly_sensitive': False, u'lang': u'en', u'created_at': u'Wed Jan 27 02:59:00 +0000 2016', u'in_reply_to_status_id_str': None, u'place': None, u'metadata': {u'iso_language_code': u'en', u'result_type': u'recent'}}, coordinates=None, entities={u'symbols': [], u'user_mentions': [{u'id': 6449282, u'indices': [1, 9], u'id_str': u'6449282', u'screen_name': u'JetBlue', u'name': u'JetBlue Airways'}, {u'id': 16184358, u'indices': [110, 119], u'id_str': u'16184358', u'screen_name': u'CNNMoney', u'name': u'CNNMoney'}], u'hashtags': [], u'urls': [{u'url': u'https://t.co/Jk8PsbaANO', u'indices': [86, 109], u'expanded_url': u'http://cnn.it/1OO7L5k', u'display_url': u'cnn.it/1OO7L5k'}], u'media': [{u'expanded_url': u'http://twitter.com/CNN/status/692179975122849795/photo/1', u'display_url': u'pic.twitter.com/bMTvwqFds7', u'url': u'https://t.co/bMTvwqFds7', u'media_url_https': u'https://pbs.twimg.com/media/CZseBRrWAAAW8Wq.jpg', u'id_str': u'692179975005405184', u'sizes': {u'small': {u'h': 191, u'resize': u'fit', u'w': 340}, u'large': {u'h': 337, u'resize': u'fit', u'w': 599}, u'medium': {u'h': 337, u'resize': u'fit', u'w': 599}, u'thumb': {u'h': 150, u'resize': u'crop', u'w': 150}}, u'indices': [120, 143], u'type': u'photo', u'id': 692179975005405184, u'media_url': u'http://pbs.twimg.com/media/CZseBRrWAAAW8Wq.jpg'}]}, in_reply_to_screen_name=None, id_str=u'692179975122849795', retweet_count=229, in_reply_to_user_id=None, favorited=False, source_url=u'http://www.sprinklr.com', user=User(follow_request_sent=False, has_extended_profile=False, profile_use_background_image=False, _json={u'follow_request_sent': False, u'has_extended_profile': False, u'profile_use_background_image': False, u'default_profile_image': False, u'id': 759251, u'profile_background_image_url_https': u'https://pbs.twimg.com/profile_background_images/515228058286952449/zVfUxqPl.jpeg', u'verified': True, u'profile_text_color': u'000000', u'profile_image_url_https': u'https://pbs.twimg.com/profile_images/508960761826131968/LnvhR8ED_normal.png', u'profile_sidebar_fill_color': u'EEEEEE', u'entities': {u'url': {u'urls': [{u'url': u'http://t.co/IaghNW8Xm2', u'indices': [0, 22], u'expanded_url': u'http://www.cnn.com', u'display_url': u'cnn.com'}]}, u'description': {u'urls': []}}, u'followers_count': 22885250, u'profile_sidebar_border_color': u'000000', u'id_str': u'759251', u'profile_background_color': u'323232', u'listed_count': 112512, u'is_translation_enabled': True, u'utc_offset': -18000, u'statuses_count': 76730, u'description': u'It\\u2019s our job to #GoThere and tell the most difficult stories. Come with us!', u'friends_count': 1112, u'location': u'', u'profile_link_color': u'004287', u'profile_image_url': u'http://pbs.twimg.com/profile_images/508960761826131968/LnvhR8ED_normal.png', u'following': False, u'geo_enabled': True, u'profile_banner_url': u'https://pbs.twimg.com/profile_banners/759251/1453849197', u'profile_background_image_url': u'http://pbs.twimg.com/profile_background_images/515228058286952449/zVfUxqPl.jpeg', u'screen_name': u'CNN', u'lang': u'en', u'profile_background_tile': False, u'favourites_count': 1344, u'name': u'CNN', u'notifications': False, u'url': u'http://t.co/IaghNW8Xm2', u'created_at': u'Fri Feb 09 00:35:02 +0000 2007', u'contributors_enabled': False, u'time_zone': u'Eastern Time (US & Canada)', u'protected': False, u'default_profile': False, u'is_translator': False}, time_zone=u'Eastern Time (US & Canada)', id=759251, _api=<tweepy.api.API object at 0x104f4db10>, verified=True, profile_text_color=u'000000', profile_image_url_https=u'https://pbs.twimg.com/profile_images/508960761826131968/LnvhR8ED_normal.png', profile_sidebar_fill_color=u'EEEEEE', is_translator=False, geo_enabled=True, entities={u'url': {u'urls': [{u'url': u'http://t.co/IaghNW8Xm2', u'indices': [0, 22], u'expanded_url': u'http://www.cnn.com', u'display_url': u'cnn.com'}]}, u'description': {u'urls': []}}, followers_count=22885250, protected=False, id_str=u'759251', default_profile_image=False, listed_count=112512, lang=u'en', utc_offset=-18000, statuses_count=76730, description=u'It\\u2019s our job to #GoThere and tell the most difficult stories. Come with us!', friends_count=1112, profile_link_color=u'004287', profile_image_url=u'http://pbs.twimg.com/profile_images/508960761826131968/LnvhR8ED_normal.png', notifications=False, profile_background_image_url_https=u'https://pbs.twimg.com/profile_background_images/515228058286952449/zVfUxqPl.jpeg', profile_background_color=u'323232', profile_banner_url=u'https://pbs.twimg.com/profile_banners/759251/1453849197', profile_background_image_url=u'http://pbs.twimg.com/profile_background_images/515228058286952449/zVfUxqPl.jpeg', name=u'CNN', is_translation_enabled=True, profile_background_tile=False, favourites_count=1344, screen_name=u'CNN', url=u'http://t.co/IaghNW8Xm2', created_at=datetime.datetime(2007, 2, 9, 0, 35, 2), contributors_enabled=False, location=u'', profile_sidebar_border_color=u'000000', default_profile=False, following=False), geo=None, in_reply_to_user_id_str=None, possibly_sensitive=False, lang=u'en', created_at=datetime.datetime(2016, 1, 27, 2, 59), in_reply_to_status_id_str=None, place=None, source=u'Sprinklr', retweeted=False, metadata={u'iso_language_code': u'en', u'result_type': u'recent'}), source_url=u'http://twitter.com/download/iphone', user=User(follow_request_sent=False, has_extended_profile=False, profile_use_background_image=True, _json={u'follow_request_sent': False, u'has_extended_profile': False, u'profile_use_background_image': True, u'default_profile_image': False, u'id': 219944298, u'profile_background_image_url_https': u'https://pbs.twimg.com/profile_background_images/735064451/0cd3796ad93b3d808d28a0ed0b92f0f7.jpeg', u'verified': False, u'profile_text_color': u'333333', u'profile_image_url_https': u'https://pbs.twimg.com/profile_images/693866556351119360/nSRAyVBo_normal.jpg', u'profile_sidebar_fill_color': u'F3F3F3', u'entities': {u'url': {u'urls': [{u'url': u'https://t.co/FuDZiRCcls', u'indices': [0, 23], u'expanded_url': u'https://ssavatovic.wordpress.com/', u'display_url': u'ssavatovic.wordpress.com'}]}, u'description': {u'urls': []}}, u'followers_count': 484, u'profile_sidebar_border_color': u'FFFFFF', u'id_str': u'219944298', u'profile_background_color': u'731C73', u'listed_count': 7, u'is_translation_enabled': False, u'utc_offset': 7200, u'statuses_count': 8828, u'description': u'Serbian hammerthrow Record Holder. Kansas State University. Road to RIO 2016.', u'friends_count': 448, u'location': u'', u'profile_link_color': u'D126CB', u'profile_image_url': u'http://pbs.twimg.com/profile_images/693866556351119360/nSRAyVBo_normal.jpg', u'following': False, u'geo_enabled': True, u'profile_banner_url': u'https://pbs.twimg.com/profile_banners/219944298/1445131209', u'profile_background_image_url': u'http://pbs.twimg.com/profile_background_images/735064451/0cd3796ad93b3d808d28a0ed0b92f0f7.jpeg', u'screen_name': u'sarathrower', u'lang': u'en', u'profile_background_tile': True, u'favourites_count': 6802, u'name': u'Sara Savatovic', u'notifications': False, u'url': u'https://t.co/FuDZiRCcls', u'created_at': u'Fri Nov 26 10:03:17 +0000 2010', u'contributors_enabled': False, u'time_zone': u'Athens', u'protected': False, u'default_profile': False, u'is_translator': False}, time_zone=u'Athens', id=219944298, _api=<tweepy.api.API object at 0x104f4db10>, verified=False, profile_text_color=u'333333', profile_image_url_https=u'https://pbs.twimg.com/profile_images/693866556351119360/nSRAyVBo_normal.jpg', profile_sidebar_fill_color=u'F3F3F3', is_translator=False, geo_enabled=True, entities={u'url': {u'urls': [{u'url': u'https://t.co/FuDZiRCcls', u'indices': [0, 23], u'expanded_url': u'https://ssavatovic.wordpress.com/', u'display_url': u'ssavatovic.wordpress.com'}]}, u'description': {u'urls': []}}, followers_count=484, protected=False, id_str=u'219944298', default_profile_image=False, listed_count=7, lang=u'en', utc_offset=7200, statuses_count=8828, description=u'Serbian hammerthrow Record Holder. Kansas State University. Road to RIO 2016.', friends_count=448, profile_link_color=u'D126CB', profile_image_url=u'http://pbs.twimg.com/profile_images/693866556351119360/nSRAyVBo_normal.jpg', notifications=False, profile_background_image_url_https=u'https://pbs.twimg.com/profile_background_images/735064451/0cd3796ad93b3d808d28a0ed0b92f0f7.jpeg', profile_background_color=u'731C73', profile_banner_url=u'https://pbs.twimg.com/profile_banners/219944298/1445131209', profile_background_image_url=u'http://pbs.twimg.com/profile_background_images/735064451/0cd3796ad93b3d808d28a0ed0b92f0f7.jpeg', name=u'Sara Savatovic', is_translation_enabled=False, profile_background_tile=True, favourites_count=6802, screen_name=u'sarathrower', url=u'https://t.co/FuDZiRCcls', created_at=datetime.datetime(2010, 11, 26, 10, 3, 17), contributors_enabled=False, location=u'', profile_sidebar_border_color=u'FFFFFF', default_profile=False, following=False), geo=None, in_reply_to_user_id_str=None, possibly_sensitive=False, lang=u'en', created_at=datetime.datetime(2016, 1, 27, 3, 30, 33), in_reply_to_status_id_str=None, place=None, source=u'Twitter for iPhone', retweeted=False, metadata={u'iso_language_code': u'en', u'result_type': u'recent'})"
      ]
     },
     "execution_count": 85,
     "metadata": {},
     "output_type": "execute_result"
    }
   ],
   "source": [
    "tweet"
   ]
  },
  {
   "cell_type": "code",
   "execution_count": 91,
   "metadata": {
    "collapsed": false
   },
   "outputs": [
    {
     "data": {
      "text/plain": [
       "219944298"
      ]
     },
     "execution_count": 91,
     "metadata": {},
     "output_type": "execute_result"
    }
   ],
   "source": [
    "tweet.author._json['id']"
   ]
  },
  {
   "cell_type": "code",
   "execution_count": 50,
   "metadata": {
    "collapsed": false
   },
   "outputs": [],
   "source": [
    "#import json\n",
    "#json.dumps(test)"
   ]
  },
  {
   "cell_type": "code",
   "execution_count": 63,
   "metadata": {
    "collapsed": false
   },
   "outputs": [
    {
     "ename": "ReadTimeoutError",
     "evalue": "HTTPSConnectionPool(host='stream.twitter.com', port=443): Read timed out.",
     "output_type": "error",
     "traceback": [
      "\u001b[0;31m---------------------------------------------------------------------------\u001b[0m",
      "\u001b[0;31mReadTimeoutError\u001b[0m                          Traceback (most recent call last)",
      "\u001b[0;32m<ipython-input-63-bf2cad3bf5c8>\u001b[0m in \u001b[0;36m<module>\u001b[0;34m()\u001b[0m\n\u001b[1;32m     18\u001b[0m \u001b[0;34m\u001b[0m\u001b[0m\n\u001b[1;32m     19\u001b[0m \u001b[0mtwitter_stream\u001b[0m \u001b[0;34m=\u001b[0m \u001b[0mStream\u001b[0m\u001b[0;34m(\u001b[0m\u001b[0mauth\u001b[0m\u001b[0;34m,\u001b[0m \u001b[0mMyListener\u001b[0m\u001b[0;34m(\u001b[0m\u001b[0;34m)\u001b[0m\u001b[0;34m)\u001b[0m\u001b[0;34m\u001b[0m\u001b[0m\n\u001b[0;32m---> 20\u001b[0;31m \u001b[0mtwitter_stream\u001b[0m\u001b[0;34m.\u001b[0m\u001b[0mfilter\u001b[0m\u001b[0;34m(\u001b[0m\u001b[0mtrack\u001b[0m\u001b[0;34m=\u001b[0m\u001b[0;34m[\u001b[0m\u001b[0;34m'#python'\u001b[0m\u001b[0;34m]\u001b[0m\u001b[0;34m)\u001b[0m\u001b[0;34m\u001b[0m\u001b[0m\n\u001b[0m",
      "\u001b[0;32m/Users/Peter/anaconda/lib/python2.7/site-packages/tweepy/streaming.pyc\u001b[0m in \u001b[0;36mfilter\u001b[0;34m(self, follow, track, async, locations, stall_warnings, languages, encoding, filter_level)\u001b[0m\n\u001b[1;32m    443\u001b[0m         \u001b[0mself\u001b[0m\u001b[0;34m.\u001b[0m\u001b[0msession\u001b[0m\u001b[0;34m.\u001b[0m\u001b[0mparams\u001b[0m \u001b[0;34m=\u001b[0m \u001b[0;34m{\u001b[0m\u001b[0;34m'delimited'\u001b[0m\u001b[0;34m:\u001b[0m \u001b[0;34m'length'\u001b[0m\u001b[0;34m}\u001b[0m\u001b[0;34m\u001b[0m\u001b[0m\n\u001b[1;32m    444\u001b[0m         \u001b[0mself\u001b[0m\u001b[0;34m.\u001b[0m\u001b[0mhost\u001b[0m \u001b[0;34m=\u001b[0m \u001b[0;34m'stream.twitter.com'\u001b[0m\u001b[0;34m\u001b[0m\u001b[0m\n\u001b[0;32m--> 445\u001b[0;31m         \u001b[0mself\u001b[0m\u001b[0;34m.\u001b[0m\u001b[0m_start\u001b[0m\u001b[0;34m(\u001b[0m\u001b[0masync\u001b[0m\u001b[0;34m)\u001b[0m\u001b[0;34m\u001b[0m\u001b[0m\n\u001b[0m\u001b[1;32m    446\u001b[0m \u001b[0;34m\u001b[0m\u001b[0m\n\u001b[1;32m    447\u001b[0m     def sitestream(self, follow, stall_warnings=False,\n",
      "\u001b[0;32m/Users/Peter/anaconda/lib/python2.7/site-packages/tweepy/streaming.pyc\u001b[0m in \u001b[0;36m_start\u001b[0;34m(self, async)\u001b[0m\n\u001b[1;32m    359\u001b[0m             \u001b[0mself\u001b[0m\u001b[0;34m.\u001b[0m\u001b[0m_thread\u001b[0m\u001b[0;34m.\u001b[0m\u001b[0mstart\u001b[0m\u001b[0;34m(\u001b[0m\u001b[0;34m)\u001b[0m\u001b[0;34m\u001b[0m\u001b[0m\n\u001b[1;32m    360\u001b[0m         \u001b[0;32melse\u001b[0m\u001b[0;34m:\u001b[0m\u001b[0;34m\u001b[0m\u001b[0m\n\u001b[0;32m--> 361\u001b[0;31m             \u001b[0mself\u001b[0m\u001b[0;34m.\u001b[0m\u001b[0m_run\u001b[0m\u001b[0;34m(\u001b[0m\u001b[0;34m)\u001b[0m\u001b[0;34m\u001b[0m\u001b[0m\n\u001b[0m\u001b[1;32m    362\u001b[0m \u001b[0;34m\u001b[0m\u001b[0m\n\u001b[1;32m    363\u001b[0m     \u001b[0;32mdef\u001b[0m \u001b[0mon_closed\u001b[0m\u001b[0;34m(\u001b[0m\u001b[0mself\u001b[0m\u001b[0;34m,\u001b[0m \u001b[0mresp\u001b[0m\u001b[0;34m)\u001b[0m\u001b[0;34m:\u001b[0m\u001b[0;34m\u001b[0m\u001b[0m\n",
      "\u001b[0;32m/Users/Peter/anaconda/lib/python2.7/site-packages/tweepy/streaming.pyc\u001b[0m in \u001b[0;36m_run\u001b[0;34m(self)\u001b[0m\n\u001b[1;32m    292\u001b[0m             \u001b[0;31m# call a handler first so that the exception can be logged.\u001b[0m\u001b[0;34m\u001b[0m\u001b[0;34m\u001b[0m\u001b[0m\n\u001b[1;32m    293\u001b[0m             \u001b[0mself\u001b[0m\u001b[0;34m.\u001b[0m\u001b[0mlistener\u001b[0m\u001b[0;34m.\u001b[0m\u001b[0mon_exception\u001b[0m\u001b[0;34m(\u001b[0m\u001b[0mexception\u001b[0m\u001b[0;34m)\u001b[0m\u001b[0;34m\u001b[0m\u001b[0m\n\u001b[0;32m--> 294\u001b[0;31m             \u001b[0;32mraise\u001b[0m \u001b[0mexception\u001b[0m\u001b[0;34m\u001b[0m\u001b[0m\n\u001b[0m\u001b[1;32m    295\u001b[0m \u001b[0;34m\u001b[0m\u001b[0m\n\u001b[1;32m    296\u001b[0m     \u001b[0;32mdef\u001b[0m \u001b[0m_data\u001b[0m\u001b[0;34m(\u001b[0m\u001b[0mself\u001b[0m\u001b[0;34m,\u001b[0m \u001b[0mdata\u001b[0m\u001b[0;34m)\u001b[0m\u001b[0;34m:\u001b[0m\u001b[0;34m\u001b[0m\u001b[0m\n",
      "\u001b[0;31mReadTimeoutError\u001b[0m: HTTPSConnectionPool(host='stream.twitter.com', port=443): Read timed out."
     ]
    }
   ],
   "source": [
    "from tweepy import Stream\n",
    "from tweepy.streaming import StreamListener\n",
    " \n",
    "class MyListener(StreamListener):\n",
    " \n",
    "    def on_data(self, data):\n",
    "        try:\n",
    "            with open('python.json', 'a') as f:\n",
    "                f.write(data)\n",
    "                return True\n",
    "        except BaseException as e:\n",
    "            print(\"Error on_data: %s\" % str(e))\n",
    "        return True\n",
    " \n",
    "    def on_error(self, status):\n",
    "        print(status)\n",
    "        return True\n",
    " \n",
    "twitter_stream = Stream(auth, MyListener())\n",
    "twitter_stream.filter(track=['#python'])"
   ]
  },
  {
   "cell_type": "code",
   "execution_count": 41,
   "metadata": {
    "collapsed": false
   },
   "outputs": [
    {
     "ename": "CParserError",
     "evalue": "Error tokenizing data. C error: Expected 4 fields in line 2701, saw 5\n",
     "output_type": "error",
     "traceback": [
      "\u001b[0;31m---------------------------------------------------------------------------\u001b[0m",
      "\u001b[0;31mCParserError\u001b[0m                              Traceback (most recent call last)",
      "\u001b[0;32m<ipython-input-41-69e9c6b59c45>\u001b[0m in \u001b[0;36m<module>\u001b[0;34m()\u001b[0m\n\u001b[0;32m----> 1\u001b[0;31m \u001b[0mjetBlueTweets\u001b[0m \u001b[0;34m=\u001b[0m \u001b[0mpd\u001b[0m\u001b[0;34m.\u001b[0m\u001b[0mread_csv\u001b[0m\u001b[0;34m(\u001b[0m\u001b[0;34m'result.csv'\u001b[0m\u001b[0;34m)\u001b[0m\u001b[0;34m\u001b[0m\u001b[0m\n\u001b[0m\u001b[1;32m      2\u001b[0m \u001b[0mjetBlueTweets\u001b[0m\u001b[0;34m.\u001b[0m\u001b[0mcolumns\u001b[0m \u001b[0;34m=\u001b[0m \u001b[0;34m[\u001b[0m\u001b[0;34m'time_created'\u001b[0m\u001b[0;34m,\u001b[0m\u001b[0;34m'text'\u001b[0m\u001b[0;34m,\u001b[0m\u001b[0;34m'is_reply'\u001b[0m\u001b[0;34m,\u001b[0m\u001b[0;34m''\u001b[0m\u001b[0;34m]\u001b[0m\u001b[0;34m\u001b[0m\u001b[0m\n\u001b[1;32m      3\u001b[0m \u001b[0;31m#tweet.created_at, tweet.text.encode('utf-8'),tweet.in_reply_to_status_id,tweet.id,tweet.user\u001b[0m\u001b[0;34m\u001b[0m\u001b[0;34m\u001b[0m\u001b[0m\n",
      "\u001b[0;32m/Users/Peter/anaconda/lib/python2.7/site-packages/pandas/io/parsers.pyc\u001b[0m in \u001b[0;36mparser_f\u001b[0;34m(filepath_or_buffer, sep, dialect, compression, doublequote, escapechar, quotechar, quoting, skipinitialspace, lineterminator, header, index_col, names, prefix, skiprows, skipfooter, skip_footer, na_values, true_values, false_values, delimiter, converters, dtype, usecols, engine, delim_whitespace, as_recarray, na_filter, compact_ints, use_unsigned, low_memory, buffer_lines, warn_bad_lines, error_bad_lines, keep_default_na, thousands, comment, decimal, parse_dates, keep_date_col, dayfirst, date_parser, memory_map, float_precision, nrows, iterator, chunksize, verbose, encoding, squeeze, mangle_dupe_cols, tupleize_cols, infer_datetime_format, skip_blank_lines)\u001b[0m\n\u001b[1;32m    496\u001b[0m                     skip_blank_lines=skip_blank_lines)\n\u001b[1;32m    497\u001b[0m \u001b[0;34m\u001b[0m\u001b[0m\n\u001b[0;32m--> 498\u001b[0;31m         \u001b[0;32mreturn\u001b[0m \u001b[0m_read\u001b[0m\u001b[0;34m(\u001b[0m\u001b[0mfilepath_or_buffer\u001b[0m\u001b[0;34m,\u001b[0m \u001b[0mkwds\u001b[0m\u001b[0;34m)\u001b[0m\u001b[0;34m\u001b[0m\u001b[0m\n\u001b[0m\u001b[1;32m    499\u001b[0m \u001b[0;34m\u001b[0m\u001b[0m\n\u001b[1;32m    500\u001b[0m     \u001b[0mparser_f\u001b[0m\u001b[0;34m.\u001b[0m\u001b[0m__name__\u001b[0m \u001b[0;34m=\u001b[0m \u001b[0mname\u001b[0m\u001b[0;34m\u001b[0m\u001b[0m\n",
      "\u001b[0;32m/Users/Peter/anaconda/lib/python2.7/site-packages/pandas/io/parsers.pyc\u001b[0m in \u001b[0;36m_read\u001b[0;34m(filepath_or_buffer, kwds)\u001b[0m\n\u001b[1;32m    283\u001b[0m         \u001b[0;32mreturn\u001b[0m \u001b[0mparser\u001b[0m\u001b[0;34m\u001b[0m\u001b[0m\n\u001b[1;32m    284\u001b[0m \u001b[0;34m\u001b[0m\u001b[0m\n\u001b[0;32m--> 285\u001b[0;31m     \u001b[0;32mreturn\u001b[0m \u001b[0mparser\u001b[0m\u001b[0;34m.\u001b[0m\u001b[0mread\u001b[0m\u001b[0;34m(\u001b[0m\u001b[0;34m)\u001b[0m\u001b[0;34m\u001b[0m\u001b[0m\n\u001b[0m\u001b[1;32m    286\u001b[0m \u001b[0;34m\u001b[0m\u001b[0m\n\u001b[1;32m    287\u001b[0m _parser_defaults = {\n",
      "\u001b[0;32m/Users/Peter/anaconda/lib/python2.7/site-packages/pandas/io/parsers.pyc\u001b[0m in \u001b[0;36mread\u001b[0;34m(self, nrows)\u001b[0m\n\u001b[1;32m    745\u001b[0m                 \u001b[0;32mraise\u001b[0m \u001b[0mValueError\u001b[0m\u001b[0;34m(\u001b[0m\u001b[0;34m'skip_footer not supported for iteration'\u001b[0m\u001b[0;34m)\u001b[0m\u001b[0;34m\u001b[0m\u001b[0m\n\u001b[1;32m    746\u001b[0m \u001b[0;34m\u001b[0m\u001b[0m\n\u001b[0;32m--> 747\u001b[0;31m         \u001b[0mret\u001b[0m \u001b[0;34m=\u001b[0m \u001b[0mself\u001b[0m\u001b[0;34m.\u001b[0m\u001b[0m_engine\u001b[0m\u001b[0;34m.\u001b[0m\u001b[0mread\u001b[0m\u001b[0;34m(\u001b[0m\u001b[0mnrows\u001b[0m\u001b[0;34m)\u001b[0m\u001b[0;34m\u001b[0m\u001b[0m\n\u001b[0m\u001b[1;32m    748\u001b[0m \u001b[0;34m\u001b[0m\u001b[0m\n\u001b[1;32m    749\u001b[0m         \u001b[0;32mif\u001b[0m \u001b[0mself\u001b[0m\u001b[0;34m.\u001b[0m\u001b[0moptions\u001b[0m\u001b[0;34m.\u001b[0m\u001b[0mget\u001b[0m\u001b[0;34m(\u001b[0m\u001b[0;34m'as_recarray'\u001b[0m\u001b[0;34m)\u001b[0m\u001b[0;34m:\u001b[0m\u001b[0;34m\u001b[0m\u001b[0m\n",
      "\u001b[0;32m/Users/Peter/anaconda/lib/python2.7/site-packages/pandas/io/parsers.pyc\u001b[0m in \u001b[0;36mread\u001b[0;34m(self, nrows)\u001b[0m\n\u001b[1;32m   1195\u001b[0m     \u001b[0;32mdef\u001b[0m \u001b[0mread\u001b[0m\u001b[0;34m(\u001b[0m\u001b[0mself\u001b[0m\u001b[0;34m,\u001b[0m \u001b[0mnrows\u001b[0m\u001b[0;34m=\u001b[0m\u001b[0mNone\u001b[0m\u001b[0;34m)\u001b[0m\u001b[0;34m:\u001b[0m\u001b[0;34m\u001b[0m\u001b[0m\n\u001b[1;32m   1196\u001b[0m         \u001b[0;32mtry\u001b[0m\u001b[0;34m:\u001b[0m\u001b[0;34m\u001b[0m\u001b[0m\n\u001b[0;32m-> 1197\u001b[0;31m             \u001b[0mdata\u001b[0m \u001b[0;34m=\u001b[0m \u001b[0mself\u001b[0m\u001b[0;34m.\u001b[0m\u001b[0m_reader\u001b[0m\u001b[0;34m.\u001b[0m\u001b[0mread\u001b[0m\u001b[0;34m(\u001b[0m\u001b[0mnrows\u001b[0m\u001b[0;34m)\u001b[0m\u001b[0;34m\u001b[0m\u001b[0m\n\u001b[0m\u001b[1;32m   1198\u001b[0m         \u001b[0;32mexcept\u001b[0m \u001b[0mStopIteration\u001b[0m\u001b[0;34m:\u001b[0m\u001b[0;34m\u001b[0m\u001b[0m\n\u001b[1;32m   1199\u001b[0m             \u001b[0;32mif\u001b[0m \u001b[0mself\u001b[0m\u001b[0;34m.\u001b[0m\u001b[0m_first_chunk\u001b[0m\u001b[0;34m:\u001b[0m\u001b[0;34m\u001b[0m\u001b[0m\n",
      "\u001b[0;32mpandas/parser.pyx\u001b[0m in \u001b[0;36mpandas.parser.TextReader.read (pandas/parser.c:7988)\u001b[0;34m()\u001b[0m\n",
      "\u001b[0;32mpandas/parser.pyx\u001b[0m in \u001b[0;36mpandas.parser.TextReader._read_low_memory (pandas/parser.c:8244)\u001b[0;34m()\u001b[0m\n",
      "\u001b[0;32mpandas/parser.pyx\u001b[0m in \u001b[0;36mpandas.parser.TextReader._read_rows (pandas/parser.c:8970)\u001b[0;34m()\u001b[0m\n",
      "\u001b[0;32mpandas/parser.pyx\u001b[0m in \u001b[0;36mpandas.parser.TextReader._tokenize_rows (pandas/parser.c:8838)\u001b[0;34m()\u001b[0m\n",
      "\u001b[0;32mpandas/parser.pyx\u001b[0m in \u001b[0;36mpandas.parser.raise_parser_error (pandas/parser.c:22649)\u001b[0;34m()\u001b[0m\n",
      "\u001b[0;31mCParserError\u001b[0m: Error tokenizing data. C error: Expected 4 fields in line 2701, saw 5\n"
     ]
    }
   ],
   "source": [
    "jetBlueTweets = pd.read_csv('result.csv')\n",
    "jetBlueTweets.columns = ['time_created','text','is_reply','']\n",
    "#tweet.created_at, tweet.text.encode('utf-8'),tweet.in_reply_to_status_id,tweet.id,tweet.user"
   ]
  },
  {
   "cell_type": "code",
   "execution_count": 57,
   "metadata": {
    "collapsed": true
   },
   "outputs": [],
   "source": [
    "with open(\"test\") as fh:\n",
    "    #test1 = simplejson.loads(fh.read())\n",
    "    test1 = json.dumps(fh.read())"
   ]
  },
  {
   "cell_type": "code",
   "execution_count": 71,
   "metadata": {
    "collapsed": false
   },
   "outputs": [
    {
     "data": {
      "text/plain": [
       "14226495"
      ]
     },
     "execution_count": 71,
     "metadata": {},
     "output_type": "execute_result"
    }
   ],
   "source": [
    "test[1].id"
   ]
  },
  {
   "cell_type": "code",
   "execution_count": 76,
   "metadata": {
    "collapsed": false
   },
   "outputs": [
    {
     "data": {
      "text/plain": [
       "datetime.datetime(2007, 5, 30, 17, 51, 54)"
      ]
     },
     "execution_count": 76,
     "metadata": {},
     "output_type": "execute_result"
    }
   ],
   "source": [
    "test[0].created_at"
   ]
  },
  {
   "cell_type": "code",
   "execution_count": 11,
   "metadata": {
    "collapsed": false
   },
   "outputs": [],
   "source": [
    "jetDf = pd.read_csv('result2.csv')\n",
    "jetDf.columns=['date','text','reply','id','user']"
   ]
  },
  {
   "cell_type": "code",
   "execution_count": 15,
   "metadata": {
    "collapsed": false
   },
   "outputs": [
    {
     "data": {
      "text/plain": [
       "'@JetBlue they were better when we were in the air...and yes they finally found room'"
      ]
     },
     "execution_count": 15,
     "metadata": {},
     "output_type": "execute_result"
    }
   ],
   "source": [
    "jetDf.iloc[1]['text']"
   ]
  },
  {
   "cell_type": "code",
   "execution_count": 37,
   "metadata": {
    "collapsed": false
   },
   "outputs": [],
   "source": [
    "import numpy as np\n",
    "#np.isnan(jetDf['reply'])\n",
    "jetDf2 = jetDf[np.isnan(jetDf['reply'])]"
   ]
  },
  {
   "cell_type": "code",
   "execution_count": 40,
   "metadata": {
    "collapsed": false
   },
   "outputs": [
    {
     "data": {
      "text/plain": [
       "[(693943981282050048, 1),\n",
       " (693927336056455168, 1),\n",
       " (693922344293769218, 1),\n",
       " (693454140731703299, 1),\n",
       " (692768526814298116, 1)]"
      ]
     },
     "execution_count": 40,
     "metadata": {},
     "output_type": "execute_result"
    }
   ],
   "source": [
    "from collections import Counter\n",
    "c = Counter(jetDf2['id'])\n",
    "c.most_common(5)"
   ]
  },
  {
   "cell_type": "markdown",
   "metadata": {},
   "source": [
    "# Thus, no bots keep tweeting about @jetblue"
   ]
  },
  {
   "cell_type": "code",
   "execution_count": 42,
   "metadata": {
    "collapsed": true
   },
   "outputs": [],
   "source": [
    "jetDf2.to_csv('cleanJetBlue.csv',index=False)"
   ]
  },
  {
   "cell_type": "code",
   "execution_count": null,
   "metadata": {
    "collapsed": true
   },
   "outputs": [],
   "source": [
    "[tweet.created_at,\n",
    " tweet.text.encode('utf-8'),tweet.in_reply_to_status_id,tweet.id,tweet.author._json['id']]"
   ]
  }
 ],
 "metadata": {
  "kernelspec": {
   "display_name": "Python 2",
   "language": "python",
   "name": "python2"
  },
  "language_info": {
   "codemirror_mode": {
    "name": "ipython",
    "version": 2
   },
   "file_extension": ".py",
   "mimetype": "text/x-python",
   "name": "python",
   "nbconvert_exporter": "python",
   "pygments_lexer": "ipython2",
   "version": "2.7.11"
  }
 },
 "nbformat": 4,
 "nbformat_minor": 0
}
