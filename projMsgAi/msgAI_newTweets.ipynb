{
 "cells": [
  {
   "cell_type": "code",
   "execution_count": 1,
   "metadata": {
    "collapsed": true
   },
   "outputs": [],
   "source": [
    "%matplotlib inline\n",
    "\n",
    "import matplotlib.pylab as plt\n",
    "import pandas as pd\n",
    "import numpy as np\n",
    "from collections import Counter\n",
    "import operator\n",
    "from nltk.tokenize import TweetTokenizer\n",
    "from nltk.corpus import stopwords\n",
    "import Pyro4\n",
    "\n",
    "from sqlalchemy import create_engine\n",
    "from sqlalchemy_utils import database_exists, create_database\n",
    "import psycopg2"
   ]
  },
  {
   "cell_type": "markdown",
   "metadata": {},
   "source": [
    "# First store the data in a SQL database"
   ]
  },
  {
   "cell_type": "code",
   "execution_count": 2,
   "metadata": {
    "collapsed": true
   },
   "outputs": [],
   "source": [
    "dbname = 'tweets'\n",
    "username = 'Peter'"
   ]
  },
  {
   "cell_type": "code",
   "execution_count": 3,
   "metadata": {
    "collapsed": false
   },
   "outputs": [
    {
     "name": "stdout",
     "output_type": "stream",
     "text": [
      "postgres://Peter@localhost/tweets\n"
     ]
    }
   ],
   "source": [
    "engine = create_engine('postgres://%s@localhost/%s'%(username,dbname))\n",
    "print engine.url"
   ]
  },
  {
   "cell_type": "code",
   "execution_count": 6,
   "metadata": {
    "collapsed": false
   },
   "outputs": [
    {
     "name": "stdout",
     "output_type": "stream",
     "text": [
      "True\n"
     ]
    }
   ],
   "source": [
    "# Needed to use `createdb Peter` on bash terminal before psql would work\n",
    "\n",
    "if not database_exists(engine.url):\n",
    "    create_database(engine.url)\n",
    "print(database_exists(engine.url))"
   ]
  },
  {
   "cell_type": "code",
   "execution_count": 7,
   "metadata": {
    "collapsed": false
   },
   "outputs": [],
   "source": [
    "tweets = pd.read_csv('Tweets-CustomerSupport.csv', sep=';',index_col='id')\n",
    "#tweets = pd.read_csv('tweets-customer-support2.csv', sep=';',index_col='id')\n",
    "tweets = tweets.drop_duplicates('tweetId')\n",
    "tweets.columns = ['account','from_handler','to_handler','message','time_stamp','tweet_id']"
   ]
  },
  {
   "cell_type": "code",
   "execution_count": 8,
   "metadata": {
    "collapsed": true
   },
   "outputs": [],
   "source": [
    "tweets.to_sql('tweets_table', engine, if_exists='replace')"
   ]
  },
  {
   "cell_type": "code",
   "execution_count": 9,
   "metadata": {
    "collapsed": true
   },
   "outputs": [],
   "source": [
    "# Create connection to database\n",
    "con = psycopg2.connect(database = dbname, user = username)"
   ]
  },
  {
   "cell_type": "code",
   "execution_count": 10,
   "metadata": {
    "collapsed": false
   },
   "outputs": [
    {
     "data": {
      "text/html": [
       "<div>\n",
       "<table border=\"1\" class=\"dataframe\">\n",
       "  <thead>\n",
       "    <tr style=\"text-align: right;\">\n",
       "      <th></th>\n",
       "      <th>id</th>\n",
       "      <th>account</th>\n",
       "      <th>message</th>\n",
       "      <th>tweet_id</th>\n",
       "    </tr>\n",
       "  </thead>\n",
       "  <tbody>\n",
       "    <tr>\n",
       "      <th>0</th>\n",
       "      <td>1</td>\n",
       "      <td>@1ShirtSupport</td>\n",
       "      <td>@PissedOffBiotic You got it! Just email us you...</td>\n",
       "      <td>688951251455754241</td>\n",
       "    </tr>\n",
       "    <tr>\n",
       "      <th>1</th>\n",
       "      <td>2</td>\n",
       "      <td>@1ShirtSupport</td>\n",
       "      <td>@LordEstevez Thanks for the info! Well check o...</td>\n",
       "      <td>688913360679653376</td>\n",
       "    </tr>\n",
       "    <tr>\n",
       "      <th>2</th>\n",
       "      <td>3</td>\n",
       "      <td>@1ShirtSupport</td>\n",
       "      <td>@LordEstevez Just want to make sure we have al...</td>\n",
       "      <td>688907453212184576</td>\n",
       "    </tr>\n",
       "    <tr>\n",
       "      <th>3</th>\n",
       "      <td>4</td>\n",
       "      <td>@1ShirtSupport</td>\n",
       "      <td>@LordEstevez found it! It actually shows up as...</td>\n",
       "      <td>688907258206367744</td>\n",
       "    </tr>\n",
       "    <tr>\n",
       "      <th>4</th>\n",
       "      <td>5</td>\n",
       "      <td>@1ShirtSupport</td>\n",
       "      <td>@LightingAshley It should be just about to be ...</td>\n",
       "      <td>688898486025060352</td>\n",
       "    </tr>\n",
       "  </tbody>\n",
       "</table>\n",
       "</div>"
      ],
      "text/plain": [
       "   id         account                                            message  \\\n",
       "0   1  @1ShirtSupport  @PissedOffBiotic You got it! Just email us you...   \n",
       "1   2  @1ShirtSupport  @LordEstevez Thanks for the info! Well check o...   \n",
       "2   3  @1ShirtSupport  @LordEstevez Just want to make sure we have al...   \n",
       "3   4  @1ShirtSupport  @LordEstevez found it! It actually shows up as...   \n",
       "4   5  @1ShirtSupport  @LightingAshley It should be just about to be ...   \n",
       "\n",
       "             tweet_id  \n",
       "0  688951251455754241  \n",
       "1  688913360679653376  \n",
       "2  688907453212184576  \n",
       "3  688907258206367744  \n",
       "4  688898486025060352  "
      ]
     },
     "execution_count": 10,
     "metadata": {},
     "output_type": "execute_result"
    }
   ],
   "source": [
    "# query:\n",
    "#sql_query = \"\"\"\n",
    "#SELECT * FROM tweets_table;\n",
    "#\"\"\"\n",
    "\n",
    "#select id, account, message from tweets_table limit 20;\n",
    "#select * from tweets_table limit 20; \n",
    "\n",
    "sql_query = \"\"\"\n",
    "select id, account, message, tweet_id from tweets_table limit 5;\n",
    "\"\"\"\n",
    "\n",
    "def sqlPandasQuery(myQuery):\n",
    "    tweets_from_sql = pd.read_sql_query(myQuery,con)\n",
    "    return tweets_from_sql\n",
    "\n",
    "sqlPandasQuery(sql_query)"
   ]
  },
  {
   "cell_type": "code",
   "execution_count": 11,
   "metadata": {
    "collapsed": true
   },
   "outputs": [],
   "source": [
    "### can I do a SQL query to find conversations of given length?"
   ]
  },
  {
   "cell_type": "code",
   "execution_count": 12,
   "metadata": {
    "collapsed": false
   },
   "outputs": [],
   "source": [
    "tweets = pd.read_csv('Tweets-CustomerSupport.csv', sep=';',index_col='id')"
   ]
  },
  {
   "cell_type": "code",
   "execution_count": 13,
   "metadata": {
    "collapsed": false
   },
   "outputs": [
    {
     "data": {
      "text/html": [
       "<div>\n",
       "<table border=\"1\" class=\"dataframe\">\n",
       "  <thead>\n",
       "    <tr style=\"text-align: right;\">\n",
       "      <th></th>\n",
       "      <th>account</th>\n",
       "      <th>fromHandler</th>\n",
       "      <th>toHandler</th>\n",
       "      <th>message</th>\n",
       "      <th>timestamp</th>\n",
       "      <th>tweetId</th>\n",
       "    </tr>\n",
       "    <tr>\n",
       "      <th>id</th>\n",
       "      <th></th>\n",
       "      <th></th>\n",
       "      <th></th>\n",
       "      <th></th>\n",
       "      <th></th>\n",
       "      <th></th>\n",
       "    </tr>\n",
       "  </thead>\n",
       "  <tbody>\n",
       "    <tr>\n",
       "      <th>1</th>\n",
       "      <td>@1ShirtSupport</td>\n",
       "      <td>@1ShirtSupport</td>\n",
       "      <td>@PissedOffBiotic</td>\n",
       "      <td>@PissedOffBiotic You got it! Just email us you...</td>\n",
       "      <td>01/18/2016 05:09:13</td>\n",
       "      <td>688951251455754241</td>\n",
       "    </tr>\n",
       "    <tr>\n",
       "      <th>2</th>\n",
       "      <td>@1ShirtSupport</td>\n",
       "      <td>@1ShirtSupport</td>\n",
       "      <td>@LordEstevez</td>\n",
       "      <td>@LordEstevez Thanks for the info! Well check o...</td>\n",
       "      <td>01/18/2016 02:38:39</td>\n",
       "      <td>688913360679653376</td>\n",
       "    </tr>\n",
       "    <tr>\n",
       "      <th>3</th>\n",
       "      <td>@1ShirtSupport</td>\n",
       "      <td>@1ShirtSupport</td>\n",
       "      <td>@LordEstevez</td>\n",
       "      <td>@LordEstevez Just want to make sure we have al...</td>\n",
       "      <td>01/18/2016 02:15:10</td>\n",
       "      <td>688907453212184576</td>\n",
       "    </tr>\n",
       "    <tr>\n",
       "      <th>4</th>\n",
       "      <td>@1ShirtSupport</td>\n",
       "      <td>@1ShirtSupport</td>\n",
       "      <td>@LordEstevez</td>\n",
       "      <td>@LordEstevez found it! It actually shows up as...</td>\n",
       "      <td>01/18/2016 02:14:24</td>\n",
       "      <td>688907258206367744</td>\n",
       "    </tr>\n",
       "    <tr>\n",
       "      <th>5</th>\n",
       "      <td>@1ShirtSupport</td>\n",
       "      <td>@1ShirtSupport</td>\n",
       "      <td>@LightingAshley</td>\n",
       "      <td>@LightingAshley It should be just about to be ...</td>\n",
       "      <td>01/18/2016 01:39:32</td>\n",
       "      <td>688898486025060352</td>\n",
       "    </tr>\n",
       "  </tbody>\n",
       "</table>\n",
       "</div>"
      ],
      "text/plain": [
       "           account     fromHandler         toHandler  \\\n",
       "id                                                     \n",
       "1   @1ShirtSupport  @1ShirtSupport  @PissedOffBiotic   \n",
       "2   @1ShirtSupport  @1ShirtSupport      @LordEstevez   \n",
       "3   @1ShirtSupport  @1ShirtSupport      @LordEstevez   \n",
       "4   @1ShirtSupport  @1ShirtSupport      @LordEstevez   \n",
       "5   @1ShirtSupport  @1ShirtSupport   @LightingAshley   \n",
       "\n",
       "                                              message            timestamp  \\\n",
       "id                                                                           \n",
       "1   @PissedOffBiotic You got it! Just email us you...  01/18/2016 05:09:13   \n",
       "2   @LordEstevez Thanks for the info! Well check o...  01/18/2016 02:38:39   \n",
       "3   @LordEstevez Just want to make sure we have al...  01/18/2016 02:15:10   \n",
       "4   @LordEstevez found it! It actually shows up as...  01/18/2016 02:14:24   \n",
       "5   @LightingAshley It should be just about to be ...  01/18/2016 01:39:32   \n",
       "\n",
       "               tweetId  \n",
       "id                      \n",
       "1   688951251455754241  \n",
       "2   688913360679653376  \n",
       "3   688907453212184576  \n",
       "4   688907258206367744  \n",
       "5   688898486025060352  "
      ]
     },
     "execution_count": 13,
     "metadata": {},
     "output_type": "execute_result"
    }
   ],
   "source": [
    "#Get rid of duplicate tweets\n",
    "tweets.drop_duplicates('tweetId')\n",
    "tweets.head()"
   ]
  },
  {
   "cell_type": "code",
   "execution_count": 14,
   "metadata": {
    "collapsed": false
   },
   "outputs": [
    {
     "data": {
      "text/plain": [
       "'@1ShirtSupport yeah I know how it says it got delivered on the 24th by  nothing arrived that day'"
      ]
     },
     "execution_count": 14,
     "metadata": {},
     "output_type": "execute_result"
    }
   ],
   "source": [
    "tweets[tweets.fromHandler=='@LordEstevez']['message'].iloc[0]"
   ]
  },
  {
   "cell_type": "code",
   "execution_count": 15,
   "metadata": {
    "collapsed": false
   },
   "outputs": [
    {
     "data": {
      "text/plain": [
       "array(['@1ShirtSupport', '@Airbnb', '@AmazonHelp', '@AskAmex', '@Avis',\n",
       "       '@BCBSIL', '@GoDaddyHelp', '@Hootsuite_Help', '@InstapaperHelp',\n",
       "       '@JetBlue', '@Kohls', '@MasterCard', '@MicrosoftHelps',\n",
       "       '@TmobileHelp', '@americanair', '@fedexhelp', '@nikestore',\n",
       "       '@schuh', '@verizon'], dtype=object)"
      ]
     },
     "execution_count": 15,
     "metadata": {},
     "output_type": "execute_result"
    }
   ],
   "source": [
    "np.unique(tweets.account)"
   ]
  },
  {
   "cell_type": "code",
   "execution_count": 16,
   "metadata": {
    "collapsed": false
   },
   "outputs": [],
   "source": [
    "def getFromTweets(userAccount):\n",
    "    \"\"\"Function to print the number of tweets from a given account\"\"\"\n",
    "    tweetNum = str(np.sum(tweets['toHandler']==userAccount))\n",
    "    print 'Tweets from %s: %s' % (userAccount, tweetNum)"
   ]
  },
  {
   "cell_type": "code",
   "execution_count": 17,
   "metadata": {
    "collapsed": false
   },
   "outputs": [
    {
     "name": "stdout",
     "output_type": "stream",
     "text": [
      "Tweets from @1ShirtSupport: 532\n",
      "Tweets from @Airbnb: 23\n",
      "Tweets from @AmazonHelp: 2991\n",
      "Tweets from @AskAmex: 43\n",
      "Tweets from @Avis: 360\n",
      "Tweets from @BCBSIL: 78\n",
      "Tweets from @GoDaddyHelp: 526\n",
      "Tweets from @Hootsuite_Help: 180\n",
      "Tweets from @InstapaperHelp: 38\n",
      "Tweets from @JetBlue: 75\n",
      "Tweets from @Kohls: 681\n",
      "Tweets from @MasterCard: 38\n",
      "Tweets from @MicrosoftHelps: 653\n",
      "Tweets from @TmobileHelp: 0\n",
      "Tweets from @americanair: 0\n",
      "Tweets from @fedexhelp: 0\n",
      "Tweets from @nikestore: 6295\n",
      "Tweets from @schuh: 495\n",
      "Tweets from @verizon: 71\n"
     ]
    }
   ],
   "source": [
    "for i in list(np.unique(tweets.account)):\n",
    "    getFromTweets(i)"
   ]
  },
  {
   "cell_type": "code",
   "execution_count": 18,
   "metadata": {
    "collapsed": false
   },
   "outputs": [],
   "source": [
    "verTweets = tweets[tweets.toHandler=='@verizon']"
   ]
  },
  {
   "cell_type": "raw",
   "metadata": {
    "collapsed": false
   },
   "source": [
    "tweets = tweets.drop_duplicates('message')"
   ]
  },
  {
   "cell_type": "markdown",
   "metadata": {},
   "source": [
    "# Gensim code"
   ]
  },
  {
   "cell_type": "code",
   "execution_count": 19,
   "metadata": {
    "collapsed": true
   },
   "outputs": [],
   "source": [
    "import logging\n",
    "logging.basicConfig(format='%(asctime)s : %(levelname)s : %(message)s', level=logging.INFO)\n",
    "from gensim import corpora, models\n",
    "#import os\n",
    "#import nltk\n",
    "from nltk.corpus import stopwords\n",
    "from nltk.stem import WordNetLemmatizer\n",
    "import timeit\n",
    "from re import sub\n",
    "import pyLDAvis.gensim"
   ]
  },
  {
   "cell_type": "code",
   "execution_count": 20,
   "metadata": {
    "collapsed": false
   },
   "outputs": [],
   "source": [
    "#tweets.iloc[0]['message']"
   ]
  },
  {
   "cell_type": "code",
   "execution_count": 21,
   "metadata": {
    "collapsed": false
   },
   "outputs": [],
   "source": [
    "#Functions for data cleaning\n",
    "\n",
    "wnl = WordNetLemmatizer()\n",
    "\n",
    "def removePunc(myWord):\n",
    "    \"\"\"Function to remove punctuation from string inputs\"\"\"\n",
    "    if myWord is None:\n",
    "        return myWord\n",
    "    else:\n",
    "        return sub('[.:;()/!&-*@$,?^\\d+]','',myWord)\n",
    "        \n",
    "def removeAscii(myWord):\n",
    "    \"\"\"Function to remove ascii from string input\"\"\"\n",
    "    if myWord is None:\n",
    "        return myWord\n",
    "    else:\n",
    "        return str(sub(r'[^\\x00-\\x7F]+','', myWord.decode('utf-8').strip()))\n",
    "\n",
    "def lemmatize(myWord):\n",
    "    \"\"\"Function to lemmatize words\"\"\"\n",
    "    if myWord is None:\n",
    "        return myWord\n",
    "    else:\n",
    "        return wnl.lemmatize(myWord)\n",
    "\n",
    "def removeStopWords(myWord):\n",
    "    \"\"\"Function to remove stop words\"\"\"\n",
    "    if myWord is None:\n",
    "        return myWord\n",
    "    if myWord not in str(stopwords.words('english')):\n",
    "        return myWord\n",
    "\n",
    "def removeLinkUser(myWord):\n",
    "    \"\"\"Function to remove web addresses and twitter handles\"\"\"\n",
    "    if not myWord.startswith('@') and not myWord.startswith('http'):\n",
    "        return myWord\n",
    "\n",
    "def prepText(myWord):\n",
    "    \"\"\"Final text pre-processing function\"\"\"\n",
    "    return removeStopWords(\n",
    "        lemmatize(\n",
    "            removeAscii(\n",
    "                removePunc(\n",
    "                    removeLinkUser(\n",
    "                        myWord.lower()\n",
    "                    )\n",
    "                )\n",
    "            )\n",
    "        )\n",
    "    )\n"
   ]
  },
  {
   "cell_type": "code",
   "execution_count": 22,
   "metadata": {
    "collapsed": false
   },
   "outputs": [],
   "source": [
    "# Function to clean/filter all tweets\n",
    "\n",
    "def filterTweetList(tweetList):\n",
    "    \"\"\"Remove stop words, lemmatize, and clean all tweets\"\"\"\n",
    "    return [[prepText(word) for word\n",
    "                in tweet.split()\n",
    "                    if prepText(word) is not None]\n",
    "                for tweet in tweetList]\n",
    "cleanTweetList = filterTweetList(tweets['message'])"
   ]
  },
  {
   "cell_type": "code",
   "execution_count": 23,
   "metadata": {
    "collapsed": false
   },
   "outputs": [
    {
     "name": "stdout",
     "output_type": "stream",
     "text": [
      "10 loops, best of 3: 153 ms per loop\n"
     ]
    }
   ],
   "source": [
    "%%timeit\n",
    "# Using iterator:             10 loops, best of 3: 137 ms per loop\n",
    "# Using double list comprhxn: 10 loops, best of 3: 141 ms per loop\n",
    "\n",
    "# Iterator\n",
    "for tweet in (tweet for tweet in verTweets['message']):\n",
    "    [word.lower() for word in tweet.split() if word not in str(stopwords.words('english')) and not word.startswith('@') and not word.startswith('http')]\n",
    "#[[word.lower() for word in tweet.split() if word not in stopwords.words('english') and not word.startswith('@') and not word.startswith('http')] for tweet in verTweets['message']]\n"
   ]
  },
  {
   "cell_type": "markdown",
   "metadata": {},
   "source": [
    "### Using an iterator doesn't speed up the data cleaning"
   ]
  },
  {
   "cell_type": "markdown",
   "metadata": {},
   "source": [
    "## Wanted to check the speed saved by parallelization using `%%timeit`\n",
    "#### Without multicore:  \n",
    "_Code_  \n",
    "`lda = models.LdaMulticore(corpus, id2word=dictionary, num_topics=50, passes=10, iterations=50,alpha=0.001)`  \n",
    "\n",
    "_`Output from %%timeit`_  \n",
    "`1 loops, best of 3: 11min 10s per loop`\n",
    "\n",
    "#### With multicore:  \n",
    "_Code_  \n",
    "`lda = models.ldamodel.LdaModel(corpus, id2word=dictionary, num_topics=50, passes = 10,iterations=50,alpha=0.001)`  \n",
    "_`Output from %%timeit`_  \n",
    "`1 loops, best of 3: 6min 17s per loop`  \n",
    "\n",
    "\n",
    "\n",
    "# Bottom line: _multicore LDA is about twice as fast_\n"
   ]
  },
  {
   "cell_type": "code",
   "execution_count": 27,
   "metadata": {
    "collapsed": false
   },
   "outputs": [],
   "source": [
    "def makeDict(myTweetList):\n",
    "    \"\"\"Create dictionary from list of tokenized documents\"\"\"\n",
    "    return corpora.Dictionary(myTweetList)\n",
    "\n",
    "def makeCorpus(myTweetList,myDict):\n",
    "    \"\"\"Create corpus from list of tokenized documents\"\"\"\n",
    "    return [myDict.doc2bow(tweet) for tweet in myTweetList]\n",
    "\n",
    "def createLDA(myCorpus, myDictionary,myTopics=50,myPasses=10,myIterations=50,myAlpha=0.001):\n",
    "    \"\"\"LDA model call function\"\"\"\n",
    "    models.LdaMulticore(myCorpus, id2word=myDictionary, num_topics=myTopics, passes=myPasses,\n",
    "    iterations=myIterations,alpha=myAlpha)\n",
    "\n",
    "\n",
    "    \n",
    "#lda = models.LdaMulticore(corpus, id2word=dictionary, num_topics=50, passes=10,\n",
    "#    iterations=50,alpha=0.001)\n",
    "\n",
    "#myDict = makeDict(tweetList)\n",
    "#myCorpus = makeCorpus(tweetList)\n",
    "#dictionary = corpora.Dictionary(tweetList)"
   ]
  },
  {
   "cell_type": "code",
   "execution_count": 28,
   "metadata": {
    "collapsed": false
   },
   "outputs": [],
   "source": [
    "myDict = makeDict(cleanTweetList)\n",
    "myCorpus = makeCorpus(cleanTweetList, myDict)\n",
    "myLda = createLDA(myCorpus, myDict)"
   ]
  },
  {
   "cell_type": "code",
   "execution_count": 30,
   "metadata": {
    "collapsed": false
   },
   "outputs": [],
   "source": [
    "saveDir = '/Users/Peter/git/insight/projMsgAi/'\n",
    "myDict.save(saveDir + \"tweet_dict.dict\")"
   ]
  },
  {
   "cell_type": "code",
   "execution_count": 31,
   "metadata": {
    "collapsed": true
   },
   "outputs": [],
   "source": [
    "#corpus = [my.doc2bow(tweet) for tweet in tweetList]\n",
    "#tfidfCorpus = models.TfidfModel(corpus)"
   ]
  },
  {
   "cell_type": "code",
   "execution_count": 32,
   "metadata": {
    "collapsed": false
   },
   "outputs": [],
   "source": [
    "#corpora.MmCorpus.serialize(saveDir + \"tweet_corpus.dict\", corpus)\n",
    "#corpora.MmCorpus.serialize(saveDir + \"tfidf_tweet_corpus.dict\", tfidfCorpus)"
   ]
  },
  {
   "cell_type": "code",
   "execution_count": 33,
   "metadata": {
    "collapsed": true
   },
   "outputs": [],
   "source": [
    "# Try tfidf\n",
    "#tfidf = models.TfidfModel(corpus) # step 1 -- initialize a model"
   ]
  },
  {
   "cell_type": "code",
   "execution_count": 34,
   "metadata": {
    "collapsed": false,
    "scrolled": false
   },
   "outputs": [],
   "source": [
    "#corpus_tfidf = tfidf[corpus]"
   ]
  },
  {
   "cell_type": "code",
   "execution_count": null,
   "metadata": {
    "collapsed": true
   },
   "outputs": [],
   "source": []
  },
  {
   "cell_type": "code",
   "execution_count": null,
   "metadata": {
    "collapsed": false
   },
   "outputs": [],
   "source": [
    "lda = models.LdaMulticore(myCorpus, id2word=myDict, num_topics=50, passes=10,\n",
    "    iterations=50,alpha=0.001)"
   ]
  },
  {
   "cell_type": "code",
   "execution_count": null,
   "metadata": {
    "collapsed": false
   },
   "outputs": [],
   "source": [
    "topTopics = lda.top_topics(corpus)"
   ]
  },
  {
   "cell_type": "code",
   "execution_count": null,
   "metadata": {
    "collapsed": false
   },
   "outputs": [],
   "source": [
    "# turn on automatic rendering of visualizations\n",
    "pyLDAvis.enable_notebook()\n",
    "\n",
    "pyLDAvis.gensim.prepare(lda, corpus, dictionary)"
   ]
  },
  {
   "cell_type": "code",
   "execution_count": null,
   "metadata": {
    "collapsed": true
   },
   "outputs": [],
   "source": []
  },
  {
   "cell_type": "code",
   "execution_count": null,
   "metadata": {
    "collapsed": true
   },
   "outputs": [],
   "source": []
  },
  {
   "cell_type": "markdown",
   "metadata": {},
   "source": [
    "# Try to implement bigrams into analysis"
   ]
  },
  {
   "cell_type": "code",
   "execution_count": 122,
   "metadata": {
    "collapsed": false
   },
   "outputs": [],
   "source": [
    "from gensim.models.phrases import Phrases\n",
    "from gensim import similarities"
   ]
  },
  {
   "cell_type": "code",
   "execution_count": 88,
   "metadata": {
    "collapsed": true
   },
   "outputs": [],
   "source": [
    "def getBigram(myTweetlist):\n",
    "    bigram = Phrases(tweetList)\n",
    "    return [bigram[tweet] for tweet in myTweetlist]"
   ]
  },
  {
   "cell_type": "code",
   "execution_count": 98,
   "metadata": {
    "collapsed": false
   },
   "outputs": [],
   "source": [
    "cleanTweets = filterTweetList(tweets['message'])\n",
    "bigramTweetList = getBigram(cleanTweets)"
   ]
  },
  {
   "cell_type": "code",
   "execution_count": 113,
   "metadata": {
    "collapsed": false
   },
   "outputs": [
    {
     "name": "stderr",
     "output_type": "stream",
     "text": [
      "WARNING:gensim.models.ldamodel:no word id mapping provided; initializing from corpus, assuming identity\n"
     ]
    }
   ],
   "source": [
    "bigramDict = makeDict(bigramTweetList)\n",
    "bigramCorpus = makeCorpus(bigramTweetList)\n",
    "\n",
    "#bigramDict = bigramDict.compactify()\n",
    "bigramLda = createLDA(myCorpus = bigramCorpus, myDictionary = bigramDict)\n",
    "#dictionary.\n",
    "\n",
    "createLDA()"
   ]
  },
  {
   "cell_type": "code",
   "execution_count": 116,
   "metadata": {
    "collapsed": false
   },
   "outputs": [],
   "source": [
    "bigramDict = makeDict(bigramTweetList)\n",
    "bigramLda = createLDA(myCorpus = bigramCorpus, myDictionary = bigramDict)"
   ]
  },
  {
   "cell_type": "code",
   "execution_count": 112,
   "metadata": {
    "collapsed": false
   },
   "outputs": [],
   "source": [
    "#bigramDict = bigramDict.compactify()"
   ]
  },
  {
   "cell_type": "code",
   "execution_count": 117,
   "metadata": {
    "collapsed": false
   },
   "outputs": [
    {
     "ename": "IndexError",
     "evalue": "index 30536 is out of bounds for axis 1 with size 27881",
     "output_type": "error",
     "traceback": [
      "\u001b[0;31m---------------------------------------------------------------------------\u001b[0m",
      "\u001b[0;31mIndexError\u001b[0m                                Traceback (most recent call last)",
      "\u001b[0;32m<ipython-input-117-76fcb22bc144>\u001b[0m in \u001b[0;36m<module>\u001b[0;34m()\u001b[0m\n\u001b[0;32m----> 1\u001b[0;31m \u001b[0mpyLDAvis\u001b[0m\u001b[0;34m.\u001b[0m\u001b[0mgensim\u001b[0m\u001b[0;34m.\u001b[0m\u001b[0mprepare\u001b[0m\u001b[0;34m(\u001b[0m\u001b[0mbigramLda\u001b[0m\u001b[0;34m,\u001b[0m \u001b[0mbigramCorpus\u001b[0m\u001b[0;34m,\u001b[0m \u001b[0mbigramDict\u001b[0m\u001b[0;34m)\u001b[0m\u001b[0;34m\u001b[0m\u001b[0m\n\u001b[0m",
      "\u001b[0;32m/Users/Peter/anaconda/lib/python2.7/site-packages/pyLDAvis/gensim.pyc\u001b[0m in \u001b[0;36mprepare\u001b[0;34m(topic_model, corpus, dictionary, doc_topic_dist, **kwargs)\u001b[0m\n\u001b[1;32m     95\u001b[0m     \u001b[0mSee\u001b[0m \u001b[0;34m`\u001b[0m\u001b[0mpyLDAvis\u001b[0m\u001b[0;34m.\u001b[0m\u001b[0mprepare\u001b[0m\u001b[0;34m`\u001b[0m \u001b[0;32mfor\u001b[0m \u001b[0;34m**\u001b[0m\u001b[0mkwargs\u001b[0m\u001b[0;34m.\u001b[0m\u001b[0;34m\u001b[0m\u001b[0m\n\u001b[1;32m     96\u001b[0m     \"\"\"\n\u001b[0;32m---> 97\u001b[0;31m     \u001b[0mopts\u001b[0m \u001b[0;34m=\u001b[0m \u001b[0mfp\u001b[0m\u001b[0;34m.\u001b[0m\u001b[0mmerge\u001b[0m\u001b[0;34m(\u001b[0m\u001b[0m_extract_data\u001b[0m\u001b[0;34m(\u001b[0m\u001b[0mtopic_model\u001b[0m\u001b[0;34m,\u001b[0m \u001b[0mcorpus\u001b[0m\u001b[0;34m,\u001b[0m \u001b[0mdictionary\u001b[0m\u001b[0;34m,\u001b[0m \u001b[0mdoc_topic_dist\u001b[0m\u001b[0;34m)\u001b[0m\u001b[0;34m,\u001b[0m \u001b[0mkwargs\u001b[0m\u001b[0;34m)\u001b[0m\u001b[0;34m\u001b[0m\u001b[0m\n\u001b[0m\u001b[1;32m     98\u001b[0m     \u001b[0;32mreturn\u001b[0m \u001b[0mvis_prepare\u001b[0m\u001b[0;34m(\u001b[0m\u001b[0;34m**\u001b[0m\u001b[0mopts\u001b[0m\u001b[0;34m)\u001b[0m\u001b[0;34m\u001b[0m\u001b[0m\n",
      "\u001b[0;32m/Users/Peter/anaconda/lib/python2.7/site-packages/pyLDAvis/gensim.pyc\u001b[0m in \u001b[0;36m_extract_data\u001b[0;34m(topic_model, corpus, dictionary, doc_topic_dists)\u001b[0m\n\u001b[1;32m     26\u001b[0m    \u001b[0mbeta\u001b[0m \u001b[0;34m=\u001b[0m \u001b[0;36m0.01\u001b[0m\u001b[0;34m\u001b[0m\u001b[0m\n\u001b[1;32m     27\u001b[0m    \u001b[0mfnames_argsort\u001b[0m \u001b[0;34m=\u001b[0m \u001b[0mnp\u001b[0m\u001b[0;34m.\u001b[0m\u001b[0masarray\u001b[0m\u001b[0;34m(\u001b[0m\u001b[0mlist\u001b[0m\u001b[0;34m(\u001b[0m\u001b[0mdictionary\u001b[0m\u001b[0;34m.\u001b[0m\u001b[0mtoken2id\u001b[0m\u001b[0;34m.\u001b[0m\u001b[0mvalues\u001b[0m\u001b[0;34m(\u001b[0m\u001b[0;34m)\u001b[0m\u001b[0;34m)\u001b[0m\u001b[0;34m,\u001b[0m \u001b[0mdtype\u001b[0m\u001b[0;34m=\u001b[0m\u001b[0mnp\u001b[0m\u001b[0;34m.\u001b[0m\u001b[0mint_\u001b[0m\u001b[0;34m)\u001b[0m\u001b[0;34m\u001b[0m\u001b[0m\n\u001b[0;32m---> 28\u001b[0;31m    \u001b[0mterm_freqs\u001b[0m \u001b[0;34m=\u001b[0m \u001b[0mcorpus_csc\u001b[0m\u001b[0;34m.\u001b[0m\u001b[0msum\u001b[0m\u001b[0;34m(\u001b[0m\u001b[0maxis\u001b[0m\u001b[0;34m=\u001b[0m\u001b[0;36m1\u001b[0m\u001b[0;34m)\u001b[0m\u001b[0;34m.\u001b[0m\u001b[0mA\u001b[0m\u001b[0;34m.\u001b[0m\u001b[0mravel\u001b[0m\u001b[0;34m(\u001b[0m\u001b[0;34m)\u001b[0m\u001b[0;34m[\u001b[0m\u001b[0mfnames_argsort\u001b[0m\u001b[0;34m]\u001b[0m\u001b[0;34m\u001b[0m\u001b[0m\n\u001b[0m\u001b[1;32m     29\u001b[0m    \u001b[0mterm_freqs\u001b[0m\u001b[0;34m[\u001b[0m\u001b[0mterm_freqs\u001b[0m \u001b[0;34m==\u001b[0m \u001b[0;36m0\u001b[0m\u001b[0;34m]\u001b[0m \u001b[0;34m=\u001b[0m \u001b[0mbeta\u001b[0m\u001b[0;34m\u001b[0m\u001b[0m\n\u001b[1;32m     30\u001b[0m    \u001b[0mdoc_lengths\u001b[0m \u001b[0;34m=\u001b[0m \u001b[0mcorpus_csc\u001b[0m\u001b[0;34m.\u001b[0m\u001b[0msum\u001b[0m\u001b[0;34m(\u001b[0m\u001b[0maxis\u001b[0m\u001b[0;34m=\u001b[0m\u001b[0;36m0\u001b[0m\u001b[0;34m)\u001b[0m\u001b[0;34m.\u001b[0m\u001b[0mA\u001b[0m\u001b[0;34m.\u001b[0m\u001b[0mravel\u001b[0m\u001b[0;34m(\u001b[0m\u001b[0;34m)\u001b[0m\u001b[0;34m\u001b[0m\u001b[0m\n",
      "\u001b[0;31mIndexError\u001b[0m: index 30536 is out of bounds for axis 1 with size 27881"
     ]
    }
   ],
   "source": [
    "pyLDAvis.gensim.prepare(bigramLda, bigramCorpus, bigramDict)"
   ]
  },
  {
   "cell_type": "code",
   "execution_count": 136,
   "metadata": {
    "collapsed": false
   },
   "outputs": [],
   "source": [
    "prepText(myDoc.split()[1])"
   ]
  },
  {
   "cell_type": "code",
   "execution_count": 140,
   "metadata": {
    "collapsed": false
   },
   "outputs": [
    {
     "name": "stdout",
     "output_type": "stream",
     "text": [
      "need continue struggle help dm info switching omv\n",
      "[(4, 0.69812414963697056), (9, 0.13182593626715752), (31, 0.16421140477910215)]\n"
     ]
    }
   ],
   "source": [
    "#Trial tweet for validation\n",
    "\n",
    "myDoc = '@saracozart No need to continue the struggle. Were here and we can help. DM us for info about switching. http://spr.ly/6017BkrjL* OMV'\n",
    "myDoc = ' '.join([prepText(word) for word in myDoc.split() if prepText(word) is not None])\n",
    "print myDoc                \n",
    "myVec_bow = dictionary.doc2bow(myDoc.lower().split())\n",
    "#myVec_bow = dictionary.doc2bow(myDoc.lower().split())\n",
    "myVec_lda = lda[myVec_bow]\n",
    "print(myVec_lda)"
   ]
  },
  {
   "cell_type": "code",
   "execution_count": 127,
   "metadata": {
    "collapsed": false
   },
   "outputs": [
    {
     "name": "stderr",
     "output_type": "stream",
     "text": [
      "WARNING:gensim.similarities.docsim:scanning corpus to determine the number of features (consider setting `num_features` explicitly)\n"
     ]
    }
   ],
   "source": [
    "# Build index in order to query the model\n",
    "\n",
    "myIndex = similarities.MatrixSimilarity(lda[corpus]) # transform corpus to LSI space and index it\n",
    "#corpus"
   ]
  },
  {
   "cell_type": "code",
   "execution_count": 209,
   "metadata": {
    "collapsed": false
   },
   "outputs": [],
   "source": [
    ">>> sims = myIndex[myVec_lda] # perform a similarity query against the corpus\n",
    "#>>> print(list(enumerate(sims))) # print (document_number, document_similarity) 2-tuples"
   ]
  },
  {
   "cell_type": "code",
   "execution_count": 210,
   "metadata": {
    "collapsed": false
   },
   "outputs": [],
   "source": [
    ">>> sims = sorted(enumerate(sims), key=lambda item: -item[1])\n",
    "#>>> print(sims) # print sorted (document number, similarity score) 2-tuples"
   ]
  },
  {
   "cell_type": "code",
   "execution_count": 168,
   "metadata": {
    "collapsed": false
   },
   "outputs": [],
   "source": [
    "# Find the best 300 tweet matches\n",
    "matchIdx = [i[0] for i in sims[1:300]]\n"
   ]
  },
  {
   "cell_type": "code",
   "execution_count": 175,
   "metadata": {
    "collapsed": false
   },
   "outputs": [],
   "source": [
    "topHandlers = list(tweets.iloc[matchIdx]['fromHandler'])"
   ]
  },
  {
   "cell_type": "code",
   "execution_count": 204,
   "metadata": {
    "collapsed": false
   },
   "outputs": [
    {
     "data": {
      "image/png": "[encoded data removed]",
      "text/plain": [
       "<matplotlib.figure.Figure at 0x1456e0610>"
      ]
     },
     "metadata": {},
     "output_type": "display_data"
    }
   ],
   "source": [
    "from collections import Counter\n",
    "\n",
    "topHandlerCounts = Counter(topHandlers)\n",
    "sortedHandlers = sorted(topHandlerCounts.items(), key=lambda x: x[1],reverse=True)[0:5]\n",
    "\n",
    "handlerNames = [handler[0] for handler in sortedHandlers]\n",
    "handlerCounts = [handler[1] for handler in sortedHandlers]\n",
    "\n",
    "indexes = np.arange(len(handlerNames))\n",
    "width = 0.7\n",
    "plt.bar(indexes, handlerCounts, width)\n",
    "plt.xticks(indexes + width * 0.5, handlerNames)\n",
    "plt.ylabel('Frequency',fontsize=16)\n",
    "\n",
    "# Plot histogram using matplotlib bar().\n",
    "#indexes = np.arange(len(author_names))\n",
    "#width = 0.7\n",
    "#plt.bar(indexes, author_counts, width)\n",
    "#plt.xticks(indexes + width * 0.5, author_names)\n",
    "plt.show()\n",
    "#"
   ]
  },
  {
   "cell_type": "code",
   "execution_count": null,
   "metadata": {
    "collapsed": true
   },
   "outputs": [],
   "source": [
    "myDoc = '@saracozart No need to continue the struggle. Were here and we can help. DM us for info about switching. http://spr.ly/6017BkrjL* OMV'\n",
    "\n",
    ">>> doc = \"Human computer interaction\"\n",
    ">>> vec_bow = dictionary.doc2bow(doc.lower().split())\n",
    ">>> vec_lsi = lsi[vec_bow] # convert the query to LSI space\n",
    ">>> print(vec_lsi)"
   ]
  },
  {
   "cell_type": "code",
   "execution_count": null,
   "metadata": {
    "collapsed": true
   },
   "outputs": [],
   "source": [
    ">>> index = similarities.MatrixSimilarity(lsi[corpus]) # transform corpus to LSI space and index it"
   ]
  },
  {
   "cell_type": "code",
   "execution_count": null,
   "metadata": {
    "collapsed": true
   },
   "outputs": [],
   "source": [
    ">>> sims = index[vec_lsi] # perform a similarity query against the corpus\n",
    ">>> print(list(enumerate(sims))) # print (document_number, document_similarity) 2-tuples"
   ]
  },
  {
   "cell_type": "code",
   "execution_count": null,
   "metadata": {
    "collapsed": true
   },
   "outputs": [],
   "source": [
    ">>> sims = sorted(enumerate(sims), key=lambda item: -item[1])\n",
    ">>> print(sims) # print sorted (document number, similarity score) 2-tuples"
   ]
  },
  {
   "cell_type": "code",
   "execution_count": 149,
   "metadata": {
    "collapsed": false
   },
   "outputs": [
    {
     "data": {
      "text/plain": [
       "'@blurdotnet No need to continue the struggle. Were here and we can help. DM us for info about switching. https://t.co/ELdSJM2Cq7\\n*OMV'"
      ]
     },
     "execution_count": 149,
     "metadata": {},
     "output_type": "execute_result"
    }
   ],
   "source": [
    "tweets.iloc[35536]['message']"
   ]
  },
  {
   "cell_type": "code",
   "execution_count": 244,
   "metadata": {
    "collapsed": false
   },
   "outputs": [],
   "source": [
    "bigram = Phrases(tweetList)"
   ]
  },
  {
   "cell_type": "code",
   "execution_count": 250,
   "metadata": {
    "collapsed": false
   },
   "outputs": [
    {
     "name": "stdout",
     "output_type": "stream",
     "text": [
      "[['wed', 'give', 'week', 'ship', 'super', 'sorry', u'delay', 'email', 'need', u'detail']]\n"
     ]
    }
   ],
   "source": [
    "#from gensim.models import Phrases\n",
    "\n",
    "\n",
    "#print bigram[tweetList[152:153]]\n",
    "\n",
    "test     = bigram[tweetList[152:153]]\n",
    "#testDict = Phrases(tweetList[152:153])\n",
    "\n",
    "testDict =  corpora.Dictionary(test)\n",
    "#print bigram[tweetList[152:153]]\n",
    "print test.corpus\n",
    "#phraseTest = Phrases(tweetList[152:153])\n"
   ]
  },
  {
   "cell_type": "code",
   "execution_count": 221,
   "metadata": {
    "collapsed": false
   },
   "outputs": [
    {
     "name": "stdout",
     "output_type": "stream",
     "text": [
      "[u'wed', u'give', u'week', u'ship', u'super', u'sorry_delay', u'email', u'need', u'detail']\n",
      "[u'awesome', u'thanks', u'enjoy']\n",
      "[u'yep', u'many', u'awesome', u'also', u'make', u'slow', u'awesome']\n",
      "[u'weve', u'already', u'started', u'packaging', u'order_placed', u'probably', u'wont', u'arrive', u'later', u'next_week']\n",
      "[u'well', u'dm', u'bit', u'checking', u'order', u'right']\n",
      "[u'well', u'check', u'whats', u'order_#']\n",
      "[u'theyre', u'already', u'going', u'butt-ton', u'thats', u'slow']\n",
      "[u'ready', u'rock_fuck']\n",
      "[u'either', u'one', u'work']\n",
      "[u'friend', u'bubble', u'tea', u'friend']\n",
      "[]\n",
      "[u'prob', u'starting', u'catch', u'dec_order', u'going', u'take', u'week', u'ship', u'sorry']\n",
      "[u'going', u'little', u'slow', u'inbox-diving', u'someone', u'get', u'back', u'couple', u'minute']\n",
      "[u'sad', u'say', u'wont', u'make', u'time', u'definitely', u'week', u'school', u'well', u'make_sure']\n",
      "[u'thats', u'correct']\n",
      "[u'totally', u'whats', u'order_#', u'also', u'start', u'school']\n",
      "[u'email', u'order_#', u'well', u'give', u'update', u'within', u'support']\n",
      "[u'oh_man', u'sorry', u'well', u'package', u'new', u'poster', u'seal', u'tube', u'tight', u'possible', u'sending', u'asap']\n",
      "[u'case', u'whats', u'order_#']\n",
      "[u'thats', u'totally', u'fixable', u'whats', u'order_#', u'well', u'email', u'soon']\n",
      "[u'well', u'someone', u'get', u'back', u'within', u'sorry_delay']\n",
      "[u'let_know', u'get', u'contact', u'well', u'see', u'whats']\n",
      "[u'local', u'post_office', u'leave_note', u'pick', u're-delivery', u'leats', u'thats']\n",
      "[u'support']\n",
      "[u'sound_like', u'possible', u'address', u'issue', u'could', u'email', u'detail', u'someone', u'get', u'back', u'today', u'sorry']\n",
      "[u'theyre', u'already', u'sent', u'trying', u'catch', u'dec_order']\n",
      "[u'yup', u'started', u'going', u'week', u'keep', u'shipping', u'early_next', u'week', u'dec_order', u'finally', u'catching']\n",
      "[u'grump-o-lishish', u'bap', u'starbomb', u'swag', u'love', u'burgie', u'made', u'true', u'guy', u'<']\n",
      "[u'see', u'making']\n",
      "[u'love', u'hear', u'awesome', u'thats', u'heard']\n",
      "[u'like_think', u'xmas', u'isnt', u'shirt', u'get', u'way', u'next_week', u'youre', u'good', u'friend']\n",
      "[u'seems', u'shipping', u'error', u'usps', u'checking', u'end', u'last', u'spoke', u'let', u'see', u'tell', u'tomorrow']\n",
      "[u'well', u'someone', u'get', u'back', u'within', u'sorry', u'wait']\n",
      "[u'glad', u'half-assed', u'attempt', u'art', u'appreciated']\n",
      "[u'follow_dm']\n",
      "[u'way', u'next_week']\n",
      "[u'thanks']\n",
      "[u'order_#', u'right']\n",
      "[u'well', u'check', u'usps', u'let', u'see', u'whats', u'package']\n",
      "[u'youre', u'totally', u'right', u'ship', u'shirt', u'worldwide', u'cant', u'ship', u'danny', u'brian', u'working']\n",
      "[u'two', u'still', u'early']\n",
      "[u'hotel', u'fun', u'shirt', u'forever']\n",
      "[u'grump_shirt', u'finally', u'arrived', u'thank', u'guy_rock']\n",
      "[u'well', u'sure', u'ship']\n",
      "[u'yup', u'best', u'option', u'make_sure', u'poster', u'arrive', u'best', u'possible', u'condition', u'sorry']\n",
      "[u'week', u'dec', u'starting', u'ship', u'next_week']\n",
      "[u'sorry_delay', u'feel_free', u'email', u'need', u'detail', u'support']\n",
      "[u'dec_order', u'starting', u'make', u'way', u'week', u'shipping_confirmation', u'get', u'next_week']\n"
     ]
    }
   ],
   "source": [
    "for i in range(152,200):\n",
    "    print bigram[tweetList[i]]"
   ]
  },
  {
   "cell_type": "code",
   "execution_count": null,
   "metadata": {
    "collapsed": true
   },
   "outputs": [],
   "source": []
  },
  {
   "cell_type": "code",
   "execution_count": null,
   "metadata": {
    "collapsed": true
   },
   "outputs": [],
   "source": []
  },
  {
   "cell_type": "code",
   "execution_count": null,
   "metadata": {
    "collapsed": true
   },
   "outputs": [],
   "source": []
  },
  {
   "cell_type": "code",
   "execution_count": 492,
   "metadata": {
    "collapsed": false
   },
   "outputs": [],
   "source": [
    "#lda"
   ]
  },
  {
   "cell_type": "code",
   "execution_count": 430,
   "metadata": {
    "collapsed": false
   },
   "outputs": [],
   "source": [
    "tfidf_lda= models.ldamodel.LdaModel(corpus_tfidf, id2word=dictionary, num_topics=8, passes = 10,\n",
    "    iterations=50)"
   ]
  },
  {
   "cell_type": "code",
   "execution_count": 432,
   "metadata": {
    "collapsed": false
   },
   "outputs": [],
   "source": [
    "topTopicsTfIdf = tfidf_lda.top_topics(corpus_tfidf)"
   ]
  },
  {
   "cell_type": "code",
   "execution_count": 516,
   "metadata": {
    "collapsed": false
   },
   "outputs": [],
   "source": [
    "#topTopicsTfIdf\n",
    "#pyLDAvis.gensim.prepare(tfidf_lda, corpus_tfidf, dictionary)"
   ]
  },
  {
   "cell_type": "code",
   "execution_count": 291,
   "metadata": {
    "collapsed": false
   },
   "outputs": [],
   "source": [
    "frq = nltk.FreqDist(tweetList[3])"
   ]
  },
  {
   "cell_type": "code",
   "execution_count": 301,
   "metadata": {
    "collapsed": false
   },
   "outputs": [
    {
     "data": {
      "text/plain": [
       "['in', 'a', 'delivered', 'Dec.', 'emailed', 'Florida,']"
      ]
     },
     "execution_count": 301,
     "metadata": {},
     "output_type": "execute_result"
    }
   ],
   "source": [
    "polstops = [w[0] for w in frq.most_common(int(0.3*len(frq)))]\n",
    "polstops"
   ]
  },
  {
   "cell_type": "code",
   "execution_count": 307,
   "metadata": {
    "collapsed": false
   },
   "outputs": [
    {
     "data": {
      "text/plain": [
       "[('in', 2),\n",
       " ('a', 1),\n",
       " ('delivered', 1),\n",
       " ('Dec.', 1),\n",
       " ('emailed', 1),\n",
       " ('Florida,', 1)]"
      ]
     },
     "execution_count": 307,
     "metadata": {},
     "output_type": "execute_result"
    }
   ],
   "source": [
    "frq.most_common(int(0.3*len(frq)))"
   ]
  },
  {
   "cell_type": "code",
   "execution_count": 302,
   "metadata": {
    "collapsed": false
   },
   "outputs": [
    {
     "data": {
      "text/plain": [
       "['in', 'a']"
      ]
     },
     "execution_count": 302,
     "metadata": {},
     "output_type": "execute_result"
    }
   ],
   "source": [
    "[w[0] for w in frq.most_common(int(0.1*len(frq)))]"
   ]
  },
  {
   "cell_type": "code",
   "execution_count": 303,
   "metadata": {
    "collapsed": false
   },
   "outputs": [
    {
     "data": {
      "text/plain": [
       "['@LordEstevez',\n",
       " 'found',\n",
       " 'it!',\n",
       " 'It',\n",
       " 'actually',\n",
       " 'shows',\n",
       " 'up',\n",
       " 'as',\n",
       " 'to',\n",
       " 'mailbox',\n",
       " 'back',\n",
       " 'Have',\n",
       " 'you',\n",
       " 'us',\n",
       " 'before?']"
      ]
     },
     "execution_count": 303,
     "metadata": {},
     "output_type": "execute_result"
    }
   ],
   "source": [
    "[word for word in tweetList[3] if word not in polstops]"
   ]
  },
  {
   "cell_type": "code",
   "execution_count": null,
   "metadata": {
    "collapsed": false
   },
   "outputs": [],
   "source": [
    "secTweetList = [[word for word in s if word not in polstops] for s in speeches]    "
   ]
  },
  {
   "cell_type": "code",
   "execution_count": null,
   "metadata": {
    "collapsed": true
   },
   "outputs": [],
   "source": []
  },
  {
   "cell_type": "code",
   "execution_count": 436,
   "metadata": {
    "collapsed": false
   },
   "outputs": [
    {
     "name": "stdout",
     "output_type": "stream",
     "text": [
      "@johaoanchapaxi Hello Johao! You can get info on all job openings at https://t.co/b4CIfugVMw.\n",
      "@zakstaxi ...resetting app preferences. Let me know if either of these steps gets one of the symbols to come off.  JustinS 4/4\n",
      "@zakstaxi ...doesnt work the next thing I recommend doing is going into settings, apps, then click the menu button and try... 3/4\n",
      "@zakstaxi ...Data and then click OK to clear the temporary data. You wont lose any personal information when you do this. If this... 2/4\n",
      "@zakstaxi Lets try doing this first. Can you go into settings, storage, once the next screen finishes calculating click on Cached... 1/4\n",
      "@zakstaxi ...phone is rebooted? JustinS 2/2\n",
      "@zakstaxi You dont happen to have any download booster application do you Zack? Also do the icons both stay at the top when the... 1/2\n",
      "@zakstaxi ...under the LTE symbol ever light up, or do they stay off white the whole time?  JustinS 2/2\n",
      "@zakstaxi Ive been researching this issue for you Zack. Nothing is turning up so far. When both symbols are active, do the arrows... 1/2\n",
      "@zakstaxi ...and find out for you!  JustinS 2/2\n",
      "@zakstaxi Thanks for reaching out Zack. What kind of phone are you seeing both those icons on? Would love to investigate this further... 1/2\n",
      "@_blackmexi That is a solid question and lets take a look! Is this Nome Alaska? Did this start recently? *RickD\n",
      "@VillalobosLexi Hello, this is Curtis. I will be happy to look into this. Please DM your name, delivery address, tracking & phone number.\n",
      "@NikeStoreJapan @nikestore \n",
      "kobe xi elite low ?EP????\n",
      "@nikestore so kobe id went from x 245 to xi 265....265!!!!!!!!!!!!!!!!!!  wtf..wtffff....i will just went only for multicolor then..\n",
      "@TMobileHelp having issues with one touch pixi 7 tablet..didnt recognize password did a hard reset now it wont allow me to search goo play\n",
      "@AmazonHelp expédié par Amazon, vendu par tinxi shop.. jaimerais juste avoir un écran en bon état..\n"
     ]
    }
   ],
   "source": [
    "for i in tweets['message']:\n",
    "    if 'xi ' in i:\n",
    "        print i\n",
    "\n",
    "#'Just' in tweets['message'].iloc[0]"
   ]
  },
  {
   "cell_type": "code",
   "execution_count": null,
   "metadata": {
    "collapsed": true
   },
   "outputs": [],
   "source": [
    "iter"
   ]
  },
  {
   "cell_type": "code",
   "execution_count": null,
   "metadata": {
    "collapsed": true
   },
   "outputs": [],
   "source": []
  },
  {
   "cell_type": "code",
   "execution_count": 424,
   "metadata": {
    "collapsed": false
   },
   "outputs": [
    {
     "data": {
      "text/html": [
       "<div>\n",
       "<table border=\"1\" class=\"dataframe\">\n",
       "  <thead>\n",
       "    <tr style=\"text-align: right;\">\n",
       "      <th></th>\n",
       "      <th>account</th>\n",
       "      <th>from_handler</th>\n",
       "      <th>to_handler</th>\n",
       "      <th>message</th>\n",
       "      <th>time_stamp</th>\n",
       "      <th>tweet_id</th>\n",
       "    </tr>\n",
       "    <tr>\n",
       "      <th>id</th>\n",
       "      <th></th>\n",
       "      <th></th>\n",
       "      <th></th>\n",
       "      <th></th>\n",
       "      <th></th>\n",
       "      <th></th>\n",
       "    </tr>\n",
       "  </thead>\n",
       "  <tbody>\n",
       "    <tr>\n",
       "      <th>1</th>\n",
       "      <td>@1ShirtSupport</td>\n",
       "      <td>@1ShirtSupport</td>\n",
       "      <td>@PissedOffBiotic</td>\n",
       "      <td>@PissedOffBiotic You got it! Just email us you...</td>\n",
       "      <td>01/18/2016 05:09:13</td>\n",
       "      <td>688951251455754241</td>\n",
       "    </tr>\n",
       "    <tr>\n",
       "      <th>2</th>\n",
       "      <td>@1ShirtSupport</td>\n",
       "      <td>@1ShirtSupport</td>\n",
       "      <td>@LordEstevez</td>\n",
       "      <td>@LordEstevez Thanks for the info! Well check o...</td>\n",
       "      <td>01/18/2016 02:38:39</td>\n",
       "      <td>688913360679653376</td>\n",
       "    </tr>\n",
       "    <tr>\n",
       "      <th>3</th>\n",
       "      <td>@1ShirtSupport</td>\n",
       "      <td>@1ShirtSupport</td>\n",
       "      <td>@LordEstevez</td>\n",
       "      <td>@LordEstevez Just want to make sure we have al...</td>\n",
       "      <td>01/18/2016 02:15:10</td>\n",
       "      <td>688907453212184576</td>\n",
       "    </tr>\n",
       "    <tr>\n",
       "      <th>4</th>\n",
       "      <td>@1ShirtSupport</td>\n",
       "      <td>@1ShirtSupport</td>\n",
       "      <td>@LordEstevez</td>\n",
       "      <td>@LordEstevez found it! It actually shows up as...</td>\n",
       "      <td>01/18/2016 02:14:24</td>\n",
       "      <td>688907258206367744</td>\n",
       "    </tr>\n",
       "    <tr>\n",
       "      <th>5</th>\n",
       "      <td>@1ShirtSupport</td>\n",
       "      <td>@1ShirtSupport</td>\n",
       "      <td>@LightingAshley</td>\n",
       "      <td>@LightingAshley It should be just about to be ...</td>\n",
       "      <td>01/18/2016 01:39:32</td>\n",
       "      <td>688898486025060352</td>\n",
       "    </tr>\n",
       "    <tr>\n",
       "      <th>6</th>\n",
       "      <td>@1ShirtSupport</td>\n",
       "      <td>@1ShirtSupport</td>\n",
       "      <td>@LordEstevez</td>\n",
       "      <td>@LordEstevez Thats actually the tracking #, bu...</td>\n",
       "      <td>01/18/2016 01:38:07</td>\n",
       "      <td>688898129471471616</td>\n",
       "    </tr>\n",
       "    <tr>\n",
       "      <th>7</th>\n",
       "      <td>@1ShirtSupport</td>\n",
       "      <td>@1ShirtSupport</td>\n",
       "      <td>@LordEstevez</td>\n",
       "      <td>@LordEstevez Whats the Order #? Well give you ...</td>\n",
       "      <td>01/18/2016 01:16:00</td>\n",
       "      <td>688892562040434688</td>\n",
       "    </tr>\n",
       "    <tr>\n",
       "      <th>8</th>\n",
       "      <td>@1ShirtSupport</td>\n",
       "      <td>@1ShirtSupport</td>\n",
       "      <td>@lukmills</td>\n",
       "      <td>@lukmills We just got to it! Well email you ba...</td>\n",
       "      <td>01/18/2016 00:35:26</td>\n",
       "      <td>688882355377864704</td>\n",
       "    </tr>\n",
       "    <tr>\n",
       "      <th>9</th>\n",
       "      <td>@1ShirtSupport</td>\n",
       "      <td>@1ShirtSupport</td>\n",
       "      <td>@TWRPband</td>\n",
       "      <td>SOON. @TWRPband https://t.co/ewdVnFKHoL</td>\n",
       "      <td>01/17/2016 20:04:52</td>\n",
       "      <td>688814262949552128</td>\n",
       "    </tr>\n",
       "    <tr>\n",
       "      <th>10</th>\n",
       "      <td>@1ShirtSupport</td>\n",
       "      <td>@1ShirtSupport</td>\n",
       "      <td>@GiorgioFan255</td>\n",
       "      <td>@GiorgioFan255 Awww, well make sure its sooner...</td>\n",
       "      <td>01/17/2016 07:11:02</td>\n",
       "      <td>688619521263800320</td>\n",
       "    </tr>\n",
       "    <tr>\n",
       "      <th>11</th>\n",
       "      <td>@1ShirtSupport</td>\n",
       "      <td>@1ShirtSupport</td>\n",
       "      <td>@kittenlovesart</td>\n",
       "      <td>@kittenlovesart Should arrive anytime in the n...</td>\n",
       "      <td>01/17/2016 03:25:27</td>\n",
       "      <td>688562750348345344</td>\n",
       "    </tr>\n",
       "    <tr>\n",
       "      <th>12</th>\n",
       "      <td>@1ShirtSupport</td>\n",
       "      <td>@1ShirtSupport</td>\n",
       "      <td>@kittenlovesart</td>\n",
       "      <td>@kittenlovesart We believe it may have already...</td>\n",
       "      <td>01/17/2016 02:33:59</td>\n",
       "      <td>688549799272923136</td>\n",
       "    </tr>\n",
       "    <tr>\n",
       "      <th>13</th>\n",
       "      <td>@1ShirtSupport</td>\n",
       "      <td>@1ShirtSupport</td>\n",
       "      <td>@BeanieBambino</td>\n",
       "      <td>@BeanieBambino Should be heading out sometime ...</td>\n",
       "      <td>01/17/2016 02:33:13</td>\n",
       "      <td>688549608423723008</td>\n",
       "    </tr>\n",
       "    <tr>\n",
       "      <th>14</th>\n",
       "      <td>@1ShirtSupport</td>\n",
       "      <td>@1ShirtSupport</td>\n",
       "      <td>@BeanieBambino</td>\n",
       "      <td>@BeanieBambino Whats your Order #, Bambino?</td>\n",
       "      <td>01/17/2016 00:45:31</td>\n",
       "      <td>688522504743206912</td>\n",
       "    </tr>\n",
       "    <tr>\n",
       "      <th>15</th>\n",
       "      <td>@1ShirtSupport</td>\n",
       "      <td>@1ShirtSupport</td>\n",
       "      <td>@Jack_Septic_Eye</td>\n",
       "      <td>Sam! Sniper Wolfs new HQ buddy! @Jack_Septic_E...</td>\n",
       "      <td>01/17/2016 00:12:26</td>\n",
       "      <td>688514175769808896</td>\n",
       "    </tr>\n",
       "    <tr>\n",
       "      <th>16</th>\n",
       "      <td>@1ShirtSupport</td>\n",
       "      <td>@1ShirtSupport</td>\n",
       "      <td>@aesthetique</td>\n",
       "      <td>@aesthetique Yup, no worries at all :)</td>\n",
       "      <td>01/16/2016 23:09:24</td>\n",
       "      <td>688498315533533184</td>\n",
       "    </tr>\n",
       "    <tr>\n",
       "      <th>17</th>\n",
       "      <td>@1ShirtSupport</td>\n",
       "      <td>@1ShirtSupport</td>\n",
       "      <td>@@1ShirtSupport</td>\n",
       "      <td>We arted. https://t.co/a3LPG9MEat</td>\n",
       "      <td>01/16/2016 22:51:49</td>\n",
       "      <td>688493887631958016</td>\n",
       "    </tr>\n",
       "    <tr>\n",
       "      <th>18</th>\n",
       "      <td>@1ShirtSupport</td>\n",
       "      <td>@1ShirtSupport</td>\n",
       "      <td>@DutRank</td>\n",
       "      <td>@DutRank Posters are being shipped separately,...</td>\n",
       "      <td>01/16/2016 22:15:56</td>\n",
       "      <td>688484860311162880</td>\n",
       "    </tr>\n",
       "    <tr>\n",
       "      <th>19</th>\n",
       "      <td>@1ShirtSupport</td>\n",
       "      <td>@1ShirtSupport</td>\n",
       "      <td>@Official_Antony</td>\n",
       "      <td>@Official_Antony Support @ https://t.co/o7FBKO...</td>\n",
       "      <td>01/16/2016 18:36:56</td>\n",
       "      <td>688429744367378432</td>\n",
       "    </tr>\n",
       "    <tr>\n",
       "      <th>20</th>\n",
       "      <td>@1ShirtSupport</td>\n",
       "      <td>@1ShirtSupport</td>\n",
       "      <td>@Official_Antony</td>\n",
       "      <td>@Official_Antony Should be on its way out by n...</td>\n",
       "      <td>01/16/2016 18:36:41</td>\n",
       "      <td>688429683721912320</td>\n",
       "    </tr>\n",
       "    <tr>\n",
       "      <th>21</th>\n",
       "      <td>@1ShirtSupport</td>\n",
       "      <td>@1ShirtSupport</td>\n",
       "      <td>@claydan</td>\n",
       "      <td>@claydan Sure thing! Just started on Dec. orde...</td>\n",
       "      <td>01/16/2016 18:35:01</td>\n",
       "      <td>688429263914012672</td>\n",
       "    </tr>\n",
       "    <tr>\n",
       "      <th>22</th>\n",
       "      <td>@1ShirtSupport</td>\n",
       "      <td>@1ShirtSupport</td>\n",
       "      <td>@corruptedgem</td>\n",
       "      <td>@corruptedgem Most likely by end of January, w...</td>\n",
       "      <td>01/16/2016 16:24:01</td>\n",
       "      <td>688396295858294784</td>\n",
       "    </tr>\n",
       "    <tr>\n",
       "      <th>23</th>\n",
       "      <td>@1ShirtSupport</td>\n",
       "      <td>@1ShirtSupport</td>\n",
       "      <td>@Derplier</td>\n",
       "      <td>@Derplier Should be on its way out, you should...</td>\n",
       "      <td>01/16/2016 05:57:48</td>\n",
       "      <td>688238701852266496</td>\n",
       "    </tr>\n",
       "    <tr>\n",
       "      <th>24</th>\n",
       "      <td>@1ShirtSupport</td>\n",
       "      <td>@1ShirtSupport</td>\n",
       "      <td>@grumpbean</td>\n",
       "      <td>@grumpbean We got your back ;)</td>\n",
       "      <td>01/16/2016 04:36:32</td>\n",
       "      <td>688218250723737603</td>\n",
       "    </tr>\n",
       "    <tr>\n",
       "      <th>25</th>\n",
       "      <td>@1ShirtSupport</td>\n",
       "      <td>@1ShirtSupport</td>\n",
       "      <td>@DinyRoar</td>\n",
       "      <td>@DinyRoar Sneaky Mama ?? Enjoy!</td>\n",
       "      <td>01/16/2016 04:30:04</td>\n",
       "      <td>688216625019944960</td>\n",
       "    </tr>\n",
       "    <tr>\n",
       "      <th>26</th>\n",
       "      <td>@1ShirtSupport</td>\n",
       "      <td>@1ShirtSupport</td>\n",
       "      <td>@Spoofy07</td>\n",
       "      <td>@Spoofy07 Should be on its way out next week.....</td>\n",
       "      <td>01/16/2016 04:26:54</td>\n",
       "      <td>688215826168598528</td>\n",
       "    </tr>\n",
       "    <tr>\n",
       "      <th>27</th>\n",
       "      <td>@1ShirtSupport</td>\n",
       "      <td>@1ShirtSupport</td>\n",
       "      <td>@liROBOTil</td>\n",
       "      <td>@liROBOTil Dec orders are just starting to go ...</td>\n",
       "      <td>01/16/2016 04:22:28</td>\n",
       "      <td>688214712643801088</td>\n",
       "    </tr>\n",
       "    <tr>\n",
       "      <th>28</th>\n",
       "      <td>@1ShirtSupport</td>\n",
       "      <td>@1ShirtSupport</td>\n",
       "      <td>@liROBOTil</td>\n",
       "      <td>@liROBOTil We suck :( Were being slow, and we ...</td>\n",
       "      <td>01/16/2016 00:15:19</td>\n",
       "      <td>688152514688991233</td>\n",
       "    </tr>\n",
       "    <tr>\n",
       "      <th>29</th>\n",
       "      <td>@1ShirtSupport</td>\n",
       "      <td>@1ShirtSupport</td>\n",
       "      <td>@DinyRoar</td>\n",
       "      <td>@DinyRoar Oh no! Have you tried contacting you...</td>\n",
       "      <td>01/16/2016 00:14:16</td>\n",
       "      <td>688152250829557760</td>\n",
       "    </tr>\n",
       "    <tr>\n",
       "      <th>30</th>\n",
       "      <td>@1ShirtSupport</td>\n",
       "      <td>@1ShirtSupport</td>\n",
       "      <td>@LavenderTsul</td>\n",
       "      <td>@LavenderTsul A majestic Barrycorn has appeare...</td>\n",
       "      <td>01/15/2016 22:58:35</td>\n",
       "      <td>688133203081613314</td>\n",
       "    </tr>\n",
       "    <tr>\n",
       "      <th>...</th>\n",
       "      <td>...</td>\n",
       "      <td>...</td>\n",
       "      <td>...</td>\n",
       "      <td>...</td>\n",
       "      <td>...</td>\n",
       "      <td>...</td>\n",
       "    </tr>\n",
       "    <tr>\n",
       "      <th>110428</th>\n",
       "      <td>@Hootsuite_Help</td>\n",
       "      <td>@mfcannon</td>\n",
       "      <td>@Hootsuite_Help</td>\n",
       "      <td>Why don’t quotes appear in mentions? Why can’t...</td>\n",
       "      <td>01/16/2016 16:06:40</td>\n",
       "      <td>688391928505856001</td>\n",
       "    </tr>\n",
       "    <tr>\n",
       "      <th>110429</th>\n",
       "      <td>@Hootsuite_Help</td>\n",
       "      <td>@AARiveraBrito</td>\n",
       "      <td>@Hootsuite_Help</td>\n",
       "      <td>@Hootsuite_Help Hello, Im trying to pay my acc...</td>\n",
       "      <td>01/16/2016 16:03:43</td>\n",
       "      <td>688391187628081152</td>\n",
       "    </tr>\n",
       "    <tr>\n",
       "      <th>110430</th>\n",
       "      <td>@Hootsuite_Help</td>\n",
       "      <td>@MrButlerFan</td>\n",
       "      <td>@voice_compass</td>\n",
       "      <td>TOP #ReTweeters! :-) @voice_compass @Hootsuite...</td>\n",
       "      <td>01/16/2016 15:56:14</td>\n",
       "      <td>688389303479631873</td>\n",
       "    </tr>\n",
       "    <tr>\n",
       "      <th>110431</th>\n",
       "      <td>@Hootsuite_Help</td>\n",
       "      <td>@richcakebass</td>\n",
       "      <td>@Hootsuite_Help</td>\n",
       "      <td>@Hootsuite_Help Whats the use of the added sec...</td>\n",
       "      <td>01/16/2016 15:54:19</td>\n",
       "      <td>688388823349248001</td>\n",
       "    </tr>\n",
       "    <tr>\n",
       "      <th>110432</th>\n",
       "      <td>@Hootsuite_Help</td>\n",
       "      <td>@richcakebass</td>\n",
       "      <td>@Hootsuite_Help</td>\n",
       "      <td>@Hootsuite_Help also, again: Does it mean that...</td>\n",
       "      <td>01/16/2016 15:54:04</td>\n",
       "      <td>688388760690540544</td>\n",
       "    </tr>\n",
       "    <tr>\n",
       "      <th>110433</th>\n",
       "      <td>@Hootsuite_Help</td>\n",
       "      <td>@richcakebass</td>\n",
       "      <td>@Hootsuite_Help</td>\n",
       "      <td>@Hootsuite_Help what is the use of having goog...</td>\n",
       "      <td>01/16/2016 15:47:41</td>\n",
       "      <td>688387150845317120</td>\n",
       "    </tr>\n",
       "    <tr>\n",
       "      <th>110434</th>\n",
       "      <td>@Hootsuite_Help</td>\n",
       "      <td>@richcakebass</td>\n",
       "      <td>@Hootsuite_Help</td>\n",
       "      <td>@Hootsuite_Help Also, does that mean that if I...</td>\n",
       "      <td>01/16/2016 15:47:20</td>\n",
       "      <td>688387064392372224</td>\n",
       "    </tr>\n",
       "    <tr>\n",
       "      <th>110435</th>\n",
       "      <td>@Hootsuite_Help</td>\n",
       "      <td>@richcakebass</td>\n",
       "      <td>@Hootsuite_Help</td>\n",
       "      <td>@Hootsuite_Help Yes, I have. What is confusing...</td>\n",
       "      <td>01/16/2016 15:45:52</td>\n",
       "      <td>688386697441050625</td>\n",
       "    </tr>\n",
       "    <tr>\n",
       "      <th>110436</th>\n",
       "      <td>@Hootsuite_Help</td>\n",
       "      <td>@DealSoop</td>\n",
       "      <td>@Hootsuite_Help</td>\n",
       "      <td>@Hootsuite_Help Do you post everyday  with the...</td>\n",
       "      <td>01/16/2016 15:41:26</td>\n",
       "      <td>688385578052747265</td>\n",
       "    </tr>\n",
       "    <tr>\n",
       "      <th>110437</th>\n",
       "      <td>@Hootsuite_Help</td>\n",
       "      <td>@richcakebass</td>\n",
       "      <td>@Hootsuite_Help</td>\n",
       "      <td>@Hootsuite_Help I need some help setting up Ho...</td>\n",
       "      <td>01/16/2016 15:36:06</td>\n",
       "      <td>688384236600991744</td>\n",
       "    </tr>\n",
       "    <tr>\n",
       "      <th>110438</th>\n",
       "      <td>@Hootsuite_Help</td>\n",
       "      <td>@DealSoop</td>\n",
       "      <td>@Hootsuite_Help</td>\n",
       "      <td>@Hootsuite_Help What does the autoschedule mean ?</td>\n",
       "      <td>01/16/2016 14:42:07</td>\n",
       "      <td>688370654316462080</td>\n",
       "    </tr>\n",
       "    <tr>\n",
       "      <th>110439</th>\n",
       "      <td>@Hootsuite_Help</td>\n",
       "      <td>@russel_winder</td>\n",
       "      <td>@Hootsuite_Help</td>\n",
       "      <td>@Hootsuite_Help OK. Ill have to see if I can \"...</td>\n",
       "      <td>01/16/2016 14:24:34</td>\n",
       "      <td>688366234451230720</td>\n",
       "    </tr>\n",
       "    <tr>\n",
       "      <th>110440</th>\n",
       "      <td>@Hootsuite_Help</td>\n",
       "      <td>@russel_winder</td>\n",
       "      <td>@Hootsuite_Help</td>\n",
       "      <td>@Hootsuite_Help Uuurrr... I am using Linux. I ...</td>\n",
       "      <td>01/16/2016 14:04:15</td>\n",
       "      <td>688361121313607680</td>\n",
       "    </tr>\n",
       "    <tr>\n",
       "      <th>110441</th>\n",
       "      <td>@Hootsuite_Help</td>\n",
       "      <td>@russel_winder</td>\n",
       "      <td>@Hootsuite_Help</td>\n",
       "      <td>@HootSuite_Help is there any way of getting \"n...</td>\n",
       "      <td>01/16/2016 13:56:56</td>\n",
       "      <td>688359281402507264</td>\n",
       "    </tr>\n",
       "    <tr>\n",
       "      <th>110442</th>\n",
       "      <td>@Hootsuite_Help</td>\n",
       "      <td>@PSPoloNews</td>\n",
       "      <td>@Hootsuite_Help</td>\n",
       "      <td>@Hootsuite_Help I DMed you my email address. T...</td>\n",
       "      <td>01/16/2016 13:05:24</td>\n",
       "      <td>688346312471789568</td>\n",
       "    </tr>\n",
       "    <tr>\n",
       "      <th>110443</th>\n",
       "      <td>@Hootsuite_Help</td>\n",
       "      <td>@Skyewalkereena</td>\n",
       "      <td>@Hootsuite_Help</td>\n",
       "      <td>@Hootsuite_Help Ive posted the idea and gladly...</td>\n",
       "      <td>01/16/2016 11:46:27</td>\n",
       "      <td>688326442988482560</td>\n",
       "    </tr>\n",
       "    <tr>\n",
       "      <th>110444</th>\n",
       "      <td>@Hootsuite_Help</td>\n",
       "      <td>@KateBendix</td>\n",
       "      <td>@Hootsuite_Help</td>\n",
       "      <td>@Hootsuite_Help Really? Because that was two d...</td>\n",
       "      <td>01/16/2016 06:55:03</td>\n",
       "      <td>688253110079258624</td>\n",
       "    </tr>\n",
       "    <tr>\n",
       "      <th>110445</th>\n",
       "      <td>@Hootsuite_Help</td>\n",
       "      <td>@joshicsin</td>\n",
       "      <td>@Hootsuite_Help</td>\n",
       "      <td>@Hootsuite_Help ^CB, same to you! :)</td>\n",
       "      <td>01/16/2016 06:24:42</td>\n",
       "      <td>688245473509941248</td>\n",
       "    </tr>\n",
       "    <tr>\n",
       "      <th>110446</th>\n",
       "      <td>@Hootsuite_Help</td>\n",
       "      <td>@joshicsin</td>\n",
       "      <td>@Hootsuite_Help</td>\n",
       "      <td>@Hootsuite_Help Thank you. I really appreciate...</td>\n",
       "      <td>01/16/2016 06:20:42</td>\n",
       "      <td>688244468596654080</td>\n",
       "    </tr>\n",
       "    <tr>\n",
       "      <th>110447</th>\n",
       "      <td>@Hootsuite_Help</td>\n",
       "      <td>@joshicsin</td>\n",
       "      <td>@Hootsuite_Help</td>\n",
       "      <td>@Hootsuite_Help Yes, it is. You can also check...</td>\n",
       "      <td>01/16/2016 06:13:14</td>\n",
       "      <td>688242588399190017</td>\n",
       "    </tr>\n",
       "    <tr>\n",
       "      <th>110448</th>\n",
       "      <td>@Hootsuite_Help</td>\n",
       "      <td>@joshicsin</td>\n",
       "      <td>@Hootsuite_Help</td>\n",
       "      <td>@Hootsuite_Help Just make sure, your subscript...</td>\n",
       "      <td>01/16/2016 06:08:45</td>\n",
       "      <td>688241459959431169</td>\n",
       "    </tr>\n",
       "    <tr>\n",
       "      <th>110449</th>\n",
       "      <td>@Hootsuite_Help</td>\n",
       "      <td>@Skyewalkereena</td>\n",
       "      <td>@Hootsuite_Help</td>\n",
       "      <td>@Hootsuite_Help Understood. I think you should...</td>\n",
       "      <td>01/16/2016 05:50:09</td>\n",
       "      <td>688236779321737216</td>\n",
       "    </tr>\n",
       "    <tr>\n",
       "      <th>110450</th>\n",
       "      <td>@Hootsuite_Help</td>\n",
       "      <td>@joshicsin</td>\n",
       "      <td>@Hootsuite_Help</td>\n",
       "      <td>@Hootsuite_Help Sorry to say but your support ...</td>\n",
       "      <td>01/16/2016 05:44:38</td>\n",
       "      <td>688235390575091713</td>\n",
       "    </tr>\n",
       "    <tr>\n",
       "      <th>110451</th>\n",
       "      <td>@Hootsuite_Help</td>\n",
       "      <td>@PSPoloNews</td>\n",
       "      <td>@Hootsuite_Help</td>\n",
       "      <td>@Hootsuite_Help Its still not working. Not rec...</td>\n",
       "      <td>01/16/2016 00:32:48</td>\n",
       "      <td>688156916330045444</td>\n",
       "    </tr>\n",
       "    <tr>\n",
       "      <th>110452</th>\n",
       "      <td>@Hootsuite_Help</td>\n",
       "      <td>@EmilioLZ323</td>\n",
       "      <td>@jackygro</td>\n",
       "      <td>RT @jackygro: @Hootsuite_Help Can you connect ...</td>\n",
       "      <td>01/16/2016 00:29:46</td>\n",
       "      <td>688156151238623234</td>\n",
       "    </tr>\n",
       "    <tr>\n",
       "      <th>110453</th>\n",
       "      <td>@Hootsuite_Help</td>\n",
       "      <td>@PSPoloNews</td>\n",
       "      <td>@Hootsuite_Help</td>\n",
       "      <td>@Hootsuite_Help Yes, youve already asked me th...</td>\n",
       "      <td>01/16/2016 00:01:44</td>\n",
       "      <td>688149096406724609</td>\n",
       "    </tr>\n",
       "    <tr>\n",
       "      <th>110454</th>\n",
       "      <td>@Hootsuite_Help</td>\n",
       "      <td>@kabukibellenz</td>\n",
       "      <td>@Hootsuite_Help</td>\n",
       "      <td>@Hootsuite_Help  worked!</td>\n",
       "      <td>01/16/2016 00:01:29</td>\n",
       "      <td>688149034683371520</td>\n",
       "    </tr>\n",
       "    <tr>\n",
       "      <th>110455</th>\n",
       "      <td>@Hootsuite_Help</td>\n",
       "      <td>@PSPoloNews</td>\n",
       "      <td>@Hootsuite_Help</td>\n",
       "      <td>@Hootsuite_Help @Profile This one. (@pspolonews)</td>\n",
       "      <td>01/15/2016 23:58:58</td>\n",
       "      <td>688148400261300225</td>\n",
       "    </tr>\n",
       "    <tr>\n",
       "      <th>110456</th>\n",
       "      <td>@Hootsuite_Help</td>\n",
       "      <td>@PSPoloNews</td>\n",
       "      <td>@Hootsuite_Help</td>\n",
       "      <td>@Hootsuite_Help @PSPoloNews is the account</td>\n",
       "      <td>01/15/2016 23:57:35</td>\n",
       "      <td>688148053400752128</td>\n",
       "    </tr>\n",
       "    <tr>\n",
       "      <th>110457</th>\n",
       "      <td>@Hootsuite_Help</td>\n",
       "      <td>@PSPoloNews</td>\n",
       "      <td>@Hootsuite_Help</td>\n",
       "      <td>@Hootsuite_Help No, never got the notification...</td>\n",
       "      <td>01/15/2016 23:38:39</td>\n",
       "      <td>688143288231067648</td>\n",
       "    </tr>\n",
       "  </tbody>\n",
       "</table>\n",
       "<p>83195 rows × 6 columns</p>\n",
       "</div>"
      ],
      "text/plain": [
       "                account     from_handler        to_handler  \\\n",
       "id                                                           \n",
       "1        @1ShirtSupport   @1ShirtSupport  @PissedOffBiotic   \n",
       "2        @1ShirtSupport   @1ShirtSupport      @LordEstevez   \n",
       "3        @1ShirtSupport   @1ShirtSupport      @LordEstevez   \n",
       "4        @1ShirtSupport   @1ShirtSupport      @LordEstevez   \n",
       "5        @1ShirtSupport   @1ShirtSupport   @LightingAshley   \n",
       "6        @1ShirtSupport   @1ShirtSupport      @LordEstevez   \n",
       "7        @1ShirtSupport   @1ShirtSupport      @LordEstevez   \n",
       "8        @1ShirtSupport   @1ShirtSupport         @lukmills   \n",
       "9        @1ShirtSupport   @1ShirtSupport         @TWRPband   \n",
       "10       @1ShirtSupport   @1ShirtSupport    @GiorgioFan255   \n",
       "11       @1ShirtSupport   @1ShirtSupport   @kittenlovesart   \n",
       "12       @1ShirtSupport   @1ShirtSupport   @kittenlovesart   \n",
       "13       @1ShirtSupport   @1ShirtSupport    @BeanieBambino   \n",
       "14       @1ShirtSupport   @1ShirtSupport    @BeanieBambino   \n",
       "15       @1ShirtSupport   @1ShirtSupport  @Jack_Septic_Eye   \n",
       "16       @1ShirtSupport   @1ShirtSupport      @aesthetique   \n",
       "17       @1ShirtSupport   @1ShirtSupport   @@1ShirtSupport   \n",
       "18       @1ShirtSupport   @1ShirtSupport          @DutRank   \n",
       "19       @1ShirtSupport   @1ShirtSupport  @Official_Antony   \n",
       "20       @1ShirtSupport   @1ShirtSupport  @Official_Antony   \n",
       "21       @1ShirtSupport   @1ShirtSupport          @claydan   \n",
       "22       @1ShirtSupport   @1ShirtSupport     @corruptedgem   \n",
       "23       @1ShirtSupport   @1ShirtSupport         @Derplier   \n",
       "24       @1ShirtSupport   @1ShirtSupport        @grumpbean   \n",
       "25       @1ShirtSupport   @1ShirtSupport         @DinyRoar   \n",
       "26       @1ShirtSupport   @1ShirtSupport         @Spoofy07   \n",
       "27       @1ShirtSupport   @1ShirtSupport        @liROBOTil   \n",
       "28       @1ShirtSupport   @1ShirtSupport        @liROBOTil   \n",
       "29       @1ShirtSupport   @1ShirtSupport         @DinyRoar   \n",
       "30       @1ShirtSupport   @1ShirtSupport     @LavenderTsul   \n",
       "...                 ...              ...               ...   \n",
       "110428  @Hootsuite_Help        @mfcannon   @Hootsuite_Help   \n",
       "110429  @Hootsuite_Help   @AARiveraBrito   @Hootsuite_Help   \n",
       "110430  @Hootsuite_Help     @MrButlerFan    @voice_compass   \n",
       "110431  @Hootsuite_Help    @richcakebass   @Hootsuite_Help   \n",
       "110432  @Hootsuite_Help    @richcakebass   @Hootsuite_Help   \n",
       "110433  @Hootsuite_Help    @richcakebass   @Hootsuite_Help   \n",
       "110434  @Hootsuite_Help    @richcakebass   @Hootsuite_Help   \n",
       "110435  @Hootsuite_Help    @richcakebass   @Hootsuite_Help   \n",
       "110436  @Hootsuite_Help        @DealSoop   @Hootsuite_Help   \n",
       "110437  @Hootsuite_Help    @richcakebass   @Hootsuite_Help   \n",
       "110438  @Hootsuite_Help        @DealSoop   @Hootsuite_Help   \n",
       "110439  @Hootsuite_Help   @russel_winder   @Hootsuite_Help   \n",
       "110440  @Hootsuite_Help   @russel_winder   @Hootsuite_Help   \n",
       "110441  @Hootsuite_Help   @russel_winder   @Hootsuite_Help   \n",
       "110442  @Hootsuite_Help      @PSPoloNews   @Hootsuite_Help   \n",
       "110443  @Hootsuite_Help  @Skyewalkereena   @Hootsuite_Help   \n",
       "110444  @Hootsuite_Help      @KateBendix   @Hootsuite_Help   \n",
       "110445  @Hootsuite_Help       @joshicsin   @Hootsuite_Help   \n",
       "110446  @Hootsuite_Help       @joshicsin   @Hootsuite_Help   \n",
       "110447  @Hootsuite_Help       @joshicsin   @Hootsuite_Help   \n",
       "110448  @Hootsuite_Help       @joshicsin   @Hootsuite_Help   \n",
       "110449  @Hootsuite_Help  @Skyewalkereena   @Hootsuite_Help   \n",
       "110450  @Hootsuite_Help       @joshicsin   @Hootsuite_Help   \n",
       "110451  @Hootsuite_Help      @PSPoloNews   @Hootsuite_Help   \n",
       "110452  @Hootsuite_Help     @EmilioLZ323         @jackygro   \n",
       "110453  @Hootsuite_Help      @PSPoloNews   @Hootsuite_Help   \n",
       "110454  @Hootsuite_Help   @kabukibellenz   @Hootsuite_Help   \n",
       "110455  @Hootsuite_Help      @PSPoloNews   @Hootsuite_Help   \n",
       "110456  @Hootsuite_Help      @PSPoloNews   @Hootsuite_Help   \n",
       "110457  @Hootsuite_Help      @PSPoloNews   @Hootsuite_Help   \n",
       "\n",
       "                                                  message  \\\n",
       "id                                                          \n",
       "1       @PissedOffBiotic You got it! Just email us you...   \n",
       "2       @LordEstevez Thanks for the info! Well check o...   \n",
       "3       @LordEstevez Just want to make sure we have al...   \n",
       "4       @LordEstevez found it! It actually shows up as...   \n",
       "5       @LightingAshley It should be just about to be ...   \n",
       "6       @LordEstevez Thats actually the tracking #, bu...   \n",
       "7       @LordEstevez Whats the Order #? Well give you ...   \n",
       "8       @lukmills We just got to it! Well email you ba...   \n",
       "9                 SOON. @TWRPband https://t.co/ewdVnFKHoL   \n",
       "10      @GiorgioFan255 Awww, well make sure its sooner...   \n",
       "11      @kittenlovesart Should arrive anytime in the n...   \n",
       "12      @kittenlovesart We believe it may have already...   \n",
       "13      @BeanieBambino Should be heading out sometime ...   \n",
       "14            @BeanieBambino Whats your Order #, Bambino?   \n",
       "15      Sam! Sniper Wolfs new HQ buddy! @Jack_Septic_E...   \n",
       "16                 @aesthetique Yup, no worries at all :)   \n",
       "17                      We arted. https://t.co/a3LPG9MEat   \n",
       "18      @DutRank Posters are being shipped separately,...   \n",
       "19      @Official_Antony Support @ https://t.co/o7FBKO...   \n",
       "20      @Official_Antony Should be on its way out by n...   \n",
       "21      @claydan Sure thing! Just started on Dec. orde...   \n",
       "22      @corruptedgem Most likely by end of January, w...   \n",
       "23      @Derplier Should be on its way out, you should...   \n",
       "24                         @grumpbean We got your back ;)   \n",
       "25                        @DinyRoar Sneaky Mama ?? Enjoy!   \n",
       "26      @Spoofy07 Should be on its way out next week.....   \n",
       "27      @liROBOTil Dec orders are just starting to go ...   \n",
       "28      @liROBOTil We suck :( Were being slow, and we ...   \n",
       "29      @DinyRoar Oh no! Have you tried contacting you...   \n",
       "30      @LavenderTsul A majestic Barrycorn has appeare...   \n",
       "...                                                   ...   \n",
       "110428  Why don’t quotes appear in mentions? Why can’t...   \n",
       "110429  @Hootsuite_Help Hello, Im trying to pay my acc...   \n",
       "110430  TOP #ReTweeters! :-) @voice_compass @Hootsuite...   \n",
       "110431  @Hootsuite_Help Whats the use of the added sec...   \n",
       "110432  @Hootsuite_Help also, again: Does it mean that...   \n",
       "110433  @Hootsuite_Help what is the use of having goog...   \n",
       "110434  @Hootsuite_Help Also, does that mean that if I...   \n",
       "110435  @Hootsuite_Help Yes, I have. What is confusing...   \n",
       "110436  @Hootsuite_Help Do you post everyday  with the...   \n",
       "110437  @Hootsuite_Help I need some help setting up Ho...   \n",
       "110438  @Hootsuite_Help What does the autoschedule mean ?   \n",
       "110439  @Hootsuite_Help OK. Ill have to see if I can \"...   \n",
       "110440  @Hootsuite_Help Uuurrr... I am using Linux. I ...   \n",
       "110441  @HootSuite_Help is there any way of getting \"n...   \n",
       "110442  @Hootsuite_Help I DMed you my email address. T...   \n",
       "110443  @Hootsuite_Help Ive posted the idea and gladly...   \n",
       "110444  @Hootsuite_Help Really? Because that was two d...   \n",
       "110445               @Hootsuite_Help ^CB, same to you! :)   \n",
       "110446  @Hootsuite_Help Thank you. I really appreciate...   \n",
       "110447  @Hootsuite_Help Yes, it is. You can also check...   \n",
       "110448  @Hootsuite_Help Just make sure, your subscript...   \n",
       "110449  @Hootsuite_Help Understood. I think you should...   \n",
       "110450  @Hootsuite_Help Sorry to say but your support ...   \n",
       "110451  @Hootsuite_Help Its still not working. Not rec...   \n",
       "110452  RT @jackygro: @Hootsuite_Help Can you connect ...   \n",
       "110453  @Hootsuite_Help Yes, youve already asked me th...   \n",
       "110454                           @Hootsuite_Help  worked!   \n",
       "110455   @Hootsuite_Help @Profile This one. (@pspolonews)   \n",
       "110456         @Hootsuite_Help @PSPoloNews is the account   \n",
       "110457  @Hootsuite_Help No, never got the notification...   \n",
       "\n",
       "                 time_stamp            tweet_id  \n",
       "id                                               \n",
       "1       01/18/2016 05:09:13  688951251455754241  \n",
       "2       01/18/2016 02:38:39  688913360679653376  \n",
       "3       01/18/2016 02:15:10  688907453212184576  \n",
       "4       01/18/2016 02:14:24  688907258206367744  \n",
       "5       01/18/2016 01:39:32  688898486025060352  \n",
       "6       01/18/2016 01:38:07  688898129471471616  \n",
       "7       01/18/2016 01:16:00  688892562040434688  \n",
       "8       01/18/2016 00:35:26  688882355377864704  \n",
       "9       01/17/2016 20:04:52  688814262949552128  \n",
       "10      01/17/2016 07:11:02  688619521263800320  \n",
       "11      01/17/2016 03:25:27  688562750348345344  \n",
       "12      01/17/2016 02:33:59  688549799272923136  \n",
       "13      01/17/2016 02:33:13  688549608423723008  \n",
       "14      01/17/2016 00:45:31  688522504743206912  \n",
       "15      01/17/2016 00:12:26  688514175769808896  \n",
       "16      01/16/2016 23:09:24  688498315533533184  \n",
       "17      01/16/2016 22:51:49  688493887631958016  \n",
       "18      01/16/2016 22:15:56  688484860311162880  \n",
       "19      01/16/2016 18:36:56  688429744367378432  \n",
       "20      01/16/2016 18:36:41  688429683721912320  \n",
       "21      01/16/2016 18:35:01  688429263914012672  \n",
       "22      01/16/2016 16:24:01  688396295858294784  \n",
       "23      01/16/2016 05:57:48  688238701852266496  \n",
       "24      01/16/2016 04:36:32  688218250723737603  \n",
       "25      01/16/2016 04:30:04  688216625019944960  \n",
       "26      01/16/2016 04:26:54  688215826168598528  \n",
       "27      01/16/2016 04:22:28  688214712643801088  \n",
       "28      01/16/2016 00:15:19  688152514688991233  \n",
       "29      01/16/2016 00:14:16  688152250829557760  \n",
       "30      01/15/2016 22:58:35  688133203081613314  \n",
       "...                     ...                 ...  \n",
       "110428  01/16/2016 16:06:40  688391928505856001  \n",
       "110429  01/16/2016 16:03:43  688391187628081152  \n",
       "110430  01/16/2016 15:56:14  688389303479631873  \n",
       "110431  01/16/2016 15:54:19  688388823349248001  \n",
       "110432  01/16/2016 15:54:04  688388760690540544  \n",
       "110433  01/16/2016 15:47:41  688387150845317120  \n",
       "110434  01/16/2016 15:47:20  688387064392372224  \n",
       "110435  01/16/2016 15:45:52  688386697441050625  \n",
       "110436  01/16/2016 15:41:26  688385578052747265  \n",
       "110437  01/16/2016 15:36:06  688384236600991744  \n",
       "110438  01/16/2016 14:42:07  688370654316462080  \n",
       "110439  01/16/2016 14:24:34  688366234451230720  \n",
       "110440  01/16/2016 14:04:15  688361121313607680  \n",
       "110441  01/16/2016 13:56:56  688359281402507264  \n",
       "110442  01/16/2016 13:05:24  688346312471789568  \n",
       "110443  01/16/2016 11:46:27  688326442988482560  \n",
       "110444  01/16/2016 06:55:03  688253110079258624  \n",
       "110445  01/16/2016 06:24:42  688245473509941248  \n",
       "110446  01/16/2016 06:20:42  688244468596654080  \n",
       "110447  01/16/2016 06:13:14  688242588399190017  \n",
       "110448  01/16/2016 06:08:45  688241459959431169  \n",
       "110449  01/16/2016 05:50:09  688236779321737216  \n",
       "110450  01/16/2016 05:44:38  688235390575091713  \n",
       "110451  01/16/2016 00:32:48  688156916330045444  \n",
       "110452  01/16/2016 00:29:46  688156151238623234  \n",
       "110453  01/16/2016 00:01:44  688149096406724609  \n",
       "110454  01/16/2016 00:01:29  688149034683371520  \n",
       "110455  01/15/2016 23:58:58  688148400261300225  \n",
       "110456  01/15/2016 23:57:35  688148053400752128  \n",
       "110457  01/15/2016 23:38:39  688143288231067648  \n",
       "\n",
       "[83195 rows x 6 columns]"
      ]
     },
     "execution_count": 424,
     "metadata": {},
     "output_type": "execute_result"
    }
   ],
   "source": [
    "tweets"
   ]
  },
  {
   "cell_type": "code",
   "execution_count": null,
   "metadata": {
    "collapsed": true
   },
   "outputs": [],
   "source": []
  },
  {
   "cell_type": "markdown",
   "metadata": {},
   "source": [
    "# Try to get count vectorizer for bag of words"
   ]
  },
  {
   "cell_type": "code",
   "execution_count": 96,
   "metadata": {
    "collapsed": true
   },
   "outputs": [],
   "source": [
    "from sklearn.feature_extraction.text import TfidfVectorizer, CountVectorizer"
   ]
  },
  {
   "cell_type": "code",
   "execution_count": 105,
   "metadata": {
    "collapsed": false
   },
   "outputs": [],
   "source": [
    "vectorizer = CountVectorizer(min_df=1)\n"
   ]
  },
  {
   "cell_type": "code",
   "execution_count": 106,
   "metadata": {
    "collapsed": true
   },
   "outputs": [],
   "source": [
    "X = vectorizer.fit_transform(verTweets['message'])"
   ]
  },
  {
   "cell_type": "code",
   "execution_count": 211,
   "metadata": {
    "collapsed": false
   },
   "outputs": [],
   "source": [
    "#list(verTweets['message'])"
   ]
  },
  {
   "cell_type": "code",
   "execution_count": 108,
   "metadata": {
    "collapsed": false
   },
   "outputs": [
    {
     "data": {
      "text/plain": [
       "71"
      ]
     },
     "execution_count": 108,
     "metadata": {},
     "output_type": "execute_result"
    }
   ],
   "source": []
  },
  {
   "cell_type": "code",
   "execution_count": null,
   "metadata": {
    "collapsed": true
   },
   "outputs": [],
   "source": []
  },
  {
   "cell_type": "code",
   "execution_count": null,
   "metadata": {
    "collapsed": true
   },
   "outputs": [],
   "source": []
  },
  {
   "cell_type": "code",
   "execution_count": null,
   "metadata": {
    "collapsed": true
   },
   "outputs": [],
   "source": []
  },
  {
   "cell_type": "markdown",
   "metadata": {},
   "source": [
    "# Trying gensim"
   ]
  },
  {
   "cell_type": "code",
   "execution_count": 125,
   "metadata": {
    "collapsed": false
   },
   "outputs": [],
   "source": [
    "from gensim import corpora, models, similarities\n",
    "from gensim.models import ldamodel"
   ]
  },
  {
   "cell_type": "code",
   "execution_count": null,
   "metadata": {
    "collapsed": true
   },
   "outputs": [],
   "source": [
    "list(verTweets['message'])"
   ]
  },
  {
   "cell_type": "code",
   "execution_count": 212,
   "metadata": {
    "collapsed": false
   },
   "outputs": [],
   "source": [
    ">>> # remove common words and tokenize\n",
    "documents = list(verTweets['message'])\n",
    "\n",
    ">>> stoplist = set('for a of the and to in'.split())\n",
    ">>> texts = [[word for word in document.lower().split() if word not in stoplist]\n",
    ">>>          for document in documents]\n",
    ">>>\n",
    ">>> # remove words that appear only once\n",
    ">>> from collections import defaultdict\n",
    ">>> frequency = defaultdict(int)\n",
    ">>> for text in texts:\n",
    ">>>     for token in text:\n",
    ">>>         frequency[token] += 1\n",
    ">>>\n",
    ">>> texts = [[token for token in text if frequency[token] > 1]\n",
    ">>>          for text in texts]\n",
    ">>>\n",
    ">>> from pprint import pprint   # pretty-printer\n",
    "#>>> pprint(texts)"
   ]
  },
  {
   "cell_type": "code",
   "execution_count": 132,
   "metadata": {
    "collapsed": false
   },
   "outputs": [
    {
     "name": "stdout",
     "output_type": "stream",
     "text": [
      "Dictionary(156 unique tokens: [u'all', u'playoffs', u'just', u'switched', u'over']...)\n"
     ]
    }
   ],
   "source": [
    ">>> dictionary = corpora.Dictionary(texts)\n",
    ">>> dictionary.save('/tmp/deerwester.dict') # store the dictionary, for future reference\n",
    ">>> print(dictionary)"
   ]
  },
  {
   "cell_type": "code",
   "execution_count": null,
   "metadata": {
    "collapsed": true
   },
   "outputs": [],
   "source": []
  },
  {
   "cell_type": "code",
   "execution_count": 129,
   "metadata": {
    "collapsed": false
   },
   "outputs": [],
   "source": [
    "#lda = ldamodel.LdaModel(list(verTweets['message']), num_topics=10)"
   ]
  },
  {
   "cell_type": "code",
   "execution_count": null,
   "metadata": {
    "collapsed": true
   },
   "outputs": [],
   "source": [
    "ldamodel."
   ]
  },
  {
   "cell_type": "code",
   "execution_count": 50,
   "metadata": {
    "collapsed": false
   },
   "outputs": [
    {
     "name": "stdout",
     "output_type": "stream",
     "text": [
      "Representative duplicate tweet: \n",
      "\n",
      "@dmb1031 Were you able to speak with a representative in order to look into this for you? ^Espy\n"
     ]
    }
   ],
   "source": [
    "print 'Representative duplicate tweet: \\n'\n",
    "print tweets.iloc[45185]['message']\n"
   ]
  },
  {
   "cell_type": "code",
   "execution_count": 328,
   "metadata": {
    "collapsed": false
   },
   "outputs": [
    {
     "name": "stdout",
     "output_type": "stream",
     "text": [
      "I always confuse @JetBlue crew members when I use this bag… “No I don’t work for JB… ish…”\n",
      "Wheels up to Boston! https://t.co/61fKRnYNpK\n",
      "\n",
      "number of dups: 1195\n",
      "\n"
     ]
    },
    {
     "data": {
      "text/html": [
       "<div>\n",
       "<table border=\"1\" class=\"dataframe\">\n",
       "  <thead>\n",
       "    <tr style=\"text-align: right;\">\n",
       "      <th></th>\n",
       "      <th>account</th>\n",
       "      <th>fromHandler</th>\n",
       "      <th>toHandler</th>\n",
       "      <th>message</th>\n",
       "      <th>timestamp</th>\n",
       "      <th>tweetId</th>\n",
       "    </tr>\n",
       "    <tr>\n",
       "      <th>id</th>\n",
       "      <th></th>\n",
       "      <th></th>\n",
       "      <th></th>\n",
       "      <th></th>\n",
       "      <th></th>\n",
       "      <th></th>\n",
       "    </tr>\n",
       "  </thead>\n",
       "  <tbody>\n",
       "    <tr>\n",
       "      <th>9259</th>\n",
       "      <td>@JetBlue</td>\n",
       "      <td>@paulgordonbrown</td>\n",
       "      <td>@JetBlue</td>\n",
       "      <td>I always confuse @JetBlue crew members when I ...</td>\n",
       "      <td>12/30/2015 16:47:02</td>\n",
       "      <td>NaN</td>\n",
       "    </tr>\n",
       "    <tr>\n",
       "      <th>9287</th>\n",
       "      <td>@JetBlue</td>\n",
       "      <td>@paulgordonbrown</td>\n",
       "      <td>@JetBlue</td>\n",
       "      <td>I always confuse @JetBlue crew members when I ...</td>\n",
       "      <td>12/30/2015 16:47:02</td>\n",
       "      <td>NaN</td>\n",
       "    </tr>\n",
       "    <tr>\n",
       "      <th>9317</th>\n",
       "      <td>@JetBlue</td>\n",
       "      <td>@paulgordonbrown</td>\n",
       "      <td>@JetBlue</td>\n",
       "      <td>I always confuse @JetBlue crew members when I ...</td>\n",
       "      <td>12/30/2015 16:47:02</td>\n",
       "      <td>NaN</td>\n",
       "    </tr>\n",
       "    <tr>\n",
       "      <th>9347</th>\n",
       "      <td>@JetBlue</td>\n",
       "      <td>@paulgordonbrown</td>\n",
       "      <td>@JetBlue</td>\n",
       "      <td>I always confuse @JetBlue crew members when I ...</td>\n",
       "      <td>12/30/2015 16:47:02</td>\n",
       "      <td>NaN</td>\n",
       "    </tr>\n",
       "    <tr>\n",
       "      <th>9373</th>\n",
       "      <td>@JetBlue</td>\n",
       "      <td>@paulgordonbrown</td>\n",
       "      <td>@JetBlue</td>\n",
       "      <td>I always confuse @JetBlue crew members when I ...</td>\n",
       "      <td>12/30/2015 16:47:02</td>\n",
       "      <td>NaN</td>\n",
       "    </tr>\n",
       "  </tbody>\n",
       "</table>\n",
       "</div>"
      ],
      "text/plain": [
       "       account       fromHandler toHandler  \\\n",
       "id                                           \n",
       "9259  @JetBlue  @paulgordonbrown  @JetBlue   \n",
       "9287  @JetBlue  @paulgordonbrown  @JetBlue   \n",
       "9317  @JetBlue  @paulgordonbrown  @JetBlue   \n",
       "9347  @JetBlue  @paulgordonbrown  @JetBlue   \n",
       "9373  @JetBlue  @paulgordonbrown  @JetBlue   \n",
       "\n",
       "                                                message            timestamp  \\\n",
       "id                                                                             \n",
       "9259  I always confuse @JetBlue crew members when I ...  12/30/2015 16:47:02   \n",
       "9287  I always confuse @JetBlue crew members when I ...  12/30/2015 16:47:02   \n",
       "9317  I always confuse @JetBlue crew members when I ...  12/30/2015 16:47:02   \n",
       "9347  I always confuse @JetBlue crew members when I ...  12/30/2015 16:47:02   \n",
       "9373  I always confuse @JetBlue crew members when I ...  12/30/2015 16:47:02   \n",
       "\n",
       "      tweetId  \n",
       "id             \n",
       "9259      NaN  \n",
       "9287      NaN  \n",
       "9317      NaN  \n",
       "9347      NaN  \n",
       "9373      NaN  "
      ]
     },
     "execution_count": 328,
     "metadata": {},
     "output_type": "execute_result"
    }
   ],
   "source": [
    "# Count the number of occurences of the above tweet\n",
    "\n",
    "print tweets.iloc[45194]['message']\n",
    "print\n",
    "msg1 = 'I always confuse @JetBlue crew members when I use this bag\\xe2\\x80\\xa6 \\xe2\\x80\\x9cNo I don\\xe2\\x80\\x99t work for JB\\xe2\\x80\\xa6 ish\\xe2\\x80\\xa6\\xe2\\x80\\x9d\\nWheels up to Boston! https://t.co/61fKRnYNpK'\n",
    "dups1 = tweets[tweets.message == msg1]\n",
    "print \"number of dups: \" + str(len(dups1)) + '\\n'\n",
    "dups1.head()\n"
   ]
  },
  {
   "cell_type": "code",
   "execution_count": 321,
   "metadata": {
    "collapsed": false
   },
   "outputs": [
    {
     "data": {
      "text/plain": [
       "1195"
      ]
     },
     "execution_count": 321,
     "metadata": {},
     "output_type": "execute_result"
    }
   ],
   "source": [
    "def dupCounter(msg):\n",
    "    \"\"\"Count the number of repeated tweets that match a given string\"\"\"\n",
    "    dups = tweets[tweets.message == msg]\n",
    "    dups.head()\n",
    "    return len(dups)\n",
    "\n",
    "dupCounter(tweets.iloc[45194]['message'])    "
   ]
  },
  {
   "cell_type": "code",
   "execution_count": 330,
   "metadata": {
    "collapsed": false
   },
   "outputs": [
    {
     "name": "stdout",
     "output_type": "stream",
     "text": [
      "number of unique tweets: 136\n"
     ]
    }
   ],
   "source": [
    "# Get all unique tweets\n",
    "\n",
    "uniqTweets = list(set(tweets['message']))\n",
    "\n",
    "print 'number of unique tweets: ' + str(len(uniqTweets))"
   ]
  },
  {
   "cell_type": "markdown",
   "metadata": {},
   "source": [
    "# Only 136 unique tweets. Something looks wrong."
   ]
  },
  {
   "cell_type": "code",
   "execution_count": 207,
   "metadata": {
    "collapsed": false
   },
   "outputs": [],
   "source": [
    "# For each unique tweet, count the number of duplicate tweets \n",
    "dupCounts = []\n",
    "\n",
    "for i in uniqTweets:\n",
    "    dupCounts.append(dupCounter(i))\n"
   ]
  },
  {
   "cell_type": "code",
   "execution_count": 331,
   "metadata": {
    "collapsed": false,
    "scrolled": true
   },
   "outputs": [
    {
     "data": {
      "image/png": "[encoded data removed]",
      "text/plain": [
       "<matplotlib.figure.Figure at 0x1139dd410>"
      ]
     },
     "metadata": {},
     "output_type": "display_data"
    }
   ],
   "source": [
    "#Plot the redundancy of tweets\n",
    "\n",
    "plt.bar([i for i in range(len(dupCounts))],dupCounts)\n",
    "plt.ylabel('Tweet redundancy',fontsize=16)\n",
    "#plt.title('duplicate tweets',fontsize=24)\n",
    "#plt.xlabel('unique tweets')\n",
    "#plt.bar([i for i in range(10)],range(10))\n",
    "\n",
    "plt.ylim([0,7000])\n",
    "\n",
    "plt.show()"
   ]
  },
  {
   "cell_type": "code",
   "execution_count": null,
   "metadata": {
    "collapsed": true
   },
   "outputs": [],
   "source": []
  },
  {
   "cell_type": "markdown",
   "metadata": {},
   "source": [
    "# Preliminary tweet cleaning"
   ]
  },
  {
   "cell_type": "code",
   "execution_count": null,
   "metadata": {
    "collapsed": false
   },
   "outputs": [],
   "source": []
  },
  {
   "cell_type": "code",
   "execution_count": 340,
   "metadata": {
    "collapsed": false
   },
   "outputs": [],
   "source": [
    "# To build a list of tweets coming from and to JetBlue\n",
    "\n",
    "toJetTweets   = list(set(tweets.loc[tweets.toHandler == '@JetBlue','message']))\n",
    "fromJetTweets = list(set(tweets.loc[tweets.toHandler != '@JetBlue','message']))"
   ]
  },
  {
   "cell_type": "code",
   "execution_count": 307,
   "metadata": {
    "collapsed": false
   },
   "outputs": [],
   "source": [
    "#[i.lower() for i in ' '.join(toJetTweets).split()]"
   ]
  },
  {
   "cell_type": "code",
   "execution_count": 241,
   "metadata": {
    "collapsed": false,
    "scrolled": true
   },
   "outputs": [
    {
     "name": "stderr",
     "output_type": "stream",
     "text": [
      "/Users/Peter/anaconda/lib/python2.7/site-packages/ipykernel/__main__.py:3: UnicodeWarning: Unicode equal comparison failed to convert both arguments to Unicode - interpreting them as being unequal\n",
      "  app.launch_new_instance()\n"
     ]
    }
   ],
   "source": [
    "wordList = [i.lower() for i in ' '.join(uniqTweets).split()]\n",
    "wordList = [i for i in wordList if i not in stopwords.words('english')]\n",
    "#filtWords = [i for i in skillList.split() if i not in stopwords.words('english')]"
   ]
  },
  {
   "cell_type": "code",
   "execution_count": 313,
   "metadata": {
    "collapsed": false
   },
   "outputs": [],
   "source": [
    "#wordList"
   ]
  },
  {
   "cell_type": "code",
   "execution_count": 246,
   "metadata": {
    "collapsed": false
   },
   "outputs": [],
   "source": [
    "freqWord = Counter(wordList).most_common(10)"
   ]
  },
  {
   "cell_type": "code",
   "execution_count": 317,
   "metadata": {
    "collapsed": false
   },
   "outputs": [
    {
     "name": "stderr",
     "output_type": "stream",
     "text": [
      "/Users/Peter/anaconda/lib/python2.7/site-packages/ipykernel/__main__.py:3: UnicodeWarning: Unicode equal comparison failed to convert both arguments to Unicode - interpreting them as being unequal\n",
      "  app.launch_new_instance()\n"
     ]
    },
    {
     "data": {
      "text/plain": [
       "[('flight', 20),\n",
       " ('sorry', 12),\n",
       " ('well', 12),\n",
       " ('please', 10),\n",
       " ('@jetblue', 10),\n",
       " ('hear', 10),\n",
       " ('us', 10),\n",
       " ('@1shirtsupport', 10),\n",
       " ('1/2', 9),\n",
       " ('delays', 9)]"
      ]
     },
     "execution_count": 317,
     "metadata": {},
     "output_type": "execute_result"
    }
   ],
   "source": [
    "def getFreqWords(tweetList,topWordThresh=10):\n",
    "    wordList = [i.lower() for i in ' '.join(tweetList).split()]\n",
    "    wordList = [i for i in wordList if i not in stopwords.words('english')]\n",
    "    return Counter(wordList).most_common(topWordThresh)\n",
    "getFreqWords(uniqTweets)"
   ]
  },
  {
   "cell_type": "code",
   "execution_count": 347,
   "metadata": {
    "collapsed": false
   },
   "outputs": [
    {
     "data": {
      "text/plain": [
       "['@JetBlue Ive now spent 12% of my flight time waiting at the carousel in JFK. I flew from San Diego! Unacceptable.',\n",
       " 'Love when the @JetBlue worker tells me over the phone I have a window seat, but it turns out I dont and I really NEEDED to SLEEP on flight.',\n",
       " 'I always confuse @JetBlue crew members when I use this bag\\xe2\\x80\\xa6 \\xe2\\x80\\x9cNo I don\\xe2\\x80\\x99t work for JB\\xe2\\x80\\xa6 ish\\xe2\\x80\\xa6\\xe2\\x80\\x9d\\nWheels up to Boston! https://t.co/61fKRnYNpK',\n",
       " 'Think Ill make my 6:50am @JetBlue flight out of Ft Lauderdale airport? @MiamiHerald @Tomas_Regalado https://t.co/RPlcrcwzTA',\n",
       " '@JetBlue Just DMd you. Thx for replying, thats why I always fly with yall.',\n",
       " '@JetBlue wheres the crew for flight 922? Been like half an hour past boarding time and their not here yet ??????']"
      ]
     },
     "execution_count": 347,
     "metadata": {},
     "output_type": "execute_result"
    }
   ],
   "source": [
    "uniqTweets\n",
    "toJetTweets"
   ]
  },
  {
   "cell_type": "code",
   "execution_count": 351,
   "metadata": {
    "collapsed": false
   },
   "outputs": [
    {
     "name": "stderr",
     "output_type": "stream",
     "text": [
      "/Users/Peter/anaconda/lib/python2.7/site-packages/ipykernel/__main__.py:3: UnicodeWarning: Unicode equal comparison failed to convert both arguments to Unicode - interpreting them as being unequal\n",
      "  app.launch_new_instance()\n"
     ]
    },
    {
     "data": {
      "image/png": "[encoded data removed]",
      "text/plain": [
       "<matplotlib.figure.Figure at 0x119c42f10>"
      ]
     },
     "metadata": {},
     "output_type": "display_data"
    }
   ],
   "source": [
    "def plotFreqWords(freqWords):\n",
    "    fig = plt.figure(figsize=(5,4), dpi=1600)\n",
    "    ax = fig.add_subplot(111)\n",
    "\n",
    "    plt.bar([i for i in range(10)],[i[1] for i in freqWords],alpha=0.7)\n",
    "    plt.xticks([i+0.5  for i in range(10)], [i[0] for i in freqWords], rotation='vertical')\n",
    "\n",
    "    ax.set_xticklabels([i[0] for i in freqWords],rotation=45,ha='right')\n",
    "    ax.set_ylim(0,25)\n",
    "    ax.set_ylabel('Word Frequency',fontsize=16)\n",
    "\n",
    "    plt.show()\n",
    "    \n",
    "plotFreqWords(getFreqWords(fromJetTweets))"
   ]
  },
  {
   "cell_type": "code",
   "execution_count": 281,
   "metadata": {
    "collapsed": false
   },
   "outputs": [
    {
     "data": {
      "image/png": "[encoded data removed]",
      "text/plain": [
       "<matplotlib.figure.Figure at 0x11374cb50>"
      ]
     },
     "metadata": {},
     "output_type": "display_data"
    }
   ],
   "source": [
    "fig = plt.figure(figsize=(5,4), dpi=1600)\n",
    "ax = fig.add_subplot(111)\n",
    "\n",
    "\n",
    "plt.bar([i for i in range(10)],[i[1] for i in freqWord],alpha=0.7)\n",
    "plt.xticks([i+0.5  for i in range(10)], [i[0] for i in freqWord], rotation='vertical')\n",
    "\n",
    "ax.set_xticklabels([i[0] for i in freqWord],rotation=45,ha='right')\n",
    "ax.set_ylim(0,25)\n",
    "ax.set_ylabel('Word Frequency',fontsize=16)\n",
    "\n",
    "plt.show()"
   ]
  },
  {
   "cell_type": "code",
   "execution_count": null,
   "metadata": {
    "collapsed": true
   },
   "outputs": [],
   "source": []
  },
  {
   "cell_type": "code",
   "execution_count": 372,
   "metadata": {
    "collapsed": false
   },
   "outputs": [
    {
     "name": "stdout",
     "output_type": "stream",
     "text": [
      "RT @1ShirtSupport: Tomorrows #TriviaTakeover once again! Well be giving away a random (size Large) T-Shirt, AND another poster thanks to …\n"
     ]
    }
   ],
   "source": [
    "for i in uniqTweets:\n",
    "    if 'thanks' in i:\n",
    "        print i\n",
    "    "
   ]
  },
  {
   "cell_type": "code",
   "execution_count": null,
   "metadata": {
    "collapsed": true
   },
   "outputs": [],
   "source": []
  },
  {
   "cell_type": "code",
   "execution_count": null,
   "metadata": {
    "collapsed": true
   },
   "outputs": [],
   "source": [
    "x = [1, 2, 3, 4]\n",
    "y = [1, 4, 9, 6]\n",
    "labels = ['Frogs', 'Hogs', 'Bogs', 'Slogs']\n",
    "\n",
    "plt.plot(x, y, 'ro')\n",
    "# You can specify a rotation for the tick labels in degrees or with keywords.\n",
    "plt.xticks(x, labels, rotation='vertical')\n",
    "# Pad margins so that markers don't get clipped by the axes\n",
    "plt.margins(0.2)\n",
    "# Tweak spacing to prevent clipping of tick-labels\n",
    "plt.subplots_adjust(bottom=0.15)\n",
    "plt.show()"
   ]
  },
  {
   "cell_type": "code",
   "execution_count": 248,
   "metadata": {
    "collapsed": false
   },
   "outputs": [
    {
     "data": {
      "text/plain": [
       "10"
      ]
     },
     "execution_count": 248,
     "metadata": {},
     "output_type": "execute_result"
    }
   ],
   "source": [
    "[len(freqWord)]"
   ]
  },
  {
   "cell_type": "code",
   "execution_count": null,
   "metadata": {
    "collapsed": true
   },
   "outputs": [],
   "source": []
  },
  {
   "cell_type": "code",
   "execution_count": 230,
   "metadata": {
    "collapsed": false
   },
   "outputs": [
    {
     "data": {
      "text/plain": [
       "[('the', 72),\n",
       " ('to', 68),\n",
       " ('for', 51),\n",
       " ('you', 39),\n",
       " ('your', 37),\n",
       " ('a', 36),\n",
       " ('and', 27),\n",
       " ('We', 26),\n",
       " ('of', 23),\n",
       " ('that', 22),\n",
       " ('is', 22),\n",
       " ('flight', 20),\n",
       " ('on', 19),\n",
       " ('we', 18),\n",
       " ('are', 17),\n",
       " ('Were', 16),\n",
       " ('in', 16),\n",
       " ('an', 16),\n",
       " ('can', 15),\n",
       " ('our', 15),\n",
       " ('out', 13),\n",
       " ('have', 13),\n",
       " ('I', 13),\n",
       " ('be', 11),\n",
       " ('with', 11),\n",
       " ('@JetBlue', 10),\n",
       " ('@1ShirtSupport', 10),\n",
       " ('hear', 10),\n",
       " ('us', 10),\n",
       " ('at', 10),\n",
       " ('1/2', 9),\n",
       " ('Please', 9),\n",
       " ('Sorry', 9),\n",
       " ('it', 9),\n",
       " ('from', 9),\n",
       " ('weather', 9),\n",
       " ('so', 8),\n",
       " ('its', 8),\n",
       " ('Thanks', 8),\n",
       " ('DM', 8),\n",
       " ('not', 8),\n",
       " ('2/2', 8),\n",
       " ('happy', 8),\n",
       " ('you.', 8),\n",
       " ('waiting', 7),\n",
       " ('airport', 7),\n",
       " ('departure', 7),\n",
       " ('flight.', 7),\n",
       " ('If', 7),\n",
       " ('know', 7),\n",
       " ('about', 7),\n",
       " ('there', 7),\n",
       " ('time', 7),\n",
       " ('The', 6),\n",
       " ('??', 6),\n",
       " ('RT', 6),\n",
       " ('crew', 6),\n",
       " ('reach', 6),\n",
       " ('up', 6),\n",
       " ('crewmembers', 6),\n",
       " ('will', 6),\n",
       " ('well', 6),\n",
       " ('way', 6),\n",
       " ('Well', 6),\n",
       " ('but', 6),\n",
       " ('when', 6),\n",
       " ('updated', 5),\n",
       " ('look', 5),\n",
       " ('this', 5),\n",
       " ('@Mike_Gramajo', 5),\n",
       " ('get', 5),\n",
       " ('@JSA1987', 5),\n",
       " ('over', 5),\n",
       " ('were', 5),\n",
       " ('any', 5),\n",
       " ('take', 5),\n",
       " ('delays', 5),\n",
       " ('You', 5),\n",
       " ('just', 5),\n",
       " ('like', 5),\n",
       " ('was', 5),\n",
       " ('delayed', 5),\n",
       " ('show', 4),\n",
       " ('confirmation', 4),\n",
       " ('wait', 4),\n",
       " ('working', 4),\n",
       " ('more', 4),\n",
       " ('give', 4),\n",
       " ('@turms19', 4),\n",
       " ('What', 4),\n",
       " ('into', 4),\n",
       " ('Glad', 4),\n",
       " ('latest', 4),\n",
       " ('Its', 4),\n",
       " ('see', 4),\n",
       " ('youre', 4),\n",
       " ('It', 4),\n",
       " ('Burgie', 4),\n",
       " ('crewmember', 4),\n",
       " ('PM.', 4),\n",
       " ('@rp3_22', 4),\n",
       " ('Delays', 4),\n",
       " ('check', 4),\n",
       " ('details', 4),\n",
       " ('code', 3),\n",
       " (':)', 3),\n",
       " ('sorry', 3),\n",
       " ('Just', 3),\n",
       " ('estimated', 3),\n",
       " ('never', 3),\n",
       " ('love', 3),\n",
       " ('Our', 3),\n",
       " ('my', 3),\n",
       " ('want', 3),\n",
       " ('delay', 3),\n",
       " ('how', 3),\n",
       " ('now', 3),\n",
       " ('always', 3),\n",
       " ('did', 3),\n",
       " ('Which', 3),\n",
       " ('days', 3),\n",
       " ('dont', 3),\n",
       " ('There', 3),\n",
       " ('their', 3),\n",
       " ('carousel', 3),\n",
       " ('@sammy_butler', 3),\n",
       " ('able', 3),\n",
       " ('patience.', 3),\n",
       " ('patience,', 3),\n",
       " ('@Jeff_Harris_NZ', 3),\n",
       " ('do', 3),\n",
       " ('@GameGrumps', 3),\n",
       " ('arrival', 3),\n",
       " ('Thats', 3),\n",
       " ('due', 3),\n",
       " ('information', 3),\n",
       " ('if', 3),\n",
       " ('Ill', 3),\n",
       " ('lower', 3),\n",
       " ('Is', 3),\n",
       " ('@ACordov1', 3),\n",
       " ('@zacxwolf', 3),\n",
       " ('info.', 3),\n",
       " ('additional', 3),\n",
       " ('why', 3),\n",
       " ('you,', 3),\n",
       " ('as', 3),\n",
       " ('@js_N_Y_C', 3),\n",
       " ('really', 3),\n",
       " ('tonight.', 3),\n",
       " ('all', 2),\n",
       " ('@tylerOeaster', 2),\n",
       " ('issues', 2),\n",
       " ('Hi', 2),\n",
       " ('And', 2),\n",
       " ('keeping', 2),\n",
       " ('@itsKizzleBtch', 2),\n",
       " ('got', 2),\n",
       " ('today.', 2),\n",
       " ('@united', 2),\n",
       " ('experiencing', 2),\n",
       " ('burger', 2),\n",
       " ('what', 2),\n",
       " ('giving', 2),\n",
       " ('current', 2),\n",
       " ('new', 2),\n",
       " ('shirt!', 2),\n",
       " ('@mikemurdock703', 2),\n",
       " ('here', 2),\n",
       " ('great', 2),\n",
       " ('@Jack_Septic_Eye', 2),\n",
       " ('honor', 2),\n",
       " ('thats', 2),\n",
       " ('use', 2),\n",
       " ('two', 2),\n",
       " ('by', 2),\n",
       " ('few', 2),\n",
       " ('updates?', 2),\n",
       " ('flying', 2),\n",
       " ('updates.', 2),\n",
       " ('Mike.', 2),\n",
       " ('glad', 2),\n",
       " ('could', 2),\n",
       " ('flights', 2),\n",
       " ('awesome', 2),\n",
       " ('travel', 2),\n",
       " ('may', 2),\n",
       " ('Will', 2),\n",
       " ('1-800-JETBLUE', 2),\n",
       " ('plane', 2),\n",
       " ('hear!', 2),\n",
       " ('coming', 2),\n",
       " ('number?', 2),\n",
       " ('appreciate', 2),\n",
       " ('@WRC_of_NY', 2),\n",
       " ('@____alyssa', 2),\n",
       " ('@ecarruthersjr', 2),\n",
       " ('weather?', 2),\n",
       " ('ticket', 2),\n",
       " ('looks', 2),\n",
       " ('@mlarosa84', 2),\n",
       " ('before', 2),\n",
       " ('@rubzica', 2),\n",
       " ('it.', 2),\n",
       " ('them', 2),\n",
       " ('Dominican', 2),\n",
       " ('look.', 2),\n",
       " ('it!', 2),\n",
       " ('they', 2),\n",
       " ('arriving', 2),\n",
       " ('Control', 2),\n",
       " ('doesnt', 2),\n",
       " ('Scottish', 2),\n",
       " ('fare', 2),\n",
       " ('Inflight', 2),\n",
       " ('@andrewctran', 2),\n",
       " ('hard', 2),\n",
       " ('time.', 2),\n",
       " ('day!', 2),\n",
       " ('ask', 2),\n",
       " ('number', 2),\n",
       " ('another', 2),\n",
       " ('asap.', 2),\n",
       " ('inflight', 2),\n",
       " ('@chris4851', 2),\n",
       " ('Crap', 2),\n",
       " ('tonight', 2),\n",
       " ('need', 2),\n",
       " ('sure', 2),\n",
       " ('that.', 2),\n",
       " ('most', 2),\n",
       " ('Whats', 2),\n",
       " ('especially', 2),\n",
       " ('@Juls7826L', 2),\n",
       " ('definitely', 2),\n",
       " ('@LaryssaStecyk', 2),\n",
       " ('should', 2),\n",
       " ('only', 2),\n",
       " ('Traffic', 2),\n",
       " ('pretty', 2),\n",
       " ('means', 2),\n",
       " ('flight!', 2),\n",
       " ('delay.', 2),\n",
       " ('where', 2),\n",
       " ('flight?', 2),\n",
       " ('best', 2),\n",
       " ('youll', 2),\n",
       " ('PM', 2),\n",
       " ('Jeff.', 2),\n",
       " ('aircraft', 2),\n",
       " ('come', 2),\n",
       " ('Give', 2),\n",
       " ('ETD', 2),\n",
       " ('understand', 2),\n",
       " ('air', 2),\n",
       " ('airline,', 2),\n",
       " ('frustrating', 2),\n",
       " ('would', 2),\n",
       " ('Better', 2),\n",
       " ('arrive.', 2),\n",
       " ('inconvenience,', 2),\n",
       " ('make', 2),\n",
       " ('10:30', 2),\n",
       " ('@OkayRene', 2),\n",
       " ('status', 2),\n",
       " ('assist', 2),\n",
       " ('Thank', 2),\n",
       " ('-', 2),\n",
       " ('@Niagarcia03', 2),\n",
       " ('had', 2),\n",
       " ('@slidingsideways', 2),\n",
       " ('excited', 2),\n",
       " ('Air', 2),\n",
       " ('Try', 2),\n",
       " ('bit', 2),\n",
       " ('@clawng', 2),\n",
       " ('specific', 2),\n",
       " ('@simplerevolt', 2),\n",
       " ('Are', 2),\n",
       " ('right', 2),\n",
       " ('some', 2),\n",
       " ('patience!', 2),\n",
       " ('per', 2),\n",
       " ('frustration,', 2),\n",
       " ('or', 2),\n",
       " ('book', 2),\n",
       " ('apologize', 2),\n",
       " ('area', 2),\n",
       " ('inconvenience.', 2),\n",
       " ('long', 2),\n",
       " ('across', 2),\n",
       " ('wait,', 2),\n",
       " ('How', 2),\n",
       " ('delays.', 2),\n",
       " ('@KibsKelble', 2),\n",
       " ('update', 2),\n",
       " ('happy,', 1),\n",
       " ('update.', 1),\n",
       " ('caused', 1),\n",
       " ('lack', 1),\n",
       " ('alternatives', 1),\n",
       " (':o', 1),\n",
       " ('selfie,', 1),\n",
       " ('holders.', 1),\n",
       " ('@IranCampana', 1),\n",
       " ('Republic', 1),\n",
       " ('(if', 1),\n",
       " ('hanging', 1),\n",
       " ('go', 1),\n",
       " ('Scheduled', 1),\n",
       " ('...all', 1),\n",
       " ('up,', 1),\n",
       " ('Hooray!', 1),\n",
       " ('zone', 1),\n",
       " ('tweet', 1),\n",
       " ('send', 1),\n",
       " ('Not', 1),\n",
       " ('pay', 1),\n",
       " ('enjoying', 1),\n",
       " ('@MJuricaWFTV', 1),\n",
       " ('JB\\xe2\\x80\\xa6', 1),\n",
       " ('very', 1),\n",
       " ('@TTerryWFTV', 1),\n",
       " ('rise', 1),\n",
       " ('every', 1),\n",
       " ('updates', 1),\n",
       " ('today!', 1),\n",
       " ('Wheels', 1),\n",
       " ('today,', 1),\n",
       " ('help.', 1),\n",
       " ('help,', 1),\n",
       " ('try', 1),\n",
       " ('Dominic.', 1),\n",
       " ('9:25', 1),\n",
       " ('team', 1),\n",
       " ('havent', 1),\n",
       " ('https://t.co/evgIPUnCun', 1),\n",
       " ('LAS', 1),\n",
       " ('cookies', 1),\n",
       " ('purchased.', 1),\n",
       " ('Denver', 1),\n",
       " ('@aaronjperez', 1),\n",
       " ('past', 1),\n",
       " ('likely', 1),\n",
       " ('A', 1),\n",
       " ('Smh', 1),\n",
       " ('that,', 1),\n",
       " ('Has', 1),\n",
       " ('+', 1),\n",
       " ('(which', 1),\n",
       " ('@katinka118', 1),\n",
       " ('compliments!', 1),\n",
       " ('@Jack_Septic_Eye:', 1),\n",
       " ('lel', 1),\n",
       " ('forgive', 1),\n",
       " ('tolerable.', 1),\n",
       " ('let', 1),\n",
       " ('making', 1),\n",
       " ('path', 1),\n",
       " ('@MiamiHerald', 1),\n",
       " ('lol', 1),\n",
       " ('attitude!', 1),\n",
       " ('items', 1),\n",
       " ('Weston!', 1),\n",
       " ('experience', 1),\n",
       " ('Your', 1),\n",
       " ('@TheRealKirkA', 1),\n",
       " ('through', 1),\n",
       " ('usually', 1),\n",
       " ('changes', 1),\n",
       " ('up-to-date', 1),\n",
       " ('case,', 1),\n",
       " ('...weather-related', 1),\n",
       " ('extra', 1),\n",
       " ('When', 1),\n",
       " ('@juliannabuck', 1),\n",
       " ('patience', 1),\n",
       " ('plane!', 1),\n",
       " ('case?', 1),\n",
       " ('1st', 1),\n",
       " ('apply', 1),\n",
       " ('fee', 1),\n",
       " ('Ft', 1),\n",
       " ('&', 1),\n",
       " ('@jongad1', 1),\n",
       " ('positive', 1),\n",
       " ('11:45', 1),\n",
       " ('destination', 1),\n",
       " ('visit', 1),\n",
       " ('holidays.', 1),\n",
       " ('call', 1),\n",
       " ('until', 1),\n",
       " ('passport', 1),\n",
       " ('tell', 1),\n",
       " ('1/3', 1),\n",
       " ('name', 1),\n",
       " ('@AaronMShaffer', 1),\n",
       " ('fly', 1),\n",
       " ('potentially', 1),\n",
       " ('Patrick.', 1),\n",
       " ('phone', 1),\n",
       " ('GORGEOUS!', 1),\n",
       " ('Time', 1),\n",
       " ('hold', 1),\n",
       " ('must', 1),\n",
       " ('me', 1),\n",
       " ('@ElleAyDoubleYou', 1),\n",
       " ('account', 1),\n",
       " ('field!', 1),\n",
       " ('hour', 1),\n",
       " ('us.', 1),\n",
       " ('work', 1),\n",
       " ('(shared', 1),\n",
       " ('anywhere', 1),\n",
       " ('Princess?', 1),\n",
       " ('us?', 1),\n",
       " ('arrive', 1),\n",
       " ('replying,', 1),\n",
       " ('crazy', 1),\n",
       " ('3ish', 1),\n",
       " ('stream', 1),\n",
       " ('Rene.', 1),\n",
       " ('Annabella.', 1),\n",
       " ('states', 1),\n",
       " ('cause.', 1),\n",
       " ('pulling', 1),\n",
       " ('something', 1),\n",
       " ('Stephanie,', 1),\n",
       " ('legroom', 1),\n",
       " ('bag?', 1),\n",
       " ('https://t.co/pfOCUnSbwF', 1),\n",
       " ('security.', 1),\n",
       " ('ONE', 1),\n",
       " ('arriving...', 1),\n",
       " ('awesome.', 1),\n",
       " ('assistance.', 1),\n",
       " ('issued,', 1),\n",
       " ('@CyndyNayer', 1),\n",
       " ('system.', 1),\n",
       " ('after', 1),\n",
       " ('$250', 1),\n",
       " ('awesome!', 1),\n",
       " ('@GillyAnnandale:', 1),\n",
       " ('Compensation', 1),\n",
       " ('date', 1),\n",
       " ('booking,', 1),\n",
       " ('guys', 1),\n",
       " ('response', 1),\n",
       " ('train!', 1),\n",
       " ('tweeting', 1),\n",
       " ('counter', 1),\n",
       " ('One', 1),\n",
       " ('baggage', 1),\n",
       " ('6:50am', 1),\n",
       " ('frustrating.', 1),\n",
       " ('turns', 1),\n",
       " ('jack', 1),\n",
       " ('JFK', 1),\n",
       " ('help', 1),\n",
       " ('office', 1),\n",
       " ('effect.', 1),\n",
       " ('no!', 1),\n",
       " ('@stopitdee', 1),\n",
       " ('weather,', 1),\n",
       " ('view.', 1),\n",
       " ('still', 1),\n",
       " ('@shawesum', 1),\n",
       " ('...kept', 1),\n",
       " ('airport?', 1),\n",
       " ('notified.', 1),\n",
       " ('#TriviaTakeover', 1),\n",
       " ('Thanks.', 1),\n",
       " ('window', 1),\n",
       " ('willing', 1),\n",
       " ('Evan', 1),\n",
       " ('rough.', 1),\n",
       " ('airport.', 1),\n",
       " ('weeks', 1),\n",
       " ('holiday', 1),\n",
       " ('in...', 1),\n",
       " ('within', 1),\n",
       " ('(size', 1),\n",
       " ('confuse', 1),\n",
       " ('@Todd530:', 1),\n",
       " ('sooner', 1),\n",
       " ('mention', 1),\n",
       " ('happened?', 1),\n",
       " ('Nick.', 1),\n",
       " ('half', 1),\n",
       " ('look?', 1),\n",
       " ('...youre', 1),\n",
       " ('kids.', 1),\n",
       " ('@zbpolin', 1),\n",
       " ('San', 1),\n",
       " ('@Airababyfullam', 1),\n",
       " ('@annabellae', 1),\n",
       " ('found', 1),\n",
       " ('Sounds', 1),\n",
       " ('quarter', 1),\n",
       " ('already...', 1),\n",
       " ('notes', 1),\n",
       " ('-...', 1),\n",
       " (':/', 1),\n",
       " ('correct,', 1),\n",
       " ('related', 1),\n",
       " ('@cchiavetta', 1),\n",
       " ('yes.', 1),\n",
       " ('Boston.', 1),\n",
       " ('factors', 1),\n",
       " ('ish\\xe2\\x80\\xa6\\xe2\\x80\\x9d', 1),\n",
       " ('since', 1),\n",
       " ('include', 1),\n",
       " ('anyone...', 1),\n",
       " ('time!', 1),\n",
       " ('gate', 1),\n",
       " ('https://t.c\\xe2\\x80\\xa6', 1),\n",
       " ('little', 1),\n",
       " ('possibility', 1),\n",
       " ('members', 1),\n",
       " ('them.', 1),\n",
       " ('card', 1),\n",
       " ('Getaways', 1),\n",
       " ('advance', 1),\n",
       " ('experiencing...', 1),\n",
       " ('https://t.co/qawsoUJUGt', 1),\n",
       " ('route', 1),\n",
       " ('@AuthorAkansha:', 1),\n",
       " ('times', 1),\n",
       " ('thing', 1),\n",
       " ('@mjonesTO', 1),\n",
       " ('Even', 1),\n",
       " ('already', 1),\n",
       " ('too!', 1),\n",
       " ('too.', 1),\n",
       " ('one', 1),\n",
       " ('Start', 1),\n",
       " ('notify', 1),\n",
       " ('have.', 1),\n",
       " ('Elizabeth.', 1),\n",
       " ('city', 1),\n",
       " ('service', 1),\n",
       " ('Nature', 1),\n",
       " ('family.', 1),\n",
       " ('system', 1),\n",
       " ('anyone', 1),\n",
       " ('Ive', 1),\n",
       " ('too', 1),\n",
       " ('final', 1),\n",
       " ('listed', 1),\n",
       " ('destination,', 1),\n",
       " ('much!', 1),\n",
       " ('delicious!', 1),\n",
       " ('on,', 1),\n",
       " ('credit:', 1),\n",
       " ('on!', 1),\n",
       " ('on?', 1),\n",
       " ('included.', 1),\n",
       " ('@PatrickM254', 1),\n",
       " ('necessarily.', 1),\n",
       " ('information.', 1),\n",
       " ('@OtotheBeirne:', 1),\n",
       " ('king', 1),\n",
       " ('Love', 1),\n",
       " ('14', 1),\n",
       " ('seat,', 1),\n",
       " ('don\\xe2\\x80\\x99t', 1),\n",
       " ('compensation', 1),\n",
       " ('opens', 1),\n",
       " ('worked,', 1),\n",
       " ('@photopickles', 1),\n",
       " ('Unacceptable.', 1),\n",
       " ('room.', 1),\n",
       " ('experience.', 1),\n",
       " ('customers!', 1),\n",
       " ('head', 1),\n",
       " ('spent', 1),\n",
       " ('well!', 1),\n",
       " ('@NYJETLIFE', 1),\n",
       " ('Then', 1),\n",
       " ('Twitter,', 1),\n",
       " ('hub', 1),\n",
       " ('@westonbaker', 1),\n",
       " ('After', 1),\n",
       " ('able...', 1),\n",
       " ('other', 1),\n",
       " ('Drats!', 1),\n",
       " ('which', 1),\n",
       " ('often?', 1),\n",
       " ('switching', 1),\n",
       " ('service...', 1),\n",
       " ('even', 1),\n",
       " ('yall.', 1),\n",
       " ('shall', 1),\n",
       " ('Wish', 1),\n",
       " ('knew', 1),\n",
       " ('season...', 1),\n",
       " ('you!', 1),\n",
       " ('@jcalabrese87', 1),\n",
       " ('lots', 1),\n",
       " ('difficulties.', 1),\n",
       " ('T-Shirt,', 1),\n",
       " ('clearance', 1),\n",
       " ('@NickArnheim', 1),\n",
       " ('request', 1),\n",
       " ('??????', 1),\n",
       " ('bag\\xe2\\x80\\xa6', 1),\n",
       " ('bins', 1),\n",
       " ('link', 1),\n",
       " ('Wow!', 1),\n",
       " ('saying', 1),\n",
       " ('bomb', 1),\n",
       " ('Wed', 1),\n",
       " ('random', 1),\n",
       " ('https://t.co/9DVkaUgdOn', 1),\n",
       " ('Large)', 1),\n",
       " ('@chemdivaSITech', 1),\n",
       " ('@sillymeeeee', 1),\n",
       " ('fine', 1),\n",
       " ('cache,', 1),\n",
       " ('with,', 1),\n",
       " ('busy', 1),\n",
       " ('based', 1),\n",
       " ('movie!', 1),\n",
       " ('original', 1),\n",
       " ('Lots', 1),\n",
       " ('announce', 1),\n",
       " ('@LizgarciaSells', 1),\n",
       " ('he', 1),\n",
       " ('know!', 1),\n",
       " ('12%', 1),\n",
       " ('Enjoy!', 1),\n",
       " ('stop', 1),\n",
       " ('soon', 1),\n",
       " ('10:42', 1),\n",
       " ('3/3', 1),\n",
       " ('during', 1),\n",
       " ('bags', 1),\n",
       " ('...Depending', 1),\n",
       " ('@heyheyman', 1),\n",
       " ('Fly-Fi', 1),\n",
       " ('man,', 1),\n",
       " ('Rosemari.', 1),\n",
       " ('https://t.co/IUwsJjt9CS', 1),\n",
       " ('bag', 1),\n",
       " ('sky?', 1),\n",
       " ('Allen', 1),\n",
       " ('@ddelmoli', 1),\n",
       " ('https://t.co/KEIgcuFFIL', 1),\n",
       " ('customer', 1),\n",
       " ('learn', 1),\n",
       " ('city.', 1),\n",
       " ('city,', 1),\n",
       " ('Nov.', 1),\n",
       " ('Question', 1),\n",
       " ('Fog', 1),\n",
       " ('@cmg799', 1),\n",
       " ('weather.', 1),\n",
       " ('end.', 1),\n",
       " ('for?', 1),\n",
       " ('DMd', 1),\n",
       " ('@rosemariochoa', 1),\n",
       " ('clearing', 1),\n",
       " ('away', 1),\n",
       " ('@AlfieAlfonzo', 1),\n",
       " ('please', 1),\n",
       " ('tho,', 1),\n",
       " ('Anytime!', 1),\n",
       " ('...and', 1),\n",
       " ('Lauderdale', 1),\n",
       " ('@LittleFootLady', 1),\n",
       " ('helps.', 1),\n",
       " ('operations,', 1),\n",
       " ('customer.', 1),\n",
       " ('date,', 1),\n",
       " ('condolences.', 1),\n",
       " ('omg', 1),\n",
       " ('creating', 1),\n",
       " ('@lladkins', 1),\n",
       " ('initially', 1),\n",
       " ('https:\\xe2\\x80\\xa6', 1),\n",
       " ('????????', 1),\n",
       " ('add', 1),\n",
       " ('AND', 1),\n",
       " ('JFK.', 1),\n",
       " ('Jason', 1),\n",
       " ('many', 1),\n",
       " ('against', 1),\n",
       " ('JFK?', 1),\n",
       " ('Unfortunately,', 1),\n",
       " ('9:00', 1),\n",
       " ('comes', 1),\n",
       " ('considering', 1),\n",
       " ('30th', 1),\n",
       " ('Adam?', 1),\n",
       " ('Oh', 1),\n",
       " ('Each', 1),\n",
       " ('travels!', 1),\n",
       " ('ETA', 1),\n",
       " ('fun!', 1),\n",
       " ('Adam.', 1),\n",
       " ('fun,', 1),\n",
       " ('throughout', 1),\n",
       " ('@wdelmolino', 1),\n",
       " ('speak', 1),\n",
       " ('now,', 1),\n",
       " ('say,', 1),\n",
       " ('TrueBlue', 1),\n",
       " ('Space', 1),\n",
       " ('https://t.co/2OBkYKYkQp', 1),\n",
       " ('been', 1),\n",
       " ('Most', 1),\n",
       " ('$300', 1),\n",
       " ('is....', 1),\n",
       " ('domino', 1),\n",
       " ('pm', 1),\n",
       " ('check.', 1),\n",
       " ('worker', 1),\n",
       " ('@CarieBrdshaw', 1),\n",
       " ('worked', 1),\n",
       " ('is...', 1),\n",
       " ('@UygEv2015', 1),\n",
       " ('Chris.', 1),\n",
       " ('case', 1),\n",
       " ('@Tomas_Regalado', 1),\n",
       " ('ASAP.', 1),\n",
       " ('Dont', 1),\n",
       " ('plans.', 1),\n",
       " ('leave', 1),\n",
       " ('originate', 1),\n",
       " ('\\xe2\\x80\\x9cNo', 1),\n",
       " ('expiration', 1),\n",
       " ('@_yxngmami', 1),\n",
       " ('fun', 1),\n",
       " ('theres', 1),\n",
       " ('Wendy?', 1),\n",
       " ('@BShieldsWFTV', 1),\n",
       " ('$75.', 1),\n",
       " ('person.', 1),\n",
       " ('90', 1),\n",
       " ('working?', 1),\n",
       " ('expedited', 1),\n",
       " ('different', 1),\n",
       " ('Weve', 1),\n",
       " ('room,', 1),\n",
       " ('shirt', 1),\n",
       " ('perhaps', 1),\n",
       " ('suggest', 1),\n",
       " ('Cant', 1),\n",
       " ('away!', 1),\n",
       " ('tells', 1),\n",
       " ('Did', 1),\n",
       " ('raining.', 1),\n",
       " ('claim?', 1),\n",
       " ('peoples', 1),\n",
       " ('inch', 1),\n",
       " ('start', 1),\n",
       " ('difficult', 1),\n",
       " ('Maybe', 1),\n",
       " ('hang', 1),\n",
       " ('moment', 1),\n",
       " ('9:55', 1),\n",
       " ('flew', 1),\n",
       " ('Youve', 1),\n",
       " ('fun.', 1),\n",
       " ('(538-2583).', 1),\n",
       " ('however,', 1),\n",
       " ('wheres', 1),\n",
       " ('early', 1),\n",
       " ('will.', 1),\n",
       " ('off', 1),\n",
       " ('standby.', 1),\n",
       " ('@booksthatmatter', 1),\n",
       " ('it?', 1),\n",
       " ('yet.', 1),\n",
       " ('up-to-date).', 1),\n",
       " ('contact', 1),\n",
       " ('Im', 1),\n",
       " ('Have', 1),\n",
       " ('Kerri.', 1),\n",
       " ('Diego!', 1),\n",
       " ('being', 1),\n",
       " ('Mother', 1),\n",
       " ('1786', 1),\n",
       " ('assigned', 1),\n",
       " ('Wonderful', 1),\n",
       " ('thanks', 1),\n",
       " ('itinerary.', 1),\n",
       " ('yet', 1),\n",
       " ('previous', 1),\n",
       " ('Be', 1),\n",
       " ('Nick!', 1),\n",
       " ('wed', 1),\n",
       " ('#Cheers', 1),\n",
       " ('causing', 1),\n",
       " ('9:31', 1),\n",
       " ('additional...', 1),\n",
       " ('Current', 1),\n",
       " ('has', 1),\n",
       " ('surprised', 1),\n",
       " ('@stephiscope', 1),\n",
       " ('scheduled', 1),\n",
       " ('know...', 1),\n",
       " ('increased', 1),\n",
       " ('government', 1),\n",
       " ('922?', 1),\n",
       " ('@nickjohnsonCNN', 1),\n",
       " ('process.', 1),\n",
       " ('suck.', 1),\n",
       " ('...delays,', 1),\n",
       " ('6:08', 1),\n",
       " ('#bestcustomeraward', 1),\n",
       " ('#unitedsucks', 1),\n",
       " ('world', 1),\n",
       " ('dates,', 1),\n",
       " ('thank-you', 1),\n",
       " ('showing', 1),\n",
       " ('confusion,', 1),\n",
       " ('fare.', 1),\n",
       " ('follows', 1),\n",
       " ('country.', 1),\n",
       " ('@RMcCranieWFTV', 1),\n",
       " ('Andressa!', 1),\n",
       " ('...to', 1),\n",
       " ('@GWaldenWFTV', 1),\n",
       " ('space).', 1),\n",
       " ('states,', 1),\n",
       " ('Since', 1),\n",
       " ('Been', 1),\n",
       " ('shes', 1),\n",
       " ('Lenore.', 1),\n",
       " ('@1ShirtSupport:', 1),\n",
       " ('@JetBlue!', 1),\n",
       " ('NEEDED', 1),\n",
       " ('Thx', 1),\n",
       " ('p.m.', 1),\n",
       " ('everything', 1),\n",
       " ('tad', 1),\n",
       " ('does', 1),\n",
       " ('Let', 1),\n",
       " ('forgiven', 1),\n",
       " ('@seanbarakett', 1),\n",
       " ('booking', 1),\n",
       " ('locate', 1),\n",
       " ('accessing', 1),\n",
       " ('run', 1),\n",
       " ('business', 1),\n",
       " ('AM.', 1),\n",
       " ('payment', 1),\n",
       " ('expire', 1),\n",
       " ('Truly,', 1),\n",
       " ('2/3', 1),\n",
       " ('Think', 1),\n",
       " ('plug', 1),\n",
       " ('Aww!', 1),\n",
       " ('nickel...', 1),\n",
       " ('getting', 1),\n",
       " ('status?', 1),\n",
       " ('8:58', 1),\n",
       " ('consequently', 1),\n",
       " ('Best', 1),\n",
       " ('match', 1),\n",
       " ('9:00.', 1),\n",
       " ('Yes,', 1),\n",
       " ('whats', 1),\n",
       " ('previously', 1),\n",
       " ('tight', 1),\n",
       " ('hope!', 1),\n",
       " ('https://t.co/61fKRnYNpK', 1),\n",
       " ('blessed', 1),\n",
       " ('https://t.co/o1FnrYhr6z', 1),\n",
       " ('there!', 1),\n",
       " ('down', 1),\n",
       " ('rolling', 1),\n",
       " ('Flights', 1),\n",
       " ('times,', 1),\n",
       " ('@jodyph1', 1),\n",
       " ('@Carol_Liz29', 1),\n",
       " ('happening', 1),\n",
       " ('morning,', 1),\n",
       " ('fast', 1),\n",
       " ('support', 1),\n",
       " ('Hang', 1),\n",
       " ('lost', 1),\n",
       " ('Departures', 1),\n",
       " ('Excellent', 1),\n",
       " ('https\\xe2\\x80\\xa6', 1),\n",
       " ('departed.', 1),\n",
       " ('entertained!', 1),\n",
       " ('offer', 1),\n",
       " ('Airport', 1),\n",
       " ('poster', 1),\n",
       " ('you?', 1),\n",
       " ('notifications', 1),\n",
       " ('account?', 1),\n",
       " ('Tomorrows', 1),\n",
       " ('boarding', 1),\n",
       " ('made', 1),\n",
       " ('wish', 1),\n",
       " ('crew.', 1),\n",
       " ('official', 1),\n",
       " ('this,', 1),\n",
       " ('channels.', 1),\n",
       " ('https://t.co/G8gXkzpwzq', 1),\n",
       " ('Alyssa!', 1),\n",
       " ('wait.', 1),\n",
       " ('minutes', 1),\n",
       " ('email', 1),\n",
       " ('ordered', 1),\n",
       " ('More', 1),\n",
       " ('@markiplier', 1),\n",
       " ('#GoodMorning', 1),\n",
       " ('file', 1),\n",
       " ('...the', 1),\n",
       " ('trickled', 1),\n",
       " ('...at', 1),\n",
       " ('hasnt', 1),\n",
       " ('theyll', 1),\n",
       " ('Boston!', 1),\n",
       " ('no', 1),\n",
       " ('TV', 1),\n",
       " ('details.', 1),\n",
       " ('started', 1),\n",
       " ('@thebowmaniac', 1),\n",
       " ('call!', 1),\n",
       " ('trick!', 1),\n",
       " ('SLEEP', 1),\n",
       " ('poor', 1),\n",
       " ('star', 1),\n",
       " ('again!', 1),\n",
       " ('includes', 1),\n",
       " ('Thought', 1),\n",
       " ('in.', 1),\n",
       " ('\\xe2\\x80\\xa6', 1),\n",
       " ('Rick.', 1),\n",
       " ('ago', 1),\n",
       " ('severe', 1),\n",
       " ('8:15', 1),\n",
       " ('longer', 1),\n",
       " ('Mmhmm.', 1),\n",
       " ('Ramon.', 1),\n",
       " ('https://t.co/RPlcrcwzTA', 1),\n",
       " ('shoutout', 1),\n",
       " ('@ButtercupEvents', 1),\n",
       " ('As', 1),\n",
       " ('u', 1),\n",
       " ('@sarendippity', 1),\n",
       " ('code,', 1),\n",
       " ('@MeranieRichtman', 1),\n",
       " ('once', 1)]"
      ]
     },
     "execution_count": 230,
     "metadata": {},
     "output_type": "execute_result"
    }
   ],
   "source": [
    "sorted(wordList.items(), key=operator.itemgetter(1),reverse=True)"
   ]
  },
  {
   "cell_type": "code",
   "execution_count": 227,
   "metadata": {
    "collapsed": false
   },
   "outputs": [],
   "source": [
    "sortedFreq = sorted(wordList.items(), key=operator.itemgetter(1),reverse=True)"
   ]
  },
  {
   "cell_type": "code",
   "execution_count": 228,
   "metadata": {
    "collapsed": false
   },
   "outputs": [
    {
     "data": {
      "text/plain": [
       "{'#Cheers': 1,\n",
       " '#GoodMorning': 1,\n",
       " '#TriviaTakeover': 1,\n",
       " '#bestcustomeraward': 1,\n",
       " '#unitedsucks': 1,\n",
       " '$250': 1,\n",
       " '$300': 1,\n",
       " '$75.': 1,\n",
       " '&': 1,\n",
       " '(538-2583).': 1,\n",
       " '(if': 1,\n",
       " '(shared': 1,\n",
       " '(size': 1,\n",
       " '(which': 1,\n",
       " '+': 1,\n",
       " '-': 2,\n",
       " '-...': 1,\n",
       " '...Depending': 1,\n",
       " '...all': 1,\n",
       " '...and': 1,\n",
       " '...at': 1,\n",
       " '...delays,': 1,\n",
       " '...kept': 1,\n",
       " '...the': 1,\n",
       " '...to': 1,\n",
       " '...weather-related': 1,\n",
       " '...youre': 1,\n",
       " '1-800-JETBLUE': 2,\n",
       " '1/2': 9,\n",
       " '1/3': 1,\n",
       " '10:30': 2,\n",
       " '10:42': 1,\n",
       " '11:45': 1,\n",
       " '12%': 1,\n",
       " '14': 1,\n",
       " '1786': 1,\n",
       " '1st': 1,\n",
       " '2/2': 8,\n",
       " '2/3': 1,\n",
       " '3/3': 1,\n",
       " '30th': 1,\n",
       " '3ish': 1,\n",
       " '6:08': 1,\n",
       " '6:50am': 1,\n",
       " '8:15': 1,\n",
       " '8:58': 1,\n",
       " '90': 1,\n",
       " '922?': 1,\n",
       " '9:00': 1,\n",
       " '9:00.': 1,\n",
       " '9:25': 1,\n",
       " '9:31': 1,\n",
       " '9:55': 1,\n",
       " ':)': 3,\n",
       " ':/': 1,\n",
       " ':o': 1,\n",
       " '??': 6,\n",
       " '??????': 1,\n",
       " '????????': 1,\n",
       " '@1ShirtSupport': 10,\n",
       " '@1ShirtSupport:': 1,\n",
       " '@ACordov1': 3,\n",
       " '@AaronMShaffer': 1,\n",
       " '@Airababyfullam': 1,\n",
       " '@AlfieAlfonzo': 1,\n",
       " '@AuthorAkansha:': 1,\n",
       " '@BShieldsWFTV': 1,\n",
       " '@ButtercupEvents': 1,\n",
       " '@CarieBrdshaw': 1,\n",
       " '@Carol_Liz29': 1,\n",
       " '@CyndyNayer': 1,\n",
       " '@ElleAyDoubleYou': 1,\n",
       " '@GWaldenWFTV': 1,\n",
       " '@GameGrumps': 3,\n",
       " '@GillyAnnandale:': 1,\n",
       " '@IranCampana': 1,\n",
       " '@JSA1987': 5,\n",
       " '@Jack_Septic_Eye': 2,\n",
       " '@Jack_Septic_Eye:': 1,\n",
       " '@Jeff_Harris_NZ': 3,\n",
       " '@JetBlue': 10,\n",
       " '@JetBlue!': 1,\n",
       " '@Juls7826L': 2,\n",
       " '@KibsKelble': 2,\n",
       " '@LaryssaStecyk': 2,\n",
       " '@LittleFootLady': 1,\n",
       " '@LizgarciaSells': 1,\n",
       " '@MJuricaWFTV': 1,\n",
       " '@MeranieRichtman': 1,\n",
       " '@MiamiHerald': 1,\n",
       " '@Mike_Gramajo': 5,\n",
       " '@NYJETLIFE': 1,\n",
       " '@Niagarcia03': 2,\n",
       " '@NickArnheim': 1,\n",
       " '@OkayRene': 2,\n",
       " '@OtotheBeirne:': 1,\n",
       " '@PatrickM254': 1,\n",
       " '@RMcCranieWFTV': 1,\n",
       " '@TTerryWFTV': 1,\n",
       " '@TheRealKirkA': 1,\n",
       " '@Todd530:': 1,\n",
       " '@Tomas_Regalado': 1,\n",
       " '@UygEv2015': 1,\n",
       " '@WRC_of_NY': 2,\n",
       " '@____alyssa': 2,\n",
       " '@_yxngmami': 1,\n",
       " '@aaronjperez': 1,\n",
       " '@andrewctran': 2,\n",
       " '@annabellae': 1,\n",
       " '@booksthatmatter': 1,\n",
       " '@cchiavetta': 1,\n",
       " '@chemdivaSITech': 1,\n",
       " '@chris4851': 2,\n",
       " '@clawng': 2,\n",
       " '@cmg799': 1,\n",
       " '@ddelmoli': 1,\n",
       " '@ecarruthersjr': 2,\n",
       " '@heyheyman': 1,\n",
       " '@itsKizzleBtch': 2,\n",
       " '@jcalabrese87': 1,\n",
       " '@jodyph1': 1,\n",
       " '@jongad1': 1,\n",
       " '@js_N_Y_C': 3,\n",
       " '@juliannabuck': 1,\n",
       " '@katinka118': 1,\n",
       " '@lladkins': 1,\n",
       " '@markiplier': 1,\n",
       " '@mikemurdock703': 2,\n",
       " '@mjonesTO': 1,\n",
       " '@mlarosa84': 2,\n",
       " '@nickjohnsonCNN': 1,\n",
       " '@photopickles': 1,\n",
       " '@rosemariochoa': 1,\n",
       " '@rp3_22': 4,\n",
       " '@rubzica': 2,\n",
       " '@sammy_butler': 3,\n",
       " '@sarendippity': 1,\n",
       " '@seanbarakett': 1,\n",
       " '@shawesum': 1,\n",
       " '@sillymeeeee': 1,\n",
       " '@simplerevolt': 2,\n",
       " '@slidingsideways': 2,\n",
       " '@stephiscope': 1,\n",
       " '@stopitdee': 1,\n",
       " '@thebowmaniac': 1,\n",
       " '@turms19': 4,\n",
       " '@tylerOeaster': 2,\n",
       " '@united': 2,\n",
       " '@wdelmolino': 1,\n",
       " '@westonbaker': 1,\n",
       " '@zacxwolf': 3,\n",
       " '@zbpolin': 1,\n",
       " 'A': 1,\n",
       " 'AM.': 1,\n",
       " 'AND': 1,\n",
       " 'ASAP.': 1,\n",
       " 'Adam.': 1,\n",
       " 'Adam?': 1,\n",
       " 'After': 1,\n",
       " 'Air': 2,\n",
       " 'Airport': 1,\n",
       " 'Allen': 1,\n",
       " 'Alyssa!': 1,\n",
       " 'And': 2,\n",
       " 'Andressa!': 1,\n",
       " 'Annabella.': 1,\n",
       " 'Anytime!': 1,\n",
       " 'Are': 2,\n",
       " 'As': 1,\n",
       " 'Aww!': 1,\n",
       " 'Be': 1,\n",
       " 'Been': 1,\n",
       " 'Best': 1,\n",
       " 'Better': 2,\n",
       " 'Boston!': 1,\n",
       " 'Boston.': 1,\n",
       " 'Burgie': 4,\n",
       " 'Cant': 1,\n",
       " 'Chris.': 1,\n",
       " 'Compensation': 1,\n",
       " 'Control': 2,\n",
       " 'Crap': 2,\n",
       " 'Current': 1,\n",
       " 'DM': 8,\n",
       " 'DMd': 1,\n",
       " 'Delays': 4,\n",
       " 'Denver': 1,\n",
       " 'Departures': 1,\n",
       " 'Did': 1,\n",
       " 'Diego!': 1,\n",
       " 'Dominic.': 1,\n",
       " 'Dominican': 2,\n",
       " 'Dont': 1,\n",
       " 'Drats!': 1,\n",
       " 'ETA': 1,\n",
       " 'ETD': 2,\n",
       " 'Each': 1,\n",
       " 'Elizabeth.': 1,\n",
       " 'Enjoy!': 1,\n",
       " 'Evan': 1,\n",
       " 'Even': 1,\n",
       " 'Excellent': 1,\n",
       " 'Flights': 1,\n",
       " 'Fly-Fi': 1,\n",
       " 'Fog': 1,\n",
       " 'Ft': 1,\n",
       " 'GORGEOUS!': 1,\n",
       " 'Getaways': 1,\n",
       " 'Give': 2,\n",
       " 'Glad': 4,\n",
       " 'Hang': 1,\n",
       " 'Has': 1,\n",
       " 'Have': 1,\n",
       " 'Hi': 2,\n",
       " 'Hooray!': 1,\n",
       " 'How': 2,\n",
       " 'I': 13,\n",
       " 'If': 7,\n",
       " 'Ill': 3,\n",
       " 'Im': 1,\n",
       " 'Inflight': 2,\n",
       " 'Is': 3,\n",
       " 'It': 4,\n",
       " 'Its': 4,\n",
       " 'Ive': 1,\n",
       " 'JB\\xe2\\x80\\xa6': 1,\n",
       " 'JFK': 1,\n",
       " 'JFK.': 1,\n",
       " 'JFK?': 1,\n",
       " 'Jason': 1,\n",
       " 'Jeff.': 2,\n",
       " 'Just': 3,\n",
       " 'Kerri.': 1,\n",
       " 'LAS': 1,\n",
       " 'Large)': 1,\n",
       " 'Lauderdale': 1,\n",
       " 'Lenore.': 1,\n",
       " 'Let': 1,\n",
       " 'Lots': 1,\n",
       " 'Love': 1,\n",
       " 'Maybe': 1,\n",
       " 'Mike.': 2,\n",
       " 'Mmhmm.': 1,\n",
       " 'More': 1,\n",
       " 'Most': 1,\n",
       " 'Mother': 1,\n",
       " 'NEEDED': 1,\n",
       " 'Nature': 1,\n",
       " 'Nick!': 1,\n",
       " 'Nick.': 1,\n",
       " 'Not': 1,\n",
       " 'Nov.': 1,\n",
       " 'ONE': 1,\n",
       " 'Oh': 1,\n",
       " 'One': 1,\n",
       " 'Our': 3,\n",
       " 'PM': 2,\n",
       " 'PM.': 4,\n",
       " 'Patrick.': 1,\n",
       " 'Please': 9,\n",
       " 'Princess?': 1,\n",
       " 'Question': 1,\n",
       " 'RT': 6,\n",
       " 'Ramon.': 1,\n",
       " 'Rene.': 1,\n",
       " 'Republic': 1,\n",
       " 'Rick.': 1,\n",
       " 'Rosemari.': 1,\n",
       " 'SLEEP': 1,\n",
       " 'San': 1,\n",
       " 'Scheduled': 1,\n",
       " 'Scottish': 2,\n",
       " 'Since': 1,\n",
       " 'Smh': 1,\n",
       " 'Sorry': 9,\n",
       " 'Sounds': 1,\n",
       " 'Space': 1,\n",
       " 'Start': 1,\n",
       " 'Stephanie,': 1,\n",
       " 'T-Shirt,': 1,\n",
       " 'TV': 1,\n",
       " 'Thank': 2,\n",
       " 'Thanks': 8,\n",
       " 'Thanks.': 1,\n",
       " 'Thats': 3,\n",
       " 'The': 6,\n",
       " 'Then': 1,\n",
       " 'There': 3,\n",
       " 'Think': 1,\n",
       " 'Thought': 1,\n",
       " 'Thx': 1,\n",
       " 'Time': 1,\n",
       " 'Tomorrows': 1,\n",
       " 'Traffic': 2,\n",
       " 'TrueBlue': 1,\n",
       " 'Truly,': 1,\n",
       " 'Try': 2,\n",
       " 'Twitter,': 1,\n",
       " 'Unacceptable.': 1,\n",
       " 'Unfortunately,': 1,\n",
       " 'We': 26,\n",
       " 'Wed': 1,\n",
       " 'Well': 6,\n",
       " 'Wendy?': 1,\n",
       " 'Were': 16,\n",
       " 'Weston!': 1,\n",
       " 'Weve': 1,\n",
       " 'What': 4,\n",
       " 'Whats': 2,\n",
       " 'Wheels': 1,\n",
       " 'When': 1,\n",
       " 'Which': 3,\n",
       " 'Will': 2,\n",
       " 'Wish': 1,\n",
       " 'Wonderful': 1,\n",
       " 'Wow!': 1,\n",
       " 'Yes,': 1,\n",
       " 'You': 5,\n",
       " 'Your': 1,\n",
       " 'Youve': 1,\n",
       " 'a': 36,\n",
       " 'able': 3,\n",
       " 'able...': 1,\n",
       " 'about': 7,\n",
       " 'accessing': 1,\n",
       " 'account': 1,\n",
       " 'account?': 1,\n",
       " 'across': 2,\n",
       " 'add': 1,\n",
       " 'additional': 3,\n",
       " 'additional...': 1,\n",
       " 'advance': 1,\n",
       " 'after': 1,\n",
       " 'again!': 1,\n",
       " 'against': 1,\n",
       " 'ago': 1,\n",
       " 'air': 2,\n",
       " 'aircraft': 2,\n",
       " 'airline,': 2,\n",
       " 'airport': 7,\n",
       " 'airport.': 1,\n",
       " 'airport?': 1,\n",
       " 'all': 2,\n",
       " 'already': 1,\n",
       " 'already...': 1,\n",
       " 'alternatives': 1,\n",
       " 'always': 3,\n",
       " 'an': 16,\n",
       " 'and': 27,\n",
       " 'announce': 1,\n",
       " 'another': 2,\n",
       " 'any': 5,\n",
       " 'anyone': 1,\n",
       " 'anyone...': 1,\n",
       " 'anywhere': 1,\n",
       " 'apologize': 2,\n",
       " 'apply': 1,\n",
       " 'appreciate': 2,\n",
       " 'are': 17,\n",
       " 'area': 2,\n",
       " 'arrival': 3,\n",
       " 'arrive': 1,\n",
       " 'arrive.': 2,\n",
       " 'arriving': 2,\n",
       " 'arriving...': 1,\n",
       " 'as': 3,\n",
       " 'asap.': 2,\n",
       " 'ask': 2,\n",
       " 'assigned': 1,\n",
       " 'assist': 2,\n",
       " 'assistance.': 1,\n",
       " 'at': 10,\n",
       " 'attitude!': 1,\n",
       " 'away': 1,\n",
       " 'away!': 1,\n",
       " 'awesome': 2,\n",
       " 'awesome!': 1,\n",
       " 'awesome.': 1,\n",
       " 'bag': 1,\n",
       " 'bag?': 1,\n",
       " 'baggage': 1,\n",
       " 'bags': 1,\n",
       " 'bag\\xe2\\x80\\xa6': 1,\n",
       " 'based': 1,\n",
       " 'be': 11,\n",
       " 'been': 1,\n",
       " 'before': 2,\n",
       " 'being': 1,\n",
       " 'best': 2,\n",
       " 'bins': 1,\n",
       " 'bit': 2,\n",
       " 'blessed': 1,\n",
       " 'boarding': 1,\n",
       " 'bomb': 1,\n",
       " 'book': 2,\n",
       " 'booking': 1,\n",
       " 'booking,': 1,\n",
       " 'burger': 2,\n",
       " 'business': 1,\n",
       " 'busy': 1,\n",
       " 'but': 6,\n",
       " 'by': 2,\n",
       " 'cache,': 1,\n",
       " 'call': 1,\n",
       " 'call!': 1,\n",
       " 'can': 15,\n",
       " 'card': 1,\n",
       " 'carousel': 3,\n",
       " 'case': 1,\n",
       " 'case,': 1,\n",
       " 'case?': 1,\n",
       " 'cause.': 1,\n",
       " 'caused': 1,\n",
       " 'causing': 1,\n",
       " 'changes': 1,\n",
       " 'channels.': 1,\n",
       " 'check': 4,\n",
       " 'check.': 1,\n",
       " 'city': 1,\n",
       " 'city,': 1,\n",
       " 'city.': 1,\n",
       " 'claim?': 1,\n",
       " 'clearance': 1,\n",
       " 'clearing': 1,\n",
       " 'code': 3,\n",
       " 'code,': 1,\n",
       " 'come': 2,\n",
       " 'comes': 1,\n",
       " 'coming': 2,\n",
       " 'compensation': 1,\n",
       " 'compliments!': 1,\n",
       " 'condolences.': 1,\n",
       " 'confirmation': 4,\n",
       " 'confuse': 1,\n",
       " 'confusion,': 1,\n",
       " 'consequently': 1,\n",
       " 'considering': 1,\n",
       " 'contact': 1,\n",
       " 'cookies': 1,\n",
       " 'correct,': 1,\n",
       " 'could': 2,\n",
       " 'counter': 1,\n",
       " 'country.': 1,\n",
       " 'crazy': 1,\n",
       " 'creating': 1,\n",
       " 'credit:': 1,\n",
       " 'crew': 6,\n",
       " 'crew.': 1,\n",
       " 'crewmember': 4,\n",
       " 'crewmembers': 6,\n",
       " 'current': 2,\n",
       " 'customer': 1,\n",
       " 'customer.': 1,\n",
       " 'customers!': 1,\n",
       " 'date': 1,\n",
       " 'date,': 1,\n",
       " 'dates,': 1,\n",
       " 'day!': 2,\n",
       " 'days': 3,\n",
       " 'definitely': 2,\n",
       " 'delay': 3,\n",
       " 'delay.': 2,\n",
       " 'delayed': 5,\n",
       " 'delays': 5,\n",
       " 'delays.': 2,\n",
       " 'delicious!': 1,\n",
       " 'departed.': 1,\n",
       " 'departure': 7,\n",
       " 'destination': 1,\n",
       " 'destination,': 1,\n",
       " 'details': 4,\n",
       " 'details.': 1,\n",
       " 'did': 3,\n",
       " 'different': 1,\n",
       " 'difficult': 1,\n",
       " 'difficulties.': 1,\n",
       " 'do': 3,\n",
       " 'does': 1,\n",
       " 'doesnt': 2,\n",
       " 'domino': 1,\n",
       " 'dont': 3,\n",
       " 'don\\xe2\\x80\\x99t': 1,\n",
       " 'down': 1,\n",
       " 'due': 3,\n",
       " 'during': 1,\n",
       " 'early': 1,\n",
       " 'effect.': 1,\n",
       " 'email': 1,\n",
       " 'end.': 1,\n",
       " 'enjoying': 1,\n",
       " 'entertained!': 1,\n",
       " 'especially': 2,\n",
       " 'estimated': 3,\n",
       " 'even': 1,\n",
       " 'every': 1,\n",
       " 'everything': 1,\n",
       " 'excited': 2,\n",
       " 'expedited': 1,\n",
       " 'experience': 1,\n",
       " 'experience.': 1,\n",
       " 'experiencing': 2,\n",
       " 'experiencing...': 1,\n",
       " 'expiration': 1,\n",
       " 'expire': 1,\n",
       " 'extra': 1,\n",
       " 'factors': 1,\n",
       " 'family.': 1,\n",
       " 'fare': 2,\n",
       " 'fare.': 1,\n",
       " 'fast': 1,\n",
       " 'fee': 1,\n",
       " 'few': 2,\n",
       " 'field!': 1,\n",
       " 'file': 1,\n",
       " 'final': 1,\n",
       " 'fine': 1,\n",
       " 'flew': 1,\n",
       " 'flight': 20,\n",
       " 'flight!': 2,\n",
       " 'flight.': 7,\n",
       " 'flight?': 2,\n",
       " 'flights': 2,\n",
       " 'fly': 1,\n",
       " 'flying': 2,\n",
       " 'follows': 1,\n",
       " 'for': 51,\n",
       " 'for?': 1,\n",
       " 'forgive': 1,\n",
       " 'forgiven': 1,\n",
       " 'found': 1,\n",
       " 'from': 9,\n",
       " 'frustrating': 2,\n",
       " 'frustrating.': 1,\n",
       " 'frustration,': 2,\n",
       " 'fun': 1,\n",
       " 'fun!': 1,\n",
       " 'fun,': 1,\n",
       " 'fun.': 1,\n",
       " 'gate': 1,\n",
       " 'get': 5,\n",
       " 'getting': 1,\n",
       " 'give': 4,\n",
       " 'giving': 2,\n",
       " 'glad': 2,\n",
       " 'go': 1,\n",
       " 'got': 2,\n",
       " 'government': 1,\n",
       " 'great': 2,\n",
       " 'guys': 1,\n",
       " 'had': 2,\n",
       " 'half': 1,\n",
       " 'hang': 1,\n",
       " 'hanging': 1,\n",
       " 'happened?': 1,\n",
       " 'happening': 1,\n",
       " 'happy': 8,\n",
       " 'happy,': 1,\n",
       " 'hard': 2,\n",
       " 'has': 1,\n",
       " 'hasnt': 1,\n",
       " 'have': 13,\n",
       " 'have.': 1,\n",
       " 'havent': 1,\n",
       " 'he': 1,\n",
       " 'head': 1,\n",
       " 'hear': 10,\n",
       " 'hear!': 2,\n",
       " 'help': 1,\n",
       " 'help,': 1,\n",
       " 'help.': 1,\n",
       " 'helps.': 1,\n",
       " 'here': 2,\n",
       " 'hold': 1,\n",
       " 'holders.': 1,\n",
       " 'holiday': 1,\n",
       " 'holidays.': 1,\n",
       " 'honor': 2,\n",
       " 'hope!': 1,\n",
       " 'hour': 1,\n",
       " 'how': 3,\n",
       " 'however,': 1,\n",
       " 'https://t.co/2OBkYKYkQp': 1,\n",
       " 'https://t.co/61fKRnYNpK': 1,\n",
       " 'https://t.co/9DVkaUgdOn': 1,\n",
       " 'https://t.co/G8gXkzpwzq': 1,\n",
       " 'https://t.co/IUwsJjt9CS': 1,\n",
       " 'https://t.co/KEIgcuFFIL': 1,\n",
       " 'https://t.co/RPlcrcwzTA': 1,\n",
       " 'https://t.co/evgIPUnCun': 1,\n",
       " 'https://t.co/o1FnrYhr6z': 1,\n",
       " 'https://t.co/pfOCUnSbwF': 1,\n",
       " 'https://t.co/qawsoUJUGt': 1,\n",
       " 'https://t.c\\xe2\\x80\\xa6': 1,\n",
       " 'https:\\xe2\\x80\\xa6': 1,\n",
       " 'https\\xe2\\x80\\xa6': 1,\n",
       " 'hub': 1,\n",
       " 'if': 3,\n",
       " 'in': 16,\n",
       " 'in.': 1,\n",
       " 'in...': 1,\n",
       " 'inch': 1,\n",
       " 'include': 1,\n",
       " 'included.': 1,\n",
       " 'includes': 1,\n",
       " 'inconvenience,': 2,\n",
       " 'inconvenience.': 2,\n",
       " 'increased': 1,\n",
       " 'inflight': 2,\n",
       " 'info.': 3,\n",
       " 'information': 3,\n",
       " 'information.': 1,\n",
       " 'initially': 1,\n",
       " 'into': 4,\n",
       " 'is': 22,\n",
       " 'is...': 1,\n",
       " 'is....': 1,\n",
       " 'ish\\xe2\\x80\\xa6\\xe2\\x80\\x9d': 1,\n",
       " 'issued,': 1,\n",
       " 'issues': 2,\n",
       " 'it': 9,\n",
       " 'it!': 2,\n",
       " 'it.': 2,\n",
       " 'it?': 1,\n",
       " 'items': 1,\n",
       " 'itinerary.': 1,\n",
       " 'its': 8,\n",
       " 'jack': 1,\n",
       " 'just': 5,\n",
       " 'keeping': 2,\n",
       " 'kids.': 1,\n",
       " 'king': 1,\n",
       " 'knew': 1,\n",
       " 'know': 7,\n",
       " 'know!': 1,\n",
       " 'know...': 1,\n",
       " 'lack': 1,\n",
       " 'latest': 4,\n",
       " 'learn': 1,\n",
       " 'leave': 1,\n",
       " 'legroom': 1,\n",
       " 'lel': 1,\n",
       " 'let': 1,\n",
       " 'like': 5,\n",
       " 'likely': 1,\n",
       " 'link': 1,\n",
       " 'listed': 1,\n",
       " 'little': 1,\n",
       " 'locate': 1,\n",
       " 'lol': 1,\n",
       " 'long': 2,\n",
       " 'longer': 1,\n",
       " 'look': 5,\n",
       " 'look.': 2,\n",
       " 'look?': 1,\n",
       " 'looks': 2,\n",
       " 'lost': 1,\n",
       " 'lots': 1,\n",
       " 'love': 3,\n",
       " 'lower': 3,\n",
       " 'made': 1,\n",
       " 'make': 2,\n",
       " 'making': 1,\n",
       " 'man,': 1,\n",
       " 'many': 1,\n",
       " 'match': 1,\n",
       " 'may': 2,\n",
       " 'me': 1,\n",
       " 'means': 2,\n",
       " 'members': 1,\n",
       " 'mention': 1,\n",
       " 'minutes': 1,\n",
       " 'moment': 1,\n",
       " 'more': 4,\n",
       " 'morning,': 1,\n",
       " 'most': 2,\n",
       " 'movie!': 1,\n",
       " 'much!': 1,\n",
       " 'must': 1,\n",
       " 'my': 3,\n",
       " 'name': 1,\n",
       " 'necessarily.': 1,\n",
       " 'need': 2,\n",
       " 'never': 3,\n",
       " 'new': 2,\n",
       " 'nickel...': 1,\n",
       " 'no': 1,\n",
       " 'no!': 1,\n",
       " 'not': 8,\n",
       " 'notes': 1,\n",
       " 'notifications': 1,\n",
       " 'notified.': 1,\n",
       " 'notify': 1,\n",
       " 'now': 3,\n",
       " 'now,': 1,\n",
       " 'number': 2,\n",
       " 'number?': 2,\n",
       " 'of': 23,\n",
       " 'off': 1,\n",
       " 'offer': 1,\n",
       " 'office': 1,\n",
       " 'official': 1,\n",
       " 'often?': 1,\n",
       " 'omg': 1,\n",
       " 'on': 19,\n",
       " 'on!': 1,\n",
       " 'on,': 1,\n",
       " 'on?': 1,\n",
       " 'once': 1,\n",
       " 'one': 1,\n",
       " 'only': 2,\n",
       " 'opens': 1,\n",
       " 'operations,': 1,\n",
       " 'or': 2,\n",
       " 'ordered': 1,\n",
       " 'original': 1,\n",
       " 'originate': 1,\n",
       " 'other': 1,\n",
       " 'our': 15,\n",
       " 'out': 13,\n",
       " 'over': 5,\n",
       " 'p.m.': 1,\n",
       " 'passport': 1,\n",
       " 'past': 1,\n",
       " 'path': 1,\n",
       " 'patience': 1,\n",
       " 'patience!': 2,\n",
       " 'patience,': 3,\n",
       " 'patience.': 3,\n",
       " 'pay': 1,\n",
       " 'payment': 1,\n",
       " 'peoples': 1,\n",
       " 'per': 2,\n",
       " 'perhaps': 1,\n",
       " 'person.': 1,\n",
       " 'phone': 1,\n",
       " 'plane': 2,\n",
       " 'plane!': 1,\n",
       " 'plans.': 1,\n",
       " 'please': 1,\n",
       " 'plug': 1,\n",
       " 'pm': 1,\n",
       " 'poor': 1,\n",
       " 'positive': 1,\n",
       " 'possibility': 1,\n",
       " 'poster': 1,\n",
       " 'potentially': 1,\n",
       " 'pretty': 2,\n",
       " 'previous': 1,\n",
       " 'previously': 1,\n",
       " 'process.': 1,\n",
       " 'pulling': 1,\n",
       " 'purchased.': 1,\n",
       " 'quarter': 1,\n",
       " 'raining.': 1,\n",
       " 'random': 1,\n",
       " 'reach': 6,\n",
       " 'really': 3,\n",
       " 'related': 1,\n",
       " 'replying,': 1,\n",
       " 'request': 1,\n",
       " 'response': 1,\n",
       " 'right': 2,\n",
       " 'rise': 1,\n",
       " 'rolling': 1,\n",
       " 'room,': 1,\n",
       " 'room.': 1,\n",
       " 'rough.': 1,\n",
       " 'route': 1,\n",
       " 'run': 1,\n",
       " 'say,': 1,\n",
       " 'saying': 1,\n",
       " 'scheduled': 1,\n",
       " 'season...': 1,\n",
       " 'seat,': 1,\n",
       " 'security.': 1,\n",
       " 'see': 4,\n",
       " 'selfie,': 1,\n",
       " 'send': 1,\n",
       " 'service': 1,\n",
       " 'service...': 1,\n",
       " 'severe': 1,\n",
       " 'shall': 1,\n",
       " 'shes': 1,\n",
       " 'shirt': 1,\n",
       " 'shirt!': 2,\n",
       " 'should': 2,\n",
       " 'shoutout': 1,\n",
       " 'show': 4,\n",
       " 'showing': 1,\n",
       " 'since': 1,\n",
       " 'sky?': 1,\n",
       " 'so': 8,\n",
       " 'some': 2,\n",
       " 'something': 1,\n",
       " 'soon': 1,\n",
       " 'sooner': 1,\n",
       " 'sorry': 3,\n",
       " 'space).': 1,\n",
       " 'speak': 1,\n",
       " 'specific': 2,\n",
       " 'spent': 1,\n",
       " 'standby.': 1,\n",
       " 'star': 1,\n",
       " 'start': 1,\n",
       " 'started': 1,\n",
       " 'states': 1,\n",
       " 'states,': 1,\n",
       " 'status': 2,\n",
       " 'status?': 1,\n",
       " 'still': 1,\n",
       " 'stop': 1,\n",
       " 'stream': 1,\n",
       " 'suck.': 1,\n",
       " 'suggest': 1,\n",
       " 'support': 1,\n",
       " 'sure': 2,\n",
       " 'surprised': 1,\n",
       " 'switching': 1,\n",
       " 'system': 1,\n",
       " 'system.': 1,\n",
       " 'tad': 1,\n",
       " 'take': 5,\n",
       " 'team': 1,\n",
       " 'tell': 1,\n",
       " 'tells': 1,\n",
       " 'thank-you': 1,\n",
       " 'thanks': 1,\n",
       " 'that': 22,\n",
       " 'that,': 1,\n",
       " 'that.': 2,\n",
       " 'thats': 2,\n",
       " 'the': 72,\n",
       " 'their': 3,\n",
       " 'them': 2,\n",
       " 'them.': 1,\n",
       " 'there': 7,\n",
       " 'there!': 1,\n",
       " 'theres': 1,\n",
       " 'they': 2,\n",
       " 'theyll': 1,\n",
       " 'thing': 1,\n",
       " 'this': 5,\n",
       " 'this,': 1,\n",
       " 'tho,': 1,\n",
       " 'through': 1,\n",
       " 'throughout': 1,\n",
       " 'ticket': 2,\n",
       " 'tight': 1,\n",
       " 'time': 7,\n",
       " 'time!': 1,\n",
       " 'time.': 2,\n",
       " 'times': 1,\n",
       " 'times,': 1,\n",
       " 'to': 68,\n",
       " 'today!': 1,\n",
       " 'today,': 1,\n",
       " 'today.': 2,\n",
       " 'tolerable.': 1,\n",
       " 'tonight': 2,\n",
       " 'tonight.': 3,\n",
       " 'too': 1,\n",
       " 'too!': 1,\n",
       " 'too.': 1,\n",
       " 'train!': 1,\n",
       " 'travel': 2,\n",
       " 'travels!': 1,\n",
       " 'trick!': 1,\n",
       " 'trickled': 1,\n",
       " 'try': 1,\n",
       " 'turns': 1,\n",
       " 'tweet': 1,\n",
       " 'tweeting': 1,\n",
       " 'two': 2,\n",
       " 'u': 1,\n",
       " 'understand': 2,\n",
       " 'until': 1,\n",
       " 'up': 6,\n",
       " 'up,': 1,\n",
       " 'up-to-date': 1,\n",
       " 'up-to-date).': 1,\n",
       " 'update': 2,\n",
       " 'update.': 1,\n",
       " 'updated': 5,\n",
       " 'updates': 1,\n",
       " 'updates.': 2,\n",
       " 'updates?': 2,\n",
       " 'us': 10,\n",
       " 'us.': 1,\n",
       " 'us?': 1,\n",
       " 'use': 2,\n",
       " 'usually': 1,\n",
       " 'very': 1,\n",
       " 'view.': 1,\n",
       " 'visit': 1,\n",
       " 'wait': 4,\n",
       " 'wait,': 2,\n",
       " 'wait.': 1,\n",
       " 'waiting': 7,\n",
       " 'want': 3,\n",
       " 'was': 5,\n",
       " 'way': 6,\n",
       " 'we': 18,\n",
       " 'weather': 9,\n",
       " 'weather,': 1,\n",
       " 'weather.': 1,\n",
       " 'weather?': 2,\n",
       " 'wed': 1,\n",
       " 'weeks': 1,\n",
       " 'well': 6,\n",
       " 'well!': 1,\n",
       " 'were': 5,\n",
       " 'what': 2,\n",
       " 'whats': 1,\n",
       " 'when': 6,\n",
       " 'where': 2,\n",
       " 'wheres': 1,\n",
       " 'which': 1,\n",
       " 'why': 3,\n",
       " 'will': 6,\n",
       " 'will.': 1,\n",
       " 'willing': 1,\n",
       " 'window': 1,\n",
       " 'wish': 1,\n",
       " 'with': 11,\n",
       " 'with,': 1,\n",
       " 'within': 1,\n",
       " 'work': 1,\n",
       " 'worked': 1,\n",
       " 'worked,': 1,\n",
       " 'worker': 1,\n",
       " 'working': 4,\n",
       " 'working?': 1,\n",
       " 'world': 1,\n",
       " 'would': 2,\n",
       " 'yall.': 1,\n",
       " 'yes.': 1,\n",
       " 'yet': 1,\n",
       " 'yet.': 1,\n",
       " 'you': 39,\n",
       " 'you!': 1,\n",
       " 'you,': 3,\n",
       " 'you.': 8,\n",
       " 'you?': 1,\n",
       " 'youll': 2,\n",
       " 'your': 37,\n",
       " 'youre': 4,\n",
       " 'zone': 1,\n",
       " '\\xe2\\x80\\x9cNo': 1,\n",
       " '\\xe2\\x80\\xa6': 1}"
      ]
     },
     "execution_count": 228,
     "metadata": {},
     "output_type": "execute_result"
    }
   ],
   "source": [
    "dict(sortedFreq)"
   ]
  },
  {
   "cell_type": "code",
   "execution_count": 309,
   "metadata": {
    "collapsed": false
   },
   "outputs": [],
   "source": [
    "#plt.plot([i for i in range(len(sortedFreq))],sortedFreq)"
   ]
  },
  {
   "cell_type": "code",
   "execution_count": null,
   "metadata": {
    "collapsed": true
   },
   "outputs": [],
   "source": []
  },
  {
   "cell_type": "code",
   "execution_count": 87,
   "metadata": {
    "collapsed": false
   },
   "outputs": [
    {
     "name": "stdout",
     "output_type": "stream",
     "text": [
      "Think Ill make my 6:50am @JetBlue flight out of Ft Lauderdale airport? @MiamiHerald @Tomas_Regalado https://t.co/RPlcrcwzTA\n"
     ]
    }
   ],
   "source": [
    "print tweets.iloc[45185]['message']"
   ]
  },
  {
   "cell_type": "code",
   "execution_count": 185,
   "metadata": {
    "collapsed": false
   },
   "outputs": [
    {
     "name": "stdout",
     "output_type": "stream",
     "text": [
      "I always confuse @JetBlue crew members when I use this bag… “No I don’t work for JB… ish…”\n",
      "Wheels up to Boston! https://t.co/61fKRnYNpK\n"
     ]
    },
    {
     "data": {
      "text/plain": [
       "'I always confuse @JetBlue crew members when I use this bag\\xe2\\x80\\xa6 \\xe2\\x80\\x9cNo I don\\xe2\\x80\\x99t work for JB\\xe2\\x80\\xa6 ish\\xe2\\x80\\xa6\\xe2\\x80\\x9d\\nWheels up to Boston! https://t.co/61fKRnYNpK'"
      ]
     },
     "execution_count": 185,
     "metadata": {},
     "output_type": "execute_result"
    }
   ],
   "source": [
    "print tweets.iloc[45229]['message']\n",
    "tweets.iloc[45229]['message']"
   ]
  },
  {
   "cell_type": "code",
   "execution_count": 182,
   "metadata": {
    "collapsed": false
   },
   "outputs": [],
   "source": [
    "tknzr = TweetTokenizer()"
   ]
  },
  {
   "cell_type": "code",
   "execution_count": 183,
   "metadata": {
    "collapsed": false
   },
   "outputs": [
    {
     "data": {
      "text/plain": [
       "[u'I',\n",
       " u'always',\n",
       " u'confuse',\n",
       " u'@JetBlue',\n",
       " u'crew',\n",
       " u'members',\n",
       " u'when',\n",
       " u'I',\n",
       " u'use',\n",
       " u'this',\n",
       " u'bag',\n",
       " u'\\u2026',\n",
       " u'\\u201c',\n",
       " u'No',\n",
       " u'I',\n",
       " u'don',\n",
       " u'\\u2019',\n",
       " u't',\n",
       " u'work',\n",
       " u'for',\n",
       " u'JB',\n",
       " u'\\u2026',\n",
       " u'ish',\n",
       " u'\\u2026',\n",
       " u'\\u201d',\n",
       " u'Wheels',\n",
       " u'up',\n",
       " u'to',\n",
       " u'Boston',\n",
       " u'!',\n",
       " u'https://t.co/61fKRnYNpK']"
      ]
     },
     "execution_count": 183,
     "metadata": {},
     "output_type": "execute_result"
    }
   ],
   "source": [
    "tknzr.tokenize(tweets.iloc[45229]['message'])"
   ]
  },
  {
   "cell_type": "code",
   "execution_count": 200,
   "metadata": {
    "collapsed": false
   },
   "outputs": [
    {
     "data": {
      "text/plain": [
       "136"
      ]
     },
     "execution_count": 200,
     "metadata": {},
     "output_type": "execute_result"
    }
   ],
   "source": [
    "len(list(set(tweets.message)))"
   ]
  },
  {
   "cell_type": "code",
   "execution_count": 312,
   "metadata": {
    "collapsed": false
   },
   "outputs": [
    {
     "data": {
      "text/plain": [
       "['@otothebeirne:',\n",
       " '@jetblue!',\n",
       " '@jsa1987',\n",
       " '@juls7826l',\n",
       " '@thebowmaniac',\n",
       " '@____alyssa',\n",
       " '@1shirtsupport:',\n",
       " '@cyndynayer',\n",
       " '@itskizzlebtch',\n",
       " '@1shirtsupport',\n",
       " '@gamegrumps',\n",
       " '@jack_septic_eye',\n",
       " '@1shirtsupport',\n",
       " '@gillyannandale:',\n",
       " '@1shirtsupport',\n",
       " '@gamegrumps',\n",
       " '@jeff_harris_nz',\n",
       " '@therealkirka',\n",
       " '@zacxwolf',\n",
       " '@kibskelble',\n",
       " '@tyleroeaster',\n",
       " '@lladkins',\n",
       " '@lizgarciasells',\n",
       " '@jodyph1',\n",
       " '@katinka118',\n",
       " '@rosemariochoa',\n",
       " '@shawesum',\n",
       " '@1shirtsupport',\n",
       " '@irancampana',\n",
       " '@seanbarakett',\n",
       " '@jcalabrese87',\n",
       " '@meranierichtman',\n",
       " '@jetblue',\n",
       " '@miamiherald',\n",
       " '@tomas_regalado',\n",
       " '@acordov1',\n",
       " '@jetblue',\n",
       " '@slidingsideways',\n",
       " '@mike_gramajo',\n",
       " '@turms19',\n",
       " '@tyleroeaster',\n",
       " '@elleaydoubleyou',\n",
       " '@rp3_22',\n",
       " '@____alyssa',\n",
       " '@mlarosa84',\n",
       " '@wdelmolino',\n",
       " '@itskizzlebtch',\n",
       " '@jetblue',\n",
       " '@booksthatmatter',\n",
       " '@acordov1',\n",
       " '@clawng',\n",
       " '@nickjohnsoncnn',\n",
       " '@jsa1987',\n",
       " '@cariebrdshaw',\n",
       " '@nickarnheim',\n",
       " '@chemdivasitech',\n",
       " '@zbpolin',\n",
       " '@jack_septic_eye',\n",
       " '@1shirtsupport',\n",
       " '@ecarruthersjr',\n",
       " '@zacxwolf',\n",
       " '@sammy_butler',\n",
       " '@jsa1987',\n",
       " '@andrewctran',\n",
       " '@turms19',\n",
       " '@clawng',\n",
       " '@markiplier',\n",
       " '@1shirtsupport',\n",
       " '@wrc_of_ny',\n",
       " '@aaronmshaffer',\n",
       " '@littlefootlady',\n",
       " '@jeff_harris_nz',\n",
       " '@sammy_butler',\n",
       " '@mikemurdock703',\n",
       " '@mjonesto',\n",
       " '@simplerevolt',\n",
       " '@rp3_22',\n",
       " '@js_n_y_c',\n",
       " '@js_n_y_c',\n",
       " '@stopitdee',\n",
       " '@stephiscope',\n",
       " '@_yxngmami',\n",
       " '@slidingsideways',\n",
       " '@niagarcia03',\n",
       " '@buttercupevents',\n",
       " '@laryssastecyk',\n",
       " '@jeff_harris_nz',\n",
       " '@juliannabuck',\n",
       " '@nyjetlife',\n",
       " '@annabellae',\n",
       " '@heyheyman',\n",
       " '@rp3_22',\n",
       " '@cmg799',\n",
       " '@zacxwolf',\n",
       " '@1shirtsupport',\n",
       " '@gamegrumps',\n",
       " '@sammy_butler',\n",
       " '@sillymeeeee',\n",
       " '@carol_liz29',\n",
       " '@ddelmoli',\n",
       " '@jetblue',\n",
       " '@simplerevolt',\n",
       " '@united',\n",
       " '@jetblue',\n",
       " '@mike_gramajo',\n",
       " '@authorakansha:',\n",
       " '@jetblue',\n",
       " '@rp3_22',\n",
       " '@andrewctran',\n",
       " '@todd530:',\n",
       " '@bshieldswftv',\n",
       " '@rmccraniewftv',\n",
       " '@mjuricawftv',\n",
       " '@gwaldenwftv',\n",
       " '@jetblue',\n",
       " '@tterrywftv',\n",
       " '@sarendippity',\n",
       " '@photopickles',\n",
       " '@1shirtsupport',\n",
       " '@mikemurdock703',\n",
       " '@uygev2015',\n",
       " '@wrc_of_ny',\n",
       " '@js_n_y_c',\n",
       " '@mike_gramajo',\n",
       " '@mlarosa84',\n",
       " '@jsa1987',\n",
       " '@patrickm254',\n",
       " '@airababyfullam',\n",
       " '@jetblue',\n",
       " '@rubzica',\n",
       " '@turms19',\n",
       " '@united',\n",
       " '@jetblue',\n",
       " '@chris4851',\n",
       " '@okayrene',\n",
       " '@jetblue',\n",
       " '@1shirtsupport',\n",
       " '@mike_gramajo',\n",
       " '@juls7826l',\n",
       " '@ecarruthersjr',\n",
       " '@alfiealfonzo',\n",
       " '@acordov1',\n",
       " '@jsa1987',\n",
       " '@chris4851',\n",
       " '@jongad1',\n",
       " '@kibskelble',\n",
       " '@mike_gramajo',\n",
       " '@turms19',\n",
       " '@okayrene',\n",
       " '@westonbaker',\n",
       " '@aaronjperez',\n",
       " '@niagarcia03',\n",
       " '@jack_septic_eye:',\n",
       " '@1shirtsupport',\n",
       " '@laryssastecyk',\n",
       " '@cchiavetta',\n",
       " '@rubzica']"
      ]
     },
     "execution_count": 312,
     "metadata": {},
     "output_type": "execute_result"
    }
   ],
   "source": [
    "[i for i in wordList if i.startswith('#')]\n",
    "[i for i in wordList if i.startswith('@')]"
   ]
  },
  {
   "cell_type": "code",
   "execution_count": 370,
   "metadata": {
    "collapsed": false
   },
   "outputs": [
    {
     "name": "stdout",
     "output_type": "stream",
     "text": [
      "RT @OtotheBeirne: Excellent flight ?? @JetBlue! Question tho, if u knew flight was delayed in morning, why wait until 3ish to tell us? https…\n"
     ]
    },
    {
     "data": {
      "text/plain": [
       "[u'RT',\n",
       " u'@OtotheBeirne',\n",
       " u':',\n",
       " u'Excellent',\n",
       " u'flight',\n",
       " u'?',\n",
       " u'?',\n",
       " u'@JetBlue',\n",
       " u'!',\n",
       " u'Question',\n",
       " u'tho',\n",
       " u',',\n",
       " u'if',\n",
       " u'u',\n",
       " u'knew',\n",
       " u'flight',\n",
       " u'was',\n",
       " u'delayed',\n",
       " u'in',\n",
       " u'morning',\n",
       " u',',\n",
       " u'why',\n",
       " u'wait',\n",
       " u'until',\n",
       " u'3ish',\n",
       " u'to',\n",
       " u'tell',\n",
       " u'us',\n",
       " u'?',\n",
       " u'https',\n",
       " u'\\u2026']"
      ]
     },
     "execution_count": 370,
     "metadata": {},
     "output_type": "execute_result"
    }
   ],
   "source": [
    "print uniqTweets[0]\n",
    "tknzr.tokenize(uniqTweets[0])"
   ]
  },
  {
   "cell_type": "markdown",
   "metadata": {},
   "source": [
    "# Some sklearn stuff"
   ]
  },
  {
   "cell_type": "code",
   "execution_count": null,
   "metadata": {
    "collapsed": true
   },
   "outputs": [],
   "source": []
  },
  {
   "cell_type": "code",
   "execution_count": 373,
   "metadata": {
    "collapsed": true
   },
   "outputs": [],
   "source": [
    "from sklearn.feature_extraction import DictVectorizer"
   ]
  },
  {
   "cell_type": "code",
   "execution_count": 374,
   "metadata": {
    "collapsed": true
   },
   "outputs": [],
   "source": [
    "measurements = [\n",
    "...     {'city': 'Dubai', 'temperature': 33.},\n",
    "...     {'city': 'London', 'temperature': 12.},\n",
    "...     {'city': 'San Fransisco', 'temperature': 18.},\n",
    "... ]"
   ]
  },
  {
   "cell_type": "code",
   "execution_count": 377,
   "metadata": {
    "collapsed": false
   },
   "outputs": [],
   "source": [
    "vec = DictVectorizer()"
   ]
  },
  {
   "cell_type": "code",
   "execution_count": 378,
   "metadata": {
    "collapsed": false
   },
   "outputs": [
    {
     "data": {
      "text/plain": [
       "array([[  1.,   0.,   0.,  33.],\n",
       "       [  0.,   1.,   0.,  12.],\n",
       "       [  0.,   0.,   1.,  18.]])"
      ]
     },
     "execution_count": 378,
     "metadata": {},
     "output_type": "execute_result"
    }
   ],
   "source": [
    "vec.fit_transform(measurements).toarray()"
   ]
  },
  {
   "cell_type": "code",
   "execution_count": 379,
   "metadata": {
    "collapsed": false
   },
   "outputs": [
    {
     "data": {
      "text/plain": [
       "['city=Dubai', 'city=London', 'city=San Fransisco', 'temperature']"
      ]
     },
     "execution_count": 379,
     "metadata": {},
     "output_type": "execute_result"
    }
   ],
   "source": [
    "vec.get_feature_names()"
   ]
  },
  {
   "cell_type": "code",
   "execution_count": null,
   "metadata": {
    "collapsed": true
   },
   "outputs": [],
   "source": []
  },
  {
   "cell_type": "code",
   "execution_count": null,
   "metadata": {
    "collapsed": true
   },
   "outputs": [],
   "source": []
  },
  {
   "cell_type": "code",
   "execution_count": 380,
   "metadata": {
    "collapsed": true
   },
   "outputs": [],
   "source": [
    "from sklearn.feature_extraction.text import CountVectorizer"
   ]
  },
  {
   "cell_type": "code",
   "execution_count": 382,
   "metadata": {
    "collapsed": false
   },
   "outputs": [
    {
     "data": {
      "text/plain": [
       "CountVectorizer(analyzer=u'word', binary=False, decode_error=u'strict',\n",
       "        dtype=<type 'numpy.int64'>, encoding=u'utf-8', input=u'content',\n",
       "        lowercase=True, max_df=1.0, max_features=None, min_df=1,\n",
       "        ngram_range=(1, 1), preprocessor=None, stop_words=None,\n",
       "        strip_accents=None, token_pattern=u'(?u)\\\\b\\\\w\\\\w+\\\\b',\n",
       "        tokenizer=None, vocabulary=None)"
      ]
     },
     "execution_count": 382,
     "metadata": {},
     "output_type": "execute_result"
    }
   ],
   "source": [
    "vectorizer = CountVectorizer(min_df=1)\n",
    "vectorizer             "
   ]
  },
  {
   "cell_type": "code",
   "execution_count": 383,
   "metadata": {
    "collapsed": false
   },
   "outputs": [
    {
     "data": {
      "text/plain": [
       "<4x9 sparse matrix of type '<type 'numpy.int64'>'\n",
       "\twith 19 stored elements in Compressed Sparse Row format>"
      ]
     },
     "execution_count": 383,
     "metadata": {},
     "output_type": "execute_result"
    }
   ],
   "source": [
    ">>> corpus = [\n",
    "...     'This is the first document.',\n",
    "...     'This is the second second document.',\n",
    "...     'And the third one.',\n",
    "...     'Is this the first document?',\n",
    "... ]\n",
    ">>> X = vectorizer.fit_transform(corpus)\n",
    ">>> X             "
   ]
  },
  {
   "cell_type": "code",
   "execution_count": 385,
   "metadata": {
    "collapsed": false
   },
   "outputs": [
    {
     "data": {
      "text/plain": [
       "True"
      ]
     },
     "execution_count": 385,
     "metadata": {},
     "output_type": "execute_result"
    }
   ],
   "source": [
    ">>> analyze = vectorizer.build_analyzer()\n",
    ">>> analyze(\"This is a text document to analyze.\") == (\n",
    "...     ['this', 'is', 'text', 'document', 'to', 'analyze'])\n"
   ]
  },
  {
   "cell_type": "code",
   "execution_count": 386,
   "metadata": {
    "collapsed": false
   },
   "outputs": [
    {
     "data": {
      "text/plain": [
       "array([[0, 1, 1, 1, 0, 0, 1, 0, 1],\n",
       "       [0, 1, 0, 1, 0, 2, 1, 0, 1],\n",
       "       [1, 0, 0, 0, 1, 0, 1, 1, 0],\n",
       "       [0, 1, 1, 1, 0, 0, 1, 0, 1]])"
      ]
     },
     "execution_count": 386,
     "metadata": {},
     "output_type": "execute_result"
    }
   ],
   "source": [
    ">>> vectorizer.get_feature_names() == (\n",
    "...     ['and', 'document', 'first', 'is', 'one',\n",
    "...      'second', 'the', 'third', 'this'])\n",
    "True\n",
    "\n",
    ">>> X.toarray()           "
   ]
  },
  {
   "cell_type": "code",
   "execution_count": 387,
   "metadata": {
    "collapsed": false
   },
   "outputs": [
    {
     "data": {
      "text/plain": [
       "1"
      ]
     },
     "execution_count": 387,
     "metadata": {},
     "output_type": "execute_result"
    }
   ],
   "source": [
    ">>> vectorizer.vocabulary_.get('document')"
   ]
  },
  {
   "cell_type": "code",
   "execution_count": 388,
   "metadata": {
    "collapsed": false
   },
   "outputs": [
    {
     "data": {
      "text/plain": [
       "array([[0, 0, 0, 0, 0, 0, 0, 0, 0]])"
      ]
     },
     "execution_count": 388,
     "metadata": {},
     "output_type": "execute_result"
    }
   ],
   "source": [
    ">>> vectorizer.transform(['Something completely new.']).toarray()"
   ]
  },
  {
   "cell_type": "code",
   "execution_count": 389,
   "metadata": {
    "collapsed": false
   },
   "outputs": [
    {
     "data": {
      "text/plain": [
       "True"
      ]
     },
     "execution_count": 389,
     "metadata": {},
     "output_type": "execute_result"
    }
   ],
   "source": [
    ">>> bigram_vectorizer = CountVectorizer(ngram_range=(1, 2),\n",
    "...                                     token_pattern=r'\\b\\w+\\b', min_df=1)\n",
    ">>> analyze = bigram_vectorizer.build_analyzer()\n",
    ">>> analyze('Bi-grams are cool!') == (\n",
    "...     ['bi', 'grams', 'are', 'cool', 'bi grams', 'grams are', 'are cool'])"
   ]
  },
  {
   "cell_type": "code",
   "execution_count": 390,
   "metadata": {
    "collapsed": false
   },
   "outputs": [
    {
     "data": {
      "text/plain": [
       "array([[0, 0, 1, 1, 1, 1, 1, 0, 0, 0, 0, 0, 1, 1, 0, 0, 0, 0, 1, 1, 0],\n",
       "       [0, 0, 1, 0, 0, 1, 1, 0, 0, 2, 1, 1, 1, 0, 1, 0, 0, 0, 1, 1, 0],\n",
       "       [1, 1, 0, 0, 0, 0, 0, 0, 1, 0, 0, 0, 1, 0, 0, 1, 1, 1, 0, 0, 0],\n",
       "       [0, 0, 1, 1, 1, 1, 0, 1, 0, 0, 0, 0, 1, 1, 0, 0, 0, 0, 1, 0, 1]])"
      ]
     },
     "execution_count": 390,
     "metadata": {},
     "output_type": "execute_result"
    }
   ],
   "source": [
    ">>> X_2 = bigram_vectorizer.fit_transform(corpus).toarray()\n",
    ">>> X_2"
   ]
  },
  {
   "cell_type": "code",
   "execution_count": 391,
   "metadata": {
    "collapsed": false
   },
   "outputs": [
    {
     "data": {
      "text/plain": [
       "array([0, 0, 0, 1])"
      ]
     },
     "execution_count": 391,
     "metadata": {},
     "output_type": "execute_result"
    }
   ],
   "source": [
    ">>> feature_index = bigram_vectorizer.vocabulary_.get('is this')\n",
    ">>> X_2[:, feature_index]     "
   ]
  },
  {
   "cell_type": "code",
   "execution_count": null,
   "metadata": {
    "collapsed": true
   },
   "outputs": [],
   "source": []
  },
  {
   "cell_type": "code",
   "execution_count": 394,
   "metadata": {
    "collapsed": false
   },
   "outputs": [],
   "source": [
    "from sklearn.datasets import fetch_20newsgroups\n",
    "from sklearn.decomposition import TruncatedSVD\n",
    "from sklearn.feature_extraction.text import TfidfVectorizer\n",
    "from sklearn.feature_extraction.text import HashingVectorizer\n",
    "from sklearn.feature_extraction.text import TfidfTransformer\n",
    "from sklearn.pipeline import make_pipeline\n",
    "from sklearn.preprocessing import Normalizer\n",
    "from sklearn import metrics\n",
    "\n",
    "from sklearn.cluster import KMeans, MiniBatchKMeans\n",
    "\n",
    "import logging\n",
    "from optparse import OptionParser\n",
    "import sys\n",
    "from time import time\n",
    "\n",
    "import numpy as np\n"
   ]
  },
  {
   "cell_type": "code",
   "execution_count": 395,
   "metadata": {
    "collapsed": false
   },
   "outputs": [
    {
     "name": "stdout",
     "output_type": "stream",
     "text": [
      "Loading 20 newsgroups dataset for categories:\n",
      "['alt.atheism', 'talk.religion.misc', 'comp.graphics', 'sci.space']\n"
     ]
    }
   ],
   "source": [
    "categories = [\n",
    "    'alt.atheism',\n",
    "    'talk.religion.misc',\n",
    "    'comp.graphics',\n",
    "    'sci.space',\n",
    "]\n",
    "# Uncomment the following to do the analysis on all the categories\n",
    "#categories = None\n",
    "\n",
    "print(\"Loading 20 newsgroups dataset for categories:\")\n",
    "print(categories)"
   ]
  },
  {
   "cell_type": "code",
   "execution_count": 396,
   "metadata": {
    "collapsed": true
   },
   "outputs": [],
   "source": [
    "dataset = fetch_20newsgroups(subset='all', categories=categories,\n",
    "                             shuffle=True, random_state=42)"
   ]
  },
  {
   "cell_type": "code",
   "execution_count": 400,
   "metadata": {
    "collapsed": false
   },
   "outputs": [
    {
     "name": "stdout",
     "output_type": "stream",
     "text": [
      "3387 documents\n",
      "4 categories\n",
      "\n"
     ]
    }
   ],
   "source": [
    "print(\"%d documents\" % len(dataset.data))\n",
    "print(\"%d categories\" % len(dataset.target_names))\n",
    "print()\n",
    "\n",
    "labels = dataset.target\n",
    "true_k = np.unique(labels).shape[0]"
   ]
  },
  {
   "cell_type": "code",
   "execution_count": 409,
   "metadata": {
    "collapsed": false
   },
   "outputs": [
    {
     "data": {
      "text/plain": [
       "['description', 'DESCR', 'filenames', 'target_names', 'data', 'target']"
      ]
     },
     "execution_count": 409,
     "metadata": {},
     "output_type": "execute_result"
    }
   ],
   "source": [
    "dataset.keys()\n",
    "#dataset['DESCR']"
   ]
  },
  {
   "cell_type": "code",
   "execution_count": 415,
   "metadata": {
    "collapsed": false
   },
   "outputs": [
    {
     "name": "stdout",
     "output_type": "stream",
     "text": [
      "Extracting features from the training dataset using a sparse vectorizer\n"
     ]
    }
   ],
   "source": [
    "use_hashing = True\n",
    "use_idf = True\n",
    "n_features = 10000\n",
    "\n",
    "print(\"Extracting features from the training dataset using a sparse vectorizer\")\n",
    "t0 = time()\n",
    "if use_hashing:\n",
    "    if use_idf:\n",
    "        # Perform an IDF normalization on the output of HashingVectorizer\n",
    "        hasher = HashingVectorizer(n_features=n_features,\n",
    "                                   stop_words='english', non_negative=True,\n",
    "                                   norm=None, binary=False)\n",
    "        vectorizer = make_pipeline(hasher, TfidfTransformer())\n",
    "    else:\n",
    "        vectorizer = HashingVectorizer(n_features=n_features,\n",
    "                                       stop_words='english',\n",
    "                                       non_negative=False, norm='l2',\n",
    "                                       binary=False)\n",
    "else:\n",
    "    vectorizer = TfidfVectorizer(max_df=0.5, max_features=n_features,\n",
    "                                 min_df=2, stop_words='english',\n",
    "                                 use_idf=use_idf)\n",
    "X = vectorizer.fit_transform(dataset.data)\n"
   ]
  },
  {
   "cell_type": "code",
   "execution_count": 417,
   "metadata": {
    "collapsed": false
   },
   "outputs": [
    {
     "name": "stdout",
     "output_type": "stream",
     "text": [
      "done in 461.100359s\n",
      "n_samples: 3387, n_features: 10000\n",
      "\n"
     ]
    }
   ],
   "source": [
    "n_components = 0\n",
    "print(\"done in %fs\" % (time() - t0))\n",
    "print(\"n_samples: %d, n_features: %d\" % X.shape)\n",
    "print()\n",
    "\n",
    "if n_components:\n",
    "    print(\"Performing dimensionality reduction using LSA\")\n",
    "    t0 = time()\n",
    "    # Vectorizer results are normalized, which makes KMeans behave as\n",
    "    # spherical k-means for better results. Since LSA/SVD results are\n",
    "    # not normalized, we have to redo the normalization.\n",
    "    svd = TruncatedSVD(n_components)\n",
    "    normalizer = Normalizer(copy=False)\n",
    "    lsa = make_pipeline(svd, normalizer)\n",
    "\n",
    "    X = lsa.fit_transform(X)\n",
    "\n",
    "    print(\"done in %fs\" % (time() - t0))\n",
    "\n",
    "    explained_variance = svd.explained_variance_ratio_.sum()\n",
    "    print(\"Explained variance of the SVD step: {}%\".format(\n",
    "        int(explained_variance * 100)))\n",
    "\n",
    "    print()\n"
   ]
  },
  {
   "cell_type": "code",
   "execution_count": 422,
   "metadata": {
    "collapsed": false
   },
   "outputs": [
    {
     "name": "stdout",
     "output_type": "stream",
     "text": [
      "Clustering sparse data with MiniBatchKMeans(batch_size=1000, compute_labels=True, init='k-means++',\n",
      "        init_size=1000, max_iter=100, max_no_improvement=10, n_clusters=4,\n",
      "        n_init=1, random_state=None, reassignment_ratio=0.01, tol=0.0,\n",
      "        verbose=False)\n",
      "done in 0.134s\n",
      "\n",
      "Homogeneity: 0.467\n",
      "Completeness: 0.532\n",
      "V-measure: 0.497\n",
      "Adjusted Rand-Index: 0.403\n",
      "Silhouette Coefficient: 0.006\n",
      "\n"
     ]
    }
   ],
   "source": [
    "###############################################################################\n",
    "# Do the actual clustering\n",
    "\n",
    "minibatchBool = True\n",
    "verboseBool = False\n",
    "\n",
    "if minibatchBool:\n",
    "    km = MiniBatchKMeans(n_clusters=true_k, init='k-means++', n_init=1,\n",
    "                         init_size=1000, batch_size=1000, verbose=verboseBool)\n",
    "else:\n",
    "    km = KMeans(n_clusters=true_k, init='k-means++', max_iter=100, n_init=1,\n",
    "                verbose=opts.verbose)\n",
    "\n",
    "print(\"Clustering sparse data with %s\" % km)\n",
    "t0 = time()\n",
    "km.fit(X)\n",
    "print(\"done in %0.3fs\" % (time() - t0))\n",
    "print()\n",
    "\n",
    "print(\"Homogeneity: %0.3f\" % metrics.homogeneity_score(labels, km.labels_))\n",
    "print(\"Completeness: %0.3f\" % metrics.completeness_score(labels, km.labels_))\n",
    "print(\"V-measure: %0.3f\" % metrics.v_measure_score(labels, km.labels_))\n",
    "print(\"Adjusted Rand-Index: %.3f\"\n",
    "      % metrics.adjusted_rand_score(labels, km.labels_))\n",
    "print(\"Silhouette Coefficient: %0.3f\"\n",
    "      % metrics.silhouette_score(X, km.labels_, sample_size=1000))\n",
    "\n",
    "print()"
   ]
  },
  {
   "cell_type": "code",
   "execution_count": 428,
   "metadata": {
    "collapsed": false
   },
   "outputs": [
    {
     "name": "stdout",
     "output_type": "stream",
     "text": [
      "Top terms per cluster:\n"
     ]
    },
    {
     "ename": "AttributeError",
     "evalue": "'Pipeline' object has no attribute 'get_feature_names'",
     "output_type": "error",
     "traceback": [
      "\u001b[0;31m---------------------------------------------------------------------------\u001b[0m",
      "\u001b[0;31mAttributeError\u001b[0m                            Traceback (most recent call last)",
      "\u001b[0;32m<ipython-input-428-7e4e5b162d48>\u001b[0m in \u001b[0;36m<module>\u001b[0;34m()\u001b[0m\n\u001b[1;32m     10\u001b[0m         \u001b[0morder_centroids\u001b[0m \u001b[0;34m=\u001b[0m \u001b[0mkm\u001b[0m\u001b[0;34m.\u001b[0m\u001b[0mcluster_centers_\u001b[0m\u001b[0;34m.\u001b[0m\u001b[0margsort\u001b[0m\u001b[0;34m(\u001b[0m\u001b[0;34m)\u001b[0m\u001b[0;34m[\u001b[0m\u001b[0;34m:\u001b[0m\u001b[0;34m,\u001b[0m \u001b[0;34m:\u001b[0m\u001b[0;34m:\u001b[0m\u001b[0;34m-\u001b[0m\u001b[0;36m1\u001b[0m\u001b[0;34m]\u001b[0m\u001b[0;34m\u001b[0m\u001b[0m\n\u001b[1;32m     11\u001b[0m \u001b[0;34m\u001b[0m\u001b[0m\n\u001b[0;32m---> 12\u001b[0;31m     \u001b[0mterms\u001b[0m \u001b[0;34m=\u001b[0m \u001b[0mvectorizer\u001b[0m\u001b[0;34m.\u001b[0m\u001b[0mget_feature_names\u001b[0m\u001b[0;34m(\u001b[0m\u001b[0;34m)\u001b[0m\u001b[0;34m\u001b[0m\u001b[0m\n\u001b[0m\u001b[1;32m     13\u001b[0m     \u001b[0;32mfor\u001b[0m \u001b[0mi\u001b[0m \u001b[0;32min\u001b[0m \u001b[0mrange\u001b[0m\u001b[0;34m(\u001b[0m\u001b[0mtrue_k\u001b[0m\u001b[0;34m)\u001b[0m\u001b[0;34m:\u001b[0m\u001b[0;34m\u001b[0m\u001b[0m\n\u001b[1;32m     14\u001b[0m         \u001b[0;32mprint\u001b[0m\u001b[0;34m(\u001b[0m\u001b[0;34m\"Cluster %d:\"\u001b[0m \u001b[0;34m%\u001b[0m \u001b[0mi\u001b[0m\u001b[0;34m,\u001b[0m \u001b[0mend\u001b[0m\u001b[0;34m=\u001b[0m\u001b[0;34m''\u001b[0m\u001b[0;34m)\u001b[0m\u001b[0;34m\u001b[0m\u001b[0m\n",
      "\u001b[0;31mAttributeError\u001b[0m: 'Pipeline' object has no attribute 'get_feature_names'"
     ]
    }
   ],
   "source": [
    "use_hashing = False\n",
    "\n",
    "if not use_hashing:\n",
    "    print(\"Top terms per cluster:\")\n",
    "\n",
    "    if n_components:\n",
    "        original_space_centroids = svd.inverse_transform(km.cluster_centers_)\n",
    "        order_centroids = original_space_centroids.argsort()[:, ::-1]\n",
    "    else:\n",
    "        order_centroids = km.cluster_centers_.argsort()[:, ::-1]\n",
    "\n",
    "    terms = vectorizer.get_feature_names()\n",
    "    for i in range(true_k):\n",
    "        print(\"Cluster %d:\" % i, end='')\n",
    "        for ind in order_centroids[i, :10]:\n",
    "            print(' %s' % terms[ind], end='')\n",
    "        print()"
   ]
  },
  {
   "cell_type": "code",
   "execution_count": null,
   "metadata": {
    "collapsed": true
   },
   "outputs": [],
   "source": []
  }
 ],
 "metadata": {
  "kernelspec": {
   "display_name": "Python 2",
   "language": "python",
   "name": "python2"
  },
  "language_info": {
   "codemirror_mode": {
    "name": "ipython",
    "version": 2
   },
   "file_extension": ".py",
   "mimetype": "text/x-python",
   "name": "python",
   "nbconvert_exporter": "python",
   "pygments_lexer": "ipython2",
   "version": "2.7.11"
  }
 },
 "nbformat": 4,
 "nbformat_minor": 0
}
