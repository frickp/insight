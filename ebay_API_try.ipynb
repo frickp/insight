{
 "cells": [
  {
   "cell_type": "markdown",
   "metadata": {},
   "source": [
    "#### For website scraping:\n",
    "1. get list of links\n",
    "2. on each list of links get links for each item\n",
    "3. on each phone\n",
    "    a. get price\n",
    "    b. follow the bid history\n",
    "4. For each bid history\n",
    "    a. get the bid time\n",
    "    b. get the bid price\n",
    "    c. follow the bid id\n",
    "5. For each bidder\n",
    "    a. Count the number of winning bids\n",
    "    "
   ]
  },
  {
   "cell_type": "code",
   "execution_count": null,
   "metadata": {
    "collapsed": true
   },
   "outputs": [],
   "source": []
  },
  {
   "cell_type": "code",
   "execution_count": null,
   "metadata": {
    "collapsed": true
   },
   "outputs": [],
   "source": [
    "#Important links"
   ]
  },
  {
   "cell_type": "code",
   "execution_count": 44,
   "metadata": {
    "collapsed": false
   },
   "outputs": [],
   "source": [
    "import datetime\n",
    "import requests\n",
    "import json\n",
    "\n",
    "from ebaysdk.exception import ConnectionError\n",
    "from ebaysdk.finding import Connection\n",
    "\n",
    "try:\n",
    "    api = Connection(appid='InsightD-ecae-4c28-acfa-bbd8b736936b', config_file=None)\n",
    "    response = api.execute('findItemsAdvanced', {'keywords': 'legos'})\n",
    "\n",
    "    assert(response.reply.ack == 'Success')\n",
    "    assert(type(response.reply.timestamp) == datetime.datetime)\n",
    "    assert(type(response.reply.searchResult.item) == list)\n",
    "\n",
    "    item = response.reply.searchResult.item[0]\n",
    "    assert(type(item.listingInfo.endTime) == datetime.datetime)\n",
    "    assert(type(response.dict()) == dict)\n",
    "\n",
    "except ConnectionError as e:\n",
    "    print(e)\n",
    "    print(e.response.dict())"
   ]
  },
  {
   "cell_type": "code",
   "execution_count": 93,
   "metadata": {
    "collapsed": false
   },
   "outputs": [],
   "source": [
    "#response = api.execute('findItemsAdvanced', {'keywords': 'iphone'})\n",
    "response = api.execute('findCompletedItems', {'keywords': 'iphone'},{'PaginationInput': 99})"
   ]
  },
  {
   "cell_type": "code",
   "execution_count": 72,
   "metadata": {
    "collapsed": false
   },
   "outputs": [],
   "source": [
    "#response.dict()"
   ]
  },
  {
   "cell_type": "code",
   "execution_count": 96,
   "metadata": {
    "collapsed": false
   },
   "outputs": [
    {
     "data": {
      "text/plain": [
       "{u'autoPay': u'false',\n",
       " u'condition': {u'conditionDisplayName': u'Used', u'conditionId': u'3000'},\n",
       " u'country': u'US',\n",
       " u'galleryURL': u'http://thumbs1.ebaystatic.com/m/mBI0BldkNxagtX53bA7Opyw/140.jpg',\n",
       " u'globalId': u'EBAY-US',\n",
       " u'isMultiVariationListing': u'false',\n",
       " u'itemId': u'262226425088',\n",
       " u'listingInfo': {u'bestOfferEnabled': u'false',\n",
       "  u'buyItNowAvailable': u'false',\n",
       "  u'endTime': u'2016-01-13T02:05:42.000Z',\n",
       "  u'gift': u'false',\n",
       "  u'listingType': u'Auction',\n",
       "  u'startTime': u'2016-01-06T02:05:42.000Z'},\n",
       " u'location': u'Fairbanks,AK,USA',\n",
       " u'paymentMethod': u'PayPal',\n",
       " u'postalCode': u'99708',\n",
       " u'primaryCategory': {u'categoryId': u'9355',\n",
       "  u'categoryName': u'Cell Phones & Smartphones'},\n",
       " u'productId': {u'_type': u'ReferenceID', u'value': u'168553410'},\n",
       " u'returnsAccepted': u'false',\n",
       " u'sellingStatus': {u'bidCount': u'29',\n",
       "  u'convertedCurrentPrice': {u'_currencyId': u'USD', u'value': u'170.0'},\n",
       "  u'currentPrice': {u'_currencyId': u'USD', u'value': u'170.0'},\n",
       "  u'sellingState': u'EndedWithSales'},\n",
       " u'shippingInfo': {u'expeditedShipping': u'true',\n",
       "  u'handlingTime': u'2',\n",
       "  u'oneDayShippingAvailable': u'false',\n",
       "  u'shipToLocations': [u'US',\n",
       "   u'CA',\n",
       "   u'GB',\n",
       "   u'AU',\n",
       "   u'AT',\n",
       "   u'BE',\n",
       "   u'FR',\n",
       "   u'DE',\n",
       "   u'IT',\n",
       "   u'JP',\n",
       "   u'ES',\n",
       "   u'TW',\n",
       "   u'NL',\n",
       "   u'CN',\n",
       "   u'HK',\n",
       "   u'MX',\n",
       "   u'DK',\n",
       "   u'RO',\n",
       "   u'SK',\n",
       "   u'BG',\n",
       "   u'CZ',\n",
       "   u'FI',\n",
       "   u'HU',\n",
       "   u'LV',\n",
       "   u'LT',\n",
       "   u'MT',\n",
       "   u'EE',\n",
       "   u'GR',\n",
       "   u'PT',\n",
       "   u'CY',\n",
       "   u'SI',\n",
       "   u'SE',\n",
       "   u'KR',\n",
       "   u'ID',\n",
       "   u'TH',\n",
       "   u'IE',\n",
       "   u'PL',\n",
       "   u'RU',\n",
       "   u'IL',\n",
       "   u'NZ'],\n",
       "  u'shippingType': u'Calculated'},\n",
       " u'title': u'Apple iPhone 5s - 16GB - Space Gray (AT&T) Smartphone',\n",
       " u'topRatedListing': u'false',\n",
       " u'viewItemURL': u'http://www.ebay.com/itm/Apple-iPhone-5s-16GB-Space-Gray-AT-T-Smartphone-/262226425088'}"
      ]
     },
     "execution_count": 96,
     "metadata": {},
     "output_type": "execute_result"
    }
   ],
   "source": [
    "#response.dict()\n",
    "#response.json()\n",
    "\n",
    "json.loads(response.json())['searchResult']['item'][99]\n",
    "\n",
    "#json_string = u'{ \"id\":\"123456789\", ... }'\n",
    "#obj = json.loads(json_string)    # obj now contains a dict of the data\n",
    "\n"
   ]
  },
  {
   "cell_type": "markdown",
   "metadata": {},
   "source": [
    "\n",
    "Name:\n",
    "Key Set 1 Edit Name\n",
    "DEVID:\n",
    "70cfa512-f2c4-4b87-8b80-e01cb88a15f7\n",
    "AppID:\n",
    "InsightD-8ad7-41c8-a284-0a747fcdab9c\n",
    "CertID:\n",
    "da9fd072-d3a8-4160-afa0-43759bab3118"
   ]
  },
  {
   "cell_type": "code",
   "execution_count": null,
   "metadata": {
    "collapsed": true
   },
   "outputs": [],
   "source": []
  }
 ],
 "metadata": {
  "kernelspec": {
   "display_name": "Python 2",
   "language": "python",
   "name": "python2"
  },
  "language_info": {
   "codemirror_mode": {
    "name": "ipython",
    "version": 2
   },
   "file_extension": ".py",
   "mimetype": "text/x-python",
   "name": "python",
   "nbconvert_exporter": "python",
   "pygments_lexer": "ipython2",
   "version": "2.7.11"
  }
 },
 "nbformat": 4,
 "nbformat_minor": 0
}
